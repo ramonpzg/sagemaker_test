{
 "cells": [
  {
   "cell_type": "markdown",
   "id": "ea674d59",
   "metadata": {},
   "source": [
    "# Intro to Natural Language Processing "
   ]
  },
  {
   "cell_type": "markdown",
   "id": "6f79a17c",
   "metadata": {},
   "source": [
    "> \"You shall know a word by the company it keeps.\" ~ John R. Firth"
   ]
  },
  {
   "cell_type": "markdown",
   "id": "3fa6457c",
   "metadata": {},
   "source": [
    "![img](https://cdn.shopify.com/s/files/1/0867/3580/products/vinyl_decal_hello_words_cloud_ig4779_1800x1800.jpg?v=1571439560)"
   ]
  },
  {
   "cell_type": "markdown",
   "id": "4086650d",
   "metadata": {
    "tags": []
   },
   "source": [
    "## Learning Outcomes"
   ]
  },
  {
   "cell_type": "markdown",
   "id": "f57d76b4",
   "metadata": {
    "tags": []
   },
   "source": [
    "By the end of this tutorial you will\n",
    "\n",
    "1. Have a better understanding of what is natural language processing and what are some of its applications.\n",
    "2. Learn about the root of a word, what is means, and why we use them.\n",
    "3. Be able to create a recommendation system based on text similarity.\n",
    "5. Understand how to put together a simple app using panel.\n",
    "\n",
    "Assumptions about you\n",
    "\n",
    "- Have at least 1 year of coding experience in Python.\n",
    "- Are comfortable with loops, functions, lists comprehensions, and if-else statements.\n",
    "- Have some knowledge of pandas and NumPy.\n",
    "- Have at least 15 GB of free space in your computer.\n",
    "- While it is not required to have experience using Jupyter Notebooks, this would be very beneficial for the session.\n",
    "\n",
    "What this tutorial is not\n",
    "\n",
    "- A deep dive into Natural Language Processing.\n",
    "- A deep learning tutorial.\n",
    "- A web application tutorial."
   ]
  },
  {
   "cell_type": "markdown",
   "id": "3812d3aa",
   "metadata": {
    "tags": []
   },
   "source": [
    "## Table of Contents"
   ]
  },
  {
   "cell_type": "markdown",
   "id": "41e068da",
   "metadata": {},
   "source": [
    "1. Libraries\n",
    "2. The Data\n",
    "3. Flash NLP Intro\n",
    "4. Cleaning\n",
    "5. Recommendation System\n",
    "6. Summary"
   ]
  },
  {
   "cell_type": "markdown",
   "id": "77dd8621",
   "metadata": {},
   "source": [
    "## 1. Libraries"
   ]
  },
  {
   "cell_type": "markdown",
   "id": "34491fee",
   "metadata": {},
   "source": [
    "Download the following libraries, if not available already."
   ]
  },
  {
   "cell_type": "code",
   "execution_count": 3,
   "id": "7a0e7ea5",
   "metadata": {
    "scrolled": true
   },
   "outputs": [
    {
     "name": "stdout",
     "output_type": "stream",
     "text": [
      "Requirement already satisfied: spacy in /home/ramonperez/anaconda/envs/aws_demo/lib/python3.9/site-packages (3.4.0)\n",
      "Requirement already satisfied: panel in /home/ramonperez/anaconda/envs/aws_demo/lib/python3.9/site-packages (0.13.1)\n",
      "Requirement already satisfied: cymem<2.1.0,>=2.0.2 in /home/ramonperez/anaconda/envs/aws_demo/lib/python3.9/site-packages (from spacy) (2.0.6)\n",
      "Requirement already satisfied: numpy>=1.15.0 in /home/ramonperez/anaconda/envs/aws_demo/lib/python3.9/site-packages (from spacy) (1.21.1)\n",
      "Requirement already satisfied: catalogue<2.1.0,>=2.0.6 in /home/ramonperez/anaconda/envs/aws_demo/lib/python3.9/site-packages (from spacy) (2.0.7)\n",
      "Requirement already satisfied: typer<0.5.0,>=0.3.0 in /home/ramonperez/anaconda/envs/aws_demo/lib/python3.9/site-packages (from spacy) (0.4.2)\n",
      "Requirement already satisfied: requests<3.0.0,>=2.13.0 in /home/ramonperez/anaconda/envs/aws_demo/lib/python3.9/site-packages (from spacy) (2.28.1)\n",
      "Requirement already satisfied: pathy>=0.3.5 in /home/ramonperez/anaconda/envs/aws_demo/lib/python3.9/site-packages (from spacy) (0.6.2)\n",
      "Requirement already satisfied: preshed<3.1.0,>=3.0.2 in /home/ramonperez/anaconda/envs/aws_demo/lib/python3.9/site-packages (from spacy) (3.0.6)\n",
      "Requirement already satisfied: pydantic!=1.8,!=1.8.1,<1.10.0,>=1.7.4 in /home/ramonperez/anaconda/envs/aws_demo/lib/python3.9/site-packages (from spacy) (1.9.1)\n",
      "Requirement already satisfied: srsly<3.0.0,>=2.4.3 in /home/ramonperez/anaconda/envs/aws_demo/lib/python3.9/site-packages (from spacy) (2.4.3)\n",
      "Requirement already satisfied: packaging>=20.0 in /home/ramonperez/anaconda/envs/aws_demo/lib/python3.9/site-packages (from spacy) (21.3)\n",
      "Requirement already satisfied: spacy-loggers<2.0.0,>=1.0.0 in /home/ramonperez/anaconda/envs/aws_demo/lib/python3.9/site-packages (from spacy) (1.0.3)\n",
      "Requirement already satisfied: langcodes<4.0.0,>=3.2.0 in /home/ramonperez/anaconda/envs/aws_demo/lib/python3.9/site-packages (from spacy) (3.3.0)\n",
      "Requirement already satisfied: setuptools in /home/ramonperez/anaconda/envs/aws_demo/lib/python3.9/site-packages (from spacy) (59.8.0)\n",
      "Requirement already satisfied: thinc<8.2.0,>=8.1.0 in /home/ramonperez/anaconda/envs/aws_demo/lib/python3.9/site-packages (from spacy) (8.1.0)\n",
      "Requirement already satisfied: wasabi<1.1.0,>=0.9.1 in /home/ramonperez/anaconda/envs/aws_demo/lib/python3.9/site-packages (from spacy) (0.9.1)\n",
      "Requirement already satisfied: jinja2 in /home/ramonperez/anaconda/envs/aws_demo/lib/python3.9/site-packages (from spacy) (3.1.2)\n",
      "Requirement already satisfied: spacy-legacy<3.1.0,>=3.0.9 in /home/ramonperez/anaconda/envs/aws_demo/lib/python3.9/site-packages (from spacy) (3.0.9)\n",
      "Requirement already satisfied: murmurhash<1.1.0,>=0.28.0 in /home/ramonperez/anaconda/envs/aws_demo/lib/python3.9/site-packages (from spacy) (1.0.7)\n",
      "Requirement already satisfied: tqdm<5.0.0,>=4.38.0 in /home/ramonperez/anaconda/envs/aws_demo/lib/python3.9/site-packages (from spacy) (4.64.0)\n",
      "Requirement already satisfied: pyparsing!=3.0.5,>=2.0.2 in /home/ramonperez/anaconda/envs/aws_demo/lib/python3.9/site-packages (from packaging>=20.0->spacy) (3.0.9)\n",
      "Requirement already satisfied: smart-open<6.0.0,>=5.2.1 in /home/ramonperez/anaconda/envs/aws_demo/lib/python3.9/site-packages (from pathy>=0.3.5->spacy) (5.2.1)\n",
      "Requirement already satisfied: typing-extensions>=3.7.4.3 in /home/ramonperez/anaconda/envs/aws_demo/lib/python3.9/site-packages (from pydantic!=1.8,!=1.8.1,<1.10.0,>=1.7.4->spacy) (4.3.0)\n",
      "Requirement already satisfied: urllib3<1.27,>=1.21.1 in /home/ramonperez/anaconda/envs/aws_demo/lib/python3.9/site-packages (from requests<3.0.0,>=2.13.0->spacy) (1.26.10)\n",
      "Requirement already satisfied: certifi>=2017.4.17 in /home/ramonperez/anaconda/envs/aws_demo/lib/python3.9/site-packages (from requests<3.0.0,>=2.13.0->spacy) (2022.6.15)\n",
      "Requirement already satisfied: charset-normalizer<3,>=2 in /home/ramonperez/anaconda/envs/aws_demo/lib/python3.9/site-packages (from requests<3.0.0,>=2.13.0->spacy) (2.1.0)\n",
      "Requirement already satisfied: idna<4,>=2.5 in /home/ramonperez/anaconda/envs/aws_demo/lib/python3.9/site-packages (from requests<3.0.0,>=2.13.0->spacy) (3.3)\n",
      "Requirement already satisfied: blis<0.8.0,>=0.7.8 in /home/ramonperez/anaconda/envs/aws_demo/lib/python3.9/site-packages (from thinc<8.2.0,>=8.1.0->spacy) (0.7.8)\n",
      "Requirement already satisfied: click<9.0.0,>=7.1.1 in /home/ramonperez/anaconda/envs/aws_demo/lib/python3.9/site-packages (from typer<0.5.0,>=0.3.0->spacy) (8.1.3)\n",
      "Requirement already satisfied: markdown in /home/ramonperez/anaconda/envs/aws_demo/lib/python3.9/site-packages (from panel) (3.4.1)\n",
      "Requirement already satisfied: bleach in /home/ramonperez/anaconda/envs/aws_demo/lib/python3.9/site-packages (from panel) (5.0.1)\n",
      "Requirement already satisfied: param>=1.12.0 in /home/ramonperez/anaconda/envs/aws_demo/lib/python3.9/site-packages (from panel) (1.12.2)\n",
      "Requirement already satisfied: pyct>=0.4.4 in /home/ramonperez/anaconda/envs/aws_demo/lib/python3.9/site-packages (from panel) (0.4.6)\n",
      "Requirement already satisfied: bokeh<2.5.0,>=2.4.0 in /home/ramonperez/anaconda/envs/aws_demo/lib/python3.9/site-packages (from panel) (2.4.3)\n",
      "Requirement already satisfied: pyviz-comms>=0.7.4 in /home/ramonperez/anaconda/envs/aws_demo/lib/python3.9/site-packages (from panel) (2.1.0)\n",
      "Requirement already satisfied: tornado>=5.1 in /home/ramonperez/anaconda/envs/aws_demo/lib/python3.9/site-packages (from bokeh<2.5.0,>=2.4.0->panel) (6.2)\n",
      "Requirement already satisfied: PyYAML>=3.10 in /home/ramonperez/anaconda/envs/aws_demo/lib/python3.9/site-packages (from bokeh<2.5.0,>=2.4.0->panel) (6.0)\n",
      "Requirement already satisfied: pillow>=7.1.0 in /home/ramonperez/anaconda/envs/aws_demo/lib/python3.9/site-packages (from bokeh<2.5.0,>=2.4.0->panel) (9.2.0)\n",
      "Requirement already satisfied: MarkupSafe>=2.0 in /home/ramonperez/anaconda/envs/aws_demo/lib/python3.9/site-packages (from jinja2->spacy) (2.1.1)\n",
      "Requirement already satisfied: webencodings in /home/ramonperez/anaconda/envs/aws_demo/lib/python3.9/site-packages (from bleach->panel) (0.5.1)\n",
      "Requirement already satisfied: six>=1.9.0 in /home/ramonperez/anaconda/envs/aws_demo/lib/python3.9/site-packages (from bleach->panel) (1.16.0)\n",
      "Requirement already satisfied: importlib-metadata>=4.4 in /home/ramonperez/anaconda/envs/aws_demo/lib/python3.9/site-packages (from markdown->panel) (4.11.4)\n",
      "Requirement already satisfied: zipp>=0.5 in /home/ramonperez/anaconda/envs/aws_demo/lib/python3.9/site-packages (from importlib-metadata>=4.4->markdown->panel) (3.8.0)\n"
     ]
    }
   ],
   "source": [
    "!pip install -U spacy panel"
   ]
  },
  {
   "cell_type": "code",
   "execution_count": 1,
   "id": "970a5d4f",
   "metadata": {},
   "outputs": [
    {
     "name": "stderr",
     "output_type": "stream",
     "text": [
      "/home/ramonperez/anaconda/envs/vector/lib/python3.9/site-packages/torch/cuda/__init__.py:52: UserWarning: CUDA initialization: Unexpected error from cudaGetDeviceCount(). Did you run some cuda functions before calling NumCudaDevices() that might have already set an error? Error 803: system has unsupported display driver / cuda driver combination (Triggered internally at  /opt/conda/conda-bld/pytorch_1623448255797/work/c10/cuda/CUDAFunctions.cpp:115.)\n",
      "  return torch._C._cuda_getDeviceCount() > 0\n"
     ]
    },
    {
     "data": {
      "application/javascript": [
       "\n",
       "(function(root) {\n",
       "  function now() {\n",
       "    return new Date();\n",
       "  }\n",
       "\n",
       "  var force = true;\n",
       "\n",
       "  if (typeof root._bokeh_onload_callbacks === \"undefined\" || force === true) {\n",
       "    root._bokeh_onload_callbacks = [];\n",
       "    root._bokeh_is_loading = undefined;\n",
       "  }\n",
       "\n",
       "  if (typeof (root._bokeh_timeout) === \"undefined\" || force === true) {\n",
       "    root._bokeh_timeout = Date.now() + 5000;\n",
       "    root._bokeh_failed_load = false;\n",
       "  }\n",
       "\n",
       "  function run_callbacks() {\n",
       "    try {\n",
       "      root._bokeh_onload_callbacks.forEach(function(callback) {\n",
       "        if (callback != null)\n",
       "          callback();\n",
       "      });\n",
       "    } finally {\n",
       "      delete root._bokeh_onload_callbacks\n",
       "    }\n",
       "    console.debug(\"Bokeh: all callbacks have finished\");\n",
       "  }\n",
       "\n",
       "  function load_libs(css_urls, js_urls, js_modules, callback) {\n",
       "    if (css_urls == null) css_urls = [];\n",
       "    if (js_urls == null) js_urls = [];\n",
       "    if (js_modules == null) js_modules = [];\n",
       "\n",
       "    root._bokeh_onload_callbacks.push(callback);\n",
       "    if (root._bokeh_is_loading > 0) {\n",
       "      console.debug(\"Bokeh: BokehJS is being loaded, scheduling callback at\", now());\n",
       "      return null;\n",
       "    }\n",
       "    if (js_urls.length === 0 && js_modules.length === 0) {\n",
       "      run_callbacks();\n",
       "      return null;\n",
       "    }\n",
       "    console.debug(\"Bokeh: BokehJS not loaded, scheduling load and callback at\", now());\n",
       "    root._bokeh_is_loading = css_urls.length + js_urls.length + js_modules.length;\n",
       "\n",
       "    function on_load() {\n",
       "      root._bokeh_is_loading--;\n",
       "      if (root._bokeh_is_loading === 0) {\n",
       "        console.debug(\"Bokeh: all BokehJS libraries/stylesheets loaded\");\n",
       "        run_callbacks()\n",
       "      }\n",
       "    }\n",
       "\n",
       "    function on_error() {\n",
       "      console.error(\"failed to load \" + url);\n",
       "    }\n",
       "\n",
       "    for (var i = 0; i < css_urls.length; i++) {\n",
       "      var url = css_urls[i];\n",
       "      const element = document.createElement(\"link\");\n",
       "      element.onload = on_load;\n",
       "      element.onerror = on_error;\n",
       "      element.rel = \"stylesheet\";\n",
       "      element.type = \"text/css\";\n",
       "      element.href = url;\n",
       "      console.debug(\"Bokeh: injecting link tag for BokehJS stylesheet: \", url);\n",
       "      document.body.appendChild(element);\n",
       "    }\n",
       "\n",
       "    var skip = [];\n",
       "    if (window.requirejs) {\n",
       "      window.requirejs.config({'paths': {'tabulator': 'https://unpkg.com/tabulator-tables@4.9.3/dist/js/tabulator'}});\n",
       "      require([\"tabulator\"], function(Tabulator,) {\n",
       "        window.Tabulator = Tabulator;\n",
       "      })\n",
       "    }\n",
       "    if (((window['tabulator'] !== undefined) && (!(window['tabulator'] instanceof HTMLElement))) || window.requirejs) {\n",
       "      var urls = ['https://unpkg.com/tabulator-tables@4.9.3/dist/js/tabulator.js', 'https://unpkg.com/moment@2.27.0/moment.js'];\n",
       "      for (var i = 0; i < urls.length; i++) {\n",
       "        skip.push(urls[i])\n",
       "      }\n",
       "    }\n",
       "    for (var i = 0; i < js_urls.length; i++) {\n",
       "      var url = js_urls[i];\n",
       "      if (skip.indexOf(url) >= 0) { on_load(); continue; }\n",
       "      var element = document.createElement('script');\n",
       "      element.onload = on_load;\n",
       "      element.onerror = on_error;\n",
       "      element.async = false;\n",
       "      element.src = url;\n",
       "      console.debug(\"Bokeh: injecting script tag for BokehJS library: \", url);\n",
       "      document.head.appendChild(element);\n",
       "    }\n",
       "    for (var i = 0; i < js_modules.length; i++) {\n",
       "      var url = js_modules[i];\n",
       "      if (skip.indexOf(url) >= 0) { on_load(); continue; }\n",
       "      var element = document.createElement('script');\n",
       "      element.onload = on_load;\n",
       "      element.onerror = on_error;\n",
       "      element.async = false;\n",
       "      element.src = url;\n",
       "      element.type = \"module\";\n",
       "      console.debug(\"Bokeh: injecting script tag for BokehJS library: \", url);\n",
       "      document.head.appendChild(element);\n",
       "    }\n",
       "    if (!js_urls.length && !js_modules.length) {\n",
       "      on_load()\n",
       "    }\n",
       "  };\n",
       "\n",
       "  function inject_raw_css(css) {\n",
       "    const element = document.createElement(\"style\");\n",
       "    element.appendChild(document.createTextNode(css));\n",
       "    document.body.appendChild(element);\n",
       "  }\n",
       "\n",
       "  var js_urls = [\"https://unpkg.com/tabulator-tables@4.9.3/dist/js/tabulator.js\", \"https://unpkg.com/moment@2.27.0/moment.js\", \"https://cdn.bokeh.org/bokeh/release/bokeh-2.3.3.min.js\", \"https://cdn.bokeh.org/bokeh/release/bokeh-widgets-2.3.3.min.js\", \"https://cdn.bokeh.org/bokeh/release/bokeh-tables-2.3.3.min.js\", \"https://unpkg.com/@holoviz/panel@0.11.3/dist/panel.min.js\"];\n",
       "  var js_modules = [];\n",
       "  var css_urls = [\"https://unpkg.com/tabulator-tables@4.9.3/dist/css/tabulator_simple.min.css\", \"https://unpkg.com/@holoviz/panel@0.11.3/dist/css/widgets.css\", \"https://unpkg.com/@holoviz/panel@0.11.3/dist/css/card.css\", \"https://unpkg.com/@holoviz/panel@0.11.3/dist/css/json.css\", \"https://unpkg.com/@holoviz/panel@0.11.3/dist/css/dataframe.css\", \"https://unpkg.com/@holoviz/panel@0.11.3/dist/css/loading.css\", \"https://unpkg.com/@holoviz/panel@0.11.3/dist/css/markdown.css\", \"https://unpkg.com/@holoviz/panel@0.11.3/dist/css/alerts.css\"];\n",
       "  var inline_js = [\n",
       "    function(Bokeh) {\n",
       "      inject_raw_css(\"\\n    .bk.pn-loading.arcs:before {\\n      background-image: url(\\\"data:image/svg+xml;base64,PHN2ZyB4bWxucz0iaHR0cDovL3d3dy53My5vcmcvMjAwMC9zdmciIHhtbG5zOnhsaW5rPSJodHRwOi8vd3d3LnczLm9yZy8xOTk5L3hsaW5rIiBzdHlsZT0ibWFyZ2luOiBhdXRvOyBiYWNrZ3JvdW5kOiBub25lOyBkaXNwbGF5OiBibG9jazsgc2hhcGUtcmVuZGVyaW5nOiBhdXRvOyIgdmlld0JveD0iMCAwIDEwMCAxMDAiIHByZXNlcnZlQXNwZWN0UmF0aW89InhNaWRZTWlkIj4gIDxjaXJjbGUgY3g9IjUwIiBjeT0iNTAiIHI9IjMyIiBzdHJva2Utd2lkdGg9IjgiIHN0cm9rZT0iI2MzYzNjMyIgc3Ryb2tlLWRhc2hhcnJheT0iNTAuMjY1NDgyNDU3NDM2NjkgNTAuMjY1NDgyNDU3NDM2NjkiIGZpbGw9Im5vbmUiIHN0cm9rZS1saW5lY2FwPSJyb3VuZCI+ICAgIDxhbmltYXRlVHJhbnNmb3JtIGF0dHJpYnV0ZU5hbWU9InRyYW5zZm9ybSIgdHlwZT0icm90YXRlIiByZXBlYXRDb3VudD0iaW5kZWZpbml0ZSIgZHVyPSIxcyIga2V5VGltZXM9IjA7MSIgdmFsdWVzPSIwIDUwIDUwOzM2MCA1MCA1MCI+PC9hbmltYXRlVHJhbnNmb3JtPiAgPC9jaXJjbGU+PC9zdmc+\\\")\\n    }\\n    \");\n",
       "    },\n",
       "    function(Bokeh) {\n",
       "      Bokeh.set_log_level(\"info\");\n",
       "    },\n",
       "    function(Bokeh) {} // ensure no trailing comma for IE\n",
       "  ];\n",
       "\n",
       "  function run_inline_js() {\n",
       "    if ((root.Bokeh !== undefined) || (force === true)) {\n",
       "      for (var i = 0; i < inline_js.length; i++) {\n",
       "        inline_js[i].call(root, root.Bokeh);\n",
       "      }} else if (Date.now() < root._bokeh_timeout) {\n",
       "      setTimeout(run_inline_js, 100);\n",
       "    } else if (!root._bokeh_failed_load) {\n",
       "      console.log(\"Bokeh: BokehJS failed to load within specified timeout.\");\n",
       "      root._bokeh_failed_load = true;\n",
       "    }\n",
       "  }\n",
       "\n",
       "  if (root._bokeh_is_loading === 0) {\n",
       "    console.debug(\"Bokeh: BokehJS loaded, going straight to plotting\");\n",
       "    run_inline_js();\n",
       "  } else {\n",
       "    load_libs(css_urls, js_urls, js_modules, function() {\n",
       "      console.debug(\"Bokeh: BokehJS plotting callback run at\", now());\n",
       "      run_inline_js();\n",
       "    });\n",
       "  }\n",
       "}(window));"
      ],
      "application/vnd.holoviews_load.v0+json": "\n(function(root) {\n  function now() {\n    return new Date();\n  }\n\n  var force = true;\n\n  if (typeof root._bokeh_onload_callbacks === \"undefined\" || force === true) {\n    root._bokeh_onload_callbacks = [];\n    root._bokeh_is_loading = undefined;\n  }\n\n  if (typeof (root._bokeh_timeout) === \"undefined\" || force === true) {\n    root._bokeh_timeout = Date.now() + 5000;\n    root._bokeh_failed_load = false;\n  }\n\n  function run_callbacks() {\n    try {\n      root._bokeh_onload_callbacks.forEach(function(callback) {\n        if (callback != null)\n          callback();\n      });\n    } finally {\n      delete root._bokeh_onload_callbacks\n    }\n    console.debug(\"Bokeh: all callbacks have finished\");\n  }\n\n  function load_libs(css_urls, js_urls, js_modules, callback) {\n    if (css_urls == null) css_urls = [];\n    if (js_urls == null) js_urls = [];\n    if (js_modules == null) js_modules = [];\n\n    root._bokeh_onload_callbacks.push(callback);\n    if (root._bokeh_is_loading > 0) {\n      console.debug(\"Bokeh: BokehJS is being loaded, scheduling callback at\", now());\n      return null;\n    }\n    if (js_urls.length === 0 && js_modules.length === 0) {\n      run_callbacks();\n      return null;\n    }\n    console.debug(\"Bokeh: BokehJS not loaded, scheduling load and callback at\", now());\n    root._bokeh_is_loading = css_urls.length + js_urls.length + js_modules.length;\n\n    function on_load() {\n      root._bokeh_is_loading--;\n      if (root._bokeh_is_loading === 0) {\n        console.debug(\"Bokeh: all BokehJS libraries/stylesheets loaded\");\n        run_callbacks()\n      }\n    }\n\n    function on_error() {\n      console.error(\"failed to load \" + url);\n    }\n\n    for (var i = 0; i < css_urls.length; i++) {\n      var url = css_urls[i];\n      const element = document.createElement(\"link\");\n      element.onload = on_load;\n      element.onerror = on_error;\n      element.rel = \"stylesheet\";\n      element.type = \"text/css\";\n      element.href = url;\n      console.debug(\"Bokeh: injecting link tag for BokehJS stylesheet: \", url);\n      document.body.appendChild(element);\n    }\n\n    var skip = [];\n    if (window.requirejs) {\n      window.requirejs.config({'paths': {'tabulator': 'https://unpkg.com/tabulator-tables@4.9.3/dist/js/tabulator'}});\n      require([\"tabulator\"], function(Tabulator,) {\n        window.Tabulator = Tabulator;\n      })\n    }\n    if (((window['tabulator'] !== undefined) && (!(window['tabulator'] instanceof HTMLElement))) || window.requirejs) {\n      var urls = ['https://unpkg.com/tabulator-tables@4.9.3/dist/js/tabulator.js', 'https://unpkg.com/moment@2.27.0/moment.js'];\n      for (var i = 0; i < urls.length; i++) {\n        skip.push(urls[i])\n      }\n    }\n    for (var i = 0; i < js_urls.length; i++) {\n      var url = js_urls[i];\n      if (skip.indexOf(url) >= 0) { on_load(); continue; }\n      var element = document.createElement('script');\n      element.onload = on_load;\n      element.onerror = on_error;\n      element.async = false;\n      element.src = url;\n      console.debug(\"Bokeh: injecting script tag for BokehJS library: \", url);\n      document.head.appendChild(element);\n    }\n    for (var i = 0; i < js_modules.length; i++) {\n      var url = js_modules[i];\n      if (skip.indexOf(url) >= 0) { on_load(); continue; }\n      var element = document.createElement('script');\n      element.onload = on_load;\n      element.onerror = on_error;\n      element.async = false;\n      element.src = url;\n      element.type = \"module\";\n      console.debug(\"Bokeh: injecting script tag for BokehJS library: \", url);\n      document.head.appendChild(element);\n    }\n    if (!js_urls.length && !js_modules.length) {\n      on_load()\n    }\n  };\n\n  function inject_raw_css(css) {\n    const element = document.createElement(\"style\");\n    element.appendChild(document.createTextNode(css));\n    document.body.appendChild(element);\n  }\n\n  var js_urls = [\"https://unpkg.com/tabulator-tables@4.9.3/dist/js/tabulator.js\", \"https://unpkg.com/moment@2.27.0/moment.js\", \"https://cdn.bokeh.org/bokeh/release/bokeh-2.3.3.min.js\", \"https://cdn.bokeh.org/bokeh/release/bokeh-widgets-2.3.3.min.js\", \"https://cdn.bokeh.org/bokeh/release/bokeh-tables-2.3.3.min.js\", \"https://unpkg.com/@holoviz/panel@0.11.3/dist/panel.min.js\"];\n  var js_modules = [];\n  var css_urls = [\"https://unpkg.com/tabulator-tables@4.9.3/dist/css/tabulator_simple.min.css\", \"https://unpkg.com/@holoviz/panel@0.11.3/dist/css/widgets.css\", \"https://unpkg.com/@holoviz/panel@0.11.3/dist/css/card.css\", \"https://unpkg.com/@holoviz/panel@0.11.3/dist/css/json.css\", \"https://unpkg.com/@holoviz/panel@0.11.3/dist/css/dataframe.css\", \"https://unpkg.com/@holoviz/panel@0.11.3/dist/css/loading.css\", \"https://unpkg.com/@holoviz/panel@0.11.3/dist/css/markdown.css\", \"https://unpkg.com/@holoviz/panel@0.11.3/dist/css/alerts.css\"];\n  var inline_js = [\n    function(Bokeh) {\n      inject_raw_css(\"\\n    .bk.pn-loading.arcs:before {\\n      background-image: url(\\\"data:image/svg+xml;base64,PHN2ZyB4bWxucz0iaHR0cDovL3d3dy53My5vcmcvMjAwMC9zdmciIHhtbG5zOnhsaW5rPSJodHRwOi8vd3d3LnczLm9yZy8xOTk5L3hsaW5rIiBzdHlsZT0ibWFyZ2luOiBhdXRvOyBiYWNrZ3JvdW5kOiBub25lOyBkaXNwbGF5OiBibG9jazsgc2hhcGUtcmVuZGVyaW5nOiBhdXRvOyIgdmlld0JveD0iMCAwIDEwMCAxMDAiIHByZXNlcnZlQXNwZWN0UmF0aW89InhNaWRZTWlkIj4gIDxjaXJjbGUgY3g9IjUwIiBjeT0iNTAiIHI9IjMyIiBzdHJva2Utd2lkdGg9IjgiIHN0cm9rZT0iI2MzYzNjMyIgc3Ryb2tlLWRhc2hhcnJheT0iNTAuMjY1NDgyNDU3NDM2NjkgNTAuMjY1NDgyNDU3NDM2NjkiIGZpbGw9Im5vbmUiIHN0cm9rZS1saW5lY2FwPSJyb3VuZCI+ICAgIDxhbmltYXRlVHJhbnNmb3JtIGF0dHJpYnV0ZU5hbWU9InRyYW5zZm9ybSIgdHlwZT0icm90YXRlIiByZXBlYXRDb3VudD0iaW5kZWZpbml0ZSIgZHVyPSIxcyIga2V5VGltZXM9IjA7MSIgdmFsdWVzPSIwIDUwIDUwOzM2MCA1MCA1MCI+PC9hbmltYXRlVHJhbnNmb3JtPiAgPC9jaXJjbGU+PC9zdmc+\\\")\\n    }\\n    \");\n    },\n    function(Bokeh) {\n      Bokeh.set_log_level(\"info\");\n    },\n    function(Bokeh) {} // ensure no trailing comma for IE\n  ];\n\n  function run_inline_js() {\n    if ((root.Bokeh !== undefined) || (force === true)) {\n      for (var i = 0; i < inline_js.length; i++) {\n        inline_js[i].call(root, root.Bokeh);\n      }} else if (Date.now() < root._bokeh_timeout) {\n      setTimeout(run_inline_js, 100);\n    } else if (!root._bokeh_failed_load) {\n      console.log(\"Bokeh: BokehJS failed to load within specified timeout.\");\n      root._bokeh_failed_load = true;\n    }\n  }\n\n  if (root._bokeh_is_loading === 0) {\n    console.debug(\"Bokeh: BokehJS loaded, going straight to plotting\");\n    run_inline_js();\n  } else {\n    load_libs(css_urls, js_urls, js_modules, function() {\n      console.debug(\"Bokeh: BokehJS plotting callback run at\", now());\n      run_inline_js();\n    });\n  }\n}(window));"
     },
     "metadata": {},
     "output_type": "display_data"
    },
    {
     "data": {
      "application/javascript": [
       "\n",
       "if ((window.PyViz === undefined) || (window.PyViz instanceof HTMLElement)) {\n",
       "  window.PyViz = {comms: {}, comm_status:{}, kernels:{}, receivers: {}, plot_index: []}\n",
       "}\n",
       "\n",
       "\n",
       "    function JupyterCommManager() {\n",
       "    }\n",
       "\n",
       "    JupyterCommManager.prototype.register_target = function(plot_id, comm_id, msg_handler) {\n",
       "      if (window.comm_manager || ((window.Jupyter !== undefined) && (Jupyter.notebook.kernel != null))) {\n",
       "        var comm_manager = window.comm_manager || Jupyter.notebook.kernel.comm_manager;\n",
       "        comm_manager.register_target(comm_id, function(comm) {\n",
       "          comm.on_msg(msg_handler);\n",
       "        });\n",
       "      } else if ((plot_id in window.PyViz.kernels) && (window.PyViz.kernels[plot_id])) {\n",
       "        window.PyViz.kernels[plot_id].registerCommTarget(comm_id, function(comm) {\n",
       "          comm.onMsg = msg_handler;\n",
       "        });\n",
       "      } else if (typeof google != 'undefined' && google.colab.kernel != null) {\n",
       "        google.colab.kernel.comms.registerTarget(comm_id, (comm) => {\n",
       "          var messages = comm.messages[Symbol.asyncIterator]();\n",
       "          function processIteratorResult(result) {\n",
       "            var message = result.value;\n",
       "            console.log(message)\n",
       "            var content = {data: message.data, comm_id};\n",
       "            var buffers = []\n",
       "            for (var buffer of message.buffers || []) {\n",
       "              buffers.push(new DataView(buffer))\n",
       "            }\n",
       "            var metadata = message.metadata || {};\n",
       "            var msg = {content, buffers, metadata}\n",
       "            msg_handler(msg);\n",
       "            return messages.next().then(processIteratorResult);\n",
       "          }\n",
       "          return messages.next().then(processIteratorResult);\n",
       "        })\n",
       "      }\n",
       "    }\n",
       "\n",
       "    JupyterCommManager.prototype.get_client_comm = function(plot_id, comm_id, msg_handler) {\n",
       "      if (comm_id in window.PyViz.comms) {\n",
       "        return window.PyViz.comms[comm_id];\n",
       "      } else if (window.comm_manager || ((window.Jupyter !== undefined) && (Jupyter.notebook.kernel != null))) {\n",
       "        var comm_manager = window.comm_manager || Jupyter.notebook.kernel.comm_manager;\n",
       "        var comm = comm_manager.new_comm(comm_id, {}, {}, {}, comm_id);\n",
       "        if (msg_handler) {\n",
       "          comm.on_msg(msg_handler);\n",
       "        }\n",
       "      } else if ((plot_id in window.PyViz.kernels) && (window.PyViz.kernels[plot_id])) {\n",
       "        var comm = window.PyViz.kernels[plot_id].connectToComm(comm_id);\n",
       "        comm.open();\n",
       "        if (msg_handler) {\n",
       "          comm.onMsg = msg_handler;\n",
       "        }\n",
       "      } else if (typeof google != 'undefined' && google.colab.kernel != null) {\n",
       "        var comm_promise = google.colab.kernel.comms.open(comm_id)\n",
       "        comm_promise.then((comm) => {\n",
       "          window.PyViz.comms[comm_id] = comm;\n",
       "          if (msg_handler) {\n",
       "            var messages = comm.messages[Symbol.asyncIterator]();\n",
       "            function processIteratorResult(result) {\n",
       "              var message = result.value;\n",
       "              var content = {data: message.data};\n",
       "              var metadata = message.metadata || {comm_id};\n",
       "              var msg = {content, metadata}\n",
       "              msg_handler(msg);\n",
       "              return messages.next().then(processIteratorResult);\n",
       "            }\n",
       "            return messages.next().then(processIteratorResult);\n",
       "          }\n",
       "        }) \n",
       "        var sendClosure = (data, metadata, buffers, disposeOnDone) => {\n",
       "          return comm_promise.then((comm) => {\n",
       "            comm.send(data, metadata, buffers, disposeOnDone);\n",
       "          });\n",
       "        };\n",
       "        var comm = {\n",
       "          send: sendClosure\n",
       "        };\n",
       "      }\n",
       "      window.PyViz.comms[comm_id] = comm;\n",
       "      return comm;\n",
       "    }\n",
       "    window.PyViz.comm_manager = new JupyterCommManager();\n",
       "    \n",
       "\n",
       "\n",
       "var JS_MIME_TYPE = 'application/javascript';\n",
       "var HTML_MIME_TYPE = 'text/html';\n",
       "var EXEC_MIME_TYPE = 'application/vnd.holoviews_exec.v0+json';\n",
       "var CLASS_NAME = 'output';\n",
       "\n",
       "/**\n",
       " * Render data to the DOM node\n",
       " */\n",
       "function render(props, node) {\n",
       "  var div = document.createElement(\"div\");\n",
       "  var script = document.createElement(\"script\");\n",
       "  node.appendChild(div);\n",
       "  node.appendChild(script);\n",
       "}\n",
       "\n",
       "/**\n",
       " * Handle when a new output is added\n",
       " */\n",
       "function handle_add_output(event, handle) {\n",
       "  var output_area = handle.output_area;\n",
       "  var output = handle.output;\n",
       "  if ((output.data == undefined) || (!output.data.hasOwnProperty(EXEC_MIME_TYPE))) {\n",
       "    return\n",
       "  }\n",
       "  var id = output.metadata[EXEC_MIME_TYPE][\"id\"];\n",
       "  var toinsert = output_area.element.find(\".\" + CLASS_NAME.split(' ')[0]);\n",
       "  if (id !== undefined) {\n",
       "    var nchildren = toinsert.length;\n",
       "    var html_node = toinsert[nchildren-1].children[0];\n",
       "    html_node.innerHTML = output.data[HTML_MIME_TYPE];\n",
       "    var scripts = [];\n",
       "    var nodelist = html_node.querySelectorAll(\"script\");\n",
       "    for (var i in nodelist) {\n",
       "      if (nodelist.hasOwnProperty(i)) {\n",
       "        scripts.push(nodelist[i])\n",
       "      }\n",
       "    }\n",
       "\n",
       "    scripts.forEach( function (oldScript) {\n",
       "      var newScript = document.createElement(\"script\");\n",
       "      var attrs = [];\n",
       "      var nodemap = oldScript.attributes;\n",
       "      for (var j in nodemap) {\n",
       "        if (nodemap.hasOwnProperty(j)) {\n",
       "          attrs.push(nodemap[j])\n",
       "        }\n",
       "      }\n",
       "      attrs.forEach(function(attr) { newScript.setAttribute(attr.name, attr.value) });\n",
       "      newScript.appendChild(document.createTextNode(oldScript.innerHTML));\n",
       "      oldScript.parentNode.replaceChild(newScript, oldScript);\n",
       "    });\n",
       "    if (JS_MIME_TYPE in output.data) {\n",
       "      toinsert[nchildren-1].children[1].textContent = output.data[JS_MIME_TYPE];\n",
       "    }\n",
       "    output_area._hv_plot_id = id;\n",
       "    if ((window.Bokeh !== undefined) && (id in Bokeh.index)) {\n",
       "      window.PyViz.plot_index[id] = Bokeh.index[id];\n",
       "    } else {\n",
       "      window.PyViz.plot_index[id] = null;\n",
       "    }\n",
       "  } else if (output.metadata[EXEC_MIME_TYPE][\"server_id\"] !== undefined) {\n",
       "    var bk_div = document.createElement(\"div\");\n",
       "    bk_div.innerHTML = output.data[HTML_MIME_TYPE];\n",
       "    var script_attrs = bk_div.children[0].attributes;\n",
       "    for (var i = 0; i < script_attrs.length; i++) {\n",
       "      toinsert[toinsert.length - 1].childNodes[1].setAttribute(script_attrs[i].name, script_attrs[i].value);\n",
       "    }\n",
       "    // store reference to server id on output_area\n",
       "    output_area._bokeh_server_id = output.metadata[EXEC_MIME_TYPE][\"server_id\"];\n",
       "  }\n",
       "}\n",
       "\n",
       "/**\n",
       " * Handle when an output is cleared or removed\n",
       " */\n",
       "function handle_clear_output(event, handle) {\n",
       "  var id = handle.cell.output_area._hv_plot_id;\n",
       "  var server_id = handle.cell.output_area._bokeh_server_id;\n",
       "  if (((id === undefined) || !(id in PyViz.plot_index)) && (server_id !== undefined)) { return; }\n",
       "  var comm = window.PyViz.comm_manager.get_client_comm(\"hv-extension-comm\", \"hv-extension-comm\", function () {});\n",
       "  if (server_id !== null) {\n",
       "    comm.send({event_type: 'server_delete', 'id': server_id});\n",
       "    return;\n",
       "  } else if (comm !== null) {\n",
       "    comm.send({event_type: 'delete', 'id': id});\n",
       "  }\n",
       "  delete PyViz.plot_index[id];\n",
       "  if ((window.Bokeh !== undefined) & (id in window.Bokeh.index)) {\n",
       "    var doc = window.Bokeh.index[id].model.document\n",
       "    doc.clear();\n",
       "    const i = window.Bokeh.documents.indexOf(doc);\n",
       "    if (i > -1) {\n",
       "      window.Bokeh.documents.splice(i, 1);\n",
       "    }\n",
       "  }\n",
       "}\n",
       "\n",
       "/**\n",
       " * Handle kernel restart event\n",
       " */\n",
       "function handle_kernel_cleanup(event, handle) {\n",
       "  delete PyViz.comms[\"hv-extension-comm\"];\n",
       "  window.PyViz.plot_index = {}\n",
       "}\n",
       "\n",
       "/**\n",
       " * Handle update_display_data messages\n",
       " */\n",
       "function handle_update_output(event, handle) {\n",
       "  handle_clear_output(event, {cell: {output_area: handle.output_area}})\n",
       "  handle_add_output(event, handle)\n",
       "}\n",
       "\n",
       "function register_renderer(events, OutputArea) {\n",
       "  function append_mime(data, metadata, element) {\n",
       "    // create a DOM node to render to\n",
       "    var toinsert = this.create_output_subarea(\n",
       "    metadata,\n",
       "    CLASS_NAME,\n",
       "    EXEC_MIME_TYPE\n",
       "    );\n",
       "    this.keyboard_manager.register_events(toinsert);\n",
       "    // Render to node\n",
       "    var props = {data: data, metadata: metadata[EXEC_MIME_TYPE]};\n",
       "    render(props, toinsert[0]);\n",
       "    element.append(toinsert);\n",
       "    return toinsert\n",
       "  }\n",
       "\n",
       "  events.on('output_added.OutputArea', handle_add_output);\n",
       "  events.on('output_updated.OutputArea', handle_update_output);\n",
       "  events.on('clear_output.CodeCell', handle_clear_output);\n",
       "  events.on('delete.Cell', handle_clear_output);\n",
       "  events.on('kernel_ready.Kernel', handle_kernel_cleanup);\n",
       "\n",
       "  OutputArea.prototype.register_mime_type(EXEC_MIME_TYPE, append_mime, {\n",
       "    safe: true,\n",
       "    index: 0\n",
       "  });\n",
       "}\n",
       "\n",
       "if (window.Jupyter !== undefined) {\n",
       "  try {\n",
       "    var events = require('base/js/events');\n",
       "    var OutputArea = require('notebook/js/outputarea').OutputArea;\n",
       "    if (OutputArea.prototype.mime_types().indexOf(EXEC_MIME_TYPE) == -1) {\n",
       "      register_renderer(events, OutputArea);\n",
       "    }\n",
       "  } catch(err) {\n",
       "  }\n",
       "}\n"
      ],
      "application/vnd.holoviews_load.v0+json": "\nif ((window.PyViz === undefined) || (window.PyViz instanceof HTMLElement)) {\n  window.PyViz = {comms: {}, comm_status:{}, kernels:{}, receivers: {}, plot_index: []}\n}\n\n\n    function JupyterCommManager() {\n    }\n\n    JupyterCommManager.prototype.register_target = function(plot_id, comm_id, msg_handler) {\n      if (window.comm_manager || ((window.Jupyter !== undefined) && (Jupyter.notebook.kernel != null))) {\n        var comm_manager = window.comm_manager || Jupyter.notebook.kernel.comm_manager;\n        comm_manager.register_target(comm_id, function(comm) {\n          comm.on_msg(msg_handler);\n        });\n      } else if ((plot_id in window.PyViz.kernels) && (window.PyViz.kernels[plot_id])) {\n        window.PyViz.kernels[plot_id].registerCommTarget(comm_id, function(comm) {\n          comm.onMsg = msg_handler;\n        });\n      } else if (typeof google != 'undefined' && google.colab.kernel != null) {\n        google.colab.kernel.comms.registerTarget(comm_id, (comm) => {\n          var messages = comm.messages[Symbol.asyncIterator]();\n          function processIteratorResult(result) {\n            var message = result.value;\n            console.log(message)\n            var content = {data: message.data, comm_id};\n            var buffers = []\n            for (var buffer of message.buffers || []) {\n              buffers.push(new DataView(buffer))\n            }\n            var metadata = message.metadata || {};\n            var msg = {content, buffers, metadata}\n            msg_handler(msg);\n            return messages.next().then(processIteratorResult);\n          }\n          return messages.next().then(processIteratorResult);\n        })\n      }\n    }\n\n    JupyterCommManager.prototype.get_client_comm = function(plot_id, comm_id, msg_handler) {\n      if (comm_id in window.PyViz.comms) {\n        return window.PyViz.comms[comm_id];\n      } else if (window.comm_manager || ((window.Jupyter !== undefined) && (Jupyter.notebook.kernel != null))) {\n        var comm_manager = window.comm_manager || Jupyter.notebook.kernel.comm_manager;\n        var comm = comm_manager.new_comm(comm_id, {}, {}, {}, comm_id);\n        if (msg_handler) {\n          comm.on_msg(msg_handler);\n        }\n      } else if ((plot_id in window.PyViz.kernels) && (window.PyViz.kernels[plot_id])) {\n        var comm = window.PyViz.kernels[plot_id].connectToComm(comm_id);\n        comm.open();\n        if (msg_handler) {\n          comm.onMsg = msg_handler;\n        }\n      } else if (typeof google != 'undefined' && google.colab.kernel != null) {\n        var comm_promise = google.colab.kernel.comms.open(comm_id)\n        comm_promise.then((comm) => {\n          window.PyViz.comms[comm_id] = comm;\n          if (msg_handler) {\n            var messages = comm.messages[Symbol.asyncIterator]();\n            function processIteratorResult(result) {\n              var message = result.value;\n              var content = {data: message.data};\n              var metadata = message.metadata || {comm_id};\n              var msg = {content, metadata}\n              msg_handler(msg);\n              return messages.next().then(processIteratorResult);\n            }\n            return messages.next().then(processIteratorResult);\n          }\n        }) \n        var sendClosure = (data, metadata, buffers, disposeOnDone) => {\n          return comm_promise.then((comm) => {\n            comm.send(data, metadata, buffers, disposeOnDone);\n          });\n        };\n        var comm = {\n          send: sendClosure\n        };\n      }\n      window.PyViz.comms[comm_id] = comm;\n      return comm;\n    }\n    window.PyViz.comm_manager = new JupyterCommManager();\n    \n\n\nvar JS_MIME_TYPE = 'application/javascript';\nvar HTML_MIME_TYPE = 'text/html';\nvar EXEC_MIME_TYPE = 'application/vnd.holoviews_exec.v0+json';\nvar CLASS_NAME = 'output';\n\n/**\n * Render data to the DOM node\n */\nfunction render(props, node) {\n  var div = document.createElement(\"div\");\n  var script = document.createElement(\"script\");\n  node.appendChild(div);\n  node.appendChild(script);\n}\n\n/**\n * Handle when a new output is added\n */\nfunction handle_add_output(event, handle) {\n  var output_area = handle.output_area;\n  var output = handle.output;\n  if ((output.data == undefined) || (!output.data.hasOwnProperty(EXEC_MIME_TYPE))) {\n    return\n  }\n  var id = output.metadata[EXEC_MIME_TYPE][\"id\"];\n  var toinsert = output_area.element.find(\".\" + CLASS_NAME.split(' ')[0]);\n  if (id !== undefined) {\n    var nchildren = toinsert.length;\n    var html_node = toinsert[nchildren-1].children[0];\n    html_node.innerHTML = output.data[HTML_MIME_TYPE];\n    var scripts = [];\n    var nodelist = html_node.querySelectorAll(\"script\");\n    for (var i in nodelist) {\n      if (nodelist.hasOwnProperty(i)) {\n        scripts.push(nodelist[i])\n      }\n    }\n\n    scripts.forEach( function (oldScript) {\n      var newScript = document.createElement(\"script\");\n      var attrs = [];\n      var nodemap = oldScript.attributes;\n      for (var j in nodemap) {\n        if (nodemap.hasOwnProperty(j)) {\n          attrs.push(nodemap[j])\n        }\n      }\n      attrs.forEach(function(attr) { newScript.setAttribute(attr.name, attr.value) });\n      newScript.appendChild(document.createTextNode(oldScript.innerHTML));\n      oldScript.parentNode.replaceChild(newScript, oldScript);\n    });\n    if (JS_MIME_TYPE in output.data) {\n      toinsert[nchildren-1].children[1].textContent = output.data[JS_MIME_TYPE];\n    }\n    output_area._hv_plot_id = id;\n    if ((window.Bokeh !== undefined) && (id in Bokeh.index)) {\n      window.PyViz.plot_index[id] = Bokeh.index[id];\n    } else {\n      window.PyViz.plot_index[id] = null;\n    }\n  } else if (output.metadata[EXEC_MIME_TYPE][\"server_id\"] !== undefined) {\n    var bk_div = document.createElement(\"div\");\n    bk_div.innerHTML = output.data[HTML_MIME_TYPE];\n    var script_attrs = bk_div.children[0].attributes;\n    for (var i = 0; i < script_attrs.length; i++) {\n      toinsert[toinsert.length - 1].childNodes[1].setAttribute(script_attrs[i].name, script_attrs[i].value);\n    }\n    // store reference to server id on output_area\n    output_area._bokeh_server_id = output.metadata[EXEC_MIME_TYPE][\"server_id\"];\n  }\n}\n\n/**\n * Handle when an output is cleared or removed\n */\nfunction handle_clear_output(event, handle) {\n  var id = handle.cell.output_area._hv_plot_id;\n  var server_id = handle.cell.output_area._bokeh_server_id;\n  if (((id === undefined) || !(id in PyViz.plot_index)) && (server_id !== undefined)) { return; }\n  var comm = window.PyViz.comm_manager.get_client_comm(\"hv-extension-comm\", \"hv-extension-comm\", function () {});\n  if (server_id !== null) {\n    comm.send({event_type: 'server_delete', 'id': server_id});\n    return;\n  } else if (comm !== null) {\n    comm.send({event_type: 'delete', 'id': id});\n  }\n  delete PyViz.plot_index[id];\n  if ((window.Bokeh !== undefined) & (id in window.Bokeh.index)) {\n    var doc = window.Bokeh.index[id].model.document\n    doc.clear();\n    const i = window.Bokeh.documents.indexOf(doc);\n    if (i > -1) {\n      window.Bokeh.documents.splice(i, 1);\n    }\n  }\n}\n\n/**\n * Handle kernel restart event\n */\nfunction handle_kernel_cleanup(event, handle) {\n  delete PyViz.comms[\"hv-extension-comm\"];\n  window.PyViz.plot_index = {}\n}\n\n/**\n * Handle update_display_data messages\n */\nfunction handle_update_output(event, handle) {\n  handle_clear_output(event, {cell: {output_area: handle.output_area}})\n  handle_add_output(event, handle)\n}\n\nfunction register_renderer(events, OutputArea) {\n  function append_mime(data, metadata, element) {\n    // create a DOM node to render to\n    var toinsert = this.create_output_subarea(\n    metadata,\n    CLASS_NAME,\n    EXEC_MIME_TYPE\n    );\n    this.keyboard_manager.register_events(toinsert);\n    // Render to node\n    var props = {data: data, metadata: metadata[EXEC_MIME_TYPE]};\n    render(props, toinsert[0]);\n    element.append(toinsert);\n    return toinsert\n  }\n\n  events.on('output_added.OutputArea', handle_add_output);\n  events.on('output_updated.OutputArea', handle_update_output);\n  events.on('clear_output.CodeCell', handle_clear_output);\n  events.on('delete.Cell', handle_clear_output);\n  events.on('kernel_ready.Kernel', handle_kernel_cleanup);\n\n  OutputArea.prototype.register_mime_type(EXEC_MIME_TYPE, append_mime, {\n    safe: true,\n    index: 0\n  });\n}\n\nif (window.Jupyter !== undefined) {\n  try {\n    var events = require('base/js/events');\n    var OutputArea = require('notebook/js/outputarea').OutputArea;\n    if (OutputArea.prototype.mime_types().indexOf(EXEC_MIME_TYPE) == -1) {\n      register_renderer(events, OutputArea);\n    }\n  } catch(err) {\n  }\n}\n"
     },
     "metadata": {},
     "output_type": "display_data"
    }
   ],
   "source": [
    "import json, re, spacy\n",
    "import pandas as pd, numpy as np\n",
    "from pprint import pprint\n",
    "from sklearn.feature_extraction.text import CountVectorizer, TfidfVectorizer\n",
    "from sklearn.decomposition import LatentDirichletAllocation\n",
    "from sklearn.metrics.pairwise import cosine_similarity\n",
    "import panel as pn\n",
    "from concurrent.futures import ProcessPoolExecutor\n",
    "from datasets import load_dataset\n",
    "import datasets\n",
    "\n",
    "pn.extension()\n",
    "\n",
    "%load_ext autoreload\n",
    "%autoreload 2"
   ]
  },
  {
   "cell_type": "markdown",
   "id": "1fc67fb6",
   "metadata": {
    "tags": []
   },
   "source": [
    "## 2. The Data"
   ]
  },
  {
   "cell_type": "markdown",
   "id": "46249716",
   "metadata": {},
   "source": [
    "With have been given a random corpus of news articles and our task is to come up with a product(s), a recommendations systems (and a set of topic that best explains the model). The data consist of news articles plus some additional columns inside for which you can find more information in the table below.\n",
    "\n",
    "| Column | Content |\n",
    "|--------|---------|\n",
    "|title |Title of article|\n",
    "|text | Text inside article|\n",
    "|domain | Domain Url of article|\n",
    "|date | YYYY-MM-DD Time|\n",
    "|description | Abstract of article|\n",
    "|url | Url of article|\n",
    "|image_url | Image if available|\n",
    "\n",
    "In addition, here is the full description of the dataset from Huggin Face.\n",
    "\n",
    "> \"CC-News dataset contains news articles from news sites all over the world. The data is available on AWS S3 in the Common Crawl bucket at /crawl-data/CC-NEWS/. This version of the dataset has been prepared using news-please - an integrated web crawler and information extractor for news.\n",
    "It contains 708241 English language news articles published between Jan 2017 and December 2019. It represents a small portion of the English language subset of the CC-News dataset.\" ~ [Hugging Face cc_news](https://huggingface.co/datasets/cc_news)\n",
    "\n",
    "Before we do any data cleaning, let's read in the data and explore it a bit."
   ]
  },
  {
   "cell_type": "code",
   "execution_count": 2,
   "id": "133caa0e",
   "metadata": {},
   "outputs": [
    {
     "name": "stderr",
     "output_type": "stream",
     "text": [
      "Reusing dataset cc_news (/home/ramonperez/.cache/huggingface/datasets/cc_news/plain_text/1.0.0/6cdde8d7fdaae3e50fb61b5d08d5387c2f0bbea1ee68755ef954af539a6a3a1b)\n"
     ]
    },
    {
     "name": "stdout",
     "output_type": "stream",
     "text": [
      "CPU times: user 137 ms, sys: 252 ms, total: 389 ms\n",
      "Wall time: 1.85 s\n"
     ]
    }
   ],
   "source": [
    "%%time\n",
    "\n",
    "dataset = load_dataset('cc_news')"
   ]
  },
  {
   "cell_type": "markdown",
   "id": "37f4844a",
   "metadata": {},
   "source": [
    "Let's see how many articles we have and then examine the columns."
   ]
  },
  {
   "cell_type": "code",
   "execution_count": 3,
   "id": "f2e9547f",
   "metadata": {},
   "outputs": [
    {
     "data": {
      "text/plain": [
       "{'train': (708241, 7)}"
      ]
     },
     "execution_count": 3,
     "metadata": {},
     "output_type": "execute_result"
    }
   ],
   "source": [
    "dataset.shape"
   ]
  },
  {
   "cell_type": "code",
   "execution_count": 4,
   "id": "eef3e472",
   "metadata": {},
   "outputs": [
    {
     "data": {
      "text/plain": [
       "['title', 'text', 'domain', 'date', 'description', 'url', 'image_url']"
      ]
     },
     "execution_count": 4,
     "metadata": {},
     "output_type": "execute_result"
    }
   ],
   "source": [
    "dataset.column_names['train']"
   ]
  },
  {
   "cell_type": "markdown",
   "id": "fadcd524",
   "metadata": {},
   "source": [
    "Now that we have a dictionary, we can create a pandas DataFrame."
   ]
  },
  {
   "cell_type": "code",
   "execution_count": 5,
   "id": "ba6cd0d7",
   "metadata": {},
   "outputs": [],
   "source": [
    "%%time\n",
    "\n",
    "df = dataset['train'].to_pandas().sample(5_000).reset_index(drop=True)"
   ]
  },
  {
   "cell_type": "code",
   "execution_count": 6,
   "id": "08ceaea9",
   "metadata": {
    "tags": []
   },
   "outputs": [
    {
     "data": {
      "text/html": [
       "<div>\n",
       "<style scoped>\n",
       "    .dataframe tbody tr th:only-of-type {\n",
       "        vertical-align: middle;\n",
       "    }\n",
       "\n",
       "    .dataframe tbody tr th {\n",
       "        vertical-align: top;\n",
       "    }\n",
       "\n",
       "    .dataframe thead th {\n",
       "        text-align: right;\n",
       "    }\n",
       "</style>\n",
       "<table border=\"1\" class=\"dataframe\">\n",
       "  <thead>\n",
       "    <tr style=\"text-align: right;\">\n",
       "      <th></th>\n",
       "      <th>title</th>\n",
       "      <th>text</th>\n",
       "      <th>domain</th>\n",
       "      <th>date</th>\n",
       "      <th>description</th>\n",
       "      <th>url</th>\n",
       "      <th>image_url</th>\n",
       "    </tr>\n",
       "  </thead>\n",
       "  <tbody>\n",
       "    <tr>\n",
       "      <th>0</th>\n",
       "      <td>Cristiano Ronaldo banned for 5 games after pus...</td>\n",
       "      <td>(AP Photo/Manu Fernandez). Real Madrid's Crist...</td>\n",
       "      <td>www.wave3.com</td>\n",
       "      <td>2017-08-14 00:00:00</td>\n",
       "      <td></td>\n",
       "      <td>http://www.wave3.com/story/36129496/cristiano-...</td>\n",
       "      <td>http://APMOBILE.images.worldnow.com/images/146...</td>\n",
       "    </tr>\n",
       "    <tr>\n",
       "      <th>1</th>\n",
       "      <td>Why the Philippines is not truly independent</td>\n",
       "      <td>FOR leftists, American assistance in the Maraw...</td>\n",
       "      <td>www.manilatimes.net</td>\n",
       "      <td>2017-06-15 00:21:39</td>\n",
       "      <td></td>\n",
       "      <td>http://www.manilatimes.net/philippines-not-tru...</td>\n",
       "      <td>http://manilatimes.net/wp-content/uploads/2016...</td>\n",
       "    </tr>\n",
       "    <tr>\n",
       "      <th>2</th>\n",
       "      <td>Tyron Charles death: Murder victim 'dumped in ...</td>\n",
       "      <td>Image copyright Family handout Image caption T...</td>\n",
       "      <td>www.bbc.com</td>\n",
       "      <td>2018-07-04 20:09:54</td>\n",
       "      <td>Police secretly recorded prison visits to find...</td>\n",
       "      <td>https://www.bbc.com/news/uk-england-leeds-4471...</td>\n",
       "      <td>https://ichef.bbci.co.uk/news/1024/branded_new...</td>\n",
       "    </tr>\n",
       "    <tr>\n",
       "      <th>3</th>\n",
       "      <td>North Korean official accuses U.S. of turning ...</td>\n",
       "      <td>Justice Neil Gorsuch heard his first arguments...</td>\n",
       "      <td>theweek.com</td>\n",
       "      <td>2017-04-17 19:12:38</td>\n",
       "      <td>Official site of The Week Magazine, offering c...</td>\n",
       "      <td>http://theweek.com/speedreads/692792/north-kor...</td>\n",
       "      <td>http://api.theweek.com/sites/default/files/sty...</td>\n",
       "    </tr>\n",
       "    <tr>\n",
       "      <th>4</th>\n",
       "      <td>Spring's Sweet Start: Dairy Queen's Free Cone Day</td>\n",
       "      <td>What to Know Tuesday, March 20\\nParticipating ...</td>\n",
       "      <td>www.nbclosangeles.com</td>\n",
       "      <td>2018-03-19 10:44:02</td>\n",
       "      <td>Find your pay-nothing small vanilla cone on th...</td>\n",
       "      <td>https://www.nbclosangeles.com/news/local/Sprin...</td>\n",
       "      <td>https://media.nbclosangeles.com/images/1200*67...</td>\n",
       "    </tr>\n",
       "  </tbody>\n",
       "</table>\n",
       "</div>"
      ],
      "text/plain": [
       "                                               title  \\\n",
       "0  Cristiano Ronaldo banned for 5 games after pus...   \n",
       "1       Why the Philippines is not truly independent   \n",
       "2  Tyron Charles death: Murder victim 'dumped in ...   \n",
       "3  North Korean official accuses U.S. of turning ...   \n",
       "4  Spring's Sweet Start: Dairy Queen's Free Cone Day   \n",
       "\n",
       "                                                text                 domain  \\\n",
       "0  (AP Photo/Manu Fernandez). Real Madrid's Crist...          www.wave3.com   \n",
       "1  FOR leftists, American assistance in the Maraw...    www.manilatimes.net   \n",
       "2  Image copyright Family handout Image caption T...            www.bbc.com   \n",
       "3  Justice Neil Gorsuch heard his first arguments...            theweek.com   \n",
       "4  What to Know Tuesday, March 20\\nParticipating ...  www.nbclosangeles.com   \n",
       "\n",
       "                  date                                        description  \\\n",
       "0  2017-08-14 00:00:00                                                      \n",
       "1  2017-06-15 00:21:39                                                      \n",
       "2  2018-07-04 20:09:54  Police secretly recorded prison visits to find...   \n",
       "3  2017-04-17 19:12:38  Official site of The Week Magazine, offering c...   \n",
       "4  2018-03-19 10:44:02  Find your pay-nothing small vanilla cone on th...   \n",
       "\n",
       "                                                 url  \\\n",
       "0  http://www.wave3.com/story/36129496/cristiano-...   \n",
       "1  http://www.manilatimes.net/philippines-not-tru...   \n",
       "2  https://www.bbc.com/news/uk-england-leeds-4471...   \n",
       "3  http://theweek.com/speedreads/692792/north-kor...   \n",
       "4  https://www.nbclosangeles.com/news/local/Sprin...   \n",
       "\n",
       "                                           image_url  \n",
       "0  http://APMOBILE.images.worldnow.com/images/146...  \n",
       "1  http://manilatimes.net/wp-content/uploads/2016...  \n",
       "2  https://ichef.bbci.co.uk/news/1024/branded_new...  \n",
       "3  http://api.theweek.com/sites/default/files/sty...  \n",
       "4  https://media.nbclosangeles.com/images/1200*67...  "
      ]
     },
     "execution_count": 6,
     "metadata": {},
     "output_type": "execute_result"
    }
   ],
   "source": [
    "df.head()"
   ]
  },
  {
   "cell_type": "code",
   "execution_count": 8,
   "id": "11910125-ff82-4922-8e57-b990aa4e62bf",
   "metadata": {},
   "outputs": [],
   "source": [
    "df.to_parquet(\"cc_news_sample.parquet\", compression=\"gzip\")"
   ]
  },
  {
   "cell_type": "markdown",
   "id": "9eaacefe",
   "metadata": {},
   "source": [
    "## 3. Flash NLP Intro"
   ]
  },
  {
   "cell_type": "markdown",
   "id": "e8ace9fa",
   "metadata": {},
   "source": [
    "We can use the `.loc[index, column]` method on our dataframe, select one column and one row using a comma to separate both, and examine a prettier version of the text using the python function `pprint()`."
   ]
  },
  {
   "cell_type": "code",
   "execution_count": 9,
   "id": "539bb68f",
   "metadata": {
    "tags": []
   },
   "outputs": [
    {
     "name": "stdout",
     "output_type": "stream",
     "text": [
      "('Autism is a neurological and developmental diagnosis seen from early '\n",
      " 'childhood marked by difficulty in communicating, forming relationships and '\n",
      " 'using languages. In Sri Lanka, one in 93 children have been found to have '\n",
      " 'autism. Studies have shown that the condition of an autistic child can '\n",
      " 'improve with early diagnosis. Early diagnosis and provision of further '\n",
      " \"information to caregivers is largely linked to the level of physicians' \"\n",
      " 'knowledge of autism.\\n'\n",
      " \"A recent study carried out in Sri Lanka to assess doctors' knowledge of \"\n",
      " 'diagnostic features and co-morbidities of childhood autism in a tertiary '\n",
      " 'care hospital has found that around 50% of the doctors were unaware of some '\n",
      " 'of the signs and symptoms of it.\\n'\n",
      " '\"Our study has revealed that the knowledge of diagnostic features and '\n",
      " 'comorbidities of childhood autism among doctors is poor,\" says Dr Yasodha '\n",
      " 'Maheshi Rohanachandra, lead author of the research article.\\n'\n",
      " '\"There is a lack of educational psychologists and teachers trained in '\n",
      " 'specialized autism educational strategies. Also, there is a poor awareness '\n",
      " 'about autism in the community and services for children with autism in Sri '\n",
      " 'Lanka are limited and centralized,\" she adds.\\n'\n",
      " 'According to the research, the majority (62%) of the 176 surveyed doctors '\n",
      " 'believed that they lacked the competence to identify autism.\\n'\n",
      " 'Awareness of symptoms among doctors was highest regarding impaired social '\n",
      " 'interactions (76%). In contrast, only 61% of doctors were aware that '\n",
      " 'restricted, repetitive interests/ behaviors are also a potential symptom. '\n",
      " 'The knowledge of medical professionals in identification of children with '\n",
      " 'autism had not been assessed previously in Sri Lanka.\\n'\n",
      " '\"There is a need for regular in-service programmes for medical officers to '\n",
      " 'help improve their knowledge to enable early identification and referral,\" '\n",
      " 'says Dr Rohanachandra.\\n'\n",
      " 'She suggests: \"Improving awareness about autism among early childhood '\n",
      " 'educators such as pre-school and primary school teachers would also benefit '\n",
      " 'these children by facilitating early referral to services.\"\\n'\n",
      " 'According to the authors, providing training to teachers on autism specific '\n",
      " 'teaching methods and setting up resource centers in school is another '\n",
      " 'important step in improving the learning opportunities of children.\\n'\n",
      " 'The authors recommend de-centralizing early intervention services to be '\n",
      " 'beneficial in making services more accessible. It also emphasizes a '\n",
      " 'government initiative to support families of children with autism to access '\n",
      " 'appropriate care including financial support and respite services; having a '\n",
      " 'child with autism can place a significant stress on the family system.\\n'\n",
      " 'For more information: Rohanachandra, Y.M. et al., (2017). Knowledge about '\n",
      " 'diagnostic features and comorbidities of childhood autism among doctors in a '\n",
      " 'tertiary care hospital. Sri Lanka Journal of Child Health. 46(1), pp.29-32. '\n",
      " 'The article is available online for free access on the SLJOL platform '\n",
      " 'supported by INASP.\\n'\n",
      " 'Disclaimer: Research published in journals hosted on the SLJOL platform is '\n",
      " 'selected by the journals in accordance with their own editorial processes '\n",
      " 'and criteria. INASP and the National Science Foundation of Sri Lanka provide '\n",
      " 'hosting and guidance on good practices but are not involved in selection of '\n",
      " 'research.')\n"
     ]
    }
   ],
   "source": [
    "random_article = df.iloc[10, 1]\n",
    "pprint(random_article)"
   ]
  },
  {
   "cell_type": "markdown",
   "id": "a9e408ec",
   "metadata": {},
   "source": [
    "Notice how the review above is quite messy and it has a lot of characters that, for all intents and purposes, will not be useful for our analysis. Let's examine a cleaner version of the article above by running it through spaCy's tokenizer. When we tokenize a document, we are separating all of its content into each of its components, i.e. words, numbers, punctiations and the like, to make it easier to process it, clean it, and to run computations on it.\n",
    "\n",
    "For this part, we will load an english model, instantiate it and pass an example article through it. You may need to run the cell below first to download the english model."
   ]
  },
  {
   "cell_type": "code",
   "execution_count": 10,
   "id": "f3c55811",
   "metadata": {
    "scrolled": true,
    "tags": []
   },
   "outputs": [
    {
     "name": "stdout",
     "output_type": "stream",
     "text": [
      "/home/ramonperez/anaconda/envs/vector/lib/python3.9/site-packages/torch/cuda/__init__.py:52: UserWarning: CUDA initialization: Unexpected error from cudaGetDeviceCount(). Did you run some cuda functions before calling NumCudaDevices() that might have already set an error? Error 803: system has unsupported display driver / cuda driver combination (Triggered internally at  /opt/conda/conda-bld/pytorch_1623448255797/work/c10/cuda/CUDAFunctions.cpp:115.)\n",
      "  return torch._C._cuda_getDeviceCount() > 0\n",
      "Collecting en-core-web-lg==3.1.0\n",
      "  Downloading https://github.com/explosion/spacy-models/releases/download/en_core_web_lg-3.1.0/en_core_web_lg-3.1.0-py3-none-any.whl (777.1 MB)\n",
      "\u001b[K     |██████████████████████▋         | 548.8 MB 1.7 kB/s eta 1 day, 14:17:02█████████████▍                 | 349.7 MB 271 kB/s eta 0:26:16     |██████████████▋                 | 355.8 MB 134 kB/s eta 0:52:02     |████████████████████▏           | 489.5 MB 66 kB/s eta 1:11:58     |█████████████████████▉          | 528.9 MB 64 kB/s eta 1:04:22     |█████████████████████▉          | 529.4 MB 57 kB/s eta 1:11:51     |██████████████████████          | 532.0 MB 78 kB/s eta 0:52:07     |██████████████████████          | 532.3 MB 74 kB/s eta 0:54:58     |██████████████████████          | 533.9 MB 78 kB/s eta 0:51:47     |██████████████████████          | 534.3 MB 71 kB/s eta 0:56:51"
     ]
    },
    {
     "name": "stderr",
     "output_type": "stream",
     "text": [
      "IOStream.flush timed out\n"
     ]
    },
    {
     "name": "stdout",
     "output_type": "stream",
     "text": [
      "\u001b[K     |████████████████████████████████| 777.1 MB 53 kB/s  eta 0:00:0174:16:31\n",
      "\u001b[?25hRequirement already satisfied: spacy<3.2.0,>=3.1.0 in /home/ramonperez/anaconda/envs/vector/lib/python3.9/site-packages (from en-core-web-lg==3.1.0) (3.1.1)\n",
      "Requirement already satisfied: catalogue<2.1.0,>=2.0.4 in /home/ramonperez/anaconda/envs/vector/lib/python3.9/site-packages (from spacy<3.2.0,>=3.1.0->en-core-web-lg==3.1.0) (2.0.6)\n",
      "Requirement already satisfied: requests<3.0.0,>=2.13.0 in /home/ramonperez/anaconda/envs/vector/lib/python3.9/site-packages (from spacy<3.2.0,>=3.1.0->en-core-web-lg==3.1.0) (2.26.0)\n",
      "Requirement already satisfied: typer<0.4.0,>=0.3.0 in /home/ramonperez/anaconda/envs/vector/lib/python3.9/site-packages (from spacy<3.2.0,>=3.1.0->en-core-web-lg==3.1.0) (0.3.2)\n",
      "Requirement already satisfied: spacy-legacy<3.1.0,>=3.0.7 in /home/ramonperez/anaconda/envs/vector/lib/python3.9/site-packages (from spacy<3.2.0,>=3.1.0->en-core-web-lg==3.1.0) (3.0.8)\n",
      "Requirement already satisfied: wasabi<1.1.0,>=0.8.1 in /home/ramonperez/anaconda/envs/vector/lib/python3.9/site-packages (from spacy<3.2.0,>=3.1.0->en-core-web-lg==3.1.0) (0.8.2)\n",
      "Requirement already satisfied: setuptools in /home/ramonperez/anaconda/envs/vector/lib/python3.9/site-packages (from spacy<3.2.0,>=3.1.0->en-core-web-lg==3.1.0) (57.4.0)\n",
      "Requirement already satisfied: pydantic!=1.8,!=1.8.1,<1.9.0,>=1.7.4 in /home/ramonperez/anaconda/envs/vector/lib/python3.9/site-packages (from spacy<3.2.0,>=3.1.0->en-core-web-lg==3.1.0) (1.8.2)\n",
      "Requirement already satisfied: tqdm<5.0.0,>=4.38.0 in /home/ramonperez/anaconda/envs/vector/lib/python3.9/site-packages (from spacy<3.2.0,>=3.1.0->en-core-web-lg==3.1.0) (4.62.2)\n",
      "Requirement already satisfied: pathy>=0.3.5 in /home/ramonperez/anaconda/envs/vector/lib/python3.9/site-packages (from spacy<3.2.0,>=3.1.0->en-core-web-lg==3.1.0) (0.6.0)\n",
      "Requirement already satisfied: packaging>=20.0 in /home/ramonperez/anaconda/envs/vector/lib/python3.9/site-packages (from spacy<3.2.0,>=3.1.0->en-core-web-lg==3.1.0) (21.0)\n",
      "Requirement already satisfied: cymem<2.1.0,>=2.0.2 in /home/ramonperez/anaconda/envs/vector/lib/python3.9/site-packages (from spacy<3.2.0,>=3.1.0->en-core-web-lg==3.1.0) (2.0.5)\n",
      "Requirement already satisfied: murmurhash<1.1.0,>=0.28.0 in /home/ramonperez/anaconda/envs/vector/lib/python3.9/site-packages (from spacy<3.2.0,>=3.1.0->en-core-web-lg==3.1.0) (1.0.5)\n",
      "Requirement already satisfied: blis<0.8.0,>=0.4.0 in /home/ramonperez/anaconda/envs/vector/lib/python3.9/site-packages (from spacy<3.2.0,>=3.1.0->en-core-web-lg==3.1.0) (0.7.4)\n",
      "Requirement already satisfied: thinc<8.1.0,>=8.0.8 in /home/ramonperez/anaconda/envs/vector/lib/python3.9/site-packages (from spacy<3.2.0,>=3.1.0->en-core-web-lg==3.1.0) (8.0.9)\n",
      "Requirement already satisfied: numpy>=1.15.0 in /home/ramonperez/anaconda/envs/vector/lib/python3.9/site-packages (from spacy<3.2.0,>=3.1.0->en-core-web-lg==3.1.0) (1.21.1)\n",
      "Requirement already satisfied: preshed<3.1.0,>=3.0.2 in /home/ramonperez/anaconda/envs/vector/lib/python3.9/site-packages (from spacy<3.2.0,>=3.1.0->en-core-web-lg==3.1.0) (3.0.5)\n",
      "Requirement already satisfied: srsly<3.0.0,>=2.4.1 in /home/ramonperez/anaconda/envs/vector/lib/python3.9/site-packages (from spacy<3.2.0,>=3.1.0->en-core-web-lg==3.1.0) (2.4.1)\n",
      "Requirement already satisfied: jinja2 in /home/ramonperez/anaconda/envs/vector/lib/python3.9/site-packages (from spacy<3.2.0,>=3.1.0->en-core-web-lg==3.1.0) (3.0.1)\n",
      "Requirement already satisfied: pyparsing>=2.0.2 in /home/ramonperez/anaconda/envs/vector/lib/python3.9/site-packages (from packaging>=20.0->spacy<3.2.0,>=3.1.0->en-core-web-lg==3.1.0) (2.4.7)\n",
      "Requirement already satisfied: smart-open<6.0.0,>=5.0.0 in /home/ramonperez/anaconda/envs/vector/lib/python3.9/site-packages (from pathy>=0.3.5->spacy<3.2.0,>=3.1.0->en-core-web-lg==3.1.0) (5.2.1)\n",
      "Requirement already satisfied: typing-extensions>=3.7.4.3 in /home/ramonperez/anaconda/envs/vector/lib/python3.9/site-packages (from pydantic!=1.8,!=1.8.1,<1.9.0,>=1.7.4->spacy<3.2.0,>=3.1.0->en-core-web-lg==3.1.0) (3.10.0.0)\n",
      "Requirement already satisfied: charset-normalizer~=2.0.0 in /home/ramonperez/anaconda/envs/vector/lib/python3.9/site-packages (from requests<3.0.0,>=2.13.0->spacy<3.2.0,>=3.1.0->en-core-web-lg==3.1.0) (2.0.0)\n",
      "Requirement already satisfied: idna<4,>=2.5 in /home/ramonperez/anaconda/envs/vector/lib/python3.9/site-packages (from requests<3.0.0,>=2.13.0->spacy<3.2.0,>=3.1.0->en-core-web-lg==3.1.0) (3.1)\n",
      "Requirement already satisfied: urllib3<1.27,>=1.21.1 in /home/ramonperez/anaconda/envs/vector/lib/python3.9/site-packages (from requests<3.0.0,>=2.13.0->spacy<3.2.0,>=3.1.0->en-core-web-lg==3.1.0) (1.26.6)\n",
      "Requirement already satisfied: certifi>=2017.4.17 in /home/ramonperez/anaconda/envs/vector/lib/python3.9/site-packages (from requests<3.0.0,>=2.13.0->spacy<3.2.0,>=3.1.0->en-core-web-lg==3.1.0) (2021.5.30)\n",
      "Collecting click<7.2.0,>=7.1.1\n",
      "  Using cached click-7.1.2-py2.py3-none-any.whl (82 kB)\n",
      "Requirement already satisfied: MarkupSafe>=2.0 in /home/ramonperez/anaconda/envs/vector/lib/python3.9/site-packages (from jinja2->spacy<3.2.0,>=3.1.0->en-core-web-lg==3.1.0) (2.0.1)\n",
      "Installing collected packages: click, en-core-web-lg\n",
      "  Attempting uninstall: click\n",
      "    Found existing installation: click 8.0.1\n",
      "    Uninstalling click-8.0.1:\n",
      "      Successfully uninstalled click-8.0.1\n",
      "Successfully installed click-7.1.2 en-core-web-lg-3.1.0\n",
      "\u001b[38;5;2m✔ Download and installation successful\u001b[0m\n",
      "You can now load the package via spacy.load('en_core_web_lg')\n"
     ]
    }
   ],
   "source": [
    "# !python -m spacy download en_core_web_lg"
   ]
  },
  {
   "cell_type": "code",
   "execution_count": 12,
   "id": "e78c1b70",
   "metadata": {},
   "outputs": [],
   "source": [
    "nlp = spacy.load(\"en_core_web_lg\")"
   ]
  },
  {
   "cell_type": "code",
   "execution_count": 13,
   "id": "ff4e249a",
   "metadata": {},
   "outputs": [],
   "source": [
    "parsed_article = nlp(random_article)"
   ]
  },
  {
   "cell_type": "code",
   "execution_count": 14,
   "id": "e106529c",
   "metadata": {
    "scrolled": true,
    "tags": []
   },
   "outputs": [
    {
     "data": {
      "text/plain": [
       "Autism is a neurological and developmental diagnosis seen from early childhood marked by difficulty in communicating, forming relationships and using languages. In Sri Lanka, one in 93 children have been found to have autism. Studies have shown that the condition of an autistic child can improve with early diagnosis. Early diagnosis and provision of further information to caregivers is largely linked to the level of physicians' knowledge of autism.\n",
       "A recent study carried out in Sri Lanka to assess doctors' knowledge of diagnostic features and co-morbidities of childhood autism in a tertiary care hospital has found that around 50% of the doctors were unaware of some of the signs and symptoms of it.\n",
       "\"Our study has revealed that the knowledge of diagnostic features and comorbidities of childhood autism among doctors is poor,\" says Dr Yasodha Maheshi Rohanachandra, lead author of the research article.\n",
       "\"There is a lack of educational psychologists and teachers trained in specialized autism educational strategies. Also, there is a poor awareness about autism in the community and services for children with autism in Sri Lanka are limited and centralized,\" she adds.\n",
       "According to the research, the majority (62%) of the 176 surveyed doctors believed that they lacked the competence to identify autism.\n",
       "Awareness of symptoms among doctors was highest regarding impaired social interactions (76%). In contrast, only 61% of doctors were aware that restricted, repetitive interests/ behaviors are also a potential symptom. The knowledge of medical professionals in identification of children with autism had not been assessed previously in Sri Lanka.\n",
       "\"There is a need for regular in-service programmes for medical officers to help improve their knowledge to enable early identification and referral,\" says Dr Rohanachandra.\n",
       "She suggests: \"Improving awareness about autism among early childhood educators such as pre-school and primary school teachers would also benefit these children by facilitating early referral to services.\"\n",
       "According to the authors, providing training to teachers on autism specific teaching methods and setting up resource centers in school is another important step in improving the learning opportunities of children.\n",
       "The authors recommend de-centralizing early intervention services to be beneficial in making services more accessible. It also emphasizes a government initiative to support families of children with autism to access appropriate care including financial support and respite services; having a child with autism can place a significant stress on the family system.\n",
       "For more information: Rohanachandra, Y.M. et al., (2017). Knowledge about diagnostic features and comorbidities of childhood autism among doctors in a tertiary care hospital. Sri Lanka Journal of Child Health. 46(1), pp.29-32. The article is available online for free access on the SLJOL platform supported by INASP.\n",
       "Disclaimer: Research published in journals hosted on the SLJOL platform is selected by the journals in accordance with their own editorial processes and criteria. INASP and the National Science Foundation of Sri Lanka provide hosting and guidance on good practices but are not involved in selection of research."
      ]
     },
     "execution_count": 14,
     "metadata": {},
     "output_type": "execute_result"
    }
   ],
   "source": [
    "parsed_article"
   ]
  },
  {
   "cell_type": "markdown",
   "id": "0a65af8f",
   "metadata": {},
   "source": [
    "Notice how much nicer our article looks now.\n",
    "\n",
    "We can also grab the sentences and view them one by one using the attribute `.sents` and the built in python function `next()`, since the attribute of a document that has been tokenized by spacy will always return an iterator. Conversely, we can add it to a loop and show each of the sentences in an article."
   ]
  },
  {
   "cell_type": "code",
   "execution_count": 15,
   "id": "efbfb882",
   "metadata": {},
   "outputs": [
    {
     "data": {
      "text/plain": [
       "(0,\n",
       " Autism is a neurological and developmental diagnosis seen from early childhood marked by difficulty in communicating, forming relationships and using languages.)"
      ]
     },
     "execution_count": 15,
     "metadata": {},
     "output_type": "execute_result"
    }
   ],
   "source": [
    "next(enumerate(parsed_article.sents))"
   ]
  },
  {
   "cell_type": "code",
   "execution_count": 16,
   "id": "8f7d2e28",
   "metadata": {
    "scrolled": true,
    "tags": []
   },
   "outputs": [
    {
     "name": "stdout",
     "output_type": "stream",
     "text": [
      "Sentence #0:\n",
      " Autism is a neurological and developmental diagnosis seen from early childhood marked by difficulty in communicating, forming relationships and using languages.\n",
      "\n",
      "Sentence #1:\n",
      " In Sri Lanka, one in 93 children have been found to have autism.\n",
      "\n",
      "Sentence #2:\n",
      " Studies have shown that the condition of an autistic child can improve with early diagnosis.\n",
      "\n",
      "Sentence #3:\n",
      " Early diagnosis and provision of further information to caregivers is largely linked to the level of physicians' knowledge of autism.\n",
      "\n",
      "Sentence #4:\n",
      " \n",
      "\n",
      "\n",
      "Sentence #5:\n",
      " A recent study carried out in Sri Lanka to assess doctors' knowledge of diagnostic features and co-morbidities of childhood autism in a tertiary care hospital has found that around 50% of the doctors were unaware of some of the signs and symptoms of it.\n",
      "\n",
      "Sentence #6:\n",
      " \n",
      "\"Our study has revealed that the knowledge of diagnostic features and comorbidities of childhood autism among doctors is poor,\" says Dr Yasodha Maheshi Rohanachandra, lead author of the research article.\n",
      "\n",
      "Sentence #7:\n",
      " \n",
      "\"There is a lack of educational psychologists and teachers trained in specialized autism educational strategies.\n",
      "\n",
      "Sentence #8:\n",
      " Also, there is a poor awareness about autism in the community and services for children with autism in Sri Lanka are limited and centralized,\" she adds.\n",
      "\n",
      "Sentence #9:\n",
      " \n",
      "\n",
      "\n",
      "Sentence #10:\n",
      " According to the research, the majority (62%) of the 176 surveyed doctors believed that they lacked the competence to identify autism.\n",
      "\n",
      "Sentence #11:\n",
      " \n",
      "Awareness of symptoms among doctors was highest regarding impaired social interactions (76%).\n",
      "\n",
      "Sentence #12:\n",
      " In contrast, only 61% of doctors were aware that restricted, repetitive interests/ behaviors are also a potential symptom.\n",
      "\n",
      "Sentence #13:\n",
      " The knowledge of medical professionals in identification of children with autism had not been assessed previously in Sri Lanka.\n",
      "\n",
      "Sentence #14:\n",
      " \n",
      "\"There is a need for regular in-service programmes for medical officers to help improve their knowledge to enable early identification and referral,\" says Dr Rohanachandra.\n",
      "\n",
      "Sentence #15:\n",
      " \n",
      "\n",
      "\n",
      "Sentence #16:\n",
      " She suggests: \"Improving awareness about autism among early childhood educators such as pre-school and primary school teachers would also benefit these children by facilitating early referral to services.\"\n",
      "\n",
      "Sentence #17:\n",
      " \n",
      "\n",
      "\n",
      "Sentence #18:\n",
      " According to the authors, providing training to teachers on autism specific teaching methods and setting up resource centers in school is another important step in improving the learning opportunities of children.\n",
      "\n",
      "Sentence #19:\n",
      " \n",
      "The authors recommend de-centralizing early intervention services to be beneficial in making services more accessible.\n",
      "\n",
      "Sentence #20:\n",
      " It also emphasizes a government initiative to support families of children with autism to access appropriate care including financial support and respite services; having a child with autism can place a significant stress on the family system.\n",
      "\n",
      "Sentence #21:\n",
      " \n",
      "For more information: Rohanachandra, Y.M. et al., (2017).\n",
      "\n",
      "Sentence #22:\n",
      " Knowledge about diagnostic features and comorbidities of childhood autism among doctors in a tertiary care hospital.\n",
      "\n",
      "Sentence #23:\n",
      " Sri Lanka Journal of Child Health.\n",
      "\n",
      "Sentence #24:\n",
      " 46(1), pp.29-32.\n",
      "\n",
      "Sentence #25:\n",
      " The article is available online for free access on the SLJOL platform supported by INASP.\n",
      "\n",
      "Sentence #26:\n",
      " \n",
      "Disclaimer: Research published in journals hosted on the SLJOL platform is selected by the journals in accordance with their own editorial processes and criteria.\n",
      "\n",
      "Sentence #27:\n",
      " INASP and the National Science Foundation of Sri Lanka provide hosting and guidance on good practices but are not involved in selection of research.\n",
      "\n"
     ]
    }
   ],
   "source": [
    "for num, sentence in enumerate(parsed_article.sents):\n",
    "    print(f\"Sentence #{num}:\\n {sentence}\\n\")"
   ]
  },
  {
   "cell_type": "markdown",
   "id": "1fc73198",
   "metadata": {},
   "source": [
    "We can also have a look at the different kinds of entities in an article. These entities can be a person (called PERSON), and number (called CARDINAL), a geopolitical entity (called GPE), etc."
   ]
  },
  {
   "cell_type": "code",
   "execution_count": 17,
   "id": "2b3856d5",
   "metadata": {
    "scrolled": true,
    "tags": []
   },
   "outputs": [
    {
     "name": "stdout",
     "output_type": "stream",
     "text": [
      "Entity #0: Sri Lanka -- GPE\n",
      "\n",
      "Entity #1: one -- CARDINAL\n",
      "\n",
      "Entity #2: 93 -- CARDINAL\n",
      "\n",
      "Entity #3: Sri Lanka -- GPE\n",
      "\n",
      "Entity #4: around 50% -- PERCENT\n",
      "\n",
      "Entity #5: Dr Yasodha Maheshi Rohanachandra -- PERSON\n",
      "\n",
      "Entity #6: Sri Lanka -- GPE\n",
      "\n",
      "Entity #7: 62% -- PERCENT\n",
      "\n",
      "Entity #8: 176 -- CARDINAL\n",
      "\n",
      "Entity #9: 76% -- PERCENT\n",
      "\n",
      "Entity #10: only 61% -- PERCENT\n",
      "\n",
      "Entity #11: Sri Lanka -- GPE\n",
      "\n",
      "Entity #12: Dr Rohanachandra -- PERSON\n",
      "\n",
      "Entity #13: Rohanachandra -- PERSON\n",
      "\n",
      "Entity #14: Y.M. et al. -- PERSON\n",
      "\n",
      "Entity #15: 2017 -- DATE\n",
      "\n",
      "Entity #16: Sri Lanka Journal of Child Health -- ORG\n",
      "\n",
      "Entity #17: 46(1 -- CARDINAL\n",
      "\n",
      "Entity #18: pp.29-32 -- DATE\n",
      "\n",
      "Entity #19: SLJOL -- ORG\n",
      "\n",
      "Entity #20: SLJOL -- ORG\n",
      "\n",
      "Entity #21: the National Science Foundation of -- ORG\n",
      "\n",
      "Entity #22: Sri Lanka -- GPE\n",
      "\n"
     ]
    }
   ],
   "source": [
    "for num, entity in enumerate(parsed_article.ents):\n",
    "    print(f\"Entity #{num}: {entity} -- {entity.label_}\\n\")"
   ]
  },
  {
   "cell_type": "code",
   "execution_count": 18,
   "id": "e3bd5c58",
   "metadata": {},
   "outputs": [
    {
     "data": {
      "text/plain": [
       "'Non-GPE locations, mountain ranges, bodies of water'"
      ]
     },
     "execution_count": 18,
     "metadata": {},
     "output_type": "execute_result"
    }
   ],
   "source": [
    "spacy.explain(\"LOC\")"
   ]
  },
  {
   "cell_type": "markdown",
   "id": "eac41a04",
   "metadata": {},
   "source": [
    "We can also check weather a word is a stopword or a punctuation, or we can even lemmatize our articles. Lemmatization is a way of taking the root of a word and bringing similar words to a common denominator, for example, `was` will become `be` and most plural words will become singular words."
   ]
  },
  {
   "cell_type": "code",
   "execution_count": 19,
   "id": "1b5cf574",
   "metadata": {},
   "outputs": [
    {
     "data": {
      "text/plain": [
       "['Autism',\n",
       " 'is',\n",
       " 'a',\n",
       " 'neurological',\n",
       " 'and',\n",
       " 'developmental',\n",
       " 'diagnosis',\n",
       " 'seen',\n",
       " 'from',\n",
       " 'early']"
      ]
     },
     "execution_count": 19,
     "metadata": {},
     "output_type": "execute_result"
    }
   ],
   "source": [
    "new_list = []\n",
    "\n",
    "for token in parsed_article:\n",
    "    new_list.append(token.text)\n",
    "    \n",
    "    \n",
    "new_list[:10]"
   ]
  },
  {
   "cell_type": "code",
   "execution_count": 20,
   "id": "f2060f67",
   "metadata": {},
   "outputs": [
    {
     "data": {
      "text/plain": [
       "['Autism',\n",
       " 'is',\n",
       " 'a',\n",
       " 'neurological',\n",
       " 'and',\n",
       " 'developmental',\n",
       " 'diagnosis',\n",
       " 'seen',\n",
       " 'from',\n",
       " 'early']"
      ]
     },
     "execution_count": 20,
     "metadata": {},
     "output_type": "execute_result"
    }
   ],
   "source": [
    "new_list = [token.text for token in parsed_article]\n",
    "\n",
    "new_list[:10]"
   ]
  },
  {
   "cell_type": "code",
   "execution_count": 21,
   "id": "47510924",
   "metadata": {
    "scrolled": true,
    "tags": []
   },
   "outputs": [
    {
     "data": {
      "text/html": [
       "<div>\n",
       "<style scoped>\n",
       "    .dataframe tbody tr th:only-of-type {\n",
       "        vertical-align: middle;\n",
       "    }\n",
       "\n",
       "    .dataframe tbody tr th {\n",
       "        vertical-align: top;\n",
       "    }\n",
       "\n",
       "    .dataframe thead th {\n",
       "        text-align: right;\n",
       "    }\n",
       "</style>\n",
       "<table border=\"1\" class=\"dataframe\">\n",
       "  <thead>\n",
       "    <tr style=\"text-align: right;\">\n",
       "      <th></th>\n",
       "      <th>Original Text</th>\n",
       "      <th>Lemmatized Text</th>\n",
       "      <th>Punctuations</th>\n",
       "      <th>stopwords</th>\n",
       "    </tr>\n",
       "  </thead>\n",
       "  <tbody>\n",
       "    <tr>\n",
       "      <th>0</th>\n",
       "      <td>Autism</td>\n",
       "      <td>autism</td>\n",
       "      <td>False</td>\n",
       "      <td>False</td>\n",
       "    </tr>\n",
       "    <tr>\n",
       "      <th>1</th>\n",
       "      <td>is</td>\n",
       "      <td>be</td>\n",
       "      <td>False</td>\n",
       "      <td>True</td>\n",
       "    </tr>\n",
       "    <tr>\n",
       "      <th>2</th>\n",
       "      <td>a</td>\n",
       "      <td>a</td>\n",
       "      <td>False</td>\n",
       "      <td>True</td>\n",
       "    </tr>\n",
       "    <tr>\n",
       "      <th>3</th>\n",
       "      <td>neurological</td>\n",
       "      <td>neurological</td>\n",
       "      <td>False</td>\n",
       "      <td>False</td>\n",
       "    </tr>\n",
       "    <tr>\n",
       "      <th>4</th>\n",
       "      <td>and</td>\n",
       "      <td>and</td>\n",
       "      <td>False</td>\n",
       "      <td>True</td>\n",
       "    </tr>\n",
       "    <tr>\n",
       "      <th>5</th>\n",
       "      <td>developmental</td>\n",
       "      <td>developmental</td>\n",
       "      <td>False</td>\n",
       "      <td>False</td>\n",
       "    </tr>\n",
       "    <tr>\n",
       "      <th>6</th>\n",
       "      <td>diagnosis</td>\n",
       "      <td>diagnosis</td>\n",
       "      <td>False</td>\n",
       "      <td>False</td>\n",
       "    </tr>\n",
       "    <tr>\n",
       "      <th>7</th>\n",
       "      <td>seen</td>\n",
       "      <td>see</td>\n",
       "      <td>False</td>\n",
       "      <td>False</td>\n",
       "    </tr>\n",
       "    <tr>\n",
       "      <th>8</th>\n",
       "      <td>from</td>\n",
       "      <td>from</td>\n",
       "      <td>False</td>\n",
       "      <td>True</td>\n",
       "    </tr>\n",
       "    <tr>\n",
       "      <th>9</th>\n",
       "      <td>early</td>\n",
       "      <td>early</td>\n",
       "      <td>False</td>\n",
       "      <td>False</td>\n",
       "    </tr>\n",
       "    <tr>\n",
       "      <th>10</th>\n",
       "      <td>childhood</td>\n",
       "      <td>childhood</td>\n",
       "      <td>False</td>\n",
       "      <td>False</td>\n",
       "    </tr>\n",
       "    <tr>\n",
       "      <th>11</th>\n",
       "      <td>marked</td>\n",
       "      <td>mark</td>\n",
       "      <td>False</td>\n",
       "      <td>False</td>\n",
       "    </tr>\n",
       "    <tr>\n",
       "      <th>12</th>\n",
       "      <td>by</td>\n",
       "      <td>by</td>\n",
       "      <td>False</td>\n",
       "      <td>True</td>\n",
       "    </tr>\n",
       "    <tr>\n",
       "      <th>13</th>\n",
       "      <td>difficulty</td>\n",
       "      <td>difficulty</td>\n",
       "      <td>False</td>\n",
       "      <td>False</td>\n",
       "    </tr>\n",
       "    <tr>\n",
       "      <th>14</th>\n",
       "      <td>in</td>\n",
       "      <td>in</td>\n",
       "      <td>False</td>\n",
       "      <td>True</td>\n",
       "    </tr>\n",
       "    <tr>\n",
       "      <th>15</th>\n",
       "      <td>communicating</td>\n",
       "      <td>communicate</td>\n",
       "      <td>False</td>\n",
       "      <td>False</td>\n",
       "    </tr>\n",
       "    <tr>\n",
       "      <th>16</th>\n",
       "      <td>,</td>\n",
       "      <td>,</td>\n",
       "      <td>True</td>\n",
       "      <td>False</td>\n",
       "    </tr>\n",
       "    <tr>\n",
       "      <th>17</th>\n",
       "      <td>forming</td>\n",
       "      <td>form</td>\n",
       "      <td>False</td>\n",
       "      <td>False</td>\n",
       "    </tr>\n",
       "    <tr>\n",
       "      <th>18</th>\n",
       "      <td>relationships</td>\n",
       "      <td>relationship</td>\n",
       "      <td>False</td>\n",
       "      <td>False</td>\n",
       "    </tr>\n",
       "    <tr>\n",
       "      <th>19</th>\n",
       "      <td>and</td>\n",
       "      <td>and</td>\n",
       "      <td>False</td>\n",
       "      <td>True</td>\n",
       "    </tr>\n",
       "    <tr>\n",
       "      <th>20</th>\n",
       "      <td>using</td>\n",
       "      <td>use</td>\n",
       "      <td>False</td>\n",
       "      <td>True</td>\n",
       "    </tr>\n",
       "    <tr>\n",
       "      <th>21</th>\n",
       "      <td>languages</td>\n",
       "      <td>language</td>\n",
       "      <td>False</td>\n",
       "      <td>False</td>\n",
       "    </tr>\n",
       "    <tr>\n",
       "      <th>22</th>\n",
       "      <td>.</td>\n",
       "      <td>.</td>\n",
       "      <td>True</td>\n",
       "      <td>False</td>\n",
       "    </tr>\n",
       "    <tr>\n",
       "      <th>23</th>\n",
       "      <td>In</td>\n",
       "      <td>in</td>\n",
       "      <td>False</td>\n",
       "      <td>True</td>\n",
       "    </tr>\n",
       "    <tr>\n",
       "      <th>24</th>\n",
       "      <td>Sri</td>\n",
       "      <td>Sri</td>\n",
       "      <td>False</td>\n",
       "      <td>False</td>\n",
       "    </tr>\n",
       "    <tr>\n",
       "      <th>25</th>\n",
       "      <td>Lanka</td>\n",
       "      <td>Lanka</td>\n",
       "      <td>False</td>\n",
       "      <td>False</td>\n",
       "    </tr>\n",
       "    <tr>\n",
       "      <th>26</th>\n",
       "      <td>,</td>\n",
       "      <td>,</td>\n",
       "      <td>True</td>\n",
       "      <td>False</td>\n",
       "    </tr>\n",
       "    <tr>\n",
       "      <th>27</th>\n",
       "      <td>one</td>\n",
       "      <td>one</td>\n",
       "      <td>False</td>\n",
       "      <td>True</td>\n",
       "    </tr>\n",
       "    <tr>\n",
       "      <th>28</th>\n",
       "      <td>in</td>\n",
       "      <td>in</td>\n",
       "      <td>False</td>\n",
       "      <td>True</td>\n",
       "    </tr>\n",
       "    <tr>\n",
       "      <th>29</th>\n",
       "      <td>93</td>\n",
       "      <td>93</td>\n",
       "      <td>False</td>\n",
       "      <td>False</td>\n",
       "    </tr>\n",
       "    <tr>\n",
       "      <th>30</th>\n",
       "      <td>children</td>\n",
       "      <td>child</td>\n",
       "      <td>False</td>\n",
       "      <td>False</td>\n",
       "    </tr>\n",
       "    <tr>\n",
       "      <th>31</th>\n",
       "      <td>have</td>\n",
       "      <td>have</td>\n",
       "      <td>False</td>\n",
       "      <td>True</td>\n",
       "    </tr>\n",
       "    <tr>\n",
       "      <th>32</th>\n",
       "      <td>been</td>\n",
       "      <td>be</td>\n",
       "      <td>False</td>\n",
       "      <td>True</td>\n",
       "    </tr>\n",
       "    <tr>\n",
       "      <th>33</th>\n",
       "      <td>found</td>\n",
       "      <td>find</td>\n",
       "      <td>False</td>\n",
       "      <td>False</td>\n",
       "    </tr>\n",
       "    <tr>\n",
       "      <th>34</th>\n",
       "      <td>to</td>\n",
       "      <td>to</td>\n",
       "      <td>False</td>\n",
       "      <td>True</td>\n",
       "    </tr>\n",
       "    <tr>\n",
       "      <th>35</th>\n",
       "      <td>have</td>\n",
       "      <td>have</td>\n",
       "      <td>False</td>\n",
       "      <td>True</td>\n",
       "    </tr>\n",
       "    <tr>\n",
       "      <th>36</th>\n",
       "      <td>autism</td>\n",
       "      <td>autism</td>\n",
       "      <td>False</td>\n",
       "      <td>False</td>\n",
       "    </tr>\n",
       "    <tr>\n",
       "      <th>37</th>\n",
       "      <td>.</td>\n",
       "      <td>.</td>\n",
       "      <td>True</td>\n",
       "      <td>False</td>\n",
       "    </tr>\n",
       "    <tr>\n",
       "      <th>38</th>\n",
       "      <td>Studies</td>\n",
       "      <td>study</td>\n",
       "      <td>False</td>\n",
       "      <td>False</td>\n",
       "    </tr>\n",
       "    <tr>\n",
       "      <th>39</th>\n",
       "      <td>have</td>\n",
       "      <td>have</td>\n",
       "      <td>False</td>\n",
       "      <td>True</td>\n",
       "    </tr>\n",
       "    <tr>\n",
       "      <th>40</th>\n",
       "      <td>shown</td>\n",
       "      <td>show</td>\n",
       "      <td>False</td>\n",
       "      <td>False</td>\n",
       "    </tr>\n",
       "    <tr>\n",
       "      <th>41</th>\n",
       "      <td>that</td>\n",
       "      <td>that</td>\n",
       "      <td>False</td>\n",
       "      <td>True</td>\n",
       "    </tr>\n",
       "    <tr>\n",
       "      <th>42</th>\n",
       "      <td>the</td>\n",
       "      <td>the</td>\n",
       "      <td>False</td>\n",
       "      <td>True</td>\n",
       "    </tr>\n",
       "    <tr>\n",
       "      <th>43</th>\n",
       "      <td>condition</td>\n",
       "      <td>condition</td>\n",
       "      <td>False</td>\n",
       "      <td>False</td>\n",
       "    </tr>\n",
       "    <tr>\n",
       "      <th>44</th>\n",
       "      <td>of</td>\n",
       "      <td>of</td>\n",
       "      <td>False</td>\n",
       "      <td>True</td>\n",
       "    </tr>\n",
       "    <tr>\n",
       "      <th>45</th>\n",
       "      <td>an</td>\n",
       "      <td>an</td>\n",
       "      <td>False</td>\n",
       "      <td>True</td>\n",
       "    </tr>\n",
       "    <tr>\n",
       "      <th>46</th>\n",
       "      <td>autistic</td>\n",
       "      <td>autistic</td>\n",
       "      <td>False</td>\n",
       "      <td>False</td>\n",
       "    </tr>\n",
       "    <tr>\n",
       "      <th>47</th>\n",
       "      <td>child</td>\n",
       "      <td>child</td>\n",
       "      <td>False</td>\n",
       "      <td>False</td>\n",
       "    </tr>\n",
       "    <tr>\n",
       "      <th>48</th>\n",
       "      <td>can</td>\n",
       "      <td>can</td>\n",
       "      <td>False</td>\n",
       "      <td>True</td>\n",
       "    </tr>\n",
       "    <tr>\n",
       "      <th>49</th>\n",
       "      <td>improve</td>\n",
       "      <td>improve</td>\n",
       "      <td>False</td>\n",
       "      <td>False</td>\n",
       "    </tr>\n",
       "  </tbody>\n",
       "</table>\n",
       "</div>"
      ],
      "text/plain": [
       "    Original Text Lemmatized Text  Punctuations  stopwords\n",
       "0          Autism          autism         False      False\n",
       "1              is              be         False       True\n",
       "2               a               a         False       True\n",
       "3    neurological    neurological         False      False\n",
       "4             and             and         False       True\n",
       "5   developmental   developmental         False      False\n",
       "6       diagnosis       diagnosis         False      False\n",
       "7            seen             see         False      False\n",
       "8            from            from         False       True\n",
       "9           early           early         False      False\n",
       "10      childhood       childhood         False      False\n",
       "11         marked            mark         False      False\n",
       "12             by              by         False       True\n",
       "13     difficulty      difficulty         False      False\n",
       "14             in              in         False       True\n",
       "15  communicating     communicate         False      False\n",
       "16              ,               ,          True      False\n",
       "17        forming            form         False      False\n",
       "18  relationships    relationship         False      False\n",
       "19            and             and         False       True\n",
       "20          using             use         False       True\n",
       "21      languages        language         False      False\n",
       "22              .               .          True      False\n",
       "23             In              in         False       True\n",
       "24            Sri             Sri         False      False\n",
       "25          Lanka           Lanka         False      False\n",
       "26              ,               ,          True      False\n",
       "27            one             one         False       True\n",
       "28             in              in         False       True\n",
       "29             93              93         False      False\n",
       "30       children           child         False      False\n",
       "31           have            have         False       True\n",
       "32           been              be         False       True\n",
       "33          found            find         False      False\n",
       "34             to              to         False       True\n",
       "35           have            have         False       True\n",
       "36         autism          autism         False      False\n",
       "37              .               .          True      False\n",
       "38        Studies           study         False      False\n",
       "39           have            have         False       True\n",
       "40          shown            show         False      False\n",
       "41           that            that         False       True\n",
       "42            the             the         False       True\n",
       "43      condition       condition         False      False\n",
       "44             of              of         False       True\n",
       "45             an              an         False       True\n",
       "46       autistic        autistic         False      False\n",
       "47          child           child         False      False\n",
       "48            can             can         False       True\n",
       "49        improve         improve         False      False"
      ]
     },
     "execution_count": 21,
     "metadata": {},
     "output_type": "execute_result"
    }
   ],
   "source": [
    "# here we are taking out of the parsed article each token\n",
    "token_text = [token.text for token in parsed_article]\n",
    "\n",
    "# here we are lemmatizing each word possible\n",
    "token_lemmas = [token.lemma_ for token in parsed_article]\n",
    "\n",
    "# stopwords are very common so here we will extract a variable that will tell us whether\n",
    "# a token is a stopword or not\n",
    "token_stop = [token.is_stop for token in parsed_article]\n",
    "\n",
    "# a token is a pinctuation or not\n",
    "token_punc = [token.is_punct for token in parsed_article]\n",
    "\n",
    "# we will now add all three to a dataframe and display it without assigning it to a variable\n",
    "pd.DataFrame(zip(token_text, token_lemmas, token_punc, token_stop), columns=['Original Text', 'Lemmatized Text', 'Punctuations', 'stopwords']).head(50)"
   ]
  },
  {
   "cell_type": "markdown",
   "id": "2acded81",
   "metadata": {},
   "source": [
    "## 4. Cleaning"
   ]
  },
  {
   "cell_type": "markdown",
   "id": "9451715d",
   "metadata": {},
   "source": [
    "Let's start by checking if our dataset contains any missin values, and then evaluate the amount of memory we are currently using from our machine."
   ]
  },
  {
   "cell_type": "code",
   "execution_count": 22,
   "id": "b198ddb7",
   "metadata": {},
   "outputs": [
    {
     "data": {
      "text/plain": [
       "title          0\n",
       "text           0\n",
       "domain         0\n",
       "date           0\n",
       "description    0\n",
       "url            0\n",
       "image_url      0\n",
       "dtype: int64"
      ]
     },
     "execution_count": 22,
     "metadata": {},
     "output_type": "execute_result"
    }
   ],
   "source": [
    "df.isna().sum()"
   ]
  },
  {
   "cell_type": "code",
   "execution_count": 23,
   "id": "8df3460d",
   "metadata": {},
   "outputs": [
    {
     "name": "stdout",
     "output_type": "stream",
     "text": [
      "<class 'pandas.core.frame.DataFrame'>\n",
      "RangeIndex: 5000 entries, 0 to 4999\n",
      "Data columns (total 7 columns):\n",
      " #   Column       Non-Null Count  Dtype \n",
      "---  ------       --------------  ----- \n",
      " 0   title        5000 non-null   object\n",
      " 1   text         5000 non-null   object\n",
      " 2   domain       5000 non-null   object\n",
      " 3   date         5000 non-null   object\n",
      " 4   description  5000 non-null   object\n",
      " 5   url          5000 non-null   object\n",
      " 6   image_url    5000 non-null   object\n",
      "dtypes: object(7)\n",
      "memory usage: 32.8 MB\n"
     ]
    }
   ],
   "source": [
    "df.info(memory_usage='deep')"
   ]
  },
  {
   "cell_type": "markdown",
   "id": "8d00ab65",
   "metadata": {},
   "source": [
    "Depending on the random sample you choose at the beginning, you may or may not have a lot. If so, getting rid of the columns you don't need will help release some of the memory in your machine."
   ]
  },
  {
   "cell_type": "code",
   "execution_count": 24,
   "id": "1dfcee06",
   "metadata": {},
   "outputs": [],
   "source": [
    "df.drop(['url', 'image_url', 'domain'], axis=1, inplace=True)"
   ]
  },
  {
   "cell_type": "markdown",
   "id": "e183d4f1",
   "metadata": {},
   "source": [
    "Perfect! Let's now extract the `text` column and normalize it. This means we will use `spacy` to,\n",
    "- take out anything that is not a word or a number,\n",
    "- convert to lower case,\n",
    "- strip the spaces around the words,\n",
    "- tokenize the articles,\n",
    "- remove stopwords (we will use spaCy's list of stopwords for this),\n",
    "- and then join the cleaned tokens back together."
   ]
  },
  {
   "cell_type": "code",
   "execution_count": 25,
   "id": "0547d647",
   "metadata": {},
   "outputs": [],
   "source": [
    "articles = df['text'].values"
   ]
  },
  {
   "cell_type": "code",
   "execution_count": 26,
   "id": "148583c0",
   "metadata": {
    "scrolled": true,
    "tags": []
   },
   "outputs": [
    {
     "data": {
      "text/plain": [
       "(326,\n",
       " {\"'d\",\n",
       "  \"'ll\",\n",
       "  \"'m\",\n",
       "  \"'re\",\n",
       "  \"'s\",\n",
       "  \"'ve\",\n",
       "  'a',\n",
       "  'about',\n",
       "  'above',\n",
       "  'across',\n",
       "  'after',\n",
       "  'afterwards',\n",
       "  'again',\n",
       "  'against',\n",
       "  'all',\n",
       "  'almost',\n",
       "  'alone',\n",
       "  'along',\n",
       "  'already',\n",
       "  'also',\n",
       "  'although',\n",
       "  'always',\n",
       "  'am',\n",
       "  'among',\n",
       "  'amongst',\n",
       "  'amount',\n",
       "  'an',\n",
       "  'and',\n",
       "  'another',\n",
       "  'any',\n",
       "  'anyhow',\n",
       "  'anyone',\n",
       "  'anything',\n",
       "  'anyway',\n",
       "  'anywhere',\n",
       "  'are',\n",
       "  'around',\n",
       "  'as',\n",
       "  'at',\n",
       "  'back',\n",
       "  'be',\n",
       "  'became',\n",
       "  'because',\n",
       "  'become',\n",
       "  'becomes',\n",
       "  'becoming',\n",
       "  'been',\n",
       "  'before',\n",
       "  'beforehand',\n",
       "  'behind',\n",
       "  'being',\n",
       "  'below',\n",
       "  'beside',\n",
       "  'besides',\n",
       "  'between',\n",
       "  'beyond',\n",
       "  'both',\n",
       "  'bottom',\n",
       "  'but',\n",
       "  'by',\n",
       "  'ca',\n",
       "  'call',\n",
       "  'can',\n",
       "  'cannot',\n",
       "  'could',\n",
       "  'did',\n",
       "  'do',\n",
       "  'does',\n",
       "  'doing',\n",
       "  'done',\n",
       "  'down',\n",
       "  'due',\n",
       "  'during',\n",
       "  'each',\n",
       "  'eight',\n",
       "  'either',\n",
       "  'eleven',\n",
       "  'else',\n",
       "  'elsewhere',\n",
       "  'empty',\n",
       "  'enough',\n",
       "  'even',\n",
       "  'ever',\n",
       "  'every',\n",
       "  'everyone',\n",
       "  'everything',\n",
       "  'everywhere',\n",
       "  'except',\n",
       "  'few',\n",
       "  'fifteen',\n",
       "  'fifty',\n",
       "  'first',\n",
       "  'five',\n",
       "  'for',\n",
       "  'former',\n",
       "  'formerly',\n",
       "  'forty',\n",
       "  'four',\n",
       "  'from',\n",
       "  'front',\n",
       "  'full',\n",
       "  'further',\n",
       "  'get',\n",
       "  'give',\n",
       "  'go',\n",
       "  'had',\n",
       "  'has',\n",
       "  'have',\n",
       "  'he',\n",
       "  'hence',\n",
       "  'her',\n",
       "  'here',\n",
       "  'hereafter',\n",
       "  'hereby',\n",
       "  'herein',\n",
       "  'hereupon',\n",
       "  'hers',\n",
       "  'herself',\n",
       "  'him',\n",
       "  'himself',\n",
       "  'his',\n",
       "  'how',\n",
       "  'however',\n",
       "  'hundred',\n",
       "  'i',\n",
       "  'if',\n",
       "  'in',\n",
       "  'indeed',\n",
       "  'into',\n",
       "  'is',\n",
       "  'it',\n",
       "  'its',\n",
       "  'itself',\n",
       "  'just',\n",
       "  'keep',\n",
       "  'last',\n",
       "  'latter',\n",
       "  'latterly',\n",
       "  'least',\n",
       "  'less',\n",
       "  'made',\n",
       "  'make',\n",
       "  'many',\n",
       "  'may',\n",
       "  'me',\n",
       "  'meanwhile',\n",
       "  'might',\n",
       "  'mine',\n",
       "  'more',\n",
       "  'moreover',\n",
       "  'most',\n",
       "  'mostly',\n",
       "  'move',\n",
       "  'much',\n",
       "  'must',\n",
       "  'my',\n",
       "  'myself',\n",
       "  \"n't\",\n",
       "  'name',\n",
       "  'namely',\n",
       "  'neither',\n",
       "  'never',\n",
       "  'nevertheless',\n",
       "  'next',\n",
       "  'nine',\n",
       "  'no',\n",
       "  'nobody',\n",
       "  'none',\n",
       "  'noone',\n",
       "  'nor',\n",
       "  'not',\n",
       "  'nothing',\n",
       "  'now',\n",
       "  'nowhere',\n",
       "  'n‘t',\n",
       "  'n’t',\n",
       "  'of',\n",
       "  'off',\n",
       "  'often',\n",
       "  'on',\n",
       "  'once',\n",
       "  'one',\n",
       "  'only',\n",
       "  'onto',\n",
       "  'or',\n",
       "  'other',\n",
       "  'others',\n",
       "  'otherwise',\n",
       "  'our',\n",
       "  'ours',\n",
       "  'ourselves',\n",
       "  'out',\n",
       "  'over',\n",
       "  'own',\n",
       "  'part',\n",
       "  'per',\n",
       "  'perhaps',\n",
       "  'please',\n",
       "  'put',\n",
       "  'quite',\n",
       "  'rather',\n",
       "  're',\n",
       "  'really',\n",
       "  'regarding',\n",
       "  'same',\n",
       "  'say',\n",
       "  'see',\n",
       "  'seem',\n",
       "  'seemed',\n",
       "  'seeming',\n",
       "  'seems',\n",
       "  'serious',\n",
       "  'several',\n",
       "  'she',\n",
       "  'should',\n",
       "  'show',\n",
       "  'side',\n",
       "  'since',\n",
       "  'six',\n",
       "  'sixty',\n",
       "  'so',\n",
       "  'some',\n",
       "  'somehow',\n",
       "  'someone',\n",
       "  'something',\n",
       "  'sometime',\n",
       "  'sometimes',\n",
       "  'somewhere',\n",
       "  'still',\n",
       "  'such',\n",
       "  'take',\n",
       "  'ten',\n",
       "  'than',\n",
       "  'that',\n",
       "  'the',\n",
       "  'their',\n",
       "  'them',\n",
       "  'themselves',\n",
       "  'then',\n",
       "  'thence',\n",
       "  'there',\n",
       "  'thereafter',\n",
       "  'thereby',\n",
       "  'therefore',\n",
       "  'therein',\n",
       "  'thereupon',\n",
       "  'these',\n",
       "  'they',\n",
       "  'third',\n",
       "  'this',\n",
       "  'those',\n",
       "  'though',\n",
       "  'three',\n",
       "  'through',\n",
       "  'throughout',\n",
       "  'thru',\n",
       "  'thus',\n",
       "  'to',\n",
       "  'together',\n",
       "  'too',\n",
       "  'top',\n",
       "  'toward',\n",
       "  'towards',\n",
       "  'twelve',\n",
       "  'twenty',\n",
       "  'two',\n",
       "  'under',\n",
       "  'unless',\n",
       "  'until',\n",
       "  'up',\n",
       "  'upon',\n",
       "  'us',\n",
       "  'used',\n",
       "  'using',\n",
       "  'various',\n",
       "  'very',\n",
       "  'via',\n",
       "  'was',\n",
       "  'we',\n",
       "  'well',\n",
       "  'were',\n",
       "  'what',\n",
       "  'whatever',\n",
       "  'when',\n",
       "  'whence',\n",
       "  'whenever',\n",
       "  'where',\n",
       "  'whereafter',\n",
       "  'whereas',\n",
       "  'whereby',\n",
       "  'wherein',\n",
       "  'whereupon',\n",
       "  'wherever',\n",
       "  'whether',\n",
       "  'which',\n",
       "  'while',\n",
       "  'whither',\n",
       "  'who',\n",
       "  'whoever',\n",
       "  'whole',\n",
       "  'whom',\n",
       "  'whose',\n",
       "  'why',\n",
       "  'will',\n",
       "  'with',\n",
       "  'within',\n",
       "  'without',\n",
       "  'would',\n",
       "  'yet',\n",
       "  'you',\n",
       "  'your',\n",
       "  'yours',\n",
       "  'yourself',\n",
       "  'yourselves',\n",
       "  '‘d',\n",
       "  '‘ll',\n",
       "  '‘m',\n",
       "  '‘re',\n",
       "  '‘s',\n",
       "  '‘ve',\n",
       "  '’d',\n",
       "  '’ll',\n",
       "  '’m',\n",
       "  '’re',\n",
       "  '’s',\n",
       "  '’ve'})"
      ]
     },
     "execution_count": 26,
     "metadata": {},
     "output_type": "execute_result"
    }
   ],
   "source": [
    "from spacy.lang.en.stop_words import STOP_WORDS\n",
    "len(STOP_WORDS), STOP_WORDS"
   ]
  },
  {
   "cell_type": "code",
   "execution_count": 27,
   "id": "1f3cc623",
   "metadata": {},
   "outputs": [],
   "source": [
    "def normalize_doc(doc):\n",
    "    \"\"\"\n",
    "    This function normalizes your list of documents by taking only\n",
    "    words, numbers, and spaces in between them. It then filters out\n",
    "    stop words.\n",
    "    \"\"\"\n",
    "    doc = re.sub(r'[^a-zA-Z0-9\\s]', '', doc, re.I|re.A)\n",
    "    doc = doc.lower()\n",
    "    doc = doc.strip()\n",
    "    tokens = nlp(doc)\n",
    "    filtered_tokens = [token.lemma_ for token in tokens if not token.is_stop]\n",
    "    doc = ' '.join(filtered_tokens).replace(\" \\n \", \"\")\n",
    "    return doc"
   ]
  },
  {
   "cell_type": "code",
   "execution_count": 28,
   "id": "e8f144da",
   "metadata": {
    "scrolled": true,
    "tags": []
   },
   "outputs": [
    {
     "data": {
      "text/plain": [
       "'Autism is a neurological and developmental diagnosis seen from early childhood marked by difficulty in communicating, forming relationships and using languages. In Sri Lanka, one in 93 children have been found to have autism. Studies have shown that the condition of an autistic child can improve with early diagnosis. Early diagnosis and provision of further information to caregivers is largely linked to the level of physicians\\' knowledge of autism.\\nA recent study carried out in Sri Lanka to assess doctors\\' knowledge of diagnostic features and co-morbidities of childhood autism in a tertiary care hospital has found that around 50% of the doctors were unaware of some of the signs and symptoms of it.\\n\"Our study has revealed that the knowledge of diagnostic features and comorbidities of childhood autism among doctors is poor,\" says Dr Yasodha Maheshi Rohanachandra, lead author of the research article.\\n\"There is a lack of educational psychologists and teachers trained in specialized autism educational strategies. Also, there is a poor awareness about autism in the community and services for children with autism in Sri Lanka are limited and centralized,\" she adds.\\nAccording to the research, the majority (62%) of the 176 surveyed doctors believed that they lacked the competence to identify autism.\\nAwareness of symptoms among doctors was highest regarding impaired social interactions (76%). In contrast, only 61% of doctors were aware that restricted, repetitive interests/ behaviors are also a potential symptom. The knowledge of medical professionals in identification of children with autism had not been assessed previously in Sri Lanka.\\n\"There is a need for regular in-service programmes for medical officers to help improve their knowledge to enable early identification and referral,\" says Dr Rohanachandra.\\nShe suggests: \"Improving awareness about autism among early childhood educators such as pre-school and primary school teachers would also benefit these children by facilitating early referral to services.\"\\nAccording to the authors, providing training to teachers on autism specific teaching methods and setting up resource centers in school is another important step in improving the learning opportunities of children.\\nThe authors recommend de-centralizing early intervention services to be beneficial in making services more accessible. It also emphasizes a government initiative to support families of children with autism to access appropriate care including financial support and respite services; having a child with autism can place a significant stress on the family system.\\nFor more information: Rohanachandra, Y.M. et al., (2017). Knowledge about diagnostic features and comorbidities of childhood autism among doctors in a tertiary care hospital. Sri Lanka Journal of Child Health. 46(1), pp.29-32. The article is available online for free access on the SLJOL platform supported by INASP.\\nDisclaimer: Research published in journals hosted on the SLJOL platform is selected by the journals in accordance with their own editorial processes and criteria. INASP and the National Science Foundation of Sri Lanka provide hosting and guidance on good practices but are not involved in selection of research.'"
      ]
     },
     "execution_count": 28,
     "metadata": {},
     "output_type": "execute_result"
    }
   ],
   "source": [
    "random_article"
   ]
  },
  {
   "cell_type": "code",
   "execution_count": 29,
   "id": "44d60c85",
   "metadata": {
    "scrolled": true,
    "tags": []
   },
   "outputs": [
    {
     "data": {
      "text/plain": [
       "'autism neurological developmental diagnosis see early childhood mark difficulty communicate form relationship language sri lanka 93 child find autism study show condition autistic child improve early diagnosis early diagnosis provision information caregiver largely link level physician knowledge autismrecent study carry sri lanka assess doctor knowledge diagnostic feature comorbiditie childhood autism tertiary care hospital find 50 doctor unaware sign symptomstudy reveal knowledge diagnostic feature comorbiditie childhood autism doctor poor say dr yasodha maheshi rohanachandra lead author research articlelack educational psychologist teacher train specialized autism educational strategy poor awareness autism community service child autism sri lanka limit centralized addaccord research majority 62 176 survey doctor believe lack competence identify autismawareness symptom doctor high impaired social interaction 76 contrast 61 doctor aware restrict repetitive interest behavior potential symptom knowledge medical professional identification child autism assess previously sri lankaneed regular inservice programme medical officer help improve knowledge enable early identification referral say dr rohanachandrasuggest improve awareness autism early childhood educator preschool primary school teacher benefit child facilitate early referral serviceaccord author provide training teacher autism specific teaching method set resource center school important step improve learn opportunity childauthor recommend decentralize early intervention service beneficial make service accessible emphasize government initiative support family child autism access appropriate care include financial support respite service have child autism place significant stress family systeminformation rohanachandra ym et al 2017 knowledge diagnostic feature comorbiditie childhood autism doctor tertiary care hospital sri lanka journal child health 461 pp2932 article available online free access sljol platform support inaspdisclaimer research publish journal host sljol platform select journal accordance editorial process criterion inasp national science foundation sri lanka provide hosting guidance good practice involve selection research'"
      ]
     },
     "execution_count": 29,
     "metadata": {},
     "output_type": "execute_result"
    }
   ],
   "source": [
    "normalize_doc(random_article)"
   ]
  },
  {
   "cell_type": "markdown",
   "id": "32a3f444",
   "metadata": {},
   "source": [
    "Since we have quite a few articles, this operation can take quite some time unless we do the cleaning process concurrently or in parallel. We will do this using the `ProcessPoolExecutor()` from the `concurrent.futures` module."
   ]
  },
  {
   "cell_type": "code",
   "execution_count": 30,
   "id": "844c3eee",
   "metadata": {},
   "outputs": [
    {
     "name": "stdout",
     "output_type": "stream",
     "text": [
      "CPU times: user 3.48 s, sys: 1.6 s, total: 5.07 s\n",
      "Wall time: 49.4 s\n"
     ]
    }
   ],
   "source": [
    "%%time\n",
    "\n",
    "with ProcessPoolExecutor(max_workers=12) as e:\n",
    "    processed_articles = list(e.map(normalize_doc, articles))"
   ]
  },
  {
   "cell_type": "markdown",
   "id": "501d7246",
   "metadata": {},
   "source": [
    "We will add the cleaned versions of the documents back into the dataframe and loop over these while taking the lenght (in characters terms) of each article."
   ]
  },
  {
   "cell_type": "code",
   "execution_count": 31,
   "id": "9fd33ca1",
   "metadata": {},
   "outputs": [
    {
     "name": "stdout",
     "output_type": "stream",
     "text": [
      "CPU times: user 6.35 ms, sys: 0 ns, total: 6.35 ms\n",
      "Wall time: 6.11 ms\n"
     ]
    }
   ],
   "source": [
    "%%time\n",
    "\n",
    "df['clean_text'] = processed_articles\n",
    "df['len_clean_text'] = df['clean_text'].apply(len)\n",
    "df['len_dirty_text'] = df['text'].apply(len)"
   ]
  },
  {
   "cell_type": "markdown",
   "id": "9d2430f0",
   "metadata": {},
   "source": [
    "Let's now save our cleaned dataset in case we need to restart our notebook and begin the analysis again. We will also release a bit of memory by getting rid of all the data and variables we have loaded up since the beginning of the notebook."
   ]
  },
  {
   "cell_type": "code",
   "execution_count": 32,
   "id": "9a90d73b",
   "metadata": {},
   "outputs": [
    {
     "data": {
      "text/html": [
       "<div>\n",
       "<style scoped>\n",
       "    .dataframe tbody tr th:only-of-type {\n",
       "        vertical-align: middle;\n",
       "    }\n",
       "\n",
       "    .dataframe tbody tr th {\n",
       "        vertical-align: top;\n",
       "    }\n",
       "\n",
       "    .dataframe thead th {\n",
       "        text-align: right;\n",
       "    }\n",
       "</style>\n",
       "<table border=\"1\" class=\"dataframe\">\n",
       "  <thead>\n",
       "    <tr style=\"text-align: right;\">\n",
       "      <th></th>\n",
       "      <th>title</th>\n",
       "      <th>text</th>\n",
       "      <th>date</th>\n",
       "      <th>description</th>\n",
       "      <th>clean_text</th>\n",
       "      <th>len_clean_text</th>\n",
       "      <th>len_dirty_text</th>\n",
       "    </tr>\n",
       "  </thead>\n",
       "  <tbody>\n",
       "    <tr>\n",
       "      <th>0</th>\n",
       "      <td>Cristiano Ronaldo banned for 5 games after pus...</td>\n",
       "      <td>(AP Photo/Manu Fernandez). Real Madrid's Crist...</td>\n",
       "      <td>2017-08-14 00:00:00</td>\n",
       "      <td></td>\n",
       "      <td>ap photomanu fernandez real madrids cristiano ...</td>\n",
       "      <td>3192</td>\n",
       "      <td>4720</td>\n",
       "    </tr>\n",
       "    <tr>\n",
       "      <th>1</th>\n",
       "      <td>Why the Philippines is not truly independent</td>\n",
       "      <td>FOR leftists, American assistance in the Maraw...</td>\n",
       "      <td>2017-06-15 00:21:39</td>\n",
       "      <td></td>\n",
       "      <td>leftist american assistance marawi battle show...</td>\n",
       "      <td>3734</td>\n",
       "      <td>6017</td>\n",
       "    </tr>\n",
       "  </tbody>\n",
       "</table>\n",
       "</div>"
      ],
      "text/plain": [
       "                                               title  \\\n",
       "0  Cristiano Ronaldo banned for 5 games after pus...   \n",
       "1       Why the Philippines is not truly independent   \n",
       "\n",
       "                                                text                 date  \\\n",
       "0  (AP Photo/Manu Fernandez). Real Madrid's Crist...  2017-08-14 00:00:00   \n",
       "1  FOR leftists, American assistance in the Maraw...  2017-06-15 00:21:39   \n",
       "\n",
       "  description                                         clean_text  \\\n",
       "0              ap photomanu fernandez real madrids cristiano ...   \n",
       "1              leftist american assistance marawi battle show...   \n",
       "\n",
       "   len_clean_text  len_dirty_text  \n",
       "0            3192            4720  \n",
       "1            3734            6017  "
      ]
     },
     "execution_count": 32,
     "metadata": {},
     "output_type": "execute_result"
    }
   ],
   "source": [
    "df.head(2)"
   ]
  },
  {
   "cell_type": "code",
   "execution_count": 33,
   "id": "476466c5",
   "metadata": {},
   "outputs": [
    {
     "name": "stdout",
     "output_type": "stream",
     "text": [
      "CPU times: user 60.8 ms, sys: 19.4 ms, total: 80.2 ms\n",
      "Wall time: 123 ms\n"
     ]
    }
   ],
   "source": [
    "%%time\n",
    "\n",
    "(\n",
    "    df[['title', 'date', 'clean_text', 'len_clean_text', 'len_dirty_text']]\n",
    "     .reset_index(drop=True)\n",
    "     .to_parquet('articles_clean.parquet', compression='snappy')\n",
    ")"
   ]
  },
  {
   "cell_type": "code",
   "execution_count": 34,
   "id": "01ec55be",
   "metadata": {},
   "outputs": [],
   "source": [
    "del dataset\n",
    "del df\n",
    "del articles\n",
    "del processed_articles"
   ]
  },
  {
   "cell_type": "code",
   "execution_count": 36,
   "id": "6f32b61f",
   "metadata": {},
   "outputs": [],
   "source": [
    "df = pd.read_parquet('articles_clean.parquet').reset_index(drop=True)"
   ]
  },
  {
   "cell_type": "markdown",
   "id": "e75a0328",
   "metadata": {},
   "source": [
    "It wouldn't make any sense to feed to our algorithms articles with a tiny amount of characters, so let's examine the distribution of characters among both, the raw and the clean version of our articles."
   ]
  },
  {
   "cell_type": "code",
   "execution_count": 37,
   "id": "113abbae",
   "metadata": {},
   "outputs": [
    {
     "data": {
      "text/html": [
       "<div>\n",
       "<style scoped>\n",
       "    .dataframe tbody tr th:only-of-type {\n",
       "        vertical-align: middle;\n",
       "    }\n",
       "\n",
       "    .dataframe tbody tr th {\n",
       "        vertical-align: top;\n",
       "    }\n",
       "\n",
       "    .dataframe thead th {\n",
       "        text-align: right;\n",
       "    }\n",
       "</style>\n",
       "<table border=\"1\" class=\"dataframe\">\n",
       "  <thead>\n",
       "    <tr style=\"text-align: right;\">\n",
       "      <th></th>\n",
       "      <th>count</th>\n",
       "      <th>mean</th>\n",
       "      <th>std</th>\n",
       "      <th>min</th>\n",
       "      <th>25%</th>\n",
       "      <th>50%</th>\n",
       "      <th>75%</th>\n",
       "      <th>max</th>\n",
       "    </tr>\n",
       "  </thead>\n",
       "  <tbody>\n",
       "    <tr>\n",
       "      <th>len_clean_text</th>\n",
       "      <td>5000.0</td>\n",
       "      <td>1471.2924</td>\n",
       "      <td>1721.160127</td>\n",
       "      <td>16.0</td>\n",
       "      <td>491.00</td>\n",
       "      <td>1081.5</td>\n",
       "      <td>1919.25</td>\n",
       "      <td>40389.0</td>\n",
       "    </tr>\n",
       "    <tr>\n",
       "      <th>len_dirty_text</th>\n",
       "      <td>5000.0</td>\n",
       "      <td>2325.8164</td>\n",
       "      <td>2652.818150</td>\n",
       "      <td>70.0</td>\n",
       "      <td>749.75</td>\n",
       "      <td>1697.5</td>\n",
       "      <td>3076.00</td>\n",
       "      <td>65754.0</td>\n",
       "    </tr>\n",
       "  </tbody>\n",
       "</table>\n",
       "</div>"
      ],
      "text/plain": [
       "                 count       mean          std   min     25%     50%      75%  \\\n",
       "len_clean_text  5000.0  1471.2924  1721.160127  16.0  491.00  1081.5  1919.25   \n",
       "len_dirty_text  5000.0  2325.8164  2652.818150  70.0  749.75  1697.5  3076.00   \n",
       "\n",
       "                    max  \n",
       "len_clean_text  40389.0  \n",
       "len_dirty_text  65754.0  "
      ]
     },
     "execution_count": 37,
     "metadata": {},
     "output_type": "execute_result"
    }
   ],
   "source": [
    "df[['len_clean_text', 'len_dirty_text']].describe().T"
   ]
  },
  {
   "cell_type": "code",
   "execution_count": 38,
   "id": "3b7b5c4f",
   "metadata": {},
   "outputs": [
    {
     "data": {
      "text/plain": [
       "len_clean_text    6.642526\n",
       "len_dirty_text    6.399837\n",
       "dtype: float64"
      ]
     },
     "execution_count": 38,
     "metadata": {},
     "output_type": "execute_result"
    }
   ],
   "source": [
    "df[['len_clean_text', 'len_dirty_text']].skew()"
   ]
  },
  {
   "cell_type": "markdown",
   "id": "dfa97a0c",
   "metadata": {},
   "source": [
    "![img](https://external-content.duckduckgo.com/iu/?u=https%3A%2F%2Fcdn.analyticsvidhya.com%2Fwp-content%2Fuploads%2F2020%2F06%2Fsk1.png&f=1&nofb=1)\n",
    "\n",
    "Now that we know we have a skewed distribution of characters, let's fix that by setting up a rule. We'll evaluate an article using the tweets' maximum character count of 280, at the time of writing, and filter out all articles with less than that. Let's check how many we have first."
   ]
  },
  {
   "cell_type": "code",
   "execution_count": 39,
   "id": "3f02e8bf",
   "metadata": {},
   "outputs": [
    {
     "data": {
      "text/plain": [
       "4321"
      ]
     },
     "execution_count": 39,
     "metadata": {},
     "output_type": "execute_result"
    }
   ],
   "source": [
    "greater_than_a_tweet = df['len_clean_text'] > 280\n",
    "greater_than_a_tweet.sum()"
   ]
  },
  {
   "cell_type": "code",
   "execution_count": 40,
   "id": "c18bb1c1",
   "metadata": {},
   "outputs": [],
   "source": [
    "df = df[greater_than_a_tweet].copy()"
   ]
  },
  {
   "cell_type": "code",
   "execution_count": 41,
   "id": "550f8f04",
   "metadata": {},
   "outputs": [
    {
     "data": {
      "text/plain": [
       "(4321, 5)"
      ]
     },
     "execution_count": 41,
     "metadata": {},
     "output_type": "execute_result"
    }
   ],
   "source": [
    "df.shape"
   ]
  },
  {
   "cell_type": "markdown",
   "id": "cb689198",
   "metadata": {},
   "source": [
    "# 5. Recommendation System"
   ]
  },
  {
   "cell_type": "markdown",
   "id": "5604cfd5",
   "metadata": {},
   "source": [
    "Recommendation systems can come in many different forms and sizes. We can create a system that takes into account the behaviour of other users, or a system that only looks at similar articles or items to make a recommendation. Both are powerful systems and could cover an entire section of a book in their own right, which is why we will focus on the latter category, the one that makes recommendations based on similar articles.\n",
    "\n",
    "To create our recommendation system we first need to convert our articles into a numerical representation. We do this with a so-called bag of words (bow). BOWs are matrices with the documents in the rows, the terms contained in all documents along the columns. The frequency with which each term appears in each document along the values can be found in the doc-token combination. To create this kind of representation we can use `sklearn`'s `CountVectorizer` or `TfidfVectorizer` classes. The latter being the normalized version of the former, i.e. the frequency of a word divided by the amount of documents in which it appears.\n",
    "\n",
    "To use this classes we first instantiate them, fit the data to them so that they can learn the vocabulary of our corpus, and then we tranform the corpus into a sparse matrix. These sparse matrices hold the location of all non-zero values to make it easier to store the data and compute on it."
   ]
  },
  {
   "cell_type": "code",
   "execution_count": 42,
   "id": "4f8db81b",
   "metadata": {},
   "outputs": [
    {
     "name": "stdout",
     "output_type": "stream",
     "text": [
      "CPU times: user 697 ms, sys: 0 ns, total: 697 ms\n",
      "Wall time: 728 ms\n"
     ]
    },
    {
     "data": {
      "text/plain": [
       "(4321, 788)"
      ]
     },
     "execution_count": 42,
     "metadata": {},
     "output_type": "execute_result"
    }
   ],
   "source": [
    "%%time\n",
    "\n",
    "# we first instantiate our class\n",
    "tf = TfidfVectorizer(min_df=0.035, max_df=0.80)\n",
    "\n",
    "# we can fit and transform the data in the same step\n",
    "tfidf_matrix = tf.fit_transform(df['clean_text'].values)\n",
    "\n",
    "# evaluate the shape of our matrix\n",
    "tfidf_matrix.shape"
   ]
  },
  {
   "cell_type": "markdown",
   "id": "368bfa3b",
   "metadata": {},
   "source": [
    "We can access our vocabulary with `.get_feature_names()` method."
   ]
  },
  {
   "cell_type": "code",
   "execution_count": 43,
   "id": "aaccc68b",
   "metadata": {
    "scrolled": true,
    "tags": []
   },
   "outputs": [
    {
     "data": {
      "text/plain": [
       "['pass',\n",
       " 'past',\n",
       " 'pay',\n",
       " 'people',\n",
       " 'percent',\n",
       " 'perform',\n",
       " 'performance',\n",
       " 'period',\n",
       " 'person',\n",
       " 'personal',\n",
       " 'phone',\n",
       " 'photo',\n",
       " 'pick',\n",
       " 'picture',\n",
       " 'piece',\n",
       " 'place',\n",
       " 'plan',\n",
       " 'play',\n",
       " 'player',\n",
       " 'pm',\n",
       " 'point',\n",
       " 'police',\n",
       " 'policy',\n",
       " 'political',\n",
       " 'popular',\n",
       " 'position',\n",
       " 'positive',\n",
       " 'possible',\n",
       " 'post',\n",
       " 'potential',\n",
       " 'power',\n",
       " 'practice',\n",
       " 'prepare',\n",
       " 'present',\n",
       " 'president',\n",
       " 'press',\n",
       " 'pressure',\n",
       " 'pretty',\n",
       " 'prevent',\n",
       " 'previous',\n",
       " 'previously',\n",
       " 'price',\n",
       " 'private',\n",
       " 'probably',\n",
       " 'problem',\n",
       " 'process',\n",
       " 'produce',\n",
       " 'product',\n",
       " 'production',\n",
       " 'professional']"
      ]
     },
     "execution_count": 43,
     "metadata": {},
     "output_type": "execute_result"
    }
   ],
   "source": [
    "tf.get_feature_names()[500:550]"
   ]
  },
  {
   "cell_type": "markdown",
   "id": "97e8833b",
   "metadata": {},
   "source": [
    "The next step is to get the distance between documents and words to see how close and how far, based on words only, are two documents from one another. The `cosine_similarity` function we imported earlier can do this for us, and afterwards, we can create a dataframe to evaluate our results.\n",
    "\n",
    "**Note:** this operation can take a few minutes if you are using the entire dataset. Make sure to grab some ☕️ 😎"
   ]
  },
  {
   "cell_type": "code",
   "execution_count": 44,
   "id": "51d148cf",
   "metadata": {},
   "outputs": [
    {
     "name": "stdout",
     "output_type": "stream",
     "text": [
      "CPU times: user 691 ms, sys: 268 ms, total: 959 ms\n",
      "Wall time: 961 ms\n"
     ]
    }
   ],
   "source": [
    "%%time\n",
    "\n",
    "doc_sim = cosine_similarity(tfidf_matrix)"
   ]
  },
  {
   "cell_type": "code",
   "execution_count": 45,
   "id": "e8e0e4f7",
   "metadata": {},
   "outputs": [
    {
     "data": {
      "text/html": [
       "<div>\n",
       "<style scoped>\n",
       "    .dataframe tbody tr th:only-of-type {\n",
       "        vertical-align: middle;\n",
       "    }\n",
       "\n",
       "    .dataframe tbody tr th {\n",
       "        vertical-align: top;\n",
       "    }\n",
       "\n",
       "    .dataframe thead th {\n",
       "        text-align: right;\n",
       "    }\n",
       "</style>\n",
       "<table border=\"1\" class=\"dataframe\">\n",
       "  <thead>\n",
       "    <tr style=\"text-align: right;\">\n",
       "      <th></th>\n",
       "      <th>0</th>\n",
       "      <th>1</th>\n",
       "      <th>2</th>\n",
       "      <th>3</th>\n",
       "      <th>4</th>\n",
       "      <th>5</th>\n",
       "      <th>6</th>\n",
       "      <th>7</th>\n",
       "      <th>8</th>\n",
       "      <th>9</th>\n",
       "      <th>...</th>\n",
       "      <th>4311</th>\n",
       "      <th>4312</th>\n",
       "      <th>4313</th>\n",
       "      <th>4314</th>\n",
       "      <th>4315</th>\n",
       "      <th>4316</th>\n",
       "      <th>4317</th>\n",
       "      <th>4318</th>\n",
       "      <th>4319</th>\n",
       "      <th>4320</th>\n",
       "    </tr>\n",
       "  </thead>\n",
       "  <tbody>\n",
       "    <tr>\n",
       "      <th>0</th>\n",
       "      <td>1.000000</td>\n",
       "      <td>0.104807</td>\n",
       "      <td>0.010998</td>\n",
       "      <td>0.041108</td>\n",
       "      <td>0.037607</td>\n",
       "      <td>0.013447</td>\n",
       "      <td>0.019827</td>\n",
       "      <td>0.065076</td>\n",
       "      <td>0.086727</td>\n",
       "      <td>0.076672</td>\n",
       "      <td>...</td>\n",
       "      <td>0.028044</td>\n",
       "      <td>0.103528</td>\n",
       "      <td>0.012510</td>\n",
       "      <td>0.027298</td>\n",
       "      <td>0.020729</td>\n",
       "      <td>0.431844</td>\n",
       "      <td>0.063176</td>\n",
       "      <td>0.008133</td>\n",
       "      <td>0.030969</td>\n",
       "      <td>0.023385</td>\n",
       "    </tr>\n",
       "    <tr>\n",
       "      <th>1</th>\n",
       "      <td>0.104807</td>\n",
       "      <td>1.000000</td>\n",
       "      <td>0.051263</td>\n",
       "      <td>0.017592</td>\n",
       "      <td>0.087388</td>\n",
       "      <td>0.006243</td>\n",
       "      <td>0.051306</td>\n",
       "      <td>0.214864</td>\n",
       "      <td>0.079791</td>\n",
       "      <td>0.007260</td>\n",
       "      <td>...</td>\n",
       "      <td>0.141820</td>\n",
       "      <td>0.162437</td>\n",
       "      <td>0.058343</td>\n",
       "      <td>0.026400</td>\n",
       "      <td>0.120998</td>\n",
       "      <td>0.070996</td>\n",
       "      <td>0.158498</td>\n",
       "      <td>0.032312</td>\n",
       "      <td>0.054947</td>\n",
       "      <td>0.077151</td>\n",
       "    </tr>\n",
       "    <tr>\n",
       "      <th>2</th>\n",
       "      <td>0.010998</td>\n",
       "      <td>0.051263</td>\n",
       "      <td>1.000000</td>\n",
       "      <td>0.106262</td>\n",
       "      <td>0.036260</td>\n",
       "      <td>0.030976</td>\n",
       "      <td>0.073106</td>\n",
       "      <td>0.049003</td>\n",
       "      <td>0.053113</td>\n",
       "      <td>0.000000</td>\n",
       "      <td>...</td>\n",
       "      <td>0.028965</td>\n",
       "      <td>0.123234</td>\n",
       "      <td>0.030842</td>\n",
       "      <td>0.023701</td>\n",
       "      <td>0.041000</td>\n",
       "      <td>0.016222</td>\n",
       "      <td>0.062175</td>\n",
       "      <td>0.003205</td>\n",
       "      <td>0.029527</td>\n",
       "      <td>0.021220</td>\n",
       "    </tr>\n",
       "    <tr>\n",
       "      <th>3</th>\n",
       "      <td>0.041108</td>\n",
       "      <td>0.017592</td>\n",
       "      <td>0.106262</td>\n",
       "      <td>1.000000</td>\n",
       "      <td>0.011884</td>\n",
       "      <td>0.033769</td>\n",
       "      <td>0.000000</td>\n",
       "      <td>0.061406</td>\n",
       "      <td>0.027842</td>\n",
       "      <td>0.000000</td>\n",
       "      <td>...</td>\n",
       "      <td>0.138607</td>\n",
       "      <td>0.078569</td>\n",
       "      <td>0.041286</td>\n",
       "      <td>0.000000</td>\n",
       "      <td>0.030631</td>\n",
       "      <td>0.065558</td>\n",
       "      <td>0.048351</td>\n",
       "      <td>0.019614</td>\n",
       "      <td>0.102716</td>\n",
       "      <td>0.021051</td>\n",
       "    </tr>\n",
       "    <tr>\n",
       "      <th>4</th>\n",
       "      <td>0.037607</td>\n",
       "      <td>0.087388</td>\n",
       "      <td>0.036260</td>\n",
       "      <td>0.011884</td>\n",
       "      <td>1.000000</td>\n",
       "      <td>0.009302</td>\n",
       "      <td>0.009201</td>\n",
       "      <td>0.090487</td>\n",
       "      <td>0.104460</td>\n",
       "      <td>0.000000</td>\n",
       "      <td>...</td>\n",
       "      <td>0.158730</td>\n",
       "      <td>0.078334</td>\n",
       "      <td>0.059583</td>\n",
       "      <td>0.005564</td>\n",
       "      <td>0.065376</td>\n",
       "      <td>0.073324</td>\n",
       "      <td>0.121543</td>\n",
       "      <td>0.013669</td>\n",
       "      <td>0.031697</td>\n",
       "      <td>0.039799</td>\n",
       "    </tr>\n",
       "  </tbody>\n",
       "</table>\n",
       "<p>5 rows × 4321 columns</p>\n",
       "</div>"
      ],
      "text/plain": [
       "       0         1         2         3         4         5         6     \\\n",
       "0  1.000000  0.104807  0.010998  0.041108  0.037607  0.013447  0.019827   \n",
       "1  0.104807  1.000000  0.051263  0.017592  0.087388  0.006243  0.051306   \n",
       "2  0.010998  0.051263  1.000000  0.106262  0.036260  0.030976  0.073106   \n",
       "3  0.041108  0.017592  0.106262  1.000000  0.011884  0.033769  0.000000   \n",
       "4  0.037607  0.087388  0.036260  0.011884  1.000000  0.009302  0.009201   \n",
       "\n",
       "       7         8         9     ...      4311      4312      4313      4314  \\\n",
       "0  0.065076  0.086727  0.076672  ...  0.028044  0.103528  0.012510  0.027298   \n",
       "1  0.214864  0.079791  0.007260  ...  0.141820  0.162437  0.058343  0.026400   \n",
       "2  0.049003  0.053113  0.000000  ...  0.028965  0.123234  0.030842  0.023701   \n",
       "3  0.061406  0.027842  0.000000  ...  0.138607  0.078569  0.041286  0.000000   \n",
       "4  0.090487  0.104460  0.000000  ...  0.158730  0.078334  0.059583  0.005564   \n",
       "\n",
       "       4315      4316      4317      4318      4319      4320  \n",
       "0  0.020729  0.431844  0.063176  0.008133  0.030969  0.023385  \n",
       "1  0.120998  0.070996  0.158498  0.032312  0.054947  0.077151  \n",
       "2  0.041000  0.016222  0.062175  0.003205  0.029527  0.021220  \n",
       "3  0.030631  0.065558  0.048351  0.019614  0.102716  0.021051  \n",
       "4  0.065376  0.073324  0.121543  0.013669  0.031697  0.039799  \n",
       "\n",
       "[5 rows x 4321 columns]"
      ]
     },
     "execution_count": 45,
     "metadata": {},
     "output_type": "execute_result"
    }
   ],
   "source": [
    "doc_sim_df = pd.DataFrame(doc_sim)\n",
    "doc_sim_df.head()"
   ]
  },
  {
   "cell_type": "code",
   "execution_count": 46,
   "id": "e2f7dcc5",
   "metadata": {},
   "outputs": [
    {
     "data": {
      "text/plain": [
       "(4321, 4321)"
      ]
     },
     "execution_count": 46,
     "metadata": {},
     "output_type": "execute_result"
    }
   ],
   "source": [
    "doc_sim.shape"
   ]
  },
  {
   "cell_type": "markdown",
   "id": "87d4feee",
   "metadata": {},
   "source": [
    "The reason we see a X000xX000 matrix is because both halfs alonside the diagonal line are identical, hence, we have the similarity of all docs vs all docs."
   ]
  },
  {
   "cell_type": "code",
   "execution_count": 47,
   "id": "5d5568bf",
   "metadata": {
    "scrolled": true,
    "tags": []
   },
   "outputs": [
    {
     "data": {
      "text/plain": [
       "((4321,),\n",
       " array(['Cristiano Ronaldo banned for 5 games after pushing referee - wave3.com-Louisville News, Weather & Sports',\n",
       "        'Why the Philippines is not truly independent',\n",
       "        \"Tyron Charles death: Murder victim 'dumped in builder's bag'\",\n",
       "        ...,\n",
       "        'Dental Health May Be Within Reach With Financial Education Benefits Center Resources',\n",
       "        'Israel says anti-Semitism rising in Poland as Holocaust row simmers',\n",
       "        \"State law: Schools with 'D' or 'F' must inform neighborhoods\"],\n",
       "       dtype=object))"
      ]
     },
     "execution_count": 47,
     "metadata": {},
     "output_type": "execute_result"
    }
   ],
   "source": [
    "articles_list = df['title'].values\n",
    "articles_list.shape, articles_list"
   ]
  },
  {
   "cell_type": "markdown",
   "id": "f5320581",
   "metadata": {},
   "source": [
    "Let's now\n",
    "1. pick a title at random\n",
    "2. get the index of such title\n",
    "3. select the corresponding row for such title in our new document similarity dataframe\n",
    "4. sort the index of such values\n",
    "5. return the top 5 article titles"
   ]
  },
  {
   "cell_type": "code",
   "execution_count": 48,
   "id": "7d2bfb0a",
   "metadata": {},
   "outputs": [],
   "source": [
    "from random import choice"
   ]
  },
  {
   "cell_type": "code",
   "execution_count": 49,
   "id": "9ebcb555",
   "metadata": {},
   "outputs": [
    {
     "data": {
      "text/plain": [
       "'Storm Team 27: Mostly cloudy, snow tonight'"
      ]
     },
     "execution_count": 49,
     "metadata": {},
     "output_type": "execute_result"
    }
   ],
   "source": [
    "a_title = choice(articles_list)\n",
    "a_title"
   ]
  },
  {
   "cell_type": "code",
   "execution_count": 50,
   "id": "2f2ad868",
   "metadata": {},
   "outputs": [
    {
     "data": {
      "text/plain": [
       "2548"
      ]
     },
     "execution_count": 50,
     "metadata": {},
     "output_type": "execute_result"
    }
   ],
   "source": [
    "article_idx = np.where(articles_list == a_title)[0][0]\n",
    "article_idx"
   ]
  },
  {
   "cell_type": "code",
   "execution_count": 51,
   "id": "f4352fa4",
   "metadata": {
    "tags": []
   },
   "outputs": [
    {
     "data": {
      "text/plain": [
       "array([0.01256244, 0.04339975, 0.        , ..., 0.01731104, 0.        ,\n",
       "       0.07849991])"
      ]
     },
     "execution_count": 51,
     "metadata": {},
     "output_type": "execute_result"
    }
   ],
   "source": [
    "article_similarities = doc_sim_df.iloc[article_idx].values\n",
    "article_similarities"
   ]
  },
  {
   "cell_type": "code",
   "execution_count": 52,
   "id": "6f2f7e2b",
   "metadata": {},
   "outputs": [
    {
     "data": {
      "text/plain": [
       "array([ 666,  949,  248, 3838, 2793, 3806, 1829, 3692, 3612])"
      ]
     },
     "execution_count": 52,
     "metadata": {},
     "output_type": "execute_result"
    }
   ],
   "source": [
    "# note that we don't select the first one as this should always be one\n",
    "similar_articles_idxs = np.argsort(-article_similarities)[1:10]\n",
    "similar_articles_idxs"
   ]
  },
  {
   "cell_type": "code",
   "execution_count": 53,
   "id": "43ee2055",
   "metadata": {},
   "outputs": [
    {
     "data": {
      "text/html": [
       "<div>\n",
       "<style scoped>\n",
       "    .dataframe tbody tr th:only-of-type {\n",
       "        vertical-align: middle;\n",
       "    }\n",
       "\n",
       "    .dataframe tbody tr th {\n",
       "        vertical-align: top;\n",
       "    }\n",
       "\n",
       "    .dataframe thead th {\n",
       "        text-align: right;\n",
       "    }\n",
       "</style>\n",
       "<table border=\"1\" class=\"dataframe\">\n",
       "  <thead>\n",
       "    <tr style=\"text-align: right;\">\n",
       "      <th></th>\n",
       "      <th>title</th>\n",
       "      <th>date</th>\n",
       "      <th>clean_text</th>\n",
       "      <th>len_clean_text</th>\n",
       "      <th>len_dirty_text</th>\n",
       "    </tr>\n",
       "  </thead>\n",
       "  <tbody>\n",
       "    <tr>\n",
       "      <th>0</th>\n",
       "      <td>Cristiano Ronaldo banned for 5 games after pus...</td>\n",
       "      <td>2017-08-14 00:00:00</td>\n",
       "      <td>ap photomanu fernandez real madrids cristiano ...</td>\n",
       "      <td>3192</td>\n",
       "      <td>4720</td>\n",
       "    </tr>\n",
       "    <tr>\n",
       "      <th>1</th>\n",
       "      <td>Why the Philippines is not truly independent</td>\n",
       "      <td>2017-06-15 00:21:39</td>\n",
       "      <td>leftist american assistance marawi battle show...</td>\n",
       "      <td>3734</td>\n",
       "      <td>6017</td>\n",
       "    </tr>\n",
       "    <tr>\n",
       "      <th>2</th>\n",
       "      <td>Tyron Charles death: Murder victim 'dumped in ...</td>\n",
       "      <td>2018-07-04 20:09:54</td>\n",
       "      <td>image copyright family handout image caption t...</td>\n",
       "      <td>1173</td>\n",
       "      <td>1778</td>\n",
       "    </tr>\n",
       "    <tr>\n",
       "      <th>3</th>\n",
       "      <td>North Korean official accuses U.S. of turning ...</td>\n",
       "      <td>2017-04-17 19:12:38</td>\n",
       "      <td>justice neil gorsuch hear argument supreme cou...</td>\n",
       "      <td>960</td>\n",
       "      <td>1611</td>\n",
       "    </tr>\n",
       "    <tr>\n",
       "      <th>4</th>\n",
       "      <td>Spring's Sweet Start: Dairy Queen's Free Cone Day</td>\n",
       "      <td>2018-03-19 10:44:02</td>\n",
       "      <td>know tuesday march 20participate dairy queensm...</td>\n",
       "      <td>1165</td>\n",
       "      <td>1972</td>\n",
       "    </tr>\n",
       "  </tbody>\n",
       "</table>\n",
       "</div>"
      ],
      "text/plain": [
       "                                               title                 date  \\\n",
       "0  Cristiano Ronaldo banned for 5 games after pus...  2017-08-14 00:00:00   \n",
       "1       Why the Philippines is not truly independent  2017-06-15 00:21:39   \n",
       "2  Tyron Charles death: Murder victim 'dumped in ...  2018-07-04 20:09:54   \n",
       "3  North Korean official accuses U.S. of turning ...  2017-04-17 19:12:38   \n",
       "4  Spring's Sweet Start: Dairy Queen's Free Cone Day  2018-03-19 10:44:02   \n",
       "\n",
       "                                          clean_text  len_clean_text  \\\n",
       "0  ap photomanu fernandez real madrids cristiano ...            3192   \n",
       "1  leftist american assistance marawi battle show...            3734   \n",
       "2  image copyright family handout image caption t...            1173   \n",
       "3  justice neil gorsuch hear argument supreme cou...             960   \n",
       "4  know tuesday march 20participate dairy queensm...            1165   \n",
       "\n",
       "   len_dirty_text  \n",
       "0            4720  \n",
       "1            6017  \n",
       "2            1778  \n",
       "3            1611  \n",
       "4            1972  "
      ]
     },
     "execution_count": 53,
     "metadata": {},
     "output_type": "execute_result"
    }
   ],
   "source": [
    "df.head()"
   ]
  },
  {
   "cell_type": "code",
   "execution_count": 54,
   "id": "c73d7d74",
   "metadata": {},
   "outputs": [],
   "source": [
    "doc1 = nlp(df.iloc[1, 2])\n",
    "doc2 = nlp(df.iloc[2, 2])"
   ]
  },
  {
   "cell_type": "code",
   "execution_count": 55,
   "id": "59e57e62",
   "metadata": {},
   "outputs": [
    {
     "data": {
      "text/plain": [
       "0.8292398212223382"
      ]
     },
     "execution_count": 55,
     "metadata": {},
     "output_type": "execute_result"
    }
   ],
   "source": [
    "doc1.similarity(doc2)"
   ]
  },
  {
   "cell_type": "code",
   "execution_count": 56,
   "id": "8434654b",
   "metadata": {},
   "outputs": [
    {
     "data": {
      "text/plain": [
       "'Storm Team 27: Mostly cloudy, snow tonight'"
      ]
     },
     "execution_count": 56,
     "metadata": {},
     "output_type": "execute_result"
    }
   ],
   "source": [
    "a_title"
   ]
  },
  {
   "cell_type": "code",
   "execution_count": 57,
   "id": "723d08aa",
   "metadata": {},
   "outputs": [
    {
     "name": "stdout",
     "output_type": "stream",
     "text": [
      "['TX Lubbock TX Zone Forecast',\n",
      " 'TX Shreveport LA Zone Forecast',\n",
      " 'TX Midland/Odessa TX Zone Forecast',\n",
      " 'Friday Early Forecast',\n",
      " 'WA Portland OR Zone Forecast',\n",
      " 'On 1st day of spring, snow in forecast; storm watch posted',\n",
      " 'Timeline: The disappearance of Stephanie Low - WAOW - Newsline 9, Wausau '\n",
      " 'News, Weather, Sports',\n",
      " 'Stop taking drugs for lower back pain and do this instead',\n",
      " 'Sunny, hot Monday']\n"
     ]
    }
   ],
   "source": [
    "similar_articles = articles_list[similar_articles_idxs]\n",
    "pprint(similar_articles.tolist())"
   ]
  },
  {
   "cell_type": "markdown",
   "id": "9b9eb754",
   "metadata": {},
   "source": [
    "Lastly, we will create create a mini-dashboard containing,\n",
    "1. a widget with all of our titles,\n",
    "2. a function with the steps we followed above,\n",
    "3. a panel object to store a title, the widget, and the function."
   ]
  },
  {
   "cell_type": "code",
   "execution_count": 58,
   "id": "a841ebe1",
   "metadata": {},
   "outputs": [],
   "source": [
    "titles = df.title.unique().tolist()\n",
    "title_widget = pn.widgets.Select(value=choice(titles), options=titles, name='Articles')"
   ]
  },
  {
   "cell_type": "code",
   "execution_count": 59,
   "id": "59d0c2d2",
   "metadata": {},
   "outputs": [],
   "source": [
    "@pn.depends(title_widget.param.value)\n",
    "def article_recommender(title_widget):\n",
    "    \n",
    "    article_idx = np.where(articles_list == title_widget)[0][0]\n",
    "    article_similarities = doc_sim_df.iloc[article_idx].values\n",
    "    similar_title_idxs = np.argsort(-article_similarities)[1:6]\n",
    "    similar_titles = articles_list[similar_title_idxs]\n",
    "    \n",
    "    return pn.Column(*similar_titles, width=600)"
   ]
  },
  {
   "cell_type": "code",
   "execution_count": 60,
   "id": "60aaf35a",
   "metadata": {},
   "outputs": [],
   "source": [
    "text = pn.pane.Markdown(f\"# Small Recommendation Engine\", style={\"color\": \"#000000\"}, width=600, height=50,\n",
    "                        sizing_mode=\"stretch_width\", margin=(10,10,10,5))"
   ]
  },
  {
   "cell_type": "code",
   "execution_count": 61,
   "id": "d7b99728",
   "metadata": {},
   "outputs": [
    {
     "data": {},
     "metadata": {},
     "output_type": "display_data"
    },
    {
     "data": {
      "application/vnd.holoviews_exec.v0+json": "",
      "text/html": [
       "<div id='1002'>\n",
       "\n",
       "\n",
       "\n",
       "\n",
       "\n",
       "  <div class=\"bk-root\" id=\"f6913c17-5ee3-42a6-83bc-3b9755ba5759\" data-root-id=\"1002\"></div>\n",
       "</div>\n",
       "<script type=\"application/javascript\">(function(root) {\n",
       "  function embed_document(root) {\n",
       "    var docs_json = {\"ca5763ec-e60e-42fb-8680-0a8fd23d8cd4\":{\"defs\":[],\"roots\":{\"references\":[{\"attributes\":{\"css_classes\":[\"markdown\"],\"height\":50,\"margin\":[10,10,10,5],\"name\":\"Markdown00100\",\"sizing_mode\":\"stretch_width\",\"style\":{\"color\":\"#000000\"},\"text\":\"&lt;h1&gt;Small Recommendation Engine&lt;/h1&gt;\",\"width\":600},\"id\":\"1003\",\"type\":\"panel.models.markup.HTML\"},{\"attributes\":{\"margin\":[5,10,5,10],\"options\":[\"Cristiano Ronaldo banned for 5 games after pushing referee - wave3.com-Louisville News, Weather & Sports\",\"Why the Philippines is not truly independent\",\"Tyron Charles death: Murder victim 'dumped in builder's bag'\",\"North Korean official accuses U.S. of turning Korean Peninsula into 'world's biggest hotspot'\",\"Spring's Sweet Start: Dairy Queen's Free Cone Day\",\"With Netanyahu in Manhattan, NYPD Bomb Squad En Route to Israeli Consulate for Suspicious Package\",\"Seat cars review\",\"Peterborough photographers celebrate Life By Bike\",\"Servia on passing 46 cars in the Indy 500: \\u201cI was on fire!\\u201d\",\"Kitchener Klassics earn gold medal\",\"Nearly 50% of doctors in Sri Lanka unaware of autism symptoms, study finds\",\"\\u2018Real Housewives Of Dallas\\u2019 Star Brandi Redmond Adopts Baby Boy, Shares First Photo On Instagram\",\"TOP TECH ANALYST: Almost nothing will stop the FANGs in 2018 (FB, AAPL, NFLX, GOOGL)\",\"Everton Draw Shouldn\\u2019t Affect Momentum, James Milner Tells Liverpool Team-Mates\",\"Say no way, Wray: A GOP smear warrants a principled resignation\",\"Pagasa launches flood early warning system\",\"US Sen. Warren seeks to pull pot shops out of banking limbo\",\"Ottawa proposes restricted pot labels, packages\",\"UPS Shooting in California Leaves 4 Dead\",\"15 People, Including 5 Thai Nationals, Arrested From Gurgaon Spa Centre\",\"CANADA STOCKS-TSX bounces on broad rally led by gold miners, financials\",\"A gift of warmth\",\"Swiss stocks - Factors to watch on May 31\",\"Russian Air Defenses Intercept Objects Targeting Hmeimim Base\",\"Russia puts on best face for rocking World Cup\",\"Ethiopia: Philippines Eyes Intensified Bilateral Ties to Ethiopia - Ambassador\",\"Real Madrid closing in on \\u00a370million transfer to deal blows to Liverpool, Chelsea and Barcelona\",\"First lady of Honduras visits detention center\",\"Wolves 3-0 Sheffield United: Neves, Jota and Cavaleiro net\",\"Bitcoin futures surge past US$18,000, Asian shares firm\",\"Facebook Is My Pick For 2017\",\"Heritage week underway\",\"Instagram has a new feature that will remind you of Pinterest\",\"Charlottesville: Reflecting On And Dissecting What Happened\",\"NRA faces corporate backlash after latest school shooting\",\"Ontario offers to extend more contracts past next election with \\u2018no concessions\\u2019\",\"Five Summits: Armchair Adventure Series @ Vose Library 1/14/17 1 pm\",\"Douglas urges street vendors to return to Roseau Market\",\"CANADA STOCKS-TSX hits 4-month low as resources slump amid global selloff\",\"Iraqi Shi'ite leader visits UAE, strengthening ties with Sunni states\",\"RCMP seek public\\u2019s help locating missing Lower Sackville man\",\"Quebec co-op bests France with camembert win\",\"2017 AFCON: Nuru Sulley tips Black Stars for Afcon glory despite exclusion from Ghana squad\",\"Manchester United fans already LOVE new signing Victor Lindelof\",\"Working to get schoolkids walking\",\"Chris Pratt Glorifies Jesus at Teen Choice Awards One Week After Announcing Marital Woes\",\"BRIEF-Exprivia units wins tender for management of healthcare information system Edotto\",\"One million French smokers quit in a year amid anti-smoking measures\",\"ATP Cincinnati second round preview: Rafael Nadal vs Richard Gasquet\",\"Las Vegas survivor faces backlash after standing to greet President Donald Trump and first lady Melania Trump\",\"Ferrari 488 GTB Duo Gets The Widebody Treatment\",\"Tete locked and loaded for his showdown with \\\"The King\\\"\",\"Site C gets the go-ahead, now here come the lawyers\",\"Lip-smacking flavours of the world in Chennai's Taj Club House\",\"Designer or discount sunglasses - which way to go?\",\"Functional Emulsifier Blends Market Trends, Regulations And Competitive Landscape Outlook to 2028\",\"FS Investments moves lending platform from Blackstone to KKR\",\"The Latest: Prosecutor denies 'witch hunt' in Greitens case - NewsOn6.com - Tulsa, OK - News, Weather, Video and Sports - KOTV.com |\",\"Yo, Philly: Don't diss the Lehigh Valley cheesesteak until you've tried it\",\"On the Go Week of 1-2-17\",\"Hornets' Nicolas Batum out at least 6-8 weeks with elbow injury\",\"\\u2018My heart welled\\u2019: Woman shares man\\u2019s good deed for veteran at Iowa Walmart\",\"10 things to consider when planning your prepper retreat\",\"Lawyers: Suspects in school fire intellectually disabled\",\"Commentary: Protests won\\u2019t fix Venezuela. This approach could.\",\"You've probably been taking off your make-up all wrong\",\"Woolgoolga to Ballina upgrade local access changes\",\"Sydney FC heartbreak motivating Antonis for WSW's Grand Final push\",\"Outsourcing no solution\",\"Why a volunteer platoon of military veterans showed up at a Watts playground\",\"GOP senator on Trump labor nominee hiring undocumented worker: 'He should have known better'\",\"Should the US withdraw from the Iran nuclear deal?\",\"Bruno Mars to Donate $1 Million to Flint Water Crisis Victims\",\"Bracketology 12\",\"5 uncapped players in Wallabies squad to face Ireland\",\"Firefighters focus on stopping fire\\u2019s advance toward Canada\",\"Jama Powell's brother Meikel released on bail as campaign begins to free other brother Rafiki\",\"Fired tech workers turn to chatbots for counselling\",\"Reservations accepted for new hotel\",\"GRTC Pulse launches in June; free rides first week - NBC12 - WWBT - Richmond, VA News On Your Side\",\"Hoffenheim CAN produce a \\\"shock\\\" against Liverpool, claims confident 30-year-old boss Julian Nagelsmann\",\"\\u201cTrump effect\\u201d rekindles risk sentiment\",\"Taxi driver and passengers injured in hit and run\",\"Labour consultants under the spotlight\",\"Chatsmore Catholic High School prom 2018\",\"Macron beseeches France not to choose 'Thatcher or Trotsky' as French presidential race enters final week\",\"Reward offered for information in Paducah hit-and-run - wave3.com-Louisville News, Weather & Sports\",\"CBS-FM\\u2019s Free Fall Cash\",\"Canadian governments invest in future of 5G\",\"Demolition work begins on 53-year-old school in Thane\",\"Juror speaks on Lively murder verdict\",\"Second day for Event Tech Live\",\"British man who spent four years on death row in Ethiopia 'overwhelmed' after his release\",\"Facebook apologises for \\u2018offensive\\u2019 search results\",\"Elton John's farewell tour selling out quickly\",\"Sold into marriage: How Rohingya girls become child brides in Malaysia\",\"AMC paves ground for Aerial Port of the Future [Image 7 of 9]\",\"Model U.N. to attend conference at Earlham\",\"Tiger Woods joins PGA champ Justin Thomas for dinner\",\"Chinese Women Face Rampant Gender Discrimination From Employers, Report Says\",\"FILM HOUSE: Angry Inuk screening celebrates film\",\"WWE RAW Results (8/14): Final Episode Before SummerSlam\",\"The World Cup final will include one of these teams - England, Croatia, Sweden, Russia. Really.\",\"World Cup quarter-final predictions - have your say on who's going through, and who's going out\",\"Italian man held after driving through city shooting at black people\",\"Anderson Paak, tour review: Multi-talented star takes his rightful place in the spotlight\",\"Breaking down the memo: 5 takeaways\",\"Griezmann hails influence of Atletico boss\",\"Associated Press\",\"Cura\\u00e7ao: 13 things for travelers to do - CNN\",\"Hottest Celebrity Pics This Week Of Feb. 13-19: Kylie Jenner & More\",\"Windies set for crucial series against Tigers\",\"Mourners gather for Steve 'Stormin' Norman's funeral and pledge to keep his fight going\",\"Environmental Control System Market : Trends & Industry Forecast by 2024\",\"Report: Ottawa County best in MI for child well-being\",\"Roseanne Apologizes for Racist Tweet, Attributing it to Ambien Usage\",\"Zielinski Downed, but Says Not Out\",\"BRIEF-Enea sees potential negative royalty impact of 20-30 mln SEK in 2017\",\"Nobel Peace Prize awarded to anti-nuclear campaign group\",\"Downtown Sioux Falls Store Sees Big Business for St. Patrick's Day\",\"Steadfast Capital Management LP Takes Position in Herbalife LTD. (HLF)\",\"Cardinals lose ground on Brewers and Cubs in Central Division race\",\"5 Biggest Jaw-Droppers at the 2017 Teen Choice Awards\",\"Global Automotive Steering Wheel Market Outlook, Strategies, Manufacturers, Type and Application, Forecast To 2023\",\"Cotton booed for defending Trump on tax returns\",\"Deals and freebies for Tax Day 2017\",\"How much Coronation Street star Mikey North earned for opening new Grimsby Poundland\",\"Court reverses itself and restores woman\\u2019s murder conviction\",\"J P Morgan Chase & Co (JPM) is Hartford Investment Management Co.\\u2019s 7th Largest Position\",\"Pit bull attacks, kills 77-year-old suburban Illinois woman\",\"Dedication of the walking trail\",\"Virginia coffee shop owner chases pickpocket to recover customer\\u2019s stolen purse\",\"What's Going On In The News Today?\",\"Turkey's referendum could signal trouble ahead for the country, experts say\",\"Video of Georgia boy helping woman climb stairs warms hearts\",\"Why I Dumped PDP For APC - Kogi lawmaker, Ndako\",\"Samsung Galaxy S9\\u2019s fingerprint scanner to be placed below camera, reveals leak\",\"PHOTOS: Police seek suspects who allegedly used fake money at Johnson City Walmart\",\"Patriots' Dwayne Allen: Sees 50 snaps Thursday\",\"This teacher's meet-and-greet routine is making manners matter for her Texas kindergarten class\",\"Environmental groups slam NDP decision to continue with Site C\",\"PM Modi Arrives In Malaysia To Meet Newly-Elected Prime Minister Mahathir Mohammad\",\"Homicide investigation opened in shooting of man in Macon\",\"Josh McCown done for season, Bryce Petty to start for Jets\",\"New minimum wage boosts cost of crossing guards\",\"Pastor wants churchgoers to tweet from pews\",\"Single in 2017? Here are the 10 biggest online dating photo mistakes\",\"Demise of Count Arthur Strong signals the end of the family sitcom\",\"Simultaneous polls: Centre should consult all parties, says Congress\",\"England vs Germany tickets, date, kick-off time and prices for the Wembley friendly\",\"DC for strict action against profiteers\",\"French Film Festival opens at cinematheques around Israel\",\"2018 Volkswagen Tiguan Pricing Starts At $25,345 for FWD Models\",\"Waterstone Mortgage opens largest office in the South West\",\"No PGA title (yet), but Jordan Spieth is still one of golf\\u2019s fiercest competitors\",\"Workers plug Alaska North Slope oil well that leaked gas\",\"Inside the booming black market for bourbon\",\"Trump loyalists deny reported charges of campaign contacts with Russian spies\",\"Elgin man pleads guilty to sexually assaulting a child\",\"Imax hires TBWAChiatDay Los Angeles as global agency\",\"Bayfront Fourth Fest Rescheduled due to Weather Concerns\",\"Rushmoor's knitted Christmas angels are back this year and there will be more than ever before\",\"Donald Trump Jr. Heads to Florida With His Kids After Divorce Filing\",\"No. 10 Texas Tech on defensive at TCU\",\"Woman killed in New Year's Day fireworks explosion in Hawaii\",\"Spend the Summer Solstice on the South Bay's Best Outdoor Patios\",\"Letters to the Editor\",\"Is The Street Underestimating ADP (NASDAQ:ADP)? Goldman Upgrades\",\"In Defense Of Net Neutrality, Internet Pioneers Accuse FCC Of Not Unde\",\"Australia flags debt trap, tightens credit rules\",\"Half of British pubic support more immigration of highly skilled workers, poll suggests\",\"ACLU seeks re-examination of Oklahoma domestic violence case\",\"Macron parties at Fela Kuti's New Afrika Shrine in Nigeria\",\"Amal Clooney in Vintage Versace at the William-Vintage Party in Los Angeles\",\"Seeking Sponsorship? Top Ten Types of Companies to Ask\",\"Sousa's budgeting smoke and mirrors\",\"Arrests made in shooting death of Za'Layia Jenkins\",\"James Richard Main\",\"Instructional coaching improves preschool teachers' comfort with STEM topics in the classroom\",\"Man Utd transfer news LIVE: Mourinho\\u2019s Bale demand, Fred deal deadline, Liverpool interest\",\"Angels\\u2019 Kole Calhoun working to pull out of early-season slump\",\"The break-in happened on Rainey Street in Austin.\",\"Health Officials, Hospitals On High Alert As Wildfires Burn Across California\",\"Google's 'remote babysitter' alerts worried parents when children are left alone\",\"Kentucky will play 4 games during trip to Bahamas in August\",\"Celebrities who turned to politics\",\"NCAA volleyball: Marquette upsets Creighton, BYU and USD win\",\"Live updates from Welland city hall\",\"BRIEF-Loxo Oncology reports acceptance of larotrectinib oral presentations at ASCO annual meeting\",\"Police: Man in gorilla mask robs Alabama convenience store\",\"Dead man balking: Court rejects Romanian man's claim that he is, in fact, alive\",\"NASA's plutonium shortage may still jeopardize deep-space exploration\",\"Clear message sent by $29,000 fine for plant damage cover-up\",\"China's state oil giant to complete ownership reforms by Nov\",\"Anfield assault: Roma fans arrested for attempted murder\",\"6585 Draper Ave\",\"Silk Road hub or tax haven? China's new border trade zone may be less than it seems\",\"Namibia: Equality Parade Held in Swakopmund\",\"Behind The Scene Indonesia Cerdas\\u2026\",\"BRIEF-Mimaki Engineering unit to buy digital ink and digital media relative business from UAB VEIKA\",\"Neymar, Ronaldo to vie for Europe glory\",\"O-line is heartbeat of Bombers offence\",\"IBM To Train 5m Nigerians On Technology Skills\",\"\\u2018This Is Us\\u2019 Creator Teases \\u2018Showcase\\u2019 Episodes For Two Surprising Characters In Season 3\",\"6 US cities that are paying people thousands of dollars to move there\",\"YWCA North Central Washington Calls Off Estate Sales\",\"Emma Thompson: I want to hold on to being a rock and roll chick\",\"NFL Week 17: QB questions, Packers soar, Redskins out\",\"Sellafield workers to vote on strike action after rejecting 1.5% pay rise\",\"McGowan announces fresh face to run\",\"Trail Blazers players, staff reflect on regular season 'success,' playoff sweep and future\",\"Surf Life Saving wants to close dangerous Glenelg beach\",\"3 charged with kidnapping, holding man naked for 30 hours\",\"Texas teen injured in skydiving accident in Oklahoma awarded $760,000\",\"The Netflix (NASDAQ: NFLX) Price Increase: What It Means For Shareholders\",\"Ukraine turns away Russian boxing team for European meet\",\"Coronation Street spoiler: Phelan threatens to hurt Daniel after coming face-to-face with an old enemy\",\"Alabama man charged in Detroit murder\",\"Highlights, New Zealand vs West Indies, 2nd Test, Day 4 at Hamilton: Kiwis clinch series 2-0\",\"Free Nintendo Switch Demo For Rayman Legends Definitive Edition Out Now\",\"Mumbai: AIDS experts warn against use of prophylactic drugs\",\"Solar scam: Bengaluru Court adjourns matter to January 9\",\"LA County unveils $30 billion budget plan, but warns of fiscal hurdles ahead\",\"Real Esate Transactions\",\"Volunteers prepare for city-wide day of service - KXXV-TV News Channel 25 - Central Texas News and Weather for Waco, Temple, Killeen |\",\"Roseanne Barr's racist tweet splits far-right commentators\",\"FREE ICE CREAM FOR THE FIRST DAY OF SPRING\",\"Police investigating robbery at Florissant jewelry store - KMOV.com\",\"EN DIRECT / LIVE.\",\"How Trump Campaigned, and Will Govern, on Social Media\",\"M&S slammed over \\u201cirresponsible\\u201d plastic apple packaging\",\"German leader sees end of the road for diesel, gasoline cars\",\"The ultimate fixer-upper for a pink-loving princess on sale for just \\u00a310,000\",\"India launches record 104 satellites to monitor Pakistan, China\",\"One of most dangerous mafia bosses detained in Italy\",\"Outrage over new in-flight burger meal\",\"RCMP in Alberta allege dad left baby in cold car while he went to bar\",\"Lincoln County Store Owner Tackles Robbery Suspect\",\"Alcala in graft raps over garlic \\u2018cartel\\u2019\",\"Semi Luxury Project in South Mumbai award goes to Desai Oceanic\",\"Groups Call For Stricter Gun Laws - KTVN Channel 2 - Reno Tahoe Sparks News, Weather, Video\",\"Trump says Mnuchin will travel to China amid trade dispute\",\"HOW DO WOODPECKERS PROTECT THEIR BRAINS?\",\"Man accused of making SXSW bomb threat vowed to 'watch everyone die,' affidavit says\",\"Man arrested for derogatory remarks against Bharat Mata\",\"Flamingos walk tight rope on Uruguay route\",\"Leah Nanako Winkler Wins First Annual Mark O\\u2019Donnell Prize\",\"The Lawn Residential Care Home\",\"TX Midland/Odessa TX Zone Forecast\",\"China's president to visit Finland next week\",\"Spurs defeat Hawks 103-81, get first 2018 Summer League victory\",\"Fed holds rates steady, calls first-quarter softness 'transitory'\",\"Henley sides miss out on place at Aviva Premiership final\",\"NLC chief Ayuba Wabba calls for upward review of pensions\",\"Fajita bandit who stole $1.2 million in nine-year hustle got 50 years in prison.\",\"Discovery of headless body strikes fear into Durban\",\"BC-OH-Ohio News Digest 1:30 pm, OH\",\"YouTube releases number of, reasons for video removals\",\"Ed Morris celebrates the joy of coincidence with new photo book\",\"Audio: The Danielle Norwood Show\",\"US flu season off to an early start; widespread in 7 states - KSWO, Lawton, OK- Wichita Falls, TX: News, Weather, Sports. ABC, 24/7, Telemundo -\",\"Coe bemoans Bolt's 'devastating moment'\",\"South African traditional healer gets life sentence in the beheading case of an Indian woman\",\"Twitter chief for China quits, hails its performance\",\"Firefighters call attack by Goshen Twp. group home girls \\u2018personal\\u2019\",\"Park Hills man saves woman, 74, from burning home\",\"Preseason Opener Good Reminder There\\u2019s Still Work to Be Done \\\" CBS DC\",\"What's Your Bank Learning From Your Cell Phone?\",\"Cynthia Nixon Announces Run For New York Governor\",\"Ahsan for ensuring tangible outcomes of Pak-China industrial cooperation\",\"Frank Driedger\",\"Missouri House, Senate leaders sign off on bills while helping Parson transition to governor\",\"S&P, Moody's cut trading firm Noble ratings, cite high default risk\",\"The Women Behind the Black Panther Party Logo\",\"Pakistan: She refused to marry her uncle. Her family members murdered her for resisting\",\"Bamboozled: 56 days without a dryer, Best Buy customer is steamed\",\"Prosecutors drop charge vs. commentator Lucian Wintrich\",\"Harvey Weinstein indicted for rape\",\"Bunny Sigler, Who Helped Create 1970s Philly Sound, Dies\",\"Three sets of twins born in different years - just a New Year\\u2019s thing\",\"Bennington Museum Opens Historic Photography Exhibition\",\"US calls Syrian presidency of disarmament body 'travesty'\",\"You Won't Believe Everything Philippine Boxer-Politician Manny Pacquiao's Did for an Ice Cream Vendor\",\"Driver back behind the wheel the day after court ban\",\"Green has new outlook entering second spring with Padres\",\"Devers, Benintendi lead Red Sox past Yankees\",\"North Carolina Democrat compares budget to rape, NC to North Korea\",\"Watch KSI vs Joe Weller fight live stream as YouTube stars meet in the ring to settle Twitter feud\",\"MCT's 'Deathtrap' is a Non-stop Thrill Ride\",\"'Fat woman' sat on biker to stop him escaping crash scene where pensioner died\",\"The worse North Korea acts, the more cash aid it gets\",\"T.I. Struggling To Be Faithful To Tiny Despite Wanting To Stay Together: \\u2018It\\u2019s Hella Tough\\u2019\",\"Arsenal transfer news: Lucas Torreira's father reveals big WORRY ahead of move\",\"Lucky just won\\u2019t cut it\",\"Energy advocates call for new commitment to renewable growth\",\"Birner Dental Management Services (BDMS) CEO Fred Birner on Q2 2017 Results - Earnings Call Transcript\",\"Mariah Carey Reacts to Her NYE Performance with Humor\",\"German police in hot water over 'racial slur' tweet after New Year's arrests\",\"6 Ways to Run Better, From Olympian Sanya Richards-Ross\",\"Records: Nebraska execution team trained on 5 dates\",\"PERILLO, Victor\",\"Chiefs rule out 2 starting offensive linemen vs Texans\",\"Keep Food Fresh and Save Money With This Discounted Vacuum Sealer\",\"Gail M. Bishop - Woonsocket\",\"City to fund project to provide legal access to undocumented immigrants\",\"Jensen, Goodwin help No. 23 Oklahoma St. women beat Kansas\",\"Millicent Fawcett: Theresa May leads tributes to suffragist leader\",\"Colorado State guard Prentiss Nixon headed to Iowa State\",\"MS-13 member tries to sneak into U.S. as illegal immigrant child\",\"How a North Korean Assassin\\u2019s Failed Attempt to Kill a President Led Him to God\",\"Yahoo! Japan's Steady Revenue Growth Continues\",\"Taylor Swift Receives Support From Kesha as Her Groping Trial Comes to an End\",\"Salmonella scare prompts global recall of Lactalis baby milk\",\"DBS unveils electricity marketplace for Jurong residents to select energy retailers\",\"Reese Witherspoon Uses Instagram to Fact-Check a Story About Herself\",\"Pentagon will allow transgender people to enlist in military starting January 1st\",\"9,000 passengers have used new ride program on \\u2018Highway of Tears\\u2019: Province\",\"China stocks have worst week in over a year as small-cap woes bite\",\"Suspect Captured After 'Terror-Related' Explosion In New York Prompts Subway Evacuation\",\"Main Brighouse road closed after car flips onto its roof\",\"Street Eats' Last Huzzah of Summer: The Craft Brewery Edition\",\"Kym Johnson Gives Birth to Twins With Robert Herjavec\",\"Climber on Statue of Liberty after protesters hang anti-ICE banner from base\",\"Why are Florida legislators siding with predatory payday lenders?\",\"'Illicit alcohol' found, seized from Mexican resorts, restaurants and nightclubs\",\"New York hemp farmers foresee big economic benefits\",\"Newsroom To 'Chicago Tribune': With 85 Percent Backing, We Have Votes For Union\",\"MCA, regulatory bodies express dissent on Uday Kotak panel proposals\",\"Prince Charles hears of recyclable packaging innovations during visit to Boston food processing business\",\"One in the Hand is Worth Two in the Bush\",\"First Bank offers customers chance to watch 2018 FIFA World Cup live in Russia\",\"Weather systems are chaotic and can be completely unpredictable. But what's behind them?\",\"Chicago date idea: Paint a portrait of your pet, then take a walk in the park\",\"Fujairah teacher wins Emirates Innovative Teacher\\u2019s Award\",\"Dozens gather at Percival Landing to show support for Evergreen\",\"Gauteng pays for protesters at dagga trial\",\"France condemns killing of three Cameroonian gendarmes, urges dialogue\",\"Minnesota Twins to hold a 'Purple Rain'-themed tribute for Prince\",\"Kourtney Kardashian and beau Younes Bendjima show off physiques as they work up a sweat in Italy\",\"The Latest: NATO stands united with UK in spat with Russia\",\"SuperSport deny minister's involvement in Hougaard's cancelled gig\",\"\\\"CBS This Morning\\\" Spotify Playlist: April 24, 2018\",\"Balarabe Musa Says APC, Buhari Are Complete Failures\",\"Australia: Admiral to become US ambassador to South Korea\",\"Track, field shatters records in California\",\"Florida suspends WR Antonio Callaway, six others for Michigan game\",\"2016-17 Rink Wrap: Nate Schmidt\",\"Dow's Enlist corn cleared for Canada\",\"1 dead, 2 hurt after Army helicopter crashes in Maryland\",\"Tennis Shoes - What Makes Them Different?\",\"BRIEF-Whitecap Resources qtrly earnings per share $0.07\",\"Strong winds drive smoke from Georgia wildfire into NC\",\"Traffic jams costing UK economy \\u00a3203 million a week\",\"\\u2018They Were Trying to Kill Me,\\u2019 Hip-Hop Artist Says After Being Beaten by White Supremacists in Charlottesville\",\"Malwarebytes Anti-Malware\",\"Are these the new contestants on Married At First Sight?\",\"BRIEF-Tadvest says acquisition of further Redefine and EPP shares from Namib Holdings Proprietary\",\"Kingman Daily Miner\",\"Police investigate deadly stabbing in South Salt Lake\",\"Manchester United Transfer News: Gareth Bale and Sergej Milinkovic-Savic Rumours\",\"John Stamos and Caitlin McHugh Are Married\",\"Menorah kindlings planned across Ventura County\",\"AJ Tye and Billy Stanlake lead way as Aussies rout Kiwis in opening T20 clash\",\"Digital Trends rolls out GDPR-compliant advertising options\",\"Youth and depression: Building supports in schools\",\"Point Primary \\u2018Students of the Month\\u2019\",\"Raymond Felton re-signing to push OKC past $300M in payroll, tax\",\"Go beyond policies to generate revenue: Railways board to officials\",\"Cornick seals vital victory for the Hatters\",\"Snezana Markoski shares her advice for exhausted parents\",\"Jerry Saltz: My Life As a Failed Artist\",\"Queensland government invests in health IT\",\"TFF Early Bird Offer\",\"Woman accused of driving 50 km/h over speed limit on Hwy 400, McDougall\",\"Beekeeper, venture capitalist lead Democrats touting local ties in bid to flip California district\",\"U.S. swelters on Fourth of July but relief in sight\",\"106-year-old reveals his secret to being one of UK's oldest people living independently\",\"Dow Water Technology to provide fluoride-free drinking water to Kasarani residents\",\"Son's love of basketball helps him cope with father's death\",\"Elementary Students Collect Change to Make A Change - WTRF 7 News Sports Weather - Wheeling Steubenville\",\"Broadcasting station gets $72 million for changing channel\",\"Tanzania: Bodies of Slain Tanzanian Peacekeepers in DRC to Arrive On Tuesday or Wednesday\",\"Universities are not spying on students\",\"Walmart offers employees new perk: cheap access to college\",\"EU proposes spending more on Italy, less on Poland\",\"10 things to do in and around Northamptonshire\",\"Milton native joins innovative advocacy efforts in the U.S. Navy for victims of sexual assault\",\"Man gets 30 years for five convictions\",\"Convicted Russian soccer fan: We've been warned against World Cup violence\",\"Future of sport in Petworth Park is healthy\",\"Wrestling legend Ric Flair hospitalized\",\"Police: Man breaks into Murfreesboro shop, steals lottery tickets\",\"Holy Cross parts ways with football coach Eric Rebaudo, sources say\",\"LPG distributor licences: Centre falls short of target\",\"Long shot Puig finishes second in Del Mar debut\",\"Snow specks spotted with rain\",\"BRIEF-Nabors announces agreement to acquire Tesco Corp in an all-stock transaction\",\"Stephen King on why TV adaptation of 'Under the Dome' was cancelled: 'It got dum\",\"Cleveland Indians, Minnesota Twins series preview, pitching matchups\",\"Leonardo DiCaprio's Leonardo Da Vinci Biopic Film Finds Writer\",\"TREASURIES -U.S. yields pare gains after private sector payrolls report\",\"Meghan Markle will have to master these royal etiquette skills if she marries Prince Harry\",\"Dominion Energy reaffirms earnings guidance after FERC policy change\",\"Marathon pacer undergoes high-risk surgery\",\"Laura Ingraham\\u2019s Ratings Are Up 16 Percent Since The David Hogg Controversy\",\"LEADING OFF: Sale goes for No. 9; Hoffman tries for 5th\",\"Direct Drive Wind Turbine Market Business Opportunities, Growth Rate, Share, Size, Current Trends, & Industry Analysis by 2022\",\"World Cup Fantasy Football tips: Defenders to sign for the quarter-finals\",\"Change Announced for WWE RAW Match, Update on Brock Lesnar's Royal Rumble Opponent\",\"FOREX-Dollar gains as Fed sticks to guns on policy tightening\",\"Puerto Rico grid 'teetering' despite $3.8 billion repair job\",\"City Club Plans for March 6 Event on Education\",\"Alexa Chung revisits romance with Matt Hitt as they adoringly admire each other in NYC\",\"Tarot Readings - How Trustworthy Are They?\",\"China jails official who bribed disgraced presidential aide\",\"Husband of woman killed on Southwest flight: 'I immediately thought of the kids'\",\"Viral video: Elderly woman dances to Lata Mangeshkar's Hindi song\",\"Andie MacDowell's daughter Margaret Qualley: I only saw Four Weddings last year\",\"This is nothing yet as Perth braces for next massive weather front\",\"Information and Advice Bournemouth Jobcentre Plus Outreach\",\"Chile result a sign that positive outcome possible for India at U-17 World Cup: Coach Luis Norton de Matos\",\"Microsoft launches DirectX Raytracing to streamline real-time rendering\",\"Congressman says reports of active shooter at Travis Air Force Base were false\",\"All the Bristol pubs showing 2018 Six Nations matches\",\"House fire displaces Harvard family\",\"SoftBank is buying Fortress for $3.3 billion - and Fortress...\",\"\\u2018Scandal\\u2019 creator Shonda Rhimes leaves ABC for Netflix\",\"Rabbit rescues prep for abandoned bunnies\",\"Rick Gosselin's NFL rankings: How high do the Cowboys stand after regular-season finale?\",\"Janet Street-Porter leaving to concentrate on health\",\"How the Rangers found Isiah Kiner-Falefa and the prophetic words he told the scout who signed him\",\"Market selloff is a good buying opportunity\",\"Stingrays Weekly Report\",\"Suffolk ready for season opener\",\"UK consumer slowdown underway, caution needed on rates: Bank of England's Vlieghe\",\"Teetotaling Made Trendy\",\"Adam Levine Admits He's An Overprotective Father\",\"Prince Harry & Meghan Markle's Wedding Music Includes A Full Orchestra, So Get Ready\",\"Snowbound California roads still getting a major plow job\",\"Wisbech fountain to be repaired 'just one more time'\",\"Wimbledon 2018: World No. 2 Caroline Wozniacki Knocked Out In Second Round\",\"Celebrity Trainer Vinod Channa Reveals The Secret Behind Harshvardhan's Drastic Transformation\",\"Speculators in Futures are Net Long All the Dollar Bloc Currencies--First Time in Five Months\",\"Premier League: English FA contacts Manchester United & Manchester City over post-match fracas\",\"Apple now lets devs accept pre-orders for iOS and macOS apps\",\"Language matters when guiding patients and families on end-of-life care\",\"Looking for work in 2017? Create a job search game plan\",\"I'll Not Give Up On Fight Against Corruption - Magu\",\"Meizu's first Android Go smartphone probably isn't coming to the US\",\"Video: Watch today's UFC 216 ceremonial weigh-ins live on MMAjunkie at 8 p.m. ET\",\"School Districts Showing Bus Drivers Love During Appreciation Week\",\"LeFlore County Deputies Investigate Alleged Dog Fighting Ring, Source Says It\\u2019s Gang Related\",\"Time and Place: A. Lange & S\\u00f6hne in Lake Como\",\"McLaren Senna - the New Ultimate Series\",\"Las Vegas investor arrested near Yellowstone\",\"Brit trapped in hellhole Dubai jail after 'touching another man in bar to avoid spilling his drink'\",\"How To Trade Boeing, Apple And Two Others With Gains Of More Than 40% Since The Election\",\"Sycuan Casino Welcomes New Director of Sales and Director of Operational Strategy\",\"WoodSpring Hotels Plans New Extended Stay Hotel Near Downtown Milwaukee\",\"15 Year Old Stabbed To Death In Wolverhampton\",\"Cycling - Australia storm past New Zealand to win men's pursuit gold\",\"South Africa vs Bangladesh Live Score 2nd Test Day 2: Rain delays start of play\",\"High-tech laser walls, censors along Indo-Bangla border soon\",\"Child dies after 'stolen car' dumped in River Teifi in Cardigan, Wales\",\"First \\u2018lyncher\\u2019 of Eritrean during Beersheba attack given community service\",\"Colts acknowledge Luck still getting treatment in Europe\",\"The Latest: Switzerland wins gold in Alpine team event\",\"Hawaii volcano update: What island is the volcano erupting on? Latest aerial pictures\",\"Italian police smash ring trafficking in ancient artifacts\",\"Crunch time for Basin Plan\",\"Thauvin hat-trick powers Marseille win\",\"WHO declares end to yellow fever outbreak in Congo, Angola\",\"Rooney grabs winner on Everton homecoming\",\"Kentucky Senate OKs bill to limit some attorneys' fees\",\"Two kids are injured every day by window blinds, study finds\",\"Watch Live - U-17 World Cup kicks off, U.S. in action vs. hosts India\",\"When is the Alice Ruggles 'An Hour to Catch a Killer' documentary on ITV?\",\"Healthiest State Initiative includes Harlan walk\",\"BRIEF-Imperial Q2 earnings per share C$0.68\",\"Trucks line up to help stop suicide attempt on Michigan freeway\",\"Six Sensational Seasonal Stuffings For Turkey\",\"The 49ers Just Showed Us How Much the Locker Room Supported Colin Kaepernick\",\"South Africa: Parly Wants Tangible Results in SAPS Turnaround Strategy\",\"Shooting survivor meets stranger who saved her\",\"Muguruza beats Stosur in 1st round at Brisbane International\",\"Congress Ushers in New Era of all-Republican Rule\",\"Kenyan police arrest third legislator over opposition leader's 'swearing in'\",\"Palestinian President attacks Hamas, calls US ambassador 'son of a dog'\",\"City action spurs drastic transformation of trash-ridden property in Kaimuki\",\"au Transformers Infobar Optimus Prime commercial\",\"St. Louis philanthropist meets with Education Secretary\",\"Catalan and Kurdish referendums spotlight other independence movements\",\"US Democratic leaders react to Charlottesville deadly clashes\",\"Greece sells stake in telecoms operator OTE to Deutsche Telekom\",\"Are we living through the death of the high street? Map shows all 2018 UK store closures\",\"\\uff08\\u53cc\\u8bed\\u7248\\uff09\\u4e16\\u754c\\u53e4\\u90fd\\u8bba\\u575b\\u5609\\u5bbe\\u53d1\\u8a00\\u6458\\u8981\",\"Mesut Ozil supplies respite for Arsenal but despair for Middlesbrough\",\"Bulls Blow Out Shorthanded Celtics 108-85\",\"American Girl announces Nashville dolls\",\"University of Toledo Campaigns for Shrek to Be Next Mascot\",\"Fireworks black market: Experts struggle to halt sale of illegal crackers\",\"FIRS, others share data of high income earners\",\"Queens of the Stone Age frontman apologizes for kicking photographer\",\"FM-led panel to decide on fund allocation from Central Road and Infrastructure Fund for infra projects\",\"Stem cells from young hearts could rejuvenate old hearts\",\"WATCH: Shark lurking around CSF whale carcass\",\"Always Contact The Professionals For Vehicle Transportation Services\",\"\\u00a3100,000 investment marks new era for The Cardan Bar & Grill\",\"Mularkey sees Titans' offensive issues as 'very fixable'\",\"White House: Mideast peace may not be 2-state solution\",\"Spain urges Catalonia to drop separatism and begin dialogue\",\"Winthrop Town Council and Manson Community Council Among Meetings This Week\",\"ICYMI: 2016 wraps up the same as it began, UConn on top\",\"Walmart to offer employees a college education for $1 a day\",\"Florida police try using dead man\\u2019s finger to unlock cellphone\",\"UFOs? Cause Of Mystery Lights In Denver Skies Revealed\",\"Berkshire takes huge bite of Apple, boosts airline stakes\",\"Fed official wants to trim, maybe sell, bonds this year\",\"County Supervisors Expected to Decide Fate of 4-H Program Funding on Friday\",\"Depression, anxiety may up risk of long-term opioid use\",\"Kamal Haasan's political plans enter crucial phase in February: What the road ahead is like\",\"'Naturally-degradable' dry battery does not harm environment\",\"Las Vegas officials ready to study another Badlands plan\",\"National Football League\",\"Lotto: Have you won the \\u00a36.3m jackpot?\",\"Hitchens explains Islam and why it is so STUPID.\",\"Channel 13: The Team More Iowans Trust for Weather\",\"Daily Post Nigeria\",\"Who Is Emily Maynard? 5 Things About The Girl Who Broke Arie\\u2019s Heart\",\"Barcelona Transfer Rumors 2017: Bar\\u00e7a Will Consider Signing Tottenham's Christian Eriksen\",\"No choice but to accept in-laws\\u2019 slights\",\"Avon Lodge Care Home\",\"Jon Pardi Joins Best Part of Super Bowl\",\"Arizona DPS trooper slightly injured while making an arrest\",\"Is Mitt Romney a Republican?\",\"First Ultra-Accesible Waterpark for the Disabled\",\"Hong Kong | TVB sweetens buyback offer; shares soar\",\"Beyonce's Daughter Bids $19,000 for Painting at Art Gala\",\"Will County official: 'Truly sorry' about 2002 forgery charge\",\"Proud to be part of generation that's not putting up with harassment: Ansel Elgort\",\"Portland Thorns announce roster ahead of 2018 season\",\"World's last male northern white rhino, named Sudan, dies\",\"Avalara Names Danny Fields EVP Engineering and CTO\",\"Feds: False Change Of Address Moved UPS Headquarters To Rogers Park Apartment\",\"France tries Equatorial Guinea leader's son in absentia in corruption case\",\"Police warn Zachary residents about travel 'scam' - WAFB 9 News Baton Rouge, Louisiana News, Weather, Sports\",\"Is Derek Carr ahead of rehab schedule?\",\"\\u00a385 million extension to re-branded shopping centre to open later this year\",\"Ohioans urged to watch for signs of elder financial exploitation\",\"Bowling: Earl Anthony\\u2019s Dublin Bowl results\",\"New invention revolutionizes exoskeletons\",\"U.S. SEC says court should deny Rio Tinto's push to dismiss fraud charges\",\"SnapLogic Unveils Industry-First \\\"Self-Driving\\\" Technology to Automate Enterprise Integration\",\"Ayda Field bought Robbie Williams a 'weed farm'\",\"EU Parliament approves landmark Canada trade deal\",\"Dubai classified ads and your dream car\",\"ICE Futures Canada quotes and cash prices\",\"Religion notes: May 31, 2018\",\"China Eastern, China Southern approved for new airport investment\",\"\\u2018We don\\u2019t discriminate between Hindus and Muslims, our development is for all,\\u2019 says Mamata Banerjee\",\"AFC Wimbledon boss accuses players of 'laziness' during home defeat to Shrewsbury Town\",\"Depp brings Jack Sparrow to B.C. hospital\",\"For Syrian Refugees In Turkey, A Long Road To Regular Employment\",\"The collapse of Monarch: inside the doomed airline in its last days\",\"Ryde man in court over rape charge\",\"PM Modi leaves for Malaysia after wrapping up his Indonesia visit\",\"Nicotinamide Market Overview Key Futuristic Trends and Competitive Landscape 2025\",\"Uganda: Stepping up Male Circumcision to Fight HIV\",\"FREE Advance Passes to JUMANJI in Many Cities Inside The United States!\",\"Vandals hit small park on Beaufort\\u2019s Carven Street\",\"Russian Spy Ship Spotted Closer to US, Near Navy Submarine Base\",\"Sustainable farming meets low emissions shipping\",\"Man U manager Mourinho says atmosphere quiet at Old Trafford\",\"Is Regulation About To Crush The Tech Giants?\",\"Warriors to Provide Replacement for Red Panda's Stolen Unicycle\",\"Live Commentary: West Ham United 0-0 Manchester United\",\"Someone Just Traded $35 Million of This Metals and Mining Fund\",\"Dan Martin bids to win his second Volta a Catalunya\",\"Lithium Light Studios Earns BBB Accreditation\",\"Prince Harry Opens up About Mental Health and His Coping With Princess Diana\\u2019s Death\",\"Special weather statement for heat continues in Almaguin, North Bay\",\"Groups say Canada needs national pain strategy\",\"UA to host Juneteenth celebration June 17 at The Gardens\",\"Pompeo nomination narrowly clears panel, goes to full Senate\",\"Monday\\u2019s best TV: Cheap Cheap Cheap; Scotland\\u2019s Model Teenager; EasyJet: Inside the Cockpit\",\"Crash marks 1st death involving fully autonomous vehicle\",\"Cyprus party refuses to back candidate in presidential race\",\"'Orange is the New Black' Season 6 Spoilers: Danielle Brooks Dishes on Taystee, Show's End\",\"Friendly Valley Memorial Day Parade\",\"Maldives stares at crisis as president refuses to \\u2018release\\u2019 Nasheed\",\"Fan\\u2019s view: Steve Herbert calls for patience as first win is just aorund the corner\",\"Delinquent businesses put on notice to file reports, pay up\",\"US stocks veer lower in light trading ahead of US holiday\",\"43 Rapid Creek Rd\",\"Lean Certification and Certified Lean Training Courses\",\"More than 200 seek early entry to NBA draft\",\"Sen. Mike Lee: Americans Don\\u2019t Want Obamacare Bailouts\",\"Abrahaminte Santhathikal Box Office Collection\",\"Police investigating 'serious assault' outside Anfield prior to Liverpool's Champions League match\",\"Habitat Price Points: What $100,000 to $400,000 Buys You in Chestertown\",\"Kicks On-Air Contests\",\"Omega-3 supplements may not cut heart disease risk\",\"Matt Kenseth Expected to Return to NASCAR Cup Series Next Month\",\"Woman\\u2019s Video of Tense, Bizarre Encounter Between Suspect and Deputy Goes Viral\",\"Mother's anguish over miscarriage after she waited weeks for surgery\",\"NHS appeals for people with O and B negative blood to donate\",\"Israel Adesanya Eyes Future Bout With Darren Till\",\"Ant McPartlin sparks Britain's Got Talent Ofcom complaint\",\"Pliskova, Kvitova to lead Czechs against Switzerland\",\"Facebook tops most downloaded apps of all time\",\"An extra 440km and $20k to get to the Bowen Basin\",\"Suspicious package closes Newport road\",\"How Silicon Valley Turned Into \\u2018Brotopia\\u2019\",\"Stocks recover their poise as Italy concerns abate\",\"Trump signs proclamation to honor National Manufacturing Day\",\"Visiting The Smithsonian Museum Of African American History And Culture With High School Students\",\"Fatal collision closes Highway 401 westbound at Martin Grove Road\",\"Iraqi state gas firm official shot dead in Kirkuk city - police\",\"Device that turns rifles into machine guns under review\",\"Adorable Toddler Learns about Breast Feeding, Requests Chocolate Milk\",\"PM Hun Sen Sends Letter to Congratulate President Xi Jinping\",\"BRIEF-Cempra withdraws solithromycin marketing authorization application in Europe\",\"Samsung Group boss earned $1 million at flagship in Q4, shows first disclosure\",\"As algorithms take over, YouTube's recommendations highlight a human problem\",\"'Dreadful public nuisance' banned from drinking in Harrogate\",\"FYROM, Greece Back to the Name Game Bargaining Table\",\"Putin\\u2019s 'DIRTY election campaign' SLAMMED as opponents warn of 'DANGEROUS Russia ABYSS'\",\"PIMCO to open office in Texas, plans to hire workers\",\"Former Facebook exec says social media giant is 'ripping apart' society | The Wichita Eagle\",\"Massive Project in Waukee Inches Forward\",\"Kenya: Aon Launches Cyber Risk Insurance\",\"5 new baby animals to visit at the Denver Zoo\",\"Triumph Bancorp Announces Schedule for 3rd Quarter 2017 Earnings Release and Conference Call\",\"Japan Times 1993: Female workers don't like to drink with boss\",\"Syrian man arrested in Germany over alleged IS attack plan\",\"Gerald Carpenter: Academy Festival Opens with a Bang and a Whisper\",\"Red Cross volunteers and Odessa Fire and Rescue install 203 fire - KWES NewsWest 9 / Midland, Odessa, Big Spring, TX: newswest9.com |\",\"Liberia: Head-to-Head - Preview of Crowded Field for Liberia's Next Speaker\",\"American freed from Venezuela jail returns home to Salt Lake\",\"Colorectal Cancer Screenings Should Start at 45 (Not 50), Cancer Society Says\",\"Jury reaches verdict in Taylor Swift trial\",\"Broome: First County in NYS to Streamline Arraignments\",\"Pune: Minor fire at IISER, none hurt\",\"Ryanair flights: Hand luggage costs increase again for passengers\",\"Sarah Sanders gets choked up after child asks about 'senseless' school shootings\",\"'Drunk Killed Dad' message left after fatal east Las Vegas bicyc - FOX5 Vegas - KVVU\",\"Students at San Bernardino school shooting site get stuffed animals, thousands left to distribute\",\"Guptill out for start of ANZ Series\",\"India\\u2019s liberal bubble has shrunk to irrelevance in the age of Narendra Modi\",\"Investigate Dino Melaye for diverting items for IDPs in North-East - Isah tells EFCC\",\"Sioux Falls man pleads guilty but mentally ill in wife death\",\"The Massive Secret Inside Apple's New iPad Pro\",\"Just in: Dino Melaye Dumps APC, Joins PDP\",\"Is Jyothi the new Chinmayi?\",\"That\\u2019s the Spirit: Delta-based guitarist aims to play for 116 hours in marathon record attempt for charity\",\"Country Day and Central move on in basketball playoffs\",\"Last of the Jayer wine to go on sale in Geneva\",\"Asked to 'tone it down,' these Eagles fans belted out the fight song instead\",\"NCCU grad who serves with Capitol Police among those injured in Virginia shooting\",\"Aimia shares plummet for a second day after Nectar sale prompts DBRS warning\",\"Woman struck by light-rail train in South Seattle\",\"Indian shares fall; all eyes on Infosys results\",\"Trump Takes Dig At Chicago Mayor Rahm Emanuel\",\"Turnbull pulls live export bill after Sussan Ley signals intent to back Labor ban\",\"Petra Jaenicke - Gazing at the adorable being\",\"Red Cross marks local centennial\",\"TX Lubbock TX Zone Forecast\",\"Bank of Canada keeps key interest rate target on hold at 1.25 per cent\",\"Winter Sports and Music Festival Held to Help Aid Blood Cancer Research\",\"Subscribe to read\",\"Bloomberg Tax And Baker McKenzie To Host 8th Annual Washington, D.C. Transfer Pricing Conference\",\"Police: Child, mother strangled to death by man\",\"EFG International sees 3.5 bln Sfr asset outflow in Q1\",\"Democrats Agree on Changes to Make the Primaries More Open\",\"Cameroon Navy - 57 More Warrant Officers\",\"Father Sues Boy Scouts After Son With Down Syndrome Stripped Of Badges\",\"GE: 'Oil & gas offers RE lessons'\",\"Improved Chiefs secondary will have Marcus Peters back in Week 15\",\"Super Bowl LII prop bets include Belichik\\u2019s outfit, the color of the Gatorade\",\"Tech company to deploy 30 self-driving BMWs via Lyft in Las Vega - FOX5 Vegas - KVVU\",\"Running the Pyongyang Marathon in North Korea ticks Kiwi's bucket list\",\"Jon Rothstein On NBA Draft: \\u2018[Many] Guards Who Can Make Major Impact\\u2019\",\"WFP Chad Country Brief, May 2018\",\"Playwright A.R. Gurney, author of almost 50 plays, dies\",\"Roy Keane praises John O\\u00b4Shea\\u00b4s mentality ahead of...\",\"How I was paid to testify in N10.9bn fraud trial of ex-bank chief - Witness\",\"Sustainable Development Goals (SDGs) & UN-Habitat Empower Youth through the Provision of Training Courses on Energy Efficiency & Renewable Energy Technologies\",\"\\u2018Pain or Joy\\u2019: Gassing Plants Reignites Flora Consciousness Debate\",\"$7 for 7 Days: Festa Italiana offers a spring ticket deal to this year\\u2019s fest\",\"Police appeal for help to find wanted man\",\"Swedish golfer breaks first trophy won in US at airport\",\"State Fire Marshal Says: Practice Your Home Escape Plan\",\"Rheumatology leaders respond to Short-Term, Limited-Duration Insurance proposed rule\",\"India, Russia close to finalising chopper producing deal: report\",\"Members of Congress to tour Yucca Mountain nuclear site\",\"Florenzi lowers wage demand, new meeting scheduled\",\"Dow Plunges More Than 500 Points\",\"Star Wars The Last Jedi: Director Rian Johnson says title refers to Luke Skywalker\",\"Search warrants in Prince's death to be unsealed Monday\",\"Dublin traffic LIVE: Pedestrians on M50 cause delays as rush hour descends on the capital\",\"'I didn't have a chance at Chelsea' - Salah delighted with Premier League redemption\",\"Defend Your Portfolio With This Dividend Stock\",\"Liverpool stabbing: Murder probe after boy, 16, stabbed to death in street in late-night attack\",\"Homan beats Carey, Koe edges McEwen in team finals at Olympic Trials\",\"Hurricane Nate - Warning Issued For New Orleans and Surrounding Region\\u2026\",\"Real Madrid transfers: De Gea, Hazard, Mbappe... Which stars are most likely to sign?\",\"Houston Astrodome gets Texas historic landmark designation\",\"California asks for answers about Uber robot car fatal crash\",\"Bridgeport BOE walks back from across the board budget cut\",\"A Yorkshire Tragedy offers a warning from history\",\"Little Mix's Jade Thirlwall filmed getting some help from Body Fixers' Dr Esho\",\"Latest: Police mum on armor-piercing ammo in Vegas shooting - News9.com - Oklahoma City, OK - News, Weather, Video and Sports |\",\"Champions League last-16 draw: Record 5 English clubs await tougher challenge in Europe\",\"Shelter Island Reporter\",\"What Will Replace the Smartphone\",\"Ivanka & Melania Trumps' Body Language Over The Years Has Been, Well, Interesting\",\"Health boss delivers major update on Bundy Hospital upgrade\",\"UAE Cabinet adopts formation of Sheikh Zayed Housing Programme\",\"Trouble Within Davido\\u2019s Gang As Brother And Hypeman, Special ED Fight It Out\",\"Macron leads field of 11 candidates in French election\",\"Madison County investigators work to understand motive behind murder-suicide\",\"The abortion rights debate shouldn\\u2019t be a \\u2018battle\\u2019 at Miami\",\"Elena Ferrante: \\u2018The experience of writing a diary transformed me into a fiction writer\\u2019\",\"Fatal Train Accident In Rugby\",\"Simple Tricks for Successfully Planning Corporate Business Tours for Company Employees\",\"South Korea considers disclosing FX smoothing operation details\",\"Travel Suppliers Eye India\\u2019s USD 45 Billion Outbound Tourism Market at MILT Congress 2018\",\"Photo of \\u2018mock IED\\u2019 confiscated at Toronto Pearson Airport released\",\"I Was 17 The First Time I Thought I Might Have Breast Cancer\",\"Michael Jackson's estate sues Disney, ABC over TV special\",\"The Runner's Guide To Supplements\",\"Canada to impose sanctions on more Venezuelan officials - Reuters\",\"High Point celebrates while pummeling Toccoa Falls, 110-39\",\"New Year's Day Bird Droppings\",\"Kansas lawmakers seeking to revive limits on concealed guns\",\"Court told 'fake' Botox injections by 'bogus' doctor left women's faces swollen 'out of recognition'\",\"Ostersunds FK take to Twitter to troll Arsenal manager Arsene Wenger after drawing Gunners in Europa League\",\"Japan: Female spies suspected in Kim Jong-nam killing likely dead\",\"Decanter August 2018 issue\",\"Biz leaders urge early elections to resolve Nicaragua crisis\",\"Jamaican News News at Caribdaily.com\",\"Adityanath to campaign in Karnataka, SP chief for Congress\",\"Air Canada apologizes for bumping youth off oversold flight: father\",\"South Carolina recruit Ryan Hilinski up in 247Sports rankings\",\"Supreme Court turns down GOP request to stop Pennsylvania congressional map\",\"Sudoku 3725 medium\",\"Vermont to launch electric bus pilot program\",\"Audi recalls 390,000 vehicles; coolant pumps can overheat\",\"Gut bacteria can affect our physiology: Study\",\"Sullivan Truck into Office\",\"Democratic candidates for governor debate in South Carolina\",\"MAPFRE continue Leg Zero dominance\",\"Ampco-Pittsburgh announces suspension of quarterly dividend\",\"Former Salina man, wanted for rape, arrested in Mississippi\",\"How to beat the January blues\",\"Polish PM Tells EU to Stop \\u201cLecturing\\u201d Nation\",\"Transformation Photos Of A Lady Living With HIV In Nigeria\",\"Return of the rhythm method - how natural contraception went digital\",\"Why Vela's LAFC move has him more ready than ever to star for Mexico in Russia\",\"MVP Jose Altuve, Astros finalize $163.5M, 7-year contract\",\"Composer hopes Cuphead Juno nod will change perceptions about video game music\",\"Vegas Nay Eylure Palettes\",\"Chimamanda Ngozi Adichie responds to Comments on her Interview with Hillary Clinton\",\"Loot hurt as gun accidentally went off\",\"Ethics office urges White House to weigh disciplining Conway\",\"Unicef chief condemns killing of Yemeni children\",\"Gloria bakes the cake\",\"Iowa Moves To Restrict Collective Bargaining For Public Sector Workers\",\"Red Deer bowling pair qualify for Nationals\",\"\\u2019Ireland\\u2019s social contract is broken and an alternative is now required\\u2019: Social Justice Ireland\",\"DOJ asks judge to toss lawsuit from Paul Manafort\",\"Candidate Questionnaire: Michael Guest\",\"Jump on the Wagen: Alexi hops on the American bandwagon in honor of the 4th of July\",\"GMP chief constable Ian Hopkins calls for 800 more officers to better serve the public\",\"Most U.S. Gulf oil output offline ahead of Tropical Storm Nate\",\"Democrats reject immigration deal as budget deadline nears - WAFB 9 News Baton Rouge, Louisiana News, Weather, Sports\",\"Paige Patterson Fired by Southwestern, Stripped of Retirement Benefits\",\"In Case You Haven\\u2019t Heard, Ivanti Just Acquired UK-Based Concorde Solutions\",\"Amnesty International: Gina Haspel's Nomination Should Be Withdrawn, Her Role in Torture Investigated\",\"The Latest: Durbin says election to live in 'cyber infamy'\",\"APNewsBreak: Some wanted Florida suspect committed in 2016\",\"Wall Street Profits Just Aren\\u2019t High Enough, Darn It\",\"Where Are the Women? Parity Productions Is Keeping a List\",\"Fundraising effort for East Kilbride man facing health battle after collapsing in America with brain bleed\",\"Past catches up with fun run cheat\",\"Fans got a sneak peek of Evan Peters as Andy Warhol on \\u2018American Horror Story,\\u2019 and the resemblance is uncanny\",\"Trump orders China IP probe as business groups urge caution\",\"Two Soldiers Dead, Six Injured in Military Vehicle Accident in South Carolina\",\"Victor Moses lauds Chelsea fans after Southampton win\",\"Scuffles break out as artworks removed from Catalan city's museum\",\"How to know if a GoFundMe page is legit\",\"Videos Show Desperation of Suspect in Facebook Video Killing\",\"'Gambit' Has Found Another Director - Gore Verbinski In Talks With Fox\",\"2018 Hyundai Sonata: Product & Performance Overview\",\"50% off Bose SoundTrue around-ear headphones II - Deal Alert\",\"NYPD first responders to subway bomber\",\"North West and Penelope Disick are grown up in chic fur\",\"How \\u2018Blade Runner 2049\\u2019 rewrites business history\",\"Judge declares mistrial for undocumented immigrant charged in DUI crash\",\"\\u201cI don\\u2019t use cat or dog food for my toppings.\\u201d\",\"Uber banned in Czech Republic's second biggest city\",\"Wynne and Liberals excel at fake news\",\"Thanos' Big Plan Revealed In Avengers: Infinity War\",\"P.E.I. cruise, fishing industries prepare for potential fallout from whale death report\",\"Joey Chestnut breaks world record, downs 74 hot dogs to win Nathan's Hot Dog Eating Contest\",\"Meghan Markle's father and estranged half-brother REUNITE at Mexico border\",\"Arnott Introduces New Front Air Strut For The 2010-'13 Land Rover Range Rover\",\"30-for-30 producer: Mugsy Bogues faked interest in dental hygiene for transfer on to legendary Dunbar (Md.) squad\",\"3 generations playing for Montana: Henderson family shares passi - KULR8.com | Local News, Weather & Sports | Billings, MT\",\"Snap Stock: What to Make of Analyst Recommendations?\",\"The Indian Premier League Connect For World Champions\",\"Father killed disabled daughter, then took own life in Fairport\",\"Neighborhood lingerie thief undone by full facial CCTV\",\"Rare Footage of Selena Is Discovered After 23 Years\",\"Make no mistake, Trump just cut Ronny Jackson loose (Commentary)\",\"Experience \\u201cA Norcross Night to Remember\\u201d on February 14\",\"KLOG Tuesday Sports\",\"EU urges Hungary to ensure migrant holding camps comply with asylum rules\",\"FM Showcase, Show 598 (4/14/2017)\",\"State of emergency declared over Greek island wildfires\",\"Italian police seize weapons from Spain-bound rental car\",\"2017 schedule for the Gateway Motorsports Park Dragplex\",\"Thunder's Corey Brewer: Minimal usage in Game 4 loss\",\"PS Kasolo warns those planing to protest\",\"Book review: Her Frozen Heart by Lulu Taylor\",\"Texas man plotting mass shooting arrested on weapons charges\",\"Le Concierge: Exploring the meaning of home\",\"Tories manifesto includes tax cuts, spending hikes but no four percent spending cuts, two weeks before vote\",\"Missing in America Project, Mission of Honor work to ensure military burials for veterans' ashes\",\"Family of 17yo Perth victim pay tribute\",\"Football World Cup 2018: \\u2018Websites streaming matches illegally\\u2019\",\"KY woman accused of taking $700 from employer - KFVS12 News & Weather Cape Girardeau, Carbondale, Poplar Bluff\",\"CMS Bobcats Win Southside Conference Golf Tournament\",\"Dutch payments firm Adyen sees revs doubling to $1.5 bln in 2017\",\"Excerpt: Naben Ruthnum explores the taste of home in Curry: Eating, Reading and Race\",\"Nevada Senate Democrats Announce Children\\u2019s Advocacy and Educati - KTVN Channel 2 - Reno Tahoe Sparks News, Weather, Video\",\"Coutinho Not in Liverpool Squad for Champions League Play-off Against Hoffenheim\",\"2 Dallas police officers shot and critically wounded\",\"China's Premier Pledges Further Market Opening As Talk Of Trade War Mounts\",\"Van kills 10 and injures 15 in Toronto; driver in custody\",\"German SPD's Schulz says no time pressure for coalition talks\",\"Explosion in front of church in Alexandria, Egypt, state television reports\",\"Still without motive, frustrated police appeal for public's help in Vegas case\",\"Donald Trump aide says US sanctions on Russia 'may be disproportionate'\",\"Tourism impact continues to increase in Sedalia -\",\"Listen to the new song Lana Del Rey wrote after Coachella\",\"Woman, 117, likely the world\\u2019s oldest person\",\"Armenian politician who forced PM's resignation stakes...\",\"UK inflation rate rises unexpectedly to 3.1 percent\",\"Aadhar-enabled Payments System: Big banks' market-loss fear slows Narendra Modi's AePS push\",\"UWC Dilijan joins One Billion Rising global campaign\",\"'Deadpool 2' stunt driver dies after crash on set\",\"The 30-Year-Old Romanian Entrepreneur Who Is Bringing UAV Technology Into Africa\",\"BRIEF-Russia's O'Key Group posts 138 mln rouble net loss in 2016\",\"Israeli man stabbed in Jerusalem attack dies in hospital\",\"One wounded in missile attack on UAE ship off Yemen coast -SPA\",\"How did Ronnie and Roxy Mitchell actually drown? The EastEnders sisters' deaths explained\",\"Booster club theft at Arlington, Texas high school\",\"Indonesians burn US flags in 4th day of Jerusalem protests\",\"Canadian food deflation is slowing and that should help out the country\\u2019s grocers, says new reports\",\"Kane: I'm in the best form of my career\",\"Football Federation Australia under fire for E-League player's 'Grim_rap_er' username\",\"Youth Violence Prevention Week Kicks Off\",\"Speedway Children\\u2019s Charities Tournament tees off race week events\",\"Ongar mum fights for her son who 'dies in her arms' due to his undiagnosed condition\",\"4 bombs, many questions: What we know about Austin explosions\",\"Judge orders new sentence for \\\"Xbox murders\\\" ringleader\",\"Group seeks help for the destitute\",\"Only 47 Percent of Customers Are Interested in Drone Delivery, Survey Claims\",\"Calista Flockhart, 52, feels older than Harrison Ford, 74\",\"Man hopes to save lives, hikes 222 miles for suicide awareness\",\"This Week in Poker Podcasts\",\"Ferne McCann plans \\\"unconventional\\\" beach wedding to boyfriend Arthur Collins\",\"LocknCharge and Sphero Edu Roll into ISTE 2017\",\"A Valentine\\u2019s Day playlist for lovers and haters\",\"Data Collaboration Key, OEMs Say\",\"Conspiracy 7/3: Fake news and phony outrage\",\"Trade row could make China change economic tack\",\"Rangers buying out contract of veteran defenseman Girardi\",\"Trump: 'I wish' I had not picked Sessions for attorney general\",\"Hull City midfielder Max Clark extends Cambridge United loan deal\",\"Politics spur universities to focus on foreign students\",\"Whiteville City Council approves yearly budget - WECT TV6-WECT.com:News, weather & sports Wilmington, NC\",\"Type 'the1975..com' into your Google app. It's weird\",\"Hoboken streets to close for attendees of wake for loved priest\",\"Man who abused ice cream van worker is an ex-drug dealer who worked for Liverpool crime family\",\"CEOs outraged after Charlottesville - and three quit Trump council\",\"Mickey: Chance of a few showers and storms for the 4th of July - WBRC FOX6 News - Birmingham, AL\",\"Man arrested after Toronto van attack charged with 10 counts of first-degree murder\",\"Josh Hazlewood hunts new-ball wickets\",\"1 hospitalized after being stabbed by a juvenile in southeast valley\",\"Trump criticizes leaks following Flynn ouster\",\"Interest In Wyoming Elk Hunting Continues To Increase\",\"The Weeknd Dissing Bella Hadid On \\u2018Some Way\\u2019 Track? \\u2014 You\\u2019ll Never \\u2018Get Over Me\\u2019\",\"Harmonious Heart Counseling to Start \\\"Buddhism in the 21st Century\\\" Workshop in CO from May'17\",\"Federal Reserve imposes new penalties on Wells Fargo\",\"What's at stake in North Korea?\",\"I'm Not a Pilot Farewell Show\",\"Grieving relatives reveal human toll of Grenfell Tower tragedy\",\"The Physics House Band - Mercury Fountain: Exclusive Stream\",\"Newcastle Offer Striker Aleksandar Mitrovic to Premier League Rivals as West Ham Seek Reinforcements\",\"Halifax weatherman finds scorpion in his bananas\",\"Brexit news - Conservatives and DUP deal stalled after election 2017\",\"\\u2018Sir, go there and tell RSS what is wrong with its ideology,\\u2019 Chidambaram tells Mukherjee\",\"Juneteenth 2017\",\"How fireworks explode, step by step\",\"Popular Pesticides Keep Bumblebees From Laying Eggs\",\"Tesco's UK boss told 'word by word' of hole in accounts, court hears\",\"Man says 3 teens attacked him at Milwaukee's Holler Park\",\"America Needs to Face the Facts about Gun Violence\",\"Get into my car \\u2026 Amazon begins delivery to vehicles\",\"Reserve Bank denies directing banks on KPMG ties\",\"49ers need to set a new tone and find a new architect\",\"Black Starlets coach not happy with team's performance\",\"Serial thief trapped in a \\u201cvicious circle\\u201d of offending is jailed\",\"Dortmund delight as Michy Batshuayi shines on...\",\"UK police probing 6 assault claims against Kevin Spacey\",\"Former Ravens MLB Ray Lewis elected to Pro Football Hall of Fame in first year of eligibility\",\"RC directs schoolgirls found pregnant to be taken to court\",\"Artistic photographer's captures kaleidoscopic burst as multicoloured inks are dropped into fish tank of water\",\"More weeks of sun predicted as UK heatwave continues\",\"Border garda\\u00ed seek automatic weapons amid hard Brexit fears\",\"Tort/Negligence - Medical Malpractice - Expert Witness - Specialty - Practice\",\"Christine Simmons\",\"Chamisa loses legitimacy battle\",\"California regulator proposes regulating Uber like tour...\",\"Eyeballs ruptured in 'ferocious Hells Angels attack'\",\"Russia says its athletes want to compete at the Olympics\",\"'Sorry Mom', writes 14-yr-old Hyd girl in suicide note after school shaming\",\"Zim shines at Unesco Africa Week\",\"Say goodbye to your childhood-AOL Instant Messenger is shutting down for good\",\"Kanye West Signs \\\"Trump\\\" On 'Pablo' Tour Merchandise\",\"Apache Junction public safety workers prepare for an active shooter\",\"'He gets his hands dirty': Matt Comyn's rise to the top of CBA\",\"Finances a Troublesome Subject at Many HBCUs\",\"Final Roy Moore rally before Alabama special Senate election details\",\"This Is Us Super Bowl 2018 Promo Urges Forgiveness for Crock-Pot\",\"Cross Checks Blog\",\"Prince William and Lady Gaga FaceTime to Join Forces for Mental Health Awareness\",\"November 2017\",\"Video: An unlikely source snaps Blackhawks scoring drought versus Predators\",\"Paul Schrader on God, climate change and the film that almost killed him\",\"UPDATE 1-Blackstone to buy EagleClaw Midstream for about $2 bln\",\"The most interesting part of the Nunes memo? Trump's reaction\",\"Schiff says accepted White House invitation to review intelligence\",\"EGA to supply Vedanta with Guinean bauxite\",\"Monday's small-cap stocks to watch\",\"TX Shreveport LA Zone Forecast\",\"Parents of transgender students appeal to Trump on bathrooms\",\"B.C. craft brewers know how to share the love, columnist says\",\"Birds of the same fitternity\",\"New brewery's grand opening is Saturday\",\"The Baseball Report: MLB Attendance Declining, Strikeouts On The Rise\",\"BP says leaking Alaska well now under control\",\"Golden Globe Nominations: Mary J. Blige, Mariah Carey, & More Net Nods\",\"MDA not ad hoc, to complete full term: Hek\",\"Wallenda discusses hanging by her teeth over Niagara Falls\",\"South Korean industrial production increases 3.4 percent\",\"Cosmo's former editor wants you to treat your love life like it's a diet\",\"Judge rejects Trump's request to further delay transgender military enlistment\",\"Aston Merrygold confirmed for Strictly Come Dancing\",\"Ex-contractor says he shut Trump's Twitter account by accident\",\"Severe storms tear through Southeast, leaving trail of destruction\",\"Muslim Council of Britain calls for inquiry into Tory 'Islamophobia'\",\"Schools Found to Have Engaged in Exam Cheating Will Be Shut\",\"How San Diego\\u2019s Hepatitis A Outbreak May Have Had Its Roots In A Baseball Game\",\"Dwayne Johnson Expecting Baby Girl with Lauren Hashian\",\"Two-day strike: Public sector banks shut, staff protest\",\"Arizona Boy Scouts turn Super Bowl weekend into food drive\",\"Milwaukee Polo Club Adds an Approachable Touch to \\u2018The Sport of Kings\\u2019\",\"US said to offer trade relief for help in pressuring China\",\"Just 'two details' to wrap up in Alonso's McLaren deal\",\"Digital Diner\\u2019s \\u201cSection Seated\\u201d Notification Improves Efficiency and Guest Experience\",\"Uber says breach affected 815,000 Canadians\",\"19 High-Paying Part-Time Jobs\",\"Man steals Phuket boss\\u2019s car, goes back to work the next day\",\"Walmart pulls 'Impeach 45' clothing from website after boycott threat\",\"Roseanne Barr dropped by her talent agency & \\u2018Roseanne\\u2019 won\\u2019t be syndicated anymore\",\"Inspirational Hollie Booth leaves everyone in tears during Britain\\u2019s Got Talent audition\",\"WHERE IS AMAZON'S IN-CAR DELIVERY SERVICE AVAILABLE?\",\"Man critically injured in Avon Township crash charged with DUI\",\"A.M. notes: Jazz win on buzzer-beater, London attack victim returns to Utah, Pence talks North Korea\",\"Powerful New Tools For PlantPAx Process Control\",\"Arson Suspected in Vacant Nightclub Fire\",\"Burnaby\\u2019s Beech, other Liberal MPs in B.C. face anti-pipeline pressure\",\"HSBC FX Exec Said 'I Think We Got Away With It,' Jury Hears\",\"St Helens 40-6 Castleford: Saints thrash Tigers\",\"Whitby elementary school teacher faces multiple counts of sexual assault\",\"Vehicle rams into doors of Sector67 in Madison - WKOW 27: Madison, WI Breaking News, Weather and Sports\",\"Multi-state search targets suspect in Facebook video murder\",\"4 facts about Facebook data whistleblower Christopher Wylie\",\"Duke basketball summer update. Freshmen are on campus. Tre Jones, Cam Reddish have injuries\",\"Prothena: What Now?\",\"Perfectly Grilled at Waukesha's Rochester Deli\",\"May 1968, France in revolt\",\"Newcastle United battling Chelsea for Turkish sensation\",\"Adam Johnson\\u2019s former home is reduced in price\",\"Central Indiana woman gets 120 years for killing 2 children\",\"US WWII vet in Japan to return flag to fallen soldier family\",\"APS denies parents \\u2018moment of silence\\u2019 for Aztec High School students\",\"Grow Your Profits with a Livestock Loan from Farm Mortgage Loan\",\"Superstore renewed for season 3\",\"Japan finance minister warns against yen instability on North Korea\",\"Nova Scotia premier to name new cabinet for newly elected majority government\",\"Vialli: 'Dybala should be new Del Piero'\",\"Trump reportedly close to choosing the new most powerful man in banking\",\"City leaders back plea for government to take action against \\u2018highly addictive\\u2019 betting terminals\",\"My parents fell out of love as soon as they fell into it\",\"Business Highlights\",\"Teenage boy missing from Siksika First Nation\",\"Ward Hall Open House\",\"Ten high school students earn KC scholarships\",\"Police Association astounded at Government rejection of firearms controls\",\"Leafs and Raptors tickets are the most expensive real estate in town\",\"Researchers say melting Arctic sea ice may exacerbate California droughts\",\"Hughton looks towards Championship title as he embraces promotion party\",\"Man gets more than 12 years for sex trafficking 2 girls\",\"Heat's Kelly Olynyk: Scores team-high 19 points Friday\",\"Rains pours it on in college\",\"Woman takes on NASA to keep moon dust she says Neil Armstrong gave her\",\"Motor racing-Sarajevo interested in hosting Formula E race\",\"OECD warns against \\u2018escalation\\u2019 in trade tensions\",\"Cancer Focus Fundraiser Barbara Long takes part in our My Makeup Challenge\",\"\\u2018Hollywood Game Night\\u2019 Renewed for Season 6\",\"Reach one, teach all\",\"What Obamacare could be replaced with under Trump\",\"New York teen chokes mom\\u2019s ex-boyfriend to death after seeing him beat her: police\",\"Santa Ynez Halloween Street Faire a Treat\",\"Chiellini misses Italy games, doubtful for Juve-Real quarter\",\"Gordon Strachan says his Scotland stars didn't celebrate Slovakia win as they know the work is only half done\",\"Breaking: Explosion at Port Authority\",\"Man Charged With Hate Crime For Teaching Pug Nazi Salute\",\"Fired Walmart employee returns to retrieve heroin he left behind\",\"Mike McAvoy '02, CEO of The Onion, Speaks at First Friday\",\"Rise and Fall asks the question: Can Civilization VI become something it's not?\",\"CV residents again urge district to consider options to taking over McCormick Farm\",\"Report: President Trump Is Under Investigation For Potential Obstruction Of Justice\",\"Birth to Age Eight J\\u2026\",\"Samsung builds up Galaxy Note 8 announcement with trailer\",\"GoDaddy pulls neo-Nazi website Daily Stormer after offensive article about Charlottesville victim\",\"Pitbull does not like sweater\",\"Manchester United target \\u00a350 Borussia Dortmund striker - reports\",\"2 soldiers killed, 6 hurt in SC when hit by military vehicle\",\"Pakistan police arrest 22 in 'blasphemy' mob killing\",\"Real-life Iron Man flies through the skies with jet engines strapped to his boots\",\"Board works to balance school costs\",\"The Peyton Manning you didn't know: From pranks to deejaying\",\"Officials: Delaware man injured in Istanbul nightclub attack\",\"The best responses to Roseanne Barr's absurd ambien excuse\",\"FTSE 250 surges to new highs\",\"\\u2018The Immortal Life Of Henrietta Lacks\\u2019 Starring Oprah, Sets Premiere\",\"Ex-official: Chances missed to save boy encased in...\",\"Why BoG Revoked Licenses Of UT/Capital Bank\",\"IOC most profitable PSU for 2nd year in a row; displaces ONGC\",\"Equifax, TransUnion, Experian have spent decades avoiding transparency, regulation\",\"Barron\\u2019s 10 Favorite Stocks for 2018\",\"John Oliver spoofs Pence picture book about bunny\",\"Tributes after death of ex-miner who tried to stop neo-Nazi attacking MP Jo Cox\",\"JEE Main 2017: Answer Key And OMR Sheets Will Be Released Shortly, Check At Jeemain.nic.in\",\"Final push for Moore and Jones in Alabama Senate race\",\"Nurse fractured skull of Eva Amurri's baby\",\"The Doc Says...\\\"WrestleMania Hot Takes, Cena Odd Man Out, Wyatt-Orton Potential\\\"\",\"The fashions that got our attention this week\",\"Italian Suspect Accused Of Targeting People Of Color Wounds 6 In Drive-By Shooting\",\"11 Sunshine Coast jobs you can apply for now\",\"Redskins sign CB Orlando Scandrick\",\"Australian lawmaker quits over Chinese political links\",\"New Zealand Environment: Dairy Bosses\\u2019 climate change plan is \\u201call talk and no trousers\\u201d - Greenpeace\",\"How to avert the apocalypse? Take lessons from Costa Rica\",\"Garrett Hedlund Gushes Over Mary J. Blige's 2018 Globe Nomination: \\\"She Did a Wonderful Job\\\"\",\"10 Approaches to Boost Self Esteem\",\"Anthony Davis claims Pelicans' scoring record in win over Thunder: final stats\",\"Missing Bonney Lake teen likely sex-trafficking victim, police say\",\"Cavs guard George Hill (back spasms) questionable for Game 5\",\"Schlage Locks and Google Home Team Up On Smart Home Security\",\"Dallas Challenger: Leander Paes to meet Jeevan Nedunchezhiyan in men's doubles title clash\",\"Judge denies Meek Mill request for other judge's removal - wave3.com-Louisville News, Weather & Sports\",\"Brother of murdered Colombia footballer reveals fears for squad after England World Cup defeat\",\"Alex Ovechkin helps Capitals beat Golden Knights in Game 2 of Stanley Cup Final\",\"Mississippi Abortion Law - 15-Week Abortion Ban\",\"Sitting 26-Feet-High Atop A Horse, Gen. Lee Becomes A Lightning Rod For Discontent\",\"Indonesia vaccinates millions to halt deadly diphtheria outbreak\",\"Texas rolls over Arizona State and into Sweet 16 85-65\",\"Dead Fibres\\u2019 newest EP was recorded in just two days\",\"Zimbabwe grind down Ireland to close on World Cup place\",\"Officer\\u2019s identification of David Black suspect questioned\",\"Lions pick up CFL all-star in Odell Willis\",\"From Sofas To Meatballs: Ikea May Be The Next Player In The Restaurant Business\",\"Border garda\\u00ed seek return of machine guns ahead of possible hard Brexit\",\"Korea's auto exports rise for two straight months in March\",\"Movie Reviews + Features\",\"Ridley Scott\\u2019s 1984 Apple commercial to David Fincher\\u2019s Heineken spot: Super Bowl ads by big names\",\"Amateur Photographer 2 June 2018\",\"BBB: Gift cards and new buying trends\",\"Mozambique: Government Cuts Privileges to Top Officials\",\"Hawaii volcano eruption: Horrifying footage shows LAVA FOUNTAINS shooting into the sky\",\"Pepsi partners with Google's WebVR to go back in time to past ads\",\"Tech stocks wobble in U.S.; some investors worry party is ending\",\"Arkady Babchenko: Ukraine condemned for faking journalist's murder\",\"The Latest: Disturbing video shows woman fall from SUV\",\"Woods after playing Shinnecock: Changes 'quite significant'\",\"How bus services in Bristol are running on Monday after snow\",\"Chiranjeevi praises son Ram Charan's movie Rangasthalam\",\"Bilawal hints at coalition govt at Centre\",\"What time does Leicester City v Swansea kick-off? Is it on TV?\",\"Cool and breezy Wednesday with near record temperatures this weekend\",\"Your Partner Could Be Ruining Your Diet\",\"Fears remain after evacuation lifted for 200K Californians\",\"More children are dying from flu\",\"Navy SEAL Is DONE With McCain\\u2019s DISRESPECT, Completely Levels Him On LIVE T.V.\",\"What should you do in a tower block fire? Fire Brigade advice is 'stay in'\",\"Powers proposed to protect staff and suppliers of...\",\"MPP demands Wettlaufer answers\",\"U.S. military dumped bombs, ammo off South Carolina coast\",\"Osteria Francescana reclaims 'world's best restaurant' title\",\"Nate Now A Category 1 Hurricane\",\"BRIEF-Kingold Jewelry Q4 earnings per share $0.63\",\"Gobabis agri-stakeholders meet today, Agribank responds\",\"Are Dolce & Gabbana designers Melania Trump\\u2019s biggest fashion allies?\",\"Police crackdown on uninsured drivers\",\"Rugby - Wallabies flyhalf Foley suffers concussion setback\",\"NYPD Declares Subway Pipe Bombing To Be A \\u2018Terror-Related\\u2019 Incident\",\"Babcock wants more from the Maple Leafs\",\"China's Xi Strikes Nationalistic Tone in Parliament Address\",\"Title IX lawsuit settlement approved - KWES NewsWest 9 / Midland, Odessa, Big Spring, TX: newswest9.com |\",\"Plans For New Apartments Come To Garfield Township Planning Comm - Northern Michigan's News Leader\",\"BRIEF-France's Vivendi to pay $26.4 million to settle U.S. class action lawsuit\",\"Buenaventura says gold must climb higher to unleash new projects\",\"Trump conducts more Supreme Court interviews, hears concerns\",\"Chris Stapleton Remains Defiant in the Face of Fear After Vegas\",\"Golf: Spieth needs some 'crazy stuff' to rekindle slam hopes\",\"Stanley Cup Final 2018: Twitter reacts to Braden Holtby's 'save of the century'\",\"Upcoming \\u2018Carpool Karaoke\\u2019 Series Looks Epic\",\"Chael Sonnen Trolls Tito Ortiz With Hilarious Offers of Help\",\"Court: Iowa State University wrong to block pot T-shirt\",\"Those hoping for a stronger dollar on a Fed hike could be very disappointed\",\"Trump warns North Korea: 'Gotta behave'\",\"Wiz Khalifa Releases Video For \\\"Something New\\\" Featuring Ty Dolla $ign\",\"Las Vegas Businesses Donate, Volunteer to Help City Heal\",\"Why Is Poland Protesting? A Supreme Court \\\"Purge\\\" Has Citizens Up In Arms\",\"Syracuse TV stations pulled from Verizon FiOS in contract dispute\",\"Politics: Trump delivered the slowest State of the Union on record\",\"Teen dies two days after being sent to boot camp for internet addiction\",\"Union and QPS School Board come to agreement - WGEM.com: Quincy News, Weather, Sports, and Radio\",\"Crown opens case against two women accused in violent robbery, kidnapping\",\"Simultaneous polls against federalism: Sitaram Yechury to Law Commission\",\"Teacher shortages force school to drop subjects with pupils left to travel for classes\",\"SBC asks senior members to take charge of SHCBA\",\"30 MLC CANDIDATE LIST- The New Indian Express\",\"Ranji Trophy 2017: Prashant Chopra\\u2019s 271 powers Himachal Pradesh to 459/2 against Punjab on Day 1\",\"Reno student suspended after call to Nevada congressman\",\"Nation Comes First\",\"The moment Milton Keynes bar ERUPTS as England reach World Cup quarter finals\",\"Cambridge Analytica fights back on data scandal - WAFB 9 News Baton Rouge, Louisiana News, Weather, Sports\",\"Your next smartphone will get a bug's-eye view of the world\",\"15 Big Changes Since the S&P 500 Market Cap Doubled to $20 Trillion\",\"Fact-finding major goal for Canada at between-round NAFTA talks this week\",\"Adams slumps to heavy home defeat on Granada bow\",\"Sentencing hearing scheduled for Winnipeg man convicted of sending letter bombs\",\"Secret 'Siesta Key' Hookup: Should Amanda Have Come Clean About Alex?\",\"Top five worst superstitions about the eclipse\",\"Husky howls in hilarious back-and-forth with his owner\",\"Charlie Sheen drops lawsuit over tabloid\\u2019s allegation that he raped Corey Haim in \\u201980s\",\"West Ham's Adrian excited by new signing Mario's immediate impact\",\"\\u2018Sex in the City\\u2019 star Cynthia Nixon running for governor\",\"As an actor, it is my duty to innovate: Hichki actor Rani Mukerji\",\"Oracle Unveils Cloud-Native, Smart Security Management Suite\",\"Friday Kickoff: Andres Iniesta signs 'lifetime' deal with Barca, Neymar pushing for Alexis Sanchez and more\",\"Here's what Kate Hudson eats to stay in shape\",\"Turn Your Intellectual Property To Bankable Assets \\u2013 Akinwunmi\",\"Winnebago Supervisors To Discuss Drainage District 103\",\"Hostages held, 9 killed in attack at Somalia restaurant\",\"First on CNN: Rand Paul, Mark Sanford unveil Obamacare bill\",\"OLG resolution fails\",\"Nissan's Infiniti books 18 percent rise in first-quarter sales volume\",\"Woman Shaves Legs In Hotel Pool, Video Goes Viral\",\"Park storms to 5-shot win in Founders Cup\",\"Schools Will Soon Have To Put In Writing If They 'Lunch Shame'\",\"Councilor calls for commission to solve Indy\\u2019s potholes, senator asks where\\u2019s the mayor?\",\"What the Slinky Dog Dash coaster in Disney World is like at night\",\"Yerevan-Zvartnots Airport trial route to be launched\",\"South Africa/Egypt: Senong Makes One Change to Face Egypt\",\"Mariah Carey Says New Year Show Sabotaged\",\"China rejects North Korean coal shipment -Yonhap\",\"Tips on How to Pick Winter Coats for Women\",\"Unfortunate typo on sausage packet has supermarket customers swearing off meat\",\"Alabama senate race reaches final day of campaigning with mixed predictions\",\"Jesinta Franklin enjoys 'cheat day' with glass of bubbly\",\"Edinburgh festival shows examine mental health - with sticky tape and silliness\",\"Angello\\u2019s Pair Helps No. 12/15 Men\\u2019s Hockey Stave Off Brown\\u2019s Comeback Bid\",\"Dan Lawson Place\",\"Fresh News Does Not Remove Article Pertaining Information \\u201cPM Hun Sen States Chun Chanbuth Used to Be a Spy and Requested Gov\\u2019t to Protect from Murder\\u201d and Related Articles\",\"Gal Gadot tries Reese\\u2019s Peanut Butter Cups for the first time on Fallon: Watch\",\"Presidential council execs slow to speak out after Charlottesville\",\"Sterling jumps after UK services data\",\"Penis Whitening in Thailand Dismissed as Risky Phallic 'Fashion'\",\"Baby in serious condition after found unconscious\",\"Travellers pitch up near Cherry Hinton with horses and dogs\",\"2 pit bulls injured toddler\",\"Police: 4 injured after east Las Vegas Valley crash; 2 critical - FOX5 Vegas - KVVU\",\"Mercedes is launching an insane way to win a car\",\"Steer escapes slaughterhouse and ends up in Spring neighborhood\",\"Dundee school pupils return to class two weeks early as part of new wellbeing scheme\",\"Baby revived twice after fentanyl exposure\",\"Richard Hammond's Injury Will Affect 'The Grand Tour', Says Clarkson\",\"Objections overruled as yet more homes are recommended for Derbyshire village\",\"\\u2018World Of Dance\\u2019 Star Derek Hough, Girlfriend Hayley Erbert Still Going Strong, Head Off On Camping Getaway\",\"Uber driver returns woman\\u2019s purse after officer sends him text and selfie\",\"Nunes hints more memos to come\",\"Germany already preparing refugee return agreements - spokeswoman\",\"Quick Takes: Sessions May Have Earned Himself a Ticket to a Grand Jury\",\"CLARK: The good, the bad and the ugly, Part II\",\"EU roaming changes are in effect, surcharges eliminated\",\"Next meeting of special working group on Caspian legal status will be held in Turkmenistan\",\"B.C. man charged with two counts of animal cruelty after 46 dogs seized\",\"Health officials looking for dog that bit person in Williamsburg\",\"Ravens Williams Fends Off Potentially Dangerous Eye Disease\",\"All or Nothing? Big Pay Package and Big Goals for Tesla's Elon Musk\",\"Trump Nominee for Ambassador to Singapore Withdraws\",\"Keen Ice Has Been Donegal's Ideal Racehorse\",\"NZ Claims Barnaby Joyce As Labor Questions Majority Government\",\"Google reportedly working on guidelines for military AI\",\"How Vince McMahon turned Jinder Mahal into a star: News of the Week\",\"DGCA gave it clean chit in February 2017, says Air Asia\",\"White, Keough, Rochette tied for series lead US Cup-CX heads to Baltimore\",\"Marlins' Lewis Brinson: Lands on DL with hip issue\",\"Nationals' Shawn Kelley: Likely headed for DL\",\"London firefighters search for more building inferno victims\",\"Australian tourists escape bus fire on way to Gallipoli Anzac service\",\"Charlottesville Violence Highlights Cities' Struggle To Balance Rights And Safety\",\"Institutional Investor hedge fund rich list for 2017\",\"Bermudan News News at Caribdaily.com\",\"Baby formula recalled worldwide over salmonella scare\",\"Future Announces New Album, Summer Tour Dates\",\"Consequence of Sound\",\"No Two Snowflakes Are Alike\",\"UW assistant Bush Hamdan reportedly leaving for job with NFL\\u2019s Atlanta\",\"Macron says migrant centres will only work if African nations take lead as EU immigration crisis deepens\",\"Theresa May announces early elections in Britain on June 8th\",\"Dillon Christian Football Preview 2017\",\"Vietnam War vet gets medals for Army service 40 years later\",\"Mil-8/17 Helicopter\",\"The false myth of work causing deafness\",\"A bouncer refused to take a roadside breath test unless the police officer said 'please'\",\"Haines City Man Charged with Sexual Battery and Kidnapping\",\"Dew Tour schedule, tickets, parking and music info\",\"Stock Exchange suspends UT Bank\",\"AT&T : merger judge says 'no big issues' in trial preparations\",\"Indian IT Outsourcers Anxious Over Potential Changes To H1-B Visas\",\"Scottish Government to publish its first medium-term financial plan\",\"Leicester City 1-1 Swansea City: Federico Fernandez header secures precious draw for Swans\",\"George Bowie brings his GBX Experience party night to Ayr\",\"Ecuador's Court Rules Against Full Recount of Votes in Presidential Election\",\"Old Manitoba Grain Elevator Get New Paint Job\",\"Galaxy's Jonathan dos Santos joins brother on...\",\"7 Ways To Maintain That Sexual Spark In A Long-Term Relationship\",\"Wife of slain DPD officer to killer: 'I no longer have my soulmate'\",\"False starts interrupt Monday's Browns practice session\",\"Waffle House shooting hero crowdfunds thousands for victims' families\",\"Election signs defaced by swastikas in North Vancouver\",\"PledgeMusic exposed accounts by letting anyone log in without a password\",\"Ready or not, Pitt's defense takes youthful approach\",\"Immigrant lockup to open on site of destroyed Texas prison\",\"Future uncertain for Elizabethton Twins\",\"PSG sweat over Neymar injury ahead of Real Madrid clash\",\"Beyond Belief: Social Media and the Church\",\"Age of unconventional stars: Vicky Kaushal, Rajkummar Rao grace glam mag covers. See pics\",\"Calgary air quality risk moves from moderate to low on Monday\",\"Chloe Ball-Hopkins launches disability-friendly collaboration with Asos\",\"Rose Valley scam: TMC MP Tapas Pal claims Union min Babul Supriyo involved\",\"Teacher\\u2019s assistant arrested for raping underage student\",\"Show Info. - 4/18/17\",\"Japan whale hunt killed 122 pregnant minkes\",\"TFW2005?s Transformers Legends Mindwipe Gallery Now Online\",\"ISIS: Russian forces prepare to end ISIS reign of terror in Palmyra\",\"25 Years Since the War in Abkhazia\",\"Holly Willoughby is sun-kissed in off-the-shoulder kaftan in Barbados\",\"How 4 teens from Southern California are helping kids with problems from homelessness to bullying\",\"Dozens of car break-ins reported in Fort Mill SC area\",\"Braves 3B Garcia to miss two months\",\"$20,000 Grant will Provide Sacramento Residents with Financial Counseling\",\"Vandalized billboard sign read 'Kill the NRA'\",\"Choosing A Project Management Tool For Game Development\",\"China forecast to reach 1B 4G users by end-2017 - Mobile World Live\",\"Prominent Australian opposition lawmaker Dastyari quits over claims of China links\",\"Watchdog warns workers \\u2018leave it too late\\u2019 to check pension terms\",\"10 IT management certifications for IT leaders\",\"Ronny Jackson's VA Nomination Hearing In Jeopardy Amid 'Serious Allegations'\",\"Katy Perry, Ed Sheeran, Shawn Mendes and More Singers Set to Perform at 2017 iHeartRadio Music Awards\",\"Automakers seek relief on states' self-driving car laws\",\"Michael Moore Threatens Trump and Roseanne Barr With New Documentary\",\"\\u00c1KK buys back HUF 5.75 bln of bonds early at reverse auction\",\"As India Clears Path For Its Local Defense Industry, These Are Startups Who Could Benefit\",\"No. 19 crew chief receives $10,000 fine for loose lug nut at Pocono\",\"Ian McMillan: That\\u2019s 2017 sorted\",\"B.C. wildfires provided valuable experience for Central Alberta firefighters\",\"Andre Iguodala out for Golden State in Game 1 of NBA Finals\",\"8 sailors saved by Guinness, a true St. Patrick's Day tale\",\"The US May End Up At War With North Korea\",\"MICHAEL AMACKER\",\"Johor stage fightback to salvage draw against Selangor\",\"FIFA claim average of 98 per cent stadium occupancy during World Cup group stage\",\"Turkish Police Seize Rare and Most Expensive Radioactive Metal Worth $72 Million\",\"U.S. Lost 33,000 Jobs in September; Unemployment Rate Dips to 4.2%\",\"Columbia Heights explores options for new city hall location\",\"France\\u2019s Macron seen winning French presidential vote - poll\",\"BV Social Planning Society looks to repair relationship between community and marginalized people\",\"ASU-Led Team Invited to SpaceX\\u2019s Hyperloop Pod Competition II\",\"Watch a Yankees fan have his heart broken in real time\",\"World Cup: Diego Maradona raged after Colombia lost to England\",\"Centene's (CNC) CEO Michael Neidorff on Q1 2018 Results - Earnings Call Transcript\",\"House votes to hike fine for driving with wrong license\",\"TOPS (Take Off Pounds Sensibly)\",\"Anti-Semitic letter by Wagner sold at auction in Jerusalem\",\"Public invited to meetings to discuss Lake Powell Pipeline\",\"U.S. government calls for teens' climate change lawsuit to be halted\",\"The Latest: Malaysia arrests former Prime Minister Najib\",\"Five Zero Trees\",\"Expect a windy, colder Tuesday with snow showers\",\"Leroy R. Blauvelt (1936-2018)\",\"Darden Restaurants To Host Fiscal 2018 Fourth Quarter Conference Call On June 21\",\"US, South Korea, Japan discuss denuclearization, summits\",\"Usain Bolt begins training with Norwegian side Stromsgodset as Olympic champion continues to pursue football career\",\"\\u201cFake News\\u201d And How The Washington Post Rewrote Its Story On Russian Hacking Of The Pow\\u2026\",\"'Stranger Danger' campaign pushed by Champaign County sheriff\",\"Forensic accountants express support for Financial Intelligence Bill\",\"Igbo group issues ultimatum to Fulani herdsmen in Enugu\",\"The Star Wars: The Last Jedi Premiere Was Full of Fans, Porgs, and a Moving Tribute to Carrie Fisher\",\"Researchers say increase in B.C. kids on ADHD drugs 'concerning'\",\"Pumpkin spice: Love it or hate it, 6 things to know\",\"Far-left surge gives lead to Norway opposition: TV2 poll\",\"Retired Pittsburgh firefighter guilty in fatal hit-and-run\",\"Toyota, Intel, Denso Form Group to Boost Network Capacity for Big Data in Connected Cars\",\"Random S\\u00f3nar Generator: Final Acts Announced For S\\u00f3nar Reykjav\\u00edk 2017\",\"Raytheon names former U.S. deputy defense secretary to board\",\"30,000 calories, 1450km, 57 hours -- meet the cyclist riding non-stop across Cuba\",\"USD/CHF: from 4-month highs to daily lows amid risk aversion\",\"Bitcoin price swells on first traditional trading day in U.S.\",\"North Korea's Kim to Trump: It's your move\",\"Man found slain while renovating home in coastal Georgia\",\"Onslow Co. debuts asthma education kits to raise awareness about possible triggers\",\"Firefighters brace for second week of California wildfires\",\"Only Igbo presidency in 2019 will stop Biafran agitation - Ohaneze youths\",\"Minnesota Newspaper Week - August 13-19\",\"Uruguay's immoveable defence ready for France's unstoppable Mbappe\",\"Dane Anderson in \\\"Stretto\\\"\",\"World Cup quarterfinal round preview: Who will advance to the semifinal?\",\"Why Russia, Assad, and Iran combined don\\u2019t stand a chance against just 2,000 US troops in Syria\",\"Tanzania starts construction of railway line link to Uganda\",\"Ryan Donato shines in impressive debut with Boston Bruins (video)\",\"Why Everyone Needs to be Aware of Cross-Site Scripting (XSS) Attacks\",\"Celebrities to undergo gruelling training in SAS: Who Dares Wins special\",\"Those Affected By Trump's Travel Ban Hope For End To 'Chaos' After Supreme Court Case\",\"'Grey's Anatomy' season 14 cast news, air date news: Matthew Morrison's Dr. Paul Stadler returns; Marika Domincyzk not coming back\",\"Radical surgery to remove the bladder isn\\u2019t the norm\",\"Where They Drink: Mike Regal\",\"Carmelo Anthony is shooting 25 percent on open three-pointers in playoffs\",\"Trulia Launches 'The House Is Only Half of It' TV Campaign\",\"A beautiful Thursday, then showers possible for Friday and the weekend\",\"Western Pleasure Super Sires to Accept Late Entries for the 4/5 YO Non Pro Trail\",\"List of nominees for 75th Golden Globe Awards\",\"Complaints about parking charges more than doubled in the last year\",\"Florida Driver Alerts Woman to Flaming SUV, Moments Before It Is - CBS News 8 - San Diego, CA News Station - KFMB Channel 8\",\"Affidavit: Doctor prescribed meds for Prince in another name\",\"Buckle Up, Boston: Testing Of Self-Driving Cars Begins Tuesday\",\"Winter wallop wreaks havoc on snow covered Britain - travel delays\",\"Russia's Lavrov, China's Wang Yi discuss Putin's June China visit\",\"Wall Street opens higher as North Korea tension eases\",\"Your Health: What's going around? Hand, foot and mouth disease\",\"Essence Fest gears up for No. 24\",\"The Manischewitz Company Urges Adam Sandler to Write A Passover Song\",\"Wirksworth children\\u2019s author enjoys a brush with the BBC Eggheads\",\"When the world's glaciers shrunk, New Zealand's grew bigger\",\"Opportunities in Technological Advancements in Mosquito Control\",\"Newcastle Jets likely lose star striker Roy O\\u2019Donovan for rest of regular A-League season to injury\",\"Bullet strikes NM land commissioner's truck\",\"Rodgers-led Packers beat Lions 31-24 to win NFC North\",\"Colorado Classic: Howes Comes Oh So Close to Title\",\"Hostile homecoming for ex-rebel seeking Colombia presidency\",\"Tornadoes triumph over Waterford, 52-50\",\"Hopes to bring back Beverley to York railway face setback\",\"Stoney Ladies put eight past Staggies in penultimate game\",\"Truck-driving cops seek distracted motorists\",\"Bruins Round Table: Which Rookie Had the Best Debut?\",\"Daryl Powell tells Castleford players to hold their nerve in Grand Final\",\"Smart Transaction Systems Launches New Gift Card API for Android and Java Developers\",\"Lady Smarts: Simone Biles just shut down her body shamers with a single Tweet\",\"German court sets three month deadline for Metro breakup decision\",\"Truth behind \\u2018alien\\u2019 mummies\",\"Opinion: Nigerian journalism is collapsing. Here is how\",\"Nigeria: Economic Titan Of The Late 21st Century (And Today's Classic 'Mean Reversion' Trade)\",\"Ocean plastic: clean it up, but avoid the mistakes of global climate policy\",\"Nokia to re-launch the 3310\",\"Success in recognizing ddigits and monosyllables with high accurary from brain activity measurement\",\"Many Jobs Available At Thursday Job Fair\",\"Rays' Chris Archer: Could rejoin rotation Monday\",\"Life After Death:\",\"Hezbollah holds mass rally in support of Palestinians\",\"Belgium examines how radicalised inmate got out to murder in Liege\",\"See all the Round 11 ins and outs and get expert SuperCoach advice\",\"Malaysia's ex-PM Pleads Not Guilty to Graft Charges\",\"N. Korea's leader hints of long-range missile test launch\",\"Ravens' Smith, Redskins' Breeland fined $18,231 for hits\",\"Watch Neill Blomkamp\\u2019s Far Out New Sci-Fi Short About Alien Invasion Here [Video]\",\"\\u2018What we know about \\u2018arrested\\u2019 Borno council chair\\u2019\",\"Reel Dad: Darkest Hour celebrates Winston Churchill\",\"Ellen DeGeneres Buys New Montecito House Right Next to Oprah\",\"Transgender Candidate Danica Roem Wins Democratic Primary; To Challenge Bob Marshall\",\"Homes saved from grass fire south of Saskatoon\",\"Boulder entrepreneur launches national ranking system for \\\"sustainable\\\" eateries\",\"LEGAL NOTICE\",\"Colorful Heels for spring: 16 Pairs to Buy Now\",\"VIDEO: Man Tasered during dramatic arrest Monday\",\"Queensland on track for largest flu outbreak ever, health experts warn\",\"AG: Too soon to say if more charges coming against Najib\",\"Blackhawks aim to get around blocked shots in Game 3\",\"LeBron James leads Cleveland Cavaliers to victory\",\"Lee Burge comes through unscathed as Coventry City Under-23s beat Bolton Wanderers\",\"Amanda Holden slammed by trolls for innocently telling Manchester Bombing victim she was 'blown away' by her performance\",\"Is there a connection between cosmic rays, earthquakes and volcanic eruptions?\",\"Montana authorities identify 9-year-old killed in crash\",\"Satanic Temple says Twitter discriminated against it\",\"Oldest lizard fossil fills evolutionary 'missing link'\",\"High hopes as always in first spring training workouts\",\"How to avoid paying Apple for extra iCloud storage\",\"Herdsman arraigned in Ekiti over alleged destruction of N4 million cassava farm\",\"Bomb squad expert loses eye, hand in explosion\",\"Make a Difference as A Hospice Volunteer\",\"Alberta beef and pork producers hope new deal with China will pay big dividends\",\"NASA to Unveil Exoplanet Discovery Thursday\",\"Novak Djokovic destroys Tennys Sandgren to announce himself at Wimbledon\",\"Field Service Representative at Schneider Electric\",\"Chris Neil won't be back with Senators, seeks contract elsewhere\",\"Dominica wins gold at Carifta games\",\"Non-Fiction: Desperately Seeking Self-Improvement: A Year Inside the Optimization Movement by Carl Cederstr\\u00f6m and Andr\\u00e9 Spicer\",\"Hadiza Abubakar: Portrait Of Selflessness\",\"Snow, ice, thunder, lightning all part of March (and April and sometimes May) madness\",\"[WATCH] Lorde Cover The 1975\\u2019s \\u2018Somebody Else\\u2019 In Paris\",\"Bordeaux, Aquitaine, 33000, France\",\"Las Vegas Shooting: How You Can Help\",\"Chinese pet food company to bring 70 jobs to Arkansas\",\"Who are white nationalists and what do they want?\",\"Carbon feedback from forest soils will accelerate global warming, study finds\",\"Company from N.Y. buys Little Rock store for $1.25M\",\"Robbery and Kidnapping Fugitive Arrested In Grant County\",\"Report: A's to promote Chapman on Thursday\",\"Big Switch Networks Extends Support for vSphere Integrated Containers with SDN-based Big Cloud Fabric\",\"Joakim Noah bracing himself for grim, \\u2018rookie\\u2019 reality\",\"At Least 18 Dead After Gunmen Seize A Cafe For Hours In Burkina Faso\",\"1 killed, 1 injured in Corona 3-car crash\",\"Steve Bannon: 'Let them call you racist...Wear it as a badge of honor'\",\"Road Warrior Animal Says The Ascension Needs To Quit Ripping Off The Road Warriors\",\"Manus March for Reservation\",\"Jack and the Beanstalk? No, Brenda and the blooming giant tree\",\"Big savings boost\",\"These are the 11 highest-paying jobs at Amazon, according to Glassdoor\",\"GLOBAL MARKETS-Geopolitics from France to Korea keep investors cautious\",\"Release of child rapists in Tanzania condemned\",\"Cake case is about gay intolerance - but isn't the same as racial intolerance\",\"Guest column: People have a right to know what fire chiefs are planning for Bassetlaw\",\"College Football Bowl Preview - Monday January 2nd\",\"Official: Engineer left voicemail about cracks 2 days before bridge fell at FIU\",\"Foreign Minister condoles over the Fire at Grenfell Tower, London\",\"Long Beach Cambodian-American Community Commemorates 42nd Anniversary of the Killing Fields on Future Site of Memorial Garden\",\"Bill to require special prosecutor for officer shootings finally gets hearing in Mo. legislature\",\"EDITORIAL: Phoenix pay debacle highlights need for change\",\"Foot surgery to sideline Ottawa Senators\\u2019 Erik Karlsson for four months - right up to the start of next season\",\"Nagpur Soybean, Soyoil, Soymeal Open- February 02, 2018\",\"Donald Trump brands claims he watches hours of TV each day as \\u2019false story\\u2019\",\"Manslaughter convict facing new charges, released on HIP - wave3.com-Louisville News, Weather & Sports\",\"Trump aides predict \\u2018brutal\\u2019, \\u2018very tough\\u2019 September\",\"Course and curriculum design: award winner and runners up\",\"Use these three Dish Network promo codes to score free TV mounting and accessories\",\"What will Frank Gehry come up with for a new, greener LA River? LA County hired him to find out\",\"Is There A March for Our Lives In Phoenix? Here's Everything Arizona Residents Need To Know\",\"House readies impeachment articles vs Sereno\",\"Meet the 2017 All-Tribune softball team\",\"Puerto Rico\\u2019s new governor promises immediate push for statehood\",\"Professor accused of assaulting disabled man pleads guilty\",\"Sonic will be Releasing a Pickle Flavored Slushie!\",\"$10 \\u2018Hamilton\\u2019 Lottery Tickets Coming To OC\",\"Minister holds open Kutchery\",\"Providence highlights program getting ex-offenders into jobs\",\"Harley-Davidson backs forecast, investors see signs of recovery\",\"Consumers confused: Study says reform best-before labels to reduce food waste\",\"Eric Bristow: Funeral held for former darts world champion\",\"Slidell to get huge drainage pond\",\"More than 100 phony replica Super Bowl rings found\",\"Ireland's Josh van der Flier ready for 'intimidating' French test\",\"Toilet: Ek Prem Katha Box Office Collection Day 3 - Akshay Kumar's Film Is Past 51 Crore After 'Awesome' Weekend\",\"Former Letterkenny student competes in Caesars Palace\",\"Holiday Inn Express Villa Rica opens\",\"Gujarat elections, Fed meet, Parliament session to keep markets on edge\",\"UK's Zeetta Eyes GB pound 125M in TIP Funding\",\"Man charged with assaulting 12-year-old at uptown park\",\"Wake up to wildlife: Asia's best luxury tented camps\",\"Shinnecock Hills Hole By Hole Guide: Hole 3\",\"Florida formally asks feds for $19 million in election security money\",\"Italy's Palladio agrees new deal to buy Slovenia's Cimos -report\",\"New Epsilon - UGR19 compliant LED Luminaire from Luceco\",\"Two Suspects in Washington School Shooting Released\",\"Melania Trump tweets message on Charlottesville violence hours after Donald Trump\",\"The English are doing too well in sport! - Ricciardo aims to pip Hamilton\",\"Lake Cormorant park gets new overlook - WMC Action News 5 - Memphis, Tennessee\",\"Smart-Money Club Has Kicked Out the Optimists\",\"Preschooler dies days after alleged beating from babysitter, family says\",\"Health workers march to demand an end to NHS \\u2018crisis\\u2019\",\"Where Donald Trump and Benjamin Netanyahu stand on the key issues\",\"Nigeria: SARS Operatives Arrest Dino Melaye\",\"66 Jefferson Elementary Students Make the Leap to Middle School\",\"Police looking for juvenile, missing since May 18 - FOX5 Vegas - KVVU\",\"Barrie, Innisfil families thankful for dog rescue volunteers\",\"Chinese students are losing interest in working at international firms\",\"EPA grant freeze leaves future of research, innovation at UW uncertain\",\"India's Largest Dairy Brand Prepares To Market An Acquired Taste: Camel Milk\",\"Kurds signal move to new phase of guerrilla war on Turkish forces in Afrin\",\"Amazon jumps 3% as markets tumble\",\"Global Automotive Power Sunroof Market Outlook, Strategies, Manufacturers, Type and Application, Forecast To 2023\",\"Introducing Yoga Classes To Lead A Satisfying Life\",\"Sushma Swaraj meets Nepal leaders, assures India\\u2019s support\",\"Syria is death trap for civilians, U.N. refugee chief warns\",\"BRIEF-Iradimed posts Q1 adj. earnings per share $0.00\",\"Heritage Cricketers enjoy great day as charge continues\",\"Four policemen suspended after lynching of man in Tripura\",\"Leading law firm joins campaign to find the North East's best places to work\",\"Want to avoid the flu while flying? Try a window seat\",\"19-year-old charged with Vittum Park slaying\",\"Northamptonshire's best food and drink spots crowned at annual ceremony\",\"'He doesn't want to be Batman anymore': Ben Affleck reportedly wants out as Batman\",\"Guyanese, Global News News at Caribdaily.com\",\"Mullet trim to raise funds for KGH\",\"The Doobie Bros. & Chicago Coming To DALLAS!\",\"New Yorkers Don\\u2019t Scare Easily\",\"How major US stock market indexes fared on Monday\",\"US Open Cup's latest Cinderella was Christos FC\",\"Western Suburbs Magpies: Top ten players\",\"For the love of Winged Beans\",\"Sex workers run huge winter discounts\",\"Car Review: 2017 Porsche Panamera Turbo\",\"transfer talk Walker ready for Rangers Rhodes to Wolves\",\"Woman cited for crashing into deputy\\u2019s patrol car\",\"Jennifer Lopez, Drake spend New Year's Eve together: Report\",\"Pulisic to Premier League 'hogwash', insists father\",\"East Africa: 11 Feared Dead After Boat Capsizes in the Indian Ocean\",\"Bendigo husband tenderly kisses his wife after home birth\",\"Record figures show true scale of Derriford Hospital demand\",\"Police search for missing Carlisle teen\",\"Uber Self-Driving Car Involved in World\\u2019s First Fatal Pedestrian Crash\",\"Livingston County Welcomes New Tree Service Company, Highlander Tree Care\",\"Surprise Tombstones From Kane (Video), WWE Stars Attend NFL Game, Flashback Friday Schedule\",\"Man charged with defacing gravestones with swastikas\",\"Hourslong SWAT incident ongoing in Rogers Park\",\"Angela Merkel - CDU preparing for German elections amid Martin Schulz bid\",\"Eliminate the Wind Production Tax Credit-Crony Capitalism\",\"Tuesday\\u2019s Sports Transactions\",\"Cold drinks can cause infertility: doctor\",\"New state law strengthens penalties for making threats to community centers\",\"370 arrested for drunken driving over St. Pat's weekend\",\"Minnesota woman suspected in 2 killings waives extradition\",\"Dodgers place Kenta Maeda on DL, promote Dennis Santana from Triple-A\",\"Mariners 4, Angels 1\",\"JJ Yeley and Steakhouse Elite Head to Daytona International Speedway\",\"NFL DRAFT: Here\\u2019s who the experts say the Eagles, Steelers and Ravens could pick in 1st round\",\"How the schedule was made: NBA taking hard look at metrics\",\"Teenagers Rob Chidren At Lemonade Stand\",\"Mike Williams wants to \\u201credeem\\u201d himself after lost rookie season\",\"WORLD CUP: Injuries, dull style a concern for host Russia\",\"Wiz Khalifa Drops Cameo Filled \\u2018Something New\\u2019 Video\",\"Budget: Seven tax changes that may affect you\",\"Tell the Senate: Armed federal agents should not be allowed at polling places\",\"First plot stone unveiled at new service accomodation site in Wiltshire\",\"Australian Telemarketing Leads Helps Clients In Generating The Best Leads To Their Business\",\"New Wells Fargo president of Northern Nevada bullish on region\\u2019s banking climate\",\"Jury sides with 3M in trial over patient-warming device\",\"Toyota Yaris Unveiled At Auto Expo 2018\",\"Car overturns, killing woman and injuring teen\",\"Pakistani teen becomes world\\u2019s third highest earning video gamer\",\"Brokers finally have date for senior managers\\u2019 regime\",\"Euro zone growth steady but modest - if political status quo remains: Reuters poll\",\"Turkey state of emergency to be extended by 3 months\",\"YOB - The Great Cessation Reissue Streaming In Full\",\"Nikkei rebounds sharply as North Korea fears ease\",\"Where can you get the best pint of Guinness in Laois?\",\"REFILE-Dumping complaint could kill Argentine biodiesel exports, groups says\",\"New life saving app: PulsePoint - WRCBtv.com | Chattanooga News, Weather & Sports\",\"Trump offers leeway allowing employers to drop birth control coverage\",\"Franchising isn\\u2019t everyone\\u2019s pie or muffin, but it could be\",\"Which voice assistant is best for you?\",\"Video shows judge berating sick woman during hearing\",\"New York Post\",\"Goodbye: Pioneering AOL Instant Messenger to be discontinued\",\"Master Chart Showing US Military Aircraft And Their Data-Links Includes RQ-170 Sentinel\",\"ICC U-19 World Cup: Skipper Prithvi Shaw heaps praise on coach Rahul Dravid, team members after title win\",\"Lizzo Shares How Her Bare Ass Brought Her Liberation At Beautycon\",\"Regional Roundup: Top New Features This Week Around Our BroadwayWorld 2/2 - WAITRESS, LES MIS, PRISCILLA, and More!\",\"Kew Gardens 50p coins now sell for nearly \\u00a3100 online - how to spot a fake\",\"Burkitt Lymphoma Therapeutics Market Scope and Opportunities Analysis 2017 - 2025\",\"Wisconsin Assembly committee approves Foxconn incentives\",\"In search of Donald Trump\\u2019s personal denunciation of white supremacy\",\"Uber Self-Driving Car Kills Pedestrian Despite \\u2018Safety Driver\\u2019 Behind Wheel: Vehicle Was In Autonomous Mode\",\"Breaking News: Search warrant results in multiple charges for Merrill man\",\"Did you own a \\u2018Phat\\u2019 PS3? You could be owed $65 - but you have to claim it soon\\u2026\",\"Gap in regulating biotech drug copies prompts WHO to step in\",\"Shelter Cats Learning To High-Five To Help Adoption Chances\",\"Dallas ATP Challenger: Leander Paes to face compatriot Jeevan Nedunchezhiyan in doubles final\",\"Happening nearby: Crawford gets 13 years, 9 months in prison for Perrinville-area murder\",\"Cristiano Ronaldo hit with five-match ban for referee push\",\"Lifeguard shares water safety tips - WBRC FOX6 News - Birmingham, AL\",\"Drool: Farm-to-table to your door\",\"Capital Gazette staffers mourn, return to work and help a community heal\",\"Bridge Pedal riders still enjoyed themselves despite three bridg - KPTV - FOX 12\",\"Thanedar turns in 30,000 signatures to qualify for ballot\",\"'Let govt tell us real motives behind bloodlettings'\",\"Is Microblading For Me?\",\"Audrina Patridge Weighs in on Lauren Conrad and Whitney Port's Pregnancy Announcements\",\"Syria Photographer Takes Action Instead of Pictures, Picks Up Injured Boy\",\"Controversial application to build new Lidl supermarket and family pub to go before planners\",\"U.S. trucking companies Swift and Knight to merge - WSJ\",\"Plans step up a gear for popular Hamilton family fun day\",\"Great NW Barbecue and Beer Festival to benefit K-27 Foundation\",\"Ishikawa assemblyman faces calls to resign for slandering local restaurant\",\"Flowers sentenced\",\"Poppies bid to move back into the top two\",\"Pizzeria owner faces prison time for failure to report taxes\",\"Sony Uploads Full Movie on YouTube Instead of the Trailer\",\"Texas lawmaker recovering after being shot at new year\\u2019s party\",\"Berlinale-2017 FiGa Boards Julia Solomonoff\\u2019s \\u2018Nobody\\u2019s Watching\\u2019\",\"YOUR HEALTH: Making actual \\u201ctissue paper\\u201d, it\\u2019s more than origami\",\"INTERNATIONAL: Riot by drug gangs in Brazil prison leaves 60 dead\",\"Kidnapped Woman Mouths \\\"Help Me\\\" and is Rescued\",\"Application Delivery Network Market Overview, Analysis, Trends, Growth Drivers and Forecast to 2023\",\"UPDATE 1-Soccer-English premier league summaries\",\"In memoriam: Autumn Lee Whitehouse\",\"Officials: Employee Shoots Co-Worker At Pepsi Plant\",\"BRIEF-Dagang Nexchange says unit accepts letter of award from TIFFA EDI Services\",\"NY Daily News Depicts Trump As A Clown In Scathing 4th Of July Cover\",\"Plan for public amenity park in Leenane\",\"DC Hot Stick developed for first responder, worker safety\",\"Top 10 Best Sweatbands: Cheap Men\\u2019s Sports Headbands 2017\",\"Trump Administration rolls back birth control mandate\",\"China and Belt and Road countries trade volumes amounted to $ 1.1 trillion last year\",\"When Negotiating At Work, This May Matter More Than Salary\",\"Macy's Wants To Turn Hundreds Of Its Own Workers Into Fashion Influencers\",\"Police drop charges against Cardinals rookie Christian Kirk\",\"Brawl at Bluewater shopping centre after 'paedophile hunters' accuse man of grooming teen for sex\",\"Community Environmental Council Hosting \\u2018Eco-Chic\\u2019 Green Gala\",\"Rough Water Blamed for Injury\",\"Baseball Capsules\",\"Bank of England at forefront of global rates dilemma\",\"Markets Right Now: Tech stocks lead market lower at midday - KWWL - Eastern Iowa Breaking News, Weather, Closings\",\"Putin cruises to landslide election win\",\"Boynton Beach, Lantana area events: April 25-May 5\",\"Baryamureeba back to vie for Makerere University top job\",\"Protesters call Jacob Rees-Mogg a 'Nazi' and 'racist' before violence erupts at UWE in Bristol\",\"Pregnant mom convicted of child abuse for baby\\u2019s suffocation\",\"EuroMillions Jackpot Climbs To \\u20ac140 Million\",\"'97 SLTX Fuel Sender Float OEM\",\"Expert Patients Programme\",\"13 US cities everyone agrees are the best places to live\",\"Another Stolen Vehicle Arrest For Grass Valley\",\"Coach turns to rugby to improve tackling safety\",\"Trump Cracks Smile as PM Roasts the Press for Unintelligible Shouting\",\"Bucs And Jags Practice Recap 8-14: Heat, And Jags Defense Stifles Bucs O\",\"News Weather Talk\",\"Three Jawans Missing After Avalanche Hits Army Post In J&K's Gurez Sector\",\"Premier League: Liverpool captain Jordan Henderson says he can't influence Philippe Coutinho's decision\",\"NFL draft: Ranking the top 50 players\",\"Sanders Raised Money Blaming GOP For Giffords' Shooting\",\"Sachse defense will \\u2018not to let people score\\u2019\",\"Divorce law unlikely? Senate only wants easier, cheaper annulment\",\"Rolls-Royce launches new Pearl engine family for business jets\",\"Destination Station Street\",\"Strictly Come Dancing professional Chloe Hewitt breaks silence after getting axed\",\"New Project Row Houses-UH Fellows Announced\",\"Featuring a Star Studded Line-Up, Troyton Music, 21st Hapilos Celebrates Billboard Success\",\"Meet the students who are a cut above the competition!\",\"Kenya\\u2019s millennials relish record participation in just concluded polls\",\"North Island College marks completion of film crew program\",\"Man dies, two people rescued after boat capsizes in Cronulla\",\"Nvidia: The Goldman Sachs Transaction Is A Dilutive Event\",\"Nicaragua releases some student protesters to lower tensions\",\"The Best Nacho Recipe For Super Bowl Sunday\",\"WikiLeaks Wants to Make Contents of Flynn's Talks With Russian Ambassador Public\",\"Minimum wage hike threatens 185,000 jobs: Study\",\"Roaming charges for EU mobile phone users reach the end of the line\",\"The Latest: Martin Truex Jr. gets 1st win of year at Fontana\",\"Expect confrontation as \\u2018old trade warrior\\u2019 Robert Lighthizer takes on China, observers say\",\"Ningo-Prampram NDC angry over E.T Mensah\\u2019s council of state bid\",\"Montreal perfumer creates 5 scents for city's 375th anniversary\",\"Lovell Resigns Tennessee House Seat, Democrats Seek Probe\",\"Nigeria: Atiku Visits IBB, Again Canvasses Country's Restructuring\",\"Ramona Singer Sued by Former Employee Over Alleged Fraud\",\"BRIEF-Mosaic says there is room for further potash price appreciation - Analyst day\",\"Indiana State Police Partners With DEA For Drug Take Back Day\",\"Kemrite does right as Liberty edges High Point 55-52\",\"BRIEF-Relevium secures updated terms for BioGanix acquisition\",\"In-Mold Labels Market to Perceive Substantial Growth During 2017-2027\",\"Wimbledon 2018 Results: Winners, Scores, Stats from Wednesday's Singles Bracket\",\"Five things Gernot Rohr & Nigeria must get right for England clash\",\"\\u2018Big Brother 19\\u2019 Spoilers: Veto Ceremony Plans On Track For Alex Ow, \\u2018BB19\\u2019 Showmances Turn On Each Other?\",\"China factory activity rises at fastest pace in eight months\",\"Phoenix-based fitness club taking over vacant Vons in Las Vegas\",\"Bedzzz Express sold, headquarters to stay in Birmingham\",\"Llanes is sharp, Columbia falls in pitcher's duel on Thursday - wistv.com - Columbia, South Carolina\",\"Van Gogh: Could this be a newly discovered painting?\",\"Pruitt Proposes New Rule Defining What Science Can Be Used By EPA\",\"Sandbagging locations open ahead of Tropical Storm Nate - FOX 8 WVUE New Orleans News, Weather, Sports, Social\",\"VIDEO: Experts caution about the one flu symptom you shouldn\\u2019t ignore\",\"Paedophile football coach jailed for 20 years\",\"The New Lawsuit That Raises Questions About Who Controls Big Data\",\"Cameron Norrie holding on against Lucas Pouille at Roland Garros\",\"Ex-BBNaija housemate, BamBam, realises N25m from \\u201cBam beauty oil \\u2018\\u2019launch\",\"Pennsylvania school district hit with 'ghost teacher' lawsuit\",\"SpeedNews Defense & Space\",\"Meet the entrepreneurs reviving small towns\",\"South Florida Caribbean News\",\"Why we are going on indefinite strike\",\"Here's why the RAF Chinook landed in Lincoln last night\",\"Lifetime of movement reflected in Frieda\\u2019s portable art\",\"Delphi suspect sketch spurs 20,000% increase in tips\",\"Soccer-Arsenal went back to basics, says Oxlade-Chamberlain\",\"Woman killed, set on fire at city lodge\",\"Marjory Stoneman Douglas High School Suspect Nikolas Cruz Bragged About Plan In Creepy Cell Phone Videos\",\"EWG chief douses Grexit speculation\",\"An interesting look at the behind the scenes job of the Warriors director of operations\",\"WA woman wins right to take dead partner's sperm to ACT\",\"Some encounter confusion over tax refunds\",\"Connor Cook throws first career NFL touchdown pass (Video)\",\"ND fends off NB, 70-56\",\"Iran: Trump will 'face severe consequences' if he exits the Iran deal\",\"\\u2018Orange Is The New Black\\u2019 Season 5 Cast: Ruby Rose Will Return To \\u2018OITNB\\u2019 In 2017\",\"Canadian chefs face off in Kelowna\",\"Bulk-billing clinics 'turning away' complex patients\",\"The Latest: Real Monarchs coach facing charges, suspended\",\"Cuomo considers charging drivers more to enter Manhattan\",\"CORRECTED-Sri Lankan rupee ends weaker on importer dollar demand (April 19)\",\"Cheat's guide to help shape up for summer\",\"Archaeologists Find Bone Fragment That Might Have Belonged To Santa Claus\",\"Denver Debates Amazon | Westword\",\"Tory pension plans mean 56,000 people in Theresa May's own constituency will have to work longer\",\"Plenty for us to ponder in lead-up to series opener\",\"Life Is Beautiful 2018 Lineup\",\"Ozploitation massacres the USA!\",\"PRECIOUS-Gold steady ahead of Trump, Xi meeting\",\"Prosecutor: Suspect in Washington mall shooting found dead\",\"The Audacity of Peacemaking: Statement from the Seventh-day Adventist Church in Germany\",\"Cirque Du Soleil Performer Autopsy Completed By Florida Coroner\",\"Mayhem at the car wash\",\"Manchester City vs. Burnley: Score and Reaction from 2017 Premier League Match\",\"Maiden flight of China-built amphibious aircraft set for May\",\"Fox\\u2019s Faulkner\\u2019s Hideous New Low: Trump\\u2019s Charlottesville Critics Not On Our Side As Americans\\u2019\",\"Saudi King's Visit to Russia Could Help Resolve Syrian Crisis - Jordan Official\",\"Greenhut: Brown right to give cities dose of reality, but wrong to punt on pension issue\",\"Alaska governor reconsiders judge appointment for attorney\",\"Suit up: Yama Mountain brings the gear here\",\"tributes paid to much-loved entertainer\",\"Mabel Bordelon Aymond, age 93, of Bunkie\",\"Minnesota sues opioid manufacturer Insys over drug marketing\",\"Nova Scotia's Arsenault having a great 'time' at Scotties\",\"Bianca Jagger\",\"Globe and Mail leads NNA nominations\",\"Eye on safety\",\"Teen in racist graffiti case won't be sentenced as adult, judge rules\",\"The BoC kicked the door wide open for a July hike - NBF\",\"How state trooper, DNA helped catch Mass. jogger's alleged killer 8 months later\",\"Trump To Sign Bill Extending Veterans' Health Care Program\",\"Egypt's annual urban consumer price inflation falls to 26 pct in Nov -CAPMAS\",\"Study: Many Android Apps Secretly Track Users\",\"Aprilia promises Espargaro bigger budget for 2019\",\"Coca-Cola revenue beats estimates\",\"PRESS DIGEST- British Business - Oct 6\",\"Japan eyes stricter labeling of genetically modified food\",\"These lies are being shared about Grenfell Tower firefighters\",\"Daimler says expects record sales for Mercedes-Benz cars in Q1\",\"Commentary: Guns offer false sense of security\",\"Maryam to dance with Kapil Sharma in 'Firangi'\",\"Paralyzed boy could lose his caretaker to deportation\",\"Botox May Help Treat Depression, Social Anxiety\",\"Michael \\u201cPS\\u201d Hayes on Ric Flair\\u2019s Condition, SmackDown Star Turns 36, Steel Steps Top 10\",\"How major US stock market indexes fared on Wednesday\",\"COUNTY NEWS: Concern for man missing with two children\",\"Audi recalls about 1.2M vehicles; coolant pumps can overheat and catch fire\",\"Virginia regulators OK plan to fix Alexandria sewers\",\"Virginia shooting: Does Congress need more security?\",\"BRIEF-Fujitsu amends acquisition plan for shares of Solekia via ToB\",\"Chargers say bittersweet farewells in last week in San Diego\",\"Michigan income tax refunds to help pay for Royal Oak WWII memorial\",\"Harvey Weinstein indicted by grand jury in New York rape case\",\"Playtime takes to the air as course opens\",\"Your best bets for Southern California surf, October 7-8, 2017\",\"Kenya political crisis hits a new low\",\"Hyundai, Kia aim to grow 2017 sales to 8.25m vehicles globally\",\"Kenneth Frazier quits Trump manufacturing council; Trump lashes out\",\"Venn Rev 35 TCC review\",\"Bribery scandal: GTV, TV3 to provide live coverage\",\"World Cup organizers dismiss threat of locust plague\",\"Credit Suisse can take time on Swiss unit IPO decision - Rohner\",\"Biggest risk to the market? Democrats, says investor Marc Lasry\",\"If Food Tutorials Were Directed by Famous Directors\",\"Gronk on ice skates? Bruins coach likes the thought\",\"Potts, Zunica power up in TinCaps win\",\"Trump Aides In Contact With Russian Intelligence Before Elections\",\"Hamilton County Prosecutor will not retry Tensing\",\"Today\\u2019s Best Game Deals: Monster Hunter World $30, Mario Tennis Aces $47, more\",\"Correa, Altuve, Astros Rout Red Sox 8-2, Take 2-0 ALDS Lead\",\"Investigation Underway After Car Crashes Into Home In Owensboro\",\"Cincinnati men plead guilty to conspiracy to sex traffic a child - Cincinnati News, FOX19-WXIX TV\",\"Nomi Prins: Jared Kushner, R.I.P., A Political Obit For A President's Son-In-Law\",\"People Shout 'Allah Is Great' At Good Friday Procession In Spain, Sparking Panic And Injuring Dozens\",\"French manufacturing activity hits six-year high in April: PMI\",\"Warning of flight delays after drone incidents increase\",\"Neighbour \\u2018heard roar\\u2019 from house where man (66) found dead in Cork\",\"5 things you won\\u2019t want to miss at this year\\u2019s Verde Valley Fair\",\"Germany: Merkel pledges 'every effort' to avert US trade war\",\"Batti Gul Meter Chalu stars Shahid, Shraddha Kapoor resume shooting for film in Uttarakhand\",\"Michelle Malkin: The Buy America Cash-for-Visas Program\",\"Parineeti Chopra roped in by Speedo India as fitness ambassador\",\"Partner up on equipment ownership?\",\"'We just didn't play hard': Raptors fall to Bulls, continue to struggle\",\"PREP FOOTBALL: Bear River drops PVL opener at Lincoln\",\"Timeline: The disappearance of Stephanie Low - WAOW - Newsline 9, Wausau News, Weather, Sports\",\"Intercom seeks to reinvent Messenger application for businesses\",\"Austin explosions: 'Serial bomber' hunted after tripwire sets off 4th blast\",\"Fourth quarter of 2017 compared with third quarter of 2017\",\"Inefficient Market Launches Premium Service: Undiscovered Opportunities\",\"Mandurah youth suicides: Mum of Terry Scott backing Youth Focus free counselling sessions\",\"Bioplastic Market Introduction Treading Revenue Gross Margin Share Size Review Chemical Industry Research Report to 2022\",\"Nitish Kumar sends message to BJP over no compromise on corruption, divisive politics\",\"The big news: CBI registers FIR against TMC leaders in Narada sting case, and nine other top stories\",\"Southern California man accused of threatening to 'shoot up' Chino Hills school\",\"Wednesday\\u2019s Vital Data: Apple Inc. (AAPL), Tesla Inc (TSLA) and Micron Technology, Inc. (MU)\",\"Apartment fire forces closure of Ketchum Road - WMC Action News 5 - Memphis, Tennessee\",\"Rose McGowan Says She Was Verbally Assaulted At An Appearance And Demands An Apology\",\"Celtics expect Isaiah Thomas to play in Game 2 against Bulls\",\"Tips for growing your own\",\"Facebook post connected to van attack suspect's profile references 'Incel Rebellion'\",\"Area colleges: Three no-hitters by three local pitchers? No problem\",\"austin 'chumlee' russell\",\"MINOR COUNTIES: Cambs put to the sword by Staffs\",\"Thrombectomy Devices Market Estimated To Expand At A Robust CAGR 5.95% Over 2023\",\"Funding your Future: Credit Myths\",\"Joey Chestnut wins\",\"Painting of Enderby landmark finds home in Victoria\",\"SUPERNATURAL, Thursday 4/20 at 8pm on WGNT 27\",\"CA Nilesh Vikamsey's Daughter's Death: Pallavi's text message could indicate suicide, say police\",\"Young Philly Students Learn To Build Cars At CCP Summer Camp\",\"Oclaro Inc (OCLR) Framework on Technical Valuation\",\"Friday 13 APOCALYPSE WARNING: Asteroid flyby will \\u2018mark the return of Mother Mary\\u2019\",\"The other side of the balance sheet\",\"Ireland's Panti Bliss Is An LGBTQ Icon\",\"CNN's Jim Acosta: Kim Kardashian 'Shouldn't Be' at White House\",\"Tekno Reveals Paul Okoye Now Owns 50% Of \\u2018His Label\\u2019\",\"BRIEF-Total Client Services expects completion of audit process by March-end\",\"Whaleoil Backchat\",\"Chiredzi engages lawyers over debts\",\"Somewhat Favorable Media Coverage Somewhat Unlikely to Affect Bridgepoint Education (BPI) Share Price\",\"Michigan State's women's basketball game faints during game\",\"My Eyelashes Are Fake. My PhD Is Real.\",\"Reilly, Masoli, Williams take CFL honours\",\"British Airways, Heathrow & UK Border Force mess up big time\",\"India says to deport all Rohingya regardless of UN registration\",\"Orthobiologics Market 2017, Comprehensive Analysis, Industry Survey, Growth and Major Policies Report\",\"Sherlock episode 1 viewer reaction and review\",\"Intel Kills IDF, Will Shift To More Focused Events\",\"NJEA Blasts Prieto-Sweeney Deal on School Funding\",\"Joe Root warns England about offensive crowd in Australia\",\"Martin Jones: Tax wrapper tricks for kids\",\".:Middle East Online:::.\",\"Slightly less humid today with a pop-up shower\",\"Deadly car bomb hits outside Mogadishu airport, police say\",\"Liberia: Korkoya Lied?\",\"Alaska Legislature's impasse over oil taxes is jeopardizing a bipartisan cons...\",\"ScreenJunkies creator suspended amid sexual abuse investigation\",\"No Mug: Burnham Not a Fan of \\\"Posh Coffee\\\"\",\"Get Jan Constantine's designer cushions for less at Dunelm\",\"SC directs Supertech to refund Rs 10 cr to investors by September 22\",\"St\\u00f8re excludes possibility of Venstre (Left - V) Party as partner\",\"Appeal to trace owner of war medals found in Hartlepool\",\"Police looking for suspect in connection with death of Pueblo woman\",\"Cardinals' Jack Flaherty: Strikes out seven in loss\",\"CMS students play No Limits Softball Game - KSWO 7News | Breaking News, Weather and Sports\",\"NRL registers Foran's contract for 2017\",\"It's been an extraordinary month for CQUniversity\",\"Cattlemen\\u2019s Steak House: A Welcome Throwback in Today\\u2019s Busy World\",\"In Wake Of Charlottesville, Activists Call On Rep. Mike Turner To Denounce White Supremacy\",\"Sisulu\\u201a Modise plead for MK unity\",\"One person taken to hospital after two-car crash on Friday night\",\"Miley Cyrus Hit With Nude Photo Leak Amid \\u2018The Voice\\u2019 Rumors\",\"Love Island's Montana Brown has \\u00a37000 worth of Cartier bracelets on her wrist\",\"BRIEF-Xinjiang Tianshan Animal Husbandry Bio-engineering plans acquisition\",\"GP Report: MXGP of Switzerland\",\"\\u201cSherlock\\u2019s\\u201d Benedict Cumberbatch Distant Relative Of \\u201cHolmes\\u201d Author Arthur Conan Doyle\",\"New home in Decatur houses women struggling with homelessness\",\"Democrats extol health care law in bid to derail GOP repeal\",\"Fed finds nationwide pickup in manufacturing activity\",\"Battered East braces for wintry wallop on 1st day of spring\",\"Why the Rangers being considered one of the more active teams in free agency could be a troubling sign\",\"Biohacking Market 2018; Splendid Growth Seen In Healthcare Sector at A CAGR Of 19.42% by 2023\",\"Qualcomm XR1 is a dedicated chip for low-cost AR/VR\",\"Craving human connection\",\"Germany condemns attacks on Israel before Merkel-Netanyahu talks\",\"Eating low carbon\",\"Nothing is Stopping Hari Kondabolu\",\"Poll: Republican Maryland Gov. Larry Hogan is favored over Democratic candidates\",\"Peroutka testifies under immunity agreement in Anne Arundel robocall trial\",\"Nightmare: Facebook Gave Users the Option to Search for Child Pornography\",\"Target buys tech company to help it offer same-day delivery\",\"How the US Trained Kim Jong-un into His Current Boldness\",\"Happy Hour Hero\",\"FBI takes over Sasikala Narra, Anish Narra double homicide case in New Jersey\",\"Self-driving Uber vehicle fatally strikes woman in Arizona\",\"Water main break causes Beechview road to buckle\",\"McAfee bolsters AWS cloud security\",\"A look back at England's failures in World Cup shootouts\",\"Love Island: Ellie Jones 'begged ex Jack for sex a DAY before he entered the villa'\",\"IAF tests capability to handle nuclear, biological war with Gagan Shakti\",\"Panthers lock up Kawann Short with a reported five-year, $80M deal\",\"Exeter University investigates law students' \\\"racist\\\" messages\",\"Shining examples of ambition, success, drive and commitment\",\"Trump condemns neo-Nazis, white supremacists\",\"Europe Celebrates the End of Roaming Data Fees\",\"Surging Lady Mavericks sweep Lady Hornets\",\"Willem Dafoe Joins Edward Norton\\u2019s \\u2018Motherless Brooklyn\\u2019\",\"KIM'S MIND GAMES: North Korea releases strategy pics despite saying Guam won't be nuked\",\"WWE MITB Seth Rollins $3 @ walmart.ca\",\"Coronation Street insider: Peter Barlow reveals he has killed Billy Mayhew after deathbed confession\",\"Bellator 184 Live Results\",\"Angels star shines against Astros, but runs out of gas\",\"Migrant boat capsizes off Libya; 90 feared dead, mostly Pakistanis\",\"Manor traffic stop lands 2 women in jail on multiple drug charges\",\"Realmuto loses to Marlins in salary arbitration; Bour wins - wave3.com-Louisville News, Weather & Sports\",\"Harvey Weinstein likely to be suspended after intense board meeting over sexual harassment claims\",\"Bitcoin passes $4,000 mark to reach all-time high\",\"Incredible New Gif Shows Cosmic 'Snow' on the Surface of a Comet\",\"President of Kyrgyzstan appoints Deputy Chief of Staff and Adviser\",\"Amazon is offering extra deals at Whole Foods as Prime Day invades stores for the first time (AMZN)\",\"Outdoor picnic area proposed for high school\",\"All-rounders\\u2019 leading role in vital victory\",\"Fatal crash trike rider had taken illegal drugs\",\"Watchdog blasts Denver sheriff's response to inmate's death\",\"30 things travelers should do before turning 30\",\"Cal State Bakersfield cruises to 81-58 win over UMKC\",\"Star Trek: Discovery to Beam Into Comic-Con!\",\"Leaders Common target ninth successive league win\",\"Alabama will try to contain one of SEC's top playmakers\",\"National portal makes it easier to submit action camera footage to police\",\"Shiny shoes in Bay Village turn into cookies for charity\",\"More than spectacle: Eclipses create science and so can you\",\"Heather Heyer, 32, Gave Her Life To Fight Racism, Donald Trump Had To Be Forced To Denounce It\",\"Complaints handling has been 'reasonably poor' for months, Kensington and Chelsea's housing chief admits\",\"Small, mid-cap stocks give better returns; outshine bluechips\",\"Central Bank of Bahrain debuts regulatory sandbox\",\"Labour clears MP Clive Lewis of sexual harassment\",\"Indian economy has entered into consolidation phase, says Arun Jaitley\",\"The Price of M&A: After Gutting HP, Autonomy Strikes Again\",\"Patriots Could Lose Tight Ends Coach Brian Daboll To Nick Saban, Alabama\",\"Eau Claire forum highlights diverse field in race for governor\",\"Aussie firearms amnesty brings in over 50,000 guns\",\"'It's not ok'\",\"'Joe Bryan has just put in one of the worst performances I have ever seen from a City player'\",\"Traditional Chinese medicine practitioner facing new slew of charges\",\"No honeymoon period as Socceroo Risdon makes sacrifices for World Cup\",\"The next step after getting engaged this christmas!\",\"BeiGene And Myriad Genetics Collaborate On Diagnostic For PARP Inhibitor\",\"First Pic of BCoop's \\\"A Star is Born\\\"\",\"Coffee may boost chances for longer life, study shows\",\"Missing Ilford man died of 'extensive head injuries'\",\"Are we really going to the Moon? History isn\\u2019t kind to presidential plans\",\"Spectacular Summer Games In Winnipeg!\",\"America's malls are fighting back\",\"TVA Board to Meet in Henry County\",\"Saudi Arabia expected to raise US$8bn in debut sukuk\",\"RFG's amazing disappearing act\",\"Daisy Ridley\\u2019s Dress At Star Wars: Last Jedi Premiere\",\"PSLV can even launch 400 nano satellites: G Madhavan Nair\",\"Saudi youth rescued after tumble from First Flatiron in Boulder County\",\"Real Madrid\\u2019s Gareth Bale ruled out of Champions League match against Bayern Munich\",\"Ohio police investigate string of 3 murder-suicides - WFMJ.com News weather sports for Youngstown-Warren Ohio\",\"Yellen press conference - live coverage\",\"This dog road-tripped with his owners and the souvenir photos are adorable\",\"New LinkedIn Feature Makes it Easier for Contractors to Connect with Recruiters\",\"Amius, Peterson lead W. Carolina past Samford, 88-71\",\"Drug that creates a 'real sun tan' could prevent cancer\",\"Mosul's Famed Mosque And 'Hunchback' Minaret, Destroyed By ISIS, Will Be Rebuilt\",\"Hip hop star J Cole's crew saves day for Perth teens\",\"Coca Cola supports Macri with US$ 1.2bn, 2019/2021, investment pledge\",\"Portland could see global warming-related sales tax on fall ballot\",\"Owners pay \\u00a33,500 for their new pet\",\"Could you be the next \\\"Mrs Toxic Terry\\\" as reformed Preston solvent abuser looks for love?\",\"Kapil Dev, Laxman inaugurate Telangana T20 League\",\"Premier League duo are only two teams left in race for James Rodriguez: They will bid\",\"Trudeau-Trump meeting may have appeased most Canadians - but not all\",\"Lane remains closed after major lorry blaze on M6\",\"U.S. livestock: Hog futures plunge on spreading, cash markets\",\"Works Connection Releases Elite Throttle Tube\",\"Run Your Week: Big Books, Sure Bets, & Titles Making News | Book Pulse\",\"Broadchurch fans praise finale after rapist identity revealed in shock twist\",\"Reporter's Notebook: In Small-Town Russia, 'Football Is My Life'\",\"Landline phones to get smartphone-like features; SMS, chat now possible\",\"BRIEF-Paulson & Co ups share stake in Amazon.com Inc\",\"Comcast Drops Bid for Fox Assets, Leaving Disney in Pole Position\",\"Authorities investigate suspicious package on railroad tracks in - KWWL - Eastern Iowa Breaking News, Weather, Closings\",\"Bhopal: \\u2018All should take part in plantation drive\\u2019\",\"Pok\\u00e9mon Go's Next Update Finally Adds Gold And Silver Monsters\",\"Memorial Names Convicted March 26 Protesters Political Prisoners\",\"HS GameTime scoreboard: Monday, March 12\",\"Heigl wanted to quit Hollywood over rumours\",\"Preye Odede, Steve Crown super excited about Adom Praiz\",\"Bates Motel Recap: Mommy Dearest\",\"How to Make Mango Chipotle Campechana\",\"Arsenal revive top-four challenge with win over West Ham\",\"Crocodile bites tourist posing for photo\",\"Watchdog: New Zealand spied for years on Pacific neighbors\",\"AP News Guide: Michigan\\u2019s 2018 candidate filing deadline\",\"Fires started by young people keep North Yorkshire crews busy this Bank Holiday\",\"Tracking one shower chance this week.. Even that chance is small\",\"Pictured: Double-winning Leinster Rugby squad visit young fans at Temple Street hospital\",\"Matulino included in Warriors squad\",\"A college professor had a shocking pick for who to blame for the Las Vegas shooting\",\"400 per cent rise in onion price in a year makes markets weep\",\"Self-driving Uber car hits, kills Arizona pedestrian\",\"Patti Smith Looks Back on the Album Where It All Came Together\",\"Wilmington man faces life in prison for gun charges\",\"We watched them dig the same hole over and over again - business owner\",\"Driving past a stopped school bus? Police cracking down on drivers\",\"Metuarau completes cross-code conversion\",\"This is why you might be snoring - and when you need to see a GP\",\"1930\\u2019s Co-Op \\u2018Strange Brigade\\u2019 Gets August Release Date, New Trailer\",\"Middlesbrough vs Leicester: No Vardy, no party as Boro hold champions\",\"Developer makes move towards Chesterfield Mall revitalization\",\"Howard Co. Police Investigate Double Stabbing In Laurel\",\"WATCH: Umrah pilgrims brawl at Karachi airport\",\"Christian Man Stripped, Burned With Hot Iron Rods for Befriending Muslim Woman\",\"Update on the latest religion news\",\"The Humane Society's CEO Has Resigned Over Sexual Harassment Allegations\",\"Uruguay's wool and lamb exports dropped 17% in twelve months\",\"Mogg: Number 10's Customs Partnership Is a 'Cretinous Betrayal of Good Sense'\",\"John Ivison: Whoops! Liberals might have peaked too early on the economy\",\"OHL Roundup: Steelheads top Wolves 5-4\",\"Fitch: Wells Fargo Reports Flat Earnings from Year Ago\",\"We can't be surprised by the Premier League's ugly soccer around the holidays\",\"Hosts oppose council push for slice of Airbnb pie\",\"Juventus make final push for Liverpool star\",\"ISIS claims Istanbul nightclub attack\",\"NCLT reserves order in Binani Cement hearing\",\"Gray scores 20 in Houston's 69-65 victory at UCF\",\"Baby boy died after mum fell asleep with him on her chest, inquest finds\",\"Chinese premier considers visiting Japan this year\",\"Melania Trump and French First Lady Brigitte Macron seem to be coordinating their outfits \\u2014 and it's an unusual show of unity for the Trump White House\",\"$1.18 to $1.58 a litre: Are you paying the most for gas in B.C.?\",\"1st Firefighters At Vegas Massacre Came Across It By Chance\",\"Police to question Prime Minister under caution\",\"Apple overtakes Samsung in shrinking smartphone market: survey\",\"Bayern Munich's Arjen Robben hints he could retire in 2018\",\"The Woodlands Recognized as \\\"Best Places to Live\\\"\",\"Selena Gomez Flaunts Post-Breakup Ukulele\",\"Wisconsin flu-associated hospitalizations remains steady\",\"Are you OK, Aunty May? China warms to UK Prime Minister\",\"Ag Plastic Recycling\",\"Health Policy Research Group: NGO urges FG to resuscitate NHIS free maternal/child health programme\",\"Venezuelan News News at Caribdaily.com\",\"Muguruza Beats Stosur in 1st Round at Brisbane International\",\"Coronation Street's Kate Ford has a gorgeous new hairstyle\",\"London Crisp Co Appoints Vinnie Jones As Brand Ambassador\",\"Ineos says incident has occurred at its Grangemouth refinery in Scotland\",\"Johnson, King help Middle Tennessee beat Charlotte 78-73\",\"Bob Myers aware that Warriors\\u0092 championship run will not last forever\",\"Judge tosses lawsuit targeting LL Bean's new return policy\",\"Deep Inside Hollywood\",\"2 Great Alternatives To T. Rowe Price's New Horizons Fund\",\"Elizabeth Warren lashes out at centrist Democrats, prompting 2020 White House speculation\",\"Jim Acosta: Trump Supporters 'Don't Have All Their Faculties'\",\"Painting past ALS: Man adapts by holding brush in mouth\",\"Father Brown will return for a seventh series featuring \\u201canarchists, ramblers and Morris Dancers\\u201d\",\"After downstate coyote attacks, NY DEC warns public\",\"Now you can write your own sign to fall down behind Theresa May\",\"CPL 2017: Trinbago Knight Riders make a Giant step, Gayle\\u2019s Patriots get a soaking\",\"'The Last Jedi' director explains the mysterious title\",\"Improving not moving is the new homeowner mantra\",\"OpenAI Bot Beats Dendi at TI7\",\"Bank of Canada Holds Target Rate as Expected But Tone Change Signals July Hike\",\"Is Now the Time to Bail out of - or Buy Into - International Markets?\",\"DC Comics fans want to flood Rotten Tomatoes with negative reviews of 'Black Panther'\",\"How To Get $20,000 Off The Price Of A Master's Degree\",\"CFL launches \\u2018Diversity is Strength\\u2019 shirts early in wake of Charlottesville\",\"Gary Ablett booing, Carlton v Gold Coast Suns: Why Blues fans had right to boo, AFL Outsider Brett Geeves\",\"Malcolm Marx the top Lion of 2017\",\"Bernadette M. Davidson\",\"$50 Disney Gift Card + Qualify for Grand Prize AULANI Vacation Package!\",\"Female quota in prosecution recruitments\",\"Michigan State's crisis affected Tom Izzo and his program - NBC12 - WWBT - Richmond, VA News On Your Side\",\"DNR trains potential conservation officers by testing character\",\"Team Texas win Hemp U-15 Inter-Block Football\",\"The Regulation Administration\",\"Charter on Citizenships' Rights\",\"Five more dead in unrest in Nicaragua\",\"Rebel Rags files lawsuit against former recruits\",\"Temptations singer Dennis Edwards dead at age 74 after battling meningitis\",\"Tyrese Rants On Instagram About The Rock\\u2026Again\",\"Summer Not A Prime Time For Crime\",\"Romania: court tells president to fire anti-graft prosecutor\",\"Neogen Corporation (NEOG) VP Sells $424,518.60 in Stock\",\"Drunk passenger who spat at staff on flight from Gatwick jailed\",\"Human rights chief slams Security Council for inaction on Syria\",\"Mexico rights agency: Police were complicit in 2011 killings\",\"New Kansas congressman plans to take office next week\",\"Police: Florida man dies after punch from Uber driver\",\"Super Bowl 2018 expected to be coldest on record\",\"Swift creator Chris Lattner joins Google Brain after Tesla Autopilot stint\",\"Send a tip on train station bars, restaurants, hotels - and win a \\u00a3200 hotel voucher\",\"\\\"I Don\\u2019t Like Films That Define People As Heroes And Villains\\\"\",\"Meagre Hull City beaten at Preston North End\",\"Plague: Fleas in Arizona Test Positive for Easily Spread and Fatal Disease\",\"John Horgan: 'It doesn't matter who owns the Kinder Morgan pipeline, the risks remain'\",\"Brexit should unify all religions, declares Ukip MEP after resigning over leader's anti-Islam stance\",\"House Oversight Committee probes possible security breach at Donald Trump\\u2019s Mar-a-Lago\",\"Native Title Act amendments pass Senate, with Labor\\u2019s support\",\"Nicaragua business lobby urges Ortega to hold early elections\",\"Kobe Steel, Ltd. (KBSTY) Given Consensus Rating of \\u201cStrong Buy\\u201d by Brokerages\",\"NC mom fights off coyote attacking daughter. \\u2018It just wanted to - | WBTV Charlotte\",\"[PIC] Michelle & Barack Obama\\u2019s Valentine\\u2019s Day 2017 Messages To Each Other\",\"Soup Maker - a Great Appliance to Prepare Healthy Food at Home\",\"Philippines gripped by dengue vaccine fears\",\"Catalonia latest: Barcelona FC\\u2019s part in the Catalonia independence referendum explained\",\"Horticulture set to surpass $143m\",\"Emergency project causes traffic restriction in Columbiana County\",\"Facebook shares drop more than 6 per cent on privacy concerns\",\"India vs Australia: Hosts Call Off Practice Session Due To Rain\",\"Kids Who Play Video Games Are Faster Learners, Study Says\",\"Celebrating important partnerships\",\"Christian Woman Stabbed By Afghan Migrant For Reading The Holy Bible In Austrian Refugee Center\",\"Woman charged with DUI in fatal car vs. motorcycle crash - wistv.com - Columbia, South Carolina\",\"Local coach readying Team Canada for Olympics\",\"Britain labels Moscow\\u2019s nerve agent denials \\u2018increasingly absurd\\u2019\",\"Parliament in peril: UK lawmakers debate leaving aging home\",\"Quinnipiac, UConn prepare for meeting in NCAA tournament\",\"Initiative lets drivers pay state police tickets online\",\"Janet Jackson's husband pens emotional message\",\"California law that continues to plague homeowners in 2017\",\"Pantone creates shade of purple named for Prince symbol\",\"Wakefield Trinity: Winger Charnley may face Wakefield after leaving Sale for Wolves\",\"Google Street View for Malta launched\",\"Andre Iguodala\\u2019s injury opens door for LeBron James and Cavaliers\",\"Critical conversions - the sinking the Stellar Daisy\",\"WWE 24 Video for Tonight, Triple H on WrestleMania 35, Maryse\",\"UPDATE 2-Toshiba fired Westinghouse chairman two days before bankruptcy filing\",\"Saturday\\u2019s local football round-up\",\"The new German slang that has older folks scratching their heads\",\"Antonio Conte and Chelsea board divided over transfer targets ahead of \\u00a3130m spree\",\"Take some free advice\",\"Lisbon Lion Bertie Auld backs Drama Club's Auld Avondale Actors' production of 'Follow, Follow'\",\"Sam Bradford nears return: 'I'm definitely feeling better'\",\"Android updates: our right or a privilege?\",\"Twenty One Pilots Fans May Have Uncovered the Next Album\\u2019s Release Date\",\"How 'IT' changed Nicholas Hamilton's Alstonville life\",\"Exxon, Chevron report sharply higher 4Q profit on tax gains\",\"Bryan Colangelo's Twitter scandal: What we know and don't know\",\"Augusta Free Press\",\"Man In Critical Condition After Shooting In Mckees Rocks\",\"Gaga, Prince William talk mental health\",\"Diocesan phase of Fatima visionary's sainthood cause completed\",\"Alt-right leader Richard Spencer out at Texas A&M, but may be in at U Florida\",\"LOCLA GOLF: Barone doesn\\u2019t fall short of title\",\"Pet Shop Boys and Wiley to be honoured at NME Awards\",\"Hyperactive Missouri Gov. Greitens touts his physical feats - KCTV5\",\"Packers surge to post-season, Lions back in\",\"President calls on government to compensate for medicine shortage, enable needed financial allocations - Daily News Egypt\",\"Eric Dier keeps cool ahead of penalty as England team-mates go wild\",\"2017 Astrology Forecast by Sarah Lyons\",\"Aspinwall artist crafts one-of-a-kind comforting chair\",\"Farron claims to defend 'differing views' yet refuses to accept Brexit\",\"Waymo vs Uber trade secrets trial at starting line\",\"Is Riyadh Finally Buying Russian Air Defense Missiles?\",\"Brewers Acquire Oliver Drake From Orioles\",\"Adam Ant, Slim Cessna\\u2019s Auto Club and more San Diego concerts\",\"Festival performers focus of festival art show\",\"Spiralling house prices leading to rise in elder abuse, Legal Aid says\",\"Analysts Viewpoints: Depomed Inc (DEPO)\",\"PCW Ultra \\\"Tuff Luck\\\" March 16, 2018 - review\",\"Weinstein on 'indefinite leave' during harassment inquiry\",\"Police find drugs, a crossbow, air rifle, bikes and cars in raids across across Liverpool\",\"Epazz, Inc. Strategic Advisor Interviewed at CEOLive.tv about 420 Software Application\",\"Egypt's Court Removes Ex-Head Morsi, 1,500 People From Terrorist List - Reports\",\"Blue Jackets good again, just not good enough for next level\",\"Cast for Menier Chocolate Factory's The Lie announced\",\"Running Hadoop on a Raspberry Pi 2 cluster\",\"Film Festival \\\"Human Rights Through Cinematography\\\" concludes\",\"The three things you need to know today in Los Angeles: Wed, May 30\",\"AP source: Avery Bradley agrees to 2-year deal with Clippers\",\"East Africa: Two Teams to Represent Rwanda at 2017 EAC Corporate League\",\"Tips to improve your child\\u2019s math scores\",\"'Turning 30 wasn't a big deal:' Scots songstress Amy Macdonald chats to us ahead of local concert date\",\"Conneaut Lake Park having successful season\",\"U.S. House committee sets new hearing on Kaspersky software\",\"Silicon Valley insiders revealed that Facebook, Snapchat, and Twitter are using \\u2018behavioural cocaine\\u2019 to turn people into addicts\",\"best picture fiasco\",\"Las Vegas Casinos Are Now Testing Covert Gun-Sensing Technology\",\"Homeless halfway house approved despite community opposition\",\"Russia to Allow ISS Tourists to Go on Spacewalks\",\"Inside the Underground Anti-Racist Movement That Brings the Fight to White Supremacists\",\"Taipans add Loe to NBL playing roster\",\"Doctor denies genital mutilation; judge keeps her locked up\",\"Trump\\u2019s weight-loss regimen: fish and half a bun\",\"Disease spreading from dogs to owners across Florida - ABC-7.com WZVN News for Fort Myers, Cape Coral & Naples, Florida\",\"Fitness apps are now one more reason to revisit your smartphone's privacy settings\",\"Dominika Cibulkova crashes out of Ricoh Open in first round\",\"Analysts Research Summary: Seaworld Entertainment Inc Co (SEAS)\",\"Orlando nightclub shooter\\u2019s wife \\u2018would not hurt anybody\\u2019: uncle\",\"James Gunn will direct third 'Guardians of the Galaxy' movie\",\"Champions League: Bayern, Madrid in battle of European elite (Preview)\",\"SGS Opens Sample Preparation Facility in Whitehorse, Yukon Territory\",\"IMV Leadership to Participate in Upcoming Investor and Business Development Conferences\",\"Reason why Jamie Vardy didn't take a penalty in World Cup last-16 win over Colombia\",\"Christmas decorations vandals caught on camera\",\"Basalt, Aspen High School football teams wrap up spring camps\",\"Ex-Pa. lawmaker gets 18 months of house arrest in gambling case\",\"LeBron James And Other Celebs Rally In Support For Bullied Boy\",\"Coating Could Revolutionize Hypersonic Air Travel\",\"Sling TV rolls out a better DVR with an option to protect recordings, record from Fox\",\"Identify which personality type you are for financial success\",\"Tamar Braxton Denies Photoshopped Body\",\"Mayweather, McGregor agree to August super-fight\",\"Sebi rejigs primary market advisory panel\",\"Leak Reveals ASUS Zenfone 4 Pro Packs A 3600mAh Battery\",\"Diaz leads Connecticut Women\\u2019s Open with a 66\",\"FBI on the trial of Nigerian scammer, offers just $1000 to whistleblower\",\"VIDEO: Seal escapes hungry orcas by climbing aboard tourist boat\",\"6 strokes, a coma and 38 leg surgeries later, student crosses stage to collect diploma\",\"St. Andrew\\u2019s, Island School combine forces to ship supplies, handmade valentines to deployed soldiers\",\"Which Secondary schools in Birmingham are closed on Tuesday December 12?\",\"What Bollywood actors eat on their cheat days\",\"ManBQue Share Foods for the Big Game\",\"Trump correctly tweets that Democrats mistakenly tweeted photo of child migrants being held in 2014\",\"Will You Take This \\u201cSMARTPHONE\\u201d As Your Lawfully Wedded Partner, To Love And To Hold?\",\"Passion Lounge Gutted by Fire in Wilkes-Barre\",\"US government demands details on all visitors to anti-Trump protest site\",\"Abacha Loot: Reps To Probe Recovery From 1998 To Date\",\"The three things you need to know today in Los Angeles: Tue, Apr 24\",\"Fitness clubs growing fast with help from real estate market\",\"Winning medals is great, but better if they\\u2019re gold or silver\",\"Reliance Communications posts third consecutive quarterly loss\",\"What Centre argued: L-G, not ministers, responsible for admin\",\"Cooking with JoJo: Vive le quiche\",\"Amnesty accuses Europe of 'complicity' in abuse of Libya migrants\",\"CREDIT SUISSE SHAREHOLDER ALERT BY FORMER LOUISIANA ATTORNEY GENERAL: KAHN SWICK & FOTI, LLC REMINDS INVESTORS WITH LOSSES IN EXCESS OF $100,000 of Lead Plaintiff Deadline in Class Action Lawsuit Agai\",\"UPDATE 1-'Black car' drivers in New York City lose wage appeal\",\"Why a Day in the Sun Makes You So Tired, According to Science\",\"Puerto Rico's 'Singing Newspapers' Tell A Story Of Resilience\",\"California risks severe 'whiplash' from drought to flood: scientists\",\"Check out Rihanna's ridiculous Coachella look\",\"Well-known McGill music professor found dead\",\"Hareem Farooq lauds student for speaking out about sexual harassment at Islamabad college\",\"Gold Pulls Back From 2-Month Highs; North Korea Tensions In Focus\",\"Kraft Heinz dishes on its new social media approach\",\"Video: Machine Gun Heard From Street Level In Las Vegas\",\"\\u2018Made by Google\\u2019 Gift Guide: These Google products will brighten anyone\\u2019s holidays\",\"There\\u2019s nothing wrong with saying \\u201cI do\\u201d at twenty-two\",\"Footage emerges showing Myanmar police beating Rohingya Muslims\",\"Stage Completions Inc. Announces Record Completion Time and Frac Intensity With Stage\\u2019s System in Pipestone, and New Dissolvable Collet Product Launch\",\"\\u2018Loving Vincent\\u2019 Gets Standing O At Annecy\",\"Arizona man who sold ammo to Las Vegas shooter is charged | Columbus Ledger-Enquirer\",\"Reports Of Mass Sex Assaults In Frankfurt Are \\\"Without Foundation,\\\" German Police Say\",\"SRK not part of 'Baahubali: The Conclusion'\",\"Narrabri P-plate driver arrested for drink driving three times on New Years Day\",\"Australian Women's Open: Top players not worried about No 1\",\"Week 6 games with the most impact on the College Football Playoff\",\"Polenta with roasted red pepper coulis\",\"How Winning Super Bowl LI Will Kind Of Inconvenience Patriots Yet Again\",\"Topeka Zoo announces 2 giraffes are pregnant\",\"Elizabeth Warren National Book Tour Ahead of 2020 elections\",\"Local Activists Protest President Trump's Visit to San Diego\",\"Erdogan defies vote critics as he gains more power\",\"Two students, teacher fall ill at Rocky Mountain High School\",\"New Zika cluster at Serangoon North Ave 1, Serangoon Ville\",\"A Drone Base Rising from Saharan Dust (excerpt)\",\"One goal enough for Upland girls soccer to reach semifinals\",\"GardaWorld Weekly Security Report\",\"Will you be pushing the boat out in May?\",\"Lawmakers talk about more security, carrying weapons, after shooting\",\"Rasile drains 7 threes, #1 McDonald rallies for win\",\"Get yours today! Tickets on sale for the InCuya Music Festival\",\"Company asked to prove reliability after WA customers left out of pocket\",\"Paris Jackson \\u2018granted restraining order against alleged stalker\\u2019\",\"Tim Tebow joins fan with special needs during her performance of 'God Bless America'\",\"Video: Deconstructing the psychology of rewards in game design\",\"AMU not a 'minority institute', why no quota for Dalits: UP SC/ST panel\",\"Toronto stocks edge higher, U.S. slips lower\",\"Google Doodle honours German physicist Max Born\",\"Alien news: UFO over Dalian beach in China confuses beachgoers\",\"ALL HAIL THE KING! Trump\\u2019s IRS Will \\u201cTurn a Blind Eye\\u201d to Enforcement of the ObamaCare Mandate\",\"The new bill to regulate Facebook and Google's data might actually do the trick.\",\"Remain positive about economic turnaround, Ajimobi urges Nigerians\",\"Co-signing loans is hardly ever a good idea: Here are the downsides too many people ignore\",\"Police: Officer kills man during gunfire exchange in Alabama\",\"Miss Culverhouse going to Washington\",\"NBN: FY18 will be 'most difficult' year during rollout\",\"'I am your daddy,' judge tells teen accused of threatening to...\",\"United Airlines Reports Solid Profits, Vows Better Customer Treatment\",\"BREAKING: Iran promises tough ramifications if nuclear deal abandoned\",\"AP FACT CHECK: Rep. Kevin Cramer did drive 2,300 miles\",\"PC Leftists Lose It Over What 'Wonder Woman' Gal Gadot Said About Stephen Hawking\",\"3651 Collins Ave, Unit Penthouse\",\"Where to go for Fourth fireworks\",\"Is There Enough Year-Round E15 To Supply Demand?\",\"Australian Opposition Leader Believes Bitcoin is Fueling Terrorism\",\"Archie Goodwin\",\"Stretch your dollar on heating & cooling equipment in February\",\"Palestinian leader calls US ambassador a \\u2018son of a dog\\u2019\",\"White powder prompts hazmat response at Coquitlam RCMP detachment\",\"Sarah Jessica Parker, Gilt Toast Exclusive Bridal Collection\",\"Artis REIT goes floating for the first time\",\"US skiers Johnson, Vonn lead downhill training before race\",\"FIRST ALERT: Rain overnight, moves out early Sunday - WMC Action News 5 - Memphis, Tennessee\",\"Happy National Cake Week: Sumptuous, irresistible easy bakes to try at home\",\"President Trump claims on Twitter that Nunes memo 'totally vindicates' him\",\"DeMario Jackson and other 'Bachelors' Strip at Dog Charity Auction\",\"Digit\\u2019s new feature can help you pay off your credit card balance - but is it worth the monthly fee?\",\"Cancer-fighting T cells are smarter, stronger than experts thought\",\"Coach who allegedly ran away with teen being extradited to Florida\",\"Kate McKinnon Reenacts Jeff Sessions Senate Hearing VIDEO\",\"Creep Catchers prez \\u2018done with citizens arrests\\u2019 but not \\u2018stings\\u2019 after pleading guilty to assault\",\"Prince William Chamber CEO Debbie Jones one of 5 to be recognized by Catholic Business Network\",\"Get free dental care this Saturday\",\"2 title bouts headline UFC 216 in Vegas after shooting\",\"Kayode Fayemi: What I achieved as minister of mines\",\"Weather hinders salvage operations of vessel ground near Ludington\",\"Defending champ Joey Chestnut sets record with 74 hot dogs - WAFB 9 News Baton Rouge, Louisiana News, Weather, Sports\",\"EU to resume political contact 'at all levels' with Thailand - statement\",\"Logic, G-Eazy, More Featured In New Netflix Series\",\"EATING OUT: Putting award winning Sheffield pub to the test\",\"Chicago beefs up transportation security after NY bomb\",\"The Latest: Defense rests; Cosby doesn't testify\",\"Global IVD Reagents Market 2017\",\"Ebden rules out any Wimbledon complacency\",\"GOP memo stirs more questions about Trump-Russia investigation\",\"#360TVSeies: 'The Last OG' And 'Search Party' Renewed At TBS\",\"Wales boost World Cup hopes as Tom Lawrence strike downs Georgia\",\"RPT-BRIEF-Hikma enters into settlement agreement with Jazz\",\"Feinstein Threatens To Oppose Special Counsel Bill Over GOP Amendment\",\"The backlash to Trump\\u2019s response to white supremacists is telling\",\"Worldbulletin News\",\"Auditor takes aim at feds over fish farms\",\"Signs your stress eating is getting out of control\",\"BRIEF-Northeast Pharma returns to profit in 2016, plans share placement, tech upgrade\",\"Q&A at the Santa Monica farmers market with supervisor Laura Avery\",\"IL Senate overrides governor's veto of school funding bill\",\"PA Antlerless Deer Licenses On Sale Next Week\",\"Hidden Amazon page drops hints about a \\u2018Fire TV Cube\\u2019\",\"Meyers grad Moore taking talents to Greece\",\"Meghan Markle news: Has dad Thomas Markle been FROZEN OUT by royals since his interview?\",\"7 Florida Gators players suspended from season opener against Michigan\",\"Bullying is number one concern for Scottish parents\",\"2019: I reassure President Buhari of my absolute, total support - ex-Governor Oshiomhole\",\"Baahubali 2 actor Prabhas accepted Karan Johar's Bollywood debut offer?\",\"Obamacare came to Montana Indian Country and brought jobs\",\"Hinsdale Pet Walk helps pets find forever homes\",\"Delhi pedestrian killed crossing Highway 99 in Merced County\",\"Canadian manufacturing sales unexpectedly jump on transportation, petroleum products\",\"Mohawk River flooding recedes, homeowners cleaning up\",\"Check It Out At The Winston County Library!\",\"Creep of the Week: Jesse Lee Peterson\",\"Latest TRP Ratings: Kundali Bhagya Is Back On Top Slot; Yeh Rishta Kya Kehlata Hai Drops Down!\",\"Watch the Austin City Limits Festival Live Stream\",\"Mercury rising at Venue: 73\",\"NC road workers rescued after mud pushes truck into river\",\"Nigeria: We've Beefed Up Security Along Benin-Lagos Express Road - Edo CP\",\"Bitcoin whipsaws investors as 'mother of all bubbles' shows sings of bursting\",\"The 100 Returns to Vex Michelle with a Stunning Season Premiere!\",\"Dunkin' Donuts to offer free donut on National Donut Day\",\"Lane and ramp closures scheduled on I-5 near DuPont\",\"Nursery worker who assaulted kids and told child 'I'd love to put your head through a window' faces being struck off\",\"Burdette nominated for NCAA Woman of the Year\",\"Petrol card failure almost stalls PE police\",\"Leeds United\\u2019s Premier fans deserve seat at top table says Lee Sharpe\",\"Syria\\u2019s Eastern Ghouta militants prepare chemical attack provocation, Russian MoD tipped off\",\"Police publicly apologize to victim nearly 14 years after brushing off her complaint of former Olympic doctor\",\"Study Reveals Huge Potential for mRNA Drug Targets\",\"Toronto in mourning after deadly van attack\",\"Worries About Jobs and Economy Hit Record High, According to Statewide Survey\",\"Contact Swing Patrol for 1940s Dancers for Hire to Entertain with Their Performances\",\"Emerson Gridely Elementary Goes Out with a Big Spring Fling - Erie News Now | WICU & WSEE in Erie, PA\",\"Southern Baptist Denomination Cuts Ties With DC Baptists Over Homosexuality\",\"Faith Hill, Tim McGraw celebrate anniversary with joint album announce\",\"Lake Erie Nature & Science Center shares the holiday night tree tradition\",\"Media: Romanian Education Ministry\\u2019s website mines cryptocurrency\",\"Benicio Del Toro on \\u2018Sicario\\u2019 Sequel, \\u2018Avengers: Infinity War\\u2019\",\"Woman says Steven Seagal sexually assaulted her at audition\",\"Toronto mourns after horrific van attack\",\"Latest Sports News From Today FM\",\"Santa Barbara Man Charged with Check Forgery Arrested in New Jersey, Faces Extradition\",\"Trump pressed aides on Venezuela invasion, US official says - Cincinnati News, Weather, Sports from FOX19 NOW-WXIX\",\"Encinitas, CA, 92024, United States\",\"To Accomplish Goals, Young Stars Know They Need Each Other\",\"Brazil ready to avenge 2014 World Cup humiliation by Germans: Thiago Silva\",\"Watch: Large gator pays a visit to Florida middle school\",\"A Woman\\u2019s Guide to Preventive Care by the Numbers\",\"Canada adds jobs for 10th straight month with boost in full-time work\",\"Lurline \\u201cLur\\u201d Marshall\",\"BREAKING: Police investigate Eastbourne sex assault\",\"Which area high schools can win state team wrestling titles?\",\"Over 200 arrested at Sydney music festival\",\"Chemsex ended in tragedy 'after dominant partner fell asleep leaving submissive lover to die trussed up with gas mask on'\",\"Home Movies/Out on Digital: Aug. 31, 2017\",\"2degrees sponsors NZ rugby teams competing in Super Rugby competiton\",\"BRIEF-Biogen licenses Phase 2 Anti-Tau antibody from Bristol-Myers Squibb\",\"HUD estimates half a million low-income LA renters at risk of losing homes\",\"Off-target Novak Djokovic does enough to reach round three in French Open\",\"Canada's home prices driving up mortgage debt\",\"England U21 vs Scotland U21 live score and goal updates from the European Championship qualifier\",\"Rally: Over 100 participants pledged towards spreading awareness about vector and water borne diseases\",\"Man high on PCP crashes van, shoots at random cars in Cleveland, police say\",\"Poet Imagines Life Inside A 1910 Institution That Eugenics Built\",\"It looks as though it could be after Easter before Pennsylvania punters get paid\",\"Increased Truck Traffic on Ingraham Trail (Highway 4)\",\"Certamor is for sale on BrandBucket\",\"Nominations being accepted for Coles County Farmer of the Year\",\"Riverhead quarry attacker appeals conviction\",\"Fed raises rates by 0.25%, sees one more rate hike in 2017\",\"Omoworare Applauds Workers, Calls For More APC Support\",\"County Considers Shifting Juvenile Justice Mental Health Services to Private Company\",\"Huge mansion in Wales worth millions was sold to a charity for \\u00a31\",\"Terrifying Coronation Street scenes as Gary and Sarah run for their lives from Phelan\",\"Joliet Park District Picks Rick Springfield To Replace Huey Lewis At Taste Of Joliet\",\"Santa Barbara | Investigation launched into alleged threats | The Tribune\",\"Exploratory Drawing\",\"Livingstone real estate market seeing more sales than Rocky\",\"Notre Dame Evaluating 2019 DB Jalen Graham\",\"Walmart offers employees new perk: cheap access to college - WAFB 9 News Baton Rouge, Louisiana News, Weather, Sports\",\"Gary Sanchez pokes through 0-for-19 slump at plate\",\"New scanning technology tackles safety from all angles\",\"Jonny Bairstow: England have let Joe Root down\",\"Bishop Miege alum Dawson Downing shines at Mizzou spring football game\",\"Oil Tycoon Batista Gets 30 Years In Jail\",\"London fire - Queen pays tribute to victims of Grenfell Tower blaze\",\"Alejandro Valverde takes victory at end of aggressive day of racing at Ruta del Sol\",\"British Journal of Photography\",\"Congress seeks normalcy, heads back to work after shooting\",\"Golf: Tiger, learning to win again, seeks sixth victory at Jack's place\",\"Wisconsin wins Cotton Bowl 24-16, only Western Michigan loss\",\"2 killed and 11 injured in a bus accident in Jeypore\",\"Human remains found near Whistler, B.C., linked to missing Australian woman\",\"EPI CLUTCH KITS FOR POLARIS GENERAL\",\"Man gets life for ambush that killed woman, 4-year-old girl\",\"Ex-UNC standout Dee Hardison dies; played 11 years in NFL\",\"San Jose, San Francisco fight against human trafficking\",\"TSB's app and online service down again as bank tries to fix problems\",\"Oncore Unveils C-Series Convertible Component System\",\"Letter: As a society we need to discuss this\",\"Inside Melania\\u2019s all-white ceremony look\",\"Scotland No1 Craig Gordon defends his role in England goals\",\"47% off Earth Pak Waterproof Dry Bag Compression Sack And Phone Case - Deal Alert\",\"Pink Goes Red for hearts - KAIT Jonesboro, AR - Region 8 News, weather, sports\",\"Basketball fraternity mourns death of teen player\",\"Body in Montana River Investigated as Possible Homicide\",\"Marijuana-based products showing up in shops around SA. Are...\",\"World Cancer Day today: Call for equal access to reduce premature cancer deaths by 25 per cent\",\"Syrian child refugees taught to release stress and resist recruitment\",\"Bodega clerk assaulted with avocados, bananas according surveillance video\",\"Armenian acting PM calls for a meeting to seek solutions to political situation\",\"New play opens tour in Oban\",\"Kyle Long Kicked Out Of Practice By Bears\",\"'Gotham' Recap Season 4, Episode 11 - 'Queen Takes Knight'\",\"Olivia Culpo and Patriots boyfriend will probably have sex this Sunday\",\"Future cities will adapt like living organisms: Alibaba tech expert\",\"Cardinals sign Benson Mayowa to 1-year contract\",\"Pursuit reaches speeds of 106 mph, ends in Fargo\",\"Top industrialist calls for path to set new Zimbabwe currenncy\",\"Celebrate the summer with light, fruity cocktails\",\"Art and Theater Tidbits\",\"Union Minister Hardeep Singh Puri hands over 210 flats to allottees in East Kidwai Nagar in Delhi\",\"Brazil's Petrobras raises gasoline prices by 0.7 pct\",\"Protection Sought for New Mexico Park's Geothermal Deposits\",\"NPD's Video Game Sales Data For September: What To Expect\",\"Grab a pizza tomorrow and help some deserving kids\",\"The FISA Abuse Memo will be 100% Accurate\",\"Granville fire destroys Granby Road business\",\"Court Remands 5 For Illegal Importation Of 661 Pump-Action Rifles\",\"Massachusetts man rescued as his car was sinking into frozen pond\",\"Sen. Dan Sullivan Outlines The Current State Of The Iran Nuclear Deal\",\"Chancellor Philip Hammond has been 'hijacked' by his pro-Brexit colleagues\",\"Chicago-area woman accused of stalking Jackson County Judge John McBain\",\"Volkswagen India sales up 69% in December\",\"Mayor will undergo modest surgery for stage-1 breast cancer\",\"China approves 9 Trump trademarks previously rejected\",\"Japan to seek assurance of U.S. defense pledge, including nuclear deterrence\",\"62 Ribu Aparat Gabungan akan Jaga Pilgub DKI Puta\\u2026\",\"RPT-FACTBOX-Berkshire Hathaway, Warren Buffett at a glance\",\"Couple who allege they were victims of ongoing campaign of Garda harassment settle action\",\"UPDATE 1-Top investor warns Canada, US infrastructure plans to take time\",\"Supreme Court seeks Centre\\u2019s reply as Amol Palekar challenges Censor\",\"8349 Pioneer Rd\",\"Trump planning tariffs against EU on steel, aluminum\",\"Mighty Mike too hot for Barney in thrilling Dutch derby\",\"WATCH: Seahawks\\u2019 Quinton Jefferson tries to get at Jaguars fan; NFL to probe wild finish\",\"Samsung Galaxy S9 to feature an iris scanner with improved hardware and software for safer financial transactions\",\"French soldier killed in Mali in clash with militants\",\"Humans of Indore - Kirti Dixit, an \\u2018adhesive\\u2019 for couple on the edge of separation\",\"ANZ considers IPO for NZ finance business\",\"How to cope after watching Facebook murder suspect\\u2019s video\",\"Samsung updates the Galaxy S8 to a less-old version of Android\",\"Oh Sees - \\u201cDrowned Beast\\u201d Video\",\"Gigi Hadid Wears Gold Makeup Look for 23rd Birthday\",\"Stocks slip after jobs report but gain for the week\",\"Corrupt can't hide: India's Modi defends war on graft\",\"Apps on Google Play\",\"English must confirm we still stand by our principles on UN resolution\",\"Bulgargaz pedicts a 6% Decline in Natural Gas From October 1\",\"'Major Incident': Two in Critical Condition After 'Unknown Substance' Close to Salisbury Skripal Attack\",\"Lawyer who alleged 'plot' to frame Trump joins legal team\",\"A poodle named Megan is one of \\u201812 strays\\u2019 ready for adoption at Whatcom Humane Society | The Bellingham Herald\",\"Ravenswood district gets $1.5 million grant for teacher development\",\"Cristiano Ronaldo handed five-match ban for referee push\",\"Growing University of Indianapolis Hires New Executive Director of Facilities\",\"More Star Trek stamps? Make it so, says Canada Post\",\"Kraft Heinz (NASDAQ: KHC): Good M&A May Come To Those Who Wait\",\"Going on holiday, cooking and ARGUING are the best ways to get to know your partner\",\"Exchange Restaurants Open to All Installation Visitors, Civilian Workers\",\"Yeohlee Teng to Team With Richard Serra for Phoenix Art Museum Installation\",\"Nando's is giving away FREE chicken to all A-level students\",\"Riyadh to offer desirable services to Iranian pilgrims\",\"AMR creates new tactical medic team in Las Vegas - FOX5 Vegas - KVVU\",\"Nigeria: Despite FEC Order, Fuel Scarcity Bites Harder Across Nigeria\",\"Hurley\\u2019s files court action over \\u2018Ivanized\\u2019 store\",\"Got a loud, barking dog? You could be fined $25K\",\"Tarkwa Nsueam records four deliveries on New Year\",\"PCC Eco fair: Change starts with the individual\",\"Storm Team 27: Mostly cloudy, snow tonight\",\"MPs lock horns over estate agents bill\",\"David King Sells 300 Shares of Morguard Corp (MRC) Stock\",\"Karnataka: Implementation of Sadashiva Commission report may backfire on Congress\",\"Desire for sugar eliminated in mice by rewiring brains\",\"Neogen buys Brazilian pesticides firm Rogama\",\"America's Next Top Rest Stop: An App Compiles The Best Gas Station Bathrooms\",\"Illinois Senate approves resolution asking police to recognize neo-Nazi groups as terrorist organizations\",\"Earth at night is dazzling (and disturbing)\",\"Christina Nordby\",\"Scientists baffled as to how they got there\",\"Canadian robotics firm Clearpath gets foot-in-the-door at U.S. Toyota plant\",\"Paul McCartney rocks Sydney with three-hour set packed with Beatles classics and more\",\"Dolce & Gabbana mocks critics of Melania Trump with a $245 T-shirt\",\"PepsiCo profit beats on demand for healthy snacks, drinks\",\"teenage girl pulls knife against classmate\",\"UAE free ads classified online\",\"From dates to dark chocolate: 5 healthy foods to satisfy your sugar cravings\",\"President Trump Returns to New York City as Protesters Flock to Trump Tower\",\"Santa Village lights up Ingersoll\",\"Cognitive Search and the Intelligent Workplace: Learning Starts With the Basics\",\"Watch video of Newcastle United fans chanting about struggling Sunderland\",\"Inactivity Does Not Cause Obesity; Obesity Causes Inactivity, Study Reveals\",\"Two Wheeler Tires Market\",\"Frank Clark hopes Nottingham Forest's past can be the inspiration for Mark Warburton's Reds to make history of their own\",\"Disabled in war, Afghan soldiers seek a living on the streets\",\"Sanchez nets on home debut for Man U win vs Huddersfield\",\"Hall of a moment: Tough guy Morris breaks down over election\",\"United changes crew booking policy after passenger dragged off plane\",\"NBA Draft 2018: LiAngelo Ball works out for Lakers as Lonzo looks on\",\"'Undervalued' GPs fuelling a 'crisis'\",\"Progressive Politics on Talk Radio\",\"Injury forced Blue Jays' Estrada to focus on finesse\",\"The Docker Book: Containerization is the new virtualization\",\"Icon Explorer 4.3.2\",\"Tree planting initiative to honour fallen soldiers\",\"Fiserv To Acquire Monitise For Digital Banking Push\",\"No lines, no registers, no fun: Amazon Go\\u2019s sterile future\",\"BRIEF-GoGold says \\\"actively exploring\\\" alternatives to de-lever balance sheet\\u200b\",\"Canada\\u2019s peacekeeping contribution reaches new low despite Trudeau\\u2019s promises\",\"Metropolitan Police: It may take 'many months' to finish Skripal investigation\",\"Matheson's first of season wins it for Panthers in OT\",\"U.S. bond, rates futures, options hit volume record: CME\",\"Americans say government is broken. Can it be fixed?\",\"Trump backs Staten Island Republican against former Rep. Michael Grimm\",\"$15 to dump rubbish at tip\",\"HNA group: China conglomerate boss Wang Jian dies in Provence\",\"BOSTON MARATHON: Tony Cerminaro Sr. of Jermyn wins his age group\",\"England are miles behind rivals and no magic wand can close the gap, admits Gareth Southgate\",\"The Latest: Energy Department details Perry's trips by air\",\"Suicide car bomber outside Mogadishu airport kills 3: Police\",\"'Amateur' bomber targets New York commuters; suspect held\",\"Da Vinci rapist \\u2018breaches jail release conditions\\u2019\",\"U.S. tariffs might move Puma production out of China\",\"Canon EOS 77D Release Date, Price and Specs\",\"Franklin Wireless Announces Second Quarter Fiscal 2017 Financial Results\",\"Google to use balloons for Puerto Rico phone service\",\"Stranded livestock rescued from WA floodwaters with dinghy and jet ski\",\"It\\u2019s Become a Style Statement to Wear Handloom, Says Designer Gaurang Shah\",\"Jessica Origliasso shares cryptic message about relationships following her split with Ruby Rose\",\"John Mellencamp, Other Performers Coming To State Fair\",\"AP Explains: How computers \\\"see\\\" faces and other objects\",\"Welcome to Week to Wheelin' 2017: Day 1 #Week2Wheelin2017\",\"Versus Systems, Inc. CEO and Founder Matthew Pierce Tapped for Entertainment Technology and eSports Conferences\",\"Nebraska Supreme Court Justice Wright dies at age 72\",\"CNBC Excerpts: CNBC Live Interviews From Recode\\u2019s Code Conference\",\"Alphabet\\u2019s smart home bet is still a gamble\",\"Cambridge Analytica: Warrant sought to inspect company\",\"Garda chief to say suspect deaths were \\u2018overlooked\\u2019\",\"Man charged with attempted murder after motel shooting\",\"US states with the weakest gun laws in 2017\",\"A journalist reappears, and Russia cries foul\",\"Move over Cronut: Molten cheese tarts, a Japanese dessert craze, coming to Orange County\",\"Police identify man found dead in Gold Bar though autopsy inconclusive\",\"Sessions defends Trump's Charlottesville response: President opposes 'radical, racist bigotry'\",\"Ridge expects to leave Texas medical center before Christmas\",\"Milwaukee\\u2019s Adult Drug Treatment Court Saves Lives Through Long-Term Recovery\",\"Police: Man found dead in tent at Speedway from Illinois - KFVS12 News & Weather Cape Girardeau, Carbondale, Poplar Bluff\",\"Indore: 6 government colleges fail to update AISHE with necessary info\",\"Main indicators of world commodity, stock and currency markets (02.03.2018)\",\"Courtney Pieters' alleged killer sent to high court for trial\",\"January 26 will never be accepted as a day for celebration\",\"RPT-INTERVIEW-Le Pen says euro a deadweight, capital controls an option if she wins power\",\"Premier League AT HALF: City down to 10; Hull leads\",\"WWE Raw results, recap: A wonderful Ultimate Deletion, Brock Lesnar's return\",\"Sidharth Malhotra proposes Priyanka Chopra on Valentine's Day\",\"Bella Hadid Explains Why She Cried During Two NYFW Shows\",\"Stolen car leads to search for suspect on city\\u2019s west side\",\"MOVES-Merrill nabs top Morgan Stanley broker for Latam business\",\"Ruvheneko takes on critics\",\"MidAtlantic City Scoop: Construction Starts in Richmond\",\"CBSE Class 12 economics paper re-test tomorrow\",\"Nigeria: New initiative calls for safety of journalists online\",\"Va. lawmakers denounce feds\\u2019 decision to withhold transit funds\",\"After All-Day Drive From Chennai, Sasikala Now Jailed In Bengaluru\",\"Department Stores Retailing - Market Demand, Growth, Opportunities and Analysis of Top Key Player Forecast To 2022\",\"Fuss & O\\u2019Neill Names Bouvier Owner of Manufacturing Solutions\",\"One dead in motorcycle accident in north Charlotte\",\"Baghdad suicide car bomb blast kills 32: police\",\"Gilmore, Mary Lee, Long Branch\",\"Bitcoin Price Technical Analysis for 01/02/2017 - Starting the Year with a Bang!\",\"Brothers Osborne Share Backstage Moments from Grammys\",\"NYPD: Responding To Report Of Times Square Area Explosion\",\"Plant-made virus shells could deliver drugs directly to cancer cells\",\"Washington returning to Kentucky, Gabriel stays in NBA draft\",\"Wittenberg throws no-hitter against Ladies over weekend\",\"ArtDocFest Under Fire Over Ukraine Films\",\"Bono warns that existence of UN, EU and NATO are threatened\",\"Colts ready to celebrate Peyton's place in Indy's hearts\",\"Make the Diagnosis: Itchy Fingers from IV Therapy?\",\"Child Health Experts Urge Facebook To Pull Plug on Messenger Kids\",\"Deal of the Day: Save an extra 66% on Omaha Steaks\",\"Small Batch Coffee Roaster Opens On Catalina Island\",\"Alabama tourism promoting April walking tours\",\"Baby formula maker calls global recall over salmonella fears\",\"Sleep Biology Discovery Could Lead to New Insomnia Treatments That Don't Target the Brain\",\"Turkish mobile gaming firm Gram 'committed to UK and NOT worried about Brexit'\",\"AP PHOTOS: Editor selections from the past week in Asia\",\"Pusha-T Discusses Drake Diss on \\u201cThe Breakfast Club\\u201d: Listen\",\"EU leaders try to clear \\\"unnecessary irritants\\\" before Brexit talks\",\"(Leah Hogsten | The Salt Lake Tribune) From left, Rosalyn Coleman...\",\"UPDATE 1-Miners threaten Congo with legal action over mining code\",\"Australia lagging on autonomous vehicle initiatives: Telstra\",\"Woman on mobility scooter weaves through busy traffic onto Memphis interstate\",\"Doctors 32-hour shifts\",\"Ed Sheeran Says GRAMMY Snub Was \\u2018Meant to Be\\u2019\",\"Family working to get AED's in schools throughout Cabell County, - WOWK 13 Charleston, Huntington WV News, Weather, Sports\",\"Countering Kortunov's bizarre case for Russia partnering with 'Deep State'\",\"San Diego and Tijuana mayors reaffirm partnership - CBS News 8 - San Diego, CA News Station - KFMB Channel 8\",\"Istanbul Shooting On New Year\\u2019s Eve: 39 Dead Inside Reina Nightclub\",\"Twitter Cant Get Enough Of Virat Anushkas Wedding\",\"Costa Papista out as Flint Firebirds president\",\"US netizens amazed by China's high-speed trains\",\"Here is how Bollywood wishes Anushka Sharma-Virat Kohli happy married life\",\"Boeing to lay off hundreds more engineers -source\",\"Two French Military Helicopters Crash Killing 5\",\"Lanza pens bill to ban sale, ownership of gun 'bump stocks'\",\"Sonam Kapoor Calls The Idea Of Grand Wedding DISGUSTING: What'd Aishwarya & Anushka's Reactions Be?\",\"Ex-Nusra vows to fight on in Syria, denounces de-escalation deal\",\"The Perplexing Psychology Of Saving For Health Care\",\"Trump specifically condemns 'white supremacists'\",\"iPhone sales are much stronger than some seem to realize\",\"Nevada Fishing Report, June 14, 2017\",\"Lance Gross Debut Of Macro\\u2019s \\u2018I Turn My Camera On\\u2019\",\"Predators GM David Poile optimistic P.K. Subban returns soon\",\"Welcome spring with beautiful brunch recipes\",\"Gloria & Nida: \\u201950s queens\",\"Dairibord narrows losses\",\"The Latest: Man who 'swore in' Kenya's Odinga arrested\",\"Mother of Burnaby crash victim 'in shock' for years after daughter's death\",\"In California\\u2019s Imperial Valley, Residents Aren\\u2019t Waiting for Government to Track Pollution\",\"Cape Town's water crisis highlights city's rich-poor divide\",\"The best 50 golfers in Jackson-area history\",\"Liverpool news: Sergio Ramos trolled for video after Mo Salah injury\",\"Spain: No dialogue until Catalonia drops independence bid\",\"Autism friendly North Wales guide of great things to do\",\"Mother told to pump milk in men's restroom at Chicago court\",\"Jared Goff went undercover to prank a college team as the new QB transfer\",\"Dad of Yassar Yaqub challenges IPCC chief to live TV debate\",\"Americans break through to Boston Marathon podium\",\"You'd be barking mad to miss Friday's AgroTrend special\",\"Accused child molester beaten by fellow prisoners\",\"Repairing Kannur\",\"See inside new kids' climbing attraction at Leicester activity centre\",\"Judge orders reopening of DACA, after 90-day delay\",\"CPL tickets available online\",\"Joel Barlow 227, Weston 238\",\"Hemet mother, 3-year-old daughter killed in Fresno car crash\",\"Missouri\\u2019s governor to resign Friday\",\"Nigel Farage says \\\"humiliated\\\" Irish nation should...\",\"The Tufts Daily\",\"Miguel Sano Overcame Death of Child, Suicidal Thoughts to Reach MLB Superstardom\",\"Tseshaht surrounds young ones with communal strength at 2018 Baby Welcoming\",\"Croatia World Cup 2018 squad and team guide\",\"This is heaven for soup lovers\",\"UEFA Champions League: Real Madrid Draw PSG, Chelsea Play Barcelona In Last 16\",\"2017 Stanley Cup Finals Game 6- Pittsburgh @ Nashville\",\"Davies is at the double to send Denbigh fourth\",\"Chelsea star in discussion with PSG director over possible switch to France\",\"Norway confirms cause of fatal Airbus helicopter crash in 2016\",\"Javi Gracia's verdict on Watford's January business\",\"Lis Pendens for August 3, 2017\",\"Lady Marauders blank River Valley\",\"As chambers negotiate on property taxes, intra-GOP tensions flare\",\"Penguins G Matt Murray close to return from concussion\",\"Express Employment Professionals Hosting Event to Benefit American Heart Association\",\"Indiana court weighs challenge to execution drug selection\",\"VW seeks to delay trial after lawyer\\u2019s dubious comments\",\"Smashed toy politics with no adults in the room\",\"Bulls beat Celtics 101-94; Thomas plays after sister's death\",\"With Republicans in charge, state legislatures see flood of activity on abortion bills\",\"VW to launch car-sharing with electric vehicles in 2019\",\"Denver officer who shot juvenile cleared of wrongdoing\",\"Study offers hope, sheds light on how vets respond to trauma\",\"Residents in South Tyneside are invited to share flood stories\",\"5 Saints who MUST step up in 2017\",\"Cam Newton: It's funny to be questioned about pass routes by 'a female' reporter\",\"Kairana, Palghar other Lok Sabha, assembly bypoll results 2018: Look at what's at stake\",\"AppRiver partners with equity firm, expects global expansion\",\"\\u00a3100m in Government-backed loans for Carillion...\",\"Used EVs are cheap, and still good\",\"May 31, 2018 Digital Edition\",\"Lions coping fine without AFLW star Harris\",\"Teen Choice Awards: Lori Loughlin shows off her daughters\",\"MPAA head says theaters will survive rise of streaming sites\",\"Shelter\\u2019s hilariously honest adoption ad for \\u2018b**tard' cat\",\"Wakefield home service company celebrates 25 year anniversary\",\"Kernwood Announces Acquisition of Additional Shares of Black Diamond Group\",\"Chiefs top Chargers to finish atop AFC West\",\"Where to celebrate National Shrimp Day in Las Vegas on Thursday - FOX5 Vegas - KVVU\",\"Tell us the charges or free Taiwan activist, Taipei tells Beijing\",\"Let\\u2019s tax carbon and give the money back to American households\",\"Nature center, shuttered since Katrina, reopens in New Orleans East\",\"Cultivating and practising good work ethics\",\"Plantation, Sunrise area crime reports\",\"Condo Cruising - MSC Seaside has the ultimate rooms with a view.\",\"Former lawmaker pleads guilty to identity theft - Cincinnati News, FOX19-WXIX TV\",\"New York City plans to force Uber to add tipping option\",\"The Worlds Most Popular Rugby League Website\",\"Canary View camera offers home security, peace of mind for less than $100\",\"Conservative seat lead narrows as Liberals sink, seat projections show\",\"Health insurers savage Bill Shorten's 'disastrous' premium price plan\",\"Drinking problem: Ryanair wants UK airports to curb alcohol\",\"Comedian Ralphie May Dead at 45 After Cardiac Arrest\",\"RVH Eyes \\u2018South\\u2019 Campus\",\"Man arrested over murder of schoolgirl (6) on Scottish island\",\"Elon Musk can sell flamethrowers: California lawmakers won\\u2019t stand in way\",\"Consumer confidence bounces back in May\",\"From snow day guidelines to gun laws, new regulations take effect in Ohio\",\"'Rogue One' tops box office for third straight weekend\",\"Jimmy Page and Robbie Williams' planning row rumbles on\",\"Lonza to seek shareholder sign-off on 2.3 bln Sfr rights issue\",\"Rihanna, Katy Perry, Snoop Dogg, Cardi B, Others Rally Behind Bullied Boy\",\"Film Clips: March 30, 2017\",\"Sarah Sanders shuts down CNN star Jim Acosta's grandstanding\",\"New Law Will Attract Investments Into Auto Sector - DG NADDC\",\"All Blacks captain Read returns in Crockett's record match\",\"Planned Trump order will discourage hiring of low-wage foreign workers\",\"Geri Horner wants more children\",\"U.S., Russian military leaders to meet in Azerbaijan -statement\",\"Hyatt heir Pritzker opens Democratic bid to unseat Illinois governor\",\"Police charge man in downtown hit and run\",\"WA Portland OR Zone Forecast\",\"Chris Brown allegedly 'sucker punched' photog\",\"Hurricane Shelters opening in Mississippi\",\"Usain Bolt meets Michael Phelps at Laureus Awards\",\"Blow for Sturgeon as 60% Scots oppose independence vote\",\"Raiders keep same draft approach under new coach Gruden\",\"Danger ahead: alarm as predatory teachers prey on school children\\u200b\",\"BRIEF-Athenex says raised $20 mln in debt financing\",\"B.C. VIEWS: Cannabis Day celebration put off until October\",\"Coyotes attack blind husky, owner fights them off with a bat\",\"LHC to take up contempt plea against Nawaz\",\"Albert Pujols makes his spring debut in Angels\\u2019 victory over Rockies\",\"Apprentice's Jessica Cunningham devastated after father of her three children is found dead\",\"Run classic 1980s Apple Mac games and applications in your browser\",\"Expert: Diversifying Cybersecurity Starts with \\u201cTargeted Recruiting\\u201d\",\"Trump\\u2019s NAFTA Plans Are On a Collision Course With Absolutely Everyone\",\"JDF battalion for MoBay\",\"A Reminder, Dear Christian.\",\"Crew member killed after Blackhawk helicopter crashes on Maryland golf course - VIDEO: Army Blackhawk helicopter crashes on Maryland golf course\",\"Grand slam title could spur Thomas to more\",\"Bal Masque returns in 2016 with Dr. John, Mario Batali at the Orpheum Theater\",\"Man accused of car-ramming in Charlottesville remains jailed\",\"Man shot in neck on W. Capitol St. - MSNewsNow.com - Jackson, MS\",\"Travel insurance: Doing THIS during your ski trip could VOID any accident claim\",\"Forest City sweeps North Iowa, Weekend wrestling results\",\"Santa Barbara Associates Celebrates 30 Years\",\"New hope for Coast men with prostate problems\",\"Mansarovar yatra: Defence Ministry would offer support whenever necessary, says Sitharaman\",\"Donald Trump Dodges Questions At \\u201cPress Conference,\\u201d Cries \\u201cFake News\\u201d\",\"M25 crash sees two women killed and 10-year-old girl in life-threatening condition\",\"Arkansas governor backs record executions, saying families need closure\",\"Asia stocks rebound, euro pulls off lows as Italy anxiety cools\",\"Latin-American Films Showcased in Series at UWM Cinema\",\"Amyra Dastur steps in to fill Lisa Haydon's shoes; bags The Trip's second season\",\"Police investigating suspicious package found in southwest Oklahoma City\",\"Mohammad Amir gets visa, travels to UK on Wednesday\",\"WWE News: Seth Rollins says The Undertaker should retire\",\"Officer Shoots, Kills German Shepherd After Dogs Go On Attack In Oakland\",\"Trent Zimmerman: the postal vote is a long way from my first choice\",\"Curb Your Enthusiasm also leaked in HBO hack (The 3:59, Ep. 266)\",\"Suu Kyi's party wins nearly half of Myanmar by-elections\",\"BRIEF-Zilliant says has raised $30 mln in financing from Goldman Sachs\",\"Oxmoor Center Sears to close - wave3.com-Louisville News, Weather & Sports\",\"Bangladesh minister says wants to \\\"wipe out\\\" Manila bank for heist role\",\"Lakeland Ladykillers open house\",\"Recent Congo violence could amount to war crimes - ICC prosecutor\",\"Fairview Park City Schools add new curriculum for 21st century learning\",\"Central Wins Second Straight in Nail-Biter over Bluestone Barons\",\"Arch Capital Group Ltd. (ACGL) Issues Earnings Results\",\"Madonna\\u2019s Nip Show On the Cover Of ItalianVogue\",\"Should England stick or twist with tactics for Sweden clash?\",\"Woman struck and killed by self-driving Uber vehicle\",\"Police kill notorious robber in Imo, arrest suspect in morgue\",\"MARKET SNAPSHOT: Dow Leaps, Poised To Reclaim 22,000 As Geopolitical Fears Ebb\",\"Dylan Hartley's presence in camp more important than minutes for Northampton, insists assistant coach Paul Gustard\",\"2 of America's Best Burgers Are Just to the West of Idaho\",\"Whooping cough\",\"Envoy says Maldives will not extend state of emergency\",\"Artist Sudeepti Tucker On Illustrating Modern & Powerful Women Enveloped In The Calm Riot Of Nature\",\"Factbox - Who are Egypt's Coptic Christians?\",\"Researchers Take a TEAM Approach to Haiti's Development Challeng - Beckley, Bluefield & Lewisburg News, Weather, Sports\",\"McDonald\\u2019s Hiring 250,000 Employees Using Snapchat\",\"Why I\\u2019d rather rely on the kindness of strangers than drive\",\"Medicare launches revamp for heart attacks, hip fractures\",\"Ladies Auxiliary holds steak dinner for families affected by Gore St. fire\",\"Pregnant Woman Rescued From The Detroit River\",\"From Broken Guitars to Broken Noses: Assessing The United Airlines Customer Service Fiasco\",\"FIFA World Cup 2018: Uruguay's Edinson Cavani likely to miss out on quarter-final clash against France\",\"What's News: April 18, 2017\",\"New Kansas governor names budget director, makes staff changes\",\"10 Back to School tips for West Michigan parents\",\"Christians Who Oppose Roy Moore Shouldn't Celebrate MLK Jr., Theology Prof. Argues\",\"The 10 best rugby mad pubs and bars to cheer on the 2018 Six Nations Championship\",\"4 children die in Texas gas poisoning; others injured\",\"Mets' Noah Syndergaard: Nearing mound work\",\"U.S. steps up security for U19 basketball tournament in Egypt\",\"Thieves target cars left on Derbyshire\\u2019s snowy roads\",\"Durden drafted by Red Sox\",\"Man 'beat girlfriend, 32, to death with metal pole before chopping up body and flushing it down toilet'\",\"Office Furniture Market: An Array of Graphics and Analysis of Major Industry Segments\",\"Dodgers' Yasmani Grandal: Bops 12th homer\",\"Check forgery suspect allegedly runs over Longmont police officer, manhunt underway\",\"How Delaying Vaccines Affects Your Kid Later In Life, According To Science\",\"Watch Suits Season 6 episode 14 live online: Mike and Harvey team up\",\"What Jose Mourinho screamed at Ederson during Old Trafford tunnel bust-up\",\"Airtel announces network expansion plans for Gujarat, will roll-out 6000 new sites and 2000 KMs of optic fiber\",\"Blood-carrying drones could save lives in the U.S. Here's how\",\"Cancer-stricken Mercyhurst professor on sailing journey with wife dies\",\"Alabama Secretary Of State Explains Why He's Backing Roy Moore\",\"Global Geiger-Mueller Counters Market Report 2018 By Industry Growth Forecast Analysis by Manufacturers, Regions, Types and Applications\",\"Candy company introduces gummy beers\",\"Stocks Crushed After Caterpillar Warns of Peak Margins\",\"Gold steadies\",\"BRIEF-Catapult Group appoints Joe Powell as CEO\",\"The Polls Agree: Jones Leads Moore By 10\",\"6 Sneakers Every Man Needs to Own for Spring 2018\",\"Mass. Police Officer Faces Disciplinary Action For Facebook Response To Charlottesville Crash\",\"The Hub: the spot for SU entrepreneurship\",\"San Mateo: Prostitution ring mastermind sentenced to 46 months in prison\",\"Official: Prisoners escaped solitary recreation areas\",\"How Paul McCartney's words of wisdom helped my family leave the USSR\",\"Syracuse Crunch drops season-opener to Rochester Amerks\",\"Slovak Foreign Minister Says Premature to Talk About Ukraine's EU Membership\",\"White House says \\u2018no plans\\u2019 to fire special counsel Mueller\",\"Four Kentucky National Guard soldiers facing charges after alleged sexual ass...\",\"The global artificial pancreas device system market is anticipated to reach USD 390.4 million by 2024\",\"LIM Alumna to Students: See Setbacks as Lessons to Grow\",\"Brokering Equality\",\"North Texas Twins Born in Different Years\",\"Scenes For The Mackinac Island For An Annual Policy Conference\",\"What Sam Johnstone said after completing his move from Manchester United to West Brom\",\"Pentagon to allow transgender people to enlist in military\",\"Lawyer says Chester parolee for 1973 murder will be released soon\",\"Usually reserved Patriots to be busy in this year's draft\",\"Everton agree personal terms with Ajax captain Davy Klaassen ahead of \\u00a326million move to Goodison Park\",\"[WATCH] Exclu \\u2018Dirk Gently\\u2019s Holistic Detective Agency\\u2019 Season 2 Clip\",\"25 killed in Thai road accident\",\"Richard Osman reveals his fears over Pointless 'shelf life'\",\"Numbers don\\u2019t agree on when a mortgage will be paid off\",\"Kirti Chakra for five security personnel\",\"Oroville Spillway crisis sheds light on failing infrastructure\",\"NJ Chief Justice Throws Support Behind Judge Pay Raise Bill\",\"Charles Oakley does not want Lamar Odom on his BIG3 team\",\"Jury Begins Deliberations In Taylor Swift Groping Trial\",\"Todd Bowles considers making roster moves\",\"Notorious Russian computer hacker behind bars in Connecticut\",\"Most DC Homicide Victims This Year Are Teens or Children\",\"Tennessee Education Lottery Educator of the Week: Debbie Morris\",\"Binani insolvency: UltraTech cites order on Bhushan, Dalmia rebuts plea\",\"Candidates for office in Nevada County make final campaign disclosures before June 5 election\",\"Gauri Khan pairs her bohemian top with the perfect jeans and heels\",\"Couple to ride across Indian desert to raise \\u00a31m for elephants\",\"Review: Liam Gallagher struts his stuff on 'As You Were'\",\"Rockies' Antonio Senzatela: Tosses seven scoreless innings in win\",\"Would you rather buy tickets to the Olympics or the Super Bowl?\",\"750 parts galore\",\"BREVITY's Nonfiction Blog\",\"What's Behind Turkey's Decision to Repatriate Its Gold From US\",\"Friday\\u2019s Quick Pick/Poem: A Heart for Life\",\"Medical Marijuana for Children with Cancer? What Providers Think\",\"Things you should never discuss at work\",\"\\\"Erie Lock Up\\\" to Benefit Muscular Dystrophy Association on Thur - Erie News Now | WICU & WSEE in Erie, PA\",\"Zendaya Calls Out Injustice In The U.S. [VIDEO]\",\"Sex assault charge laid after women flee southwest Calgary home\",\"Compelling report must end harmful carding practice by police: Opinion\",\"The Latest: Turkey detains 147 IS suspects in past week\",\"Scottish schools facing further round of government reforms\",\"Flamengo hire Colombian coach Rueda\",\"Superhuman bravery of Lancashire's men\",\"Bird Watching\",\"Iran arrests 'Sultan of Coins' suspected of hoarding gold\",\"Kyle Larson understands Chase Elliott\\u2019s struggle to get first Cup win\",\"Congressman Scalise shot at baseball practice is avid sports fan\",\"Inez Owens - 101.7 WGOG\",\"British Army schools promotion \\u2018endangered children\\u2019\",\"Wildfire destroys over 100 Colorado homes ahead of holiday\",\"Court papers reveal more detail about Halloween night gang shooting\",\"and reveals the incredible gesture he received from team-mates\",\"Gates foundation to spend over $300 million in Tanzania in 2017\",\"Couple admits to crashing wedding; bride finds stunt funny\",\"Rid America of teenage gun culture with effective legislation | Letters\",\"Guatemala: 5 Dead, 7 Injured in Magnitude 6.9 Earthquake\",\"Dramatic rescue saves 7 horses from icy death in frozen-over slough\",\"Judge dismisses rape charge against former San Francisco 49ers defensive tackle Ray McDonald\",\"Defendant in football player's death says he fired into air\",\"The end of democracy in Turkey and other comments\",\"Rose and Rosie: 'We don't really have a filter'\",\"It\\u2019s complicated: The Relationship between Federalism, Development, and Democracy\",\"Former BBC radio presenter Brian Widlake dies aged 85\",\"American border patrol agents stopping and boarding Canadian vessels: spokesman\",\"LifeLock, Inc. (LOCK) Receives Average Recommendation of \\u201cHold\\u201d from Brokerages\",\"Grades for all 30 MLB teams with 10 percent of the season in the books\",\"NFL will review chaotic end to Seahawks-Jaguars game\",\"Breastless and beautiful: Calendar project will give cancer patients financial help\",\"Send a letter direct to Santa this year\",\"Man charged with attempted murder\",\"'Who is Secretary of State here?': Rex Tillerson reportedly locked horns with Jared Kushner over his freewheeling approach to diplomacy\",\"Police ramp up search after concerns for woman's safety\",\"RPT-Credit Suisse scandal threatens Swiss efforts to clean up reputation\",\"HEALTH NOTES: Porn viewers could be damaging their brains\",\"Rizzo, Schwarber lead Cubs to 5-3 victory over Tigers\",\"Park Ridge announces streets to be resurfaced this year\",\"Callum Ilott: \\\"Becoming part of the FDA has changed a lot for me\\\"\",\"What is this fitting?\",\"Video shows police response, fleeing crowd at Vegas attack - wave3.com-Louisville News, Weather & Sports\",\"10 etiquette tips for the clueless tournament patron\",\"Yemeni rebels kill 20, arrest dozens in latest crackdown\",\"U.S. granted BP licence to operate joint North Sea field with Iran\",\"Al-Quds Stabbing Natural Reaction to Israeli Regime\\u2019s Terrorism: Hamas\",\"Zalow is for sale on BrandBucket\",\"Anzac Day 2018: When do Australia and New Zealand celebrate their fallen soldiers?\",\"Her Imports Reports Full Year 2016 Results\",\"IndyCar Windscreens To Be Put To Test\",\"National Hockey League\",\"UN Climate Projects in Congo Leave Locals Worse Off, Report Says\",\"Facebook Live Nurse Back To Work\",\"UP, Uttarakhand Assembly elections LIVE updates: Polling for 67 and 69 seats begins\",\"Letter: D Waite December 12, 2017\",\"Swinney wants his program to be consistent\",\"UPDATE 1-Vietnam's Petrolimex seeks April 21 local stock market debut, eyes overseas listing\",\"Theresa May calls snap general election for June 8\",\"Just 3% of this breast cancer helpline's donations spent on charity\",\"Blackpool: From the courts 14-08-17\",\"Russian diplomat denies role in scheme to help Trump win presidency\",\"Aspen man allegedly stole shotgun from dead stepfather\\u2019s house, report says\",\"Citizen journalists claim two National Newspaper Award nominations\",\"Joint Chiefs of Staff chairman speaks out on North Korea\",\"Brisbane '82 Games kangaroo operator was high on marijuana\",\"Heat's Derrick Jones: Stuffs stat sheet in summer league win\",\"Months of dredging contaminated sediment set for Pomptona 22 minutes\",\"Quit notice: Some leaders in North prompted out action - Yerima\",\"Ethics Commission finds probable cause against Cullman County judge\",\"Kucherov scores 2 to lift Lightning to 3-1 win over Oilers\",\"Clinton officials slam alleged Trump ties to Russia\",\"Oilweek\\u2019s Top 100, Sponsored By KPMG, Reflects An Industry Still Struggling To Find Solid Footing\",\"Taco Bell puts weddings on the menu\",\"Clifford rules out AFL move\",\"Pirates offense silent behind Ivan Nova in 2-1 loss to Cardinals\",\"Motor racing - Soccer injury rules Di Grassi out of Le Mans\",\"HTC U11 to support Bluetooth 5.0 devices when Android O is ready\",\"Plan to watch next week's eclipse? Think before you look! Those special eclipse glasses are crucial\",\"Detroit Lions should trade Matthew Stafford for Tom Brady\",\"Illinois House passes hemp farming bill\",\"Banks\\u02bc corporate, retail lending stocks rise in May\",\"Producer SM and UK Crooner Jordan King Release Nostalgic Banger 'Lady\\\" ft. Monique Lawz\",\"St George\\u2019s Day lunch helps mark Great War centenary\",\"Jury in Lac-Megantic trial cost $300,000\",\"Paris Jackson Leaves Dior Fashion Show Because Animals 'Whipped'\",\"Scotland aim to ambush Wales in Six Nations commando raid\",\"China bird flu deaths surge in what could be the worst season ever\",\"AFC Fylde fixtures 2018-19\",\"Panic! There\\u2019s a UK ice-cream shortage and it\\u2019s just hit London\",\"From the ashes: Life returns to Kasatochi volcano\",\"Rare Amur Tiger cubs born at Connecticut\\u2019s Beardsley Zoo\",\"BJP OBCs: Modi to connect today\",\"Saudi Prince Alwaleed made secret agreement with govt, process ongoing: BBG TV\",\"Jews for Jesus to speak on March 25\",\"Pound swings wildly as Prime Minister Theresa May calls for early election\",\"County approves skate park for Castaic\",\"The Eagle Way is similar to the Patriot Way: No egos\",\"Heavy rain floods city of Helen - CBS46 News\",\"The horrifying cost of a North Korea nuke attack: 1.5M dead in minutes\",\"What is Quest Kodiak aircraft? Seaplane PM Modi flew in from Sabarmati river in Ahmedabad\",\"Active Stock Picking: Idera Pharmaceutical (IDRA)\",\"Local man making his mark in Thai football\",\"Real Madrid News: Kylian Mbappe could be new Cristiano Ronaldo - Franck Leboeuf\",\"Perfume maker bottles scents of Montreal for city's 375th birthday\",\"Birmingham's Mental Health Services Are Failing Young People\",\"Kerala: Man on the run after killing son-in-law held\",\"Amtrak train braked before end of fatal Virginia crash - safety agency\",\"Topeka businessman acquitted in bankruptcy fraud case\",\"Moutin Factory Quintet: Deep\",\"The Museum of Failure is going to stay permanently in Hollywood\",\"Recalled all-rounder Mitch Marsh says social media trolls made him \\u2018feel pretty s**t\\u2019\",\"Discord comes to Xbox for integrated chats\",\"Father of B.C. homicide victim said he knew it was coming\",\"Texas youth prison guards allegedly choked teen unconscious\",\"France bans 'big screen' zones for World Cup over terror fears\",\"Google Smart Device Activates Using Progressive Talking Points\",\"Climbing the Big Leagues: CHS athletes, staff discuss the process of athlete signing for colleges\",\"Yeti Releases Official Statement on NRA After Boycott Talks Skyrocket\",\"People Flocking To Pengest Munch Reviewed Chicken Shops\",\"Attack snap Rangers\\u2019 seven-game win streak\",\"Police identify teen killed by trooper in gunfire exchange\",\"Pregnant Danielle Lloyd SLAMS body shaming trolls\",\"Former Providence union president placed on leave after arrest\",\"Cracking party for community\",\"Rays drop back-and-forth affair, split 2-game set with Blue Jays\",\"Father of Charlottesville victim Heather Heyer wants to stop the hate\",\"Breast Cancer Patient Speaks Out Ahead Of Paint The Park Pink In Fort Smith\",\"An advertising exec asked job candidates to apply via text message\",\"Hopes of green belt reprieve as plan is revisited\",\"Senate urges FG, states to set up free mental health stations in govt-owned hospitals\",\"Kylie Jenner\\u2019s In A Waist Trainer After Birth Of Stormi\",\"Giants 19, Redskins 10\",\"BRIEF-Maternus Kliniken FY EBIT down at 5.8 mln euros\",\"Arkansas Approves Draft Regulations to Curb Opioid Abuse\",\"Intro to Kumihimo\",\"Roy Cooper officially NC\\u2019s governor, tough battles lie ahead\",\"Okanagan maps make it easier to buy local\",\"West Australians targeted on social media in \\u2018sextortion\\u2019 scam\",\"11 yr old boy kidnapped, raped in Abu Hulaifa\",\"Dem Rep says Roy Moore poses a possible 'threat to safety' to Senate pages\",\"JA could earn up to $41 million annually from mushroom cultivation\",\"Trump to send astronauts back to the moon - and eventually Mars\",\"Bank of Montreal to offer mortgage-backed securities\",\"Elephant kills Argentine hunter in Namibia\",\"Has Taylor Swift's Ex-Boyfriend Tom Hiddleston Moved On? What About Her?\",\"Newborn found dead in vacant building; 3rd infant abandoned this month in N.J.\",\"Broadway Grosses: Week Ending 8/13/17\",\"India likely to have 520 million 4G subscribers by 2022: Ericsson\",\"BRIEF-Bank Handlowy Q4 prelim. net profit up 10.2 pct YoY\",\"SDC to Donate Portable Suction Machine to Spanish Town Hospital\",\"The Volcker Rule: Washington-Think At Its Worst\",\"Malcolm Mitchell explains why he loves 'Game of Thrones'\",\"Ex-Northern Territory police chief John McRoberts accused of blocking probe over affair with suspect\",\"Barcelona Appoints Eric Abidal as Club Ambassador\",\"FBI comes up empty at site of legendary Civil War gold\",\"\\u201cDefinite inconvenience:\\u201d Church of the Gesu parishioners upset over parking lot closure\",\"Losing Economic Trade\",\"Search in Tipperary for missing teen Elisha Gault enters third day\",\"Farrah Abraham's 'x-rated requests' for strip club party\",\"WBBL final: Sixers' Sarah Aley shapes up as key factor in grand final rematch against Scorchers\",\"KCEOC President receives 2017 Innovation Award\",\"Bespoke pooch pyjamas are sending tails wagging\",\"EXCLUSIVE: Jean Paul Gaultier Creates Scandal\",\"Otter Ball raises $120K for Virginia Living Museum\",\"Gareth Bale 'shunned Real Madrid celebrations' to sit in Liverpool's dressing room after Champions League final\",\"The world's first flying car just went on sale\",\"Lin BioScience Announces FDA Orphan Drug Designation for LBS-007 for the Treatment of Acute\",\"Where the merits of golf extend beyond the course\",\"SpaceX launch: Australian high school students play major role in NASA's resupply mission\",\"Judge in 'Top Chef' Trial Responds to Concerns Over Juror\",\"Roughriders sign ex-Rams RB Mason\",\"Wenger sets tough target to rescue season\",\"Yemen news agency\",\"Man critically hurt in Little Rock shooting, police say\",\"A true picture of US black jobless figures\",\"Phuket prisoner\\u2019s fast action helps save man from drowning in lagoon\",\"AT&T CEO Randall Stephenson on media consolidation\",\"Outdoor learning\",\"Much-travelled Quagliarella wants to extend Sampdoria stay\",\"\\\"Government Not In Sleeping Mode\\\", HD Kumaraswamy On 2-Minister Cabinet\",\"Target appoints Walmart, General Mills executives to shore up grocery business\",\"Soccer-Bastia must play next game at neutral ground without fans\",\"Massachusetts Fishing Report\",\"Game recap: New England Patriots vs. Miami Dolphins, Monday, Dec. 11, 2017 | Miami Herald\",\"Couple donates machines so grieving parents can spend more time with their stillborn children\",\"Research highlights barriers faced by police officers who become mothers\",\"Turquoise Hill Resources Ltd (TRQ) Facts and Figures\",\"It's sink or barely swim for Clarence fishermen\",\"Former VP Joe Biden will stop in Pittsburgh on book tour\",\"It's not just about Kodi: copyright bosses target another popular player in the crackdown on illegal streaming\",\"American Girl announces its first boy doll\",\"How are movie effects made to look so real?\",\"Nabors Industries to buy Tesco in all-stock deal\",\"Ablett in for Cats, Danger doubts remain\",\"One Person's Junk Is This Home Improvement Show's Treasure\",\"No Malice - \\u201cFake News\\u201d Video\",\"VIDEO: BC Wildfire Service warns about aggressive fires\",\"Three Provisionally Charged in Violent Kampot ELC Eviction\",\"Residents worry about car break-ins in quiet neighborhood - WNEM TV 5\",\"Growers talk tariffs, Farm Bill during Donnelly visit\",\"Mid-Shore Arts: A Chat with Singer Barbara Parker\",\"Judge Drops DJ\\u2019s Complaint Against Taylor Swift \\\" Mix 104.1\",\"NFL Minute: Steelers' help at ILB and safety are still on the market\",\"The world\\u2019s \\u2018hottest felon\\u2019 is now living the high life\",\"Pyeongchang Sets A Record for Most Condoms Distributed At Olympics\",\"GOP Lawmaker: I Will Be Carrying a Gun Now\",\"Efforts underway to unseal Trump\\u2019s labour nominee\\u2019s divorce filings in wake of reports of domestic abuse\",\"Japan's first F-35 gets deployed amidst rising threat from China\",\"PM Modi pays homage to 4 army men killed in Kashmir encounters\",\"Lorde Plays Tiny Show, Debuts New Music at Coachella\",\"Year of anti-Kabila protests in DR Congo leaves 47...\",\"MP asks if Prime Minister \\u2018smokes pot\\u2019 after $4.5B pipeline purchase\",\"Foxing Lands on Spin Magazine's \\\"Best Emo Revival Albums\\\" List - Twice\",\"TESS space probe offers a chance to find alien life says NASA astrobiologist\",\"Tyler Duncan eagles 18th to take Safeway Open lead\",\"Concert honors WPAQ\\u2019s 70 years\",\"Horoscope today: March 20, 2018\",\"Australian Open\",\"New Star Wars film - where can I see the premiere in Northampton and when?\",\"Manchester United news: Fabinho reiterates desire to leave Monaco\",\"Brexit news: Nigel Farage BLASTS 'clever' Macron for uniting Donald Trump AGAINST UK\",\"Indivior subpoenaed by California on opioid addiction treatment\",\"Street Style at London Men\\u2019s Fashion Week Spring 2018 [PHOTOS]\",\"Soccer-Ivory Coast's World Cup hopes in the balance after draw in Mali\",\"Hundreds Raise Money For Charity By Taking Icy Dip In Mon River\",\"UK leader says there's new optimism in Brexit talks\",\"Sisters who vandalized Cliff Walk ordered to pay restitution\",\"Border agent's military record off limits at upcoming trial | Miami Herald\",\"Exclusive - North Korea earned $200 million from banned exports, sends arms to Syria, Myanmar: U.N. report\",\"Red Cap Patisserie opens on N. Meadow Street\",\"A.1. launches meat-scented candles\",\"Tax reform could make the market pop 10 to 15 percent\",\"Sweetwater County Arrests: October 5, 2017\",\"Texas Tech University :: TechAnnounce\",\"Super Bowl 52 banter from the B.C. sports desk\",\"Primark reveals how to pronounce shop name\",\"Iconic Fashion Moments at the Super Bowl Through the Years\",\"Bipedal Robot Uses Jet-Powered Feet to Step Over Large Gaps\",\"Many Canadians willing to vote for Sikh PM, but don't think peers will: Poll\",\"The 50-Year Anniversary of the My Lai Massacre\",\"Man seeks new trial in Larose double homicide\",\"Church joins Australia child abuse compensation plan\",\"Claressa Shields fights Hanna Gabriels on 6\",\"Black Panther Star Danai Gurira Joining Avengers: Infinity War\",\"How Dwayne 'The Rock' Johnson saved his career, what are his strengths, where does he fit at Hull KR?\",\"Heritage Commerce Corp (HTBK) Lifted to \\u201cHold\\u201d at Zacks Investment Research\",\"Tensions rise as Bill Cosby jury struggles to reach verdict\",\"N.L. man diagnosed with schizophrenia suing over forced injection\",\"Andy Karl will lead Broadway\\u2019s \\u2018Groundhog Day\\u2019 opening\",\"Company owes over $500K in back taxes\",\"South Sudan rebels say raid jail, capture town on Ugandan border\",\"\\u2018Last Saturday\\u2019 brings down curtain on marching season\",\"Zimbabwe opposition stumbles ahead of polls\",\"Big Five banks earn collective $10.6B Q2 profit\",\"Colorado Avalanche at Chicago Blackhawks: What you need to know\",\"ORHub, Inc. Welcomes Internationally Recognized Spine Surgeon to its Advisory Board\",\"RBS shareholders hit out over branch closures and customer mistreatment\",\"NOTICE\",\"Why this family blames mental health system for teen's suicide\",\"UK exhibit remembers Sephardic Jews' journey to Turkey\",\"Odebrecht ordered to pay $2.6 billion to settle bribe probe\",\"This week\\u2019s poll: T-levels and how they will help\",\"How would a free \\u00a3100 bar tab at the Spirit of Liverpool Festival go down with you?\",\"The UK debt tide is rising - how can you avoid drowning?\",\"Harvey Weinstein indicted in New York rape case\",\"Economic Survey 2017-18: 16 per cent households have no piped water supply\",\"Assessing the diverse array flurry of education-related bills signed by Gov. Brown\",\"Grand Rapids area church offers sanctuary to all immigrants\",\"Partition at 70: The numbers that divided a subcontinent\",\"Favourite British dishes threatened by climate change, report warns\",\"50 Years Of Beatlemania\",\"2018 World Cup quarterfinal predictions\",\"Read and Download Avoid Dialysis, 10 Step Diet Plan for Healthier Kid\\u2026\",\"Ruby the horse donated to Scropton Riding School to give the disabled a chance to ride\",\"A feast of festive sounds to enjoy at Christmas concert\",\"Nelson Oliveira: \\\"I have a lot more still to come\\\"\",\"Hill Republicans eye busy first 100 days of 2017\",\"Spaniards wait on next move from Newcastle on defender\",\"Alabama Launchpad winners take $150,000 in prizes\",\"Poteau Residents Upset After City Council Approves Agreement To Fund Discounted Golf Program\",\"\\u2018Immense Imagery\\u2019 company launching soon in TD\",\"Gene Simmons tries to trademark 'devil horns' rock hand gesture\",\"MLB Metrics 101: Ranking the Greatest Postseason Performances of All Time\",\"'Fake news' is Norwegian new word of the year\",\"Report: Trent Baalke wouldn\\u2019t let Chip Kelly draft Dak Prescott\",\"Jury rules in favor of Taylor Swift in groping case\",\"Africa: Emergency armyworm talks held over invasion of crop-eating pest\",\"UPDATE 1-UK economy picks up speed, raising chance of rate rise\",\"Liukin steps down as US women\\u2019s gymnastics team coordinator\",\"Proto Labs Reaches Settlement With ICO Products on Quoting Technology\",\"Mayor Emanuel talks Trump in first visit to Colbert's 'Late Show'\",\"Confining children shouldn\\u2019t be part of the job for immigration agents\",\"Vicky Pattison Has A Set Of Rock Solid Abs And Fans Are Beyond Impressed\",\"1 taken into custody following police pursuit in Greenfield, 5 fled the scene on foot\",\"New Studies Show the Accuray TomoTherapy\\u00ae System Provides Greater Precision, Excellent Clinical\",\"Arriva kicks-off Catch the Bus Week alongside Milton Keynes MP\",\"Gold Readying To Rally\",\"The lightweight and simple Photo Gallery HD and Editor\",\"Conor McGregor Vs Floyd Mayweather Is Not 'Very Close' Despite UFC Star's Vegas Trip\",\"NBA Rumors: Los Angeles Lakers Could Target DeMar DeRozan In Trade Talks\",\"Pics From Sara Ali Khan And Jhanvi Kapoor Late Night Outing\",\"Chancery Tosses Challenge To $125M Synutra Buyout\",\"Trump to seek trade probe of China amid NKorea tensions\",\"Police investigating death in Waukegan Walmart parking lot as homicide\",\"Florida's process for restoring voting rights to felons ruled unconstitutional\",\"NYC terror plot involving subways, Times Square thwarted; 3 charged, officials say\",\"Acoustic Sunrise Playlist 2-4-18\",\"Authorities harass private media outlets reporting on Somaliland\",\"Duterte takes a rest\",\"Man transforms lawn into American flag for July 4th\",\"Delhi Police Send Notice To 8 People To Join Probe\",\"Man poses as Bollywood biggie, dupes aspiring actor of Rs 47 lakh in Mumbai\",\"Man carjacked after being set up by women he met online: Crime Insider\",\"Top Stories: Nobel Peace Prize; Las Vegas Shooter's Motive Still Unknown\",\"Moorhead School Board to discuss filling open seat left by departure of Laurie Johnson\",\"The Note: Trump\\u2019s silence on white nationalism is deafening\",\"Report: Benjamin Watson took a pay cut to remain with Ravens\",\"Gregor Fucka coaches Italy U14 basketball team\",\"Police ask for help in finding armed man wanted in connection to robbery\",\"Trump takes on FBI as controversial memo released\",\"RPT-ANALYSIS-Puerto Rico seen sliding toward bankruptcy as deadline nears\",\"Economy added 200,000 jobs in January\",\"Worldwide Wanderer: Explore Hong Kong and fly Cathay Pacific, an Alaska Global Partner\",\"Mattis: U.S. will confront China on militarization of islands\",\"On July 4, Americans celebrate their union, rue divisions\",\"KB to connect city, art, people\",\"Renovation project for Youngstown court expected to be done by spring\",\"LeBron To Miss Second Preseason Game With Sprained Ankle\",\"V1 - Armageddon: The End Of The Beginning album review\",\"South Africa's parliament to debate no-confidence motion against Zuma\",\"Rutgers football: Staff writers predict the rest of the season\",\"India summons Pak envoy over killing of civilians, lodges strong protest\",\"Esperanza keeps moving in right direction with win over Yorba Linda\",\"BC High school track championships keep coming back to Langley\",\"Hong Kong bookseller\",\"British hedge fund Man Group says Q1 assets up 10 pct\",\"A Look Back at Ricki Lake and Christian Evans' Love Story\",\"KY Dept. of Fish and Wildlife Resources Auctioning Surplus, Confiscated Items\",\"BRIEF-Teleste Signs Agreement With Alstom\",\"On the Go with Joe at \\u2018Celebrate the Season\\u2019 - KPTV - FOX 12\",\"Preds beat Chicago 3-2, push Hawks to brink of elimination\",\"No. 2 Oklahoma Sooners lead with 3 1st-team AP All-Americans\",\"Hino Trucks Adds Six Locations To Certified Ultimate Dealer Network\",\"India\\u2019s fuel demand rises 6.2% in November\",\"Funeral service for tragic mum of youngster Jak Fada to be held\",\"Myanmar leader Aung San Suu Kyi can't be the messiah we want her to be\",\"Bharti Airtel to set up 2000 mobile towers in North East\",\"Fashion Museum Bath reveals Dress of the Year 2017\",\"Supreme Court leaves in place ruling reviving Flint lawsuits\",\"Coachella 2018: Were you one of the 452 who lost your ID? There\\u2019s a place to find them\",\"METALS-London copper drifts as technical push fades\",\"SoftBank has picked its favorite in ride-hailing\\u2014and it\\u2019s not Uber\",\"2 Teens, Baby Missing From Bowling Green, Kentucky\",\"Xenophon rules out dual citizenship\",\"Officer who arrested Toronto van attack suspect commended for actions\",\"Video raises concerns of IS damage to historic ruins\",\"San Dieguito Academy, La Costa Canyon Foundations make big impact on schools\",\"Nest box challenge at Harlow Carr\",\"New-Home Sales Take Off\",\"Masked robber jailed after threatening staff at bookmakers with a claw hammer in terrifying raid\",\"CBE alternative program parents angered by congregated bus stop\",\"Are you SURE your smoke alarms work? Learn 3 vital tips\",\"Fresh design oozes charisma to match reliable reputation\",\"Soybean producers report a good trip to South America\",\"Mosul Old City residents spend hungry and fearful Ramadan under IS rule\",\"Rebel stronghold in northwestern Syria heavily bombed\",\"Judge orders psychological evaluation for baby-killing nurse\",\"Improving exam feedback is crucial for students and universities\",\"Modi starts his 2-day Gujarat visit, reaches Jamnagar today\",\"77 California businesses asked for workers' documents\",\"Brazil truckers yet to resume cargo deliveries at Santos port\",\"National Security\",\"Charge laid in murder of Clarence Crothers of Abbotsford\",\"What comes after commission's report on college basketball?\",\"Witnesses: Police try to run over raccoon\",\"Kate Beckinsale thanks fans for keeping memory of her late dad alive\",\"Couple charged with defrauding school board\",\"Don\\u2019t get personal\",\"Major league roundup: Braves romp, capturing rare series win in Washington\",\"Brady wins MVP; Rams, Saints shine at NFL Honors\",\"Sterling bounces back from three-week low, inflation data eyed\",\"Riyad Mahrez to Man City: \\u00a360m deal agreed as Pep Guardiola eyes up Jorginho transfer next\",\"NASCAR at Daytona: Toyota gets another chance to reverse plate-race curse\",\"Elisabeth Dopazo: Celebrating 4 Decades of Devotion to Young People\",\"India vs Australia 2017: Virat Kohli could topple another record held by Sachin Tendulkar\",\"Friday will be dry, warmer with temps in the mid 80s\",\"Column: The president has failed\",\"BRIEF-India's GIC Housing Finance March Qtr Profit Rises\",\"Iowa road rage incident caught on video\",\"Egypt carries on tradition of steam-free 'foot ironing'\",\"Arizona Coyotes Claim Burmistrov Off Waivers\",\"Airbus may cut A380 production to six planes a year: sources\",\"Nigeria: Three Former Bauchi PDP Governorship Aspirants, Others Join NNPP\",\"Before the Music, Kid Rock Tackles Five Minutes of Issues\",\"Lying to Physicians: 7 examples that must stop\",\"Fox Ignored Breaking News That Trump Aides Were In 'Constant' Contact With Russia During Campaign\",\"Georgia chamber president: Hall has prosperity, but also serious poverty\",\"Today in History\",\"New, next-gen NOAA polar-orbiting satellite is now operational\",\"Driver charged in Va. car attack previously accused of beating mom\",\"How Will Dr Pepper Snapple Perform In Its First Quarter?\",\"Sears, Whirlpool win fee reduction in washer lawsuit\",\"Son arrested after stabbing father during fight over where to find the cheapest gas\",\"Cancer survivor: 'New wonder drug is giving fresh hope to victims like me'\",\"NewYork-Presbyterian/Weill Cornell Medical Center Receives Trauma Center Verifications from the American College of Surgeons\",\"Junior high reunion: What\\u2019s 45 years between frenemies?\",\"Some Platinum hedge fund clients get hopeful sign from receiver\",\"Serbian Ruling Party Wants to Nominate Vucic as Presidential Candidate\",\"Northrop Grumman Corporation (NOC) Position Boosted by Brinker Capital Inc.\",\"Trump 'disappointed' by McFarland ambassador nomination...\",\"Concordia University to allow student union to pick representatives to sexual violence prevention task force\",\"One held for printing fake Rs 2,000 notes in Delhi\",\"Stanford summer reading list\",\"Karnataka's anti-superstition Bill aims to preserve human dignity and life\",\"John Legend and Chrissy Teigen Coordinate Outfits at Beautycon\",\"Parks Canada preps for tourists during free Canada 150 year, conservationists concerned\",\"Nexans to build advanced cable layer ship at Ulstein Verft\",\"Snapchat's newest feature lets people dance around rainbows\",\"Tynwald to consider introducing \\u00a38.61 Manx living wage\",\"Indian American lawyer Kashyap Patel, author of Donald Trump's memo criticising FBI, worked as prosecutor with justice department\",\"Gambia: T-Boy Joins Malaysian Top Tier Side Pkns FC\",\"Chicago man allegedly stole tubs of mail from UPS execs\",\"Initial attack crews sent to fire west of Campbell River\",\"Nikki Bella Says She\\u2019ll \\u2018Hopefully\\u2019 Televise Wedding With John Cena, What\\u2019s The Catch?\",\"Freemont County employee pleads guilty to bad check writing\",\"Former CBD pedestrian lights find brand new home\",\"UPDATE 1-Taiwan cbank says currency volatility 'unavoidable', won't intervene\",\"OnePlus 5 leaked image reveals antenna lines, alert slider\",\"Jerry Jones tried to table Roger Goodell contract talks for 6 months, report says\",\"News From Ireland | Latest Irish News | Today FM\",\"Automakers charge ahead with electrics in China, even as policy drive slows\",\"DHA renovates high school\",\"Toyoda Gosei to pay R6m for price-fixing in car safety products market\",\"Discussions underway on replacing aging Owensboro pool - wave3.com-Louisville News, Weather & Sports\",\"Times Square subway explosion was 'attempted terrorist attack,' mayor says\",\"Richard Scudamore to co-chair Government\\u00b4s Sports Business Council\",\"Amazing! YouTuber films heart-pounding manoeuvres from inside Red Arrows jet\",\"Tough road ahead for Hyundai, Kia?\",\"A giant fashion show will be projected on the Empire State Building this week\",\"Arctic trip gives Harry a lifetime of memories\",\"MUSIC NOTES | Ventura County Fair music lineup announced\",\"Marlins bounce back from 16-inning loss to beat Rays 3-0\",\"Arian Foster on Drake's Blackface Pic: 'What the F*ck Is This?'\",\"Wilf McGuinness: The Busby Babes would have played everyone off the park... I never ever forget them\",\"Boston Symphony heading back outdoors to Tanglewood\",\"Behind Hidden Figures: Author retells the story behind the movie\",\"Google Home hears everything, so watch what you say\",\"What steps have you taken to help poor patients: Manoj Tiwari asks Arvind Kejriwal\",\"Gator Football Players Excited About Spring Practice\",\"NBA Trade Rumors: Lakers, Thunder Expected To Compete For Kawhi Leonard\\u2019s Signature, Reports \\u2018Metro USA\\u2019\",\"'Our most fundamental values are under attack': Democrats issue bleak July Fourth statement\",\"After All-Star season, Dodgers\\u2019 Alex Wood made changes looking for more consistency\",\"WATCH: Democratic Sen. Feinstein booed at town hall for not standing up to \\u2018fascists in the White House\\u2019\",\"Hub Group, Inc. (HUBG) Upgraded at Zacks Investment Research\",\"Lueders: Publica s trust was abused over police videos\",\"Matt Barnes retires from NBA at 37, saying he did it his way\",\"Roadside bombing kills 12 civilians in south Yemen\",\"Woman found hiding in ceiling of Cleveland bar\",\"Bottas: Rosberg showed Hamilton is beatable\",\"Five Illegal Alien MS-13 Members Charged in Maryland Woman\\u2019s Murder\",\"Mitsubishi Motors to cooperate with Jakarta in program to promote electric vehicles\",\"\\u2018Zoey\\u2019s Perfect Wedding\\u2019: Perfect Depiction Of Not So Perfect Wedding\",\"EPA to raise surcharges on diesel and gasoline\",\"Opinion: Eruv Wars V: The mayor of Mahwah strikes back\",\"Former 'Hoo Derek Fisher Homers in MLB Debut\",\"WATCH: Man uses chimney in attempt to hide from Manatee Co. deputies\",\"The future of cord-cutting looks grim right now\",\"Coronation Street spoiler: Bethany Platt faces crossroads as evil Nathan attempts to take her abroad\",\"Witness: Naked woman plows car into Putnam County day care\",\"2 face drug charges amid toddler death investigation\",\"Liverpool legend Ian Rush upstaged by model girlfriend Carol Anthony as the couple watch Reds pummel Roma\",\"Under New Leader, Gambia Cancels Withdrawal From International Criminal Court\",\"Ex Housewives' star Alexa Curtin charged with heroin use\",\"A doctor removed her ovaries because they were 'in the way.' Her family says it led to her death\",\"Wood Coating Resins Market Analysis, Latest Trends and Regional Growth 2024\",\"Pakistan Bureau of Statistics announces Population census from March\",\"Still Crazy About Video After All These Years\",\"Market outlook: Expect a weak start; 9,600 Nifty level is critical\",\"Hair chop traffic cop sparks outrage in Nigeria for 'humiliating' female staff\",\"Bridget Jones's Diary, Ocean's Eleven and High School Musical Leaving Netflix in May 2018\",\"Vaping brand rapped by ASA for kid-friendly Christmas ads\",\"Volunteers Unload Girl Scout Cookie Boxes Ahead Of Official Season\",\"Global Buckwheat Market 2018- Homestead Organics, Birkett Mills, Galinta IR Partneriai, Wels Ltd., Krishna India,\",\"Spice Girls confirm plans to work together again on \\u2018new opportunities\\u2019\",\"Seoul examines 'death' of Kim Jong-un's half-brother\",\"Canada Hydropower Market Research Report 2018 - 2025 | Aarkstore\",\"Murder accused admits to stabbing man in the neck\",\"50 Years of SCAN\",\"Late Rovers penalty makes Limerick pay the price\",\"Sixers Ben Simmons Reportedly Dating Kendall Jenner\",\"Florida State Sen. George Gainer Tried to Make It Easier to Run Over Protesters\",\"Ishqbaaz: Nikitin Dheer Aka Veer Bids Goodbye To The Show; Thanks Fans For Their Immense Love!\",\"Environment Agency say there is no evidence that river water is poisoning dogs\",\"Spanish man shot and killed in Mexico City - official\",\"Diagnostic device uses smartphone to check almost 100 samples at once\",\"Davis' 43 Points Lead Pelicans Past Thunder 114-100 - News9.com - Oklahoma City, OK - News, Weather, Video and Sports |\",\"Rabbitohs hooker Damien Cook set for contract upgrade\",\"Soon you can watch the NFL free on your phone on Yahoo\",\"Show HN: KAISER - Project Management App focusing on user-specific queues\",\"Inquiry launched after 'unexplained death' of woman inside Washington house\",\"D-backs ace Greinke won't start opener, gets time to recover\",\"Deflating news: Bouncy Castle BKS-V1 keystore files not adequately protected\",\"Suspected Dark Web drug dealer undone by his own beard\",\"I'm not prone to outpourings of pro-French sentiment - but I hope La Rochelle go all the way in Champions Cup\",\"Suzy Merchant collapses during game\",\"The Top 3 Post-Startup Challenges for a #CannabisBusiness\",\"Elderly man builds pool for neighborhood children\",\"Warren Police Department promotes 4 officers\",\"For Meridian family, last-minute video turned into $2,000 dollars\",\"Student recognized as Heart Hero after performing Heimlich maneuver on choking classmate\",\"Ruan Viljoen: Suspect finally caught a year after hit-and-run accident\",\"Group Faults Panel Probing Rights Violation in Armed Forces\",\"Siege era in Syria ends\",\"It's Time to Mobilize Milwaukee's LGBTQs\",\"\\\"Let's do this\\\": Man accused of resisting arrest and assaulting - KFBB.com News, Sports and Weather\",\"11 compelling reasons to visit Coventry - the UK's surprising new Capital of Culture\",\"50plus style on a budget - dress well for less for summer holidays\",\"\\u2018Big Show\\u2019 signs off with a European gold\",\"Manchester United and City must answer FA questions over derby altercation\",\"All About Love Horoscope For Aries; 2018\",\"A blast of defiantly silly but touching escapism - Tristan & Yseult, Shakespeare\\u2019s Globe, review\",\"Elon Musk wants to build a high-speed transit system in Chicago\",\"These paid iOS apps are now free to download\",\"Platinum Tools introduces Fiber Optic Stripper and Kevlar Scissors\",\"\\u201cWhy was \\u2018The Big Sick\\u2019 completely shut out of the Golden Globes?\\u201d links\",\"With Venues, Oculus and Facebook Push Social VR Into New Territory\",\"Winnipeg Man Arrested For Child Sex Abuse Images After New Zealand Tip\",\"How 2 California Republicans are thriving in Democratic Sacramento\",\"Judge tosses lawsuit against FTC by student loan aid companies\",\"No more sweet tooth? Scientists switch off pleasure from food in brains of mice\",\"Police responded to shooting at a hotel, search for suspect - KXXV-TV News Channel 25 - Central Texas News and Weather for Waco, Temple, Killeen |\",\"The Most Expensive Fashion Moguls\\u2019 Homes for Sale in the U.S.\",\"O\\u2019Brien to step Churchill up in trip for Juddmonte at York\",\"Tom Cotton Doesn\\u2019t Oppose Immigration for Economic Reasons\",\"Chile transgender: 'Growing up here is torture'\",\"Goodell: Have to understand other side in anthem protests\",\"Airports are using \\u2018smart glass\\u2019 to make you spend more\",\"Appeal after bike and jeep in collision\",\"Snapper Rock And Children's Melanoma Prevention Foundation Partner For 15th Anniversary\",\"Insolvency Board may soon allow banks to attach guarantors' assets to recover dues\",\"Minister reveals plans for general post office\",\"Woodlawn Will Look at Raising Teacher Salaries\",\"Iran warns it might withdraw from Non-Proliferation Treaty\",\"Udta Punjab Director Anurag Kashyap Reacts On Pahlaj Nihalani Out And Prasoon Joshi In As CBFC Chief!\",\"BRIEF-Apogee Q4 earnings per share $0.80\",\"Gabby Agbonlahor's gong & more: The story of Aston Villa's awards evening\",\"This Week on The Disclaimer: Is Social Media Making the World Worse?\",\"California school district settles abuse suit for $2.8M\",\"Zuma's son died of lupus - family spokesperson\",\"Stocks To Own As Fed Raises Rates\",\"Man 'Acting Like a Bull' Stabs SDPD K9 in North Park\",\"OETA receives 3 award nominations\",\"Facial recognition idea dismissed for CBD\",\"Race like a legend today: Jaguar E-Type raced by Stirling Moss up for sale\",\"Charlottesville murder suspect previously accused of beating, threatening mother\",\"Colgate Palmolive to pay Rs 4/share as dividend for FY'18\",\"Watch Keith Urban (and a Dancing Nicole Kidman) Ring In the New Year With a Medley of Songs by Merle Haggard, Prince, George Michael & More\",\"Jose Mourinho confirms midfielder is out until April after ankle surgery\",\"Tennessee Republicans Refuse To Consider Resolution Condemning Neo-Nazis and White Supremacists\",\"Major donation allows for expansion of STEM summer camp program\",\"Athletics: U.S. reclaim 4x400m title, more injury woe for Jamaica\",\"\\u20182 Broke Girls\\u2019 star Jonathan Kite shows off his best celebrity impressions\",\"Caribbean News News at Caribdaily.com\",\"Mans Lumber and Millwork Selects Epicor BisTrack to Streamline Operations\",\"The 12 Best Games for the iPad\",\"UK authorities propose crackdown on high-cost lending\",\"Resignation accepted of Forest City teacher over racial comments\",\"Greinke strikes out 9 in Diamondbacks' 2-0 win over Astros\",\"Trump says 'get out and vote for Roy Moore' at Florida rally\",\"Allied Rapid Reaction Corps - Master\",\"Manhunt expanded for suspect in Facebook vid\",\"IMO Assembly Adopts Vision, Strategic Directions\",\"Namibia: Welwitschias Host Cavaliers in Historic Match\",\"Researchers Identify Epigenetic Orchestrator of Pancreatic Cancer Cells\",\"Three Women Share Donald Trump Sexual Misconduct Allegations\",\"92-year-old woman accused of shooting her son dead for wanting to put her in nursing home\",\"Disqualified driver caught twice in an hour on Cap Hwy\",\"Award for Roebourne footy officer\",\"Harvey\\u2019s impact to guide Houston development\",\"NCAA tournament: Ranking the Sweet 16 teams based on national title potential\",\"The week that was: Archive pictures through the years, August 7 to 12\",\"DJ Khaled, Rory McIlroy, and Flo Rida Party in Miami\",\"Harrington in confident mood as European Championships beckon\",\"ICE Threatens More 'Collateral' Arrests In Response To California 'Sanctuary' Law\",\"Capitol Reef National Park gets new superintendent\",\"SZA says she's 'permanently injured' her voice in tweets\",\"'Real Indian' Running Against Warren, Using Her Own Claims Against Her\",\"Montreal area home sales hit eight year high for September, rising six per cent\",\"What the papers say how ITV Racing's show was received\",\"Brazil state says no hands severed in indigenous tribe's clash with farmers\",\"Smooth Criminal: Michael Jackson statue given rifle by Rio narcos\",\"Marijuana legalization: What was Justin Trudeau smoking?\",\"Jeff Petry scores twice as Montreal Canadiens snap slide with 5-2 win over Anaheim Ducks\",\"PetroMaroc Announces Completion of Debenture Restructuring Transaction, and Shares for Debt Settlements\",\"McTavish Award winner found safety and support at school\",\"\\u2018The Plug\\u2019 podcast: \\u2018The Madness Begins\\u2019 feat. Jenisha Watts (episode 14)\",\"BRIEF-PVH announces licensing agreement with USA Legwear for Warner's socks and hosiery\",\"Marking the boundaries\",\"Cristiano Ronaldo sends Man Utd's Marcus Rashford signed Real Madrid shirt\",\"Joy-Anna Duggar Uses Abortion To Lessen Baby Scandal: Husband, Brother & Derick Dillard Join Forces\",\"Stanley Johnson growing in maturity, professionalism\",\"Win tickets to H2X!\",\"UN says people disappearing in northern Mexico border city | Columbus Ledger-Enquirer\",\"Four recipes for cooking beets. Delicious recipes!\",\"Editorial: BART housing bill exposes lots of hypocrisy\",\"UPDATE 1-Trump advisers to meet Tuesday to discuss Paris climate agreement\",\"Pok\\u00e9mon Go adding 80 new Pok\\u00e9mon from Gold & Silver this week, new berries and more\",\"Best Buy knocks off up to $265 off the MacBook Pro in one-day sale\",\"Cullman homeowner describes storm \\u2018like someone was throwing gia - WBRC FOX6 News - Birmingham, AL\",\"Mother: Missing Westmoreland teen found dead\",\"Which? Elderly Care\",\"Trump Takes Dig At Rahm Emanuel Over Chicago Homicides\",\"Big Ben's Big Bong Is About To Go Silent\",\"EU launches probe of Apple's takeover of digital app Shazam\",\"Trump Blames Russian Connection 'Conspiracy Theories' on Clinton Campaign 'Cover Up'\",\"Customer sparks brawl in restaurant after throwing drink in manager's FACE\",\"Matoto Technologies A Certified Computer Repair Company Gauteng Deals With It Services\",\"Realmuto loses to Marlins in salary arbitration; Bour wins\",\"Some Ghanaian Journalists Are Incompetent, Corrupt And Very Unprofessional\",\"Shots - Health News\",\"Global Cloud Engineering Market 2017 Share, Trend, Segmentation and Forecast to 2022\",\"2 accused of racing at more than 100 mph during morning commute\",\"Kermit Lane \\u201cBill\\u201d Lowe\",\"Viswanathan Anand holds Hikaru Nakamura to an easy draw in Norway\",\"John's Bar & Grille\",\"US back on track for World Cup, Pulisic leads rout of Panama\",\"BRIEF-Sonoco Products Q1 GAAP earnings per share $0.53\",\"Swiss watch rebound masks online challenges\",\"Red Sox's Rafael Devers: Provides key blast Sunday\",\"4 reasons why we get muscle cramps\",\"Agyinasare, Festival of Miracles team to clean city\",\"3 Benefits of Listening to an Informative Political Podcast\",\"BRIEF-Ingenuity Property Investments Sees HY Heps Down 67 Pct\",\"Only 25% of Amerindian land titling funds spent - Minister\",\"Triodos Bank hails \\u2018most ethical Christmas ever\\u2019\",\"Ice melting to slush in Vegas heat at Stanley Cup Final\",\"Trump's threat of Venezuela military action could bolster Maduro\",\"San Ramon council, planners to discuss development density\",\"ACLU sues over appointment to Oklahoma State Supreme Court\",\"Outback Bowl: No. 17 Florida vs. Iowa\",\"Sauternes: Nectar of Gods\",\"Would-be Keys bomber faces life in prison at Tuesday hearing\",\"Lower turnout equals higher uncertainty in French election arithmetic\",\"Geekiest Show Ever 285\",\"Bruno Mars Releases \\u2018Versace on the Floor\\u2019 Video Starring Zendaya\",\"Chargers' Mike Williams: Officially out for Week 5\",\"Sierra Club sues U.S. Energy Department over power grid study\",\"XOXO Heart Attack With DJ Keezy, Ander Other & Rowsheen XOXO\",\"KC Commissioners, Council Meet in Joint Session\",\"Egypt opposition slams President Sisi's warning to opponents\",\"Nishikori skips Cincinnati Masters due to injury\",\"Nick Foles on White House visit: 'Whatever the team decides, I'm going to be with the team'\",\"NZDF Engineers hard at work in hot and cold\",\"India launches record 104 satellites at one go\",\"Snake mystery after aggressive morning encounter\",\"Tyson Smith back at Michigan State after stroke: 'Time waits for nobody'\",\"The 10 best bits of Mike Dean trolling after another soft red card during West Ham vs Man United\",\"Colorado K-9 unlatches gate with paw to rescue injured deputy\",\"Let it grow! Gigi Hadid lets her armpit hair go full bush as she throws punches for Love advent calendar\",\"UPDATE 1-Pence says 'failed state' in Venezuela threatens United States\",\"Sunny, hot Monday\",\"Donald Trump\\u2019s failure and a dangerous moment for American democracy: Editorial\",\"Yankees Rally In Subway Series Opener\",\"Man's final wish fulfilled: dozens of shoes for kids\",\"US top court declines wife swap case: yes, you read that right\",\"Rwanda, Uganda trade claims over treatment of refugees\",\"Bartosz Kownacki Speaks Out on the Year at the Defence Ministry\",\"John Mayer is Cupid\\u2019s Secret Weapon\",\"Trial set for man suing over 'excessive force' during Hammond traffic stop\",\"Union minister Kiren Rijiju undergoes stone removal procedure at AIIMS\",\"You can now play StarCraft in 4K\",\"PGA TOUR Superstore Offers Free Clinics and Lessons In Celebration of National Golf Day, Wednesday,\",\"Bitcoin value sinks, dips below $8,000. India is the latest buzzkill\",\"Tributes paid to 'loving father' found dead on mudflats\",\"The Latest: Vigil held for Facebook video shooting victim\",\"Prince Search Warrants Unsealed, Answer Few Questions\",\"Love With Your Head - Adina\",\"The Top 30 MTL Songs of 2017\",\"Facebook reviewing whether misused data still in hands of political consultant\",\"Court orders judge to free rapper Meek Mill on bail\",\"BPP to bar contractors not captured on database\",\"Haugesund: New Europe Film Sales Drives Into Nordic Films\",\"Los goleadores latinos marcan la \\u201cChampions League\\u201d\",\"Bitcoin Futures Rise as Virtual Currency Hits Major Exchange - KTVN Channel 2 - Reno Tahoe Sparks News, Weather, Video\",\"2 Pakistani soldiers killed in retaliation by Indian Army\",\"CLAT result 2018 LIVE: Common Law Admission Test to be declared today at clat.ac.in\",\"Toronto city council mulls banning \\u2018exotic\\u2019 animals, birds\",\"DWI Driver Charged After BMW Crashes Into Area House, Killing Two\",\"Wings get plenty of chances, just one goal in OT loss\",\"DA: Fatal shooting of trooper killing suspect was justified\",\"Airline profits this year unlikely at December forecast level: IATA chief\",\"Lonzo Ball makes fun of his dad's involvement in hilarious new commercial\",\"Jharkhand Board JAC Class 12th Result 2017 (Arts) likely to be declared today on jac.nic.in\",\"Kindness video contest, a sunshininga a new wage pact, 2017-18 budget on TUSD...\",\"Scotty McCreery Duets with Fan Suffering Incurable Disease\",\"Hands on at Earth Day\",\"Big3's biggest names mum on Charlottesville\",\"Amazon working on robots that live in your house, reports Bloomberg\",\"Best Streaming Music App for Android\",\"Hopes soar for first direct flights between Scotland and China\",\"The secret behind Jesinta Franklin's glowing skin\",\"James McAvoy's mother passes away\",\"The Astros' pitching staff has really been that good to start...\",\"Charlottesville car murder accused denied bail\",\"BoT confirms Ikpea as new supporters\\u2019 club chair\",\"Fox's Sky bid hits snag with hacking news, shareholder revolt\",\"Vodafone \\u20b9348 prepaid plan revised again, here's what has changed\",\"Mamata, KCR come together for \\u2018Third Front\\u2019: Is BJP in a denial mode?\",\"Spectrum to hold hiring fair on Thursday\",\"Jaguars waive/injured CB Josh Johnson, sign TE David Grinnage\",\"The federal government has long treated Nevada as a dumping ground, and it's not just Yucca Mountain\",\"Zipporah Broughton named Gatorade Alabama Basketball Player of t - WSFA.com Montgomery Alabama news.\",\"Household bills for energy, motor and home insurance rose by almost \\u00a3200 in 2016 as fall in sterling and added taxes took their toll\",\"Austria says it expects Iran to help clear up case of arrested diplomat\",\"'Narendra Modi went to Pakistan uninvited after terror attacks': Full text of Manmohan Singh's statement\",\"Netflix limits number of times you can download some content\",\"Strong quake shakes northeastern Japan, no danger of tsunami\",\"Turkey's Halkbank says operations, transactions comply with international regulations\",\"Pirela, Padres beat Phillies 7-4; Hoskins homers twice - CBS News 8 - San Diego, CA News Station - KFMB Channel 8\",\"\\u2018How-to\\u2019 manual on stopping radical Islam in U.S.\",\"Italy's 5-Stars would put alliance with Dems to popular vote\",\"The flaws in the breast-is-best dogma that made me feel like a failure\",\"Malaysia just brought its Pedra Branca challenge to a surprising halt and Singapore is \\u2018happy to agree\\u2019\",\"Dyson Opens an AI and Smart Tech Research Facility in Singapore\",\"The 44th Annual Juried Show\",\"Former Nyakudya\\u2019s BV goes solo\",\"Helen McGinn tries Truly Irrestistible Rioja Crianza with lamb burgers\",\"Taylor Swift's allegation she was groped will head to jury\",\"Predators acquire Mark McNeill from Stars for Andrew O'Brien\",\"Tanzania: Let's Rally Behind President John Magufuli On Mineral Thievery War\",\"Nike launch new Sneakrs app\",\"Fiorentina warn Napoli and Borussia Dortmund that teenage star is not for sale\",\"Does Da'Ron Payne show enough rush skill to be Cowboys 1st-round pick?\",\"Matt Cardle warns fellow Tramadol addict Ant McPartlin to FORGET his showbiz career if he wants to survive\",\"Insecticides India looks to invest Rs 200 cr in 3 yrs on expansion\",\"Zimbabwe Cricket Board receives much-needed help from the ICC\",\"Surrounded: An Hour Of Stories From New Hampshire's Islands\",\"Fort Worth lawsuits could spur relocation effort | Fort Worth Star-Telegram\",\"Internal light can shine despite outer appearance\",\"Ontario securities watchdog orders$1.1M in fines to brokers involved in financing Fortress projects\",\"Stop taking drugs for lower back pain and do this instead\",\"Ohio college student wins title as best grocery bagger\",\"Steve Bruce reacts to Barnsley defeat\",\"Democratic activist charged with assaulting Zinke staffer\",\"U.S. Agency to Help Iraq Recover From ISIS\",\"Oracle reports 3Q loss\",\"Cabinet embroiled in row just DAYS before crunch meetings\",\"BRIEF-Cerved Q1 adj. net income up 17.1 pct at EUR 22.8 mln\",\"Paul Rudd Honored as Hasty Pudding's 2018 Man of the Year\",\"Exclusive - ECB faces 'favouritism' appeal over hiring of Draghi adviser\",\"ANC welcomes Public Protector's probe into #GuptaLeaks\",\"APC set to sack PDP from Abia Govt House\",\"MCDH Board Puts OB at Risk Again\",\"The Day Uecker Took Koufax Deep\",\"Bordeaux hail damage: Winemakers assess\",\"GMS Racing NXS Daytona Preview\",\"It's Now or Never for DeMarcus Cousins and the Sacramento Kings\",\"Sweden to Appoint Special Envoy to Israel-Palestine Peace Process - FM\",\"SOURCES: Hillary Clinton to be prosecuted under RICO Act, may face prison time for selling influence\",\"Canal bosses float notion of boaters\\u2019 app to open bridges\",\"Passport officer, police exceeded brief in interfaith couple case:\",\"South Korea's Moon, China's Xi to talk North Korea, trade in Beijing summit\",\"More than half of NFL players booked for Israel PR trip withdraw\",\"Man ruled competent for capital murder trial in boy's death\",\"Lunartic\",\"EU's Tusk says sure security not a bargaining chip in Brexit talks\",\"Henrich Ravas - Derby County player profile and stats\",\"Pet Photography - 3 Questions For Your Photographer\",\"\\u2018Goblin\\u2019 Korean Drama Ep 10 Recap: The Grim Reaper And Sunny\\u2019s Past Explained\",\"Rat infestations getting out of control in Kansas City as reports double in two years, officials say\",\"Florida State football preview: Seminoles 2017 schedule, roster and three things to watch\",\"MSPs pledge to tone down rhetoric during political debates\",\"IshDARR Caps Off a Marquee Week With Two New Tracks\",\"Is Trump zig-zagging to a deal with North Korea?\",\"Aaron Rodgers hints at the problem with dating Olivia Munn\",\"Anticipated or anticlimactic? Warriors-Cavs 4 in NBA Finals\",\"Watford to take late call on Cleverley for Chelsea game\",\"Hotels Workers at Santa Monica DoubleTree Announce Decision to Join Union\",\"Four lies about bitcoin futures that stock investors need to know\",\"Ex-judge admits to giving light sentences for nude photos\",\"Russia probe: Donald Trump warned 'of end' as investigation intensifies\",\"A Better Region 8: Frank Broyles, an Arkansas legend - KAIT Jonesboro, AR - Region 8 News, weather, sports\",\"\\u2018NFF Must Learn Lessons From Eagles\\u2019 Defeat To Bafana\\u2019\",\"Saif bin Zayed participates in 'Walk Unified'\",\"Congo police open fire on sect supporters in capital Kinshasa\",\"Seattle Seahawks rally to beat San Francisco 49ers\",\"University of California files appeal over CRISPR patents\",\"Chris Chester delighted with big scalp and says 'it's not about me, it's about the team' on his winning return to Hull KR\",\"Richmond woman lands on 2018 world championship U.S. Parachute team\",\"92 year old US woman kills son who wanted to send her into care\",\"13 killed in latest Nigeria church attack\",\"Kwara Plans Low Key 50th Anniversary\",\"Solon City Council hears trail concerns, discusses winery initiative\",\"Iain Butcher fully focused on next bout ahead of April title clash\",\"New Country Trivia\",\"Ndamukong Suh on Hall of Fame track but longevity will be key\",\"Costs mount for colleges testing troubled software system\",\"Leagues, casinos lobby states for cut of legal sports bets\",\"RHOA: The Shadiest Reality Show Wedding Of All Time Caused Twitter To Explode With Shade\",\"Man finds $14,000 in cash along Worthington road, returns it to owner\",\"DISGUSTING: Black Woman Pleads Guilty For Beating Disabled White Teen Live On Camera, Gets No Prison Time\",\"Joseph O'Connor: Healing via harmony in post-war Sri Lanka\",\"Vermont reporters may get subpoena protection under new bill - WCAX.COM Local Vermont News, Weather and Sports-\",\"Customer denied access to R.E.C. Capital Credits account - NBC12 - WWBT - Richmond, VA News On Your Side\",\"U.S. Forest Service raises price of forest maps - KFVS12 News & Weather Cape Girardeau, Carbondale, Poplar Bluff\",\"UN seeks 1,300 places for refugees from Libya\",\"Falcons' Julio Jones: Roughs up Saints defense in finale\",\"Two collisions cause problems on the TCH west of Salmon Arm\",\"Metal pole used in Port Melbourne road rage attack\",\"Local man arrested in Daviess County, IN\",\"Surprise! Video footage shows officers waiting for Costco thieves outside emergency exit doors\",\"Energy Chamber: 2016 difficult year for sectorJan. 1, 2017, 9:12 PM Ast\",\"Defending champ Chestnut sets record with 74 hot dogs\",\"Contrasting Antares Pharma (ATRS) and Its Peers\",\"Louisiana man admits using Trump's Social Security number while seeking tax information\",\"Leo's on his way to visit Angela Merkel in his first visit to Berlin as Taoiseach\",\"REPORT: Chesterfield 1-2 Crawley Town\",\"Air base grounds aircrafts amid oxygen investigation\",\"First M4 GT4 lands in Australia\",\"Payout awarded to family of pensioner who died from drinking hand sanitiser at hospital\",\"Spain secures 11th straight World Cup appearance; Serbia blows chance to clinch\",\"Coasters target FA Cup third round spot\",\"Jewish groups call Corbyn anti-Semitism meeting 'disappointing'\",\"BN TV: DJ Neptune talks on his Challenges and Success Story on EbonyLife TV\\u2019s \\u201cEL Now\\u201d\",\"Farmers request dicamba window\",\"Cut Bank Man Killed After Getting Pinned by Tractor Bucket\",\"Harvey Weinstein to be suspended during harassment inquiry\",\"Pratt honours top athletes\",\"Apple's iOS 11.3 may use iCloud as a single sign-on for websites\",\"Meet The Millennials Re-Building Puerto Rico After Hurricane Mar\\u00eda\",\"What happened in Wisconsin\",\"Q&A: What companies' departure from Catalonia means\",\"Sharks score twice on power plays, beat Blue Jackets 3-1\",\"Layoff before Breeders' Cup working for many\",\"Jacksonville City Council approves budget audits\",\"GST Council meet: List of items that will become cheaper\",\"Sneaky Exploit Allows Phishing Attacks From Sites That Look Secure\",\"Kenyan runners sweep Boston Marathon men\\u2019s and women\\u2019s races\",\"Verizon Preps Fixed 5G but Mobile Gigabit-Speed Downloads May Not Arrive Until 2019\",\"Bach times two: Collegium and Master Chorale double the elation\",\"Dairy Products Packaging Market Estimated to Exhibit 4.5% CAGR through 2027\",\"Midland Announced Their Debut Album Titled \\u2018On The Rocks\\u2019\",\"Grinchy law denies prize to Christmas glitch lottery winners\",\"Historical Society presents \\u2018Mayflower: The Voyage that Made a Nation\\u2019\",\"Omeros' OMS721 continues to demonstrate treatment benefit after one year in IgA nephropathy patients; shares ahead 5%\",\"Roger Federer: Swiss star makes Juan Martin Del Potro defeat revelation\",\"US says canceled flights declining, fewer bags getting lost\",\"The Winter's Tale review - Scots-tinged Shakespeare is rich and raucous\",\"Clash of Clans developer Supercell reveals new game, Brawl Stars\",\"Potential for CytoDyn's PRO 140 for Treating HIV Patients Deemed Too...\",\"Gallery Conversation: World on the Horizon\",\"Another innovation from Unibank\",\"Animal rescuers say dog may have been used as \\u201cbait\\u201d for dog fighting\",\"On 1st day of spring, snow in forecast; storm watch posted\",\"Quesnel Crossfire looking for a road win to start 2018 playoffs\",\"Alleged Colombian drug kingpin to face charges in New York\",\"Contractor Walks Off Job Of Rebuilding Home Destroyed By Tornado\",\"Lara Bingle's $20K-per-night coastal getaway in Mexico\",\"Archbishop on Abortion Bills\",\"Adrianne Palicki Talks New Movie 'Baby, Baby, Baby' and Brief Stint as Wonder Woman\",\"Duelling petitions launched over Vancouver police in Pride Parade\",\"Principal accused of sexual misconduct commits suicide\",\"Pulaski recipient of $75,000 arts-based grant\",\"Simone Askew is first black woman to lead West Point cadets\",\"Idaho high school boys basketball state media poll\",\"Forget Tough Passwords: New Guidelines Make It Simple\",\"Conditional discharge for cop who sicced dog on man\",\"Motivate deploys 250 Ford GoBike Plus e-bikes\",\"Howard Webb explains why referee Lee Mason was right to send off Manchester City's Fernandinho against Burnley\",\"Uche Secondus formally takes over PDP leadership\",\"Daseke moves for NASDAQ ticker\",\"A Police Interceptors officer has tragically died at the age of just 34\",\"Rolf Harris to face retrial on assault allegations spanning two decades\",\"Celebrity chef Mario Batali accused of sexual misconduct by multiple women\",\"Lady Gaga shares first photo from 'A Star is Born'\",\"Graz, Leoben Offer Mater's Program in NATM Engineering\",\"Kanye West's Brain Is An Etch A Sketch, Yep, That Checks Out\",\"Number of cases probed by Sebi shot up 84% to 245 in 2016-17\",\"PHOTOS: 'Almost Edible' 106-Year-Old Fruitcake Found In Antarctica\",\"UAE announces ambitious plans to build human settlement on Mars by 2117\",\"Meth gang kidnaps Hollywood actors\",\"Nigeria: Unilorin Shops for New Vice Chancellor\",\"What Analysts Have to Say About Consol Energy Inc (CNX)?\",\"Egyptians celebrate Sham El-Nessim against grief over church attacks | SunStar\",\"Friday Early Forecast\",\"Pope tells 3 new bishops: no politicking, no high society\",\"UK to step up support for start-ups, infrastructure ahead of EU exit\",\"Personal library\",\"Patches of algae show up a little early in Lake Erie\",\"Man suspected in arson dropped cellphone at the scene\",\"Beyonc\\u00e9 Receives Award for Her Humanitarianism\",\"Foreigner found with head smashed in at Perak farm\",\"Ocala Police Department National Prescription Drug Take Back Day\",\"United Tech's sales rise 10.3 percent\",\"True Blood's Anna Paquin Reveals NSFW BBC News Blunder Showed *Her* Breasts\",\"'Black Panther' bests 'Tomb Raider,' tops $600M domestic grosses\",\"Blair bond issue fails\",\"The hubris of Gerhardt Hubner\",\"This is the BlackBerry Motion, an upcoming Android phone with no keyboard in sight\",\"Louboutin is making $250 baby shoes\",\"Donald Trump calls racism 'evil'; slams white supremacists, neo-Nazis\",\"BRIEF-Modern Land (China) Co HY profit attributable rmb 505.975 million\",\"Lawmakers Force UK Government Rethink Over Greater Scrutiny on Brexit Changes\",\"Another Batavia track star signs with Division I UB\",\"Janet Jackson Is Not Performing With Justin Timberlake at Super Bowl Halftime Show\",\"Seven Kenya Medics Union Officials Freed, Strike Continues\",\"Ras Kimono\\u2019s Funeral Slated On August 25\",\"Apple Just Brought On Board This New Executive\",\"APT awarded first trial 5G licence in Taiwan - Mobile World Live\",\"University of Northern Colorado men\\u2019s hoops heads to San Diego for CIT quarterfinals\",\"Coinwhere is for sale on BrandBucket\",\"\\u2018Full Frontal\\u2019 Fake Ambien Commercial Warns Sleep Drug May Cause Racism\",\"School Boards Votes For 2019-2020 School Year To Start In August\",\"Wall Street's biggest stories: April 17\",\"Remember the Chibok girls\",\"Letter: Revisionism for Little House\",\"Prep swimming: Barron Collier beats Fort Myers\",\"Decatur Lake Patrol out in full force for holiday weekend\",\"Windy, very warm and a chance of storms Saturday evening; Warm spell in its third week\",\"Russian journalist reported killed in Ukraine shows up alive\",\"Payne named director of communications at Marshall University\",\"Transport ministry: Uber needs to complete business registration\",\"TEDxUCR: \\u201cAmplify\\u201d intensifies the atmosphere with stories about empathy, music and bravery\",\"Third-track expansion contract advances to full MTA board\",\"Members Only\",\"Planets beyond our galaxy spotted for the first time\",\"Hillary Clinton Politicizes 'Wonder Woman' Saying She Relates to 'Strong Woman Saving World from Disaster'\",\"Diana princess of wales India Avanti Reddy\",\"Celeb birthdays for the week of April 29-May 5\",\"Mississippi implements the nation's toughest abortion ban\",\"Jailed for racially abusing man\",\"Essar Vizag Terminal to shutdown to commission 8 KTPH ship loader\",\"The Student interviews Mary Harron, director of Netflix\\u2019s Alias Grace\",\"Bengals' Carl Lawson earning respect along with pressures\",\"David Clarke Mocks John Lewis Mississippi Civil Rights Museum No Show\",\"Khloe Kardashian Gives Fans a Look at Her New Year's Kiss!\",\"Kris Dunn Shows Off Insane Dribble To Get Around Defender\",\"Russia's Denis sets world record in men's 1,500 metres\",\"Bills' Dareus makes 1st pitch in bid to put troubles behind\",\"SE Asia Stocks-Cautious as N. Korea tensions abate\",\"Pollutant found in US base as high as 160 times normal limit: report\",\"North Korea's Kim holds off on Guam plan; US says it can intercept missile\",\"Vatican lends sacred vestments to fashion show featuring female-priest clothing\",\"\\u2018Giraffe Cam\\u2019 to be taken down after April suffers leg injury\",\"Snap! Selfie-seeking tourist bitten by Thai crocodile\",\"Amanda's View: Ethnic\",\"Attawapiskat chief launches war on drugs\",\"Through sickness and health: Veterans renew vows on Valentines\\u2019 Day\",\"Convicted murderer kills again in public toilet\",\"Three Iraqi policemen killed in suicide attack south of Mosul\",\"Street Talk : Is 10-days paid paternity leave necessary?\",\"Ah Yes, Those Jobs & Wages\",\"Match Analysis: Mansfield Town 1 Doncaster Rovers 1 - Frustrating end to the year for Rovers\",\"Proper fantasy-baseball management requires a real-life commitment\",\"Mississippi bans abortions at 15 weeks - ABC-7.com WZVN News for Fort Myers, Cape Coral & Naples, Florida\",\"A DOG WILL NOT CRY IF YOU BEAT HIM WITH A BONE\",\"BCBS of Alabama warning of phone scam - WAFF-TV: News, Weather and Sports for Huntsville, AL\",\"Best Bets\",\"Sabres' Zach Bogosian: Effectively ruled out for Saturday's contest\",\"AP Photos: Immersive art gallery in Paris showcases Klimt\",\"Musgrove beats Cubs on the mound, angers them on the bases\",\"Boat rentals in Raleigh, Durham, Cary, Chapel Hill and Garner\",\"Best Christmas Lights House: Video\",\"Hangars, planes damaged in Chandler airport fire\",\"Gigi Hadid's Birthday Makeup Look Used This $3 Eyeshadow, So You Can Sparkle, Too\",\"'Disgraceful' First Dates woman slammed by viewers for appalling behaviour\",\"Sandstone Summer Concert Series\",\"Malaysia's Najib charged with corruption, weeks after stunning election defeat\",\"Why social smoking can be just as bad for you as daily smoking\",\"Catwalk model, 22, is spared jail over glassing assault\",\"Introducing Lilly Pulitzer For Pottery Barn\",\"German musical magic for Kilkenny Arts Festival\",\"Huddersfield Giants star Jermaine McGillvary stunned by reaction\",\"POLICE: Suspects arrested with suitcases containing 'very large' - WDRB 41 Louisville News\",\"13 things people would do if they had a magic room that stopped time\",\"Ashgold must still work harder - CK Akonnor\",\"Lexington County Coroner identifies victim in fatal Swansea coll - wistv.com - Columbia, South Carolina\",\"Citigroup Reorganizes Credit Markets Unit\",\"Serbia museum benefits from renewed interest in Nikola Tesla\",\"Guy Bavli at the Alhambra Ballroom, the Master of the Mind, is back\",\"Personalized cancer vaccine may increase long-term survival in patients with deadly brain cancer\",\"Broken light causes standby emergency for CAL\",\"Gun Battle Breaks Out During Brooklyn Gas Station Robbery \\\" CBS New York\",\"Egypt: Eight Suspected Takfiris Arrested in Central Sinai\",\"Nervous universities await clearing as student applications fall\",\"Bradford Bulls duo set to depart\",\"Officers arrest 3 suspects after 3 pot shops broken into in Kitsap County\",\"World\\u2019s largest road trip pulls into Gateway Motorsports Park\",\"Brian Bowen: Stay at South Carolina or NBA draft\",\"As New Jersey heads toward marijuana legalization, New York may soon follow\",\"Catholic Church to act as mediator as Nicaragua protests continue\",\"Muschamp remains confident in struggling Gamecocks' offense\",\"More Than $4 million in Art Sold at Annual Russell Auction\",\"OTT, Cable Networks, Film Studios Battle For Content Creators\",\"A Letter to Our Struggling Readers by Jen Petro-Roy\",\"Ex-Leeds United star blasts club for having too many foreign players in their under-23s team\",\"Selena Gomez Completes Two-Week Treatment For Anxiety and Depression: ''She Wanted to Spend Some Time Focusing On Herself''\",\"Young Thug Shares Ritualistic \\u2018Easy Breezy Beautiful Thugger Girls\\u2019 Trailer\",\"HAWICK BOSSES IN QUIT SHOCK\",\"Cyber Security Conference: Infosec Intelligence Conclave 2017\",\"Nigeria: Foundation to Open Free Clinic for Less Privileged\",\"Pentagon: Transgender people can enlist in military, despite Trump opposition\",\"Study: California gun deaths declined between 2000 and 2015\",\"China Unicom forecasts drop in H1 revenue - Mobile World Live\",\"Ignore Obasanjo, Buhari - Renowned monarch, Isaac Wakili tells Nigerians\",\"Florida Football Completes 2018 Recruiting Class With 10 Summer B Enrollees\",\"3i Infotech on the Cusp of a Major Growth Trajectory\",\"Surfing dogs at the 2017 Rose Bowl Parade!\",\"Bikini-clad Helen Skelton delights fans with new snap\",\"Centre moves SC against Madras High Court\\u2019s relief for Karti Chidambaram\",\"South Africa wine production drying up in water crisis\",\"Michael Rotondo to be booted out of home in two days, and he\\u2019s struggling\",\"Isaac Haas not expected to play for Purdue Boilermakers in NCAA tournament\",\"Letter: Natalie Portman\\u2019s brave response to being invited to accept Genius Prize in Israel\",\"John Cleese: Live on Stage\",\"Willie Nelson cuts show short, cites Utah\\u2019s high altitude\",\"Possible Ghosts on POP Goes The World\",\"George Groves posts clip of himself punching for first time since injury\",\"Shanghai happier with post-Ecclestone era\",\"OnePlus won\\u2019t launch a mid-range smartphone until 2021\",\"Activist investor Trian takes $3 billion stake in P&G\",\"Tarnished, Mexico's Marquez heads to fifth World Cup\",\"UNITED SIKHS Call Upon U.S. & Pakistan Government For Justice In Assassination of Humanitarian Volunteer\",\"Oprah Winfrey Says That She and Stedman Graham Would Not Still Be Together Had They Gotten Married\",\"\\u201960s Scoop deal to compensate victims, fund reconciliation foundation\",\"Facebook conference likely to lift veil on hardware research\",\"Apple just made a convenient change to iMessage - but there's a key reason you may not want to switch it on (AAPL)\",\"Golconda Masters 2017 tees off on February 16\",\"Trump Condemns Hate Groups, Calls Racism 'Evil' Days After Charlottesville Violence\",\"Can \\u2018Mowgli\\u2019 Sell MovieGoers on a Darker \\u2018Jungle Book\\u2019?\",\"Scrap Dancers! Stripper who brawled with naked colleague at nightclub is cleared of assault\",\"Pressure Relief Devices Market is Expected to Reach Approximately US$2.80 billion by 2020-End\",\"Man, who attempted pretentious suicide to promote Turkey\\u2019s Erdo\\u011fan, commits murder\",\"Fed raises key rate and unveils plan to reduce bond holdings\",\"Infiniti reveals 'what if' Prototype 9 1940s grand prix racer ahead of Pebble Beach\",\"Cardinal set for sainthood criticized for anti-Semitism\",\"Shropshire mum publishes new children\\u2019s book\",\"Woman bitten by wild snake in Aus. zoo\",\"Sydney there for the taking, says Victory's Rhys Williams\",\"Jaishankar appointed as Tata Group's President of Global Corporate Affairs\",\"Feminists want action, not 'platitudes' at G7\",\"Global Security Mag Online\",\"Fox to investigate sexual harassment claim against O'Reilly\",\"Scientists discover a giant black worm monster in the Philippines\",\"Ban on plastic: NGT seeks status report from Delhi government\",\"Extreme adventurist inspiring others to live a 'No Barrier' life\",\"Here\\u2019s Your Exclusive First Look at Dickies\\u2019 Next Big Fashion Collab\",\"Rafa Benitez gives Newcastle transfer update in the wake of the club\\u2019s shock defeat to Blackburn\",\"Traveling Abroad? Get An International Phone Card\",\"Spieth, Reed drawn in same group at Match Play\",\"These Are the Biggest Snubs from the 2018 Golden Globes Nominations\",\"Corrections officer shoots escaped murder suspect in Yesler\",\"Food that tastes so nice, you say it twice: Burma Burma\",\"Fitch Assigns ProCredit Bank AG 'BBB' Rating; Outlook Stable\",\"UN rights chief: Syria siege involved \\u2018war crimes\\u2019\",\"Game of Thrones Season 8 premiere might get delayed\",\"Five Star Music Group's Artist, Lunacie, Lands at Number One on Both Urban and Indie Charts\",\"5 \\u00bd years in prison for trash hauler who bribed officials\",\"Parents describe crowded Annapolis schools as debate over capacity continues\",\"Rare Beatles image taken by Bury St Edmunds photographer in charity auction\",\"Separatists have no business to talk about Article 35A: Omar Abdullah\",\"Torrington officer busts Dunkin\\u2019 Donuts drug deal\",\"New industrial policy being \\\"designed\\\" to equip industry for the future, says Suresh Prabhu\",\"'Celebrate Trump' rally in Willmar, Minnesota, features talk of voter fraud, 'civil war'\",\"What is dementia?\",\"TV Gord\\u2019s WHAT\\u2019S ON for the week of July 30th-August 5th, 2017\",\"WHAT'S HAPPENING: Vegas gunman might have hired prostitute\",\"US consumer prices post biggest rise in nearly 4 years\",\"R.E.M. unearth unreleased demo \\u201cDevil Rides Backwards\\u201d: Stream\",\"Crowdfund scheme with a \\u00a320 stake\",\"Plate like a chef\",\"Pyeongchang\\u2019s Winding Path From Obscurity to Olympics Fame\",\"Body-Came Video Of Ricky Jerome Shot By Police Has Not Been Released\",\"Fed's Powell suggests removing qualitative test from bank stress-testing\",\"ND man walking early New Year\\u2019s Day is struck, killed by pickup\",\"Lawsuit: Dude ranch owner asked chef for \\u2018black people food\\u2019\",\"2018 Jeep Wrangler Horsepower\",\"Check Grandma\\u2019s Attic \\u2014 That Vintage Bourbon Is Now Legal to Sell, and Probably Delicious\",\"Free \\\"Enchanted Evening\\\" at Boerner Botanical Gardens\",\"Gordon Ramsay Teases Changes to 'MasterChef's New Season\",\"Heathcote returning \\u2018home\\u2019 to Deepdale\",\"U.S. Amateur champion Doc Redman and Western Amateur champ Norman Xiong announce plans to turn pro\",\"$400,000 added to Stillwater PD remodel\",\"Vince Congratulates John Cena, WWE Looks At Top Hopeful Moments In 2017\",\"Breanna Stewart embracing chance to help sex abuse victims\",\"Getting the optimum tax relief on your research work\",\"Trump celebrated Obama's call for gun control after Sandy Hook\",\"Problems Mount for United After Bride and Groom Say They Were Kicked off Flight\",\"US allows ZTE to resume some business\",\"Formula E: A fresh start for Esteban Guti\\u00e9rrez\",\"Soccer-Chapecoense seek inspiration from timely trip to Japan\",\"Adani says will 'adjust to constraints' after Australia coal loan veto\",\"Embattled Chinese Oil Giant Halts Plans for European Expansion\",\"CPM takes comfortable lead in Chengannur Assembly bypoll in Kerala\",\"Rabbit cull ordered at Borders cemetery\",\"Sony's push into entertainment aims for stability, not splashiness\",\"Same old story for Atletico against triumphant rivals Real\",\"Victoria Beckham gives daughter `strong\\u00b4 female book...\",\"FTII professor axed for \\u2018casual\\u2019 paper checking\",\"39 most anticipated movies for the rest of 2018\",\"US greets Pakistan on Independence Day, says to continue working together\",\"Schwan's sweet to talk about new, sugary shop, but less so about company's future\",\"MUSIC: Pope - Ifeoma\",\"Uber suspends self-driving car testing after cyclist is killed\",\"American Varroc Lighting acquires Turkish automotive firm\",\"\\u2018Trump\\u2019 is children\\u2019s word of the year\",\"Protesters topple Confederate statue in North Carolina\",\"Forget Gilead Sciences Inc.: These 2 Stocks Doubled Last Year\",\"Guitars and Friends\",\"How I, Tonya betrays its tragicomic ice-staking protagonist\",\"Judge rejects shooting suspect\\u2019s request for new attorney\",\"Eco-Friendly Packaging Lining to Encourage Asia\\u2019s Packaging Market: Ken Research\",\"Forty new jobs on way as Edgeworthstown firm plans multi million euro redevelopment\",\"Inside Marianne Faithfull's chic Paris apartment\",\"Divide over listing location slows Aramco IPO: WSJ\",\"Boaters say group stole pigs off California Delta island\",\"France's Mbappe sprints towards superstar status at World Cup\",\"F1, Formula 1 news - Great-Britain 2018 - GP Preview - Force India Mercedes\",\"Egypt: 10 Quotes From Nobel Laureate, Naguib Mahfouz\",\"Diabetes and Your Period\",\"Anti-migrant leader pushes to win national power in Italy\",\"106-year old fruit cake found in Antarctica and ice cream is coming to space!\",\"'NHS on financial KNIFE-EDGE' May and Hammond slammed in latest funding row\",\"L\\u2019view girls\\u2019 soccer preps for new season\",\"Stories from girls tourney\",\"Victim in Worcester motorcycle crash identified as Adrianna Colon; Benefit ride planned in her honor\",\"Ariat Coniston Pro GTX Insulated boots review\",\"India lose 0-3 to USA in FIFA U-17 opener\",\"3 state attorneys favor walling off Great Lakes to stop carp\",\"Valverde wary of Morata threat for Chelsea\",\"Pep's perfect player: Pass-master Jorginho will make Man City even scarier\",\"Top 10 Stories: Campaign to Repeal the Head Tax, Seattle's Next Police Chief, and Gun Violence\",\"Sarah Duffy \\u201918 on Studying Abroad in Ireland\",\"Decision on plan to build 425 homes near Burton Green postponed\",\"Illegal guns, ammunition intercepted: Malawi Police say one suspect tried to kill lover\",\"NBA sneakers of the night: James Harden drops 36 points in Harden Vol. 2\",\"Russian intelligence agency says it foiled attack plot\",\"Tia Carrere takes Bianca, 12, to Peter Rabbit premiere\",\"Take a first look inside Gloucestershire's first Five Guys\",\"Charlottesville Suspect To Remain In Jail After First Court Appearance\",\"Michigan marina project near sand dunes gets key permit\",\"Era Of The Litchfield Courthouse Comes To A Close\",\"Britain\\u2019s Best Best Men Share 8 Top Tips\",\"The Catfish Radio\",\"Spurned medical marijuana applicant pushes new pot issue\",\"Hammes HQ Takes Shape\",\"Who's No. 1? See AL.com preseason Power 25 HS football rankings\",\"Wyandotte County District Attorney says nonprofit part of real estate scam threatening homeowners with eviction\",\"New video shows boys in cave receive aid\",\"3 World Trade Center\",\"What Issues Face OC's Muslim Community?\",\"Nest Unveils Temperature Sensor To Keep Your Home Cozy\",\"Obituaries: Marie E. Vorwerk,\",\"Man says he was discriminated against for clothes worn during pl - KMOV.com\",\"Review: In 'American Animals,' a library heist goes awry\",\"The Latest: Californian pleads not guilty to killing student\",\"Indeed, Jon Lester met with the Cubs fan that caught his first home run ball\",\"Govt may cut its stakes in PSU banks to 52%, says Sanjeev Sanyal\",\"Liberals gather together for their last AGM before the next election\",\"Soccer-What's in a name? Not much if you are Walker-Peters\",\"Informal WTO ministerial meeting begins in Delhi; 52 nations participating including US, China\",\"Roberto Firmino Hails Impact of Lightning-Fast Wingers on Liverpool's Attacking Style\",\"Tyler-based KP Engineering wins Targa contract for natural gas facility\",\"Where Is Melania Trump? Donald Trump Is \\u2018Hiding Something\\u2019 About His Wife\\u2019s Absence, White House Official Says\",\"Financial capability of Maori businesses under study\",\"Liberia: EU Ambassadors Review Brac Livelihood Programs in Buchanan\",\"Interest rates and Tesla Amazon valuation\",\"Former Stoke City youngster signs for the Lambs\",\"Former OW Bunker manager sentenced to 18-month jail term\",\"Valentine\\u2019s Day takes on special meaning for parents of hospitali\",\"UAE Consulate in Barcelona starts Iftar Saem in Catalonia\",\"Security cameras coming to Linwood Rec after brawl, a year after other fights in area\",\"Germany's Merkel encouraged U.S. will consider EU free trade deal\",\"Scouts scoop staples for shelters -\",\"Prosecutor to drop felony charge against Missouri governor | Myrtle Beach Sun News\",\"'Father of Global Warming' Scientist Finally Admits Theory Is Wrong\",\"High-temperature warning for Kilkenny between 2pm and 7pm today\",\"The Kenyon Collegian\",\"Nick Ward withdraws name from NBA Draft\",\"North Korea earns $200 mn from banned exports despite sanctions: UN\",\"Insulin Pumps Market - Detailed Analysis and Forecast by 2023\",\"Doctor who treated Grenfell Tower fire victims reveals hidden home danger that could prove fatal in a blaze\",\"Football transfer rumours: Liverpool target Napoli's Piotr Zielinski?\",\"Donald Trump `knew Michael Flynn had misled White House weeks before firing him\\u00b4\",\"Air Scan cuts the sound of silence\",\"Breaking: Harris County responding to suspicious package in park, homes evacuated\",\"J-K: 3 CRPF personnel among 5 injured in grenade attack\",\"NBA great Ray Allen talks about what it means to be 'clutch' - NBC12 - WWBT - Richmond, VA News On Your Side\",\"Wike attacks Amaechi over project claim\",\"UK Innovation hub bolsters offering for start-ups with three venture development hires\",\"No suspensions for Seahawks after Jacksonville meltdown\",\"Taxi driver thought to be resting for 18 hours was dead\",\"Backstage News On Who Will Face Alexa Bliss At WWE Summerslam *Spoiler*\",\"Mabuza faces first questions as deputy president in the National Assembly\",\"Protesters arrested at the Royal Wedding lose court challenge against Met\",\"Wasps flanker Thomas Young on being coached by his father\",\"Gottlieb front runner for HHS\",\"Confederate flag raises eyebrows in Palos Verdes Estates\",\"Logwood sparks New Mexico late in 71-68 victory\",\"10-year Treasury bond yield hits 3% milestone, and earnings reports lift stocks\",\"Rise of the shorts: Activist short-sellers are increasingly targeting Canadian companies\",\"Euro area sees price gains as manufacturing picks up pace\",\"Deepika Padukone's 'lungi' dance to feature in Vin Diesel's xXx4?\",\"Pumpkin spice scent prompts school evacuation, multiple people taken to the hospital\",\"Samsung launches 2nd appliance line at S. Carolina facility\",\"South Merced house fire kills two children, officials say\",\"Will Libya Be First To Ditch The OPEC Production Deal?\",\"\\\"\\u041d\\u0435\\u0443\\u0431\\u0438\\u0432\\u0430\\u0435\\u043c\\u0430\\u044f\\\" Nokia 3310 \\u0441\\u043d\\u043e\\u0432\\u0430 \\u043f\\u043e\\u044f\\u0432\\u0438\\u0442\\u0441\\u044f \\u0432 \\u043f\\u0440\\u043e\\u0434\\u0430\\u0436\\u0435\",\"German election polls 2017: Angela Merkel on warpath after holiday lull\",\"Norwegian aluminum maker apologizes for pollution in Brazil\",\"For volunteers, Holiday Food and Gift Basket program helps 'make the holidays a little more about giving'\",\"Maryland detective resigns, avoiding prison for misconduct\",\"Drugstore Chain CVS Poised for a Rebound\",\"Cobra King Utility Iron review\",\"PepsiCo beats 4Q profit forecasts\",\"BRIEF-Ligand enters commercial license and supply agreements with Marinus Pharmaceuticals for captisol-enabled Ganaxolone\",\"Memo's release fuels Trump's feud with his own law enforcement agencies\",\"Naperville People in the News\",\"Dow Jones takes triple-digit tumble just hours before Trump's State of the Union\",\"Manchester United transfer news: Victor Lindelof deal 'back on', Pepe linked with Old Trafford\",\"Video: Kyle Schwarber lays down a picture-perfect bunt for a hit\",\"US World Cup ratings down 42 percent without American team\",\"Raptors rebound with blowout win over Blazers\",\"USD/CAD on the offers below 1.3450 as New Year kicks-in\",\"Digital challenger Starling to hit profit in 2019 says founder Anne Boden as European expansion takes crucial step\",\"Sag Harbor School Board Approves 2017-18 School Year Calendar\",\"Jose Mourinho: 'No sympathy for West Ham United'\",\"Congress takes first step in striking down DC\\u2019s assisted-suicide law\",\"CONSUMER: Portugal cruise holiday turned into a nightmare for Portsmouth pensioner\",\"Dominican News News at Caribdaily.com\",\"Thomas Conducts Breakfast Tour\",\"LEDs Need a Sensor Interface\",\"Utah hits 14 3-pointers, eases by LSU 95-71 in NIT\",\"NRA supporters are blowing up Yeti coolers. Yeti says it's all a big mistake.\",\"Quotation Management Software Solutions for Small Business\",\"Blackpool child abuse: Couple and ex-wife on trial\",\"What Analysts Think of Veon Ltd (VEON)?\",\"FBI and SEC investigating Facebook, Mark Zuckerberg over Cambridge Analytica scandal: Reports\",\"Samson the Mini-Horse, the perfect pet when you're short on stable space\",\"Jaden Smith Dons Infamous White Batman Suit for \\u2018Batman\\u2019 Music Video\",\"Colts kicker Adam Vinatieri cost himself $500K with one missed field goal\",\"Brown's Wharf in Fells Point sells for $21 million\",\"Hoquiam woman to appear on \\u2018The Voice\\u2019\",\"Americans have a favorite dog breed-and it's not the Internet-famous doge or the corgi.\",\"Steve Scalise: How the Shooting Risks Political Outrage\",\"April 24, 2018\",\"No Arrest For Pro-Trump Agitator At Danbury High School, Police Say\",\"Oath on Khatm-e-Nabuwwat restored to original form\",\"CAR: Rights groups welcome appointment of Special Crimes Court prosecutor\",\"VLM to ensure continuation on Antwerp to London City route\",\"Sarah Sanders Chokes Back Tears (and Gives Non-Answer) to Kid Who Asks About School Shootings\",\"WWII veteran, 99, visits Illinois on 50-state capital tour\",\"Unique Father's Day gift offers help for grouchy dads\",\"Authorities seek help from public in violent San Ysidro home invasion\",\"West Africa: Ecowas Joint Committee Adopts Draft Resolution\",\"Car in Ditch After Three Vehicle Crash on Hwy 169\",\"Despite back injury, Canadian Graham DeLaet felt \\u2018weird calmness\\u2019 as he battled to 7th-place finish at PGA Championship\",\"Nicco Beretta shares trans journey to serenity\",\"Simon Cowell is adorably upstaged by son Eric on Britain's Got More Talent\",\"I'm leading a united dressing room, says Leicester's Ranieri\",\"Abuja International Airport ready for use - NCCA\",\"I Don\\u2019t Have Cancer - Regina Van-Helvert\",\"Macron in Lagos calls on Africans to \\\"succeed in Africa\\\"\",\"'I've never seen anything like it' - man captures horrific mess at 3am McDonald's\",\"Hearts appeal Esmael Goncalves red card\",\"Why You Get Sick After Long Airplane Rides\",\"Trump VA pick Jackson dogged by questions, new allegations\",\"Mistaken Identity by Asad Haider review - the best criticism of identity politics\",\"OFFICIAL: Floyd Mayweather to fight Conor McGregor as superfight is confirmed\",\"Peruvian mob kills Canadian blamed for shaman's killing\",\"Shoplifting suspect crashes, leaves 2-year-old to die in car, cops say\",\"Hit and run of 12-year-old girl in crosswalk in San Jose caught on surveillance video\",\"Arthur Collins acid attack victim makes miracle recovery thanks to Birmingham treatment\",\"City declares erosion state of emergency on Lido Key\",\"Ethics bowl promotes progressive understanding\",\"Conor McGregor trolls Floyd Mayweather ahead of super-fight in August\",\"Hundreds Feared Dead After Mudslide In Sierra Leone\",\"Televangelist asking for donations to buy $54 million jet\",\"Live ammo and drugs seized in raid\",\"'Good' report rates Devon and Cornwall Police wellbeing as 'outstanding'\",\"\\u2018Feud\\u2019: Jackie Hoffman Offers to Accept Emmy Award (Watch)\",\"Permanent memorial dedicated to paramedics killed in DUI crash\",\"Months After Gauri Lankesh Murder, Investigation Team Files First Charge Sheet\",\"17-year-old arrested in SC armed robbery\",\"Not given up demand for special status: Nitish Kumar\",\"Motorcyclist, pedal cyclist killed as\\u2026Two Fort Wellington cops involved in separate fatal accidents\",\"Vintage \\u201cBase Ball\\u201d Team To Play at Waveland\",\"Atlanta zoo names cockroach after Patriots QB Tom Brady\",\"Rohingya Child Disappearances Spark Trafficking Fears\",\"Richardson Appeals to Alabama Supreme Court to Allow the Sale of Georgia Washington Middle School\",\"Harry surprised by Oregon State offer\",\"Ex-President Obasanjo playing politics with letter to President Buhari - Asiwaju Tinubu\",\"Kansas well owners, non-well owners have different watering routines during droughts\",\"7 Times Kate Middleton and Prince William Got Competitive With Each Other\",\"Freight and Warehousing Firms Add Jobs in September, Bucking Downturn\",\"It\\u2019s Time for a Siesta\",\"2nd Annual Greens Festival at Virginia Avenue Park in Santa Monica, California\",\"Department of Agriculture signs with Optus for another three years\",\"Authorized Generics Market to Register Substantial Expansion by 2024\",\"Tamra Judge\\u2019s Daughter Sidney Barney Reportedly Threatens To File Order Of Cease And Desist Against Her\",\"You can pre-order the Ataribox this week, but why would you?\",\"Self-driving Uber kills pedestrian in first fatal crash in the US\",\"Top takeaways from Diego Costa\\u2019s incredible rant\",\"New Galway United Manager Alan Murphy Gives His Cup Draw Thoughts To Galway Bay FM Sport\",\"Mandatory evacuations lifted in Santa Barbara County\",\"Obituary: Huddersfield motor trade stalwart Frank Brighton\",\"2017 will likely get the \\u201cnot-as-hot-as-last-year\\u201d award\",\"Stroman 'excited' to win arbitration case\",\"Ruckus in J&K assembly, opposition protests during national anthem\",\"Stocks drop on cost worry; U.S. 10-year yields top 3 percent\",\"Joongang Sunday announces the winners of '2017 The Greatest Executive Leadership of the Year'\",\"Marshall Loeb, pioneering business journalist and MarketWatch columnist, dies at 88\",\"Pratt drops in at Teen Choice Awards\",\"Futures higher as North Korea tensions ease slightly\",\"5-Star QB Prospect Justin Fields Commits to Georgia over FSU, LSU, More\",\"Calais violence is 'unbearable' as five migrants shot in huge brawl\",\"Lady Gaga cancels 10 concerts due to illness\",\"State revenues surge, but not in time to aid budget\",\"Multiple arrests as drugs and knives seized in Weston-super-Mare crackdown on 'county lines' dealing\",\"Belgrano Fan Thrown to His Death in Derby Match\",\"Djokovic advances at Qatar Open after slow start\",\"AMPLIFY: Zac Brown Band\\u2019s \\u2018Welcome Home\\u2019\",\"New plans for Yeppoon's iconic 'pie alley' will cure the blues\",\"Provectus Welcomes Mr. Will Moody\",\"You've been pouring your Guinness all wrong\",\"Home, Auto loans get cheapest in 6 years\",\"The Netflix tips you've never heard of: The best tips and tricks to try on the streaming service\",\"Officials say inmate died after fight with another inmate\",\"Harley Davidson will shift production, lay off 118 Pennsylvania workers\",\"Spotify CEO Daniel Ek on New Content Policy: We Rolled This Out Wrong\",\"Benhur Luy: \\u2018Why is the gov\\u2019t turning against us?\\u2019\",\"This robotic manta ray may speed underwater search and rescue\",\"Chemical plant explosion thrusts Arkema into spotlight\",\"Body found in stairwell on grounds of San Francisco hospital\",\"Judge considering whether BRPD officer can sue BLM protesters fo - WAFB 9 News Baton Rouge, Louisiana News, Weather, Sports\",\"Flop Memphis Depay explains what went wrong at Manchester United following Lyon resurgence\",\"Portelli, Melham join forces again with Villiers hope Testashadow\",\"See Renee Zellweger as Judy Garland in the first look at \\\"Judy\\\"\",\"I will retain my int'l title, says Nigeria\\u2019s draught champion\",\"Yankees place Gleyber Torres on the 10-day DL\",\"The Latest: Lawmaker accused of sexual assault told: Resign\",\"Human rights activist dies of head injury\",\"Facebook's Chief Information Security Officer Alex Stamos Said to Depart Over Internal Disagreements\",\"NASA Team Explores Using LISA Pathfinder as 'Comet Crumb' Detector\",\"Jefferson Award recipients honored at ceremony in Jackson\",\"Amalia hires Danish O&M muscle\",\"Killing of worshippers in Benue is vile, evil and satanic - President Buhari\",\"Rihanna Reportedly \\u2018Jealous,\\u2019 Hoped To Rekindle Drake Romance Before Jennifer Lopez \\u2018Happy\\u2019 Hookup\",\"Enerjisa closes books but ECM buyers pushing back on valuations\",\"Hit & run driver hits NW Huntsville house, injures child - WAFF-TV: News, Weather and Sports for Huntsville, AL\",\"MOM FRIENDS, PART 3: Is it really that important to have other parent friends?\",\"Cristiano Ronaldo Handed Five-Match Ban For Ref Push\",\"The combination of food and politics can bring seismic change\",\"Dental Health May Be Within Reach With Financial Education Benefits Center Resources\",\"Israel says anti-Semitism rising in Poland as Holocaust row simmers\",\"State law: Schools with 'D' or 'F' must inform neighborhoods\"],\"title\":\"Articles\",\"value\":\"Park storms to 5-shot win in Founders Cup\"},\"id\":\"1004\",\"type\":\"Select\"},{\"attributes\":{\"css_classes\":[\"markdown\"],\"margin\":[5,5,5,5],\"name\":\"Markdown00111\",\"text\":\"&lt;p&gt;Athletics: U.S. reclaim 4x400m title, more injury woe for Jamaica&lt;/p&gt;\"},\"id\":\"1009\",\"type\":\"panel.models.markup.HTML\"},{\"attributes\":{\"children\":[{\"id\":\"1007\"},{\"id\":\"1008\"},{\"id\":\"1009\"},{\"id\":\"1010\"},{\"id\":\"1011\"}],\"margin\":[0,0,0,0],\"min_width\":600,\"name\":\"Column00117\",\"width\":600},\"id\":\"1006\",\"type\":\"Column\"},{\"attributes\":{\"css_classes\":[\"markdown\"],\"margin\":[5,5,5,5],\"name\":\"Markdown00109\",\"text\":\"&lt;p&gt;Russia&amp;rsquo;s Denis sets world record in men&amp;rsquo;s 1,500 metres&lt;/p&gt;\"},\"id\":\"1008\",\"type\":\"panel.models.markup.HTML\"},{\"attributes\":{\"css_classes\":[\"markdown\"],\"margin\":[5,5,5,5],\"name\":\"Markdown00107\",\"text\":\"&lt;p&gt;GP Report: MXGP of Switzerland&lt;/p&gt;\"},\"id\":\"1007\",\"type\":\"panel.models.markup.HTML\"},{\"attributes\":{\"css_classes\":[\"markdown\"],\"margin\":[5,5,5,5],\"name\":\"Markdown00115\",\"text\":\"&lt;p&gt;Packers surge to post-season, Lions back in&lt;/p&gt;\"},\"id\":\"1011\",\"type\":\"panel.models.markup.HTML\"},{\"attributes\":{\"children\":[{\"id\":\"1006\"}],\"margin\":[0,0,0,0],\"name\":\"Row00106\"},\"id\":\"1005\",\"type\":\"Row\"},{\"attributes\":{\"reload\":false},\"id\":\"1013\",\"type\":\"panel.models.location.Location\"},{\"attributes\":{\"client_comm_id\":\"205dc2eda6234057927c1583d818c8ef\",\"comm_id\":\"3c15d15bdcae43428ae385e4c1522702\",\"plot_id\":\"1002\"},\"id\":\"1012\",\"type\":\"panel.models.comm_manager.CommManager\"},{\"attributes\":{\"align\":\"center\",\"children\":[{\"id\":\"1003\"},{\"id\":\"1004\"},{\"id\":\"1005\"}],\"height\":300,\"margin\":[0,0,0,0],\"name\":\"Column00119\",\"sizing_mode\":\"fixed\",\"width\":600},\"id\":\"1002\",\"type\":\"Column\"},{\"attributes\":{\"css_classes\":[\"markdown\"],\"margin\":[5,5,5,5],\"name\":\"Markdown00113\",\"text\":\"&lt;p&gt;Grand slam title could spur Thomas to more&lt;/p&gt;\"},\"id\":\"1010\",\"type\":\"panel.models.markup.HTML\"}],\"root_ids\":[\"1002\",\"1012\",\"1013\"]},\"title\":\"Bokeh Application\",\"version\":\"2.3.3\"}};\n",
       "    var render_items = [{\"docid\":\"ca5763ec-e60e-42fb-8680-0a8fd23d8cd4\",\"root_ids\":[\"1002\"],\"roots\":{\"1002\":\"f6913c17-5ee3-42a6-83bc-3b9755ba5759\"}}];\n",
       "    root.Bokeh.embed.embed_items_notebook(docs_json, render_items);\n",
       "  }\n",
       "  if (root.Bokeh !== undefined && root.Bokeh.Panel !== undefined) {\n",
       "    embed_document(root);\n",
       "  } else {\n",
       "    var attempts = 0;\n",
       "    var timer = setInterval(function(root) {\n",
       "      if (root.Bokeh !== undefined && root.Bokeh.Panel !== undefined) {\n",
       "        clearInterval(timer);\n",
       "        embed_document(root);\n",
       "      } else if (document.readyState == \"complete\") {\n",
       "        attempts++;\n",
       "        if (attempts > 100) {\n",
       "          clearInterval(timer);\n",
       "          console.log(\"Bokeh: ERROR: Unable to run BokehJS code because BokehJS library is missing\");\n",
       "        }\n",
       "      }\n",
       "    }, 10, root)\n",
       "  }\n",
       "})(window);</script>"
      ],
      "text/plain": [
       "Column(align='center', height=300, sizing_mode='fixed', width=600)\n",
       "    [0] Markdown(str, height=50, margin=(10, 10, 10, 5), sizing_mode='stretch_width', style={'color': '#000000'}, width=600)\n",
       "    [1] Select(name='Articles', options=['Cristiano Ronaldo banned...], value='Park storms t...)\n",
       "    [2] ParamFunction(function)"
      ]
     },
     "execution_count": 61,
     "metadata": {
      "application/vnd.holoviews_exec.v0+json": {
       "id": "1002"
      }
     },
     "output_type": "execute_result"
    }
   ],
   "source": [
    "pn.Column(text, title_widget, article_recommender, align='center', width=600, height=300)"
   ]
  },
  {
   "cell_type": "markdown",
   "id": "a69a8aff",
   "metadata": {},
   "source": [
    "## 6. Summary"
   ]
  },
  {
   "cell_type": "markdown",
   "id": "6770327e",
   "metadata": {},
   "source": [
    "Blind Spots\n",
    "\n",
    "With additional time we could have,\n",
    "1. Further tweak the parameters of the vectorizers and models;\n",
    "2. Create visualizations of the document similarity to find more interesting patters;\n",
    "3. Take the title of an article out of the body of the article to create a better, less biased representation of the words within a document;\n",
    "4. Using Pytorch's nn.CosineSimilarity would help a lot with increasing the efficiency of our recommendation system;\n",
    "5. There should have been a lemmatization step in the preprocessing stage.\n",
    "\n",
    "Takeaways,\n",
    "1. Recommendation systems are an example of unsupervised machine learning;\n",
    "2. Recommendation systems can be created with or without users behavioural data;\n",
    "3. Creating bags of words requires careful attention to the parameters;\n",
    "4. Where possible, showcase a model or system in a mini-dashboard or data visualization."
   ]
  },
  {
   "cell_type": "code",
   "execution_count": null,
   "id": "27d96443",
   "metadata": {},
   "outputs": [],
   "source": []
  }
 ],
 "metadata": {
  "kernelspec": {
   "display_name": "Python 3 (ipykernel)",
   "language": "python",
   "name": "python3"
  },
  "language_info": {
   "codemirror_mode": {
    "name": "ipython",
    "version": 3
   },
   "file_extension": ".py",
   "mimetype": "text/x-python",
   "name": "python",
   "nbconvert_exporter": "python",
   "pygments_lexer": "ipython3",
   "version": "3.9.7"
  }
 },
 "nbformat": 4,
 "nbformat_minor": 5
}
