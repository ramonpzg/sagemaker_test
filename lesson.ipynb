{
 "cells": [
  {
   "cell_type": "raw",
   "id": "f20ee2eb-f637-4dec-9503-2d1fc517beb1",
   "metadata": {},
   "source": [
    "# Intro to Natural Language Processing "
   ]
  },
  {
   "cell_type": "markdown",
   "id": "f676a88c-ab0f-42b0-8e1f-202f13ad7df3",
   "metadata": {},
   "source": [
    "> \"You shall know a word by the company it keeps.\" ~ John R. Firth"
   ]
  },
  {
   "cell_type": "markdown",
   "id": "28ea8b98-c64f-46ed-9316-992e5e05a24c",
   "metadata": {},
   "source": [
    "![img](https://cdn.shopify.com/s/files/1/0867/3580/products/vinyl_decal_hello_words_cloud_ig4779_1800x1800.jpg?v=1571439560)"
   ]
  },
  {
   "cell_type": "markdown",
   "id": "9b014a04-1551-42e9-90c5-6fb0dcbe0d14",
   "metadata": {
    "tags": []
   },
   "source": [
    "## Learning Outcomes"
   ]
  },
  {
   "cell_type": "markdown",
   "id": "387083ad-9951-4d79-bf6a-9e698a9c4dcb",
   "metadata": {
    "tags": []
   },
   "source": [
    "By the end of this tutorial you will\n",
    "\n",
    "1. Have a better understanding of what is natural language processing and what are some of its applications.\n",
    "2. Learn about the root of a word, what is means, and why we use them.\n",
    "3. Be able to create a recommendation system based on text similarity.\n",
    "4. Be able to conduct topic modeling on your own corpus.\n",
    "5. Understand how to put together a simple app using panel.\n",
    "\n",
    "Assumptions about you\n",
    "\n",
    "- Have at least 1 year of coding experience in Python.\n",
    "- Are comfortable with loops, functions, lists comprehensions, and if-else statements.\n",
    "- Have some knowledge of pandas and NumPy.\n",
    "- Have at least 5 GB of free space in your computer.\n",
    "- While it is not required to have experience using Jupyter Notebooks, this would be very beneficial for the session.\n",
    "\n",
    "What this tutorial is not\n",
    "\n",
    "- A deep dive into Natural Language Processing.\n",
    "- A deep learning tutorial.\n",
    "- A web application tutorial."
   ]
  },
  {
   "cell_type": "markdown",
   "id": "fdb23778-28f2-4371-b7ad-280d05a693f8",
   "metadata": {
    "tags": []
   },
   "source": [
    "## Table of Contents"
   ]
  },
  {
   "cell_type": "markdown",
   "id": "82419249-e9bc-4590-9687-de65a15c3cf5",
   "metadata": {},
   "source": [
    "1. Libraries\n",
    "2. The Data\n",
    "3. Flash NLP Intro\n",
    "4. Cleaning\n",
    "5. Recommendation System\n",
    "6. Topic Modeling (Optional)\n",
    "7. Summary"
   ]
  },
  {
   "cell_type": "markdown",
   "id": "a9ea680d-0e9e-4fe7-8111-0149187ed936",
   "metadata": {},
   "source": [
    "## 1. Libraries"
   ]
  },
  {
   "cell_type": "code",
   "execution_count": 1,
   "id": "cd62539a-2c1a-4bfe-b05e-8575e13a6be0",
   "metadata": {},
   "outputs": [
    {
     "data": {
      "application/javascript": [
       "\n",
       "(function(root) {\n",
       "  function now() {\n",
       "    return new Date();\n",
       "  }\n",
       "\n",
       "  var force = true;\n",
       "\n",
       "  if (typeof root._bokeh_onload_callbacks === \"undefined\" || force === true) {\n",
       "    root._bokeh_onload_callbacks = [];\n",
       "    root._bokeh_is_loading = undefined;\n",
       "  }\n",
       "\n",
       "  if (typeof (root._bokeh_timeout) === \"undefined\" || force === true) {\n",
       "    root._bokeh_timeout = Date.now() + 5000;\n",
       "    root._bokeh_failed_load = false;\n",
       "  }\n",
       "\n",
       "  function run_callbacks() {\n",
       "    try {\n",
       "      root._bokeh_onload_callbacks.forEach(function(callback) {\n",
       "        if (callback != null)\n",
       "          callback();\n",
       "      });\n",
       "    } finally {\n",
       "      delete root._bokeh_onload_callbacks\n",
       "    }\n",
       "    console.debug(\"Bokeh: all callbacks have finished\");\n",
       "  }\n",
       "\n",
       "  function load_libs(css_urls, js_urls, js_modules, callback) {\n",
       "    if (css_urls == null) css_urls = [];\n",
       "    if (js_urls == null) js_urls = [];\n",
       "    if (js_modules == null) js_modules = [];\n",
       "\n",
       "    root._bokeh_onload_callbacks.push(callback);\n",
       "    if (root._bokeh_is_loading > 0) {\n",
       "      console.debug(\"Bokeh: BokehJS is being loaded, scheduling callback at\", now());\n",
       "      return null;\n",
       "    }\n",
       "    if (js_urls.length === 0 && js_modules.length === 0) {\n",
       "      run_callbacks();\n",
       "      return null;\n",
       "    }\n",
       "    console.debug(\"Bokeh: BokehJS not loaded, scheduling load and callback at\", now());\n",
       "    root._bokeh_is_loading = css_urls.length + js_urls.length + js_modules.length;\n",
       "\n",
       "    function on_load() {\n",
       "      root._bokeh_is_loading--;\n",
       "      if (root._bokeh_is_loading === 0) {\n",
       "        console.debug(\"Bokeh: all BokehJS libraries/stylesheets loaded\");\n",
       "        run_callbacks()\n",
       "      }\n",
       "    }\n",
       "\n",
       "    function on_error() {\n",
       "      console.error(\"failed to load \" + url);\n",
       "    }\n",
       "\n",
       "    for (var i = 0; i < css_urls.length; i++) {\n",
       "      var url = css_urls[i];\n",
       "      const element = document.createElement(\"link\");\n",
       "      element.onload = on_load;\n",
       "      element.onerror = on_error;\n",
       "      element.rel = \"stylesheet\";\n",
       "      element.type = \"text/css\";\n",
       "      element.href = url;\n",
       "      console.debug(\"Bokeh: injecting link tag for BokehJS stylesheet: \", url);\n",
       "      document.body.appendChild(element);\n",
       "    }\n",
       "\n",
       "    var skip = [];\n",
       "    if (window.requirejs) {\n",
       "      window.requirejs.config({'paths': {'tabulator': 'https://unpkg.com/tabulator-tables@4.9.3/dist/js/tabulator'}});\n",
       "      require([\"tabulator\"], function(Tabulator,) {\n",
       "        window.Tabulator = Tabulator;\n",
       "      })\n",
       "    }\n",
       "    if (((window['tabulator'] !== undefined) && (!(window['tabulator'] instanceof HTMLElement))) || window.requirejs) {\n",
       "      var urls = ['https://unpkg.com/tabulator-tables@4.9.3/dist/js/tabulator.js', 'https://unpkg.com/moment@2.27.0/moment.js'];\n",
       "      for (var i = 0; i < urls.length; i++) {\n",
       "        skip.push(urls[i])\n",
       "      }\n",
       "    }\n",
       "    for (var i = 0; i < js_urls.length; i++) {\n",
       "      var url = js_urls[i];\n",
       "      if (skip.indexOf(url) >= 0) { on_load(); continue; }\n",
       "      var element = document.createElement('script');\n",
       "      element.onload = on_load;\n",
       "      element.onerror = on_error;\n",
       "      element.async = false;\n",
       "      element.src = url;\n",
       "      console.debug(\"Bokeh: injecting script tag for BokehJS library: \", url);\n",
       "      document.head.appendChild(element);\n",
       "    }\n",
       "    for (var i = 0; i < js_modules.length; i++) {\n",
       "      var url = js_modules[i];\n",
       "      if (skip.indexOf(url) >= 0) { on_load(); continue; }\n",
       "      var element = document.createElement('script');\n",
       "      element.onload = on_load;\n",
       "      element.onerror = on_error;\n",
       "      element.async = false;\n",
       "      element.src = url;\n",
       "      element.type = \"module\";\n",
       "      console.debug(\"Bokeh: injecting script tag for BokehJS library: \", url);\n",
       "      document.head.appendChild(element);\n",
       "    }\n",
       "    if (!js_urls.length && !js_modules.length) {\n",
       "      on_load()\n",
       "    }\n",
       "  };\n",
       "\n",
       "  function inject_raw_css(css) {\n",
       "    const element = document.createElement(\"style\");\n",
       "    element.appendChild(document.createTextNode(css));\n",
       "    document.body.appendChild(element);\n",
       "  }\n",
       "\n",
       "  var js_urls = [\"https://unpkg.com/tabulator-tables@4.9.3/dist/js/tabulator.js\", \"https://unpkg.com/moment@2.27.0/moment.js\", \"https://cdn.bokeh.org/bokeh/release/bokeh-2.3.3.min.js\", \"https://cdn.bokeh.org/bokeh/release/bokeh-widgets-2.3.3.min.js\", \"https://cdn.bokeh.org/bokeh/release/bokeh-tables-2.3.3.min.js\", \"https://unpkg.com/@holoviz/panel@0.11.3/dist/panel.min.js\"];\n",
       "  var js_modules = [];\n",
       "  var css_urls = [\"https://unpkg.com/tabulator-tables@4.9.3/dist/css/tabulator_simple.min.css\", \"https://unpkg.com/@holoviz/panel@0.11.3/dist/css/widgets.css\", \"https://unpkg.com/@holoviz/panel@0.11.3/dist/css/card.css\", \"https://unpkg.com/@holoviz/panel@0.11.3/dist/css/json.css\", \"https://unpkg.com/@holoviz/panel@0.11.3/dist/css/dataframe.css\", \"https://unpkg.com/@holoviz/panel@0.11.3/dist/css/loading.css\", \"https://unpkg.com/@holoviz/panel@0.11.3/dist/css/markdown.css\", \"https://unpkg.com/@holoviz/panel@0.11.3/dist/css/alerts.css\"];\n",
       "  var inline_js = [\n",
       "    function(Bokeh) {\n",
       "      inject_raw_css(\"\\n    .bk.pn-loading.arcs:before {\\n      background-image: url(\\\"data:image/svg+xml;base64,PHN2ZyB4bWxucz0iaHR0cDovL3d3dy53My5vcmcvMjAwMC9zdmciIHhtbG5zOnhsaW5rPSJodHRwOi8vd3d3LnczLm9yZy8xOTk5L3hsaW5rIiBzdHlsZT0ibWFyZ2luOiBhdXRvOyBiYWNrZ3JvdW5kOiBub25lOyBkaXNwbGF5OiBibG9jazsgc2hhcGUtcmVuZGVyaW5nOiBhdXRvOyIgdmlld0JveD0iMCAwIDEwMCAxMDAiIHByZXNlcnZlQXNwZWN0UmF0aW89InhNaWRZTWlkIj4gIDxjaXJjbGUgY3g9IjUwIiBjeT0iNTAiIHI9IjMyIiBzdHJva2Utd2lkdGg9IjgiIHN0cm9rZT0iI2MzYzNjMyIgc3Ryb2tlLWRhc2hhcnJheT0iNTAuMjY1NDgyNDU3NDM2NjkgNTAuMjY1NDgyNDU3NDM2NjkiIGZpbGw9Im5vbmUiIHN0cm9rZS1saW5lY2FwPSJyb3VuZCI+ICAgIDxhbmltYXRlVHJhbnNmb3JtIGF0dHJpYnV0ZU5hbWU9InRyYW5zZm9ybSIgdHlwZT0icm90YXRlIiByZXBlYXRDb3VudD0iaW5kZWZpbml0ZSIgZHVyPSIxcyIga2V5VGltZXM9IjA7MSIgdmFsdWVzPSIwIDUwIDUwOzM2MCA1MCA1MCI+PC9hbmltYXRlVHJhbnNmb3JtPiAgPC9jaXJjbGU+PC9zdmc+\\\")\\n    }\\n    \");\n",
       "    },\n",
       "    function(Bokeh) {\n",
       "      Bokeh.set_log_level(\"info\");\n",
       "    },\n",
       "    function(Bokeh) {} // ensure no trailing comma for IE\n",
       "  ];\n",
       "\n",
       "  function run_inline_js() {\n",
       "    if ((root.Bokeh !== undefined) || (force === true)) {\n",
       "      for (var i = 0; i < inline_js.length; i++) {\n",
       "        inline_js[i].call(root, root.Bokeh);\n",
       "      }} else if (Date.now() < root._bokeh_timeout) {\n",
       "      setTimeout(run_inline_js, 100);\n",
       "    } else if (!root._bokeh_failed_load) {\n",
       "      console.log(\"Bokeh: BokehJS failed to load within specified timeout.\");\n",
       "      root._bokeh_failed_load = true;\n",
       "    }\n",
       "  }\n",
       "\n",
       "  if (root._bokeh_is_loading === 0) {\n",
       "    console.debug(\"Bokeh: BokehJS loaded, going straight to plotting\");\n",
       "    run_inline_js();\n",
       "  } else {\n",
       "    load_libs(css_urls, js_urls, js_modules, function() {\n",
       "      console.debug(\"Bokeh: BokehJS plotting callback run at\", now());\n",
       "      run_inline_js();\n",
       "    });\n",
       "  }\n",
       "}(window));"
      ],
      "application/vnd.holoviews_load.v0+json": "\n(function(root) {\n  function now() {\n    return new Date();\n  }\n\n  var force = true;\n\n  if (typeof root._bokeh_onload_callbacks === \"undefined\" || force === true) {\n    root._bokeh_onload_callbacks = [];\n    root._bokeh_is_loading = undefined;\n  }\n\n  if (typeof (root._bokeh_timeout) === \"undefined\" || force === true) {\n    root._bokeh_timeout = Date.now() + 5000;\n    root._bokeh_failed_load = false;\n  }\n\n  function run_callbacks() {\n    try {\n      root._bokeh_onload_callbacks.forEach(function(callback) {\n        if (callback != null)\n          callback();\n      });\n    } finally {\n      delete root._bokeh_onload_callbacks\n    }\n    console.debug(\"Bokeh: all callbacks have finished\");\n  }\n\n  function load_libs(css_urls, js_urls, js_modules, callback) {\n    if (css_urls == null) css_urls = [];\n    if (js_urls == null) js_urls = [];\n    if (js_modules == null) js_modules = [];\n\n    root._bokeh_onload_callbacks.push(callback);\n    if (root._bokeh_is_loading > 0) {\n      console.debug(\"Bokeh: BokehJS is being loaded, scheduling callback at\", now());\n      return null;\n    }\n    if (js_urls.length === 0 && js_modules.length === 0) {\n      run_callbacks();\n      return null;\n    }\n    console.debug(\"Bokeh: BokehJS not loaded, scheduling load and callback at\", now());\n    root._bokeh_is_loading = css_urls.length + js_urls.length + js_modules.length;\n\n    function on_load() {\n      root._bokeh_is_loading--;\n      if (root._bokeh_is_loading === 0) {\n        console.debug(\"Bokeh: all BokehJS libraries/stylesheets loaded\");\n        run_callbacks()\n      }\n    }\n\n    function on_error() {\n      console.error(\"failed to load \" + url);\n    }\n\n    for (var i = 0; i < css_urls.length; i++) {\n      var url = css_urls[i];\n      const element = document.createElement(\"link\");\n      element.onload = on_load;\n      element.onerror = on_error;\n      element.rel = \"stylesheet\";\n      element.type = \"text/css\";\n      element.href = url;\n      console.debug(\"Bokeh: injecting link tag for BokehJS stylesheet: \", url);\n      document.body.appendChild(element);\n    }\n\n    var skip = [];\n    if (window.requirejs) {\n      window.requirejs.config({'paths': {'tabulator': 'https://unpkg.com/tabulator-tables@4.9.3/dist/js/tabulator'}});\n      require([\"tabulator\"], function(Tabulator,) {\n        window.Tabulator = Tabulator;\n      })\n    }\n    if (((window['tabulator'] !== undefined) && (!(window['tabulator'] instanceof HTMLElement))) || window.requirejs) {\n      var urls = ['https://unpkg.com/tabulator-tables@4.9.3/dist/js/tabulator.js', 'https://unpkg.com/moment@2.27.0/moment.js'];\n      for (var i = 0; i < urls.length; i++) {\n        skip.push(urls[i])\n      }\n    }\n    for (var i = 0; i < js_urls.length; i++) {\n      var url = js_urls[i];\n      if (skip.indexOf(url) >= 0) { on_load(); continue; }\n      var element = document.createElement('script');\n      element.onload = on_load;\n      element.onerror = on_error;\n      element.async = false;\n      element.src = url;\n      console.debug(\"Bokeh: injecting script tag for BokehJS library: \", url);\n      document.head.appendChild(element);\n    }\n    for (var i = 0; i < js_modules.length; i++) {\n      var url = js_modules[i];\n      if (skip.indexOf(url) >= 0) { on_load(); continue; }\n      var element = document.createElement('script');\n      element.onload = on_load;\n      element.onerror = on_error;\n      element.async = false;\n      element.src = url;\n      element.type = \"module\";\n      console.debug(\"Bokeh: injecting script tag for BokehJS library: \", url);\n      document.head.appendChild(element);\n    }\n    if (!js_urls.length && !js_modules.length) {\n      on_load()\n    }\n  };\n\n  function inject_raw_css(css) {\n    const element = document.createElement(\"style\");\n    element.appendChild(document.createTextNode(css));\n    document.body.appendChild(element);\n  }\n\n  var js_urls = [\"https://unpkg.com/tabulator-tables@4.9.3/dist/js/tabulator.js\", \"https://unpkg.com/moment@2.27.0/moment.js\", \"https://cdn.bokeh.org/bokeh/release/bokeh-2.3.3.min.js\", \"https://cdn.bokeh.org/bokeh/release/bokeh-widgets-2.3.3.min.js\", \"https://cdn.bokeh.org/bokeh/release/bokeh-tables-2.3.3.min.js\", \"https://unpkg.com/@holoviz/panel@0.11.3/dist/panel.min.js\"];\n  var js_modules = [];\n  var css_urls = [\"https://unpkg.com/tabulator-tables@4.9.3/dist/css/tabulator_simple.min.css\", \"https://unpkg.com/@holoviz/panel@0.11.3/dist/css/widgets.css\", \"https://unpkg.com/@holoviz/panel@0.11.3/dist/css/card.css\", \"https://unpkg.com/@holoviz/panel@0.11.3/dist/css/json.css\", \"https://unpkg.com/@holoviz/panel@0.11.3/dist/css/dataframe.css\", \"https://unpkg.com/@holoviz/panel@0.11.3/dist/css/loading.css\", \"https://unpkg.com/@holoviz/panel@0.11.3/dist/css/markdown.css\", \"https://unpkg.com/@holoviz/panel@0.11.3/dist/css/alerts.css\"];\n  var inline_js = [\n    function(Bokeh) {\n      inject_raw_css(\"\\n    .bk.pn-loading.arcs:before {\\n      background-image: url(\\\"data:image/svg+xml;base64,PHN2ZyB4bWxucz0iaHR0cDovL3d3dy53My5vcmcvMjAwMC9zdmciIHhtbG5zOnhsaW5rPSJodHRwOi8vd3d3LnczLm9yZy8xOTk5L3hsaW5rIiBzdHlsZT0ibWFyZ2luOiBhdXRvOyBiYWNrZ3JvdW5kOiBub25lOyBkaXNwbGF5OiBibG9jazsgc2hhcGUtcmVuZGVyaW5nOiBhdXRvOyIgdmlld0JveD0iMCAwIDEwMCAxMDAiIHByZXNlcnZlQXNwZWN0UmF0aW89InhNaWRZTWlkIj4gIDxjaXJjbGUgY3g9IjUwIiBjeT0iNTAiIHI9IjMyIiBzdHJva2Utd2lkdGg9IjgiIHN0cm9rZT0iI2MzYzNjMyIgc3Ryb2tlLWRhc2hhcnJheT0iNTAuMjY1NDgyNDU3NDM2NjkgNTAuMjY1NDgyNDU3NDM2NjkiIGZpbGw9Im5vbmUiIHN0cm9rZS1saW5lY2FwPSJyb3VuZCI+ICAgIDxhbmltYXRlVHJhbnNmb3JtIGF0dHJpYnV0ZU5hbWU9InRyYW5zZm9ybSIgdHlwZT0icm90YXRlIiByZXBlYXRDb3VudD0iaW5kZWZpbml0ZSIgZHVyPSIxcyIga2V5VGltZXM9IjA7MSIgdmFsdWVzPSIwIDUwIDUwOzM2MCA1MCA1MCI+PC9hbmltYXRlVHJhbnNmb3JtPiAgPC9jaXJjbGU+PC9zdmc+\\\")\\n    }\\n    \");\n    },\n    function(Bokeh) {\n      Bokeh.set_log_level(\"info\");\n    },\n    function(Bokeh) {} // ensure no trailing comma for IE\n  ];\n\n  function run_inline_js() {\n    if ((root.Bokeh !== undefined) || (force === true)) {\n      for (var i = 0; i < inline_js.length; i++) {\n        inline_js[i].call(root, root.Bokeh);\n      }} else if (Date.now() < root._bokeh_timeout) {\n      setTimeout(run_inline_js, 100);\n    } else if (!root._bokeh_failed_load) {\n      console.log(\"Bokeh: BokehJS failed to load within specified timeout.\");\n      root._bokeh_failed_load = true;\n    }\n  }\n\n  if (root._bokeh_is_loading === 0) {\n    console.debug(\"Bokeh: BokehJS loaded, going straight to plotting\");\n    run_inline_js();\n  } else {\n    load_libs(css_urls, js_urls, js_modules, function() {\n      console.debug(\"Bokeh: BokehJS plotting callback run at\", now());\n      run_inline_js();\n    });\n  }\n}(window));"
     },
     "metadata": {},
     "output_type": "display_data"
    },
    {
     "data": {
      "application/javascript": [
       "\n",
       "if ((window.PyViz === undefined) || (window.PyViz instanceof HTMLElement)) {\n",
       "  window.PyViz = {comms: {}, comm_status:{}, kernels:{}, receivers: {}, plot_index: []}\n",
       "}\n",
       "\n",
       "\n",
       "    function JupyterCommManager() {\n",
       "    }\n",
       "\n",
       "    JupyterCommManager.prototype.register_target = function(plot_id, comm_id, msg_handler) {\n",
       "      if (window.comm_manager || ((window.Jupyter !== undefined) && (Jupyter.notebook.kernel != null))) {\n",
       "        var comm_manager = window.comm_manager || Jupyter.notebook.kernel.comm_manager;\n",
       "        comm_manager.register_target(comm_id, function(comm) {\n",
       "          comm.on_msg(msg_handler);\n",
       "        });\n",
       "      } else if ((plot_id in window.PyViz.kernels) && (window.PyViz.kernels[plot_id])) {\n",
       "        window.PyViz.kernels[plot_id].registerCommTarget(comm_id, function(comm) {\n",
       "          comm.onMsg = msg_handler;\n",
       "        });\n",
       "      } else if (typeof google != 'undefined' && google.colab.kernel != null) {\n",
       "        google.colab.kernel.comms.registerTarget(comm_id, (comm) => {\n",
       "          var messages = comm.messages[Symbol.asyncIterator]();\n",
       "          function processIteratorResult(result) {\n",
       "            var message = result.value;\n",
       "            console.log(message)\n",
       "            var content = {data: message.data, comm_id};\n",
       "            var buffers = []\n",
       "            for (var buffer of message.buffers || []) {\n",
       "              buffers.push(new DataView(buffer))\n",
       "            }\n",
       "            var metadata = message.metadata || {};\n",
       "            var msg = {content, buffers, metadata}\n",
       "            msg_handler(msg);\n",
       "            return messages.next().then(processIteratorResult);\n",
       "          }\n",
       "          return messages.next().then(processIteratorResult);\n",
       "        })\n",
       "      }\n",
       "    }\n",
       "\n",
       "    JupyterCommManager.prototype.get_client_comm = function(plot_id, comm_id, msg_handler) {\n",
       "      if (comm_id in window.PyViz.comms) {\n",
       "        return window.PyViz.comms[comm_id];\n",
       "      } else if (window.comm_manager || ((window.Jupyter !== undefined) && (Jupyter.notebook.kernel != null))) {\n",
       "        var comm_manager = window.comm_manager || Jupyter.notebook.kernel.comm_manager;\n",
       "        var comm = comm_manager.new_comm(comm_id, {}, {}, {}, comm_id);\n",
       "        if (msg_handler) {\n",
       "          comm.on_msg(msg_handler);\n",
       "        }\n",
       "      } else if ((plot_id in window.PyViz.kernels) && (window.PyViz.kernels[plot_id])) {\n",
       "        var comm = window.PyViz.kernels[plot_id].connectToComm(comm_id);\n",
       "        comm.open();\n",
       "        if (msg_handler) {\n",
       "          comm.onMsg = msg_handler;\n",
       "        }\n",
       "      } else if (typeof google != 'undefined' && google.colab.kernel != null) {\n",
       "        var comm_promise = google.colab.kernel.comms.open(comm_id)\n",
       "        comm_promise.then((comm) => {\n",
       "          window.PyViz.comms[comm_id] = comm;\n",
       "          if (msg_handler) {\n",
       "            var messages = comm.messages[Symbol.asyncIterator]();\n",
       "            function processIteratorResult(result) {\n",
       "              var message = result.value;\n",
       "              var content = {data: message.data};\n",
       "              var metadata = message.metadata || {comm_id};\n",
       "              var msg = {content, metadata}\n",
       "              msg_handler(msg);\n",
       "              return messages.next().then(processIteratorResult);\n",
       "            }\n",
       "            return messages.next().then(processIteratorResult);\n",
       "          }\n",
       "        }) \n",
       "        var sendClosure = (data, metadata, buffers, disposeOnDone) => {\n",
       "          return comm_promise.then((comm) => {\n",
       "            comm.send(data, metadata, buffers, disposeOnDone);\n",
       "          });\n",
       "        };\n",
       "        var comm = {\n",
       "          send: sendClosure\n",
       "        };\n",
       "      }\n",
       "      window.PyViz.comms[comm_id] = comm;\n",
       "      return comm;\n",
       "    }\n",
       "    window.PyViz.comm_manager = new JupyterCommManager();\n",
       "    \n",
       "\n",
       "\n",
       "var JS_MIME_TYPE = 'application/javascript';\n",
       "var HTML_MIME_TYPE = 'text/html';\n",
       "var EXEC_MIME_TYPE = 'application/vnd.holoviews_exec.v0+json';\n",
       "var CLASS_NAME = 'output';\n",
       "\n",
       "/**\n",
       " * Render data to the DOM node\n",
       " */\n",
       "function render(props, node) {\n",
       "  var div = document.createElement(\"div\");\n",
       "  var script = document.createElement(\"script\");\n",
       "  node.appendChild(div);\n",
       "  node.appendChild(script);\n",
       "}\n",
       "\n",
       "/**\n",
       " * Handle when a new output is added\n",
       " */\n",
       "function handle_add_output(event, handle) {\n",
       "  var output_area = handle.output_area;\n",
       "  var output = handle.output;\n",
       "  if ((output.data == undefined) || (!output.data.hasOwnProperty(EXEC_MIME_TYPE))) {\n",
       "    return\n",
       "  }\n",
       "  var id = output.metadata[EXEC_MIME_TYPE][\"id\"];\n",
       "  var toinsert = output_area.element.find(\".\" + CLASS_NAME.split(' ')[0]);\n",
       "  if (id !== undefined) {\n",
       "    var nchildren = toinsert.length;\n",
       "    var html_node = toinsert[nchildren-1].children[0];\n",
       "    html_node.innerHTML = output.data[HTML_MIME_TYPE];\n",
       "    var scripts = [];\n",
       "    var nodelist = html_node.querySelectorAll(\"script\");\n",
       "    for (var i in nodelist) {\n",
       "      if (nodelist.hasOwnProperty(i)) {\n",
       "        scripts.push(nodelist[i])\n",
       "      }\n",
       "    }\n",
       "\n",
       "    scripts.forEach( function (oldScript) {\n",
       "      var newScript = document.createElement(\"script\");\n",
       "      var attrs = [];\n",
       "      var nodemap = oldScript.attributes;\n",
       "      for (var j in nodemap) {\n",
       "        if (nodemap.hasOwnProperty(j)) {\n",
       "          attrs.push(nodemap[j])\n",
       "        }\n",
       "      }\n",
       "      attrs.forEach(function(attr) { newScript.setAttribute(attr.name, attr.value) });\n",
       "      newScript.appendChild(document.createTextNode(oldScript.innerHTML));\n",
       "      oldScript.parentNode.replaceChild(newScript, oldScript);\n",
       "    });\n",
       "    if (JS_MIME_TYPE in output.data) {\n",
       "      toinsert[nchildren-1].children[1].textContent = output.data[JS_MIME_TYPE];\n",
       "    }\n",
       "    output_area._hv_plot_id = id;\n",
       "    if ((window.Bokeh !== undefined) && (id in Bokeh.index)) {\n",
       "      window.PyViz.plot_index[id] = Bokeh.index[id];\n",
       "    } else {\n",
       "      window.PyViz.plot_index[id] = null;\n",
       "    }\n",
       "  } else if (output.metadata[EXEC_MIME_TYPE][\"server_id\"] !== undefined) {\n",
       "    var bk_div = document.createElement(\"div\");\n",
       "    bk_div.innerHTML = output.data[HTML_MIME_TYPE];\n",
       "    var script_attrs = bk_div.children[0].attributes;\n",
       "    for (var i = 0; i < script_attrs.length; i++) {\n",
       "      toinsert[toinsert.length - 1].childNodes[1].setAttribute(script_attrs[i].name, script_attrs[i].value);\n",
       "    }\n",
       "    // store reference to server id on output_area\n",
       "    output_area._bokeh_server_id = output.metadata[EXEC_MIME_TYPE][\"server_id\"];\n",
       "  }\n",
       "}\n",
       "\n",
       "/**\n",
       " * Handle when an output is cleared or removed\n",
       " */\n",
       "function handle_clear_output(event, handle) {\n",
       "  var id = handle.cell.output_area._hv_plot_id;\n",
       "  var server_id = handle.cell.output_area._bokeh_server_id;\n",
       "  if (((id === undefined) || !(id in PyViz.plot_index)) && (server_id !== undefined)) { return; }\n",
       "  var comm = window.PyViz.comm_manager.get_client_comm(\"hv-extension-comm\", \"hv-extension-comm\", function () {});\n",
       "  if (server_id !== null) {\n",
       "    comm.send({event_type: 'server_delete', 'id': server_id});\n",
       "    return;\n",
       "  } else if (comm !== null) {\n",
       "    comm.send({event_type: 'delete', 'id': id});\n",
       "  }\n",
       "  delete PyViz.plot_index[id];\n",
       "  if ((window.Bokeh !== undefined) & (id in window.Bokeh.index)) {\n",
       "    var doc = window.Bokeh.index[id].model.document\n",
       "    doc.clear();\n",
       "    const i = window.Bokeh.documents.indexOf(doc);\n",
       "    if (i > -1) {\n",
       "      window.Bokeh.documents.splice(i, 1);\n",
       "    }\n",
       "  }\n",
       "}\n",
       "\n",
       "/**\n",
       " * Handle kernel restart event\n",
       " */\n",
       "function handle_kernel_cleanup(event, handle) {\n",
       "  delete PyViz.comms[\"hv-extension-comm\"];\n",
       "  window.PyViz.plot_index = {}\n",
       "}\n",
       "\n",
       "/**\n",
       " * Handle update_display_data messages\n",
       " */\n",
       "function handle_update_output(event, handle) {\n",
       "  handle_clear_output(event, {cell: {output_area: handle.output_area}})\n",
       "  handle_add_output(event, handle)\n",
       "}\n",
       "\n",
       "function register_renderer(events, OutputArea) {\n",
       "  function append_mime(data, metadata, element) {\n",
       "    // create a DOM node to render to\n",
       "    var toinsert = this.create_output_subarea(\n",
       "    metadata,\n",
       "    CLASS_NAME,\n",
       "    EXEC_MIME_TYPE\n",
       "    );\n",
       "    this.keyboard_manager.register_events(toinsert);\n",
       "    // Render to node\n",
       "    var props = {data: data, metadata: metadata[EXEC_MIME_TYPE]};\n",
       "    render(props, toinsert[0]);\n",
       "    element.append(toinsert);\n",
       "    return toinsert\n",
       "  }\n",
       "\n",
       "  events.on('output_added.OutputArea', handle_add_output);\n",
       "  events.on('output_updated.OutputArea', handle_update_output);\n",
       "  events.on('clear_output.CodeCell', handle_clear_output);\n",
       "  events.on('delete.Cell', handle_clear_output);\n",
       "  events.on('kernel_ready.Kernel', handle_kernel_cleanup);\n",
       "\n",
       "  OutputArea.prototype.register_mime_type(EXEC_MIME_TYPE, append_mime, {\n",
       "    safe: true,\n",
       "    index: 0\n",
       "  });\n",
       "}\n",
       "\n",
       "if (window.Jupyter !== undefined) {\n",
       "  try {\n",
       "    var events = require('base/js/events');\n",
       "    var OutputArea = require('notebook/js/outputarea').OutputArea;\n",
       "    if (OutputArea.prototype.mime_types().indexOf(EXEC_MIME_TYPE) == -1) {\n",
       "      register_renderer(events, OutputArea);\n",
       "    }\n",
       "  } catch(err) {\n",
       "  }\n",
       "}\n"
      ],
      "application/vnd.holoviews_load.v0+json": "\nif ((window.PyViz === undefined) || (window.PyViz instanceof HTMLElement)) {\n  window.PyViz = {comms: {}, comm_status:{}, kernels:{}, receivers: {}, plot_index: []}\n}\n\n\n    function JupyterCommManager() {\n    }\n\n    JupyterCommManager.prototype.register_target = function(plot_id, comm_id, msg_handler) {\n      if (window.comm_manager || ((window.Jupyter !== undefined) && (Jupyter.notebook.kernel != null))) {\n        var comm_manager = window.comm_manager || Jupyter.notebook.kernel.comm_manager;\n        comm_manager.register_target(comm_id, function(comm) {\n          comm.on_msg(msg_handler);\n        });\n      } else if ((plot_id in window.PyViz.kernels) && (window.PyViz.kernels[plot_id])) {\n        window.PyViz.kernels[plot_id].registerCommTarget(comm_id, function(comm) {\n          comm.onMsg = msg_handler;\n        });\n      } else if (typeof google != 'undefined' && google.colab.kernel != null) {\n        google.colab.kernel.comms.registerTarget(comm_id, (comm) => {\n          var messages = comm.messages[Symbol.asyncIterator]();\n          function processIteratorResult(result) {\n            var message = result.value;\n            console.log(message)\n            var content = {data: message.data, comm_id};\n            var buffers = []\n            for (var buffer of message.buffers || []) {\n              buffers.push(new DataView(buffer))\n            }\n            var metadata = message.metadata || {};\n            var msg = {content, buffers, metadata}\n            msg_handler(msg);\n            return messages.next().then(processIteratorResult);\n          }\n          return messages.next().then(processIteratorResult);\n        })\n      }\n    }\n\n    JupyterCommManager.prototype.get_client_comm = function(plot_id, comm_id, msg_handler) {\n      if (comm_id in window.PyViz.comms) {\n        return window.PyViz.comms[comm_id];\n      } else if (window.comm_manager || ((window.Jupyter !== undefined) && (Jupyter.notebook.kernel != null))) {\n        var comm_manager = window.comm_manager || Jupyter.notebook.kernel.comm_manager;\n        var comm = comm_manager.new_comm(comm_id, {}, {}, {}, comm_id);\n        if (msg_handler) {\n          comm.on_msg(msg_handler);\n        }\n      } else if ((plot_id in window.PyViz.kernels) && (window.PyViz.kernels[plot_id])) {\n        var comm = window.PyViz.kernels[plot_id].connectToComm(comm_id);\n        comm.open();\n        if (msg_handler) {\n          comm.onMsg = msg_handler;\n        }\n      } else if (typeof google != 'undefined' && google.colab.kernel != null) {\n        var comm_promise = google.colab.kernel.comms.open(comm_id)\n        comm_promise.then((comm) => {\n          window.PyViz.comms[comm_id] = comm;\n          if (msg_handler) {\n            var messages = comm.messages[Symbol.asyncIterator]();\n            function processIteratorResult(result) {\n              var message = result.value;\n              var content = {data: message.data};\n              var metadata = message.metadata || {comm_id};\n              var msg = {content, metadata}\n              msg_handler(msg);\n              return messages.next().then(processIteratorResult);\n            }\n            return messages.next().then(processIteratorResult);\n          }\n        }) \n        var sendClosure = (data, metadata, buffers, disposeOnDone) => {\n          return comm_promise.then((comm) => {\n            comm.send(data, metadata, buffers, disposeOnDone);\n          });\n        };\n        var comm = {\n          send: sendClosure\n        };\n      }\n      window.PyViz.comms[comm_id] = comm;\n      return comm;\n    }\n    window.PyViz.comm_manager = new JupyterCommManager();\n    \n\n\nvar JS_MIME_TYPE = 'application/javascript';\nvar HTML_MIME_TYPE = 'text/html';\nvar EXEC_MIME_TYPE = 'application/vnd.holoviews_exec.v0+json';\nvar CLASS_NAME = 'output';\n\n/**\n * Render data to the DOM node\n */\nfunction render(props, node) {\n  var div = document.createElement(\"div\");\n  var script = document.createElement(\"script\");\n  node.appendChild(div);\n  node.appendChild(script);\n}\n\n/**\n * Handle when a new output is added\n */\nfunction handle_add_output(event, handle) {\n  var output_area = handle.output_area;\n  var output = handle.output;\n  if ((output.data == undefined) || (!output.data.hasOwnProperty(EXEC_MIME_TYPE))) {\n    return\n  }\n  var id = output.metadata[EXEC_MIME_TYPE][\"id\"];\n  var toinsert = output_area.element.find(\".\" + CLASS_NAME.split(' ')[0]);\n  if (id !== undefined) {\n    var nchildren = toinsert.length;\n    var html_node = toinsert[nchildren-1].children[0];\n    html_node.innerHTML = output.data[HTML_MIME_TYPE];\n    var scripts = [];\n    var nodelist = html_node.querySelectorAll(\"script\");\n    for (var i in nodelist) {\n      if (nodelist.hasOwnProperty(i)) {\n        scripts.push(nodelist[i])\n      }\n    }\n\n    scripts.forEach( function (oldScript) {\n      var newScript = document.createElement(\"script\");\n      var attrs = [];\n      var nodemap = oldScript.attributes;\n      for (var j in nodemap) {\n        if (nodemap.hasOwnProperty(j)) {\n          attrs.push(nodemap[j])\n        }\n      }\n      attrs.forEach(function(attr) { newScript.setAttribute(attr.name, attr.value) });\n      newScript.appendChild(document.createTextNode(oldScript.innerHTML));\n      oldScript.parentNode.replaceChild(newScript, oldScript);\n    });\n    if (JS_MIME_TYPE in output.data) {\n      toinsert[nchildren-1].children[1].textContent = output.data[JS_MIME_TYPE];\n    }\n    output_area._hv_plot_id = id;\n    if ((window.Bokeh !== undefined) && (id in Bokeh.index)) {\n      window.PyViz.plot_index[id] = Bokeh.index[id];\n    } else {\n      window.PyViz.plot_index[id] = null;\n    }\n  } else if (output.metadata[EXEC_MIME_TYPE][\"server_id\"] !== undefined) {\n    var bk_div = document.createElement(\"div\");\n    bk_div.innerHTML = output.data[HTML_MIME_TYPE];\n    var script_attrs = bk_div.children[0].attributes;\n    for (var i = 0; i < script_attrs.length; i++) {\n      toinsert[toinsert.length - 1].childNodes[1].setAttribute(script_attrs[i].name, script_attrs[i].value);\n    }\n    // store reference to server id on output_area\n    output_area._bokeh_server_id = output.metadata[EXEC_MIME_TYPE][\"server_id\"];\n  }\n}\n\n/**\n * Handle when an output is cleared or removed\n */\nfunction handle_clear_output(event, handle) {\n  var id = handle.cell.output_area._hv_plot_id;\n  var server_id = handle.cell.output_area._bokeh_server_id;\n  if (((id === undefined) || !(id in PyViz.plot_index)) && (server_id !== undefined)) { return; }\n  var comm = window.PyViz.comm_manager.get_client_comm(\"hv-extension-comm\", \"hv-extension-comm\", function () {});\n  if (server_id !== null) {\n    comm.send({event_type: 'server_delete', 'id': server_id});\n    return;\n  } else if (comm !== null) {\n    comm.send({event_type: 'delete', 'id': id});\n  }\n  delete PyViz.plot_index[id];\n  if ((window.Bokeh !== undefined) & (id in window.Bokeh.index)) {\n    var doc = window.Bokeh.index[id].model.document\n    doc.clear();\n    const i = window.Bokeh.documents.indexOf(doc);\n    if (i > -1) {\n      window.Bokeh.documents.splice(i, 1);\n    }\n  }\n}\n\n/**\n * Handle kernel restart event\n */\nfunction handle_kernel_cleanup(event, handle) {\n  delete PyViz.comms[\"hv-extension-comm\"];\n  window.PyViz.plot_index = {}\n}\n\n/**\n * Handle update_display_data messages\n */\nfunction handle_update_output(event, handle) {\n  handle_clear_output(event, {cell: {output_area: handle.output_area}})\n  handle_add_output(event, handle)\n}\n\nfunction register_renderer(events, OutputArea) {\n  function append_mime(data, metadata, element) {\n    // create a DOM node to render to\n    var toinsert = this.create_output_subarea(\n    metadata,\n    CLASS_NAME,\n    EXEC_MIME_TYPE\n    );\n    this.keyboard_manager.register_events(toinsert);\n    // Render to node\n    var props = {data: data, metadata: metadata[EXEC_MIME_TYPE]};\n    render(props, toinsert[0]);\n    element.append(toinsert);\n    return toinsert\n  }\n\n  events.on('output_added.OutputArea', handle_add_output);\n  events.on('output_updated.OutputArea', handle_update_output);\n  events.on('clear_output.CodeCell', handle_clear_output);\n  events.on('delete.Cell', handle_clear_output);\n  events.on('kernel_ready.Kernel', handle_kernel_cleanup);\n\n  OutputArea.prototype.register_mime_type(EXEC_MIME_TYPE, append_mime, {\n    safe: true,\n    index: 0\n  });\n}\n\nif (window.Jupyter !== undefined) {\n  try {\n    var events = require('base/js/events');\n    var OutputArea = require('notebook/js/outputarea').OutputArea;\n    if (OutputArea.prototype.mime_types().indexOf(EXEC_MIME_TYPE) == -1) {\n      register_renderer(events, OutputArea);\n    }\n  } catch(err) {\n  }\n}\n"
     },
     "metadata": {},
     "output_type": "display_data"
    }
   ],
   "source": [
    "import json, re, spacy\n",
    "import pandas as pd, numpy as np\n",
    "from pprint import pprint\n",
    "from sklearn.feature_extraction.text import CountVectorizer, TfidfVectorizer\n",
    "from sklearn.decomposition import LatentDirichletAllocation\n",
    "from sklearn.metrics.pairwise import cosine_similarity\n",
    "import panel as pn\n",
    "from concurrent.futures import ProcessPoolExecutor\n",
    "from datasets import load_dataset\n",
    "import datasets\n",
    "\n",
    "pn.extension()\n",
    "\n",
    "%load_ext autoreload\n",
    "%autoreload 2"
   ]
  },
  {
   "cell_type": "markdown",
   "id": "0250ec53-3798-4137-a6ef-926664b5adb5",
   "metadata": {
    "tags": []
   },
   "source": [
    "## 2. The Data"
   ]
  },
  {
   "cell_type": "markdown",
   "id": "627e1d41-e0aa-4f6a-b53d-0d698d2541fd",
   "metadata": {},
   "source": [
    "With have been given a random corpus of news articles and our task is to come up with a product(s), a recommendations systems (and a set of topic that best explains the model). The data consist of news articles plus some additional columns inside for which you can find more information in the table below.\n",
    "\n",
    "| Column | Content |\n",
    "|--------|---------|\n",
    "|title |Title of article|\n",
    "|text | Text inside article|\n",
    "|domain | Domain Url of article|\n",
    "|date | YYYY-MM-DD Time|\n",
    "|description | Abstract of article|\n",
    "|url | Url of article|\n",
    "|image_url | Image if available|\n",
    "\n",
    "In addition, here is the full description of the dataset from Huggin Face.\n",
    "\n",
    "> \"CC-News dataset contains news articles from news sites all over the world. The data is available on AWS S3 in the Common Crawl bucket at /crawl-data/CC-NEWS/. This version of the dataset has been prepared using news-please - an integrated web crawler and information extractor for news.\n",
    "It contains 708241 English language news articles published between Jan 2017 and December 2019. It represents a small portion of the English language subset of the CC-News dataset.\" ~ [Hugging Face cc_news](https://huggingface.co/datasets/cc_news)\n",
    "\n",
    "Before we do any data cleaning, let's read in the data and explore it a bit."
   ]
  },
  {
   "cell_type": "code",
   "execution_count": null,
   "id": "7691824b-38d1-4334-874c-7b122c6fc13a",
   "metadata": {},
   "outputs": [],
   "source": [
    "# this cell should only be used if running the notebook on Binder\n",
    "# datasets.config.IN_MEMORY_MAX_SIZE = 500_000_000"
   ]
  },
  {
   "cell_type": "code",
   "execution_count": 2,
   "id": "126886e4-2994-440c-b966-4f6add3cc815",
   "metadata": {},
   "outputs": [
    {
     "name": "stderr",
     "output_type": "stream",
     "text": [
      "Reusing dataset cc_news (/home/ramonperez/.cache/huggingface/datasets/cc_news/plain_text/1.0.0/6cdde8d7fdaae3e50fb61b5d08d5387c2f0bbea1ee68755ef954af539a6a3a1b)\n"
     ]
    },
    {
     "name": "stdout",
     "output_type": "stream",
     "text": [
      "CPU times: user 135 ms, sys: 63.3 ms, total: 198 ms\n",
      "Wall time: 1.55 s\n"
     ]
    }
   ],
   "source": [
    "%%time\n",
    "\n",
    "# use this one if running in BINDER\n",
    "# dataset = load_dataset('cc_news', keep_in_memory=500_000_000)\n",
    "\n",
    "dataset = load_dataset('cc_news')"
   ]
  },
  {
   "cell_type": "markdown",
   "id": "d56af3b5-bed3-4efe-a607-d76027e8f301",
   "metadata": {},
   "source": [
    "Let's see how many articles we have and then examine the columns."
   ]
  },
  {
   "cell_type": "code",
   "execution_count": 3,
   "id": "5aec921a-df08-4b33-84dd-95be98095b11",
   "metadata": {},
   "outputs": [
    {
     "data": {
      "text/plain": [
       "{'train': (708241, 7)}"
      ]
     },
     "execution_count": 3,
     "metadata": {},
     "output_type": "execute_result"
    }
   ],
   "source": [
    "dataset.shape"
   ]
  },
  {
   "cell_type": "code",
   "execution_count": 4,
   "id": "2bbdaf78-69fa-452a-8721-2de99cceb75a",
   "metadata": {},
   "outputs": [
    {
     "data": {
      "text/plain": [
       "['title', 'text', 'domain', 'date', 'description', 'url', 'image_url']"
      ]
     },
     "execution_count": 4,
     "metadata": {},
     "output_type": "execute_result"
    }
   ],
   "source": [
    "dataset.column_names['train']"
   ]
  },
  {
   "cell_type": "markdown",
   "id": "64205a36-a77c-4aad-920c-18f8fdc9a38d",
   "metadata": {},
   "source": [
    "Now that we have a dictionary, we can create a pandas DataFrame."
   ]
  },
  {
   "cell_type": "code",
   "execution_count": 5,
   "id": "2938aef2-8b5d-4f3e-8ace-b94658b7354a",
   "metadata": {},
   "outputs": [],
   "source": [
    "# df = next(dataset['train'].to_pandas(batched=True, batch_size=2_000)).reset_index(drop=True)\n",
    "\n",
    "df = dataset['train'].to_pandas().sample(5_000).reset_index(drop=True)"
   ]
  },
  {
   "cell_type": "code",
   "execution_count": 6,
   "id": "9ce91d80-1b40-4c11-b77c-b5683d03a07f",
   "metadata": {
    "tags": []
   },
   "outputs": [
    {
     "data": {
      "text/html": [
       "<div>\n",
       "<style scoped>\n",
       "    .dataframe tbody tr th:only-of-type {\n",
       "        vertical-align: middle;\n",
       "    }\n",
       "\n",
       "    .dataframe tbody tr th {\n",
       "        vertical-align: top;\n",
       "    }\n",
       "\n",
       "    .dataframe thead th {\n",
       "        text-align: right;\n",
       "    }\n",
       "</style>\n",
       "<table border=\"1\" class=\"dataframe\">\n",
       "  <thead>\n",
       "    <tr style=\"text-align: right;\">\n",
       "      <th></th>\n",
       "      <th>title</th>\n",
       "      <th>text</th>\n",
       "      <th>domain</th>\n",
       "      <th>date</th>\n",
       "      <th>description</th>\n",
       "      <th>url</th>\n",
       "      <th>image_url</th>\n",
       "    </tr>\n",
       "  </thead>\n",
       "  <tbody>\n",
       "    <tr>\n",
       "      <th>0</th>\n",
       "      <td>सड़क हादसे में दरोगा की मौत, कोहराम</td>\n",
       "      <td>Read the latest and breaking Hindi news on ama...</td>\n",
       "      <td>www.amarujala.com</td>\n",
       "      <td>2018-02-04 00:00:00</td>\n",
       "      <td>0 भतीजे की पत्नी की तेरहवीं में शामिल होने गए ...</td>\n",
       "      <td>https://www.amarujala.com/uttar-pradesh/allaha...</td>\n",
       "      <td>https://spiderimg.amarujala.com/assets/images/...</td>\n",
       "    </tr>\n",
       "    <tr>\n",
       "      <th>1</th>\n",
       "      <td>A star-studded dinner in the WA Outback</td>\n",
       "      <td>The woman in the red sequined dress and matchi...</td>\n",
       "      <td>www.dailymail.co.uk</td>\n",
       "      <td>2018-05-31 06:42:00</td>\n",
       "      <td>The woman in the red sequined dress and matchi...</td>\n",
       "      <td>http://www.dailymail.co.uk/wires/aap/article-5...</td>\n",
       "      <td>http://i.dailymail.co.uk/i/pix/m_logo_636x382p...</td>\n",
       "    </tr>\n",
       "    <tr>\n",
       "      <th>2</th>\n",
       "      <td>Solar eclipse scams to watch out for</td>\n",
       "      <td>× Solar eclipse scams to watch out for\\nThe Be...</td>\n",
       "      <td>myfox8.com</td>\n",
       "      <td>2017-08-14 16:01:25</td>\n",
       "      <td>The Better Business Bureau (BBB) of Central No...</td>\n",
       "      <td>http://myfox8.com/2017/08/14/solar-eclipse-sca...</td>\n",
       "      <td>https://localtvwghp.files.wordpress.com/2017/0...</td>\n",
       "    </tr>\n",
       "    <tr>\n",
       "      <th>3</th>\n",
       "      <td>Soccer-Lukaku strikes twice as United crush We...</td>\n",
       "      <td>* Manchester United beat West Ham United 4-0 a...</td>\n",
       "      <td>in.reuters.com</td>\n",
       "      <td>2017-08-13 17:01:51</td>\n",
       "      <td>* Manchester United beat West Ham United 4-0 a...</td>\n",
       "      <td>https://in.reuters.com/article/soccer-england-...</td>\n",
       "      <td>https://s4.reutersmedia.net/resources_v2/image...</td>\n",
       "    </tr>\n",
       "    <tr>\n",
       "      <th>4</th>\n",
       "      <td>Mitch's Sports Report: Montreal Cans Coach Wit...</td>\n",
       "      <td>File under \"didn't see this coming.\" Yesterday...</td>\n",
       "      <td>digital.vpr.net</td>\n",
       "      <td></td>\n",
       "      <td>File under \"didn't see this coming.\" Yesterday...</td>\n",
       "      <td>http://digital.vpr.net/post/mitchs-sports-repo...</td>\n",
       "      <td>http://mediad.publicbroadcasting.net/p/vpr/fil...</td>\n",
       "    </tr>\n",
       "  </tbody>\n",
       "</table>\n",
       "</div>"
      ],
      "text/plain": [
       "                                               title  \\\n",
       "0                सड़क हादसे में दरोगा की मौत, कोहराम   \n",
       "1            A star-studded dinner in the WA Outback   \n",
       "2               Solar eclipse scams to watch out for   \n",
       "3  Soccer-Lukaku strikes twice as United crush We...   \n",
       "4  Mitch's Sports Report: Montreal Cans Coach Wit...   \n",
       "\n",
       "                                                text               domain  \\\n",
       "0  Read the latest and breaking Hindi news on ama...    www.amarujala.com   \n",
       "1  The woman in the red sequined dress and matchi...  www.dailymail.co.uk   \n",
       "2  × Solar eclipse scams to watch out for\\nThe Be...           myfox8.com   \n",
       "3  * Manchester United beat West Ham United 4-0 a...       in.reuters.com   \n",
       "4  File under \"didn't see this coming.\" Yesterday...      digital.vpr.net   \n",
       "\n",
       "                  date                                        description  \\\n",
       "0  2018-02-04 00:00:00  0 भतीजे की पत्नी की तेरहवीं में शामिल होने गए ...   \n",
       "1  2018-05-31 06:42:00  The woman in the red sequined dress and matchi...   \n",
       "2  2017-08-14 16:01:25  The Better Business Bureau (BBB) of Central No...   \n",
       "3  2017-08-13 17:01:51  * Manchester United beat West Ham United 4-0 a...   \n",
       "4                       File under \"didn't see this coming.\" Yesterday...   \n",
       "\n",
       "                                                 url  \\\n",
       "0  https://www.amarujala.com/uttar-pradesh/allaha...   \n",
       "1  http://www.dailymail.co.uk/wires/aap/article-5...   \n",
       "2  http://myfox8.com/2017/08/14/solar-eclipse-sca...   \n",
       "3  https://in.reuters.com/article/soccer-england-...   \n",
       "4  http://digital.vpr.net/post/mitchs-sports-repo...   \n",
       "\n",
       "                                           image_url  \n",
       "0  https://spiderimg.amarujala.com/assets/images/...  \n",
       "1  http://i.dailymail.co.uk/i/pix/m_logo_636x382p...  \n",
       "2  https://localtvwghp.files.wordpress.com/2017/0...  \n",
       "3  https://s4.reutersmedia.net/resources_v2/image...  \n",
       "4  http://mediad.publicbroadcasting.net/p/vpr/fil...  "
      ]
     },
     "execution_count": 6,
     "metadata": {},
     "output_type": "execute_result"
    }
   ],
   "source": [
    "df.head()"
   ]
  },
  {
   "cell_type": "markdown",
   "id": "ca054113-dc4d-43dc-9212-0175a577557b",
   "metadata": {},
   "source": [
    "## 3. Flash NLP Intro"
   ]
  },
  {
   "cell_type": "markdown",
   "id": "d7095fab-9cf3-4964-81af-c1c963d9ffe8",
   "metadata": {},
   "source": [
    "We can use the `.loc[index, column]` method on our dataframe, select one column and one row using a comma to separate both, and examine a prettier version of the text using the python function `pprint()`."
   ]
  },
  {
   "cell_type": "code",
   "execution_count": 7,
   "id": "a3852abe-aff2-4b39-8120-f24631113fd0",
   "metadata": {
    "tags": []
   },
   "outputs": [
    {
     "name": "stdout",
     "output_type": "stream",
     "text": [
      "('NEW KNOXVILLE – At their meeting Monday night, the New Knoxville Board of '\n",
      " 'Education approved the hiring of a new varsity basketball coach and '\n",
      " 'congratulated a student achieving an Arts Honors Diploma.\\n'\n",
      " 'Michael Piatt, as the new varsity basketball coach, said he is looking '\n",
      " 'forward to building a team that not only focuses on sports but achievement. '\n",
      " 'His most recent position was as assistant varsity coach at Chaminade '\n",
      " 'Julienne in Dayton. He coached Sidney Lehman Cavaliers from 2002 to 2007, '\n",
      " 'leading the team to an 18-5 record and a sectional championship in the '\n",
      " '2006-07 season.\\n'\n",
      " 'High School senior Brittany Bambauer gave the board a presentation on how '\n",
      " 'she achieved an Arts Honors Diploma. Jenny Fledderjohann, principal grades 4 '\n",
      " '– 12, said Baumbauer, had to achieve a 3.5 grade point average, and an ACT '\n",
      " 'score of 27 or higher. Baumbauer, who plans to attend Ohio University '\n",
      " 'pursuing a Music Therapy bachelor’s degree, said it was her field experience '\n",
      " 'with music therapist Brittany Scherer that convinced her she wanted to do '\n",
      " 'this work for the rest of her life. She particularly found working with '\n",
      " 'hospice and dementia programs very rewarding.\\n'\n",
      " 'Fledderjohann also said Andrea Ott was recognized as the Franklin B Walter '\n",
      " 'recipient for New Knoxville on April 4. Ott in turn recognized teacher Jon '\n",
      " 'Stammen as her teacher of influence.\\n'\n",
      " 'She also said that for the first time in school history, New Knoxville High '\n",
      " 'School Band will perform at Troy High School for the state contest on April '\n",
      " '27. Art awards went to Caitlin Lammers was recognized at the Governor’s Art '\n",
      " 'Show, while Addy Farley took the top award at the Wright State Lake Campus '\n",
      " 'Spring Showcase..\\n'\n",
      " 'In other business, Superintendent and K – 3 Principal Kim Waterman reported '\n",
      " 'that the proposed gym expansion was moving forward, saying she and Athletic '\n",
      " 'Director Kay Webb had met with an architect April 13 to discuss various '\n",
      " 'options. She added his first goal is to explore how the west wall of the gym '\n",
      " 'was built.\\n'\n",
      " 'Waterman also reported that kindergarten screening was completed and 30 '\n",
      " 'students would be attending the school this fall. She said, considering the '\n",
      " 'size of the incoming class, it might even be possible they could be hiring '\n",
      " 'for kindergarten and 1st grade in the near future.\\n'\n",
      " 'Buehler Asphalt is expected to be out at the school soon to set a schedule '\n",
      " 'to patch, seal, and stripe the parking lots, she said.\\n'\n",
      " 'The board also approved the contracts of 10 personnel primarily to manage '\n",
      " 'school sports, renew contracts for 7 certified people, and renewed contracts '\n",
      " 'for 7 non-certified employees.\\n'\n",
      " 'The board also approved:\\n'\n",
      " '• Allowing TriStar to purchase any item over $7,500 from the state capital '\n",
      " 'budget/grant.\\n'\n",
      " '• The Auglaize County Health Department Nursing Services contract.\\n'\n",
      " '• Moving the May meeting to Monday, May 21, at 7 pm, since the regular '\n",
      " 'meeting date was in conflict with the Memorial Day holiday.\\n'\n",
      " 'Bambauer '\n",
      " 'http://www.sidneydailynews.com/wp-content/uploads/sites/47/2018/04/web1_Brittany-copy.jpg '\n",
      " 'Bambauer Piatt '\n",
      " 'http://www.sidneydailynews.com/wp-content/uploads/sites/47/2018/04/web1_coach-copy.jpg '\n",
      " 'Piatt\\n'\n",
      " 'By Sandra Schwieterman For the Sidney Daily News\\n'\n",
      " 'The writer is a regular contributor to the Sidney Daily News.\\n'\n",
      " 'The writer is a regular contributor to the Sidney Daily News.')\n"
     ]
    }
   ],
   "source": [
    "random_article = df.iloc[10, 1]\n",
    "pprint(random_article)"
   ]
  },
  {
   "cell_type": "markdown",
   "id": "018fa91a-aa56-4b94-bc70-da38966b1ca0",
   "metadata": {},
   "source": [
    "Notice how the review above is quite messy and it has a lot of characters that, for all intents and purposes, will not be useful for our analysis. Let's examine a cleaner version of the article above by running it through spaCy's tokenizer. When we tokenize a document, we are separating all of its content into each of its components, i.e. words, numbers, punctiations and the like, to make it easier to process it, clean it, and to run computations on it.\n",
    "\n",
    "For this part, we will load an english model, instantiate it and pass an example article through it. You may need to run the cell below first to download the english model."
   ]
  },
  {
   "cell_type": "code",
   "execution_count": 8,
   "id": "f6ea1447-3d50-4959-bb35-0a58f23b344d",
   "metadata": {},
   "outputs": [],
   "source": [
    "# !python -m spacy download en_core_web_sm"
   ]
  },
  {
   "cell_type": "code",
   "execution_count": 9,
   "id": "ea551e27-cd42-4c4d-96b7-ece772adeea4",
   "metadata": {},
   "outputs": [],
   "source": [
    "nlp = spacy.load(\"en_core_web_sm\")"
   ]
  },
  {
   "cell_type": "code",
   "execution_count": 10,
   "id": "f162592d-66d5-43e9-9233-fb2327dc86e9",
   "metadata": {},
   "outputs": [],
   "source": [
    "parsed_article = nlp(random_article)"
   ]
  },
  {
   "cell_type": "code",
   "execution_count": 11,
   "id": "2e709ec3-89bf-426c-8b3f-cea604ebcaee",
   "metadata": {
    "scrolled": true,
    "tags": []
   },
   "outputs": [
    {
     "data": {
      "text/plain": [
       "NEW KNOXVILLE – At their meeting Monday night, the New Knoxville Board of Education approved the hiring of a new varsity basketball coach and congratulated a student achieving an Arts Honors Diploma.\n",
       "Michael Piatt, as the new varsity basketball coach, said he is looking forward to building a team that not only focuses on sports but achievement. His most recent position was as assistant varsity coach at Chaminade Julienne in Dayton. He coached Sidney Lehman Cavaliers from 2002 to 2007, leading the team to an 18-5 record and a sectional championship in the 2006-07 season.\n",
       "High School senior Brittany Bambauer gave the board a presentation on how she achieved an Arts Honors Diploma. Jenny Fledderjohann, principal grades 4 – 12, said Baumbauer, had to achieve a 3.5 grade point average, and an ACT score of 27 or higher. Baumbauer, who plans to attend Ohio University pursuing a Music Therapy bachelor’s degree, said it was her field experience with music therapist Brittany Scherer that convinced her she wanted to do this work for the rest of her life. She particularly found working with hospice and dementia programs very rewarding.\n",
       "Fledderjohann also said Andrea Ott was recognized as the Franklin B Walter recipient for New Knoxville on April 4. Ott in turn recognized teacher Jon Stammen as her teacher of influence.\n",
       "She also said that for the first time in school history, New Knoxville High School Band will perform at Troy High School for the state contest on April 27. Art awards went to Caitlin Lammers was recognized at the Governor’s Art Show, while Addy Farley took the top award at the Wright State Lake Campus Spring Showcase..\n",
       "In other business, Superintendent and K – 3 Principal Kim Waterman reported that the proposed gym expansion was moving forward, saying she and Athletic Director Kay Webb had met with an architect April 13 to discuss various options. She added his first goal is to explore how the west wall of the gym was built.\n",
       "Waterman also reported that kindergarten screening was completed and 30 students would be attending the school this fall. She said, considering the size of the incoming class, it might even be possible they could be hiring for kindergarten and 1st grade in the near future.\n",
       "Buehler Asphalt is expected to be out at the school soon to set a schedule to patch, seal, and stripe the parking lots, she said.\n",
       "The board also approved the contracts of 10 personnel primarily to manage school sports, renew contracts for 7 certified people, and renewed contracts for 7 non-certified employees.\n",
       "The board also approved:\n",
       "• Allowing TriStar to purchase any item over $7,500 from the state capital budget/grant.\n",
       "• The Auglaize County Health Department Nursing Services contract.\n",
       "• Moving the May meeting to Monday, May 21, at 7 pm, since the regular meeting date was in conflict with the Memorial Day holiday.\n",
       "Bambauer http://www.sidneydailynews.com/wp-content/uploads/sites/47/2018/04/web1_Brittany-copy.jpg Bambauer Piatt http://www.sidneydailynews.com/wp-content/uploads/sites/47/2018/04/web1_coach-copy.jpg Piatt\n",
       "By Sandra Schwieterman For the Sidney Daily News\n",
       "The writer is a regular contributor to the Sidney Daily News.\n",
       "The writer is a regular contributor to the Sidney Daily News."
      ]
     },
     "execution_count": 11,
     "metadata": {},
     "output_type": "execute_result"
    }
   ],
   "source": [
    "parsed_article"
   ]
  },
  {
   "cell_type": "markdown",
   "id": "7b7097ec-da16-4b94-9729-7fab88717e4c",
   "metadata": {},
   "source": [
    "Notice how much nicer our article looks now.\n",
    "\n",
    "We can also grab the sentences and view them one by one using the attribute `.sents` and the built in python function `next()`, since the attribute of a document that has been tokenized by spacy will always return an iterator. Conversely, we can add it to a loop and show each of the sentences in an article."
   ]
  },
  {
   "cell_type": "code",
   "execution_count": 12,
   "id": "4d809afe-d1d5-47b8-8cde-3db9d4e34fa9",
   "metadata": {},
   "outputs": [
    {
     "data": {
      "text/plain": [
       "(0,\n",
       " NEW KNOXVILLE – At their meeting Monday night, the New Knoxville Board of Education approved the hiring of a new varsity basketball coach and congratulated a student achieving an Arts Honors Diploma.)"
      ]
     },
     "execution_count": 12,
     "metadata": {},
     "output_type": "execute_result"
    }
   ],
   "source": [
    "next(enumerate(parsed_article.sents))"
   ]
  },
  {
   "cell_type": "code",
   "execution_count": 13,
   "id": "b047193a-44c4-44ba-b6b0-9d7fd7a2293c",
   "metadata": {
    "scrolled": true,
    "tags": []
   },
   "outputs": [
    {
     "name": "stdout",
     "output_type": "stream",
     "text": [
      "Sentence #0:\n",
      " NEW KNOXVILLE – At their meeting Monday night, the New Knoxville Board of Education approved the hiring of a new varsity basketball coach and congratulated a student achieving an Arts Honors Diploma.\n",
      "\n",
      "Sentence #1:\n",
      " \n",
      "\n",
      "\n",
      "Sentence #2:\n",
      " Michael Piatt, as the new varsity basketball coach, said he is looking forward to building a team that not only focuses on sports but achievement.\n",
      "\n",
      "Sentence #3:\n",
      " His most recent position was as assistant varsity coach at Chaminade Julienne in Dayton.\n",
      "\n",
      "Sentence #4:\n",
      " He coached Sidney Lehman Cavaliers from 2002 to 2007, leading the team to an 18-5 record and a sectional championship in the 2006-07 season.\n",
      "\n",
      "Sentence #5:\n",
      " \n",
      "High School senior Brittany Bambauer gave the board a presentation on how she achieved an Arts Honors Diploma.\n",
      "\n",
      "Sentence #6:\n",
      " Jenny Fledderjohann, principal grades 4 – 12, said Baumbauer, had to achieve a 3.5 grade point average, and an ACT score of 27 or higher.\n",
      "\n",
      "Sentence #7:\n",
      " Baumbauer, who plans to attend Ohio University pursuing a Music Therapy bachelor’s degree, said it was her field experience with music therapist Brittany Scherer that convinced her she wanted to do this work for the rest of her life.\n",
      "\n",
      "Sentence #8:\n",
      " She particularly found working with hospice and dementia programs very rewarding.\n",
      "\n",
      "Sentence #9:\n",
      " \n",
      "\n",
      "\n",
      "Sentence #10:\n",
      " Fledderjohann also said Andrea Ott was recognized as the Franklin B Walter recipient for New Knoxville on April 4.\n",
      "\n",
      "Sentence #11:\n",
      " Ott in turn recognized teacher Jon Stammen as her teacher of influence.\n",
      "\n",
      "Sentence #12:\n",
      " \n",
      "\n",
      "\n",
      "Sentence #13:\n",
      " She also said that for the first time in school history, New Knoxville High School Band will perform at Troy High School for the state contest on April 27.\n",
      "\n",
      "Sentence #14:\n",
      " Art awards went to Caitlin Lammers was recognized at the Governor’s Art Show, while Addy Farley took the top award at the Wright State Lake Campus Spring Showcase..\n",
      "\n",
      "\n",
      "Sentence #15:\n",
      " In other business, Superintendent and K – 3 Principal Kim Waterman reported that the proposed gym expansion was moving forward, saying she and Athletic Director Kay Webb had met with an architect April 13 to discuss various options.\n",
      "\n",
      "Sentence #16:\n",
      " She added his first goal is to explore how the west wall of the gym was built.\n",
      "\n",
      "Sentence #17:\n",
      " \n",
      "Waterman also reported that kindergarten screening was completed and 30 students would be attending the school this fall.\n",
      "\n",
      "Sentence #18:\n",
      " She said, considering the size of the incoming class, it might even be possible they could be hiring for kindergarten and 1st grade in the near future.\n",
      "\n",
      "Sentence #19:\n",
      " \n",
      "Buehler Asphalt is expected to be out at the school soon to set a schedule to patch, seal, and stripe the parking lots, she said.\n",
      "\n",
      "Sentence #20:\n",
      " \n",
      "\n",
      "\n",
      "Sentence #21:\n",
      " The board also approved the contracts of 10 personnel primarily to manage school sports, renew contracts for 7 certified people, and renewed contracts for 7 non-certified employees.\n",
      "\n",
      "Sentence #22:\n",
      " \n",
      "\n",
      "\n",
      "Sentence #23:\n",
      " The board also approved:\n",
      "•\n",
      "\n",
      "Sentence #24:\n",
      " Allowing TriStar to purchase any item over $7,500 from the state capital budget/grant.\n",
      "\n",
      "Sentence #25:\n",
      " \n",
      "•\n",
      "\n",
      "Sentence #26:\n",
      " The Auglaize County Health Department Nursing Services contract.\n",
      "\n",
      "Sentence #27:\n",
      " \n",
      "•\n",
      "\n",
      "Sentence #28:\n",
      " Moving the May meeting to Monday, May 21, at 7 pm, since the regular meeting date was in conflict with the Memorial Day holiday.\n",
      "\n",
      "Sentence #29:\n",
      " \n",
      "Bambauer http://www.sidneydailynews.com/wp-content/uploads/sites/47/2018/04/web1_Brittany-copy.jpg Bambauer Piatt http://www.sidneydailynews.com/wp-content/uploads/sites/47/2018/04/web1_coach-copy.jpg Piatt\n",
      "By Sandra Schwieterman For the Sidney Daily News\n",
      "\n",
      "\n",
      "Sentence #30:\n",
      " The writer is a regular contributor to the Sidney Daily News.\n",
      "\n",
      "Sentence #31:\n",
      " \n",
      "\n",
      "\n",
      "Sentence #32:\n",
      " The writer is a regular contributor to the Sidney Daily News.\n",
      "\n"
     ]
    }
   ],
   "source": [
    "for num, sentence in enumerate(parsed_article.sents):\n",
    "    print(f\"Sentence #{num}:\\n {sentence}\\n\")"
   ]
  },
  {
   "cell_type": "markdown",
   "id": "05976609-c063-452b-a9a6-e7cae20d6f7b",
   "metadata": {},
   "source": [
    "We can also have a look at the different kinds of entities in an article. These entities can be a person (called PERSON), and number (called CARDINAL), a geopolitical entity (called GPE), etc."
   ]
  },
  {
   "cell_type": "code",
   "execution_count": 14,
   "id": "0863365f-25ed-498e-a44d-bff6297357d5",
   "metadata": {
    "scrolled": true,
    "tags": []
   },
   "outputs": [
    {
     "name": "stdout",
     "output_type": "stream",
     "text": [
      "Entity #0: Monday -- DATE\n",
      "\n",
      "Entity #1: the New Knoxville Board of Education -- ORG\n",
      "\n",
      "Entity #2: Michael Piatt -- PERSON\n",
      "\n",
      "Entity #3: Julienne -- PERSON\n",
      "\n",
      "Entity #4: Dayton -- GPE\n",
      "\n",
      "Entity #5: Sidney Lehman Cavaliers -- ORG\n",
      "\n",
      "Entity #6: 2002 -- DATE\n",
      "\n",
      "Entity #7: 18-5 -- DATE\n",
      "\n",
      "Entity #8: 2006-07 season -- DATE\n",
      "\n",
      "Entity #9: High School -- ORG\n",
      "\n",
      "Entity #10: Brittany Bambauer -- PERSON\n",
      "\n",
      "Entity #11: Jenny Fledderjohann -- PERSON\n",
      "\n",
      "Entity #12: 4 -- CARDINAL\n",
      "\n",
      "Entity #13: 12 -- CARDINAL\n",
      "\n",
      "Entity #14: Baumbauer -- ORG\n",
      "\n",
      "Entity #15: 3.5 -- CARDINAL\n",
      "\n",
      "Entity #16: 27 -- CARDINAL\n",
      "\n",
      "Entity #17: Baumbauer -- ORG\n",
      "\n",
      "Entity #18: Ohio University -- ORG\n",
      "\n",
      "Entity #19: Music Therapy -- WORK_OF_ART\n",
      "\n",
      "Entity #20: Brittany Scherer -- PERSON\n",
      "\n",
      "Entity #21: Fledderjohann -- PERSON\n",
      "\n",
      "Entity #22: Andrea Ott -- PERSON\n",
      "\n",
      "Entity #23: New Knoxville -- GPE\n",
      "\n",
      "Entity #24: April 4 -- DATE\n",
      "\n",
      "Entity #25: Jon Stammen -- PERSON\n",
      "\n",
      "Entity #26: first -- ORDINAL\n",
      "\n",
      "Entity #27: New Knoxville High School Band -- ORG\n",
      "\n",
      "Entity #28: Troy High School -- ORG\n",
      "\n",
      "Entity #29: April 27 -- DATE\n",
      "\n",
      "Entity #30: Caitlin Lammers -- PERSON\n",
      "\n",
      "Entity #31: Addy Farley -- PERSON\n",
      "\n",
      "Entity #32: the Wright State Lake -- FAC\n",
      "\n",
      "Entity #33: Superintendent -- PERSON\n",
      "\n",
      "Entity #34: 3 -- CARDINAL\n",
      "\n",
      "Entity #35: Principal Kim Waterman -- PERSON\n",
      "\n",
      "Entity #36: Athletic -- ORG\n",
      "\n",
      "Entity #37: Kay Webb -- PERSON\n",
      "\n",
      "Entity #38: April 13 -- DATE\n",
      "\n",
      "Entity #39: first -- ORDINAL\n",
      "\n",
      "Entity #40: Waterman -- PERSON\n",
      "\n",
      "Entity #41: 30 -- CARDINAL\n",
      "\n",
      "Entity #42: 1st -- ORDINAL\n",
      "\n",
      "Entity #43: Buehler Asphalt -- PERSON\n",
      "\n",
      "Entity #44: 10 -- CARDINAL\n",
      "\n",
      "Entity #45: 7 -- CARDINAL\n",
      "\n",
      "Entity #46: 7 -- CARDINAL\n",
      "\n",
      "Entity #47: over $7,500 -- MONEY\n",
      "\n",
      "Entity #48: The Auglaize County Health Department Nursing Services -- ORG\n",
      "\n",
      "Entity #49: May -- DATE\n",
      "\n",
      "Entity #50: Monday, May 21 -- DATE\n",
      "\n",
      "Entity #51: 7 pm -- TIME\n",
      "\n",
      "Entity #52: the Memorial Day -- EVENT\n",
      "\n",
      "Entity #53: Bambauer http://www.sidneydailynews.com/wp-content/uploads/sites/47/2018/04/web1_Brittany-copy.jpg Bambauer Piatt http://www.sidneydailynews.com/wp-content/uploads/sites/47/2018/04/web1_coach-copy.jpg Piatt -- PERSON\n",
      "\n",
      "Entity #54: Sandra Schwieterman -- PERSON\n",
      "\n",
      "Entity #55: the Sidney Daily News -- ORG\n",
      "\n",
      "Entity #56: the Sidney Daily News -- ORG\n",
      "\n",
      "Entity #57: the Sidney Daily News -- ORG\n",
      "\n"
     ]
    }
   ],
   "source": [
    "for num, entity in enumerate(parsed_article.ents):\n",
    "    print(f\"Entity #{num}: {entity} -- {entity.label_}\\n\")"
   ]
  },
  {
   "cell_type": "code",
   "execution_count": 16,
   "id": "2f82ebd4-bd22-4a5e-923f-322b69733c23",
   "metadata": {},
   "outputs": [
    {
     "data": {
      "text/plain": [
       "'Non-GPE locations, mountain ranges, bodies of water'"
      ]
     },
     "execution_count": 16,
     "metadata": {},
     "output_type": "execute_result"
    }
   ],
   "source": [
    "spacy.explain(\"LOC\")"
   ]
  },
  {
   "cell_type": "markdown",
   "id": "d8e42071-6918-46b9-b192-ad5ac595ed51",
   "metadata": {},
   "source": [
    "We can also check weather a word is a stopword or a punctuation, or we can even lemmatize our articles. Lemmatization is a way of taking the root of a word and bringing similar words to a common denominator, for example, `was` will become `be` and most plural words will become singular words."
   ]
  },
  {
   "cell_type": "code",
   "execution_count": 17,
   "id": "b70b5e2c-e195-4660-b893-49f2df49beae",
   "metadata": {},
   "outputs": [
    {
     "data": {
      "text/plain": [
       "['NEW',\n",
       " 'KNOXVILLE',\n",
       " '–',\n",
       " 'At',\n",
       " 'their',\n",
       " 'meeting',\n",
       " 'Monday',\n",
       " 'night',\n",
       " ',',\n",
       " 'the']"
      ]
     },
     "execution_count": 17,
     "metadata": {},
     "output_type": "execute_result"
    }
   ],
   "source": [
    "new_list = []\n",
    "\n",
    "for token in parsed_article:\n",
    "    new_list.append(token.text)\n",
    "    \n",
    "    \n",
    "new_list[:10]"
   ]
  },
  {
   "cell_type": "code",
   "execution_count": 18,
   "id": "743d497d-bc13-4c8b-b7da-4f5d7128d99d",
   "metadata": {},
   "outputs": [
    {
     "data": {
      "text/plain": [
       "['NEW',\n",
       " 'KNOXVILLE',\n",
       " '–',\n",
       " 'At',\n",
       " 'their',\n",
       " 'meeting',\n",
       " 'Monday',\n",
       " 'night',\n",
       " ',',\n",
       " 'the']"
      ]
     },
     "execution_count": 18,
     "metadata": {},
     "output_type": "execute_result"
    }
   ],
   "source": [
    "new_list = [token.text for token in parsed_article]\n",
    "\n",
    "new_list[:10]"
   ]
  },
  {
   "cell_type": "code",
   "execution_count": 19,
   "id": "b2b1ce74-bf7f-44af-897d-2d583867da8c",
   "metadata": {
    "scrolled": true,
    "tags": []
   },
   "outputs": [
    {
     "data": {
      "text/html": [
       "<div>\n",
       "<style scoped>\n",
       "    .dataframe tbody tr th:only-of-type {\n",
       "        vertical-align: middle;\n",
       "    }\n",
       "\n",
       "    .dataframe tbody tr th {\n",
       "        vertical-align: top;\n",
       "    }\n",
       "\n",
       "    .dataframe thead th {\n",
       "        text-align: right;\n",
       "    }\n",
       "</style>\n",
       "<table border=\"1\" class=\"dataframe\">\n",
       "  <thead>\n",
       "    <tr style=\"text-align: right;\">\n",
       "      <th></th>\n",
       "      <th>Original Text</th>\n",
       "      <th>Lemmatized Text</th>\n",
       "      <th>Punctuations</th>\n",
       "      <th>stopwords</th>\n",
       "    </tr>\n",
       "  </thead>\n",
       "  <tbody>\n",
       "    <tr>\n",
       "      <th>0</th>\n",
       "      <td>NEW</td>\n",
       "      <td>new</td>\n",
       "      <td>False</td>\n",
       "      <td>False</td>\n",
       "    </tr>\n",
       "    <tr>\n",
       "      <th>1</th>\n",
       "      <td>KNOXVILLE</td>\n",
       "      <td>KNOXVILLE</td>\n",
       "      <td>False</td>\n",
       "      <td>False</td>\n",
       "    </tr>\n",
       "    <tr>\n",
       "      <th>2</th>\n",
       "      <td>–</td>\n",
       "      <td>–</td>\n",
       "      <td>True</td>\n",
       "      <td>False</td>\n",
       "    </tr>\n",
       "    <tr>\n",
       "      <th>3</th>\n",
       "      <td>At</td>\n",
       "      <td>at</td>\n",
       "      <td>False</td>\n",
       "      <td>True</td>\n",
       "    </tr>\n",
       "    <tr>\n",
       "      <th>4</th>\n",
       "      <td>their</td>\n",
       "      <td>their</td>\n",
       "      <td>False</td>\n",
       "      <td>True</td>\n",
       "    </tr>\n",
       "    <tr>\n",
       "      <th>5</th>\n",
       "      <td>meeting</td>\n",
       "      <td>meeting</td>\n",
       "      <td>False</td>\n",
       "      <td>False</td>\n",
       "    </tr>\n",
       "    <tr>\n",
       "      <th>6</th>\n",
       "      <td>Monday</td>\n",
       "      <td>Monday</td>\n",
       "      <td>False</td>\n",
       "      <td>False</td>\n",
       "    </tr>\n",
       "    <tr>\n",
       "      <th>7</th>\n",
       "      <td>night</td>\n",
       "      <td>night</td>\n",
       "      <td>False</td>\n",
       "      <td>False</td>\n",
       "    </tr>\n",
       "    <tr>\n",
       "      <th>8</th>\n",
       "      <td>,</td>\n",
       "      <td>,</td>\n",
       "      <td>True</td>\n",
       "      <td>False</td>\n",
       "    </tr>\n",
       "    <tr>\n",
       "      <th>9</th>\n",
       "      <td>the</td>\n",
       "      <td>the</td>\n",
       "      <td>False</td>\n",
       "      <td>True</td>\n",
       "    </tr>\n",
       "    <tr>\n",
       "      <th>10</th>\n",
       "      <td>New</td>\n",
       "      <td>New</td>\n",
       "      <td>False</td>\n",
       "      <td>False</td>\n",
       "    </tr>\n",
       "    <tr>\n",
       "      <th>11</th>\n",
       "      <td>Knoxville</td>\n",
       "      <td>Knoxville</td>\n",
       "      <td>False</td>\n",
       "      <td>False</td>\n",
       "    </tr>\n",
       "    <tr>\n",
       "      <th>12</th>\n",
       "      <td>Board</td>\n",
       "      <td>Board</td>\n",
       "      <td>False</td>\n",
       "      <td>False</td>\n",
       "    </tr>\n",
       "    <tr>\n",
       "      <th>13</th>\n",
       "      <td>of</td>\n",
       "      <td>of</td>\n",
       "      <td>False</td>\n",
       "      <td>True</td>\n",
       "    </tr>\n",
       "    <tr>\n",
       "      <th>14</th>\n",
       "      <td>Education</td>\n",
       "      <td>Education</td>\n",
       "      <td>False</td>\n",
       "      <td>False</td>\n",
       "    </tr>\n",
       "    <tr>\n",
       "      <th>15</th>\n",
       "      <td>approved</td>\n",
       "      <td>approve</td>\n",
       "      <td>False</td>\n",
       "      <td>False</td>\n",
       "    </tr>\n",
       "    <tr>\n",
       "      <th>16</th>\n",
       "      <td>the</td>\n",
       "      <td>the</td>\n",
       "      <td>False</td>\n",
       "      <td>True</td>\n",
       "    </tr>\n",
       "    <tr>\n",
       "      <th>17</th>\n",
       "      <td>hiring</td>\n",
       "      <td>hiring</td>\n",
       "      <td>False</td>\n",
       "      <td>False</td>\n",
       "    </tr>\n",
       "    <tr>\n",
       "      <th>18</th>\n",
       "      <td>of</td>\n",
       "      <td>of</td>\n",
       "      <td>False</td>\n",
       "      <td>True</td>\n",
       "    </tr>\n",
       "    <tr>\n",
       "      <th>19</th>\n",
       "      <td>a</td>\n",
       "      <td>a</td>\n",
       "      <td>False</td>\n",
       "      <td>True</td>\n",
       "    </tr>\n",
       "    <tr>\n",
       "      <th>20</th>\n",
       "      <td>new</td>\n",
       "      <td>new</td>\n",
       "      <td>False</td>\n",
       "      <td>False</td>\n",
       "    </tr>\n",
       "    <tr>\n",
       "      <th>21</th>\n",
       "      <td>varsity</td>\n",
       "      <td>varsity</td>\n",
       "      <td>False</td>\n",
       "      <td>False</td>\n",
       "    </tr>\n",
       "    <tr>\n",
       "      <th>22</th>\n",
       "      <td>basketball</td>\n",
       "      <td>basketball</td>\n",
       "      <td>False</td>\n",
       "      <td>False</td>\n",
       "    </tr>\n",
       "    <tr>\n",
       "      <th>23</th>\n",
       "      <td>coach</td>\n",
       "      <td>coach</td>\n",
       "      <td>False</td>\n",
       "      <td>False</td>\n",
       "    </tr>\n",
       "    <tr>\n",
       "      <th>24</th>\n",
       "      <td>and</td>\n",
       "      <td>and</td>\n",
       "      <td>False</td>\n",
       "      <td>True</td>\n",
       "    </tr>\n",
       "    <tr>\n",
       "      <th>25</th>\n",
       "      <td>congratulated</td>\n",
       "      <td>congratulate</td>\n",
       "      <td>False</td>\n",
       "      <td>False</td>\n",
       "    </tr>\n",
       "    <tr>\n",
       "      <th>26</th>\n",
       "      <td>a</td>\n",
       "      <td>a</td>\n",
       "      <td>False</td>\n",
       "      <td>True</td>\n",
       "    </tr>\n",
       "    <tr>\n",
       "      <th>27</th>\n",
       "      <td>student</td>\n",
       "      <td>student</td>\n",
       "      <td>False</td>\n",
       "      <td>False</td>\n",
       "    </tr>\n",
       "    <tr>\n",
       "      <th>28</th>\n",
       "      <td>achieving</td>\n",
       "      <td>achieve</td>\n",
       "      <td>False</td>\n",
       "      <td>False</td>\n",
       "    </tr>\n",
       "    <tr>\n",
       "      <th>29</th>\n",
       "      <td>an</td>\n",
       "      <td>an</td>\n",
       "      <td>False</td>\n",
       "      <td>True</td>\n",
       "    </tr>\n",
       "    <tr>\n",
       "      <th>30</th>\n",
       "      <td>Arts</td>\n",
       "      <td>Arts</td>\n",
       "      <td>False</td>\n",
       "      <td>False</td>\n",
       "    </tr>\n",
       "    <tr>\n",
       "      <th>31</th>\n",
       "      <td>Honors</td>\n",
       "      <td>Honors</td>\n",
       "      <td>False</td>\n",
       "      <td>False</td>\n",
       "    </tr>\n",
       "    <tr>\n",
       "      <th>32</th>\n",
       "      <td>Diploma</td>\n",
       "      <td>Diploma</td>\n",
       "      <td>False</td>\n",
       "      <td>False</td>\n",
       "    </tr>\n",
       "    <tr>\n",
       "      <th>33</th>\n",
       "      <td>.</td>\n",
       "      <td>.</td>\n",
       "      <td>True</td>\n",
       "      <td>False</td>\n",
       "    </tr>\n",
       "    <tr>\n",
       "      <th>34</th>\n",
       "      <td>\\n</td>\n",
       "      <td>\\n</td>\n",
       "      <td>False</td>\n",
       "      <td>False</td>\n",
       "    </tr>\n",
       "    <tr>\n",
       "      <th>35</th>\n",
       "      <td>Michael</td>\n",
       "      <td>Michael</td>\n",
       "      <td>False</td>\n",
       "      <td>False</td>\n",
       "    </tr>\n",
       "    <tr>\n",
       "      <th>36</th>\n",
       "      <td>Piatt</td>\n",
       "      <td>Piatt</td>\n",
       "      <td>False</td>\n",
       "      <td>False</td>\n",
       "    </tr>\n",
       "    <tr>\n",
       "      <th>37</th>\n",
       "      <td>,</td>\n",
       "      <td>,</td>\n",
       "      <td>True</td>\n",
       "      <td>False</td>\n",
       "    </tr>\n",
       "    <tr>\n",
       "      <th>38</th>\n",
       "      <td>as</td>\n",
       "      <td>as</td>\n",
       "      <td>False</td>\n",
       "      <td>True</td>\n",
       "    </tr>\n",
       "    <tr>\n",
       "      <th>39</th>\n",
       "      <td>the</td>\n",
       "      <td>the</td>\n",
       "      <td>False</td>\n",
       "      <td>True</td>\n",
       "    </tr>\n",
       "    <tr>\n",
       "      <th>40</th>\n",
       "      <td>new</td>\n",
       "      <td>new</td>\n",
       "      <td>False</td>\n",
       "      <td>False</td>\n",
       "    </tr>\n",
       "    <tr>\n",
       "      <th>41</th>\n",
       "      <td>varsity</td>\n",
       "      <td>varsity</td>\n",
       "      <td>False</td>\n",
       "      <td>False</td>\n",
       "    </tr>\n",
       "    <tr>\n",
       "      <th>42</th>\n",
       "      <td>basketball</td>\n",
       "      <td>basketball</td>\n",
       "      <td>False</td>\n",
       "      <td>False</td>\n",
       "    </tr>\n",
       "    <tr>\n",
       "      <th>43</th>\n",
       "      <td>coach</td>\n",
       "      <td>coach</td>\n",
       "      <td>False</td>\n",
       "      <td>False</td>\n",
       "    </tr>\n",
       "    <tr>\n",
       "      <th>44</th>\n",
       "      <td>,</td>\n",
       "      <td>,</td>\n",
       "      <td>True</td>\n",
       "      <td>False</td>\n",
       "    </tr>\n",
       "    <tr>\n",
       "      <th>45</th>\n",
       "      <td>said</td>\n",
       "      <td>say</td>\n",
       "      <td>False</td>\n",
       "      <td>False</td>\n",
       "    </tr>\n",
       "    <tr>\n",
       "      <th>46</th>\n",
       "      <td>he</td>\n",
       "      <td>he</td>\n",
       "      <td>False</td>\n",
       "      <td>True</td>\n",
       "    </tr>\n",
       "    <tr>\n",
       "      <th>47</th>\n",
       "      <td>is</td>\n",
       "      <td>be</td>\n",
       "      <td>False</td>\n",
       "      <td>True</td>\n",
       "    </tr>\n",
       "    <tr>\n",
       "      <th>48</th>\n",
       "      <td>looking</td>\n",
       "      <td>look</td>\n",
       "      <td>False</td>\n",
       "      <td>False</td>\n",
       "    </tr>\n",
       "    <tr>\n",
       "      <th>49</th>\n",
       "      <td>forward</td>\n",
       "      <td>forward</td>\n",
       "      <td>False</td>\n",
       "      <td>False</td>\n",
       "    </tr>\n",
       "  </tbody>\n",
       "</table>\n",
       "</div>"
      ],
      "text/plain": [
       "    Original Text Lemmatized Text  Punctuations  stopwords\n",
       "0             NEW             new         False      False\n",
       "1       KNOXVILLE       KNOXVILLE         False      False\n",
       "2               –               –          True      False\n",
       "3              At              at         False       True\n",
       "4           their           their         False       True\n",
       "5         meeting         meeting         False      False\n",
       "6          Monday          Monday         False      False\n",
       "7           night           night         False      False\n",
       "8               ,               ,          True      False\n",
       "9             the             the         False       True\n",
       "10            New             New         False      False\n",
       "11      Knoxville       Knoxville         False      False\n",
       "12          Board           Board         False      False\n",
       "13             of              of         False       True\n",
       "14      Education       Education         False      False\n",
       "15       approved         approve         False      False\n",
       "16            the             the         False       True\n",
       "17         hiring          hiring         False      False\n",
       "18             of              of         False       True\n",
       "19              a               a         False       True\n",
       "20            new             new         False      False\n",
       "21        varsity         varsity         False      False\n",
       "22     basketball      basketball         False      False\n",
       "23          coach           coach         False      False\n",
       "24            and             and         False       True\n",
       "25  congratulated    congratulate         False      False\n",
       "26              a               a         False       True\n",
       "27        student         student         False      False\n",
       "28      achieving         achieve         False      False\n",
       "29             an              an         False       True\n",
       "30           Arts            Arts         False      False\n",
       "31         Honors          Honors         False      False\n",
       "32        Diploma         Diploma         False      False\n",
       "33              .               .          True      False\n",
       "34             \\n              \\n         False      False\n",
       "35        Michael         Michael         False      False\n",
       "36          Piatt           Piatt         False      False\n",
       "37              ,               ,          True      False\n",
       "38             as              as         False       True\n",
       "39            the             the         False       True\n",
       "40            new             new         False      False\n",
       "41        varsity         varsity         False      False\n",
       "42     basketball      basketball         False      False\n",
       "43          coach           coach         False      False\n",
       "44              ,               ,          True      False\n",
       "45           said             say         False      False\n",
       "46             he              he         False       True\n",
       "47             is              be         False       True\n",
       "48        looking            look         False      False\n",
       "49        forward         forward         False      False"
      ]
     },
     "execution_count": 19,
     "metadata": {},
     "output_type": "execute_result"
    }
   ],
   "source": [
    "# here we are taking out of the parsed article each token\n",
    "token_text = [token.text for token in parsed_article]\n",
    "\n",
    "# here we are lemmatizing each word possible\n",
    "token_lemmas = [token.lemma_ for token in parsed_article]\n",
    "\n",
    "# stopwords are very common so here we will extract a variable that will tell us whether\n",
    "# a token is a stopword or not\n",
    "token_stop = [token.is_stop for token in parsed_article]\n",
    "\n",
    "# a token is a pinctuation or not\n",
    "token_punc = [token.is_punct for token in parsed_article]\n",
    "\n",
    "# we will now add all three to a dataframe and display it without assigning it to a variable\n",
    "pd.DataFrame(zip(token_text, token_lemmas, token_punc, token_stop), columns=['Original Text', 'Lemmatized Text', 'Punctuations', 'stopwords']).head(50)"
   ]
  },
  {
   "cell_type": "markdown",
   "id": "666a83b2-15f5-4500-a9ec-269a777faef9",
   "metadata": {},
   "source": [
    "## 4. Cleaning"
   ]
  },
  {
   "cell_type": "markdown",
   "id": "d6243c19-06a0-43fb-829b-a21c86546d4b",
   "metadata": {},
   "source": [
    "Let's start by checking if our dataset contains any missin values, and then evaluate the amount of memory we are currently using from our machine."
   ]
  },
  {
   "cell_type": "code",
   "execution_count": 20,
   "id": "1fba5e1f-e1c4-4d59-8446-20906ce9ee22",
   "metadata": {},
   "outputs": [
    {
     "data": {
      "text/plain": [
       "title          0\n",
       "text           0\n",
       "domain         0\n",
       "date           0\n",
       "description    0\n",
       "url            0\n",
       "image_url      0\n",
       "dtype: int64"
      ]
     },
     "execution_count": 20,
     "metadata": {},
     "output_type": "execute_result"
    }
   ],
   "source": [
    "df.isna().sum()"
   ]
  },
  {
   "cell_type": "code",
   "execution_count": 21,
   "id": "e0be9bf1-00ba-469d-968a-f67d6801f967",
   "metadata": {},
   "outputs": [
    {
     "name": "stdout",
     "output_type": "stream",
     "text": [
      "<class 'pandas.core.frame.DataFrame'>\n",
      "RangeIndex: 5000 entries, 0 to 4999\n",
      "Data columns (total 7 columns):\n",
      " #   Column       Non-Null Count  Dtype \n",
      "---  ------       --------------  ----- \n",
      " 0   title        5000 non-null   object\n",
      " 1   text         5000 non-null   object\n",
      " 2   domain       5000 non-null   object\n",
      " 3   date         5000 non-null   object\n",
      " 4   description  5000 non-null   object\n",
      " 5   url          5000 non-null   object\n",
      " 6   image_url    5000 non-null   object\n",
      "dtypes: object(7)\n",
      "memory usage: 23.8 MB\n"
     ]
    }
   ],
   "source": [
    "df.info(memory_usage='deep')"
   ]
  },
  {
   "cell_type": "markdown",
   "id": "9221dc40-b2b3-455a-8b65-498543283482",
   "metadata": {},
   "source": [
    "Depending on the random sample you choose at the beginning, you may or may not have a lot. If so, getting rid of the columns you don't need will help release some of the memory in your machine."
   ]
  },
  {
   "cell_type": "code",
   "execution_count": 22,
   "id": "84251929-cbd6-46da-bb1a-e5f74f9d9a52",
   "metadata": {},
   "outputs": [],
   "source": [
    "df.drop(['url', 'image_url', 'domain'], axis=1, inplace=True)"
   ]
  },
  {
   "cell_type": "markdown",
   "id": "068a80a1-c5fb-494f-b785-79e2247037ce",
   "metadata": {},
   "source": [
    "Perfect! Let's now extract the `text` column and normalize it. This means we will use `spacy` to,\n",
    "- take out anything that is not a word or a number,\n",
    "- convert to lower case,\n",
    "- strip the spaces around the words,\n",
    "- tokenize the articles,\n",
    "- remove stopwords (we will use spaCy's list of stopwords for this),\n",
    "- and then join the cleaned tokens back together."
   ]
  },
  {
   "cell_type": "code",
   "execution_count": 23,
   "id": "76209dbc-ee81-4a44-a8be-606f9616fd3b",
   "metadata": {},
   "outputs": [],
   "source": [
    "articles = df['text'].values"
   ]
  },
  {
   "cell_type": "code",
   "execution_count": 24,
   "id": "89840f81-600f-4c2f-b9f4-ec7201a170dc",
   "metadata": {
    "scrolled": true,
    "tags": []
   },
   "outputs": [
    {
     "data": {
      "text/plain": [
       "(326,\n",
       " {\"'d\",\n",
       "  \"'ll\",\n",
       "  \"'m\",\n",
       "  \"'re\",\n",
       "  \"'s\",\n",
       "  \"'ve\",\n",
       "  'a',\n",
       "  'about',\n",
       "  'above',\n",
       "  'across',\n",
       "  'after',\n",
       "  'afterwards',\n",
       "  'again',\n",
       "  'against',\n",
       "  'all',\n",
       "  'almost',\n",
       "  'alone',\n",
       "  'along',\n",
       "  'already',\n",
       "  'also',\n",
       "  'although',\n",
       "  'always',\n",
       "  'am',\n",
       "  'among',\n",
       "  'amongst',\n",
       "  'amount',\n",
       "  'an',\n",
       "  'and',\n",
       "  'another',\n",
       "  'any',\n",
       "  'anyhow',\n",
       "  'anyone',\n",
       "  'anything',\n",
       "  'anyway',\n",
       "  'anywhere',\n",
       "  'are',\n",
       "  'around',\n",
       "  'as',\n",
       "  'at',\n",
       "  'back',\n",
       "  'be',\n",
       "  'became',\n",
       "  'because',\n",
       "  'become',\n",
       "  'becomes',\n",
       "  'becoming',\n",
       "  'been',\n",
       "  'before',\n",
       "  'beforehand',\n",
       "  'behind',\n",
       "  'being',\n",
       "  'below',\n",
       "  'beside',\n",
       "  'besides',\n",
       "  'between',\n",
       "  'beyond',\n",
       "  'both',\n",
       "  'bottom',\n",
       "  'but',\n",
       "  'by',\n",
       "  'ca',\n",
       "  'call',\n",
       "  'can',\n",
       "  'cannot',\n",
       "  'could',\n",
       "  'did',\n",
       "  'do',\n",
       "  'does',\n",
       "  'doing',\n",
       "  'done',\n",
       "  'down',\n",
       "  'due',\n",
       "  'during',\n",
       "  'each',\n",
       "  'eight',\n",
       "  'either',\n",
       "  'eleven',\n",
       "  'else',\n",
       "  'elsewhere',\n",
       "  'empty',\n",
       "  'enough',\n",
       "  'even',\n",
       "  'ever',\n",
       "  'every',\n",
       "  'everyone',\n",
       "  'everything',\n",
       "  'everywhere',\n",
       "  'except',\n",
       "  'few',\n",
       "  'fifteen',\n",
       "  'fifty',\n",
       "  'first',\n",
       "  'five',\n",
       "  'for',\n",
       "  'former',\n",
       "  'formerly',\n",
       "  'forty',\n",
       "  'four',\n",
       "  'from',\n",
       "  'front',\n",
       "  'full',\n",
       "  'further',\n",
       "  'get',\n",
       "  'give',\n",
       "  'go',\n",
       "  'had',\n",
       "  'has',\n",
       "  'have',\n",
       "  'he',\n",
       "  'hence',\n",
       "  'her',\n",
       "  'here',\n",
       "  'hereafter',\n",
       "  'hereby',\n",
       "  'herein',\n",
       "  'hereupon',\n",
       "  'hers',\n",
       "  'herself',\n",
       "  'him',\n",
       "  'himself',\n",
       "  'his',\n",
       "  'how',\n",
       "  'however',\n",
       "  'hundred',\n",
       "  'i',\n",
       "  'if',\n",
       "  'in',\n",
       "  'indeed',\n",
       "  'into',\n",
       "  'is',\n",
       "  'it',\n",
       "  'its',\n",
       "  'itself',\n",
       "  'just',\n",
       "  'keep',\n",
       "  'last',\n",
       "  'latter',\n",
       "  'latterly',\n",
       "  'least',\n",
       "  'less',\n",
       "  'made',\n",
       "  'make',\n",
       "  'many',\n",
       "  'may',\n",
       "  'me',\n",
       "  'meanwhile',\n",
       "  'might',\n",
       "  'mine',\n",
       "  'more',\n",
       "  'moreover',\n",
       "  'most',\n",
       "  'mostly',\n",
       "  'move',\n",
       "  'much',\n",
       "  'must',\n",
       "  'my',\n",
       "  'myself',\n",
       "  \"n't\",\n",
       "  'name',\n",
       "  'namely',\n",
       "  'neither',\n",
       "  'never',\n",
       "  'nevertheless',\n",
       "  'next',\n",
       "  'nine',\n",
       "  'no',\n",
       "  'nobody',\n",
       "  'none',\n",
       "  'noone',\n",
       "  'nor',\n",
       "  'not',\n",
       "  'nothing',\n",
       "  'now',\n",
       "  'nowhere',\n",
       "  'n‘t',\n",
       "  'n’t',\n",
       "  'of',\n",
       "  'off',\n",
       "  'often',\n",
       "  'on',\n",
       "  'once',\n",
       "  'one',\n",
       "  'only',\n",
       "  'onto',\n",
       "  'or',\n",
       "  'other',\n",
       "  'others',\n",
       "  'otherwise',\n",
       "  'our',\n",
       "  'ours',\n",
       "  'ourselves',\n",
       "  'out',\n",
       "  'over',\n",
       "  'own',\n",
       "  'part',\n",
       "  'per',\n",
       "  'perhaps',\n",
       "  'please',\n",
       "  'put',\n",
       "  'quite',\n",
       "  'rather',\n",
       "  're',\n",
       "  'really',\n",
       "  'regarding',\n",
       "  'same',\n",
       "  'say',\n",
       "  'see',\n",
       "  'seem',\n",
       "  'seemed',\n",
       "  'seeming',\n",
       "  'seems',\n",
       "  'serious',\n",
       "  'several',\n",
       "  'she',\n",
       "  'should',\n",
       "  'show',\n",
       "  'side',\n",
       "  'since',\n",
       "  'six',\n",
       "  'sixty',\n",
       "  'so',\n",
       "  'some',\n",
       "  'somehow',\n",
       "  'someone',\n",
       "  'something',\n",
       "  'sometime',\n",
       "  'sometimes',\n",
       "  'somewhere',\n",
       "  'still',\n",
       "  'such',\n",
       "  'take',\n",
       "  'ten',\n",
       "  'than',\n",
       "  'that',\n",
       "  'the',\n",
       "  'their',\n",
       "  'them',\n",
       "  'themselves',\n",
       "  'then',\n",
       "  'thence',\n",
       "  'there',\n",
       "  'thereafter',\n",
       "  'thereby',\n",
       "  'therefore',\n",
       "  'therein',\n",
       "  'thereupon',\n",
       "  'these',\n",
       "  'they',\n",
       "  'third',\n",
       "  'this',\n",
       "  'those',\n",
       "  'though',\n",
       "  'three',\n",
       "  'through',\n",
       "  'throughout',\n",
       "  'thru',\n",
       "  'thus',\n",
       "  'to',\n",
       "  'together',\n",
       "  'too',\n",
       "  'top',\n",
       "  'toward',\n",
       "  'towards',\n",
       "  'twelve',\n",
       "  'twenty',\n",
       "  'two',\n",
       "  'under',\n",
       "  'unless',\n",
       "  'until',\n",
       "  'up',\n",
       "  'upon',\n",
       "  'us',\n",
       "  'used',\n",
       "  'using',\n",
       "  'various',\n",
       "  'very',\n",
       "  'via',\n",
       "  'was',\n",
       "  'we',\n",
       "  'well',\n",
       "  'were',\n",
       "  'what',\n",
       "  'whatever',\n",
       "  'when',\n",
       "  'whence',\n",
       "  'whenever',\n",
       "  'where',\n",
       "  'whereafter',\n",
       "  'whereas',\n",
       "  'whereby',\n",
       "  'wherein',\n",
       "  'whereupon',\n",
       "  'wherever',\n",
       "  'whether',\n",
       "  'which',\n",
       "  'while',\n",
       "  'whither',\n",
       "  'who',\n",
       "  'whoever',\n",
       "  'whole',\n",
       "  'whom',\n",
       "  'whose',\n",
       "  'why',\n",
       "  'will',\n",
       "  'with',\n",
       "  'within',\n",
       "  'without',\n",
       "  'would',\n",
       "  'yet',\n",
       "  'you',\n",
       "  'your',\n",
       "  'yours',\n",
       "  'yourself',\n",
       "  'yourselves',\n",
       "  '‘d',\n",
       "  '‘ll',\n",
       "  '‘m',\n",
       "  '‘re',\n",
       "  '‘s',\n",
       "  '‘ve',\n",
       "  '’d',\n",
       "  '’ll',\n",
       "  '’m',\n",
       "  '’re',\n",
       "  '’s',\n",
       "  '’ve'})"
      ]
     },
     "execution_count": 24,
     "metadata": {},
     "output_type": "execute_result"
    }
   ],
   "source": [
    "from spacy.lang.en.stop_words import STOP_WORDS\n",
    "len(STOP_WORDS), STOP_WORDS"
   ]
  },
  {
   "cell_type": "code",
   "execution_count": 25,
   "id": "99f38ed6-7c4c-4906-8709-faeb7ad03956",
   "metadata": {},
   "outputs": [],
   "source": [
    "def normalize_doc(doc):\n",
    "    \"\"\"\n",
    "    This function normalizes your list of documents by taking only\n",
    "    words, numbers, and spaces in between them. It then filters out\n",
    "    stop words.\n",
    "    \"\"\"\n",
    "    doc = re.sub(r'[^a-zA-Z0-9\\s]', '', doc, re.I|re.A)\n",
    "    doc = doc.lower()\n",
    "    doc = doc.strip()\n",
    "    tokens = nlp(doc)\n",
    "    filtered_tokens = [token.lemma_ for token in tokens if not token.is_stop]\n",
    "    doc = ' '.join(filtered_tokens).replace(\" \\n \", \"\")\n",
    "    return doc"
   ]
  },
  {
   "cell_type": "code",
   "execution_count": 26,
   "id": "45df1cbe-c0d6-412d-830a-801616b9ca81",
   "metadata": {
    "scrolled": true,
    "tags": []
   },
   "outputs": [
    {
     "data": {
      "text/plain": [
       "'NEW KNOXVILLE – At their meeting Monday night, the New Knoxville Board of Education approved the hiring of a new varsity basketball coach and congratulated a student achieving an Arts Honors Diploma.\\nMichael Piatt, as the new varsity basketball coach, said he is looking forward to building a team that not only focuses on sports but achievement. His most recent position was as assistant varsity coach at Chaminade Julienne in Dayton. He coached Sidney Lehman Cavaliers from 2002 to 2007, leading the team to an 18-5 record and a sectional championship in the 2006-07 season.\\nHigh School senior Brittany Bambauer gave the board a presentation on how she achieved an Arts Honors Diploma. Jenny Fledderjohann, principal grades 4 – 12, said Baumbauer, had to achieve a 3.5 grade point average, and an ACT score of 27 or higher. Baumbauer, who plans to attend Ohio University pursuing a Music Therapy bachelor’s degree, said it was her field experience with music therapist Brittany Scherer that convinced her she wanted to do this work for the rest of her life. She particularly found working with hospice and dementia programs very rewarding.\\nFledderjohann also said Andrea Ott was recognized as the Franklin B Walter recipient for New Knoxville on April 4. Ott in turn recognized teacher Jon Stammen as her teacher of influence.\\nShe also said that for the first time in school history, New Knoxville High School Band will perform at Troy High School for the state contest on April 27. Art awards went to Caitlin Lammers was recognized at the Governor’s Art Show, while Addy Farley took the top award at the Wright State Lake Campus Spring Showcase..\\nIn other business, Superintendent and K – 3 Principal Kim Waterman reported that the proposed gym expansion was moving forward, saying she and Athletic Director Kay Webb had met with an architect April 13 to discuss various options. She added his first goal is to explore how the west wall of the gym was built.\\nWaterman also reported that kindergarten screening was completed and 30 students would be attending the school this fall. She said, considering the size of the incoming class, it might even be possible they could be hiring for kindergarten and 1st grade in the near future.\\nBuehler Asphalt is expected to be out at the school soon to set a schedule to patch, seal, and stripe the parking lots, she said.\\nThe board also approved the contracts of 10 personnel primarily to manage school sports, renew contracts for 7 certified people, and renewed contracts for 7 non-certified employees.\\nThe board also approved:\\n• Allowing TriStar to purchase any item over $7,500 from the state capital budget/grant.\\n• The Auglaize County Health Department Nursing Services contract.\\n• Moving the May meeting to Monday, May 21, at 7 pm, since the regular meeting date was in conflict with the Memorial Day holiday.\\nBambauer http://www.sidneydailynews.com/wp-content/uploads/sites/47/2018/04/web1_Brittany-copy.jpg Bambauer Piatt http://www.sidneydailynews.com/wp-content/uploads/sites/47/2018/04/web1_coach-copy.jpg Piatt\\nBy Sandra Schwieterman For the Sidney Daily News\\nThe writer is a regular contributor to the Sidney Daily News.\\nThe writer is a regular contributor to the Sidney Daily News.'"
      ]
     },
     "execution_count": 26,
     "metadata": {},
     "output_type": "execute_result"
    }
   ],
   "source": [
    "random_article"
   ]
  },
  {
   "cell_type": "code",
   "execution_count": 27,
   "id": "098aa977-9fcf-4e21-83f6-771a49f43666",
   "metadata": {
    "scrolled": true,
    "tags": []
   },
   "outputs": [
    {
     "data": {
      "text/plain": [
       "'new knoxville   meeting monday night new knoxville board education approve hiring new varsity basketball coach congratulate student achieve art honor diplomamichael piatt new varsity basketball coach say look forward build team focus sport achievement recent position assistant varsity coach chaminade julienne dayton coach sidney lehman cavalier 2002 2007 lead team 185 record sectional championship 200607 seasonhigh school senior brittany bambauer give board presentation achieve art honor diploma jenny fledderjohann principal grade 4   12 say baumbauer achieve 35 grade point average act score 27 high baumbauer plan attend ohio university pursue music therapy bachelor degree say field experience music therapist brittany scherer convince want work rest life particularly find work hospice dementia program rewardingfledderjohann say andrea ott recognize franklin b walter recipient new knoxville april 4 ott turn recognize teacher jon stamman teacher influencesay time school history new knoxville high school band perform troy high school state contest april 27 art award go caitlin lammer recognize governor art addy farley take award wright state lake campus spring showcasebusiness superintendent k   3 principal kim waterman report propose gym expansion move forward say athletic director kay webb meet architect april 13 discuss option add goal explore west wall gym buildwaterman report kindergarten screening complete 30 student attend school fall say consider size incoming class possible hire kindergarten 1st grade near futurebuehler asphalt expect school soon set schedule patch seal stripe parking lot sayboard approve contract 10 personnel primarily manage school sport renew contract 7 certify people renew contract 7 noncertified employeeboard approve allow tristar purchase item 7500 state capital budgetgrant auglaize county health department nursing service contract move meet monday 21 7 pm regular meeting date conflict memorial day holidaybambauer httpwwwsidneydailynewscomwpcontentuploadssites47201804web1brittanycopyjpg bambauer piatt httpwwwsidneydailynewscomwpcontentuploadssites47201804web1coachcopyjpg piattsandra schwieterman sidney daily newswriter regular contributor sidney daily newswriter regular contributor sidney daily news'"
      ]
     },
     "execution_count": 27,
     "metadata": {},
     "output_type": "execute_result"
    }
   ],
   "source": [
    "normalize_doc(random_article)"
   ]
  },
  {
   "cell_type": "markdown",
   "id": "2634de7e-6cc4-422a-9160-4e64fa92e962",
   "metadata": {},
   "source": [
    "Since we have quite a few articles, this operation can take quite some time unless we do the cleaning process concurrently or in parallel. We will do this using the `ProcessPoolExecutor()` from the `concurrent.futures` module."
   ]
  },
  {
   "cell_type": "code",
   "execution_count": 28,
   "id": "bd26a0cf-3d8e-420e-a04f-b64876707011",
   "metadata": {},
   "outputs": [
    {
     "name": "stdout",
     "output_type": "stream",
     "text": [
      "CPU times: user 1.77 s, sys: 586 ms, total: 2.36 s\n",
      "Wall time: 38 s\n"
     ]
    }
   ],
   "source": [
    "%%time\n",
    "\n",
    "with ProcessPoolExecutor(max_workers=6) as e:\n",
    "    processed_articles = list(e.map(normalize_doc, articles))"
   ]
  },
  {
   "cell_type": "markdown",
   "id": "6974d2cb-f69e-4b01-a7c9-71c5ad898482",
   "metadata": {},
   "source": [
    "We will add the cleaned versions of the documents back into the dataframe and loop over these while taking the lenght (in characters terms) of each article."
   ]
  },
  {
   "cell_type": "code",
   "execution_count": 29,
   "id": "6e85f826-154a-41b6-b057-80e36bc5f612",
   "metadata": {},
   "outputs": [
    {
     "name": "stdout",
     "output_type": "stream",
     "text": [
      "CPU times: user 5.62 ms, sys: 0 ns, total: 5.62 ms\n",
      "Wall time: 5.12 ms\n"
     ]
    }
   ],
   "source": [
    "%%time\n",
    "\n",
    "df['clean_text'] = processed_articles\n",
    "df['len_clean_text'] = df['clean_text'].apply(len)\n",
    "df['len_dirty_text'] = df['text'].apply(len)"
   ]
  },
  {
   "cell_type": "markdown",
   "id": "108baa0e-2f7a-473e-b964-52c8937edbb2",
   "metadata": {},
   "source": [
    "Let's now save our cleaned dataset in case we need to restart our notebook and begin the analysis again. We will also release a bit of memory by getting rid of all the data and variables we have loaded up since the beginning of the notebook."
   ]
  },
  {
   "cell_type": "code",
   "execution_count": 30,
   "id": "c68eee0c-f521-4244-b42b-2968422ce56d",
   "metadata": {},
   "outputs": [
    {
     "data": {
      "text/html": [
       "<div>\n",
       "<style scoped>\n",
       "    .dataframe tbody tr th:only-of-type {\n",
       "        vertical-align: middle;\n",
       "    }\n",
       "\n",
       "    .dataframe tbody tr th {\n",
       "        vertical-align: top;\n",
       "    }\n",
       "\n",
       "    .dataframe thead th {\n",
       "        text-align: right;\n",
       "    }\n",
       "</style>\n",
       "<table border=\"1\" class=\"dataframe\">\n",
       "  <thead>\n",
       "    <tr style=\"text-align: right;\">\n",
       "      <th></th>\n",
       "      <th>title</th>\n",
       "      <th>text</th>\n",
       "      <th>date</th>\n",
       "      <th>description</th>\n",
       "      <th>clean_text</th>\n",
       "      <th>len_clean_text</th>\n",
       "      <th>len_dirty_text</th>\n",
       "    </tr>\n",
       "  </thead>\n",
       "  <tbody>\n",
       "    <tr>\n",
       "      <th>0</th>\n",
       "      <td>सड़क हादसे में दरोगा की मौत, कोहराम</td>\n",
       "      <td>Read the latest and breaking Hindi news on ama...</td>\n",
       "      <td>2018-02-04 00:00:00</td>\n",
       "      <td>0 भतीजे की पत्नी की तेरहवीं में शामिल होने गए ...</td>\n",
       "      <td>read late break hindi news amarujalacom live h...</td>\n",
       "      <td>195</td>\n",
       "      <td>296</td>\n",
       "    </tr>\n",
       "    <tr>\n",
       "      <th>1</th>\n",
       "      <td>A star-studded dinner in the WA Outback</td>\n",
       "      <td>The woman in the red sequined dress and matchi...</td>\n",
       "      <td>2018-05-31 06:42:00</td>\n",
       "      <td>The woman in the red sequined dress and matchi...</td>\n",
       "      <td>woman red sequined dress matching hat tell goo...</td>\n",
       "      <td>3244</td>\n",
       "      <td>5214</td>\n",
       "    </tr>\n",
       "  </tbody>\n",
       "</table>\n",
       "</div>"
      ],
      "text/plain": [
       "                                     title  \\\n",
       "0      सड़क हादसे में दरोगा की मौत, कोहराम   \n",
       "1  A star-studded dinner in the WA Outback   \n",
       "\n",
       "                                                text                 date  \\\n",
       "0  Read the latest and breaking Hindi news on ama...  2018-02-04 00:00:00   \n",
       "1  The woman in the red sequined dress and matchi...  2018-05-31 06:42:00   \n",
       "\n",
       "                                         description  \\\n",
       "0  0 भतीजे की पत्नी की तेरहवीं में शामिल होने गए ...   \n",
       "1  The woman in the red sequined dress and matchi...   \n",
       "\n",
       "                                          clean_text  len_clean_text  \\\n",
       "0  read late break hindi news amarujalacom live h...             195   \n",
       "1  woman red sequined dress matching hat tell goo...            3244   \n",
       "\n",
       "   len_dirty_text  \n",
       "0             296  \n",
       "1            5214  "
      ]
     },
     "execution_count": 30,
     "metadata": {},
     "output_type": "execute_result"
    }
   ],
   "source": [
    "df.head(2)"
   ]
  },
  {
   "cell_type": "code",
   "execution_count": 31,
   "id": "83b045ff-4298-46f6-a8d8-73a832c89d11",
   "metadata": {},
   "outputs": [
    {
     "name": "stdout",
     "output_type": "stream",
     "text": [
      "CPU times: user 51.9 ms, sys: 15.9 ms, total: 67.7 ms\n",
      "Wall time: 84.9 ms\n"
     ]
    }
   ],
   "source": [
    "%%time\n",
    "\n",
    "df[['title', 'date', 'clean_text', 'len_clean_text', \n",
    "    'len_dirty_text']].reset_index(drop=True).to_parquet('articles_clean.parquet', compression='snappy')"
   ]
  },
  {
   "cell_type": "code",
   "execution_count": 32,
   "id": "812d9ab5-0795-4012-b6fd-74cfa1b59f3c",
   "metadata": {},
   "outputs": [],
   "source": [
    "del dataset\n",
    "del df\n",
    "del articles\n",
    "del processed_articles"
   ]
  },
  {
   "cell_type": "code",
   "execution_count": 33,
   "id": "56f34ee9-d98c-4503-86e9-e2c2c04e07db",
   "metadata": {},
   "outputs": [],
   "source": [
    "df = pd.read_parquet('articles_clean.parquet').reset_index(drop=True)"
   ]
  },
  {
   "cell_type": "markdown",
   "id": "a625e86c-1171-47fa-8cdf-b3dd34095049",
   "metadata": {},
   "source": [
    "It wouldn't make any sense to feed to our algorithms articles with a tiny amount of characters, so let's examine the distribution of characters among both, the raw and the clean version of our articles."
   ]
  },
  {
   "cell_type": "code",
   "execution_count": 34,
   "id": "a5e490d0-d0e5-4c9f-9451-67468c0a41cb",
   "metadata": {},
   "outputs": [
    {
     "data": {
      "text/html": [
       "<div>\n",
       "<style scoped>\n",
       "    .dataframe tbody tr th:only-of-type {\n",
       "        vertical-align: middle;\n",
       "    }\n",
       "\n",
       "    .dataframe tbody tr th {\n",
       "        vertical-align: top;\n",
       "    }\n",
       "\n",
       "    .dataframe thead th {\n",
       "        text-align: right;\n",
       "    }\n",
       "</style>\n",
       "<table border=\"1\" class=\"dataframe\">\n",
       "  <thead>\n",
       "    <tr style=\"text-align: right;\">\n",
       "      <th></th>\n",
       "      <th>count</th>\n",
       "      <th>mean</th>\n",
       "      <th>std</th>\n",
       "      <th>min</th>\n",
       "      <th>25%</th>\n",
       "      <th>50%</th>\n",
       "      <th>75%</th>\n",
       "      <th>max</th>\n",
       "    </tr>\n",
       "  </thead>\n",
       "  <tbody>\n",
       "    <tr>\n",
       "      <th>len_clean_text</th>\n",
       "      <td>5000.0</td>\n",
       "      <td>1491.3632</td>\n",
       "      <td>1750.005216</td>\n",
       "      <td>23.0</td>\n",
       "      <td>472.00</td>\n",
       "      <td>1071.5</td>\n",
       "      <td>1929.0</td>\n",
       "      <td>30622.0</td>\n",
       "    </tr>\n",
       "    <tr>\n",
       "      <th>len_dirty_text</th>\n",
       "      <td>5000.0</td>\n",
       "      <td>2350.2048</td>\n",
       "      <td>2628.579089</td>\n",
       "      <td>68.0</td>\n",
       "      <td>711.75</td>\n",
       "      <td>1714.0</td>\n",
       "      <td>3091.0</td>\n",
       "      <td>41090.0</td>\n",
       "    </tr>\n",
       "  </tbody>\n",
       "</table>\n",
       "</div>"
      ],
      "text/plain": [
       "                 count       mean          std   min     25%     50%     75%  \\\n",
       "len_clean_text  5000.0  1491.3632  1750.005216  23.0  472.00  1071.5  1929.0   \n",
       "len_dirty_text  5000.0  2350.2048  2628.579089  68.0  711.75  1714.0  3091.0   \n",
       "\n",
       "                    max  \n",
       "len_clean_text  30622.0  \n",
       "len_dirty_text  41090.0  "
      ]
     },
     "execution_count": 34,
     "metadata": {},
     "output_type": "execute_result"
    }
   ],
   "source": [
    "df[['len_clean_text', 'len_dirty_text']].describe().T"
   ]
  },
  {
   "cell_type": "code",
   "execution_count": 35,
   "id": "75354bf1-c6a9-4626-b364-402f161f34d6",
   "metadata": {},
   "outputs": [
    {
     "data": {
      "text/plain": [
       "len_clean_text    5.710948\n",
       "len_dirty_text    4.706806\n",
       "dtype: float64"
      ]
     },
     "execution_count": 35,
     "metadata": {},
     "output_type": "execute_result"
    }
   ],
   "source": [
    "df[['len_clean_text', 'len_dirty_text']].skew()"
   ]
  },
  {
   "cell_type": "markdown",
   "id": "cecd0cfe-2be5-448c-b2e2-bc034fdd342c",
   "metadata": {},
   "source": [
    "![img](https://external-content.duckduckgo.com/iu/?u=https%3A%2F%2Fcdn.analyticsvidhya.com%2Fwp-content%2Fuploads%2F2020%2F06%2Fsk1.png&f=1&nofb=1)\n",
    "\n",
    "Now that we know we have a skewed distribution of characters, let's fix that by setting up a rule. We'll evaluate an article using the tweets' maximum character count of 280, at the time of writing, and filter out all articles with less than that. Let's check how many we have first."
   ]
  },
  {
   "cell_type": "code",
   "execution_count": 36,
   "id": "a57e6ec5-9192-49d3-bd6c-fdd6d49faf02",
   "metadata": {},
   "outputs": [
    {
     "data": {
      "text/plain": [
       "4255"
      ]
     },
     "execution_count": 36,
     "metadata": {},
     "output_type": "execute_result"
    }
   ],
   "source": [
    "greater_than_a_tweet = df['len_clean_text'] > 280\n",
    "greater_than_a_tweet.sum()"
   ]
  },
  {
   "cell_type": "code",
   "execution_count": 37,
   "id": "e99a1ee9-4730-49a2-bf84-abc09c288610",
   "metadata": {},
   "outputs": [],
   "source": [
    "df = df[greater_than_a_tweet].copy()"
   ]
  },
  {
   "cell_type": "code",
   "execution_count": 38,
   "id": "d7b42d68-cd04-4d68-875b-0892c174ba8d",
   "metadata": {},
   "outputs": [
    {
     "data": {
      "text/plain": [
       "(4255, 5)"
      ]
     },
     "execution_count": 38,
     "metadata": {},
     "output_type": "execute_result"
    }
   ],
   "source": [
    "df.shape"
   ]
  },
  {
   "cell_type": "markdown",
   "id": "fed032e1-7dd7-42f4-9bef-fedb108c6e4d",
   "metadata": {},
   "source": [
    "# 5. Recommendation System"
   ]
  },
  {
   "cell_type": "markdown",
   "id": "9066912f-0d5d-404f-a7f7-c2c71232eccc",
   "metadata": {},
   "source": [
    "Recommendation systems can come in many different forms and sizes. We can create a system that takes into account the behaviour of other users, or a system that only looks at similar articles or items to make a recommendation. Both are powerful systems and could cover an entire section of a book in their own right, which is why we will focus on the latter category, the one that makes recommendations based on similar articles.\n",
    "\n",
    "To create our recommendation system we first need to convert our articles into a numerical representation. We do this with a so-called bag of words (bow). BOWs are matrices with the documents in the rows, the terms contained in all documents along the columns. The frequency with which each term appears in each document along the values can be found in the doc-token combination. To create this kind of representation we can use `sklearn`'s `CountVectorizer` or `TfidfVectorizer` classes. The latter being the normalized version of the former, i.e. the frequency of a word divided by the amount of documents in which it appears.\n",
    "\n",
    "To use this classes we first instantiate them, fit the data to them so that they can learn the vocabulary of our corpus, and then we tranform the corpus into a sparse matrix. These sparse matrices hold the location of all non-zero values to make it easier to store the data and compute on it."
   ]
  },
  {
   "cell_type": "code",
   "execution_count": 39,
   "id": "e5d54ee6-fdcf-4969-b3e3-b3d0262d5202",
   "metadata": {},
   "outputs": [
    {
     "name": "stdout",
     "output_type": "stream",
     "text": [
      "CPU times: user 621 ms, sys: 13.4 ms, total: 634 ms\n",
      "Wall time: 661 ms\n"
     ]
    },
    {
     "data": {
      "text/plain": [
       "(4255, 789)"
      ]
     },
     "execution_count": 39,
     "metadata": {},
     "output_type": "execute_result"
    }
   ],
   "source": [
    "%%time\n",
    "\n",
    "# we first instantiate our class\n",
    "tf = TfidfVectorizer(min_df=0.035, max_df=0.80)\n",
    "\n",
    "# we can fit and transform the data in the same step\n",
    "tfidf_matrix = tf.fit_transform(df['clean_text'].values)\n",
    "\n",
    "# evaluate the shape of our matrix\n",
    "tfidf_matrix.shape"
   ]
  },
  {
   "cell_type": "markdown",
   "id": "aea31046-47df-4481-9d4d-1f56d3e0f0c6",
   "metadata": {},
   "source": [
    "We can access our vocabulary with `.get_feature_names()` method."
   ]
  },
  {
   "cell_type": "code",
   "execution_count": 40,
   "id": "885797ad-19c7-42dc-8b9f-9803734a048b",
   "metadata": {
    "scrolled": true,
    "tags": []
   },
   "outputs": [
    {
     "data": {
      "text/plain": [
       "['park',\n",
       " 'particularly',\n",
       " 'partner',\n",
       " 'party',\n",
       " 'pass',\n",
       " 'past',\n",
       " 'pay',\n",
       " 'people',\n",
       " 'percent',\n",
       " 'perform',\n",
       " 'performance',\n",
       " 'period',\n",
       " 'person',\n",
       " 'personal',\n",
       " 'phone',\n",
       " 'photo',\n",
       " 'pick',\n",
       " 'picture',\n",
       " 'piece',\n",
       " 'place',\n",
       " 'plan',\n",
       " 'play',\n",
       " 'player',\n",
       " 'pm',\n",
       " 'point',\n",
       " 'police',\n",
       " 'policy',\n",
       " 'political',\n",
       " 'popular',\n",
       " 'position',\n",
       " 'possible',\n",
       " 'post',\n",
       " 'potential',\n",
       " 'power',\n",
       " 'practice',\n",
       " 'prepare',\n",
       " 'present',\n",
       " 'president',\n",
       " 'press',\n",
       " 'pressure',\n",
       " 'pretty',\n",
       " 'previous',\n",
       " 'previously',\n",
       " 'price',\n",
       " 'prime',\n",
       " 'private',\n",
       " 'probably',\n",
       " 'problem',\n",
       " 'process',\n",
       " 'produce']"
      ]
     },
     "execution_count": 40,
     "metadata": {},
     "output_type": "execute_result"
    }
   ],
   "source": [
    "tf.get_feature_names()[500:550]"
   ]
  },
  {
   "cell_type": "markdown",
   "id": "38db5f6c-a285-4196-946d-4166a992935a",
   "metadata": {},
   "source": [
    "The next step is to get the distance between documents and words to see how close and how far, based on words only, are two documents from one another. The `cosine_similarity` function we imported earlier can do this for us, and afterwards, we can create a dataframe to evaluate our results.\n",
    "\n",
    "**Note:** this operation can take a few minutes if you are using the entire dataset. Make sure to grab some ☕️ 😎"
   ]
  },
  {
   "cell_type": "code",
   "execution_count": 41,
   "id": "efa290bd-9d45-4491-8966-20575d3757bc",
   "metadata": {},
   "outputs": [
    {
     "name": "stdout",
     "output_type": "stream",
     "text": [
      "CPU times: user 610 ms, sys: 54 ms, total: 664 ms\n",
      "Wall time: 664 ms\n"
     ]
    }
   ],
   "source": [
    "%%time\n",
    "\n",
    "doc_sim = cosine_similarity(tfidf_matrix)"
   ]
  },
  {
   "cell_type": "code",
   "execution_count": 42,
   "id": "0ea34bf7-6402-404d-ac73-c5a326729163",
   "metadata": {},
   "outputs": [
    {
     "data": {
      "text/html": [
       "<div>\n",
       "<style scoped>\n",
       "    .dataframe tbody tr th:only-of-type {\n",
       "        vertical-align: middle;\n",
       "    }\n",
       "\n",
       "    .dataframe tbody tr th {\n",
       "        vertical-align: top;\n",
       "    }\n",
       "\n",
       "    .dataframe thead th {\n",
       "        text-align: right;\n",
       "    }\n",
       "</style>\n",
       "<table border=\"1\" class=\"dataframe\">\n",
       "  <thead>\n",
       "    <tr style=\"text-align: right;\">\n",
       "      <th></th>\n",
       "      <th>0</th>\n",
       "      <th>1</th>\n",
       "      <th>2</th>\n",
       "      <th>3</th>\n",
       "      <th>4</th>\n",
       "      <th>5</th>\n",
       "      <th>6</th>\n",
       "      <th>7</th>\n",
       "      <th>8</th>\n",
       "      <th>9</th>\n",
       "      <th>...</th>\n",
       "      <th>4245</th>\n",
       "      <th>4246</th>\n",
       "      <th>4247</th>\n",
       "      <th>4248</th>\n",
       "      <th>4249</th>\n",
       "      <th>4250</th>\n",
       "      <th>4251</th>\n",
       "      <th>4252</th>\n",
       "      <th>4253</th>\n",
       "      <th>4254</th>\n",
       "    </tr>\n",
       "  </thead>\n",
       "  <tbody>\n",
       "    <tr>\n",
       "      <th>0</th>\n",
       "      <td>1.000000</td>\n",
       "      <td>0.071004</td>\n",
       "      <td>0.066551</td>\n",
       "      <td>0.119413</td>\n",
       "      <td>0.059563</td>\n",
       "      <td>0.118079</td>\n",
       "      <td>0.093205</td>\n",
       "      <td>0.074626</td>\n",
       "      <td>0.031717</td>\n",
       "      <td>0.144751</td>\n",
       "      <td>...</td>\n",
       "      <td>0.127054</td>\n",
       "      <td>0.029444</td>\n",
       "      <td>0.077700</td>\n",
       "      <td>0.061489</td>\n",
       "      <td>0.093591</td>\n",
       "      <td>0.051793</td>\n",
       "      <td>0.059525</td>\n",
       "      <td>0.154090</td>\n",
       "      <td>0.091389</td>\n",
       "      <td>0.091785</td>\n",
       "    </tr>\n",
       "    <tr>\n",
       "      <th>1</th>\n",
       "      <td>0.071004</td>\n",
       "      <td>1.000000</td>\n",
       "      <td>0.032688</td>\n",
       "      <td>0.112728</td>\n",
       "      <td>0.162470</td>\n",
       "      <td>0.169170</td>\n",
       "      <td>0.078317</td>\n",
       "      <td>0.210689</td>\n",
       "      <td>0.154278</td>\n",
       "      <td>0.092376</td>\n",
       "      <td>...</td>\n",
       "      <td>0.068239</td>\n",
       "      <td>0.095303</td>\n",
       "      <td>0.032358</td>\n",
       "      <td>0.095482</td>\n",
       "      <td>0.037728</td>\n",
       "      <td>0.055266</td>\n",
       "      <td>0.022597</td>\n",
       "      <td>0.188686</td>\n",
       "      <td>0.148438</td>\n",
       "      <td>0.129617</td>\n",
       "    </tr>\n",
       "    <tr>\n",
       "      <th>2</th>\n",
       "      <td>0.066551</td>\n",
       "      <td>0.032688</td>\n",
       "      <td>1.000000</td>\n",
       "      <td>0.137830</td>\n",
       "      <td>0.089412</td>\n",
       "      <td>0.102357</td>\n",
       "      <td>0.080342</td>\n",
       "      <td>0.051884</td>\n",
       "      <td>0.037688</td>\n",
       "      <td>0.079271</td>\n",
       "      <td>...</td>\n",
       "      <td>0.027563</td>\n",
       "      <td>0.019178</td>\n",
       "      <td>0.098917</td>\n",
       "      <td>0.022088</td>\n",
       "      <td>0.170996</td>\n",
       "      <td>0.011300</td>\n",
       "      <td>0.072202</td>\n",
       "      <td>0.017370</td>\n",
       "      <td>0.042323</td>\n",
       "      <td>0.073465</td>\n",
       "    </tr>\n",
       "    <tr>\n",
       "      <th>3</th>\n",
       "      <td>0.119413</td>\n",
       "      <td>0.112728</td>\n",
       "      <td>0.137830</td>\n",
       "      <td>1.000000</td>\n",
       "      <td>0.078428</td>\n",
       "      <td>0.189386</td>\n",
       "      <td>0.081748</td>\n",
       "      <td>0.197049</td>\n",
       "      <td>0.051337</td>\n",
       "      <td>0.270715</td>\n",
       "      <td>...</td>\n",
       "      <td>0.031584</td>\n",
       "      <td>0.079312</td>\n",
       "      <td>0.202865</td>\n",
       "      <td>0.033338</td>\n",
       "      <td>0.019398</td>\n",
       "      <td>0.127421</td>\n",
       "      <td>0.127168</td>\n",
       "      <td>0.090455</td>\n",
       "      <td>0.062770</td>\n",
       "      <td>0.042060</td>\n",
       "    </tr>\n",
       "    <tr>\n",
       "      <th>4</th>\n",
       "      <td>0.059563</td>\n",
       "      <td>0.162470</td>\n",
       "      <td>0.089412</td>\n",
       "      <td>0.078428</td>\n",
       "      <td>1.000000</td>\n",
       "      <td>0.053798</td>\n",
       "      <td>0.143617</td>\n",
       "      <td>0.065483</td>\n",
       "      <td>0.110210</td>\n",
       "      <td>0.095153</td>\n",
       "      <td>...</td>\n",
       "      <td>0.021248</td>\n",
       "      <td>0.085804</td>\n",
       "      <td>0.026069</td>\n",
       "      <td>0.039735</td>\n",
       "      <td>0.059024</td>\n",
       "      <td>0.023390</td>\n",
       "      <td>0.010570</td>\n",
       "      <td>0.089069</td>\n",
       "      <td>0.059263</td>\n",
       "      <td>0.140952</td>\n",
       "    </tr>\n",
       "  </tbody>\n",
       "</table>\n",
       "<p>5 rows × 4255 columns</p>\n",
       "</div>"
      ],
      "text/plain": [
       "       0         1         2         3         4         5         6     \\\n",
       "0  1.000000  0.071004  0.066551  0.119413  0.059563  0.118079  0.093205   \n",
       "1  0.071004  1.000000  0.032688  0.112728  0.162470  0.169170  0.078317   \n",
       "2  0.066551  0.032688  1.000000  0.137830  0.089412  0.102357  0.080342   \n",
       "3  0.119413  0.112728  0.137830  1.000000  0.078428  0.189386  0.081748   \n",
       "4  0.059563  0.162470  0.089412  0.078428  1.000000  0.053798  0.143617   \n",
       "\n",
       "       7         8         9     ...      4245      4246      4247      4248  \\\n",
       "0  0.074626  0.031717  0.144751  ...  0.127054  0.029444  0.077700  0.061489   \n",
       "1  0.210689  0.154278  0.092376  ...  0.068239  0.095303  0.032358  0.095482   \n",
       "2  0.051884  0.037688  0.079271  ...  0.027563  0.019178  0.098917  0.022088   \n",
       "3  0.197049  0.051337  0.270715  ...  0.031584  0.079312  0.202865  0.033338   \n",
       "4  0.065483  0.110210  0.095153  ...  0.021248  0.085804  0.026069  0.039735   \n",
       "\n",
       "       4249      4250      4251      4252      4253      4254  \n",
       "0  0.093591  0.051793  0.059525  0.154090  0.091389  0.091785  \n",
       "1  0.037728  0.055266  0.022597  0.188686  0.148438  0.129617  \n",
       "2  0.170996  0.011300  0.072202  0.017370  0.042323  0.073465  \n",
       "3  0.019398  0.127421  0.127168  0.090455  0.062770  0.042060  \n",
       "4  0.059024  0.023390  0.010570  0.089069  0.059263  0.140952  \n",
       "\n",
       "[5 rows x 4255 columns]"
      ]
     },
     "execution_count": 42,
     "metadata": {},
     "output_type": "execute_result"
    }
   ],
   "source": [
    "doc_sim_df = pd.DataFrame(doc_sim)\n",
    "doc_sim_df.head()"
   ]
  },
  {
   "cell_type": "code",
   "execution_count": 43,
   "id": "edd41dc0-553e-4f02-a146-483c60471987",
   "metadata": {},
   "outputs": [
    {
     "data": {
      "text/plain": [
       "(4255, 4255)"
      ]
     },
     "execution_count": 43,
     "metadata": {},
     "output_type": "execute_result"
    }
   ],
   "source": [
    "doc_sim.shape"
   ]
  },
  {
   "cell_type": "markdown",
   "id": "4462bf8f-4d1f-4439-abe8-abf27cce9889",
   "metadata": {},
   "source": [
    "The reason we see a X000xX000 matrix is because both halfs alonside the diagonal line are identical, hence, we have the similarity of all docs vs all docs."
   ]
  },
  {
   "cell_type": "code",
   "execution_count": 44,
   "id": "dbd49a4b-7638-4885-ae89-9169441323f5",
   "metadata": {
    "scrolled": true,
    "tags": []
   },
   "outputs": [
    {
     "data": {
      "text/plain": [
       "((4255,),\n",
       " array(['A star-studded dinner in the WA Outback',\n",
       "        'Solar eclipse scams to watch out for',\n",
       "        'Soccer-Lukaku strikes twice as United crush West Ham', ...,\n",
       "        'Tory Burch Wants You to Own Your Ambition',\n",
       "        'No free power to gaushalas in Punjab: Gau Sewa chief questions cow cess collection, writes to power utility',\n",
       "        'West Sussex woman jailed for threatening horses'], dtype=object))"
      ]
     },
     "execution_count": 44,
     "metadata": {},
     "output_type": "execute_result"
    }
   ],
   "source": [
    "articles_list = df['title'].values\n",
    "articles_list.shape, articles_list"
   ]
  },
  {
   "cell_type": "markdown",
   "id": "102dcad7-8320-4095-8d76-7ddbb41beca7",
   "metadata": {},
   "source": [
    "Let's now\n",
    "1. pick a title at random\n",
    "2. get the index of such title\n",
    "3. select the corresponding row for such title in our new document similarity dataframe\n",
    "4. sort the index of such values\n",
    "5. return the top 5 article titles"
   ]
  },
  {
   "cell_type": "code",
   "execution_count": 45,
   "id": "375fe8ff-f7a3-4338-9118-fc8ac82b6bc5",
   "metadata": {},
   "outputs": [],
   "source": [
    "from random import choice"
   ]
  },
  {
   "cell_type": "code",
   "execution_count": 46,
   "id": "e1299e35-d190-415c-946b-e0e1699e89a4",
   "metadata": {},
   "outputs": [
    {
     "data": {
      "text/plain": [
       "'Hackers release more HBO episode shows: report'"
      ]
     },
     "execution_count": 46,
     "metadata": {},
     "output_type": "execute_result"
    }
   ],
   "source": [
    "a_title = choice(articles_list)\n",
    "a_title"
   ]
  },
  {
   "cell_type": "code",
   "execution_count": 47,
   "id": "7afc7f39-1b6f-4b8d-8fc3-2734c0714c60",
   "metadata": {},
   "outputs": [
    {
     "data": {
      "text/plain": [
       "3208"
      ]
     },
     "execution_count": 47,
     "metadata": {},
     "output_type": "execute_result"
    }
   ],
   "source": [
    "article_idx = np.where(articles_list == a_title)[0][0]\n",
    "article_idx"
   ]
  },
  {
   "cell_type": "code",
   "execution_count": 48,
   "id": "2df90a3f-62e1-4010-accc-0e98852408a1",
   "metadata": {
    "tags": []
   },
   "outputs": [
    {
     "data": {
      "text/plain": [
       "array([0.0790154 , 0.13307936, 0.02699896, ..., 0.06602159, 0.0306015 ,\n",
       "       0.10460289])"
      ]
     },
     "execution_count": 48,
     "metadata": {},
     "output_type": "execute_result"
    }
   ],
   "source": [
    "article_similarities = doc_sim_df.iloc[article_idx].values\n",
    "article_similarities"
   ]
  },
  {
   "cell_type": "code",
   "execution_count": 49,
   "id": "c5e40706-7719-422d-97c0-4c0fc7dcdf28",
   "metadata": {},
   "outputs": [
    {
     "data": {
      "text/plain": [
       "array([ 898, 2488, 1730, 1948, 3595, 2758, 2575,  795, 1389])"
      ]
     },
     "execution_count": 49,
     "metadata": {},
     "output_type": "execute_result"
    }
   ],
   "source": [
    "# note that we don't select the first one as this should always be one\n",
    "similar_articles_idxs = np.argsort(-article_similarities)[1:10]\n",
    "similar_articles_idxs"
   ]
  },
  {
   "cell_type": "code",
   "execution_count": 52,
   "id": "a5ca2262-9b5e-41f3-9873-fcffdff1559d",
   "metadata": {},
   "outputs": [],
   "source": [
    "doc1 = nlp(df.loc[1, \"clean_text\"])\n",
    "doc2 = nlp(df.loc[2, \"clean_text\"])"
   ]
  },
  {
   "cell_type": "code",
   "execution_count": 53,
   "id": "e023f8a3-ecb6-4d8f-a7e9-66add8ce402b",
   "metadata": {},
   "outputs": [
    {
     "name": "stderr",
     "output_type": "stream",
     "text": [
      "/tmp/ipykernel_219682/2159000743.py:1: UserWarning: [W007] The model you're using has no word vectors loaded, so the result of the Doc.similarity method will be based on the tagger, parser and NER, which may not give useful similarity judgements. This may happen if you're using one of the small models, e.g. `en_core_web_sm`, which don't ship with word vectors and only use context-sensitive tensors. You can always add your own word vectors, or use one of the larger models instead if available.\n",
      "  doc1.similarity(doc2)\n"
     ]
    },
    {
     "data": {
      "text/plain": [
       "0.9809930330519058"
      ]
     },
     "execution_count": 53,
     "metadata": {},
     "output_type": "execute_result"
    }
   ],
   "source": [
    "doc1.similarity(doc2)"
   ]
  },
  {
   "cell_type": "code",
   "execution_count": 54,
   "id": "fa0e7406-376a-4f2d-9cab-8b05313a6856",
   "metadata": {},
   "outputs": [
    {
     "data": {
      "text/plain": [
       "'Hackers release more HBO episode shows: report'"
      ]
     },
     "execution_count": 54,
     "metadata": {},
     "output_type": "execute_result"
    }
   ],
   "source": [
    "a_title"
   ]
  },
  {
   "cell_type": "code",
   "execution_count": 55,
   "id": "053cbfc0-c339-4322-978b-735d57fee83e",
   "metadata": {},
   "outputs": [
    {
     "name": "stdout",
     "output_type": "stream",
     "text": [
      "['Hackers Leak More Unaired Episodes Of HBO Shows, Network Refuses To Comment',\n",
      " '‘Pokémon Go’ Reaches 800 Million Downloads',\n",
      " 'In the time it takes to tweet, Roseanne Barr loses her job, keeps tweeting',\n",
      " \"On the cards: Revenue surge for China's Tencent from popular fantasy game\",\n",
      " 'Cleveland rallies to stun Yankees, takes commanding 2-0 ALDS lead',\n",
      " 'HQ Trivia will give away its biggest cash prize ever -- depending on the NBA '\n",
      " 'Finals',\n",
      " 'Embrace The Night With This Batman Gift Guide',\n",
      " 'Rangers focusing on playing better in Game 4 vs. Canadiens',\n",
      " \"TV show Roseanne axed after star's racist tweet sparks outrage\"]\n"
     ]
    }
   ],
   "source": [
    "similar_articles = articles_list[similar_articles_idxs]\n",
    "pprint(similar_articles.tolist())"
   ]
  },
  {
   "cell_type": "markdown",
   "id": "bab9dcd6-95af-4051-9db8-4a79f26aaa5c",
   "metadata": {},
   "source": [
    "Lastly, we will create create a mini-dashboard containing,\n",
    "1. a widget with all of our titles,\n",
    "2. a function with the steps we followed above,\n",
    "3. a panel object to store a title, the widget, and the function."
   ]
  },
  {
   "cell_type": "code",
   "execution_count": 56,
   "id": "49e47397-6216-4af5-99a0-fb0b443316d7",
   "metadata": {},
   "outputs": [
    {
     "data": {},
     "metadata": {},
     "output_type": "display_data"
    },
    {
     "data": {
      "application/vnd.holoviews_exec.v0+json": "",
      "text/html": [
       "<div id='1002'>\n",
       "\n",
       "\n",
       "\n",
       "\n",
       "\n",
       "  <div class=\"bk-root\" id=\"29771558-4f51-4f79-b3e7-923efb0df396\" data-root-id=\"1002\"></div>\n",
       "</div>\n",
       "<script type=\"application/javascript\">(function(root) {\n",
       "  function embed_document(root) {\n",
       "    var docs_json = {\"bc8132a7-ec20-4f82-ae18-936f7c00db23\":{\"defs\":[],\"roots\":{\"references\":[{\"attributes\":{\"margin\":[5,10,5,10],\"options\":[\"A star-studded dinner in the WA Outback\",\"Solar eclipse scams to watch out for\",\"Soccer-Lukaku strikes twice as United crush West Ham\",\"Mitch's Sports Report: Montreal Cans Coach With Team In First Place, Hires Ex-Bruin Coach Julien\",\"WhatsApp will require users in Europe to be at least 16 years old\",\"Grenfell Tower bosses could face manslaughter charges\",\"\\u2018My heart welled\\u2019: Woman shares man\\u2019s good deed for veteran at Iowa Walmart\",\"Gambling: Online Casino\",\"B.C. Liberal leadership race expected to see another addition, Tuesday\",\"New Knoxville hires basketball coach\",\"SEPA CEO Julia Hamm: PREPA Vision for Future sets pace for utility transformation\",\"Iraq's Sadr Militia Agrees to Disband, Surrender Weapons to Baghdad\",\"Bob Grotz: More gritty than pretty, Nick Foles and the Eagles get it done against Rams\",\"Dangerous winds persist as wildfires roar in California\",\"Sex Talk Realness: What It's Like to Be Intersex\",\"Fire at Manila hotel-casino put out; death toll raised to 5\",\"Woman 'intentionally' drove car into traffic, charged with murder\",\"BRIEF-Yamana Gold reports qtrly net loss $0.01/shr from continuing operations\",\"Kevin De Bruyne: Man City must 'enjoy' derby day win\",\"Road trip in picturesque Korea\",\"Burlington School Board wades into health benefits debate\",\"At least five killed in Pakistan suicide attack\",\"BYU volleyball: No. 3 BYU travels to Long Beach for MPSF Semifinals\",\"Stream Bernice Puff\",\"Rory McIlroy not losing sleep over his major championship drought\",\"Australia scraps visa for skilled foreign workers\",\"Righty Kendall Graveman goes on DL with strained shoulder\",\"Lebanon may be heading towards a new \\u201c7th May,\\u201d due to the Arab-Israeli reconciliation and the partition of the Middle East\",\"MSAD 58 voters approve $9.39 million budget at meeting\",\"Sunderland's Jermain Defoe, his mother and Harry Redknapp - how a transfer shouldn't work\",\"Kucherov scores 2 to lift Lightning to 3-1 win over Oilers\",\"Kids Issue 2018: Create compost at school\",\"3 more England cricketers punished for misbehaviour\",\"Jefferson County teacher arrested, accused of sex with student\",\"Stock indexes start week on a positive note, loonie down\",\"Goldman Sachs CEO quotes Lincoln in response to Charlottesville\",\"Taxi driver and passengers injured in hit and run\",\"'You mess with our pints, we mess with your pizza': Perth beer war escalates\",\"SHELTER TO OPEN FOR DISPLACED SOUTH SIOUX RESIDENTS NEAR GRAIN ELEVATOR BLAST\",\"New Stable Operations TRACC holds potential to unlock 15 to 20 percent additional plant capacity\",\"Texan serving 10 years in fake officer case gets more prison\",\"Hundreds turn out for Festive Forest Challenge\",\"Michelin Announces Bay Area 2018 Bib Gourmand Winners\",\"Baby Jet Promotions Grateful\",\"Oracle -2.6% on Q3 in-line revenue, 32% cloud revenue growth\",\"13 US cities everyone agrees are the best places to live\",\"Wildwood Police Release Body Cam Video Of Controversial Arrest On Beach\",\"Blind paedophile jailed after saying \\\"nude children\\\" to voice-activated internet device in middle of Carphone Warehouse shop\",\"Lungu honuors KK\",\"Jobs increase by 4.4%\",\"Parents: Get kids outside to improve their eye health - Cleveland 19 News Cleveland, OH\",\"Lithuania and Romania allowed US torture\",\"University of Evansville Announces Institute for Public Health\",\"Hugh Fearnley Whittingstall weight loss: He lost half STONE in a week\",\"Nagaland Assembly Elections: BJP releases list of 20 candidates\",\"Community Meetings to take place as scheduled Mon., Feb. 13\",\"Pharmacogenomics Market to Witness a Pronounce Growth During 2025\",\"METALS-Copper eyes second quarterly gain as supplies dwindle\",\"Iran\\u2019s Rouhani in Vienna to shore up nuclear deal, dogged by diplomat\\u2019s arrest\",\"Daily Deal: Six Sigma Green & Black Belt Certification Training\",\"Sivarulrasa Gallery launches Culture 22.\",\"Zendaya Makes the Case for Red-Carpet Pajamas\\u2014Again\",\"Two weeks of talent time gets off to a great start\",\"NBC's \\\"Let's Go Crazy\\\" Super Bowl Commercial Unites All Your Favorite TV Show Casts\",\"This mum gave every duckling in her local park hilarious personalised names\",\"The Minnesota kids at the National Spelling Bee, and the words that took them down\",\"iPhone X in Blush Gold, LG G7 special LCD & more\",\"What Is Lip Powder, And How Do You Use It?\",\"Prothena: What Now?\",\"Democratic leaders tell Trump not to use memo to fire Rosenstein, Mueller\",\"From remote Laos to haute couture: A journey of indigo dye\",\"Rights Groups: Israeli Army in Gaza Violates International and Israeli Law (VIDEO)\",\"Micosoft\\u2019s AI earns perfect Ms Pac-Man score\",\"Massachusetts to sue Trump over contraception rules rollback - Western Mass News - WGGB/WSHM\",\"Brad Tavares Addresses Confusion Over Rumored TUF 27 Finale Fight Exit\",\"The Latest: Officials: Dam water level continues to drop\",\"Much more than Demons at the New York Auto Show\",\"Elephant bullhooks now banned in Rhode Island\",\"Airbrush makeup: Up the hot quotient this Valentine's Day\",\"It's Confirmed! This Khan Will Co-host IIFA 2017 With Karan Johar!\",\"Some SRHS patients still frustrated by firing of long-time neuro - WLOX.com - The News for South Mississippi\",\"Wisconsin Mother Faces Life in Prison after 4-Year-Old with Autism Bound with 7 Belts, Set on Fire in Bathtub\",\"Donald Trump condemned over response to white supremacist violence\",\"Student passion takes center stage at State of Education speech\",\"Museum of Anthropology exhibit celebrates Day of the Dead\",\"BRIEF-Ventas Inc says units entered into a second amended and restated credit and guaranty agreement - sec filing\",\"The security clearance of White House senior adviser and presidential son-in-law Jared Kushner has been downgraded, significantly reducing his access to classified information, according to two people\",\"Ariana Grande sobbed through songwriting sessions for new album\",\"Margot Robbie tells of how she and Cara Delevingne once prank-dialed Prince Harry!\",\"Road course at Charlotte will be 'wacky, neat'\",\"'Attack on Titan' Season 2 News, Update: 'Southwestward' Drops Major Reveal About Beast Titan\",\"Police looking for car that tried to lure 11-year-old Midlands g - wistv.com - Columbia, South Carolina\",\"Report: New System for More Accurate Cancer Staging to Aid Precision Medicine\",\"The US far-right is a fan of - Syria's Assad?\",\"Chris Pratt Steps Out Without Wedding Ring After Splitting From Wife Anna Faris\",\"IN PICTURES: Top Hat\",\"Jumaat-ul-Ahrar orchestrates terror attacks from Afghanistan: FO\",\"Nonprofit Working To Block Drug Imports Has Ties To Pharma Lobby\",\"Hunter, Guy lead No. 2 Virginia over Syracuse, 59-44\",\"Day of rest: Cleveland Indians, Chicago White Sox lineups for Wednesday, Game No. 54\",\"Airbnb ends payment system in France suspected of facilitating tax evasion\",\"Leicester don't know when they will see Riyad Mahrez again following their refusal to OK Manchester City move\",\"Lincoln City 2 Swindon Town 2: Imps strike late to salvage a point against ten men\",\"Pickett Impresses as First Winner for Goldencents\",\"America can't spell: Melania Trump, others use #IndependanceDay - not Independence Day\",\"Highwoods Properties: 1Q Earnings Snapshot\",\"Volunteers Needed for California Lemon Festival in Goleta\",\"Texas Tech University :: TechAnnounce\",\"Oil from seals used to treat diabetes symptoms in groundbreaking study\",\"Apple sparks row with pledge to drop Imagination Tech graphics\",\"Robbers who tied up worker in horrifying Hampshire raid are jailed\",\"Wizard World Comic-Con in St. Louis this weekend\",\"CSUMB student gets grant to help immigrant communities\",\"Southern-fried comedy being cooked up by Stage Right in O'Hara\",\"Villagers score shock homes win as second inquiry battle looms\",\"5 reasons to buy the Vernee Active instead of the Samsung Galaxy S8 Active\",\"Clitheroe rape allegation update\",\"How to master black and white photography\",\"Reporters confront Trump press secretary about harassment allegations\",\"Lafayette School System to hold \\u201cjean day\\u201d fundraiser in honor Cpl. Middlebrook\",\"Verne Troyer heavily intoxicated, suicidal at time of death\",\"The Americans Series Finale Review\",\"Boeing to Lay Off Hundreds More Engineers: Source\",\"Sanders 'sickened,' shooter possibly linked to '16 campaign\",\"BRIEF-Xinjiang Tianshan Animal Husbandry Bio-engineering sees FY 2017 Q1 net loss to narrow\",\"\\u2018Psych: The Movie\\u2019: Zachary Levi Joins Cast Of USA Network Holiday Pic\",\"New Zika cluster at Serangoon North Ave 1, Serangoon Ville\",\"UN experts: North Korea scoffs at sanctions while earning millions\",\"Your Weekend: May 31-June 3\",\"Banned Australia cricketer David Warner handed Winnipeg Hawks\\u2019 captaincy\",\"Black female leaders criticize Pelosi, Schumer for 'failure to protect' Waters\",\"Editorial Exchange: Almost time to break election promises\",\"PS4 News: Sony confirm Paris Games Week - Will SURPRISE exclusives derail Xbox One X?\",\"Syrian rebels say downed Russian jet, captured pilot: sources\",\"Chinese Brand Haier Secures Extraordinary Customer Loyalty in France: Three Generations of a Family in Saint-Cyr, Paris Use Haier Refrigerators\",\"news.com.au - Australia\\u2019s #1 news site\",\"At 36, Roethlisberger Leaning On Trainer's Advice To Manage Offseason Workouts\",\"identitarians Charlottesville opinion\",\"Cheese Snacks Market Poised to Expand at a Robust Pace of 5.2% CAGR Over 2025\",\"Sizzla concert at Mateel canceled after outcry\",\"He dresses up as Darth Vader to visit sick kids. But someone stole his custom costume.\",\"Aqueduct Hosts $250,000 G3 Withers Stakes\",\"Sessions Says \\u2018Evil Attack\\u2019 in Virginia Is Domestic Terrorism\",\"All of Us: An Opportunity for Our Future Health Care\",\"Trump wades into \\u2018Roseanne\\u2019 debacle in swipe at Bob Iger\",\"Thomas Rhett to Duet with Selena Gomez on New Album\",\"Top North Korean official heads to U.S. for pre-summit talks\",\"Crews Repair 16-Inch Water Main In Hoboken\",\"Elon Musk Nearly Ready to Ship Cool New Forest Fire Starter\",\"Phones, Guns, Sodas: What New Laws Are Now in Effect\",\"With students disciplined, Glendale player moves on from racist taunts at basketball game in Mesa\",\"Sociedad says no Real Madrid offer for Odriozola\",\"How to avoid paying Apple for extra iCloud storage\",\"Experience Serengeti\\u2019s driving heritage\",\"Toronto Raptors get \\u2018boost\\u2019 acquiring Serge Ibaka in deal with Orlando Magic\",\"Dead horses found at landfill \\u2018shocks\\u2019 Calgary woman\",\"Sweet 16 FREE Trial PROMO: 16 weeks FREE!\",\"There\\u2019s a reason why obese people can\\u2019t stick to gym routines. It\\u2019s not laziness\",\"Syrian President Assad visits troops on Ghouta's front line\",\"Asian Boys' U-18 Volleyball Championship 2018, Quarterfinal: India vs Iran - Telecast, Date, Start Time and Where to Watch Online\",\"These are the favourites to replace Gianfranco Zola as Birmingham City manager\",\"Pakistan Army chief Qamar Javed Bajwa meets Russian commander; duo discuss desire to expand bilateral military engagement\",\"Revealed: New plans to revive Ayr's Kyle Centre cinema dream are unveiled\",\"Medico, 3 friends die in highway car crash\",\"Casino Battle Continues at State Capitol\",\"Stevie Nicks - \\u201cYour Hand I Will Never Let It Go\\u201d\",\"May's China visit a dose of golden sunshine through protectionist haze\",\"N17.5bn Bad Loans: FG To Shut Down NERFUND\",\"Chinese media: Trump's trade probe will 'poison' relations\",\"Svalbard records temperature 7.4 degrees above normal for December\",\"Bittersweet Queensland Origin debut for Titans star Jai Arrow\",\"Man countersues Trump, says he urged Ky. protesters' removal\",\"Interface introduces vinyl flooring. What would Ray say?\",\"'I Like This Idea'\",\"Odiase scores 19, UIC beats Oakland for fifth win in a row\",\"Flag stolen in Johnson City: Police want help\",\"Lewis, Urlacher, Moss, Owens headed to Canton\",\"Playing Baseball and Making an Impact Where It Matters - Nicaragua\",\"Netflix is testing a high-end Ultra service package\",\"Kevin Hart and Ex-Wife Throw Daughter 'Black Panther'-Themed Birthday Party\",\"President Obama confirms farewell address in Chicago\",\"Get Empowering and Innovative Project Management Cloud Solutions with LoadSpring\",\"A Teacher\\u2019s Balancing Act Between Literacy and Technology\",\"Florida Association of Broadcasters\",\"4/18: MetroIntelligence Economic Update by P. Duffy\",\"A pleading letter to the Derwent Valley Council\",\"Actress Uma Thurman levels accusations against Harvey Weinstein\",\"Avant-garde! Vicky Kaushal\\u2019s style is all about substance, just like him\",\"As storms pummel the Southeast, New England braces for another nor'easter\",\"Full Scouting Report: Saints 30 visitor, LB Leighton Vander Esch\",\"South Africa: Minister Nomvula Mokonyane On War On Leaks Programme\",\"Landfill death due to asphyxiation\",\"Pensioner's \\u00a3100 car park fine despite paying CORRECT fee\",\"Iran in talks to buy 48 Airbus helicopters - report\",\"Why the Giants are preparing for a flurry of roster moves\",\"Somewhat Favorable Press Coverage Somewhat Unlikely to Impact Costamare (CMRE) Share Price\",\"Build Your Ultimate Martech Stack\",\"Construction begins on Daimler Drive in West Kelowna\",\"Photo Coverage: Marquee Makeover- Broadway Theatres Get Tony-Winning Updates!\",\"'Schoolhouse Rock!' musician Bob Dorough dies at 94\",\"Arsenal news: Olivier Giroud's goal does not make the top 20 PL strikes, says Redknapp\",\"BRIEF-National Bank of Kenya reports FY group profit before tax and exceptional items of 182.7 mln shillings\",\"Pamela Sue Hamre\",\"China's ZTE says it's seeking a solution to US tech ban\",\"Coventry City boss Russell Slade targets another ex-Leyton Orient player\",\"India, China should avoid disputes, says Sitharaman as Sushma flags \\u2018connectivity projects\\u2019\",\"Ozploitation massacres the USA!\",\"Deadline week crunch for health law sign-ups under Trump\",\"Odisha: Hospital denies ambulance, father carries minor's body on stretcher\",\"Fisher's daughter Lourd breaks silence\",\"Unsealed documents: Kobach wanted Trump to change federal voting law\",\"Jets' Steve Mason: Working out on ice\",\"First woman to officially run Boston Marathon does it again, 50 years later\",\"Congress should prove legislative strength if they want power: Goa BJP\",\"Liam Gallagher: The Late Late Show will be 'awkward' after slating James Corden\",\"What happened to the cast of 1975's Picnic At Hanging Rock\",\"LOOK: Relive Mansfield Town\\u2019s amazing 4-4 draw with Accrington Stanley\",\"This Allpowers solar phone charger is ready for emergencies and now only $17\",\"Taking a Hike: Spring in the Gunks - in January!\",\"County championship: Batting collapse costs Sussex dear as Kent romp to win\",\"Tough assignment\",\"Jamie Oliver confirms he's done making babies\",\"FBL: Albuquerque man is accused of robbing 2 credit unions\",\"\\u2018They\\u2019re a team\\u2019: Why family means everything to top NHL draft prospect Cody Glass\",\"In Times Square, 2017 arrives with ball drop, goofy hats, tight security\",\"The Tragic, Real-Life Epilogue to Netflix\\u2019s \\u201cMaking a Murderer\\u201d\",\"Weinstein Co. files for bankruptcy protection | The Sacramento Bee\",\"Resonatey is for sale on BrandBucket\",\"Guide to Ferndale Pride 2018\",\"Family fears racial targeting after flyers pop up in OH neighborhood\",\"'Best Thing Turkey Can Do Now is Talk to Assad and Withdraw Forces' From Syria\",\"Bhopal: NET to be held annually; consternation among teaching, PhD aspirants\",\"Circus Vargas\\u2019 \\u2018Big Top\\u2019 rising for Inland Empire shows\",\"Hawaii man says he's devastated about sending missile alert,...\",\"Catch Abhilash Baranwal (AIR 44, CSE 2017) live on July 7th, 2018 on Chanakya IAS Academy\\u2019s Official Website, Facebook Page, and YouTube Channel\",\"Woman killed in Orange Mound drive-by shooting ID'd by police\",\"California wildfire grows, but so does control over flames\",\"Kuwait replaces oil and finance ministers in cabinet reshuffle\",\"UPDATE 1-EBRD approves 500 mln euro TAP loan in boost for developers\",\"Samsung to Make Public the Results of Galaxy Note 7 Investigation\",\"Fidel Castro's Eldest Son Commits Suicide\",\"Call for improvements after man dies at accident blackspot\",\"Irrfan Khan Shares His State Of Mind, Says Just Keep Going As Nothing Is Final In Life\",\"When is Christmas Jumper Day 2017? What is the meaning behind it and why you should wear a festive-themed top\",\"LIRR to replace Post Avenue Bridge\",\"Stocks fall, dollar pares losses after Fed decision\",\"Capacity Market Auction: 'Bizarre' Government policies blocking renewables funding\",\"LeBron to miss 2nd exhibition game with sprained ankle\",\"Saturday\\u2019s local football round-up\",\"NSBA World Kicks Off In Tulsa, Oklahoma\",\"Super passes 90% threshold, to stop trading at close of buyout offer on April 25\",\"Keeping on talking\",\"SHOWCASE-Soccer-Arsenal held 2-2 by Man City as Wenger's troubles persist\",\"Babyboomers cut out of wills as wealth goes straight to grandchildren\",\"Woman threatened at knifepoint outside Wellingborough store\",\"Patriots Vs. Dolphins Live Stream: Watch \\u2018Monday Night Football\\u2019 Online\",\"Federal court blocks LAPD's gang injunctions\",\"Newton Emerson: Nationalists perform sharp U-turn on abortion\",\"UPDATE: Two drivers, two horses killed after Highway 3 crash near Yahk\",\"Man Utd sign \\u00a331m Lindelof from Benfica\",\"Girls insist they are twins despite color of their skin\",\"NBA Finals 2018: 'NBA 2K18' predicts Warriors-Cavs series\",\"U.S. insurers sense opportunity in unwanted pension plans\",\"Scotland Crowned Baseball Champions\",\"BC Election 2017: Main parties campaign on health care, jobs in B.C.\",\"Van Gogh 'Sunflowers' reunited online\",\"Hudson band holding on to hometown roots\",\"Tribes Get Say in Land Management but Worry About Trump\",\"Eric Hosmer delivers in the clutch, Royals beat Orioles 3-2\",\"Microsoft Surface Book 2 review: a powerful yet pricey laptop-tablet combo\",\"\\u2018Obama & other Muslims not welcome here\\u2019: Convenience store\\u2019s signs spark outrage\",\"Cold Case Victim Laid to Rest\",\"Ciera Richter Reportedly Held Down 2-Year-Old Girl As Her Cousin, Jason Fletcher, Allegedly Abused Child\",\"Microsoft Azure launches two new regions in Australia\",\"Lionel Road groundbreaking symbolises a new dawn for upwardly mobile Brentford\",\"Marines, sailors volunteer at soup kitchen in Italy [Image 7 of 12]\",\"Community holds candlelight vigil for Mariah Woods - WECT TV6-WECT.com:News, weather & sports Wilmington, NC\",\"Harlequins\\u2019 Chris Robshaw to have more tests on injured shoulder\",\"Sullivan Holds Video Session Following Blowout Loss In Chicago\",\"Hamilton dominates qualifying for the Australian Grand Prix\",\"ZTE warns of impact of U.S. sanction settlement penalties\",\"24,000 Email Bomb Threats Sent To 400 Schools By Angry \\u2018Minecraft\\u2019 Player\",\"BRIEF-BF Holding offers second consideration option for shares tendered in takeover bid on Bonifiche Ferraresi\",\"Tennessee annual crime report released showing increase\",\"Phillies' Carlos Santana: Remains very unlucky\",\"Appeal to trace sisters missing from Alyth\",\"Gunn to helm 'Guardians of the Galaxy Vol. 3\\u2019\",\"Reports: U.S. Intercepted Calls Between Trump Campaign Staff And Russian Intelligence\",\"Onetime Grauman\\u2019s usherette shines light on 1940s\",\"Aichi's mobile supermarkets keeps seniors stocked with groceries, checks in on aging customers\",\"Those who voted Buhari should seek forgiveness - FAYOSE\",\"St. Cloud Man Faces Sex Trafficking Charges While In Jail\",\"Court documents identify 13 injured in deadly van attack\",\"Richard Spencer Dismisses Trump\\u2019s Statement As \\u2018More Kumbaya Nonsense\\u2019\",\"Annual Christmas Toy Giveaway to be held Dec. 23\",\"Thousands join renewed protests in Belgrade\",\"Rising political star Ocasio-Cortez defends Bronx roots\",\"What war threat? Our ag trade options flourish in Korea\",\"Car plunges into Coast canal\",\"High Barrier Packaging Films for Pharmaceuticals Market will Register a CAGR of 6.2% through 2027\",\"Police send warning after man buys $2,000 worth of gift cards in - KAIT Jonesboro, AR - Region 8 News, weather, sports\",\"Web Development Company In Houston, TX\",\"India this week\",\"Zajac has 2 goals and assist as Devils beat Penguins 3-1\",\"Versatile Daly savours \\u2018iconic\\u2019 Lions moment\",\"NY Binghamton NY Zone Forecast\",\"Who is in Celebrity MasterChef 2017? Meet the new contestants including Vic Reeves, Henri Leconte and Rachel Stevens\",\"Lawyer for slain Ohio pastor\\u2019s brother says shooting self-defense\",\"Book reviews: Strange creatures, thrilling fantasy and outdoor fun\",\"4 injured in NYC pipe bomb explosion\",\"Spring Fire explodes past 84,000 acres, nearly 1,000 firefighters on scene\",\"Inmate Unresponsive in Cell at TSCI\",\"U.S. Veteran Receives First Penis-and-Scrotum Transplant\",\"McGinn: 'I think I can do a better job than Ed'\",\"Maturing Maple Leafs rise to occasion at Centennial Classic\",\"Karolina Pliskova ends Victoria Azarenka hopes in...\",\"Cricket: Tom Bruce ready to have a blast with Black Caps\",\"Figue Resort 2018\",\"'I didn't want to miss this one': Ex-Stars James Neal, Cody Eakin deliver vs. Dallas in first-ever Knights win\",\"Indian-American CEO of IT company pleads guilty to bribery\",\"The Latest: Berdych loses to Chardy at French Open\",\"Kenilworth cyclist raises thousands for Myton Hospice in mother\\u2019s memory\",\"Opera Orlando closes out its season by mashing up Mozart and Starfleet in 'Star Trek: Abduction' at the Plaza Live\",\"Netanyahu could be questioned this week over criminal accusations, Israeli media reports\",\"Councillor urges fellow councillors not to get 'distracted'\",\"Helicopter crashes on Maryland course, killing one, injuring others\",\"New York Post\",\"Wolves take over Wolverhampton for local charities\",\"Kim Beazley lashes WA Liberals, says One Nation is a threat to national security\",\"45 Dera Sacha Sauda members summoned over Panchkula violence in August\",\"Crews battling wildfire near Patagonia - Tucson News Now\",\"Switch shares rocket 44% on their first day of trade\",\"The sports wrap: Anurag Thakur, Ajay Shirke booted out of BCCI by SC, and other top stories\",\"Eat Drink & Be Busy\",\"Techno File: Rare Earths at Cone 6\",\"Police in Wisconsin looking for man who killed three at race track\",\"Quicken Loans to sponsor new PGA Tour event in Detroit\",\"Moscow\\u2019s efforts to maintain balance of power in Karabakh conflict are ineffective\",\"Deadly Suicide Blast Hits Pakistan Army Unit; 11 Dead\",\"Homeless, but not voiceless, at Carnegie Hall\",\"National Basketball Association\",\"Chorale hosts evening of romantic music\",\"Burke Rehabilitation Hospital Officially Opens New Marsal Caregiver Center\",\"Cape Breton man dies after vehicle leaves highway, strikes telephone pole\",\"Kelowna boy donates hair to charity\",\"Household Sewing Machines Market 2013 World Analysis and Forecast to 2023\",\"Official: Device explodes on NYC subway platform\",\"Woman climbs base of Statue of Liberty, forcing evacuation\",\"Saltdean lido: Fundraising hope for more restoration\",\"Philly tech angel DreamIt expands to Florida\",\"TX San Angelo TX Zone Forecast\",\"Latest pictures! Nick Jonas and Priyanka Chopra\\u2019s night out in New York\",\"7 things that happened the year John Terry made his first-team Chelsea debut\",\"Jenison looks to continue improvement in 2017\",\"13-year-old boy kills grandmother in Italy\",\"Leaders of Greece, Bulgaria, Romania, Serbia meeting in Thessaloniki\",\"Position-by-position matchups for the NBA Finals.\",\"ICBC Leasing Signs Framework Purchase Agreement of 55 C919 Aircraft with COMAC\",\"You Know You\\u2019re From Fort Worth When\\u2026\",\"Australia eye Pakistan sweep, not India preparation in Sydney Test\",\"Fiji Times Online\",\"Shrewsbury Town 0 Fleetwood 1 - Report and pictures\",\"SURRY COUNTY SHERIFF REPORTS\",\"Tampa Bay homes values soared in 2016 but so did rents\",\"Uber in U.S. court reckoning on possible shutdown of self-driving program\",\"Why experts don't believe this a rare first map of America\",\"\\\"True Identity\\\"\",\"Canadian small business lending dips in Feb -PayNet\",\"WV Weekly Fuel update and outlook\",\"Roseanne Barr \\u2018examining options\\u2019 as she weighs up fightback\",\"Pedro Agramunt resigns as PACE president\",\"Man wanted for domestic violence, false imprisonment arrested in San Luis Obi...\",\"Missouri's Jontay Porter to return for sophomore season\",\"Wigan Athletic manager Paul Cook talks Darrell Clarke, Bristol Rovers and team news\",\"AI can now reconstruct your ex\\u2019s scratched-out face in photos\",\"ETF Watchlist: Week Of April 17, 2017\",\"Want to avoid the flu while flying? Try a window seat - KTIV News 4 Sioux City IA: News, Weather and Sports\",\"Documentary now streaming on Netflix features teen Pomona gang member sentenced to 162 years\",\"Burger-Flipping Robot Is Back And Now \\u2018Moves Like A Ninja\\u2019\",\"Apology over Indian blood donation 'embarrassment'\",\"California Drivers Are Most Aggressive in US\",\"John Arne Riise on which one of his former teams has the edge ahead of Liverpool's tie with Roma\",\"Gov. Wolf looking to make high-speed internet available to every Pennsylvanian\",\"CT gas prices remain flat; national prices on the rise\",\"Police raid Yediot Ahronot publishing house\",\"Manchester United's Ashley Young unsure what future holds\",\"Local Restaurants & Law Enforcement Gear Up For Super Bowl Sunday\",\"BRIEF-Argenx Reports Positive Topline Results From Phase 2 Trial Of ARGX-113\",\"Murder arrest after man found in Grays road dies\",\"Who is Sandi Bogle? Everything you need to know about the Googlebox star and Celebrity Big Brother 2017 housemate\",\"Check Channa Song Teaser From The Black Prince\",\"Printing business expands offering\",\"Sports Apparel Market to Reckon increasing valuation by the end of year 2023\",\"Police question Israeli PM Benjamin Netanyahu in corruption probe\",\"High Rollers to hold outdoor concert July 7 in Town Park\",\"NBA Finals history: Cavs, Warriors rivalry in elite company\",\"Valley Forge High School DECA students connecting with Browns and Cavs\",\"West Penn Power continues with network improvements\",\"The Beacon Broadcasting Network (BBN) Launches First Full Service Beacon Marketing Agency - Offers Free Beacons to Every Business in America\",\"Title chase is over-Jose Mourinho admits\",\"Eight Things Aspiring Professionals Gain From Becoming An Apprentice\",\"UNTOLD STORY: Why Baryamureeba Quit UTAMU To Rejoin Mak\",\"USI To Hold International Food Expo\",\"Premier League managers call for changes to transfer window\",\"News Weather Talk\",\"Doctors and Patient Groups Launch Unmask My City Initiative to Clean Up Sofia\\u2019s Air\",\"Top EU economic powers warn US about tax plans | The Wichita Eagle\",\"'This is your chance,' Lib Dems tell voters who are opposed to hard Brexit\",\"'My hope is to stop the abuse'; Man diagnosed with schizophrenia sues over force\",\"Residents stress inclusion, diversity as contractors chosen for - wave3.com-Louisville News, Weather & Sports\",\"Fears for future of over 80% of Leitrim's post offices\",\"Billie Holiday\",\"What will replace Saturday Night Takeaway? Two shows drafted in amid schedule chaos as Ant McPartlin goes to rehab\",\"LeBron James Once Gained Seven Pounds In A Playoff Game Somehow\",\"Is Nike Covering Up Dubious Practices of Runners\",\"Letters: Tim Scott ignoring valid criticism\",\"Knife-wielding attackers kill five in China's Xinjiang region\",\"Riviera Beach council meeting derails - Fox29 WFLX TV, West Palm Beach, FL-news & weather\",\"Lake Zurich hosts 'Taste of the Towns'\",\"U.S. flu season off to an early start; widespread in Louisiana\",\"Thank President Trump for Americans' surging interest in politics: ..\",\"World's oldest person, last one of 19th century, dies in Italy at 117\",\"Nicky Hilton Rothschild Announces 'Mommy + Me' Line\",\"SADC-Parliamentary Forum endorses Malawi Electoral Reform Bills\",\"5 questions we want Facebook to answer at F8\",\"Man in custody after dismembered remains found in Co Wicklow\",\"Judge: Iowa doesn\\u2019t have to honor contract with UIHC union\",\"Merck CEO pulls out of Trump business council, demands rejection of bigotry\",\"Careful Testing Reveals USB Cable Duds\",\"Judge sweeps clouds away for makers of R-rated puppet movie\",\"Olivia\\u2019s cooks up German style Calve\\u2019s Liver served w Garlic smashed Cauliflower potatoes\",\"UN says people disappearing in northern Mexico border city\",\"Penn-Trafford tennis set to begin play in WPIAL tournament\",\"Score a free medium shake, sundae or frappe at McDonald's\",\"Navy Sailor Accused Of Stealing Grenades From Ship\",\"Turtle McTurtle Face, Flinny: No shortage of names for 200kg turtle\",\"Sick Joke -- Philip Morris Repeats Call for Smoke-Free Future While It\",\"Increase in road deaths worries Police | Malawi 24\",\"Merkel's conservatives see common ground with Social Democrats on Europe\",\"DDA notifies charges for allowing permitted land use change in Delhi\\u2019s industrial clusters\",\"\\\"Healthy From Day One\\\" Gains Momentum\",\"650,000 fans at parade cheer Penguins for Stanley Cup win\",\"Albany Board of Realtors hosts blood drive - WALB.com, South Georgia News, Weather, Sports\",\"Syracuse hosts Pitt hoping to break two-game skid\",\"Newport Beach OKs next year\\u2019s $307-million budget\",\"Andre Iguodala injury update: Warriors forward out for Game 1 of NBA Finals\",\"Prince Harry & Meghan Markle's Wedding Music Includes A Full Orchestra, So Get Ready\",\"A #UsToo Movement? 3 Reasons Why #MeToo Needs To Go Further\",\"Tulloch Homes sees 'robust' housing market\",\"Sexual harassment in the service industry\",\"PTI chief comes hard on builders' mafia and invites ABAD to help materialize housing policy\",\"Firefighters Protect Seaside SoCal Towns As Massive Wildfire Rages\",\"Apple to be worth at least $824 bn in 2017: Analysts\",\"With Central Park 2016 explosion case still open, a photo is released by NYPD\",\"OOIDA asks Chao to include truckers on automation committee\",\"One stop shop for Valentine\\u2019s Day right here at CityPlace Doral\",\"EFCC chief Ibrahim Magu talks tough on anti-corruption war\",\"'Puzzled' Harvey Weinstein denies Uma Thurman's claims\",\"Texas man dies in 3-vehicle crash in Louisiana\",\"Cristiano Ronaldo hits 100th European club goal with double against Bayern\",\"Tragedy; three children died in a broken-down vehicle in Neno\",\"Jennifer Lopez, A-Rod Hang with Justin Timberlake in the Hamptons\",\"French Gangster Redoine Faid Escaped from Jail with Help from Drones\",\"TONIGHT: Don't Miss Clifton Fireworks\",\"Absconding for 19 years, wanted terrorist held in Kapurthala\",\"Draft decisions to have huge impact on 2018-19 hoops season | The Olympian\",\"Cat Power Announces Moon Pix 20th Anniversary Show At Sydney\\u2019s Vivid LIVE Festival\",\"Coventry City boss Mark Robins drops hint about another summer target\",\"Philip Hammond to make the case for an economy-friendly Brexit\",\"BRIEF-Otelco Q1 revenue fell 0.6 percent to $17.4 million\",\"Cleveland Browns hire GM John Dorsey on same day Sashi Brown fired\",\"Will Liberals Give Weinstein the O\\u2019Reilly Treatment?\",\"Hearing delayed for Fairfield homicide suspects\",\"Coronation Street: Fans compare David Platt to Captain Kirk\",\"Approval of Peru's Kuczynski falls to new low amid strikes\",\"16th International Architecture Exhibition sees Pak National Pavilion\",\"Memo \\u2018totally vindicates me\\u2019 of Russian collusion\",\"The weekend in Greater Cleveland, as told by Instagram users: Aug. 11-13\",\"ISU voting centers\",\"Suspicious package evacuates residents of Georgia State dormitor - CBS46 News\",\"Alejandro Valverde not thinking about that 2017 Tour crash heading into this year's race\",\"Call for respect on Anzac Day\",\"The Latest: Man accused of killing mom seeks interpreter\",\"Cultivation ban opposed\",\"Homes For Sale near Idylwild Elementary School\",\"AC Milan transfer news: Five most likely signings this summer\",\"AT&T expects ruling on Time Warner merger on June 12\",\"Isle of Wight roadworks and road closures 20th March 2018\",\"Leaderboard: Andrew Landry And PGA Tour Second Chances\",\"Ravi Shankar Prasad raps Pakistan for sermon on elections\",\"WWE News: John Cena Called Out The Undertaker Again On \\u2018Raw\\u2019 & Got Surprising Reply\",\"Bangor City target winning start to phase two while struggling Prestatyn are desperate for a victory\",\"Free guided hikes at TN State Parks - WRCBtv.com | Chattanooga News, Weather & Sports\",\"What Sheryl Sandberg gets right about life after death\",\"Wynne to deliver keynote at Liberal gathering\",\"California man convicted of torture deaths of 2 children\",\"David Grossman wins Man Booker International prize\",\"BRIEF-Zhejiang Vie Science & Technology sees FY 2017 Q1 net profit to increase by 40 pct to 70 pct\",\"Meet Actress, Shan George Cute Grandchild\",\"Donald Trump Quotes About Tom Brady Show How Much Of A Relationship They Have\",\"CAPLAN\",\"To Save The NHS We Must Stop An Extreme Brexit\",\"Industry Fair 2017: Arburg presents entry-level electric machine\",\"Advocacy group seeks Ford Explorer recall due to fumes\",\"Crews tackle bin fires in Dundee overnight\",\"San Francisco suing massage parlor for allegedly offering prostitution\",\"Is Donald Trump Helping Or Hurting Twitter?\",\"This is why most of the counter-protesters in Charlottesville were white\",\"Acting president to hold top security meeting over death of NK leader's half brother\",\"Ambien Maker To Roseanne Barr: 'Racism Is Not A Known Side Effec - News9.com - Oklahoma City, OK - News, Weather, Video and Sports |\",\"EVICTED: Small businesses told to find new homes\",\"US, Mexico, Slim charity to work on Central America crime, migration\",\"Keaton Jones\\u2019 Anti-Bullying Speech Touches The Hearts Of Millions\",\"Taiwan says Chinese aircraft conduct more drills near island\",\"\\u2018HQ Trivia\\u2019 isn\\u2019t on Android yet, but a similar game called \\u2018The Q\\u2019 is\",\"Game Of Thrones Just Dropped The Most Significant Jon Snow Revelation Yet\",\"Top 2018 World Cup Betting Props: Germany vs. Brazil Final the Odds Favorite\",\"Taylor Swift's Boyfriend Joe Alwyn Cast in 'Mary Queen of Scots'\",\"Inter can snatch Szczesny from Juve\",\"600-pound man loses in 15 months\",\"In 23 IITs, 2,672 teachers\\u2019 posts lie vacant\",\"Logan Lucky Movie Review\",\"Chipotle new queso ugly sweater giveaway\",\"Queens of the Stone Age tease new video\",\"Warriors Beat Mavericks Behind Durant's Triple-Double\",\"SPE picks Plastics for Life award winners\",\"Old Kentucky Tales S3, Ep2: Learning in a One-Room Corn Crib\",\"Cardinal Health to buy Medtronic units for $6.1 bn\",\"Caddies find success on and off the course\",\"Chris Brown who? Karrueche Tran has Tupac actor Demetrius Shipp Jr crushing on her\",\"Iran to preserve missile power despite US pressures: Velayati\",\"5 brand new brunches to try in February\",\"Kapil Sharma To Groove With This Star In Firangi!\",\"Some of the smallest Linux distributions\",\"Flood recovery meetings to provide information on registering fo - wistv.com - Columbia, South Carolina\",\"Japanese reporter died after clocking 159 hours of overtime\",\"\\u041a\\u0430\\u0442\\u0430\\u0440 \\u0437\\u0430\\u043a\\u0443\\u043f\\u0438\\u0442 \\u0443 \\u0421\\u0428\\u0410 \\u0438\\u0441\\u0442\\u0440\\u0435\\u0431\\u0438\\u0442\\u0435\\u043b\\u0438 F-15 \\u043d\\u0430 \\u0441\\u0443\\u043c\\u043c\\u0443 12 \\u043c\\u043b\\u0440\\u0434 \\u0434\\u043e\\u043b\\u043b\\u0430\\u0440\\u043e\\u0432\",\"Air Quality Update For Western Montana, August 14, 2017\",\"40th anniversary Intel Core i7-8086K shows up at online retailers\",\"BOMB SCARE: Suspicious package in Wood Co. turns out to be brick - WAOW - Newsline 9, Wausau News, Weather, Sports\",\"Spinning Harts Dance Studio: Putting a Spin on Fitness!\",\"How to survive the political season\",\"100 Burpees a Day For 2 Weeks\",\"Ky. governor urges pressure on lawmakers to act on pensions - Cincinnati News, Weather, Sports from FOX19 NOW-WXIX\",\"Alex Mytton makes up with Lottie Moss after fallout\",\"Trump disputes report he watches hours of television daily\",\"Oettinger on Italy: like a true political commissioner\",\"Korean unity at Vatican? Not so fast, but pope cheers anyway\",\"NEW YORK CITY STREET ART: THE VIDEO INTERVIEW\",\"Video shows \\u2018World Cup deer\\u2019 crashing volleyball game to \\u2018play soccer\\u2019\",\"Roughriders making moves ahead of mini-camp\",\"BRIEF-American Homes 4 Rent announces public offering of common shares\",\"Suspected \\u2018LOL\\u2019 killer arrested in poisoning death of North Korea leader\\u2019s estranged half-brother\",\"\\u2018Teen Mom\\u2019 Liar? Court Papers Uncover Truth Behind Jenelle\\u2019s Pregnant Beating Claims\",\"Car tax zapped Gray Davis, but new ones won\\u2019t touch Brown: Thomas Elias\",\"Carlow manager Colm Bonnar fears 'backlash' after Limerick's loss to Clare\",\"Grieving family stunned by theft from Bradley\\u2019s grave\",\"Cash Rich, Market Ignored Restructuring Opportunity: CafePress\",\"Surprise, Trump's Education Ideas Are Polarizing\",\"US agency cracks down on Juul e-cigarette popular in schools\",\"Auckland Harbour Bridge lights up to honour Anzacs\",\"Driver dies in crash on A890 near Strathcarron Hotel\",\"GBP/USD in a bearish consolidation phase, UK jobs eyed\",\"Fatal workplace incident in Penrose\",\"White Sox's Daniel Palka: Goes deep twice Tuesday\",\"Fresh bidding for Egodini project\",\"Freshman dance student discusses his nonprofit organization\",\"Kohl's gives $1 million to Susan G. Komen Wisconsin\",\"Mozambique: Contracts Signed Between Government, Eni and Anadarko\",\"North Summit cross-country runner earns Gatorade Player of the Year award\",\"Motorcyclist taken to hospital following M32 crash\",\"Withdraw transport fare increase on BRT, LAGBUS - TUC tells Lagos govt\",\"Stress hormone may identify family members likely to suffer from anxiety after loved one's ICU care\",\"Clemson coach Dabo Swinney respects improved Wake Forest\",\"BepiColombo plasma simulation\",\"Global Soil Treatment Market to Reach $49.25 Billion with 9.2% CAGR Forecast to 2022\",\"Elon Musk pitches solar panels to rebuild Puerto Rico\\u2019s power grid\",\"Milton mom\\u2019s future uncertain as she faces cancer with brave smile\",\"Corte Bertesina: where environmental, social, and agricultural values intersect\",\"The Coca-Cola Christmas truck is in Coventry TODAY\",\"In an unexpected gamble, Theresa May seeks snap U.K. election to get Brexit backing\",\"From our readers: Preparing for a medical emergency\",\"Sentencing hearing for Roof begins this week\",\"10 Wednesday AM Reads\",\"Global Outlook on IoT Platforms and Software to 2022 - Amazon, Microsoft and Google Expand Aggressively into the IoT Market\",\"Halstead woman jailed after sexually assaulting a disabled mother in the shower\",\"Billionaire Jeff Bezos Once Wrote His Biggest Competitor a $500 Million Check\",\"Man, 21, pleads guilty to raping Portland bus passenger\",\"Twitter post: Boyfriend claims X-rated act is cure for hay fever - it goes viral\",\"Turks and Caicos Bags Two Industry Awards at CHIEF in Miami\",\"Golden Globes: Complete list of nominations\",\"BNC writes FG, condemns alleged marginalization of Benin ethnic nationality\",\"Whataburger Welcomes Back Buffalo Ranch Chicken Strip Sandwich\",\"For undocumented immigrants, the Trump admin makes fires and hurricanes even tougher to deal with\",\"San Francisco protesters call on Sen. Dianne Feinstein to step down in 2018\",\"What\\u2019s behind the turmoil in the Maldives\",\"If A School Becomes A Shelter In Puerto Rico, Where Do Students Learn?\",\"Popular Carlton chip shop owners to retire after 37 years\",\"China is ramping up talk of a trade war, and it could come back to blow up in Trump\\u2019s face\",\"Saints confident of progress in cup\",\"Vodafone slams EE over UK emergency network details - Mobile World Live\",\"Ukelele Hour grows in popularity at annual music camp\",\"Next-Generation Memory (NGM) Market 2018 Global Trend, Size, Growth, Developments Status and Top Key Players Study by Forecast to 2022\",\"Brainwavz B200 Earphones Review: Great Fit, Good Value\",\"Garth Brooks\\u2019 nine-show Edmonton run a logistics challenge\",\"BRIEF-Arrowstreet Capital reports 5.3 pct passive stake in Abercrombie & Fitch - SEC filing\",\"GJM on Darjeeling\",\"PETA names Las Vegas officer as 'Sexiest Vegan' - FOX5 Vegas - KVVU\",\"Group Drums Support For Wike\",\"BREAKING: Lexmark International CEO Reeder resigns\",\"Cubs' Peter Bourjos: Roster spot could depend on bullpen decisions\",\"Bank of Ireland hires Australian to lead \\u20ac900m technology overhaul\",\"Markham woman wins $675K lottery prize\",\"Get involved with the Luton Community Ballet\",\"NHTSA Recalls: January 2, 2017\",\"Random Passage site operators crowdfunding desperately needed repairs\",\"Osme\\u00f1a unfazed by uncertainties in BPO industry\",\"Vigil held for 82-year-old Chicago Heights woman found beaten to death\",\"Broncos LG Allen Barbre spending time with first-team offense\",\"6 tips to make your world less noisy\",\"England rugby news: Eddie Jones under pressure to rest Lions stars\",\"Lions' Greg Robinson getting up to speed\",\"Barcelona Transfer News: Ousmane Dembele Boost, Philippe Coutinho Rumours\",\"Millie Turner's 'The Shadow' Completely Pops\",\"Bundy supporters decry court proceedings as defense calls for mistrial\",\"Foothill, Amador Valley to play for NCS softball title\",\"BRIEF-Silverlake Axis posts Q2 net profit 246.3 million rgt\",\"Study finds percutaneous coronary intervention as recommendable treatment for left main coronary artery disease\",\"Beyond the Index: Walk the Talk\",\"Roger Federer marks comeback with Hopman Cup victory\",\"Suspect Arrested In Death Of N. Korean Dictator's Half-Brother\",\"\\u2018Enough is enough\\u2019: G7 ministers agree to call Russia out\",\"Fidel Castro\\u2019s son joined a long list of suicides in Cuba | Miami Herald\",\"Gaga, Prince William talk mental health\",\"Three Brits to be CANED and jailed for sex attack on unconscious woman during Singapore stag do\",\"Dog survives being picked up by tornado\",\"Manaea's no-no part of impressive start to 3rd year with A's\",\"Johor princess marries Dutchman in tradition-rich ceremony\",\"Mahershala Ali covers The Hollywood Reporter\",\"These 40 funny (and cheesy) Christmas cracker jokes are guaranteed to give you the giggles\",\"Direct-acting Solenoid Valves Global Consumption Market by Manufacturers, Regions, Type and Application, Forecast to 2023\",\"Keller officials lower speed limit on North Tarrant Parkway | Fort Worth Star-Telegram\",\"This Open Letter to Chimamanda Ngozi Adichie discusses Feminism, Egalitarianism & Respect\",\"\\\"Home\\\" by Robert James Berry\",\"BJP makes Yeddyurappa son youth wing general secretary after ticket denial\",\"Former President Obama To Attend Dan Rooney\\u2019s Funeral\",\"Greek PM renews call for lenders to tackle debt\",\"Three pacific teams join Mahuki innovation hub at Te Papa\",\"Western Force win injunction against ARU\",\"Sununu's first 100 days marked by enthusiasm, but key losses\",\"Man leads police on chase, rams patrol car say Henderson Co. deputies\",\"Manchester United vs Chelsea: Michael Oliver to referee FA Cup final\",\"The Crown actress Vanessa Kirby to join Dwayne Johnson and Jason Statham in Fast & Furious spin-off, Hobbs and Shaw\",\"Red Sox 2, Pirates 1\",\"Deadpool named most pirated movie of 2016\",\"WhatsApp to raise minimum age limit to 16 in EU\",\"Pot Busts Across US Points To Smuggling From Legal States\",\"With Pa. House, Senate gone, big issues remain unresolved\",\"Police say report of missing girl in car was \\u2018bogus\\u2019\",\"Most Drug Expiration Dates Are Bogus, and the FDA Knows It\",\"Phoenix Mayor Greg Stanton announces he'll run for Congress\",\"All the Japanese cars made in the USA\",\"Walmart offers college educations to its employees\",\"Watch: A drone's view of Six Flags Great Adventure\",\"What is the Industrial IoT? And why the stakes are so high\",\"Kenya sets sights on green bonds after mobile phone issue\",\"Gunmen clad as troops hold dozens hostage in Mogadishu eatery after car bomb outside kills nine\",\"7 Recruiting and Hiring Experts Weigh in on Artificial Intelligence in Recruiting:\",\"Arsene Wenger calls on Mesut Ozil to justify new contract and lead Arsenal into successful new era\",\"John Dingell vows to fight Nazis again after Va. violence\",\"Woman uses someone else\\u2019s urine for drug test, fails anyway\",\"Chef told to cook 'black people food': Lawsuit\",\"Anthony Albanese - Stresses The Positive Economics Of Passing Australian Marriage Equality. Right Way To Win Support?\",\"Clubs - October 5, 2017\",\"Infiniti reveals Prototype 9 open-wheeled electric retro roadster; new 30 kWh pack, prototype motor\",\"\\\"Why Is AAP Claiming This As Victory?\\\" Opposition After Top Court Ruling\",\"LeBron gets triple-double, Cavs beat Bucks without Lue\",\"Hometown hero Dunk says Premier League promotion is dream come true\",\"Louisiana legislature begins day with prayer for Scalise and other victims of this morning's shooting\",\"Flags lowered in Montana to honor newspaper shooting victims\",\"New app targeting kids raises red flags for tech expert\",\"Please Rate This Lodging Facility: IHG Army Hotels. Fort Lewis, WA\",\"A nanotechnology overnight sensation 30 years in the making!\",\"How Ben Carson\\u2019s HUD Got Sean Hannity Rich From Real Estate\",\"Brewers 7, Cardinals 6: Bats outlast rain\",\"Data Analytics: Enabling Next Gen Construction\",\"Are these the most luxurious train suites on Earth?\",\"Internet Has A Field Day With Awkward Photo Of Donald Trump And Justin Trudeau\",\"Cornwall B&M store boss slams 'unbearable' working conditions during both summer and winter\",\"Fox Sports\\u2019 \\u201818 Holes\\u2019 to feature Kelly Plantation\",\"Radwanska saves 3 match points to survive at Shenzhen Open\",\"Repo funding costs at China's stock exchanges surge before bank health-check\",\"Brexiteer Stuns Maajid Nawaz With Blaz\\u00e9 Response To Irish Border Solution\",\"Wisconsin court OKs unconscious drunken drivers' blood draws\",\"2 new schools open in Pasco today, school boundaries rezoned\",\"M60 traffic: One hours delays after lorry crash near Salford\",\"No apparent Arab plans to push for Qatar-linked UN sanctions: diplomats\",\"Migrant boat capsizes off Libya, 90 feared dead, mostly Pakistanis\",\"Celebrity Social Media Round-Up for August 14, 2017\",\"Taxi company admits to 'dropping the ball' after Coquitlam senior's 3-hour wait for accessible cab\",\"Global Selenium Target Market Data Survey Report 2025\",\"CDC considers lowering threshold level for lead exposure\",\"Construction begins on 700MW concentrated solar power plant in Dubai\",\"Court round-up: The latest cases from the region's courts\",\"Glebelands Hostel - the scene of many murders\",\"Deceased first-grader in Columbus tested positive for scarlet fever, flu; official cause of death pending\",\"Filigree\\u2019s Botanika Nature Residences opens doors to residents\",\"Harvey Weinstein indicted on rape charges\",\"Disgruntled French steel workers turn to populist Le Pen\",\"The Science Of Fireworks: What Makes Your 4th Of July Light Show So Colorful\",\"Vermonters take border diplomacy into their own hands\",\"Oroville Dam Evacuations Lifted As Officials Say Structure Can Withstand Next Storm\",\"Truth behind \\u2018alien\\u2019 mummies\",\"$15 to dump rubbish at tip\",\"Air Core Drilling Market Intelligence Report for Comprehensive Information 2017-2023\",\"Gun Battle Breaks Out During Brooklyn Gas Station Robbery \\\" CBS New York\",\"There is buzz that the Lakers could skip Lonzo Ball in the NBA Draft\",\"Liberia: Handball Association Appeals to Chief Patron of Sports\",\"US Democratic leaders react to Charlottesville deadly clashes\",\"Cop Hurt as Cycling Mob Rides Wrong Way Through NYC Streets, Attacks Drivers: Witnesses, Police\",\"Some Investors Feel Burned by Drugmakers\\u2019 Clinical-Trial Reports\",\"New 'Mystery Science Theater 3000' episodes make the grade\",\"Taraji P. Henson's dog is dead\",\"Celeb birthdays for the week of March 25-31\",\"Women Detail Sexual Allegations Against Trump\",\"Smartmouth Brewery opens second location in Virginia Beach this December\",\"Amsterdam Bans Opening of More Tourist Shops to Stop 'Disneyfication' of Capital\",\"Back to Sunshine\",\"Davison hires Rob Nuckolls as boys and girls soccer coach\",\"Police: Student detained after BB gun found on bus\",\"Arsenal news: Mesut Ozil illness could see him miss Bournemouth game\",\"Iowa Moves To Restrict Collective Bargaining For Public Sector Workers\",\"Ecosmob Announced White Label Mobile Dialer App to facilitate Service Providers to meet Unified Communication Demand\",\"Renee Zellweger transforms into Judy Garland for the biopic 'Judy'\",\"Brik Realty announces additions to leadership ranks\",\"Barnes Foundation says St. Joe's lease deal does not mean sales are in the works\",\"Zimbabwe: President Addresses Youth League Tomorrow\",\"Auriemma and UConn turn attention to winning another title\",\"Wall Street rallies in low volume led by banks, tech\",\"The Latest: Judge won't guarantee pay for 'El Chapo' lawyers\",\"Michael Bisping is a true pioneer of MMA but it was the right time to retire\",\"Here's how much the cost of being a fan has risen\",\"McAuliffe making economic announcement in Va. Beach\",\"MQM-P won\\u2019t make seat adjustment in Karachi\",\"Bill Would Improve Missouri Student Journalists\\u2019 Protections\",\"KU QBs are best friends, roommates -- and competitors for starting job\",\"NextEra may challenge PUCa s decision on Oncor as bankruptcy drags on\",\"Talent for a Cause\",\"Hollandstrong Fishing Derby Feb. 10\",\"Truck catches fire in St. George neighborhood\",\"This is when the old \\u00a310 note goes out of circulation\",\"Govt should say it got banks wrong: Joyce\",\"FIFA 18 best players: The REAL top stars on the game - Ronaldo and Messi miss out\",\"Ensure a summer full of sparkle with right jewellery\",\"Waffle House shooting suspect arrested following \\u2018scary\\u2019 Sunday\",\"Double win for the Kia Rio at the Auto Trader New Car Awards 2018\",\"Verratti: My dream is to win in Paris, not Barcelona\",\"Heatwave essentials! Keep your cool with Lidl paddling pool\",\"Robot makes coffee at new cafe in Japan\\u2019s capital\",\"Back Exercises: 6 best lats workouts for a bigger back\",\"Italy 1 Macedonia 1: Azzurri fail to clinch play-off spot with disappointing draw\",\"UMBC run over, but not forgotten\",\"Schroeder nominated to board of Russian oil giant\",\"Society Notebook: LearningWorks marks a half-century of helping kids\",\"EUR/USD in fresh lows near 1.1680 on US payrolls\",\"Melania Knew Exactly Which Outfit To Whip Out of Closet Before Meeting President of France\",\"HH pleads not guilty\",\"Bawumia signs Amissah-Arthur\\u2019s book of condolence\",\"Gender change on birth certificates now easier in New Jersey\",\"AFL 2018: Fixtures, key dates, live TV and streaming schedule\",\"International Boat Show cruising into San Diego - CBS News 8 - San Diego, CA News Station - KFMB Channel 8\",\"Gangrape victim produces severed ear of accused as evidence to get complaint filed\",\"Conservatives to focus on Brexit, energy in poll- minister\",\"Mohamed Salah's pause of a genius and can Liverpool's atmosphere be improved?\",\"Prizes and toilet seats dished out as Leighton celebrate another season\",\"Experimental muscle-cell 'patches' may hold promise for failing hearts\",\"Anais Mitchell w/Frances Luke Accord\",\"Introducing Lilly Pulitzer For Pottery Barn\",\"Investors turn wary on Taiwan stocks on Trump, trade, Apple risks\",\"Kourtney Kardashian slams Scott Disick\",\"Yazmin Oukhellou discusses row with Danielle Armstrong\",\"\\u054a\\u0578\\u057d\\u057f \\u0556\\u0561\\u056f\\u057f\\u0578\\u0582\\u0574. \\u054d\\u0561\\u0570\\u0574\\u0561\\u0576\\u0561\\u0564\\u0580\\u0561\\u056f\\u0561\\u0576\\u0578\\u0582\\u0569\\u0575\\u0561\\u0576 \\u057a\\u0561\\u0570\\u0561\\u057a\\u0561\\u0576\\u0568\",\"Drake Royalties at the Center of New Cash Money Lawsuit\",\"Do Florida nursing home patients need a bill of rights?\",\"Column: PGA Tour primed for big 2nd half of season\",\"There Will be Less Maz Kanata in the Last Jedi\",\"China a \\u2018great partner\\u2019 for PH - Zhao\",\"Gaza faces electricity crisis as power plant runs out of fuel\",\"Donald Trump faces investigation for possible obstruction of justice\",\"Judge asked to reject pipeline protester's evidence request\",\"$89.6M sluice and revetment project for Leguan\",\"NBC signs incubation agreement with Wabas Company\",\"India, the world's second most populous country, is cutting down on condom ads\",\"Rangers focusing on playing better in Game 4 vs. Canadiens\",\"Macedonia: 8 million-year-old elephant-like remains found\",\"How Your Brain Learns to Expect Mud Puddles in the Park (and Other Things)\",\"HIL experience helped us play better at the Junior World Cup: Gurjant Singh\",\"Veteran sports TV executive Shuken to lead Pac-12 network\",\"Friday\\u2019s First Warning Forecast: Sunshine and 80s to end the work week\",\"Uruguay prosecutor wants charges against ex vice president\",\"STATE FINALS: 2A track prelims recap\",\"Let's Not Let Another Tax Day Go By Without Reform\",\"Rocks fans told: Don\\u2019t panic over wait for new boss\",\"Invasion of Dungeons and Dragons at Fort Erie library\",\"Possible US/China trade war could benefit astute SA investors - Old Mutual\",\"Dassault Syst\\u00e8mes Adds Procter & Gamble To Its 3DEXPERIENCE Platform Clients\",\"Dubois scores on debut to lead Colombus over Islanders\",\"Historic New York Subway Line Reopens For The First Time Since The 1920s\",\"Tased at Taco Bell: Oklahoma woman allegedly goes haywire with tire iron\",\"Monday, February 5, 2018\",\"Red Sox hold on to sweep slumping Blue Jays\",\"How to delete your Facebook account\",\"Payano, Marrero and Vicente Sign Long-Term Agreement with King Kong Boxing Management\",\"NAPTIP advocates support for children in North-East\",\"\\\"Human error\\\" caused Ulster Bank account...\",\"Tokyo zoo releases video of 'fluffy' baby panda\",\"For detecting stuff like blushing, our eyes beat cameras\",\"CIAA: Golden Bulls Open Southern Division Slate with Trip to Win - | WBTV Charlotte\",\"Nestor, Pospisil drop Davis Cup doubles match to hand Croatia 2-1 edge\",\"China March home prices rise 0.6 pct m/m, 11.3 pct y/y\",\"Cardinals second-round pick Christian Kirk has charges dismissed after February arrest\",\"Inequality in India increased rapidly since 1980s, says paper co-authored by Thomas Piketty\",\"Which Bay Area airport should I fly into?\",\"Google\\u2019s handy tips turn firm\\u2019s fortunes\",\"Kansas residents push against saltwater injection wells\",\"Concern for welfare of woman last seen at South Yorkshire supermarket\",\"Meet Logan Everett! The First Ever Boy American Girl Doll\",\"Get CDR Australia Engineers Report From CDR Australia!\",\"Bill would block access to Wyoming wildlife, hunter data\",\"Adityanath to campaign in Karnataka, SP chief for Congress\",\"5 U.S. Trips To Take With The Entire Family\",\"Picture gallery: Albion players and fans celebrate promotion\",\"China\\u2019s capital enjoys brief respite, but smog returning on Tuesday\",\"What Analysts Have to Say About Infinera Corporation (INFN)?\",\"Switzerland beats Austria in Olympic debut of team event\",\"InDex Pharmaceuticals Will Participate in the Digestive Disease Week (DDW)\",\"Chicago gun violence: Toddler dies after being shot while riding in car\",\"UAE cyber security firm DarkMatter to protect Expo 2020\\u2019s digital network and data\",\"The National African-American Read-In at Kent County Public Library\",\"Guest column: South Lake Tahoe Warm Room an example of community collaboration\",\"10 meter waves spark no bathing alert\",\"Move Over, \\u2018Narcos\\u2019 - Netflix\\u2019s \\u2018Suburra\\u2019 Is An International Game Changer\",\"China's money rates up on seasonal cash demand\",\"Trump proposes drug dealer death penalty, worked closely with drug dealer during 1980s.\",\"North Korea leader 'briefed on Guam strike plan'\",\"Riverdale creator teases Archie in \\u2018fighting shape\\u2019 for season 3\",\"Rumors highlight the hidden lives of North Korean leaders\",\"Bitcoin flash crash makes mockery of ridiculous claims that Bitcoin is a \\u201cstore of value\\u201d\",\"Greek retail sales rise 9.6 pct in February, led by foods, tobacco\",\"PCW Ultra \\\"Tuff Luck\\\" March 16, 2018 - review\",\"Taking Opioids for Pain? Speak Up. Ask the Hard Questions.\",\"Why they fight: US and China brawl over high technology\",\"Mayor Murray's editorial, annotated\",\"Chocolate giant Mars will have to overcome its deeply secretive past to fill 70,000 jobs\",\"Kourtney Betrayed! Kris To Hire Scott's Teen Girlfriend Sofia For 'KUWTK'\",\"Egypt unearths ancient artefacts 'hidden' in WWII\",\"Official: Suicide attack kills 2 in northwestern Pakistan\",\"Catch of the day: Diggs, Thielen go deep to lift Vikings\",\"Cynthia Nixon bids for NY governor\",\"South Africa v England preview of the second Test in Bloemfontein\",\"Northumberland Livestock\",\"Search widens for 5-year-old missing from South Pasadena\",\"Opinion: Immigrants must perform extraordinary feats to gain acceptance\",\"Antonio Conte Still a Candidate for Vacant Italy Role Despite Time Remaining on Chelsea Deal\",\"It's Time to Rethink Your Skincare Regimen, According to Cult-Favorite Bay Area Duo Kristina Holey and Marie Veronique\",\"Tower stake sales may pare Rs 90,000 cr telecom debt\",\"Blumenthal talks community-based efforts to combat opioid crisis\",\"The Fed Accelerates The Collapse Of The Economy, The Clock Is Ticking Down\",\"Lennar's Fernwood Grand Opens February 10 in Vancouver\",\"Longhorn Cattle Drive will MOOOOVE Down Houston Street\",\"Las Vegas shooting: Police have looked at 'literally everything' but still don't know why Stephen Paddock unleashed high-rise massacre\",\"Top ten best restaurants in Southport according to Trip Advisor\",\"When Dating In The Era Of Divisive Politics, Both Sides Stick To Themselves\",\"Cueto lowers historic ERA in Giants' win\",\"Inside the Hearts of Reality PEOPLE Magazine Party\",\"Muslim panel answers anonymous questions\",\"Osinbajo in closed door meeting with Emir Sanusi\",\"Zillah cemetery needs to be cleaned, kept up\",\"Police: Suspect accused of fatally stabbing 2 men was drunk\",\"KSAT Weather: Hands up, y'all! Temperature roller coaster ahead\",\"UPDATE 1-Soccer-Hazard double gives Chelsea vital win over Man City\",\"Meet the Brampton neighbourhood police team to raise any concerns\",\"Photoreversible molecular switch changes the physical property of thermoresponsive polymer\",\"The Morning Watch: Robert Pattinson Wants a Hot Dog, How IMAX Projectors Work & More\",\"SmartSky Earns STC For Airborne Network\",\"Tesla Model 3 gets Consumer Reports recommendation after braking update; shares hit session high\",\"Boca Helping Hands honors Publix for food donations\",\"CBP spent more than $5 million on lie-detector tests for unsuitable applicants\",\"Digitisation has raised security concerns, exposed people to cyber threats: Ravi Shankar Prasad\",\"Unemployment rate falls to 5.5pc as full time job creation continues to boom\",\"Kinew Plans To Scrap Fees For Newcomers\",\"Top Five Undertaker Moments in WWE\",\"\\\"We possibly hurled for twelve minutes in that match\\\"\",\"New Music: Yung6ix - Real Quick (Freestyle)\",\"Kilmarnock Author Expo 2018\",\"Hackers Leak More Unaired Episodes Of HBO Shows, Network Refuses To Comment\",\"Accrington Stanley 1 Crawley Town 0: Reds narrowly lose to in-form team\",\"What Is The Congressional Baseball Game?\",\"Authorities: 4 killed at home in apparent murder-suicide\",\"SCDF called to rescue baby locked in car\",\"Why Google is visiting Beverley's Saturday market\",\"East Africa: What Others Say\",\"New Brunswick native takes command of HMCS Moncton\",\"Time and cost are main reasons for Winnipeg\\u2019s lack of accessible taxis\",\"Sumrall receives top award for women\\u2019s leadership\",\"LIVE: Making Homes for the Holidays Event\",\"PSG vs Barcelona: Sergio Busquets blames tactics, fitness for Paris nightmare\",\"Researchers find some of the deadliest fish in the world hide SWITCHBLADES in their face\",\"Grays Harbor/Pacific County will have 1 insurance option in 2019\",\"Kicks On-Air Contests\",\"Official Galvin Green Ryder Cup Weatherwear Revealed\",\"Wimbledon 2018: Roger Federer, Venus Williams advance\",\"Brexit news: Rees-Mogg stands by claim the Treasury is 'FIDDLING figures'\",\"Froome calls on skeptical fans to let him ride Tour in peace\",\"Vancouver Giants tame Medicine Hat Tigers\",\"Pregnant Women and New Moms Still Hesitant to Introduce Peanut Products\",\"Iannucci inspired by dictators for comedy\",\"BRIEF-Soros Fund Management takes share stake in Alaska Air Group Inc, Colgate Palmolive Co\",\"Battle for Hamel: Descendants visit northern France to commemorate centenary\",\"The Script's Danny O'Donoghue debuts bleach blonde locks\",\"Lt. Gov. hopes ceremonial signing of 8 mental health-related bills spurs conversations in families\",\"Driver Refusing Police's Request To Stop Is Like A Bad GTA Parody\",\"Man's shock as possum drops into his stove fire\",\"Off: We have failed your generation\",\"Afghanistan to Play Their First Ever Test in India\",\"Prostitute robbed twice in less than two weeks by the same men\",\"White House to Roll Back Birth Control Mandate in Employers' Health Care Plans\",\"\\u2018The Voice\\u2019 Recap: Top 12 Results Show - Who Was Eliminated?\",\"Ibaka a 'hell of a competitor'\",\"NBA great Ray Allen talks about what it means to be 'clutch' - NBC12 - WWBT - Richmond, VA News On Your Side\",\"Kate Hudson's Athleisure Line Markets to Women of All Sizes\",\"Derrick Lewis Responds to Call Out from Francis Ngannou\",\"The Americans: Joe Weisberg and Joel Fields Break Down a Stunning Series Finale\",\"D-FW building 20,000 hotel rooms, but how long will this national boom last?\",\"Market Volatility Bulletin: Q1 Earnings Fully Underway\",\"J.C. Penney: A Reasonable Growth Scenario\",\"Hot start to summer in Mississauga and Brampton, cooler weather in 2nd half\",\"Plastic Laser Welding Systems Market Research, Key Players, Industry Overview, Supply and Consumption Demand Analysis to 2022\",\"Salvador appeals court upholds sentence in miscarriage case\",\"'New California' and other US territories fighting to become the 51st state\",\"Fed hikes rates for second time in Trump era despite slowing inflation\",\"Haze coming from California wildfires; air quality moderate in Carson City\",\"Will Floyd Mayweather v Conor McGregor be farce or fantasy?\",\"Walking the Alpe-Adria Trail - 750kms through Austria, Italy and Slovenia\",\"The Latest: Testimony ends in trial over Kansas voter law\",\"Bill Aims To Expand Del. Alcohol Sales On Sundays\",\"Hood pulls the curtain down on Puritans\\u2019 play-off dream\",\"San Diego congressional representatives respond to Alexandria shooting\",\"Anatomy Lab Live is coming to Sussex - enjoy dinner and a live dissection\",\"Cash For Seat Committee Splits\",\"Homeless Man Gets Year Of Free Wings After Finding Rude Note On Check\",\"Murphy's double-double helps Gophers hold off Drake\",\"Russian c.bank sees banking sector profit rising in 2018\",\"LIVE reaction as John Terry announces decision to leave Chelsea after 22 years with London club\",\"Banned driver jailed over police chase in \\u00a321k stolen Audi\",\"Statement on OSCE report on Russian presidential election\",\"The Latest: Chestnut downs a record 74 franks for 11th title | Bradenton Herald\",\"NSF Grant Supports Research to Define Creativity in Engineering Design\",\"Colorado Springs off-highway vehicle enthusiasts want bigger share of public ...\",\"Heading the ball repeatedly 'can result in development of dementia'\",\"PURE Theatre's performance of Straight White Men takes on the pros and cons of privilege\",\"Three Weeks, 650 Tournaments, $100 Million in Prize Money: Industry Sets New Bar for Online Poker Tournaments\",\"New Greggs has them queuing in the street\",\"Bitcoin hits its highest levels in over a month as crypto markets rebound\",\"Collingwood company recognized for promoting health and wellness\",\"CT Residents Stand in Solidarity Against Violence at Virginia Rally\",\"A Definitive Ranking Of Female Barbarians\",\"Steve McFadden on partying in Plymouth and being in the panto at the Theatre Royal\",\"Operation Holiday in dire need of food, coats | The Wichita Eagle\",\"Wynne positions herself as seasoned leader\",\"NAACP Calls Austin Bombings Act Of Terrorism - KTRS\",\"Dow Drops 665 Points, Capping Worst Week in 2 Years\",\"Four players that could fall to the Chiefs in the second round\",\"Alive & Well Probiotic-Rich Organic Olives\",\"4609 Windsor Ln\",\"Big Release of Electromagnetic Simulation Software\",\"Ulefone will soon release rugged feature phone Ulefone Mini and 13,000mAh Power 5\",\"Madden Mobile Hack - Madden NFL Mobile Hack\",\"BRIEF-Panalpina buys majority stake in Carelog Freight Service and its units\",\"Great-gran celebrates 100th birthday in house she has lived in for a CENTURY and has no plans to leave\",\"Fatal crash highlights concerns about busy road in Jackson County\",\"Indian court bans politicians from using religion, caste to win votes\",\"Luminant to close Titus County power plant in January, 200 jobs - KLTV.com - Tyler, Longview, Jacksonville |ETX News\",\"Vegas Golden Knights to host scavenger hunt for tickets - FOX5 Vegas - KVVU\",\"Detained by US, Mexican journalist fears death if deported\",\"Daily Mail branches into TV with syndicated US show\",\"US Pacific Command renamed as US Indo-Pacific Command\",\"1 arrested in fatal Jefferson County hit & run\",\"It snowed in Montana and Idaho on Monday. See the photos\",\"Motor racing - Aerodynamics head De Beer leaves struggling Williams\",\"Glen Ellyn school closed after suspicious notes found on grounds\",\"Batley send St Lawrence crashing out of T20 Cup on dramatic night of action\",\"Pumpkin Spice Air Freshener Prompts Evacuation Of School\",\"Comet's surface comes alive in new Rosetta GIF\",\"Business News Roundup, April 25\",\"Beer calendar: Brew Year's Eve at Great Lakes Brewing, Holiday Cheers tasting, more\",\"Manning likely to make \\u2018Thursday Night Football' decision soon\",\"Pastor Ashimolowo compels members to pay $1,000 dollars for each year they have lived on earth [VIDEO]\",\"How to Keep Your Pets Safe During July 4th Celebrations\",\"Police: Man, 25, shot to death in East Garfield Park\",\"Driving in bad weather? Don't let rain cloud your judgment | Dash Cam Derby Video\",\"Goldman, Apple's Stock Rise Adds More Than 40 Points To Dow 's Early Rally\",\"Challengers 4 Memory Swimming\",\"Fashion Tips: How Clothes Can Make You Look Your Finest\",\"Grahame Begg eyeing another Group One\",\"Jurisdiction issue delays Juelz Santana's detention hearing\",\"Sonali Bendre diagnosed with high grade cancer, says she is determined to fight every step of the way\",\"Battle of the Sexes is as relevant as ever\",\"Deputies Arrest Two in Bethune\",\"2 dead after tree branch falls on crowd at fireworks show\",\"Image of Asia: Flooded villagers paddle for drinking water\",\"FEMA homes to stay in Louisiana longer, but rent required\",\"Firefighters brace for second week of California wildfires\",\"Bertie the lovelorn albino peacock terrifies villagers\",\"Woman kills son over assisted living plans, Arizona cops say\",\"Carmel parents arrive on Capitol Hill urging more funding for childhood cancer research\",\"HNA\\u2019s $2.2B Manhattan tower a hard sell\",\"Eating french fries linked to higher risk of death, study says\",\"About 120,000 US women could lose birth-control benefit under Trump regime\",\"Kidney removed after cancer misdiagnosis\",\"Ground Breaking Hunter Research on Domestic Violence\",\"Analysts Research Summary: Sibanye Gold Limited American D (SBGL)\",\"Chappell finally wins on PGA Tour in 180th career start\",\"LGBT community centers vandalized with gay slurs in Los Angeles, Milwaukee\",\"UK banker back in Hong Kong court for murder appeal\",\"Ducati Launches Scrambler Mach 2.0 In India\",\"Charlottesville car crash suspect ID'd as 20-year-old Ohio man\",\"Effort to reset Pak-Afghan ties\",\"Memorial Day events remember those lost\",\"96th Avenue reopened after police incident in Surrey\",\"Ernie Els Receives Heisman Humanitarian Award\",\"Pok Is the Trendy New Neighborhood Poke Bar of Your SoulCycling Dreams\",\"Bishop Stika welcomes new Catholics into the Church\",\"BRIEF-Rogers Sugar to repay 5.7pct convertible debentures in cash\",\"Finally: A cloud storage solution that anyone can afford [DEALS]\",\"Investigating police officer on \\u201cMissing Imo State Bail-out Fund\\u201d dies mysteriously, ahead of Court hearing date\",\"Japan growth beats expectations\",\"Hydro Flask Welcomes New Ambassadors to Team Hydro\",\"Customers aren't going to be happy about this new Wetherspoons rule\",\"New York's governor orders review of 2015 Weinstein case | Lexington Herald Leader\",\"Hopes that landmark venue will bring new life to Capital\",\"Tired and overburdened, but cops work 24x7 to keep city safe\",\"President Trump makes hospital visit after congressional baseball shooting\",\"Veteran attacked for asking kids to stop setting fires\",\"Nets don\\u2019t measure Mexico City success just in wins\",\"Warga AS Bersiap Rayakan HUT Kemerdekaan\",\"Knifeman aboard train shot dead by German police\",\"Pacific Highway closed after elderly couple killed in Milton crash\",\"Why Boeing 747s have a hump in front\",\"Trump Hater Dies Happy After Hearing of US President's 'Impeachment'\",\"Puppy who gnawed off own foot seeks home after paw-some recovery\",\"Disney Hiring Thousands Of Workers, Offering Bonuses Up To $3,000\",\"Falkirk man\\u2019s fiver is worth more than \\u00a310,000\",\"High-end iPhone pushes prices up for Apple, even as sales slow\",\"Retired FDNY firefighter, 63, dies of 9/11-related cancer\",\"Greek Orthodox Archbishop Hanna: Assad is the protector of Christians in the Middle East\",\"BRIEF-Eclipx Group to acquire Grays eCommerce group\",\"Court: Questioning of Bullock's accused stalker unlawful\",\"13 caught for tomb robbery in NW China\",\"On this day in black history: Aretha Franklin records \\u2018Respect,\\u2019 Morehouse College established, and more\",\"Sule Lamido: President Buhari's body language gave rise to wanton killings\",\"Neo-Nazi website kicked off server for hate speech\",\"Michael Hollinger is juggling two plays in Philly at once. Again.\",\"Council to consider tilt at $10 million export centre\",\"Veelo Adds San Francisco Office to Better Serve Bay Area Clients\",\"Court documents provide more detail on couple accused of 52 coun - KCTV5 News\",\"Ireland expects hearings on Apple EU tax appeal in autumn\",\"Udacity self-driving taxi spinoff Voyage takes aim at Uber\",\"Queen Elizabeth Sick On New Year\\u2019s Day\",\"Rory McIlroy: No excuses for not performing well at Dubai Duty Free Irish Open\",\"Magic in Metal Could Help Put Excess Carbon Dioxide to Good Use\",\"Employers pressure political leaders on Detroit-area transit\",\"Portugal sells Novo Banco to Lone Star for 1 billion euro capital injection\",\"Rogue One becomes 2016's biggest film at the UK box office with hours to go\",\"Millions of Americans still haven't filed their taxes\",\"Movie Talk: Carrie Fisher Will Not Be in Star Wars 9\",\"NASCAR America, live 5-6 p.m. ET on NBCSN: Larson win, Ganassi reaction, playoff update\",\"EC issues notification for President's election\",\"Federated Group Gains Shopko, Banner Wholesale\",\"Guest View- Gators on North Carolina\\u2019s hunting list\",\"Here's how an unsuccessful 'jiggle' of keys keeps car from being - wistv.com - Columbia, South Carolina\",\"\\u2018Deadpool 2\\u2019 Stunt Person Dead: Motorcycle Accident on Set\",\"Good Morning Causeway\",\"Company payrolls in UAE, KSA could soar long-term due to skilled talent shortages: Korn Ferry study\",\"Fraud probe into Nepalese community centre project\",\"Tobago happy for Rosea s French a Grammya Feb. 13, 2017, 6:57 PM Ast\",\"Women bank risks being degraded due to capital shortfall\",\"'Father of DNA finger printing in India,' Lalji Singh passes away\",\"Impact Wrestling Viewership for Latest Reboot with Austin Aries' Big Title Win\",\"Raptors-Kings, Box\",\"Prince Harry, Markle to attend Pippa's reception\",\"Change in Number of Shares and Votes in Boliden\",\"Big Brother Canada\\u2019s Neda and Emily react to double eviction\",\"Injections to treat psoriasis: Types, benefits, and risks\",\"Green Waterproofing Products Market Size, Revenue, Status and Forecast 2024\",\"Celtics Kyrie Irving to return play against Thunder Tuesday?\",\"The Health Plan that Just Won't Die\",\"Dean Keates dedicates Wrexham's win at York to the fans\",\"Coronation Street fans notice THIS timely mistake in Roy's Rolls as Johnny eats breakfast\",\"Florida officials seek tourism boost after Alberto blows through\",\"Shooting brings back haunting memories for former Giffords staff - 3TV\",\"Report: Trump campaign had repeated contact with Russian intelligence\",\"Chris Farrell's conversation with Duluth artisan entrepreneurs\",\"Can you hear cars now? Montclair bans use of phones, earbuds in crosswalks\",\"Namibia: I'm Well Now\",\"Trump to rescind race guidelines in college admissions\",\"Elderly Campbell River woman robbed at knifepoint in her home\",\"Moldova will not receive EU funding this year - PM\",\"San Francisco UPS shooting leaves 4 dead, including gunman\",\"The Latest: Obama visits center on US-Asia-Pacific relations\",\"Northern Indian state suspends hospital chief after deaths of 60 children\",\"Fatal Motorcycle Crash Renews Calls For Stop Sign at Downtown SJ Intersection\",\"Another Catholic Priest attacked by armed thugs in Lilongwe\",\"Treasury warns of wide impact if U.S. sanctions Russian debt -Bloomberg\",\"Venezuela says inflation 274 percent last year, economists say far higher\",\"Nigerians must retake looted public wealth - ASUU\",\"Best Games to Play with Alexa on Amazon Devices\",\"Gangsters Confuse Mexican Students for Rivals, Kill and Dissolve Them in Acid\",\"Lifeguard shares water safety tips - WBRC FOX6 News - Birmingham, AL\",\"20-year-old bear attack survivor bitten by shark while surfing\",\"Malaysia's economy to be on uptrend for next three-five years: Economist\",\"Scarborough man, North Yarmouth woman top Maine finishers at Boston Marathon\",\"Monkman: \\\"I don't really talk how I did on university challenge\\\"\",\"BRIEF-Shanghai Wanye Enterprises to invest in industry fund\",\"Mining Ban Lifted on Gold and Silver in Wisconsin\",\"Hawaiian food is flourishing \\u2026 in Utah\",\"Five Great Dog Parks in Arlington\",\"Father who tried to attack Larry Nassar in court apologizes, says he's 'no hero'\",\"August shop to be part of Madison community, deter other retailers from conforming\",\"U.S. consumer sentiment unexpectedly improves in early April: UMich\",\"Man Spills Two Pounds Of Mercury After Storing It In Crown Royal Bottle\",\"Our Homes May Get Smarter, But Have We Thought It Through?\",\"285 killed, 1,073 injured during Myanmar's water festival\",\"Dar tries to soothe Fazl\",\"Florida school shooting suspect foretold intention in videos\",\"Peter Grant: I was at Scott McTominay\\u2019s first game and thought \\u2018wow\\u2019\",\"Plan could help save storm-battered beach\",\"Aston Villa digest: Steve Bruce on Jack Grealish and Jonathan Kodjia, the player ratings, reactions, and more\",\"BRIEF-Iron Mountain to buy IO Data Centers' U.S. Ops for about $1.3 bln\",\"Pusha-T Says Drake Plans to Use Secret Son to Sell Sneakers\",\"Emma Mhic Mhath\\u00fana calls for CervicalCheck case to be settled\",\"Running in groups: Nine in ten Brits who take part are HAPPIER\",\"Decision to suspend Stouffville mayor's salary for 6 months 'reckless, irresponsible'\",\"Hornets' Batum says some French fans celebrating his injury\",\"Leon founder John Vincent: Time to be positive about Brexit\",\"Condo contract rules target B.C. property flippers\",\"Coinyacht is for sale on BrandBucket\",\"Police searching for missing 12-year-old boy from Kaiapoi, near Christchurch\",\"Army beats American 82-70 behind Wilson's 14 points\",\"Keith Urban gives Nicole Kidman ultimatum\",\"Tennessee State Veterinarian reports West Nile Virus and Equine Infectious Anemia detected in Tennessee\",\"Witness speaks with News 8 about officer-involved shooting near - CBS News 8 - San Diego, CA News Station - KFMB Channel 8\",\"Activist group publishes database of Syria chemical attacks\",\"Student from China dead, 3 others injured in Toronto house fire\",\"Wehrlein hits back after injury speculation\",\"HM Courts Service: Results list for September 27 to October 5, 2017\",\"\",\"Olympic roundup: U.S. twins have company on ice\",\"Woman charged with menacing after pointing gun during road rage - KPTV - FOX 12\",\"Mahmoud Abbas: US ambassador is a 'son of a dog'\",\"Man gets life sentence for shooting Florida deputy\",\"Driver accused of murder in Charlottesville violence faces court hearing\",\"Soko Glam's Cosrx Triple C Lightning Liquid Will Come in a Holographic Bottle\",\"CNN accused of blackmail after identifying creator of Trump wrestling gif\",\"Is This 1955 Chevy Two-Door Wagon The Hottest Handyman in Minnesota?\",\"Former Monroe administrator indicted for sexual assault charges - WALB.com, South Georgia News, Weather, Sports\",\"India to host 2023 World Cup\",\"Liberian Police Investigates Lawmaker for Attempted Murder\",\"British man who spent four years on death row in Ethiopia 'overwhelmed' after his release\",\"Atwater: Florida must tackle insurance 'assignment of benefits' problems\",\"Shep Rose Interview On Dating, \\u2018RelationShep\\u2019 Season 1 & More\",\"Blink 182 Is Taking Over Las Vegas for a Brief Residency\",\"Suicide car bomber outside Mogadishu airport kills 3: Police\",\"Port Authority explosion leaves several injured; suspect down\",\"Rayon coach says his team carries the hope of a nation\",\"Russia-Pakistan Cooperation Key to Central Asia Security - Islamabad\",\"High water closes parks, boat launches\",\"British police: 2 people critical near poisoned spy city\",\"Tennis: Zverev survives test of nerve in Paris\",\"Vomiting: Get Over This Ugly Condition by Simple Home Remedies\",\"Sundance London to Open With European Premiere of \\u2018Beatriz at Dinner\\u2019\",\"Heather Heyer is a civil rights martyr\",\"Six Towns United clinch PDSL Premier Division title in style\",\"A Bluetooth controller fixes everything wrong with the NES Classic\",\"Spies 'unlawfully' accessed data then refused to talk about it properly - oversight body\",\"Special Breaking: Delhi Deputy CM Manish Sisodia's press conference after Supreme Court's judgement\",\"10 Best Moments from the 2015 CFDA Fashion Awards\",\"Salt Lake City planning $27M upgrade to historical cemetery\",\"Pumpkin Princesses wanted for annual pageant\",\"Skuld hires SVP from Steamship Mutual\",\"Cigarette manufacturers continue flouting health ministry\\u2019s laws\",\"Patriots gain only 2 yards in first quarter, score TD in second\",\"DSC debate on climate resilience sees opposing team victorious\",\"1966 Week To Wicked: CPP Brakes\",\"Ambulatory care clinics moving to single location, Winnipeg health authority says\",\"The world's most expensive chocolate is currently on display in Portugal\",\"BRIEF-Kuwait's ALARGAN says Oman unit signs 5.8 mln rials credit facility agreement\",\"Grant Shapps plot against Theresa May will buy the Prime Minister some time\",\"FDA silence on generic Advair may be good news for GSK\",\"OkCupid's new matchmaking questions tackle Trump, politics\",\"New hybrid pitch for Kingsholm\",\"Sophie Ellis-Bextor's stressful record\",\"BBCAN5's Neda, Emily react to eviction\",\"Super Bowl 2018: The real contest -- will viewers tune in?\",\"Marcus Evans Brings in Experts to Address Affordability and Accessibility in Housing Market\",\"Murray State uses late surge to put away 66-53 victory\",\"Touch rugby group needs your help to make charity fun day a success\",\"Meek Mill's nightmare comes to an end as Sixers' dream season continues\",\"Eric Church's brother Brandon dead at 36\",\"Justin Timberlake asked about Tom Brady, not Janet Jackson, at news conference\",\"Polaris Releases A Limited Edition Slingshot SL For 2017\",\"WAITING FOR JUSTICE\",\"Love is mine, mine, mine-I am whole all on my own\",\"Kiwis' Denver tourists will respect NRL clubs, says Maguire\",\"After New Year, police gear up for Nazarene feast\",\"Fiery Crash Claims One Life Early Sunday\",\"Seven big entertainment events in 2017\",\"Super Bowl City Guide to Houston\",\"6 Hot Spots For Finding Shed Antlers\",\"This handy 4-in-1 tool is the one thing every wine lover should own\",\"The people reported missing from the Grenfell Tower blaze\",\"June 13 primary: Everything you need to know\",\"Mike Flynn, a good man who saw the enemy clearly, and had \\u2026\",\"After 3 days. missing 19-yr-old trekker\\u2019s body found in deep trench in Himachal\",\"END OF AN ERA: Longest serving QAL employee retires\",\"Dixie \\u2018D\\u2019 clamps down in 4th quarter as Flyers top Falcons\",\"Ogwumike, Sun hold off Sparks for 73-72 win\",\"Israel hits Gaza for 2nd time in 2 days\",\"Microsoft teases Xbox One 120Hz display support\",\"CORRECTED-WRAPUP 4-North Korea says ready to strike U.S. aircraft carrier\",\"Brave 12-year-old wakes up to find burglar in her room, grabs kitchen knife and scares him off\",\"Arthur Miller\",\"Lebanon displays stolen ancient artifacts returned from US\",\"Downingtown Borough Council adopts $11.5M 2018 budget\",\"Taylor Swift Cries in Groping Case Closing Arguments\",\"Pep Guardiola sets Real Madrid mission in third season at Manchester City\",\"Julien replaces Therrien in Canadiens coaching shuffle\",\"Rain likely Tuesday, but drier conditions beyond - FOX 8 WVUE New Orleans News, Weather, Sports, Social\",\"Kim Jong Un\\u2019s Swiss boarding school days serve as inspiration for summit menu\",\"Merck CEO stepping down from American Manufacturing Council\",\"Pakistanis praised by Trudeau on Independence Day\",\"Fulani Herdsmen: Ango Abdullahi is a liar\",\"Fears remain after evacuation lifted for 200K Californians\",\"THE FRIGHT Sign With SPV / Steamhammer; New Album Slated For Fall Release\",\"Transgender surgery can improve life for most, study confirms\",\"Eco-Dyed Journal\",\"Nelson, Barkley top 'Madden NFL 19' rookie ratings\",\"Oregon official apologizes after cryptic emergency alert\",\"Don\\u2019t Leave APC, Use Internal Mechanism to Solve Your Problems, Dep Speaker Advises Politicians\",\"Toyota, GM Post Biggest US Sales Gains on Post-Harvey Demand\",\"2 shot in Selma Wednesday evening - WSFA.com Montgomery Alabama news.\",\"Mother-daughter duo among 5 killed in Goa road accident\",\"St. Lucian News News at Caribdaily.com\",\"Mastic man killed in Bellport motorcycle crash, police say\",\"White supremacy vs. white nationalism: Here are the differences between the far-right factions\",\"Dryden trail workshop set for Saturday\",\"Thailand van crash: 25 killed\",\"Australia\\u2019s shock smoking statistic\",\"John Wells Sells Los Angeles Estate to Brian Robbins\",\"Inmate fatally stabbed at Arizona State Prison Complex in Florence\",\"Reds trade Floro to LA, option Dixon, recall Reed, Rainey\",\"Africa: Rugby Cranes Trio Make Africa Rugby Gold Cup Team\",\"TX Corpus Christi TX Zone Forecast\",\"Franklin County Sheriff\\u2019s Office weekly report for June 22 - 29\",\"WeChat calls now take over your phone's homescreen and lock screen\",\"Identifying body found in Oswego County woods could take weeks, troopers say\",\"Jaguars Military Dad Celebrates July 4th Holiday With NFL Rookie\",\"VIDEO: Arkansas mom dies on Facebook Live\",\"The Latest: Trump wants PR effort on dangers of drugs\",\"Mark Warburton insists he did not resign from Rangers in LMA statement\",\"Arundel's Civil War mysteries explored\",\"Canada not properly managing fish farms: environment commissioner\",\"More than \\u00a320,000 raised for father who attacked daughters' abuser in court\",\"That one 'Game of Thrones' moment has Twitter buzzing\",\"Aishwarya Rai Bachchan Hoists the Indian National Flag at IFFM\",\"Roy Moore Interviewed By 12-Year-Old Girl For Pro-Trump Super PAC\",\"U.S. sour crude sellers cut prices after China tariff,...\",\"Sporting briefs\",\"Lady Gaga shares first photo from 'A Star is Born'\",\"Jimmy Buffett's Margaritaville-Themed Real Estate Empire Is Growing Quickly\",\"A Mugabe fight-back would have led to a \\u201cbloody outcome\\u201d\",\"Spelling mistake triggered terror alarm at Germany's biggest music festival\",\"IIROC Trading Resumption - SSG; GRA\",\"Packers RB Montgomery listed as doubtful for Sunday\",\"Farmer who shot a man after he ran over his dog 'should be spared a long jail sentence'\",\"Those food stalls you love about Bangkok are about to disappear from Bangkok\",\"Carbon capture industry could grow if taxes rise, expert says\",\"Bonucci solo goal caps crushing Juve win over Genoa\",\"Donald Trump considering pardon for boxer Jack Johnson\",\"NFL wild-card capsules\",\"Former Sibley-Ocheyedan middle school teacher charged with student sex abuse\",\"Vanessa Hudgens tells young fans to 'embrace their weirdness'\",\"Darcus Beese of Island Records U.K. to Take Helm at U.S. Label\",\"Five of football\\u2019s furious tunnel bust-ups\",\"Ram Katha continues on 2nd Navratra at Thakurdwara\",\"Shifts in development\",\"Officials: Student posted Facebook threat to kill teacher\",\"After Anurag Thakur sack, Andhra cricket chief wants to fall in line with Lodha reforms\",\"White Box Server Market 2017-2022: Global Market Report with Manufacturers, Regions, Trends, Challenges, and Forecast\",\"Lions sign DB Jackson; re-sign Iannuzzi and Yell\",\"Public art series concludes with installation of 18 permanent sculptures\",\"Minnesota sues opioid maker Insys over improper drug marketing\",\"What we did on our holiday? Sustained Scotland\\u2019s rural communities\",\"Vitale's weekly awards\",\"Winning numbers drawn in 'Quick Draw Midday' game\",\"Kenya's Kipserem challenges champ Talam in Eindhoven marathon\",\"Kerry ETB Radio Kerry students up for national radio award tonight\",\"Under-fire Home Secretary Amber Rudd faces a fresh grilling from MPs over the Windrush scandal\",\"Retread Tires Market will Register a CAGR of 4.6 % through 2028\",\"A new generation of jazz comes to the fore at Tokyo Lab\",\"Maracay Homes project notches prestigious innovative project award\",\"Illinois environmental group sues over coal ash pollution\",\"Obituary: Rosalie S. Jacquez\",\"Syrian jets bomb rebel-held eastern Damascus suburbs, dozens killed\",\"14 Officers Transferred\",\"Padres' Ryan Schimpf: Continues to flash power\",\"Florida governor signs major bill to combat opioid epidemic\",\"UNC Asheville faculty excited for upcoming solar eclipse in WNC\",\"Faster Payments invites bids for infrastructure overhaul\",\"\\u2018Stranger Things\\u2019 Stars Land Season 3 Pay Raises\",\"Warren Buffet\\u2019s Berkshire Hathaway added over 40M AAPL shares last quarter, stake now valued at $7.7B\",\"Trump is right to order review of the impact of banking regulations\",\"RAY DUNAWAY: The Value Of Entertainment\",\"PGA Championship 2017: Justin Thomas' wait is over; he has his major\",\"Marcos Rojo proves his worth to Jose Mourinho Manchester United\",\"Inmate: Prison officers complicit in cellphone problem\",\"Soldier Spotlight [Image 17 of 28]\",\"Meeting canceled amid scrutiny over surplus military gear\",\"Man takes hostage in Mali consulate in Barcelona\",\"Gardner Says Resolution Reached In Greitens' Computer Tampering Case - KTRS\",\"The English are doing too well in sport! - Daniel Ricciardo aims to pip Lewis Hamilton\",\"Popular light display makes return to Paxton\",\"Colorado county opposes reintroduction of wolves\",\"Lagoon repairs have begun\",\"Morning Report: Handy Guide to the Big Airbnb Vote\",\"\\u2018It\\u2019s A Great State\\u2019: Brady Recounts Memories Of Minnesota\",\"Police officer knocked unconscious in graveyard attack\",\"'It's not ok'\",\"\\u2018Weed\\u2019 Rees-Mogg refuses to run as violent students scream abuse\",\"Meet UC Berkeley\\u2019s groundbreaking new chancellor\",\"CEE Kerala LLB course admissions 2017: First allotment list released, admissions start today; Visit cee.kerala.gov.in\",\"Health Officials Asking Residents to Help Prevent Mosquito Breeding\",\"Giroud not for sale - Wenger\",\"China\\u2019s Bright to sell Weetabix to Post in $1.76-billion deal\",\"Mumbai: FOB connecting Elphinstone-Parel stations becomes operational\",\"Was woman, caught with 7 kg of heroin at Montreal airport, tricked...\",\"Authorities to hold press conference, latest on VA shooting - KLTV.com - Tyler, Longview, Jacksonville |ETX News\",\"Aluminum Sodium Sulfate Market 2017 Global Top Industry Players Analysis to 2024\",\"Holiday shipping 2017: Important deadlines you need to know - wave3.com-Louisville News, Weather & Sports\",\"Albany family invests over $1 million in new gas station - WALB.com, South Georgia News, Weather, Sports\",\"'Frr Must Be Cleaned Within Confines of Supreme Court Ruling'\",\"Fire and Light\",\"SC refuses to stay announcement of CLAT results\",\"PDP reveals how APC plans to share Abacha loot\",\"HPD: Man shot in the back in SE Houston, suspects on the run\",\"Trudeau discusses NAFTA during phone call with Mexico\\u2019s Lopez Obrador\",\"Little League statue vandalized in town that hosts series\",\"VCPS Holds Planning Meeting\",\"Business owners show up in numbers and voice their concerns for - WFXG FOX 54 - News Now\",\"Nassau Neighbors Worry About Development After Country Club Sale Agreement\",\"'Still as scared, hungry, nervous and angry': Grey's Vicki Maguire on climbing the ranks as an outsider\",\"Binge and Repeat: Seven Seconds is all it takes\",\"Stock markets reverse course and surge as Italy fears fade\",\"Scandal-hit Weinstein Co. files for bankruptcy protection\",\"Edmunds compares Subaru Outback and Buick Regal TourX\",\"Charlotte\\u2019s first homicide reported Monday\",\"Julia Roberts recreates her movies with James Corden and more late-night\",\"Exiled ex-Maldives president says he\\u2019ll run again for office\",\"A Little Birdie Told Me\",\"Aukey's magnetic Bluetooth headphones are down to $17 at Amazon\",\"Supreme Court takes up challenge by crisis pregnancy centers\",\"How to avoid a Latavius Murray fantasy football bust\",\"A letter to... the son we lost to heroin\",\"UN Security Council condemns terrorist attack in Istanbul\",\"Judge allows father access despite racial views\",\"132 'no stopping' signs wipe out beachfront parking\",\"Everton's Barkley the victim of unprovoked attack - lawyer\",\"Spillway evacuation downgraded; more rain headed to Paradise\",\"Once in a century hat trick history made in NHL openers\",\"Six stories in the news for today, June 14\",\"Social Media Swarm Snares Arkansas Residents\",\"Postoperative Pain Market to Witness Exponential Growth by 2024\",\"Illinois Republicans Inch Toward a Compromise on a State Budget\",\"Rafael Devers, Boston Red Sox rookie, becomes third youngest player in team history with multi-homer game (VIDEO)\",\"All banks now within capital adequacy threshold - Governor\",\"TV show Roseanne axed after star's racist tweet sparks outrage\",\"Police seize $750K of suspected heroin, meth in 'once-in-a-career' bust\",\"Holy Trinity adding child-care spaces\",\"Trai forms joint panel to identify outdated regulations\",\"B&M not moving into former BHS shop unit\",\"An Occasional Tipple\",\"Petan OT hero as Moose edge IceHogs 4-3\",\"Bigwigs pillage new $500m agric scheme\",\"\\u0415\\u0432\\u043a\\u0443\\u0440\\u043e\\u0432 \\u043d\\u0430\\u0437\\u0432\\u0430\\u043b \\u043f\\u0440\\u0438\\u0447\\u0438\\u043d\\u0443 \\u0443\\u0431\\u0438\\u0439\\u0441\\u0442\\u0432\\u0430 \\u0436\\u0443\\u0440\\u043d\\u0430\\u043b\\u0438\\u0441\\u0442\\u0430 \\u041a\\u043e\\u043a\\u0443\\u0440\\u0445\\u043e\\u0435\\u0432\\u0430\",\"Trump praises North Korea\\u2019s Kim as `very open\\u2019, `very honourable\\u2019\",\"Rocket Fuel Inc (FUEL) Rating Reiterated by Oppenheimer Holdings, Inc.\",\"LETTERS: Too many experts, end foreign aid, Bundy bashers\",\"Colin Cowherd Thinks LeBron James May Sit Out if Humiliated in the NBA Finals\",\"Local hog-processing plant cited for inhumane treatment of anima\",\"VIDEO: \\u2018This is Us\\u2019 actor Milo Ventimiglia forgives Crock-Pot in Super Bowl ad\",\"Final: Indians 9, White Sox 1\",\"Rajkot: Four-year-old daughter raped, alleges woman\",\"5 cool places to shop in Goa\",\"US STOCKS SNAPSHOT-Wall St opens slightly lower on last day of qtr\",\"Garden program grows larger this year\",\"How do you take a good photo of Big Ben?\",\"Steven Gerrard claims playing with ex-Liverpool star was 'an absolute dream'\",\"You Use It Well: The Best Recommendations In Fashion\",\"Travis Tritt, Scotty McCreery, Kane Brown & More Added to Star-Studded Lineup for Randy Travis Tribute Concert\",\"Saudis say coalition in Yemen shouldn't be on UN blacklist\",\"The EU Wants To Ban Single-Use Plastics And Other Waste Killing Our Oceans\",\"Plex Gets Podcasts, Adds Customization Options to Mobile Apps\",\"Donors sought for Salinas blood drive\",\"Strange disease hits Hwange buffaloes\",\"Suspect in St Petersburg metro blast linked to radical Islamists - Interfax\",\"Post Office soon to release #HockeyStamps\",\"Andre Iguodala out for Golden State in Game 1 of NBA Finals\",\"The Latest: Virginia House approves Medicaid expansion\",\"Harrogate Informer\",\"BIGG BOSS 11: These 4 contestants get NOMINATED this week\",\"Lancashire-based Federation of Small Businesses calls to end curse of late payments\",\"Man City\\u2019s 10 men too good for Burnley in EPL\",\"India, Indonesia to be key focus of Development Bank of Singapore\",\"The Brooks Review\",\"'Going in Style' toward retirement - without robbing a bank\",\"Driver who hit and killed Detroit cop sentenced to at least 16 years in prison\",\"USDA designates 7 Colorado counties as primary natural disaster areas\",\"Supreme Court hears challenge to governor's veto power\",\"Police arrive to move protesters from paid parking sites\",\"Postwar Cruelty in Oscar-nominated 'Land of Mine'\",\"Although they can\\u2019t tell us about it, infants can reason\",\"Bridge Bancorp, Inc. Announces Third Quarter 2017 Dividend\",\"Peterson, Strain take their play to the \\u2018Xtreme\\u2019\",\"Loons look to make up for last year's 'dreadful' display in Kansas City\",\"Eagles vs. Patriots: Five things to watch on defense in Super Bowl LII\",\"US striving to avoid World Cup playoff vs Syria or Australia\",\"Woodworker\\u2019s hobby gets new life with MakeICT gift\",\"In Okinawa, older women are on the front lines of the military base protest movement\",\"Explosive start to the week\",\"Three men killed in shooting at Wisconsin drag raceway - Sheriff\",\"Creating a buzz: Future wearables could tell us how we power human movement\",\"After Dark: Coffeehouse-style concerts, benefits and galas\",\"UAE envoy to Kabul dies of wounds from January bombing\",\"Next 25 Articles\",\"UNC AFib Care Network Launches AFib Integrated Care Clinic\",\"Five things we learned in the Qatar MotoGP opener\",\"Malaysia's Sime Darby Plantation Q3 profit slides 39 pct\",\"Smart Lecture Capture System Market Key Players - Panopto, Crestron Electronics, McGraw-Hill Education by Forecast to 2023\",\"Okanagan farm gets creative protecting cherries from birds\",\"MLB Rumors: Chicago Cubs May Not Be In On Manny Machado\",\"The Latest: Panel approves Pompeo for secretary of state\",\"What Analysts Suggest About Endo Int'l Plc (ENDP)?Apps for PC Daily\",\"Study claims booze gives you a dirty mouth\",\"Rishabh Pant, Kuldeep Yadav included in India\\u2019s squad for West Indies, Rohit Sharma misses out\",\"An economist says weighted voting could help save US democracy\",\"Demonetisation: Metro's 'cashless' drive grounded\",\"SSGC storm into Naya Nazimabad Ramadan Cup semis\",\"Here are some dogs surfing because the holidays are tough but you made it through\",\"Aventura Sailing to Hold Comedy Night, Open House\",\"Alice in Chains Reveal 2018 Tour Dates\",\"GLOBAL GLYCOLIC ACID MARKET RESEARCH REPORT - FORECAST TO 2023\",\"Baby revived twice after fentanyl exposure\",\"Dispatch: Deputies on scene of chase that led to crash on Woodsi - FOX Carolina 21\",\"Charges: Man lived with dead bodies of his mother, brother\",\"New study questions when the brown bear became extinct in Britain\",\"What is the Queen\\u2019s Speech and why is it so important?\",\"Travel: The Sapphire is a cruising gem\",\"Maroon 5 And Julia Michaels' New Song Sounds Exactly How You'd Expect It To\",\"Stipe Miocic, Daniel Cormier face off for first time ahead of UFC 226 champion vs. champion battle\",\"Security guard accused of killing La Mirada bar patron, injuring another\",\"Sanofi beefing up diabetes pipeline, sees growth returning\",\"NYX Strobe of Genius Holographic Sticks Are Coming\",\"Insurers say Trump must do more to stabilize 'Obamacare'\",\"Septemberfest at Nomad World Pub\",\"Social workers change the world, not smiling celebrity faces: Big B\",\"Marlins Beat A\\u2019s 11-6\",\"Situation on Korean Peninsula risks moving into 'hot phase' - Ifax cites Russian foreign minister\",\"BC High school track championships keep coming back to Langley\",\"Fiona Killen: UK must be ready to meet key date for EU data change, despite Brexit vote\",\"11 Healthy Indian Snacks For Weight Loss\",\"India: July inflation expected to rebound - TDS\",\"BRIEF-Thorn Group updates on class action\",\"Watch Sanju Teaser, Starring Ranbir Kapoor Here!\",\"White nationalists: Charlottesville just a beginning\",\"Report: Arsenal will sell Ramsey if no new contract\",\"PNB sees 13-14% growth\",\"Hamilton horticulture staff design large grass dog in front of city hall\",\"No condom ads between 6 am and 10 pm: Govt should give up regulating sex, instead focus on sex education\",\"Bawana fire: For the labourer, no masks, no helmets, no minimum wage and no options\",\"Protected bicycle lanes are coming to Charlotte - temporarily - | WBTV Charlotte\",\"ECB debate shifting to interest rate path from QE: sources\",\"NBA games Friday, scores, highlights, updates: Parker impressive in Bucks return\",\"Adrian Lewis suspended from darts after pushing opponent on oche during UK Open qualifier\",\"Suspect in Miami County slaying captured in California\",\"Trump celebrated Obama's call for gun control after Sandy Hook\",\"BRIEF-West Mountain Environmental executes letter of intent with Walker McNeil Group of Companies\",\"South Africa: Arrest of Rhino Horn Smugglers Welcomed\",\"Weather may have played role in deputy crash, FHP says\",\"The Weeknd & Selena Gomez\\u2019s First Meeting In 2015: She\\u2019s Been On His Mind Since\",\"Community Notes\",\"Merkel migrant deal reopens EU deep divisions\",\"South Africa openers make centuries to punish Bangladesh\",\"Costco Earnings Point to Growth Struggles Ahead\",\"Breast Cancer Awareness program Oct. 10\",\"Brazil's Embraer targets $1.5 bln in yearly exports of KC-390\",\"A lock of hair and a new DNA testing centre could help solve a 40-year-old missing person case\",\"Kerstin Florian International\\u2019s Anti-aging Skincare Products Fight Fine Lines and Wrinkles\",\"Another Fire In North Bethany Neighborhood\",\"British Woman Killed While Fighting In Syria Was \\u2018Fearless And Noble\\u2019\",\"Three arrested in connection with murders of Salford 'Mr Big' Paul Massey and friend John Kinsella\",\"Paul Rudd honored as Hasty Pudding\\u2019s Man of the Year\",\"Linda Wells Is Launching Her First Beauty Line\",\"Come on, the left loves Roseanne\\u2019s racist tweet because now they can shove another \\u2018teac\",\"Wrestlers take to the mats for Section II titles\",\"Europe's migrant crisis: the ghosts of Sid\",\"Microsoft Forces Use Of Edge Browser In Windows 10 Preview\",\"Germany lets Kroos return to Madrid to fully heal rib injury\",\"Early impressions on NBA schedule: Less back-to-backs, more Warriors and Lakers\",\"Muntari walks off pitch after card for complaining about racist chants\",\"Republican lawmakers shift to 'yes' on healthcare bill with changes\",\"England v Sweden World Cup 2018: when is the quarter-final fixture live on TV?\",\"World\\u0092s First Total Penis and Scrotum Transplant by Johns Hopkins Surgery Team\",\"VC4 Gallium3D Lands Some Minor Optimizations, 2016 Was Great For This RPi 3D Driver\",\"Why you should stop eating avocados\",\"Lucky Star rout Rawal Town in Club Cricket\",\"Donald Trump \\u2018Disappointed\\u2019 After K.T. McFarland Withdraws from Nomination as Ambassador of Singapore\",\"Traffic deaths spiked in 2016, including pedestrians killed\",\"Lone freight train stranded at Mosul's wrecked rail hub\",\"Uber customer in Toronto charged more than $18K for 21 minute ride\",\"Why Netflix Should Renew \\u2018One Day at a Time\\u2019\",\"Professor Shuji Nakamara from UC Santa Barbara and 2014 Nobel Laureate to Receive the 2017 Mountbatten Medal for His Work on Blue Leds\",\"Mitsubishi recalls 66K cars for second time due to Takata air bag inflators\",\"Cynthia Nixon announces she is running for Governor of New York\",\"System of public exams needs careful scrutiny and review: Supreme Court\",\"The Latest: Attorney: British cyber expert will be cleared\",\"Why Is This Catfish Victim Afraid For Her Life?\",\"Woodlands dump holders New Farnley out of Heavy Woollen Cup\",\"Red Sox Pitcher Brian Johnson Was Award-Winning Two-Way Player In College\",\"Marion County Sheriff\\u2019s Office to stop providing important services to local police, close APC\",\"7 adult children in Perris torture case released from hospital, living in undisclosed location\",\"IS claims it's taken bin Laden's Afghan hideout of Tora Bora\",\"Police: Packs of Red Bull stolen in three Walmart thefts\",\"You again? Penguins face familiar foe in Capitals\",\"Nwanta Anayoeze Yonaracha Leaves Asians Scrambling For Money\",\"Royal Tea Party tickets sold out in hours\",\"Subscribe to read\",\"British students spend more than half of their student loan on housing\",\"What Had Happened Was: 12/11/17\",\"New Denverites brainstorm ways to attract doctors to town\",\"Fill up on mimosas and Bloody Marys at Pechanga Resort & Casino\\u2019s new Sunday brunch\",\"Britain's May must prove \\\"no deal is better than a bad deal\\\"-committee\",\"Ottawa's Derian Plouffe earns Hobey Baker Award nomination after comeback from brain injury\",\"East Kilbride Thistle crown star performers at Player of the Year Awards\",\"Trump publicly praises Indiana Democrat he recently attacked as 'Sleepin' Joe'\",\"Trey Gowdy rejects Trump\\u2019s Spygate theory.\",\"Minneapolis-St. Paul-area Halloween fun\",\"Maple Leafs Goalie Frederik Andersen Makes Big Stop On Rick Nash In Game 6\",\"Metro Animal Control at capacity; offers $10 adoptions\",\"Apple set to buy song recognition app Shazam\",\"Pres. Buhari is not ready to resolve Niger Delta crisis - MEND\",\"From the archives: Woman paid high price for short scientific career\",\"Smyrna-Clayton parade screams red, white and blue\",\"Titans legend Randy Moss named to 2018 Pro Football Hall of Fame class\",\"Pakistan group says nine activists missing after backing rights movement\",\"tell us about women who finally deserve recognition\",\"Qoute of the day\",\"Floyd Mayweather rejects Conor McGregor rumours and insists he is happily retired\",\"Asian shares spooked by rising U.S. yields, cost worries\",\"Highway 50 drivers urged to be cautious as construction starts\",\"AP PHOTOS: Debutantes make their bows to society at NY gala\",\"BRIEF-Leone Film Group FY net profit down at EUR 1.8 mln\",\"Stone & Building Offers Excellent Quality Natural Stone Worktops\",\"Amazon's Jeff Bezos walks his robot dog\",\"Willie Nelson cuts Salt Lake City concert short over breathing issues,\",\"Drew Faust, Harvard's First Female President, To Step Down Next Year\",\"Ozone treaty taking a bite out of US greenhouse gas emissions\",\"While residents oppose Donlin's waste plans, industry groups and Native corporations voice support\",\"Andrew Bogut returns to Australia, signs with Sydney Kings\",\"Little Feat veterans Paul Barrere and Fred Tackett to headline Adams Avenue Unplugged, eight months before their band turns 50\",\"A real head banger: woodpeckers show signs of potential brain damage\",\"Doncaster woman thanks hospital team who gave her life-saving surgery\",\"Top 10 things you MUST know about cryptocurrency by Blockchain guru\",\"May promises to be 'bloody difficult woman' in Brexit talks\",\"Trump administration proposes scrapping pay-gap reporting requirement for companies\",\"When is bring-your-family-to-school day?\",\"'A shot at redemption': Last year's title game fueled Clemson through 2016 season\",\"Valentine's Day gifts: fancy jewellery for your favourite person\",\"Lands stripped from Utah monuments open to claims, leases - WAFB 9 News Baton Rouge, Louisiana News, Weather, Sports\",\"Secret Service director Joseph Clancy to retire next month\",\"From Graham to the Skywhale: the unsettling mutations of Patricia Piccinini\",\"Howard's 23 points lead Hornets past Thunder\",\"Fred Alger Management Inc. Grows Position in NetScout Systems, Inc. (NTCT)\",\"Airbnb effect whacks hotels during 2018 Australian Open\",\"\\u2018RHONY\\u2019 Recap: LuAnn & Tom Finally Get Married After Dodging Cheating Rumors\",\"More peas or less Pepsi? Researchers compare how food policies could save lives.\",\"Rendition couple win British Supreme Court ruling on secret hearings\",\"Growth of home sharing market spurs demand for mortgage loans\",\"Downgrade expected to hit MTN payouts\",\"North Korea's Nuclear Weapons: Mike Pence Wants Them Gone\",\"Litterbugs hit with more than 2,750 fines in eight month period\",\"Kakamega locals disrupt public hearing on budget estimates\",\"Enjoyable Godrej Apartments With full Amenities & Comfortableness\",\"Steven Tyler Reveals Solo Country Tour with Nashville\\u2019s Loving Mary Band\",\"SpeedNews Defense & Space\",\"Murder Of Midlothian Fitness Instructor At Church Unsolved 1 Year Later\",\"UPDATE 1-Buffett's Berkshire, Chinese property website Juwai.com team up\",\"Teen to Give Kidney to Sick Grandfather after Searching Years for a Match\",\"Get your spoons ready! This raw cookie dough shop is opening up 2 stores in N.J.\",\"3113 Oak Hollow Drive\",\"UK inflation rate rises unexpectedly to 3.1 percent | The Wichita Eagle\",\"Bombardier Transportation in Sweden Appoints New Managing Director and Strengthens the Nordic Region with a New Management Team\",\"Travel: Sherlock Holmes' Scotland... it would be a crime to miss it!\",\"Starving donkeys saved from death by eating Mars bars\",\"Big Ben's Big Bong Is About To Go Silent\",\"Young giraffe makes brief escape at Fort Wayne zoo\",\"Nasir, bookie arrested in UK\",\"Ya bah, ya ice worth B1.7bn seized in Chiang Rai\",\"Dublin faces water restrictions as lush Ireland swelters\",\"Zimbabwe: Govt Sets Aside $139m for Infrastructure\",\"NFL signs $500 million deal with Verizon to stream games\",\"Elon Musk promises Tesla Model 3 will get some new features in the coming months\",\"WhatsApp EOL on Old Phones, Reliance Jio vs BSNL, Samsung Galaxy A-Series 2017, and More: Your 360 Daily\",\"Community workshops announced\",\"Euro Fashion Award 2018 goes to Zhang Zheqiang\",\"\\u2018Orange Is The New Black\\u2019 Season 6 Release Date: Cast Reveal Details Ahead Of Netflix Return\",\"Bulgaria Ranks 2nd in World Ice Hockey Championship Division III\",\"Google India's New 'Posts' Feature Lets Verified Users Reach Out to Their Fans\",\"\\u2018Britain\\u2019s Got Talent\\u2019 Finalist Lost Voice Guy Suffers Fall Days Before Grand Final\",\"Government accused of policy paralysis while uncertainty reigns over renewable energy targets\",\"Pirate Bay can be held liable for copyright infringement, ECJ rules\",\"Woman freezes to death in downtown Saskatoon, relative says\",\"Blue Jays honour victims of Monday's deadly van attack\",\"WHAT ARE THE 27 DISTINCT EMOTIONS HUMANS FEEL?\",\"Justin Bieber Announces New Single \\u2018Friends\\u2019\",\"St Annes Cricket Club\\u2019s colour run debut day a dazzling success\",\"Grey matters: Age limits pose major roadblock for older drivers\",\"Formula 1 podcast: Can Sebastian Vettel win British Grand Prix? Does Fernando Alonso hold key to driver market in 2019?\",\"World Cup: Harry Kane says England 'grew up' during win on penalties over Colombia\",\"Congressional Baseball Game still on despite shooting\",\"Avalanche risk high in some elevations this weekend\",\"Tigers score 5 after Ohtani's departure, beat Angels 6-1\",\"Bitcoin Streaks To $4,300 Mark, Continuing Meteoric Rise\",\"Is the next Calvin Ridley already with Alabama Crimson Tide?\",\"Merck CEO Quits Donald Trump Council To Protest POTUS Charlottesville Response\",\"Kevin Hart visits Meek Mill in prison, condemns sentence\",\"5 things to watch for in Chiefs' Week 5 matchup vs. Texans\",\"Science Olympiad teams headed to state\",\"Let Tom Hardy Lull You to Bed With a Story -- Vulture\",\"Paige on Having Her Private Photos Leaked, Xavier Woods, Drug Use & WWE Suspensions, More\",\"Climate change may be lengthening bird's wings\",\"Nikki Bella Talks Heartbreak After Calling Off John Cena Wedding\",\"John Mellencamp, Other Performers Coming To State Fair\",\"Is Google's Waymo Really Worth $70 Billion?\",\"Presidential election 2017: BJP forms 3-member committee to seek consensus candidate\",\"Top Stories 2016: Our favorite stories from the past year\",\"Democrats try to counter Trump's attack on U.S. consumer watchdog\",\"Parc Jean-Drapeau - Start of renovations to the paddocks at Circuit Gilles-Villeneuve\",\"Five Reasons To Drink Spiked Seltzer Now\",\"Consequence of Sound\",\"Golden Knights' Marc-Andre Fleury: Turns away 45 shots for win\",\"Koeman delighted with super-sub Valencia as late show sees off Southampton\",\"Golf-Sharma in command as weather pushes Joburg Open into Monday\",\"FBI Chief Wray's claim on surveillance abuse doesn't fit the evidence\",\"First Minister in China visit to strengthen links with Scotland\",\"Third suspect charged with inciting riot at Raleigh high school\",\"Liberals on track for $4B deficit in 2017-18: FAO\",\"Out-Of-Gas Motorist May Be Cause Of Milk Tanker Rollover\",\"MUSIC: EdyBornGreat - Ode ni Jesu\",\"Santa Ana to consider two-year extension for trash collection...\",\"Moment of the New York 'bomb' explosion\",\"Harp: No Litmus Test On Public Financing\",\"Pregnant women will be able ask for subway seat with app\",\"Trans Mountain pipeline: The economics of oil\",\"Vaccines Contract Manufacturing Services Procurement Research - Market Trends and Spend Analysis by SpendEdge\",\"Obscure politician is face-saving challenger in Egypt vote\",\"More than 23,000 MRI interventions at Mater Dei in 2017\",\"Alex Rance says 2017 grand final win doesn't guarantee Richmond dynasty\",\"People Are Flooding Moviepass' Mentions With Customer Service Horror Stories\",\"Ponting joins Australia T20 coaching team\",\"All Blacks concerns as skipper Read fractures thumb\",\"Pay Income Tax, apply for PAN using mobile app soon\",\"Senior Garda\\u00ed: Investments were to develop Templemore facilities\",\"3 dead, 1 injured as 4-storey building collapses in Anambra\",\"Michigan AG Charges Multiple State Authorities with Involuntary Manslaughter in Relation to Flint Water Crisis\",\"Rough Riders Motorcycle Club Gateway Chapter Annual Spring Freedom Ride\",\"TSXV Approves Prospero Silver Corp. Option to Own Agreement\",\"Parramatta\\u2019s prodigal son has made a Titanic mess of things and won\\u2019t be welcomed back\",\"Prosecutor: Man assaulted, held captive because he is gay\",\"Zacks Investment Research Lowers Ellington Residential Mortgage REIT (EARN) to Hold\",\"Manchester United Reportedly Interested in Dries Mertens\",\"UK art teacher wins $1M teaching prize for inner city work\",\"Chiang Mai hostel & guesthouse owners seeking clarification on Hotel Act\",\"China Q1 crude oil imports climb 15 pct\",\"11 of Liverpool's best bakeries\",\"Tesco at a Crossroads with Carrefour?\",\"Portsmouth Art & Cultural Center to transform parking lot into sledding paradise\",\"Pantham Pre-release Event: Gopichand Gets Emotional; Thanks His Directors!\",\"Kasparov returns to compete 12 years later\",\"Aadhaar Made Mandatory for Post Office Deposits, Provident Fund, KVP\",\"BRIEF-Celyad grants to Novartis a non-exclusive license for its allogeneic TCR-Deficient CAR-T Cells Patents\",\"Education minister ignores rural closings\",\"If Amazon calls for HQ2, hang up, cities\",\"More funds for higher education likely as capital base\",\"Couple\\u2019s mid-air love story goes viral\",\"Ben Shephard admits he was asked to do The Real Full Monty\",\"Impeached S. Korean leader rejects accusations against her\",\"Caught on camera: Bhiwandi Congress leader brutally murdered, suspect identified\",\"Pakistan's investments in Azerbaijan exceed $4M\",\"Jordan: Biased Law Leaves Non-Citizen Children Adrift\",\"Alauda reveals Kickstarter for Mark 1 Airspeeder, Australia\\u2019s first flying racing car\",\"Syria bombing: US military denies mosque was hit\",\"SCRMC hosts community health fair in Laurel - WDAM-TV 7-News, Weather, Sports-Hattiesburg, MS\",\"Center of Attention: Nick Mangold retires as member of Jets\",\"\\u0414\\u0435\\u0432\\u0443\\u0448\\u043a\\u0430 \\u043e\\u0431\\u043d\\u0430\\u0440\\u0443\\u0436\\u0438\\u043b\\u0430 \\u043d\\u0430\\u043c\\u0435\\u043a \\u043d\\u0430 \\u0431\\u0443\\u0434\\u0443\\u0449\\u0435\\u0433\\u043e \\u043c\\u0443\\u0436\\u0430 \\u0432 \\u043f\\u0440\\u043e\\u0448\\u043b\\u043e\\u043c\",\"Toowoomba students determine to make difference\",\"Cause of plane crash that killed former Alberta premier Jim Prentice to be released\",\"Nyarkotey College Of Holistic Medicine Holds Public Lecture On Alternative Medicine\",\"Steve Hansen picks strong New Zealand side for Samoa warm-up match\",\"Pregnant woman caught on CCTV tripping 4-year-old boy\",\"Boy killed by car was relative of Amadou Diallo\",\"Right Wing Terror Plot Thwarted in Oklahoma City\",\"BRIEF-PPG reports Q1 EPS of $1.29\",\"LPC: Refinancing rules, M&A sinks in Q1 US syndicated lending\",\"Canadiens hire Claude Julien as coach\",\"In the time it takes to tweet, Roseanne Barr loses her job, keeps tweeting\",\"Ocean Ranger, 35 years later: 'I'm glad I took the pictures. Because without that, we'd have nothing'\",\"Bristol Rovers v Shrewsbury Town preview: Team news, injuries, latest odds and form\",\"Ryan: We can take a deep breath but the pressure's still on\",\"California woman wakes up to mountain lion snatching dog from bed in the middle of the night\",\"17-Year-Old Girl Dies From Shark Attack While Surfing, With Her Mother And Sisters Looking On\",\"Five drug peddlers nabbed in Minglanilla\",\"Trump administration planning to impose tariffs on European steel, aluminum\",\"ICC Champions Trophy 2017: SK Play of the Day, Fakhar Zaman's unexpected catch to dismiss Moeen Ali\",\"Derek Fildebrandt cannot return to United Conservative Party: Kenney\",\"Teen bitten by shark on first day of Florida vacation, family says\",\"Toxic 'garbage day' might explain how Alzheimer's spreads\",\"Newsleak probe to complete within 10 days, LHC told\",\"Why Jantar Mantar may be irreplaceable\",\"Juvenile Arrested Following Wednesday Night Accident\",\"CONSUMER: Portugal cruise holiday turned into a nightmare for Portsmouth pensioner\",\"Al Jazeera wins Peabody for The Cut documentary\",\"Court filing claims Education Dept illegally got SSN data - NBC12 - WWBT - Richmond, VA News On Your Side\",\"Glasgow 2018 launch triathlon event to coincide with European Championships\",\"Court makes best interests ruling on man\\u2019s adherence to Islamic practices\",\"From the Mound\",\"Oculus launches live entertainment app Venues for Oculus Go and Gear VR headsets\",\"Stunner! Jacqueline Fernandez goes desi\",\"Toughest series in my career: Chandimal\",\"'We have to avoid a scenario where we are importing fodder'\",\"LIVE: David Wagner and Jose Mourinho face the media after Manchester United beat Huddersfield Town\",\"Stuntwoman Killed On Set Of Deadpool 2\",\"Baez to play 2B in WBC\",\"Death row inmate Lam Luong to get a new interpreter - FOX10 News | WALA\",\"This is the resume format most hiring managers want to see\",\"CITRO\\u00cbN C4 Picasso range celebrates 181 with a free equipment upgrade\",\"Three goalkeepers in 22-member squad for Netherlands tour\",\"Cafeteria worker fired for giving food to students without money\",\"Animal activist rescues 9 greyhounds from slaughter in China\",\"Dodgers send prized prospect Buehler to Single-A for now\",\"G Perico Wants To Share The Wealth With 'Everybody' : NPR\",\"\\u2018Westworld\\u2019 Season 2 Theory: Is Dr. Ford The Weapon?\",\"Plowing Instead of Partying\",\"Amazon to block Australian shoppers from its US websites\",\"Austin Beck: Oakland Athletics first round selection in 2017 MLB Draft [Watch]\",\"Smart Office Market: Latest Innovations, Drivers and Industry Key Events 2017 - 2027\",\"Did you own a \\u2018Phat\\u2019 PS3? You could be owed $65 - but you have to claim it soon\\u2026\",\"Toachi Mining Inc. Announces Issuance of Options\",\"Fifth Down With Center Ali Marpet: McCoy, Marley And Scarlett\",\"Yemen\\u2019s children starve as war drags on\",\"Anthony Watson: Jamaica's first ever skeleton slider who ditched the bobsled to make Winter Olympics history in PyeongChang\",\"New Study: Human Ancestors Walked on Two Legs at Least 3.6 Million Years Ago\",\"Sunderland's Puregas Solutions named North East's fastest growing company\",\"Alexander Zverev shocks Roger Federer in Montreal\",\"Flight crew member eats food meant for passengers, 'suspended and disciplined'\",\"PHOTOS: London apartment tower fire\",\"Cryptocurrency Slide Shows Intense Volatility and Skittishness of Investors, U of R Economist Says\",\"Kenya: Court Blocks Joho Arrest, Prosecution Over Certificate\",\"Goose levels Michigan golfer, reasserting dominance over all humankind\",\"Eagles' Fletcher Cox: Ruled out Sunday\",\"Texas man freed after being found innocent in 2001 killing\",\"PSA: Stop uploading your bitcoin wallet keys and credit cards to file-sharing sites\",\"Panthers a basket better than Shockers\",\"Spring Gallery Night\",\"Sixers\\u2019 Joel Embiid Enjoys His Offseason By Dunking On Pickup Players At A Philadelphia Playground\",\"Overweight graphic designer drops NINE stone\",\"Nufam wants new board of directors for Malaysia Airlines\",\"Joseph Benavidez Makes His Case for Third Title Shot\",\"Taste of San Juan launches events leading up to Swallows Day Parade\",\"NU President, Community Respond To Violent Rally In Virginia\",\"Will Steve Bannon Be Fired? Former Trump Adviser Says He\\u2019ll \\u2018Blow\\u2019 McMaster, Drudge \\u2018the F**k Up\\u2019 If Adviser Is Ousted\",\"BRIEF-U.S. Army awards Lockheed Martin $161 million contract for ATACMS missiles\",\"Theresa May remains positive about Brexit deal after Ireland issue warning over commitments\",\"Lewis Hamilton opens up and explains the real reason he is signing new Mercedes contract\",\"Cosby lawyers slam accuser as 'pathological liar' at trial\",\"Game #52 Review: Toronto Maple Leafs 5 vs. New York Islanders 0\",\"The Latest: Gowdy disputes claim of spy on Trump campaign\",\"'Avengers: Infinity War': The Spoiler-Free Review\",\"Suicide bomber kills 36 at Baghdad market, in attack claimed by ISIS\",\"Flynn departure erupts into a full-blown crisis for the Trump White House - The Washington Post\",\"RDOS Open Houses on : Composting Sites, Carts and Landfills\",\"Irish retail sales post lowest annual growth rate since 2013\",\"Actor's outburst as audience cheers on England during emotional final scenes of theatre show\",\"Ingraham: Flynn Leaks 'The Stuff Police States Do'\",\"USC vs. Penn State in Rose Bowl: Who has the edge?\",\"Farmers' protests: Short-term crop loans at 4 per cent to douse unrest\",\"BRIEF-R&I affirms ACOM Co Ltd's rating at \\\"BBB\\\" and announces stable outlook -R&I\",\"Lowery-Hart testifies to senate committee\",\"Outcry over rider\\u2019s dressage test: US Equestrian responds\",\"2 on aircraft walk away after it plunges back to ground - KWWL - Eastern Iowa Breaking News, Weather, Closings\",\"Pod of killer whales seen off the coast of Point Loma - CBS News 8 - San Diego, CA News Station - KFMB Channel 8\",\"Prescription Drug Collection Event Planned At Police Station\",\"LAPD Jailer Fired After Controversial Inmate Death\",\"State withdraws child assault case against McBride\",\"This Is Why Uma Thurman Is Angry\",\"A Little Cold Water in His Face\",\"MIT\\u2019s robot maids will do your chores for you\",\"'Vice and Virtue,' YA Fiction (and a Pizza Party!) at Boswell Book Co.\",\"Allegations against RAMA sparks concern\",\"Mum of three children 'murdered in arson attack' doesn't know they are dead as she fights for life in hospital\",\"A century on and climate 'still changing like the weather'\",\"JLo, Drake spend New Year's Eve together\",\"Report: Lesnar retiring from MMA\",\"Naira: Nigeria\\u2019s external reserves at 3-month low, now $30.22 billion\",\"Abbasi sees little chance of Imran becoming PM\",\"Clements hails hard work as St Neots secure safety\",\"US pecan growers seek to break out of the pie shell\",\"Leeds United: Are Championship leaders finally set for Premier League return?\",\"With UNC game looming, Gottfried mum about his future with the Wolfpack\",\"US vows 'end of regime' if N. Korea launches nuclear attack\",\"Peak Fantasy Time\",\"Monday\\u2019s prep roundup: Collegiate tops Southeastern\",\"Pure and Wild still leads R2AK\",\"Google Play Instant lets you try games without having to install them\",\"AL Central Notes: Naquin, Anderson, Soto, Tigers\",\"Sam Smith announces 'The Thrill of It All,' details 2018 tour\",\"Elmvale District High School looking to \\u2018knockout\\u2019 world record\",\"Goaltender Jonathan Quick has made his presence felt on the ice and behind the scenes for the Kings\",\"Twitter users who joined before age 13 facing ban: Report\",\"Lucky hugger Jose Mourinho has the referee and David De Gea to thank as Manchester United march on\",\"MARKET SNAPSHOT: Stock Losses Accelerate As Fed News Conference Is Under Way\",\"Topical Wound Agents Market to Witness Comprehensive Growth by 2027\",\"Students facing admission problems\",\"All 39 Indians kidnapped in Iraq\\u2019s Mosul killed by ISIS: Sushma Swaraj\",\"Man indicted for traffic death last May\",\"ASUU: Ebonyi varsity shuns nationwide strike\",\"Gretchen Carlson Fights Against Sexual Harassment After Fox News\",\"South African Police Watch as Nigerian is Roasted to Death\",\"Obaseki charts security in Edo with Nigerian Air force\",\"How To Get $20,000 Off The Price Of A Master's Degree\",\"Letter to the Editor\",\"Imperial Names Chief\",\"US Army general on S Carolina leave dies of natural causes\",\"#timesup For NRL To Understand How To Respond To Violent Stars\",\"Matty Taylor all smiles as he undergoes surgery after deciding not to leave Bristol City on deadline day\",\"Breaking: RCMP raid Okanagan Falls dispensary\",\"Liberals on track for $4B deficit\",\"James Hodgkinson: Distraught father, political enthusiast, accused Congressional shooter\",\"How a Former US Spy Chief Became Trump\\u2019s Fiercest Critic\",\"Trump praises service members during charity dinner in W.Va.\",\"Local Irish compete for trivia championship\",\"Incendiary Barbara Bush tweets may be a firing offense, tenure or not\",\"Stu News Laguna\",\"Car bomb kills journalist in Somali capital\",\"Pretax profits at Hastings Group soar \\u00a35.2m\",\"I do not blame Bafana fans for being hard on us, says Itumeleng Khune\",\"More commercial leagues needed\",\"Electricity shortage forces Iran to change work hours of state structures in Tehran\",\"\\u2018Positive meeting\\u2019 on Poppy Day memorial\",\"Red Deer woman hopes for return of her 11-year anniversary gnome\",\"The quick and the dead: Prepare for financial market \\u2018extremes\\u2019\",\"Chelsea News: Frank Lampard pays tribute to John Terry after statement\",\"How Cardiff City battered Leeds United with a vicious authority that makes a big statement to their rivals\",\"USAF Total Force Band Plays in 128th Rose Parade [Image 6 of 12]\",\"Comedian Ralphie May Has Passed Away At 45\",\"Glendale woman gets federal prison term in bank fraud scheme\",\"Chaotic Wrestling \\\"Road to Breaking Point\\\" Results - JT Dunn vs. Teddy Hart, More\",\"Attempt To Kidnap 2-Year-Old Foiled By Locals In Assam\",\"From Facebook to Flowers\",\"Arrested Tennessee reporter wins stay of deportation\",\"Could digital detectives solve an ancient puzzle?\",\"Yu Darvish injury update: No structural damage in Cubs pitcher's elbow\",\"Flatpak Linux App Sandboxing Tool Now Works Out-of-the-Box with OpenGL Drivers\",\"Central Coast Counties Receiving More Than $4 Million in Federal PILT Funding\",\"Developers assessing feedback from the community before submitted Exmouth watersports centre plans\",\"Connor Hellebuyck makes 25 saves, Winnipeg blanks Colorado 3-0\",\"Turbulent Senate race now in hands of Alabama voters\",\"Pokemon Quest and Lets Go Pikachu help reinvent the series\",\"Closure of institutions in southern Kaduna punitive, vindictive - SKYSFOM\",\"There's a war on for your mind!\",\"Dubai dream comes true for Kazakh boy without legs\",\"Bakersfield woman reaches out to community to preserve grandfathers tree\",\"Bruno Mars Releases \\u2018Versace on the Floor\\u2019 Video Starring Zendaya\",\"Lucas Torreira's father opens up on Uruguay star's impending transfer to Arsenal\",\"Aldermen and alderwomen honour for six former county councillors\",\"Dundee woman Joy goes bald for foodbank charity\",\"S&P, Dow flat after explosion at New York commuter hub\",\"Dominican Republic News News at Caribdaily.com\",\"VIDEO: Anti-Western Hindu Extremists Assault Couples in India on Valentine's Day\",\"A Year to Protect Democracy\",\"Best Township of the Year - Ahmedabad goes to Adani Shantigram\",\"King of the Cape: How Steve Englert turns college kids into MLB stars\",\"These biscuits costing \\u00a323 EACH are being sold at Selfridges\",\"Virtual exhibit reunites Van Gogh's 'Sunflowers' from Philly, across world for first time\",\"U.S. Treasury confirms China will not be named currency manipulator\",\"Birmingham traffic and travel: School closures, Bus diversions and weather updates after weekend snow\",\"BJP Youth Leader Allegedly Shoots Himself At Girlfriend's Home, Critical\",\"Sungjo Fine, We are leading ceramic parts manufacturer Industry in Korea\",\"Hollingshead's goal, assist lead FC Dallas past Galaxy\",\"Texas Governor unveils school safety plan after deadly shooting\",\"Go to the movies\",\"Developer grew up in affordable housing, now upgrades those buildings\",\"Plant and Insect Diagnostic Clinic - 2017:Year in Review!\",\"Man accused of trying to kill officer being held on $100,000 bon - wave3.com-Louisville News, Weather & Sports\",\"Restaurant Review: Piecaramba!\",\"Chicago State Professor: Roseanne Barr\\u2019s Tweet Is \\u2018Disheartening\\u2019\",\"Mr. Gerald Alvin Hall, age 82, of Silver Creek\",\"Trend towards solar power at Okanagan Valley wineries\",\"Everton can't rely on just Lukaku for goals, says Koeman\",\"Dyche - Clarets fans can dare to dream\",\"State takes first step toward lucrative hemp industry with new r - Hawaii News Now - KGMB and KHNL\",\"Collado recaps busy camp tour\",\"Alexis Sanchez puts in all action display as he poses with fans ahead of Manchester United home debut\",\"Youngest Guv Candidate Makes Generational Pitch\",\"Mom set 4-year-old with autism on fire in bathtub, bound him with belts: court documents\",\"Woman whose husband attacked and stabbed her in her private part speaks from hospital bed\",\"Trump attacks exec for quitting council over Charlottesville - wave3.com-Louisville News, Weather & Sports\",\"RECAP 55: Valentine\\u2019s Day Massacre\",\"UN envoy urges Iraqi leaders to form an inclusive government\",\"SunCycles to introduce \\u201cFall Suspension electric Fatbike\\u201d at the Tourism Expo\",\"Canada advances to quarters with 4-0 win vs South Korea\",\"Basketball Eagles wrap up road schedules\",\"Singapore Hospital Market Research Report-Ken Research\",\"Study: Caffeine in the womb linked to child obesity\",\"2017 Hyundai Verna reaches showrooms; interiors REVEALED in new images\",\"Exclusive: ECB calls for tougher regulation of foreign bank branches\",\"Kayla Moore Denies She & Roy Are Anti-Semitic: Our Lawyer Is Jewish\",\"Death toll rises to 12 in London apartment building inferno\",\"Germany's Siemens to build 2 power plants in Libya\",\"Hero 'thought he was going to die' when burglars he tried to stop attacked him with metal bar\",\"How journeyman Sunil Chhetri put down roots\",\"Franco\\u2019s Film Humanizes Cult Classic\",\"Louisiana considers giving more old prisoners a chance at parole\",\"On the cards: Revenue surge for China's Tencent from popular fantasy game\",\"Long delay for Lake Louise tree-cutting sentence\",\"Rights for demolishing of buildings rest only with Chairman PBMC and Council: MP\",\"Unfazed by Brazil's army, Rio drug gangs willing to wait out occupation\",\"Sri Lanka hit new low following whitewash\",\"Man who thought he was doing company CEO a favour scammed out of thousands: police\",\"Thom Yorke calls critics of Radiohead\\u2019s Israel concert on July 19 \\u2018offensive\\u2019\",\"Kyle Kashuv Pulled Out of Class, Questioned by Security for Visiting Gun Range With Father\",\"Thai crocodile bites selfie-seeking French tourist in leg\",\"Health chief, 4 others charged with manslaughter in Flint\",\"350 pot plants found at scene of California commercial fire\",\"Shannon Kula, a Democrat, declares for Esty's seat\",\"Monday\\u2019s TSX breakouts: A stock with dividend hikes, growth and a 22% return forecast\",\"Wildlife park: Bear cubs rescued after mother is euthanized\",\"After brief relief, forecasts indicate drought will continue\",\"LoP `disappointed` over not receiving oath\",\"FDA approves artificial iris - WAFB 9 News Baton Rouge, Louisiana News, Weather, Sports\",\"53-year-old man shot, seriously wounded in West Pullman\",\"Many People With Eating Disorders Have an Anxiety Disorder Too\",\"Rwanda: How Realistic Are Proposals in Property Tax Bill?\",\"Texas Families Anticipate Decision On CHIP\",\"Turkey's Erdogan to be inaugurated on July 9, gains some more powers\",\"White House suspects Kelly's personal cellphone was compromised\",\"The mentally ill must be part of the assisted-dying debate\",\"NLDS: 'Been there, done that' Cubs vs. zero-series-won Nats\",\"Turkish authorities suspect Islamic State responsible in nightclub attack\",\"Parkland Commission Begins Investigation Surrounding Deadly Florida Shooting\",\"The Latest: Russian skater Medvedeva breaks own record\",\"Upcoming \\u2018Carpool Karaoke\\u2019 Series Looks Epic\",\"Vegas Media Distraction - Catalonian Independence\",\"Find Best Melbourne Airport Pickup Services for Wonderful Travel Experience\",\"Stagecoach 2018 set times: Find out when Keith Urban, Kacey Musgraves are performing\",\"Get It Together: 5 Tips For Creating a Healthy Snack Drawer\",\"UK Stocks-Factors to watch on May 31\",\"Kasus Korupsi KTP-el, KPK Gali Keterangan Eks S\\u2026\",\"Ryanair flights: Hand luggage costs increase again for passengers\",\"Collaborative Research Project For 2nd-Gen SBAS\",\"Nick Jonas\\u2019 Super Bowl Halftime Show Dream: How He Plans To Get There\",\"Wendy Williams Health Crisis- Host Caught Burping & Coughing In First Show Back\",\"How Philadelphia Eagles will approach the challenge of facing yet another veteran QB\",\"CANADA STOCKS-TSX rises as pipelines, railways gain\",\"Decanter at Vinexpo Hong Kong\",\"Dry weather\",\"Sainsbury's shelf-stacker finds missing girl from his bedroom 5,000 miles away\",\"Fireworks, theme nights highlight Boomers' 2018 promotion schedule\",\"Essential will still support its Essential Phone, despite reported company drama\",\"Story lines to keep an eye on in SB52\",\"This century means the world to me: KL Rahul\",\"Study: One-fifth of Americans find their workplace grueling, stressful and hostile\",\"Eagles announce tour with Glenn Frey's son\",\"Big Red makes return trip to Maryborough\",\"Ocean Springs leaders vote to close portion of Government Street - WLOX.com - The News for South Mississippi\",\"Philippe Coutinho will miss Liverpool's game with Hoffenheim\",\"Rates: Where's The Drama?\",\"'Golden Globes 2018': Why is 'Get Out' a comedy?\",\"Fire warning issued for much of Arkansas, Oklahoma\",\"South Jeffco Sports Association to Outfit All Players in Guardian Cap Helmets\",\"Japan to release Hello Kitty bullet trains on June 30\",\"Infant found safe after parents fled 300 miles with newborn\",\"UPDATE: Waterloo bans fireworks use within city limits - KWWL - Eastern Iowa Breaking News, Weather, Closings\",\"How Fed rate hike will affect U.S. consumers\",\"Aaron Rodgers return: Will Packers QB start Sunday?\",\"Syrian government calls on refugees to return home\",\"Real-Time Bioprocess Raman Analyzer Market Drivers, Restraints, Opportunities, and Threats 2018 - 2028\",\"Online Tours Offer New Realm for Ag Producers to Tell Story\",\"The Latest: House, Senate officials say no threat to Capitol\",\"Limerick councillors call for CCTV to tackle fly-tipping\",\"NY governor 'ashamed' at failure of US to help Puerto Rico\",\"Newmarket and Haverhill based physio gets his boots on to support cancer charity\",\"Rectory House Nursing Home\",\"Mechel Prolongs Coal Contract With China's Baosteel Resources Until 2019\",\"The Foodie Behind Instagram\\u2019s Cutest Toast (Minions! Toy Poodles!) Shares Her Secrets\",\"Gary Neville blasts Liverpool's \\\"crazy\\\" decision to allow Daniel Sturridge to leave for West Brom\",\"Pamela Becker to address benefit for Jeremy\\u2019s Circle\",\"Our Time\",\"NATO vows \\u2018unity\\u2019 at Trump defense chief\\u2019s debut\",\"Elon Musk\\u2019s OpenAI is the new Dota 2 champion\",\"BRIEF-GSO Capital Partners reports execution of binding agreements for the sale of common shares of Stars Group\",\"In closing arguments, Cosby called a serial predator, accuser called 'pathological liar'\",\"Revealed: Mahira Khan, SRK\\u2019s latest sizzling Raees poster\",\"Kim Jong Un Climbs Mountain Paektu in Spotless Shoes: Twitter Reacts\",\"Prithviraj Sends Out A Still From The Location Of 9 & It Is Mind-boggling!\",\"See All the Stellar Beauty Looks From the Teen Choice Awards\",\"DEBATE: Should the Garden Bridge idea ever have been taken seriously?\",\"Kurt Angle Adds New Title Match To WWE Summerslam PPV, Are Ambrose & Rollins Back On The Same Page?\",\"Fire at Merry Acres extinguished before firefighters arrive - WALB.com, South Georgia News, Weather, Sports\",\"The need for sunscreen\",\"Ben Cardin accuses Trump of distancing himself from American values in Charlottesville response\",\"Emails were like \\u2018a daily beating:\\u2019 revenge website trial enters third day\",\"Theresa May Is Seeking An Early General Election On 8 June\",\"Melissa Benoist: First Look at Her as Carole King in Beautiful\",\"Thunder's Steven Adams: Double-doubles in loss\",\"Boys & Girls Clubs in Maryland Awarded Four New Grants By the Amerigroup Foundation\",\"Cape2Rio yachts glide out of Table Bay\",\"Launch of Wagner-backed tourism group draws 500\",\"CITY OF TUSCALOOSA CONSIDERING THE PURCHASE OF PATRIOT PARKWAY OFF HIGHWAY 69\",\"Kobe earthquake offers disaster lessons\",\"Fitalley is for sale on BrandBucket\",\"Fiat Chrysler to layoff 3,200 Toledo workers\",\"LOL!!! Check Out The Jewish \\u2018Pyramid\\u2019 Discovered in Israel\",\"Letter to the editor: Tax bill for warplanes and wealthy lacks decency\",\"'Rogue One' tops box office for third straight weekend\",\"Unclaimed property Division returns large amounts in September\",\"Cleveland Clinic's Toby Cosgrove to remain an advisor to President Trump in light of Merck CEO stepping down\",\"Yankees' Jacoby Ellsbury: Benched for second straight game\",\"Justin Bieber Directs Traffic in the Hamptons After His Mercedes Breaks Down\",\"More teachers resigning from Muncie Community Schools amid financial crisis\",\"How a King\\u2019s love of tennis sealed his murder\",\"Clear Steps to Easy Reading and Perfect Spelli\\u2026\",\"Single Irish electricity market must continue after Brexit, UK minister says\",\"CSOs urge Pres. Buhari to sign Not-Too-Young-To-Run Bill\",\"Glasgow Film Festival opens with Handsome Devil\",\"BlackRock cuts CEO Larry Fink's pay 'modestly' in 2016 - filing\",\"Majic Mic \\ud83c\\udfa4: These celebrities successfully dipped their toes into politics\",\"Heartbreaking video shows emaciated polar bear struggling to survive\",\"In bid to buy sway in Jerusalem, Turkey renovates Muslim Quarter\",\"Barty reveals strategy to take down Serena\",\"Chinese premier upbeat about China-Russia business ties\",\"Pedestrian killed by driverless Uber, company suspends program\",\"Global Amino Acid Water-soluble Fertilizer Market 2018- Haifa Chemicals, Yara, Arab Potash Company, Omex, Everris\",\"Auditors becoming more conscious of their duty: Dinesh Kanabar, CEO, Dhruva Advisors\",\"Rangers hold off \\u2018Hounds with Culina shutout\",\"Vontaze Burfict avoids fine from NFL after questionable penalty\",\"Mockingbird Bridge Officially Opens\",\"Ayckbourn Jnr offers Lewes play\",\"Grass fire danger elevated Monday\",\"Kagiso Rabada wins appeal, has suspension overturned\",\"Series of fires turn up heat on the government\",\"Cougars leading scorer Franks returning for senior year\",\"Ford tells supporters he can 'take back' Ontario\",\"Barton preaches defence spending, but Sajjan says Ottawa spent $2.3B too little\",\"John Terry set to leave Chelsea\",\"Now you can climb Mount Everest in VR\",\"One in two here under private health plans\",\"Former Alabama officer arrested, accused of rape - WBRC FOX6 News - Birmingham, AL\",\"Man charged with shooting 2 live deer impaled with arrows\",\"Thermoset Resin Market Size, Revenue, Status and Forecast 2024\",\"5 Marijuana Myths You Should Not Believe\",\"Beaver herds cattle in Sask.\",\"Zinke set to tour Organ Pipe Cactus National Monument in Ajo\",\"Russia\\u2019s Vladimir Putin, Egypt\\u2019s Sisi discuss nuclear deal, Middle East tensions\",\"Penn State has nation's No. 1 recruiting class; how Trace McSorley became an \\\"X-factor\\\" and more\",\"Indian Air Force AFCAT, STAR To Be Held Online; Registration 15 December Onwards\",\"Wolfpack ready to take on Championship challenge without familiar faces\",\"IS claims New Year's attack on Istanbul nightclub\",\"Check Out What Went Down At The Jalopnik Trivia Night\",\"Emma Smith obituary\",\"Jacob Rees-Mogg 'scuffle': Politicians condemn protester that storm university debate\",\"Toronto Transit To Send 75% Of Its Bombardier Streetcars Back For Repairs\",\"Maduro named as Venezuela\\u2019s socialist party candidate\",\"Fight animal cruelty with cupcakes\",\"TZ, Kenya agree to end trade disputes\",\"As Chicago Prepares For 40th Marathon, Security Remains Top Of Mind\",\"Bristol is one of the least affordable cities to live in the UK - with house prices EIGHT TIMES more than wages\",\"Confederations Cup: Socceroos braced for more football lessons after Brazil humbling\",\"Judge dismisses complaint against pipeline security company\",\"Barnet V Coventry at Hive Stadium : Match Preview\",\"Eliminating injustice imposed by the death penalty\",\"Barcelona Transfer News: Ousmane Dembele set to replace Neymar at the Camp Nou\",\"Cheshire museum to host musical journey through A-Z of science\",\"Millennial Theatre Project Performs \\\"Bonnie & Clyde\\\" at Akron Civic Theatre\",\"Ashley Graham works out before Coachella\",\"British lesbian wins the right to live with her partner in Hong Kong\",\"Boxing/UFC News: Conor McGregor vs. Floyd Mayweather bout officially announced for 26th August 2017\",\"Ambulance crash kills passenger en route to nursing home\",\"Need gift ideas for guys? We've got them\",\"Lupus support group sets next Willoughby meeting\",\"Ford cars review\",\"Rockwell Avenue bridge nearly done\",\"Assassinated brother of N. Korea leader to undergo autopsy\",\"Nassau/PI resorts in New Year sell-out\",\"LINDA C. BLACK HOROSCOPES for 1/2/17\",\"Not much headway made in Rajiv murder conspiracy probe: SC\",\"Wraylynn Victoria Sativa Nance\",\"Badakhshan, China\\u2019s Xinjiang agree to boost economy, trade\",\"PM calls for joint efforts against terrorism\",\"The rise of Online Prescription Services\",\"49ers say Reuben Foster to be cut if charges proven true\",\"Four Continents figure skating championships returning to US\",\"La Fleche Wallonne 2017: When is the race, what TV channel can I watch it, what are the betting odds and what does the startlist look like?\",\"Algae species in Swiss lakes are homogenising, researchers find\",\"9 Best Cocktails For A Sunny Day According To Bartenders\",\"GOP congressman, Capitol police, others wounded in shooting\",\"WATCH: Anna Paquin Spots Herself In NSFW BBC News Clip\",\"Mansarovar Park Murder: 4 Women of a Family, Guard Found Dead; Property Dispute Suspected\",\"Perris Auto Speedway ready for new season, same steady announcer\",\"You should be making your own yogurt-here's how\",\"Ottumwa to Host Gubernatorial Candidates\",\"Kansas lawmakers\\u2019 work to be shaped by big fiscal questions\",\"Triline Quality Door Systems Provides Easy-to-Install Cavity Sliders with the Triline Phoenix\\u2122\",\"What we know so far as serious crash closes M62\",\"Gregory Campbell recalls Ray Wilkins' compassion to the homeless in touching tribute to late footballer\",\"Parents write about their kids in the hospital\",\"\\u2018Roseanne\\u2019 Reboot Canceled After Her Racist Twitter Rant.\",\"Just In: Buhari in closed-door meeting with APC governors in Aso Rock\",\"Listen to The Killers\\u2019 New Track \\u2018The Man\\u2019\",\"Scientists create safer pig organs with goal of transplants for humans\",\"Mueller investigating Trump for obstruction of justice, Washington Post reports\",\"Dr Ismaila Ceesay Released\",\"Top general warns North Korea: US military is ready\",\"'Holiday from hell' family claim 'Fawlty Towers' Thomson trip left them sick and bedbound\",\"Fed unlikely to change its policy tack: analysts\",\"The business of giving: Why corporate philanthropy is more than just good PR\",\"Heinrich endorses VeneKlasen for land commissioner\",\"Savannah mayor used St. Pat's visit to lobby Pence on harbor\",\"What is The Louisville Accord?\",\"Woman disguises grandmother's dog as baby to smuggle it into hospital\",\"Scores of medical pot permit applications could produce millions of pounds of...\",\"The Eternal Optimist Presents a 30 Part Column Series\",\"Officers suspended for failing to investigate 911 call\",\"Marine turtles dying after becoming entangled in plastic rubbish\",\"Goss on target as Heart defeat Leighton\",\"CORNELL CLOSE-UPS | Award-Winning Poet, Professor Captures \\u2018Spirit of Caribbean\\u2019\",\"Peter\\u2019s gospel on Khama\",\"BRIEF-Zumiez reports April sales $56.5 million\",\"Which? Elderly Care\",\"Doc wanted to leave home before she was murdered\",\"Howard Webb explains why referee Lee Mason was right to send off Manchester City's Fernandinho against Burnley\",\"J&K: Three Security Personnel Injured in Grenade Attack in Budgam\",\"Bagley chooses Duke, could make Blue Devils preseason No. 1 - WECT TV6-WECT.com:News, weather & sports Wilmington, NC\",\"Roberts won\\u2019t seek reelection\",\"New Jersey sets aside $5M for pilot local news program\",\"Even Trump\\u2019s Aides Blame Him For Obstruction Probe: \\u2018President Did This to Himself\\u2019\",\"IoT Security Breach Costs Smaller Firms 13 Percent of Annual Revenue\",\"Cartridge Pre-filter Market Growth Opportunities by Regions, Type & Application; Trend Forecast to 2018\",\"Google to Provide Puerto Rico Cell Service Using Balloons\",\"NGN3 June Movie Schedule\",\"Carers' Support Group\",\"The Big Sick Scores\",\"Unseen for weeks, Melania Trump tweets she's 'feeling great'\",\"How Sully Motsweni allegedly milked SABC\",\"Greyhound trainer allegedly behind Hunter Valley mass grave banned from sport for 15 years\",\"Final Buzzer: Skating on Olympic Ice\",\"Even modest Nadal impressed by record 31st Masters title\",\"Buccaneers' Kendell Beckwith: Impressive in first game action\",\"WATCH: Unreal dribble move by Wolves' Kris Dunn mystifies Blazers defender\",\"Blake Griffin calls himself \\u2018a physical marvel\\u2019 in funny scene from his first movie\",\"Saudi's Public Investment Fund to make half of investments domestically - prince\",\"BRIEF-Mcdermott International Q1 Adj Shr $0.17\",\"Here\\u2019s how Anushka Sharma reacted after Virat Kohli\\u2019s century\",\"Letters: We\\u2019ll all be poorer if NDP-Greens kill pipeline\",\"Bihar: CM Nitish Kumar\\u2019s son, his deputy richer than him\",\"Internet Archive Emulates '80s Macintosh OS and Games\",\"Can someone answer these questions?\",\"Local band programs receive donation from community group - WAFB 9 News Baton Rouge, Louisiana News, Weather, Sports\",\"Jibran detained for \\u2018violating judge's protocol\\u2019\",\"The China-Russia-Canada-America Train / Tunnel Link?\",\"Snap-on says Pres. Trump visit will highlight manufacturing\",\"Seven heaven for highscoring United\",\"US CPI preview: Strong print would make December rate hike more likely - Wells Fargo\",\"Peak Behavioral Services Hiring a Behavioral Therapist\",\"First Nation suing CN for $30 million\",\"UK police probing 6 assault claims against Kevin Spacey\",\"Winnipeg Jets' Dmitry Kulikov forgoes surgery on injured back\",\"Some say Trump's condemnation of hate groups is not enough\",\"Nightmare: Facebook Gave Users the Option to Search for Child Pornography\",\"In Germany, Churchgoers Are Encouraged To Tweet From The Pews\",\"Fish and chips and flu pills: Sick customer\\u2019s delivery order goes viral\",\"JFK Mail Facility tries to foil fentanyl smugglers trying new tricks\",\"BRIEF-Paulson & Co cuts share stake in Teva Pharmaceutical, Sanofi\",\"Britain\\u2019s snap election: What\\u2019s next, and what the parties stand to gain\",\"Pioneer's New 'Rayz' Lightning Earphones Come With Built-In iPhone-Charging Port\",\"Don\\u2019t be caught by a four-day GP shutdown over Christmas\",\"Eclipse Resources Corp (ECR) Valuation Review\",\"Nest Hello is now available in the UK for \\u00a3229\",\"Chief justice: Influx of wildfire claims expected | News & Observer\",\"China's foreign minister to visit Vienna for Iran nuclear deal talks\",\"Huron University College students boost own fees to help refugees\",\"Idaho man\\u2019s pet squirrel goes \\u2018nuts\\u2019 on burglar\",\"Amuru man taken to court, cautioned for keeping tortoise\",\"Dana Demonstrates Leadership in Advancing Automotive Fuel Cell Stacks at Hannover Messe 2018\",\"Primark is selling official Love Island clothing and homeware\",\"New app launched to help Singaporeans lead a green lifestyle\",\"U.S. Navy strike group to move towards Korean peninsula - U.S. official\",\"Zara accused of cultural appropriation over its plaid 'check mini skirt'\",\"Tommy J Stamper - News Democrat\",\"Breaking down Bell's Palsy: 6 years later, our Mary King takes a - wistv.com - Columbia, South Carolina\",\"Kirk Douglas celebrates 101st birthday\",\"PRECIOUS-Gold gains as dollar retreats amid rising yields\",\"World's last male northern white rhino, Sudan, dies\",\"Selena Gomez Becomes The News Anchor The World Needs In Hilarious Coach Video\",\"Anaplan Initiates CFO Transition Plan as Anup Singh Steps Down\",\"Phenolic Foam Board Market Growth Opportunities, Industry Analysis, Size, Share, Geographic Segmentation & Competitive Landscape Report to 2021\",\"Vodafone launches SuperNet 4G services in Goa\",\"Outtagrass Cattle Co. - Valentine\\u2019s Day\",\"Chelsea masterclass gives Jose his mojo back\",\"Relentless against bad loans, RBI puts Central Bank of India under prompt corrective action\",\"Five innovations that shaped sustainability in 2016\",\"Michael van Gerwen: I'll need my A-game again to beat Gary Anderson in final\",\"Wartime site planned to be a new crematorium\",\"Success and failure don\\u2019t last for too long: Kriti Sanon\",\"Spectrum FM interview Mojacar mayor and councillors\",\"Ducks move into third in Pacific with 4-2 win over Devils\",\"Trump Bump: 3 and counting\\u2026\",\"The Latest: Reward for suspect's arrest in deputy shooting\",\"1974 Norwin grad, now a district official, says leaving Army to be educator was right choice\",\"Zambia: Suspension of UPND MPs Paves Way for One Street Legislation\",\"In first 100 days, a reversal of fortune for Trump favorites on Wall Street\",\"Pool Safety A Priority In Bradford West Gwillimbury\",\"5 Fostorians injured in two-vehicle crash\",\"How to Install OpenProject on Ubuntu 16.04\",\"All relished magical splatterfest\",\"Hollywood sign is altered to read \\u2018Hollyweed\\u2019\",\"Man United 2, Huddersfield 0: Sanchez nets first Red Devils goal\",\"Allie Teilz: 5 Things To Know About \\u2018GoT\\u2019 Star Alfie Allen\\u2019s Topless New GF\",\"Two new stars join The Real Housewives of Dallas\",\"What is British PM May's working majority? Answer: 13 votes\",\"Novak Djokovic made to work hard for French Open win\",\"City Pages Cocktailian 2017\",\"Scott Porter reveals wife Kelsey is expecting\",\"Cascades snowpack far above normal as wet NW winter fades\",\"100 Rules of Success: Investing Part 3\",\"What Is Amazon Key In-Car? The New Service Will Deliver Packages To Your Vehicle, But There's A Catch\",\"Cuts to CDC epidemic programs will endanger Americans, former chief says\",\"Teachers picket union over pay hike\",\"LETTER: If she could have her way...\",\"Inquiry launched into \\u2018David G\\u2019 boat accident\",\"Bird strike in engine damages Blue Angels jet at air show\",\"Jury meets to consider Dylann Roof sentencing\",\"Curtain Call's Winter 2018 Theatre Arts Classes for Young and Old\",\"Ald. Reilly calls for more police manpower downtown and along the lakefront\",\"Who\\u2019s going to be in the new series of Love Island?\",\"'We are going to win' - Ighalo optimistic ahead Zambia clash\",\"German eurocrat insists Brexit free trade deal WON\\u2019T HAPPEN\",\"Ethan Happ will return to Wisconsin for senior season\",\"BRIEF-SPECTRUM BRANDS HOLDINGS ANNOUNCES DEFINITIVE AGREEMENT TO ACQUIRE PETMATRIX\",\"Dan\\u2019s Deli coupon bill passes\",\"Jaden Smith Dons Infamous White Batman Suit for \\u2018Batman\\u2019 Music Video\",\"De Minaur, Whittington get wild cards for Australian Open\",\"Knee injury ends left tackle Cole Mosier's Kentucky career\",\"CT New York NY Zone Forecast\",\"Syrian opposition says talks with Russia over southern Daraa 'fail'\",\"Co-owner of auto biz ordered to pay $722K in tax fraud case\",\"2018 BMW 6 Series GT Revealed\",\"\\u0412 \\u041f\\u0440\\u0438\\u043c\\u043e\\u0440\\u044c\\u0435 \\u043f\\u043e\\u0434\\u0440\\u043e\\u0441\\u0442\\u043a\\u0438 \\u043f\\u0435\\u0440\\u0435\\u0432\\u0435\\u0440\\u043d\\u0443\\u043b\\u0438\\u0441\\u044c \\u043d\\u0430 \\u0440\\u043e\\u0434\\u0438\\u0442\\u0435\\u043b\\u044c\\u0441\\u043a\\u043e\\u0439 \\u043c\\u0430\\u0448\\u0438\\u043d\\u0435, \\u043e\\u0434\\u0438\\u043d \\u043f\\u043e\\u0433\\u0438\\u0431\",\"Grand Ole Opera at Pioneer Works, Brooklyn July 2017\",\"In its upcoming season, Broad City will bleep Donald Trump\\u2019s name\",\"Emma Thompson attends The Meyerowitz Stories UK premiere\",\"There are many youtuber\\u2019s just who make video\",\"Study: Most drivers, not just young, are taking risks\",\"Infowars host Alex Jones argues persona in custody dispute\",\"Senators sign Paajarvi to one-year extension\",\"Israeli media: Police to question Netanyahu for corruption\",\"All Share Index Falls By 6.47%\",\"Colts\\u2019 offense, defense dealing with missing parts during offseason work\",\"Decider\\u2019s Sitcom Advent Calendar Day 11: \\u2018The Office\\u2019 Employees Endure The Yankee Swap From Hell\",\"Chelsea Conrad Brings The Strip Club Experience To Your Instagram\",\"C/R, B/A NPP hold successful polls\",\"Confidante of con-artist who stole $275,000 reveals how she tricked people\",\"'Took fake news to the next level': Facebook data whistleblower on U.S. election\",\"Eight die of Lassa fever in Nasarawa\",\"BRIEF-Gowing Bros appoints agent to run expression of interest process for Port Central Shopping Centre\",\"Jarrod Woodgate says meeting Keira Maguire was 'fate'\",\"Police: Brother Fatally Shoots Sister, 13, After Fight Over Video Game Controller\",\"How An Alaskan Family\",\"Budget 2017: how can it help the five million \\u2018working and struggling\\u2019?\",\"Leaders' informal meeting to break new ground for China-India ties\",\"Jay Royals get breakthrough win against Northview\",\"Fresh feel to old continental rivalries\",\"9 Uplifting Books To Read After Your Next Not-So-Great Date\",\"Is dark chocolate healthy?\",\"Google to pay Apple $3 billion to remain on iPhone\",\"Local non-profit repairs abandoned home for homeless youth\",\"Call of Duty: WWII multiplayer trailer revealed ahead of beta release August 25\",\"Voters urged not to abstain\",\"Foreign banks step up in Taiwan\",\"Perfect strategy behind USA\\u2019s historic cross-country gold\",\"Vitamin pills 'don't make you healthier' as the one worthy supplement worth taking is revealed\",\"Donald Trump said a New York Times source in the White House doesn't exist. He does\",\"Gisele to bid for City South seat\",\"Adam Voges appointed new WA cricket coach to replace Justin Langer\",\"The Latest: Cosby jury to begin deliberating Wednesday\",\"Dick's Sporting Goods successfully defies NRA as sales rise despite gun policy\",\"Armor Protection Systems Market: Recent Industry Developments and Growth Strategies Adopted by Players\",\"China not afraid to fight after US revives tariffs\",\"Calgary Flames captain in great company being nominated for sports humanitarian\",\"Archaeologists urge Albania to protect underwater heritage | Bradenton Herald\",\"Cheese puffs? Iran says Haley showed fabricated Houthi proof\",\"Tell us why: Brodtmann to AEC on Bean decision\",\"'Roseanne' is done, but the Conner family may not be\",\"Modi begins Indonesia visit by laying wreath at iconic military cemetery\",\"The Playoffs Countdown Begins\",\"On a fair note: Women\\u2019s welfare is highlight of Kerala Budget 2018\",\"Former Kan. corrections officer sentenced for lewd behavior\",\"Mendocino\\u2019s Alsace wine festival\",\"Keidel: Eagles\\u2019 Win Feels More Like A Loss\",\"The rise, fall, and retirement of Mangosuthu Buthelezi\",\"Man's arm ripped off after getting it caught in conveyor belt in recycling tip horror\",\"Bryant Volleyball Showcase is Tuesday\",\"Hairdresser ordered to pay back employee\",\"President Johnson's Crime Commission Report, 50 Years Later\",\"Sergio Ramos Targets First Real Madrid Treble\",\"Netflix's first-quarter subscriber additions misses estimates\",\"Andersson the understated symbol of post-Ibrahimovic Sweden\",\"Watch Addison Agen\\u2019s Top 8 \\u2018Voice\\u2019 performance\",\"Towson senior John Davis to miss remainder of basketball season after being shot in leg\",\"Aitor Karanka names three new signings in Nottingham Forest team to face Fulham\",\"Columbus city leaders herald new era for South side with demolition of former nightclub\",\"MGM; We really, really want access to that New York market\",\"Meet Chicagoans jumping into the world of bitcoin\",\"The single biggest danger America faces\",\"Jury to deliberate on alleged sex assault\",\"AstraZeneca flags return to drug sales growth in 2018\",\"Meet the sex dolls that can talk, play music and even 'help with chores around the house'\",\"California wildfires have destroyed area larger than NYC and Boston combined\",\"Raytheon names former U.S. deputy defense secretary to board\",\"Record food drive sparks momentum\",\"Mutual funds invested 7.37% of equity AUM only in IT sector in April\",\"Transformational Leaders: The Top Trait That Separates Them From The Rest\",\"Brussels airport tells passengers to stay away after snow\",\"Zinara allocates paltry $10 million to local authorities\",\"Brewers trade catcher Andrew Susac to the Orioles\",\"Amazon is coming to Lancaster\",\"UPDATE 1-Barclays CEO Staley investigated for whistleblowing breach\",\"Haitian News News at Caribdaily.com\",\"BARNARDOS LAUNCH NEW CAMPAIGN TO HIGHLIGHT HIDDEN HOMELESSNESS\",\"De Rossi blames long balls for Roma 'blackout' at Anfield\",\"Robert McKay, who designed first Taco Bell and turned it into fast-food empire, dies at 86\",\"Road Maintenance Updates\",\"Karrie Webb gets special exemption into 2018 U.S. Women's Open\",\"Not even strong performances can revive 'Fantasticks'\",\"Driver fighting for his life after crashing into tree\",\"World Championships: Armenian gymnast takes 13th spot\",\"Liverpool mad groom falls to his knees after his idol Steven Gerrard delivers special message at his wedding\",\"Residents say crumbling road could prevent carrier from delivering mail\",\"Tips for simplifying your beauty routine\",\"Bingo in Yorba Linda could come with a drink\",\"ABA lawsuit against Education Department awaits hearing date\",\"Mexico Ruling Party Says Rules Aimed at Stopping Rise of Left\",\"Long crown positions cast shadow over Czech market\",\"BB&T Corporation - Well Placed For 2017\",\"Senator Fischer officially files for re-election\",\"VC investments dip 28% in 2016\",\"UPDATE: Severe storms possible Monday night - WRCBtv.com | Chattanooga News, Weather & Sports\",\"Blame Akufo-Addo For Galamsey Killings - Kofi Adams\",\"Closing Arguments Heard in Taylor Swift Court Case\",\"Joint custody - An Irishman\\u2019s Diary about cannabis, civil engineering, and two famous O\\u2019Shaughnessys from Limerick\",\"BRIEF-Atac Resources announces property earn-in agreement with Barrick Gold Corp\",\"Judge criticises court staff member after juror\\u2019s note reveals conversation\",\"The \\u2018Blood Moon\\u2019 Has European Space-Watchers Excited, But When Is The Next Blood Moon Visible In The U.S.?\",\"Dublin Planning Commission reforming\",\"Trump planning tariffs on European steel, aluminum\",\"New Yorker Fires Star Political Reporter, Ryan Lizza, After \\u2018Improper Sexual Conduct\\u2019 Allegations\",\"Bergman to perform at Whitney Center for the Arts\",\"Ottawa councillors want better city response if spring floods return\",\"Death notices for July 4 edition: Kaysha Glenn and Frank Arnold\",\"Anthony Rapp Spoke Out About Kevin Spacey Because He 'Knew There Were More Stories'\",\"2019 Audi Q3 To Spawn Plug-in Hybrid And Electric Variants\",\"Union: Strike would cost Las Vegas casinos over $10M a day\",\"Fishing: Roger\\u2019s Remarks for Feb. 14\",\"Christ art removed from Lexington SC church for being Catholic\",\"Lackawanna Trail Board of Education approves elementary Life Skills class\",\"India's regulator reduces third party insurance premium in its latest order\",\"A new state mortgage program requires no down payment\",\"Best Concerts in Dallas This Week: December 11 Through December 17\",\"Lifetime Award for Jim Compton\",\"Walk the Moon Detail the Making of New Album \\u2018What If Nothing\\u2019\",\"Google, Apple and Caterpillar stocks plunge, Dow Jones sinks 425 points\",\"Woodworker's Journal\",\"Sammy Watkins is handling lack of targets differently than he did with Bills\",\"Reports of Ibrahim family connections to farm and food hub\",\"Usually reserved Patriots to be busy in this year\\u2019s draft\",\"All aboard the beer train!\",\"Counter Information\",\"Andre Iguodala out for Golden State in Game 1 of NBA Finals | The Sun Herald\",\"Letter: Tepid response isn\\u2019t enough on immigration order\",\"Cyclists to get \\u2018pioneering\\u2019 two-stage right turn on Leith Walk\",\"Egypt: Sudan Ambassador to Cairo Welcomes Visit of Egyptian Foreign Minister and Calls for Speeding Up Partnership\",\"Dumbarton dive club\\u2019s future is in turbulent waters\",\"DSW Inc. Posts Q1 Earnings Beat, But Shares Dive\",\"Travel: Escaping the winter in the Algarve\",\"White House: Mideast peace may not be 2-state solution\",\"Wild night in Miami: Heat top Nuggets 149-141 in 2 OTs - KOAA.com | Continuous News | Colorado Springs and Pueblo\",\"3 suspects handed terror charges in thwarted French attack\",\"All of the new greasy, meaty and cheese-covered menu items at the Air Canada Centre\",\"Tennis: USA, Kazakhs into last eight at star-stripped Davis Cup\",\"SEBASTIAN SHAKESPEARE on Princess Eugenie's promotion\",\"The Best Movie Trilogies Ever Made - IndieWire Critics Survey\",\"Pune girl Shruti Vinod Shrikhande tops UPSC exam\",\"Philippines says \\u2018strategic shift\\u2019 towards China, but no snapping ties with US\",\"Golden Knights will have James Neal in the lineup for inaugural game\",\"Barneveld\\u2019s Whitish named Big Ten Women\\u2019s Player of the Week\",\"Alabama band to march at inauguration, igniting controversy\",\"Manchester BME Inspiration Day\",\"Zimbabwe rugby team receive apology after sleeping on the street in Tunisia\",\"These Footsie giants soared in Q4. Time to sell up?\",\"Tips for Recovery after Gynecomastia Surgery\",\"Kentucky Crafted Tour\",\"Sanctioned for drugs, Venezuelan vice president slams U.S. 'aggression'\",\"Trans Mountain is a stick right in the eye of the Liberals' own people\",\"Canadaa s FYidoctors Adds Ontario and British Columbia Optical Practices\",\"NFL's audience dropping, poll says\",\"NCCU grad who serves with Capitol Police among those injured in Virginia shooting\",\"Soccer-Arsenal beat City to reach FA Cup final with Chelsea\",\"What Do We Have Against Oral Health?\",\"Analyst warns B.C. gas prices could soon hit a record high\",\"Three more Russian athletes file doping appeals - sport court\",\"VOTING AREA AT HIGH SCHOOL ELECTION DISTRICT 1-2, CHANGES TO CAFETERIA. CREATES 2 WAY TRAFFIC ON ENTRANCE WHEN IT\\u2019S USUALLY 1 WAY 9 AM to 3 P.M..\",\"Former home of Borders author Walter Scott on market for \\u00a31.25m\",\"World Cup Fantasy Football tips: Defenders to sign for the quarter-finals\",\"Cold War Surf in Asbury Park\",\"Armenia asks Russia for help in putting out forest state reserve fire\",\"1 killed, 6 injured in Long Beach apartment fire\",\"15 celebrities who openly deal with depression just like any of us.\",\"OS Man sentenced to more than 13 years in prison on child porn c - WLOX.com - The News for South Mississippi\",\"An Unexpected New Stop on the Road to Broadway: Edmonton\",\"Volunteering At Elephant Shelters Became Our New Way Of Travelling\",\"Steven Wiggins sought in connection of shooting of Tennessee deputy\",\"New top prosecutor sworn in for Bernalillo County\",\"Official: U.S. military used depleted uranium for first time since 2003 Iraq ...\",\"Yobs who attacked off-duty police spared jail\",\"Wahama dismisses early due to reported threat\",\"Zimbabwe/Liberia: Flying Warrior\",\"Armed police siege in evacuated Sussex road is over\",\"Western Digital would consider Japan partners for Toshiba chip unit bid\",\"Mueller started investigating Trump for possible obstruction of justice just after Comey firing: Washington Post\",\"More stores are shutting their doors\",\"Steelers' Brown gets top spot in AP's wide receiver rankings\",\"Gov. Martinez: Charlottesville violence a \\u2018cowardly attack\\u2019\",\"Tenacious Referente leads Bloomfield cross-country\",\"First-half brace puts Cork City in cruise control against Bohemians\",\"Sterling up as strong data beats Brexit gloomsters\",\"Trump's first weeks spawn anxiety, discord at some companies\",\"Trump Finally Condemns Hate Groups, Two Days After Violence At C'Ville Rally\",\"'Informed Choices' Advocacy Services\",\"9 Indian designers on their journey with Ensemble on its 30th anniversary\",\"Soccer-Panathinaikos banned from Europe for three...\",\"Oroville Spillway Evacuation Centers\",\"Local Holocaust survivor shaken by events in Charlottesville warns \\u2018It can happen again\\u2019\",\"Roseanne returns to Twitter after ABC cancels show\",\"This ring girl is also a trained fighter and says she feels 'empowered'\",\"Six Players Scheduled To Workout With Kings Before Draft\",\"GoDaddy boots white nationalist site Daily Stormer after protest violence in Charlottesville\",\"Ryanair fail in bid to have \\u2019screen scraping\\u2019 case fast tracked\",\"Global Food Preservatives Market Revenue Expected to Account for US$ 2,560 Mn by 2020\",\"\\u2018Pok\\u00e9mon Go\\u2019 Reaches 800 Million Downloads\",\"Inflation Is Always and Everywhere Increasing, Even When It\\u2019s Not\",\"New Zealand police release CCTV images of suspects in Maori paintings theft\",\"Anzac Day: Sacrifice came in many forms\",\"Man's body found in southwest Cedar Rapids\",\"Walmart to pay employees' college tuition\",\"Syrian refugee feared to be first victim of London fire\",\"Suspect in baseball field shooting vented against Trump on social media\",\"Suspect jumps out of building to avoid police\",\"Medich saga began with 2009 murder\",\"The Skin I\\u2019m In\",\"Lady Spartans take final home game\",\"Poet Nissar Ahmed presented prestigious Pampa Award\",\"D.C. Councilman Trayvon White Apologizes for Saying Jews 'Control the Weather'\",\"WATCH - Kate Garraway left mortified after making hilarious dance fail\",\"Gov. Hogan Urges Readiness For Snow in Maryland - WBOC-TV 16, Delmarvas News Leader, FOX 21 -\",\"Man accused of conning bereaved families out of money appears in court\",\"Chrissy Teigen and John Legend Just Received the Cutest New Puppy\",\"Ireland to collect billions from Apple in back taxes - WAFB 9 News Baton Rouge, Louisiana News, Weather, Sports\",\"School employees joke about who they\\u2019d kill or sleep with. It was all recorded.\",\"Trial Over TUSD's Mexican American Studies to Begin in Tucson June 26\",\"Kilkenny teenage disco defends banning 'deplorable dresses' for girls\",\"Tokyo cops: Man wanted in fatal hit-and-run found hanged in park\",\"ESPN predicts Broncos will go 8-8 in 2018\",\"Dine Out Maine: Little Giant growing comfortably, confidently into its West End digs\",\"Show Info. - 8/15/17\",\"The End of Eddy: how \\u00c9douard Louis made the personal political\",\"Chinese vase used as a walking stick stand for 40 years sells for \\u00a3110,000\",\"Cardinal issues directives for flu season\",\"State schedules Learn How to Surf Fish events\",\"New cases reported in Adamawa cholera outbreak, says official\",\"Video shows suspects damaging home, starting house fire in Coweta County\",\"Dangal movie review: Pawan Kalyan lauds Aamir Khan, Nitesh Tiwari, other cast and crew\",\"Celtic and Rangers want Glen Kamara claims report\",\"Taylor Swift will help \\u2018those whose voices should also be heard\\u2019 after jury finds radio host groped her\",\"Police: Annapolis home had nearly $175K worth of drugs, 2 arrested\",\"Thameslink apologises for reduced train timetable\",\"Defending champ Steele, Duncan, Hoge share Safeway Open lead\",\"Stookeys to perform \\\"One Light, Many Candles\\\" in Bangor\",\"Hunt for men who robbed Sheffield shop armed with a machete\",\"Plan before moving farm equipment on public roads\",\"France's Holland starts official visit to Iraq\",\"EU on the verge of approving trade deal with Canada\",\"Ivory Coast's Ouattara dissolves government amid coalition infighting\",\"Letter: Former Post 53 director says Stevenson prioritizes safety, deserves credit for paramedics\",\"City to analyze Spring Break data\",\"Japanese dump record amount of French bonds ahead of election\",\"Armless Syrian boy thrives in the US, hopes family can join him\",\"No Way Jose Talks Why He Was Off Of NXT Television\",\"Autopsy results show chemical weapons used in Syrian attack - Turkish minister\",\"Gov. Sandoval Gets Say on Automatic Voter Registration in Nevada - KTVN Channel 2 - Reno Tahoe Sparks News, Weather, Video\",\"The Director Of 'Tangerine' Is Back With 'The Florida Project'\",\"Colon screening should start at 45, not 50, American Cancer Society says\",\"It\\u2019s all happening (and much of it outdoors) | Gallery Glances\",\"What we know about the three men accused in case of Oklahoma girls missing since 1999\",\"Hughton looks towards Championship title as he embraces promotion party\",\"Revealed: Cambridge Analytica stage-managed Jubilee\\u2019s campaigns in 2013, 2017\",\"Elton John's farewell tour selling out quickly\",\"Susan Collins: Roy Moore Was Always Unfit To Serve In The Senate\",\"Stricter gun control could stop violent men killing their partners and themselves\",\"Investment in Edo: Obaseki woos auto-mobile giants\",\"Woman says Steven Seagal sexually assaulted her at audition\",\"Austin on Edge as Police Scramble to Find \\u2018Serial Bomber\\u2019 After 4th Explosion\",\"Grains lower and livestock mixed\",\"Subway in New Canaan back in business\",\"Senate rejects US decision to shift embassy to Jerusalem\",\"Eastenders 27/04 - Derek Causes More Stress For Honey\",\"'Broken Girls' mixes supernatural tale with gripping mystery\",\"James Comey just went nuclear on Donald Trump - Erie News Now | WICU & WSEE in Erie, PA\",\"Williams scores 30, ECU beats Memphis 88-85 with 3-pointers\",\"One dead, two injured after military chopper crashes in southern Maryland\",\"Quality Curb is Known For Completing Garden Edging Within A Day!\",\"Nigeria: Senate Wants HIV Cure Claims Verified\",\"Banks fight to win $40-million worth advisory role in Vodafone India merger\",\"Blackhawks Game Notes For Monday @ St. Louis\",\"Chula Vista police investigate deadly fight at gas station\",\"Putin\\u2019s aggression prompts Spain to bolster Nato forces with resources\",\"Detroit Needn\\u2019t Fret Yet About Pump Prices\",\"Ecosmob Announce Availability of IPTV Application Development for TV Service Providers\",\"Aly Raisman and Simone Biles fed giraffes lettuce to prepare for their SI Swimsuit shoot\",\"Amy Olivieri Launches E-Learning Site TakeAClass To Take On A Billion Dollar Industry\",\"Tenney's Wheaton-Dumont Co-Op Elevator Hit Hard by Storms\",\"Waymo\\u2019s self-driving car could automatically soften if it hits a pedestrian\",\"Ryan Seacrest Replacing Nick Cannon On \\u2018AGT?\\u2019 See His Cryptic Response\",\"Stun gun used in attempted robbery in Corona Queens, police say\",\"Disappointed Eze wishes Eagles well after missing Russia 2018 list\",\"Syria extremists clash; 69 fighters dead\",\"Embrace The Night With This Batman Gift Guide\",\"Penguin poop stains on Antarctic can be seen by SATELLITES\",\"7-year-old dead after lightning strike in Weakley County, TN - KFVS12 News & Weather Cape Girardeau, Carbondale, Poplar Bluff\",\"Police seek masked man accused of robbing Lancaster County Burger King\",\"Mariah Carey, Mary J. Blige & More Net Nods \\\" 102.5 KEZK\",\"Private Equity Makes Leasing Planes a Hot Commodity\",\"Fort Worth gang member to die for killing girl, grandmother\",\"Auston Matthews\",\"Twin girls (4) among six people rescued by hero onlookers after air mattress drifted out to sea\",\"Coroner identifies man found bleeding in Elgin parking lot\",\"U.S. consumer confidence rebounds; new home sales rise\",\"Police crackdown on uninsured drivers\",\"Panthers score in final seconds to edge Wings\",\"BC-BKW-Grand Canyon-Washington Box\",\"Man stabbed on midtown Manhattan street; expected to survive\",\"Tumblr dedicated to ugly babies in Renaissance paintings\",\"Ruben Neves linked with Chelsea and Liverpool\",\"Sunderland set to become UK's only major city without any domestic violence refuges for women\",\"Rodrigo, Zaza send Valencia third in Spain\",\"Self-driving car kills woman crossing road in Arizona\",\"Billionaire Nelson Peltz\",\"Buhari Meets Obaseki to discuss human trafficking, others\",\"Former Lansing Mayor David C. Hollister undergoes successful heart surgery\",\"Stada says fourth-quarter adjusted net income slips 4 percent\",\"Tesla Model S in Autopilot Mode Crashes Into Police Car in Laguna Beach\",\"Cal ends nine-game skid, beats Oregon State 74-70\",\"Oil gains on Forties Pipeline shutdown, New York blast\",\"James Rankin Gillespie\",\"Vincent Boland: Italy\\u2019s crisis is now democratic as well as financial\",\"Iran threatens to withdraw from NPT if US scraps 2015 nuclear deal\",\"Ashwaubenon School District Superintendent Brian Hanes to retire\",\"The Beerhunter's guide to the 2018 Western Mass Beer Week\",\"Uber parks its self-driving cars after fatal pedestrian crash in Tempe\",\"There\\u2019s no need to watch the Super Bowl-the NFL has already won Giphy\",\"Indonesia\\u2019s Rising Fundamentalism Gets Uglier in Election Year\",\"Kenneth E. Kawa\",\"Single-tablet HIV treatment superior to sandard therapy\",\"Meghan Markle wears sexy Santa outfit on Deal or No Deal\",\"Inflation rises to 18.72% in January 2017\",\"Frankie Saenz on narrow win over Merab Dvalishvili: 'In the future, watch out for that guy'\",\"Geek deals: Vader's dark side empirical stout t-shirt for $18\",\"Trudeau needs to act now on Canada\\u2019s border crisis\",\"Mount Isa rodeo a hot-bed of fashion - buckles, belts and big hats\",\"Risk of snow in Bristol as temperatures set to plummet for one of the coldest weeks in winter\",\"Burton baristas raise money for town's homeless and want to help even more\",\"Vermont spoils UMBC's debut of new arena 81-53\",\"Hamodia Jewish and Israel News\",\"Why The Walking Dead series 8 may be the best yet\",\"Inmate found unresponsive in jail dies\",\"Elderly Residents Sweating it out in Apartments with No Air Conditioning\",\"106-year old fruit cake found in Antarctica and ice cream is coming to space!\",\"Goa polls will mark beginning of BJP\\u2019s downfall, claims Congress\",\"Hard Summer 2018 lineup announced; fest returns to Fontana with Travis Scott, Lil Xan, Marshmello\",\"Conor McGregor vs. Floyd Mayweather happening Aug. 26 in Las Vegas\",\"Could This Be the Reason Your Retirement Is at Risk?\",\"Nightclub gunman\\u2019s fingerprints obtained\",\"Teacher accused of sex with student, having child with him\",\"Milton prepares for bicentennial celebration\",\"The Perplexing Psychology Of Saving For Health Care\",\"UK's Fertility Regulator Approves Creation of First \\\"Three-Parent\\\" Babies\",\"Stalin bats for Smart Cards, riles TN govt over slips in PDS cards\",\"Wins are going to count very strongly now - Hughton\",\"O\\u2019Hara receives award for Director of the Year\",\"Finca Lagunas of Dominical\",\"Bosnia risks delay to IMF funds after missing reform deadline\",\"Work to reinforce image of Army: Gen Rawat to top officers after 'human shield' video\",\"FM Piyush Goyal to meet heads of banks tomorrow to discuss NPA cases\",\"To Walk Invisible: Withering heights of gloom and muzak\",\"The Swingin\\u2019 Boonville Big Band performs at the Mendocino Art Center July 5\",\"Rasmus Degnbol - Home\",\"Report: Kansas Stuck In The Middle In Overall Health\",\"South Africans taunt British runner for coming in last\",\"Boston looks to add housing to fire stations, libraries\",\"Handmade Burning Snowman guitar to raise money for Rett Syndrome\",\"Vees stun Lakers for vital win\",\"Indian companies 3rd most optimistic globally on hiring plans\",\"Community Events October 6th - 31st\",\"Letter to editor: Public Safety is not a Circus Act and Citizens are not Circus Animals\",\"USC\\u2019s Bennie Boatwright, Chimezie Metu named in FBI college basketball probe, per Yahoo report\",\"Beyonc\\u00e9 Receives Award for Her Humanitarianism\",\"RCR Post Race Report\",\"BRIEF-Delphi Energy Corp provides operations update on winter program\",\"Dear Jacqueline Fernandez, we are fans of your moves\",\"New York Times: Reporter's Melania Trump dig 'inappropriate'\",\"Soggy Alberto triggers mudslides, threatens dam failure\",\"Griffin's big third quarter helps Pistons top Kings 106-90\",\"All-Time Indians: Minnie Minoso\",\"Is The General Flynn Debacle Hiding An Even Bigger Scandal?\",\"Lady Gaga cancels final 10 dates of world tour due to \\u2018severe pain\\u2019\",\"Panelist to Symone Sanders in fiery debate: 'Shut up'\",\"How Facebook likes could profile voters for manipulation\",\"Paul Pogba trolls former Manchester United team-mate Zlatan Ibrahimovic with latest Instagram post\",\"[Pics] Jaden Smith Cuts Hair\",\"J&K budget session begins: Governor leaves in a huff, Opposition MLAs shout slogans during anthem\",\"Letters to the editor: Roseanne\\u2019s tweets lowered the \\u2018Barr\\u2019\",\"Mostly black fraternity says business violated civil rights\",\"Harvey Weinstein Reportedly Called Rebecca Traister A 'C**t'\",\"Review: A (Scarborough) Christmas Carol, Stephen Joseph, Scarborough\",\"Brazil's Temer says time has come to vote on pension...\",\"California Chick-fil-A store seeks stolen cow costumes\",\"BRIEF-Eversource Energy Says Site Evaluation Committee Denied Northern Pass's Siting Application\\u200b\",\"Bangor protesters show support for \\u2018Dreamers\\u2019 and immigrants\",\"WaPo Fact Checkers Surprised To Find Trump Claim \\u2018Correct\\u2019\",\"Dutt biopic titled \\u201dSanju\\u201d, Ranbir spitting image of controversial Bollywood star\",\"Europe Could Suffer Collateral Damage in US-China Trade War\",\"Park Ranger Christina Adele Warburg Captures The Most Beautiful Places in America\",\"How to donate money during international emergencies so it really helps\",\"'Shit Show of Dishonesty Across the Board': #MemoDay Sparks Wave of Critique\",\"Police Search for Suspects Committing Larceny from Vehicles in Gainesville\",\"Expectant parents want to avoid gender stereotypes\",\"Russian central bank: inflationary expectations near record low in January\",\"Review: Jambalaya: The Musical\",\"Lloyd's of London chooses Brussels for EU base on strong regulation\",\"More private university chiefs top $2 million, U. of C. No. 5 on list\",\"Truckers Line Up Under Bridge To Save Man Threatening Suicide\",\"Silvertron Cafe to close after 32 years - WBRC FOX6 News - Birmingham, AL\",\"A shock result could have just changed everything for Wales' World Cup hopes\",\"Botanica Cleansing Wash\",\"J.R. Smith Is Launching His \\u2018Merry Swishmas\\u2019 Ugly Christmas Hoodies\",\"Work continues towards capping abandoned Leamington well\",\"TMT-focused investment bank Raine plans India expansion\",\"'Hey Mercedes' - Daimler takes on Silicon Valley with hi-tech A-Class\",\"TriStar Summit Medical Center announces new board chairman\",\"Toolshed: Taking stock of the 2017 Draft\",\"Expanding child care spaces in C-K\",\"General Election 2017 odds: Conservatives as low as 1/10 with bookies to win most seats after Theresa May announcement\",\"Fortnite Player Gets Cocky\",\"Todd Coffey retires\",\"US retail sales rise in January, led by gas and restaurants\",\"Catholic school demands apology from Nick Cannon for show\",\"Kawhi Leonard may miss the rest of season for Spurs\",\"Lot of love for Vincent Sasso after vital brace - Sheffield Wednesday 2 Blackburn Rovers 1\",\"Cold facts on recidivism undermine case for leniency legislation\",\"Ansel Elgort and Violetta Komyshan bonded over Starbucks\",\"Bill Clinton Seeks Donations By Giving Himself Money\",\"Minnesota woman suspected in 2 killings waives extradition\",\"Illinois fair facilities to be ready without major upgrades\",\"Discover Italy with Coach Charter Italy\",\"Reade poised for teaching, coaching\",\"Dear SportsCenter, you're going to want to see this one\",\"Suge Knight\\u2019s fianc\\u00e9e sentenced 3 years for probation violation\",\"Parents urged to take \\u2018extreme care\\u2019 to protect children from sun\",\"Stumble of the Week\",\"Global Conflicts to Watch in 2018\",\"What\\u2019s The Most Popular Cheese? Redditors Share The Cheese They Almost Always Have On Hand\",\"Bitcoin climbs to six-week high as market sentiment improves\",\"Butterfly Association announces \\u2018Wings over White Salmon\\u2019\",\"Neo-Nazi site moves to Google after GoDaddy dumps it\",\"Head of U.N. nuclear watchdog says Iran continuing commitment to deal\",\"Lawmaker\\u2019s warning: \\u201cThis is a last resort\\u201d\",\"Warning after man conned out of thousands in scam\",\"Tree removal workers need better training\",\"Police name victim of Milgavie horror house fire as his girlfriend remains critical after New Year's Day tragedy\",\"50% off Inateck 3 Port USB 3.0 Hub with 2.5 Inch USB 3.0 Hard Drive Disk External Enclosure Case for 9.5mm 7mm 2.5 Inch SATA HDD SSD - Deal Alert\",\"Horoscopes: Feb. 3, 2018\",\"Coco Austin still breastfeeding 2 \\u00bd-year-old daughter for comfort\",\"Railroading Workers? Trump's NLRB is racing to end a key labor case before trial resumes this week, lawyers say\",\"OJ Simpson register Las Vegas police after busy first week\",\"Watchdog warns of humanitarian crisis in Egypt's Sinai\",\"DG Technologies Offers OBD II Breakout Box\",\"Aetna Suit Over HIV Drug Disclosures Lands In Pa.\",\"College Woman's Club of Westfield awards close to $50K in scholarships\",\"Smart Inhalers Market: Segmented by Application and Geography Trends, Growth and Forecasts 2022\",\"Lydia Bright inspired by Davina McCall in thong bikini\",\"Vandal acquitted of charges of homophobicly defacing The George\",\"Brexit bumps up the UK price of Microsoft\\u2019s Surface Book\",\"Colorado teacher accused of assaulting student who refused to stand for the Pledge of Allegiance\",\"Blues move up to second despite putting in a below-par display\",\"Early evening French election turnout down slightly from 2012 - ministry\",\"10 theater productions to see in Southern California this week, July 6-12\",\"Deepika Padukone \\u2018overwhelmed\\u2019 after receiving note and flowers from Big B\",\"Thomas Swan Establishes Expert Technology Advisory Panel as Carbon Nanotube Memory Commercialises\",\"A.Word.A.Day --contretemps\",\"Malaysia Issued Stamps on Tourist Destinations\",\"Robotics to the rescue: Office furniture makers increasingly adopt automation technology amid struggle to find talent\",\"Ex-Obama Campaign Director Drops Bombshell Claim on Facebook: 'They Were on Our Side'\",\"Abortion double-cross was beginning of end for congressman\",\"Hundreds of homes in Cambridge hit by power cut\",\"Real Housewives of Cheshire star Tanya Bardsley and husband Phil put \\u00a32m Wilmslow mansion up for sale\",\"Spring Arrives with New Hope for Wisconsin Politics\",\"Accepting parental favortism\",\"Industrial Protective Footwear Market: Structure and Overview of Key Market Forces Propelling Market\",\"HQ Trivia will give away its biggest cash prize ever -- depending on the NBA Finals\",\"Pebble Time Round Smartwatch Deal: Now $90 on Amazon\",\"House candidate in Virginia compares Trump to bin Laden\",\"Rip anthony bourdain adult coloring book celebrity chef and tv perso\\u2026\",\"Iman Shumpert out until about start of regular season due sprained foot\",\"BRIEF-Pioneer Global Group buys 20 pct stake in InterContinental, Hong Kong\",\"Netcity gets EUR 10 mln loan to develop Bucharest\\u2019s fiber optics network\",\"Ayesha Takia Stalked & Received Threats\",\"LG V35 ThinQ coming to AT&T for $900, available June 8\",\"Obamacare is more popular than ever, so now Democrats get around to hitting GOP on it\",\"Constituency project is corruption - Obasanjo\",\"JAGFest Presents Playwrights of Color\",\"BRIEF-Renesola qtrly loss per ADS $1.26\",\"Rise Up! Rally Planned in Support of Public Theater's JULIUS CAESAR\",\"Zambia: Pres. Lungu Graces Lusaka Slums On New Year's Day\",\"Global recall of Lactalis baby milk over Salmonella fears\",\"What\\u2019s On & Listings\",\"Scientists identify world\\u2019s oldest lizard fossil in northern Italy\",\"Austin may extend Red River Street noise curfew pilot\",\"Drone Shows Scene of Turkey Nightclub Attack\",\"ASIA MARKETS: Asia-Pacific Markets Slide After Fed Rate Hike\",\"Two South Korean citizens killed, another injured in...\",\"\\u2018Southern Charm\\u2019 Star Cameran Eubanks Is Done Breastfeeding, \\u2018I\\u2019m Just Plain Over It\\u2019\",\"Ducks Drill Down: Overtime Struggles Amid a Return to Health\",\"U20 Fight for Pride\",\"Granite City Boys Track Co-Athletes of the Year\",\"Italy: 'New possibilities' for coalition government\",\"Vocal Lessons And MMC Secrets From Christina Aguilera On Carpool Karaoke\",\"Hexagon to Invest \\u20ac90 Million in New Smart Factory\",\"UPDATED: AGUANGA: Two killed in Anza crash identified\",\"16 Celebrities Who May Have You Shopping on TV This Holiday Season\",\"Bird count this weekend provides for participation in mid-winter birding\",\"Google Closer to Using Balloons for Telecom in Puerto Rico\",\"Human capital value of older workers\",\"STORM XAVIER RAGED IN BROAD AREAS OF GERMANY\",\"Former Officer Who Broke A Minor\\u2019s Nose Will Not Be Charged\",\"Israel demolishes 11 Palestinian structures in West Bank, makes 87 homeless\",\"Colon and rectal cancer screenings should start at 45, new guidelines say\",\"How Financial Advisors Can Build Their Practices With The Asset Capture Process\",\"Tottenham transfer news: Hugo Lloris refuses to talk about Thomas Lemar transfer situation\",\"Sensex falls 178 points, Nifty slips below 8,800-mark as markets react to possible US Fed rate hike\",\"Las Vegas police: Security responded to door alarm, drew fire from killer\",\"Japan lose to Ghana, new coach Nishino under spotlight as World Cup looms\",\"Don\\u2019t cling to things, move on \\u2026Boxing promoters in cat and dog fight\",\"Rumor The German Shepherd Wins Westminster Dog Show\\u2019s Top Prize\",\"Raju Shetti offers support to Congress over farmers\\u2019 issues\",\"Max Hurndon, 12, completes second Grand Canyon kayak transit in 10 days\",\"Missouri governor says fight not over, even in surrender | The Sun Herald\",\"VIDEO: Fatboy Slim thrilled to be performing on \\u2018his doorstep\\u2019 at Wild Life\",\"5 places in Mumbai you can indulge in the finest gourmet cuisine ever\",\"Philippines politician says residents see 100 bodies in besieged city\",\"The Latest: Judge closes Roof competency hearing to public\",\"Cops: Woman Stomped, Kicked Little Dog\",\"It Looks Like The Spice Girls Reunion Is Really Happening This Time - For Real\",\"Paris police clear out migrant camp at center of debate\",\"Cutest Kids Bunny Fashion - Happy Easter 2017\",\"Kenny Chesney Debuts \\u2018All the Pretty Girls\\u2019 Music Video\",\"San Luis Obispo firefighter video is not offensive\",\"JP1 alcohol sales petition sought by business owners\",\"BRIEF-Aleris Reports 2017 Q4 \\u200dNet Loss Was $107 Mln Vs $35 Mln In Q4 2016\\u200b\",\"Plan to triage asylum seekers stalled by Ontario provincial election\",\"Are Olivia Culpo & Danny Amendola Having Sex Before The Super Bowl?\",\"Five Points gas leak capped, residents allowed to move freely - wistv.com - Columbia, South Carolina\",\"Notices: Week of Feb. 13\",\"Carers Information and Support\",\"Atlas Air to operate 747-400 freighter for Asiana Cargo\",\"TPWD Now Accepting Hunt Permits\",\"PATNA DURBAR: The return of Sushil Modi\",\"Irish great-granny, 82, receives golden buzzer in Ireland's Got Talent audition sending her to semi-final\",\"Russia denies intelligence contacts with Trump campaign team\",\"Obese fathers, not just overweight moms, may harm young children\\u2019s development: study\",\"Land Rover BAR has precarious win as America\\u2019s Cup teams sail at four times wind speed\",\"Islamic State says leader's son killed in Syria\",\"Joliet's Highland Park Drive Emergency Closure\",\"\\u2018Big tarantulas the size of your face\\u2019 among 50 new spider species discovered\",\"Stephen Miller\\u2019s repugnant high school speech\",\"Woman arrested for threatening to 'blow everyone up' at school\",\"Wales introduces under 18s ban on intimate piercing\",\"FBI director addresses staff in internal video, sources say\",\"2012 inspector general report suggested removing VA nominee Ronny Jackson and rival from White House roles\",\"The Only Way To Fix A Prius\",\"Report: No suspensions from Jaguars-Seahawks game\",\"Falcons enjoy major turnaround, Saints end with a thud\",\"Mark Salling autopsy report fails to confirm that actor committed suicide\",\"NCC chair silent over departure\",\"More artists announced for the 2018 \\u00d8ya Festival\",\"\\u2018Game of Thrones\\u2019 analysis: Is Jorah\\u2019s greyscale still infectious?\",\"Crows lose; miss out on grand final berth\",\"MS Dhoni Breaks T20I Stumping Record, Goes Past Kamran Akmal\",\"Cardi B shared a video of herself twerking while pregnant\",\"Ten of the best nude heels on the High Street right now\",\"Let our past guide our future - Mahama to Ghanaians\",\"Child drowns at Tampa apartment complex\",\"Gas utility sets summer work schedule in Portland\",\"NFL community celebrates Hall of Fame Class of 2018\",\"Battle of words before civic elections between the BJP and Shiv Sena\",\"San Francisco: 4 Injured in Shooting at UPS Center\",\"Wisconsin Ethics Commission to consider bitcoin policy\",\"Montecito Association to Host Water District Candidates Forum\",\"PREVIEW: Otters face Crushers on Flag Day - Tri-State News, Weather & Sports\",\"BRIEF-New China Life Insurance posts FY net profit of RMB4,942 million\",\"'Find this monster' - Plea from sister of teen left for dead in hit-and-run\",\"Inmate accused of second-degree murder in killing of fellow inmate makes first court appearance\",\"AAC-bound Wichita St aligns with apparel maker Under Armour\",\"Malfunctioning traffic signals must be treated...\",\"Global Respiratory Devices Market 2018-2027: Technological Advancements and Increased Disposable Income is Driving the Market\",\"Devils arena to display massive high definition scoreboard\",\"Kitty litter helps Wyoming bentonite past drilling slump\",\"Bitcoin takes step toward mainstream acceptance\",\"Multan ATC hands death sentence to man for raping, murdering minor girl\",\"BREAKING NEWS: Gunman opens fire on GOP congressional baseball practice\",\"A taste for adventure\",\"Police use stinger to try to stop 'stolen' Audi A3 during dramatic chase caught on taxi driver's dashcam\",\"Ivanka Trump discusses \\u2018work of the future\\u2019 in Iowa (AUDIO)\",\"Happiest place on Earth: Alberta daycare captures fairy-tale imagination\",\"Video: Congress leader thrashed, shot dead in Bhiwandi\",\"The Great Wall of Philadelphia\",\"Nazir wins 1st Bin Qutab Foundation Golf Trophy\",\"A DOG WILL NOT CRY IF YOU BEAT HIM WITH A BONE\",\"Arts and Culture Centre meeting Oct. 19\",\"Thoughts On Monday's Selloff\",\"Morgan Stanley CEO says Saudi Arabia could be 'major opportunity'\",\"Toronto police officer draws praise for refusing to shoot van suspect\",\"5 things that always happen in January in Scotland\",\"Theater review: Footlights' 'Christmas Carol' an uplifting take on the Dickens classic\",\"Michigan Lake Trip That Changed Her\",\"Woman investigating noise accidentally shoots herself\",\"GM CEO Barra 2016 compensation down after one-time 2015 awards\",\"Panneerselvam meets PM Narendra Modi, discusses merger of warring AIADMK factions\",\"Councils unprepared for new law supporting disabled taxi users\",\"Callahan, Mauer lead referee selections for NBA Finals\",\"Theatr Genedlaethol's Macbeth broadcast to cinemas\",\"Mike Francesa planning return to New York radio station WFAN, report says\",\"No hint of new gun control push in U.S. Congress after shootings | Reuters\",\"Belum Dapat Formulir C6, Bawa KTP-e\\u2026\",\"Thomas the Tank Engine and friend Percy return to Baldwin City\",\"Bears add OLB Howard Jones to practice squad\",\"Vaccines Important In Prevention Of Ear Infections\",\"What happens to plasmalogens, the phospholipids nobody likes to think about\",\"Ex-director of UA journalism program dies - Tucson News Now\",\"Police appeal for witnesses to Doncaster town centre stabbing\",\"Twin Cities School Blends Academics With Love On Valentine\\u2019s Day\",\"Chandler Riggs\\u2019 Dad Slams AMC For Killing Off Son On \\u2018The Walking Dead\\u2019\",\"Read Michael Bennett's powerful statement about why he sat during the national anthem\",\"Beach Boys versus Sara Evans at July 4th rival TV concerts\",\"Holocaust comments drag on Le Pen's French presidential bid\",\"Kanye West: The Real Medical Reason Why He Skipped The Grammys Revealed\",\"Kundali Bhagya 30 May 18 Full Episode Written Updates: Prithvi takes dadi to hospital\",\"Murder on the Orient Express Keeps Thrills on Track\",\"Yankees' Gary Sanchez turns wild pitch into a crucial out with amazing play\",\"Trump tweets on Nunes memo\",\"China, UNDP sign accord to help crisis-hit areas of Fata, Balochistan\",\"Inspector: \\\"mice activity, feces\\\" found at restaurant - KAIT Jonesboro, AR - Region 8 News, weather, sports\",\"Jurgen Klopp says Virgil van Dijk won't be at his best until AFTER summer\",\"Supreme Court won\\u2019t hear case seeking Title VII protection for gays\",\"Benefits Portal Biz Wants Derivative Suit Cut Short\",\"Miami Dolphins rookie Charles Harris calls himself \\u201chesitant\\u201d in debut\",\"California state Sen. 'Hugsberg' Hertzberg reprimanded for hugs\",\"German minister cools on support for migrant camps in Libya\",\"Google Rolls Out New Subscription Tool with McClatchy\",\"BRIEF-EQS Group H1 EBIT down 3 pct at 0.9 million euros\",\"Wenger delighted with three-man central defence and Arsenal\\u2019s timely win\",\"More Thor On The Dip\",\"Tony Craig was offered a new deal at Millwall but chose to join Bristol Rovers\",\"Politicians strike unifying note in wake of Virginia shooting\",\"Narcos Star Boyd Holbrook Expecting First Child\",\"Image: Crescent nebula\",\"16 Watermelon-Infused Skin-Care Products to Try This Summer\",\"Ryan Dolan takes Deery Late Model win at 34 Raceway!\",\"Alberta village mayor wants tax break for rural crimefighters\",\"Did you know George and Amal Clooney's twins have a royal connection?\",\"Iranians advance missile boost\",\"Sealing the Deal, Getting the Hire\",\"Trump weighs in on Roseanne Barr, Bob Iger and Valerie Jarrett\",\"Why Whoopi Goldberg won't say the President's name\",\"Herrera discusses how Mkhitaryan has turned it around at Manchester United\",\"CA San Francisco Bay Area Zone Forecast\",\"Daniel Bryan Talks Feeling Titus O'Neil's Wrath After His Slide At The WWE Greatest Royal Rumble\",\"Exxon shareholders reject proposal to split CEO, chair roles\",\"After School Refuses To Allow First-Ever Black Valedictorian To Give Graduation Speech, City\\u2019s Mayor Steps In\",\"Four short links: April 18\",\"Mexico arrests ex-governor on corruption charges\",\"Why fact check-and why Rappler and VERA Files\",\"Start colon cancer screening at 45, not 50, American Cancer Society urges\",\"PHOTOS: Winfield Innovation Center opens in River Falls\",\"Malaysian Michelin star recipient learned trade from mum\",\"Cuenco seeks to reverse dismiss order of Ombud, files supplemental MR\",\"Man Identified in Clairemont Plane Crash, Wife Survives\",\"Leicester City to keep want-away Jeffrey Schlupp after Africa Cup of Nations snub\",\"Luke Mossey celebrates debut MCE BSB win - then makes it a double at Brands Hatch\",\"Glacier National Park experiences 2nd-busiest May on record - ABC FOX Montana Local News, Weather, Sports KTMF | KWYB\",\"GO Station Parking Lots: Missed Opportunities To Urbanize\",\"UPDATE: Senators say 'serious' charges made against VA nominee\",\"Scarlet fever outbreak hits primary school\",\"Arsenal beat Boro to stay in Champions League chase\",\"ALL GUNS BLAZING! Abhishek Kapoor Films A Difficult Scene For Sushant- Sara's Kedarnath\",\"Analysts Recommendation on Quinstreet Inc (QNST)\",\"VIDEO: Bognor Birdman 2017\",\"Mix of snow and rain in store for northern New England\",\"EN DIRECT / LIVE.\",\"Judge to weigh South Carolina church gunman\\u2019s competency\",\"Firm denies Flynn texted its director on US sanctions\",\"Poly Aluminum Chloride Market | Revenue, Key Players, Supply-Demand, Investment Feasibility and Forecast 2023\",\"Fab Five Kansas siblings adopted by childless Kansas couple\",\"Saudi Arabia says it will allow cinemas after decades-long ban\",\"Gov. Ivey Issues State of Emergency, Asks Residents to Prepare for Tropical Storm Nate\",\"Zombie customers and hundreds of attacks: Was this Hull's most violent bar?\",\"Harden, Rockets beat Pelicans for 21st win in 22 games\",\"Pacer Ishant rubbishes English county move reports\",\"Brahmasthanotsavam concludes\",\"Hybrid IVF embryos created in last-ditch attempt to save northern white rhino\",\"Experts: The one flu symptom you shouldn\\u2019t ignore\",\"Arturo Vidal rejects rumours he could leave Bayern Munich for Chelsea\",\"Creepy 'brain in a bucket' study spurs medical, ethical debates\",\"'England fan' detained after beloved statue vandalised at World Cup stadium where Three Lions beat Colombia\",\"PRECIOUS-Gold falls for fourth day as dollar stays firm ahead of Fed meeting\",\"Ford government pauses ticket resale changes\",\"Maroon 5 Tease Psychedelic Video for \\u2018Cold\\u2019\",\"For Syrian Refugees In Turkey, A Long Road To Regular Employment\",\"WOLFEN To Release Rise Of The Lycans Album In June; \\\"Rebirth Of The Regulators\\\" Track Streaming\",\"WATCH: Donegal school kids in fine tune as they turn the tables on Daniel O\\u2019Donnell on his visit to Maghery today\",\"Nothing Will Happen If Nirbhaya Fund Not Properly Used: Supreme Court\",\"Nova Scotia punches ticket to Scotties Tournament of Hearts semifinal\",\"Best Cooking Gear: 2017 Digital Trends Outdoor Awards\",\"CLINTON EMAILS BREAKING NEWS: FBI Comey Botched Criminal Probe With No Grand Jury\",\"Apple receives permit to test self-driving cars\",\"Supreme Court denies terrorism victims' claims against Arab bank\",\"Experts call attempted suicide attack a 'game changer'\",\"Cow, Soy or Almond: Which 'Milk' Is Best for You?\",\"Ding Junhui shows his title credentials by crushing Xiao Guodong\",\"Pres. Trump backs efforts to bolster FBI gun checks\",\"Icebreaker Hyperia Lite jacket\",\"Video Alert! Judwaa 2 Stars Varun & Taapsee Trying To Match Steps With Oonchi Hai Building\",\"Brooklyn will see more cops wearing body cameras\",\"Briton in Cambodian wild party case given suspended sentence\",\"Fingerlings propel Montreal-based company to Christmas retail success\",\"Asian shares mixed as Korean tensions persist\",\"WORLD CUP: Coaching changes unsettle lowest-ranked Saudis\",\"Woman stabbed man, left 'bleeding heavily,' Bethlehem police say\",\"Attack on US lawmakers: what we know\",\"What The Tech? App of the Day; Songbot - WRCBtv.com | Chattanooga News, Weather & Sports\",\"Electric vehicles market: Worldwide Industry Analysis and New Market Opportunities Explored\",\"Look at all this cool stuff we found while exploring Henniker\",\"Florida police try using dead man\\u2019s finger to unlock cellphone\",\"Saudi King Salman's lavish trip to Russia included gold-plated escalators, luxury carpets\",\"7 projects to reduce load on NH-8 stretch\",\"NBA games Saturday, scores, highlights, updates: LeBron, Cavs host red-hot Rockets\",\"Netflix breaks down the most popular shows by users' streaming habits\",\"San Diego home prices up 7.6 percent in a year\",\"Hong Kong's drawndown mortgage loans in Feb fall 16 pct on month\",\"$1.8M settlement proposed for teen hurt when fair ride broke\",\"Father killed disabled daughter, then took own life in Fairport\",\"6 Albums You Should Be Listening To\",\"Banker & Tradesman\",\"Offseason Trade Target: Yordano Ventura\",\"Sing Your Way to the \\u2018Waitress\\u2019 Stage\",\"Missouri Gov. Eric Greitens offered to resign in exchange for dropping criminal charge\",\"UAE jails activist for 10 years over social media posts: report\",\"ALDS: Indians put Yankees on the brink with 9-8 victory in the 13th inning\",\"BRIEF-Digital Power files for non timely 10-K\",\"2 area girls weightlifters finish in top 5 at 1A state meet\",\"Trevor Cahill ready to take on new role in reunion with A's\",\"Brazil's president would veto parts of bill to regulate Uber\",\"News 6's Best of Summer 2018: Best Day Trip\",\"[Update: Never mind] The Pixel 2 and 2 XL can be charged at up to 27W with a compliant USB-C PD charger\",\"Mainstreaming Fata will help curb terrorism, says Imran\",\"Want to apply for Big Brother 2018? Here's everything you need to know\",\"Why You Can't Do Public Relations Yourself\",\"Active Tuberculosis Case In Solano County Has Parents Concerned\",\"Mississippi's only abortion clinic sues state after governor sig - MSNewsNow.com - Jackson, MS\",\"Danai Gurira Bringing Her 'Black Panther' Character to \\u2018Avengers: Infinity War\\u2019?\",\"Another Zoo Prepares To Welcome A Baby Giraffe\",\"Police in Utah wound motorbike rider sought in 2 robberies\",\"Doug Pederson to Eagles fans after losing Carson Wentz: You can't lose faith\",\"PH workers need to prepare for AI disruption\",\"BRIEF-Edita Food Signs MOU With Dislog Group to Establish JV in Morocco\",\"Manchester United complete Lindelof signing\",\"Oshkosh Receives Army Contract to Renovate Heavy Tactical Trucks\",\"Mineral Lubricant Market Sales Volume, Sales Price, Sales Revenue Analysis, Major Manufacturers Performance, Market Share and forecast to 2022\",\"BRIEF-Playway Signs Two Investment Agreements\",\"Maute Group suspect nabbed in Cagayan de Oro\",\"Homeless stereotypes busted: Most hold jobs, have been destitute for over a year\",\"Painting My Nails Kept Me Sane Through College, And Science Backs Me Up On That\",\"Yes, I\\u2019m Frustrated - David Moyes Admits Transfer Disappointment After West Ham Lose\",\"SUNNYSIDE FIRE CALLS\",\"Prosecution Seeks to Arrest Ex-Labor Minister over Alleged NIS Anti-Labor Scheme\",\"Harvest Commences In Edo State-Saro Farm, Sobe\",\"The Latest: Demonstrators briefly detained at World Cup - wave3.com-Louisville News, Weather & Sports\",\"Laguna Beach police arrest two Inland Empire residents on suspicion of vehicle burglaries and then find neglected German shepherd pup\",\"Atlanta will soon know official vote tally in mayoral runoff\",\"David Bowie Featured in Latest Episode of \\u2018Twin Peaks\\u2019\",\"Leading figures react to Theresa May's snap election call\",\"Zimbabwe's leader calls out those stashing millions overseas\",\"Using a sheet mask every day is actually good for your skin\",\"Rudy, Hoosiers, writer to create screenplay on Iowa girls' baske - WXOW News 19 La Crosse, WI - News, Weather and Sports |\",\"Daily Post Nigeria\",\"Unlocking Capacity is Critical to Reform, Shanahan Tells DoD Leaders\",\"Woman touched inappropriately while sitting on bench in Woking Park\",\"Elvis Brown Proves Money-Making Ain\\u2019t Easy In \\u2018Yummy\\u2019 Music Video\",\"After the trial: One-on-one with Roach's attorney - Tri-State News, Weather & Sports\",\"Design skills wanted for advanced manufacturing to curtail unemployment rate in NW Tasmania\",\"Alumni named in Elite 40 under 40\",\"4,000 take part in Summer Bash\",\"Trump talks to 3 more candidates for Supreme Court vacancy\",\"Missouri Prison Program Recognized For Veteran Rehab - KTRS\",\"Tennis: Federer withdraws from Cincinnati, Nadal to become No. 1\",\"Can proposal to run train to downtown Indy for Colts, Pacers games overcome obstacles?\",\"Derby County see \\u00a31.5m bid rejected for Brentford forward - reports\",\"BRIEF-Arris International says co and certain units entered into second amendment to its credit facility\",\"Transgender people will be able to enlist in military next year\",\"Video shows SUV crash into Richland County store, man rides pile of debris to safety\",\"After nearly two decades as MLA, Brian Mason not running in 2019 election\",\"Associated Press\",\"Jack Wilshere steps up injury comeback with Arsenal Under-23s appearance\",\"Maharashtra farmers strike: National, state highways to be blocked by farmers starting Monday\",\"Ex-Rep. Charlie Dent joins major law firm with offices in Philly, D.C.\",\"Ben Affleck might not do the solo Batman movie after all\",\"Biker dies and 12-year-old seriously injured after collision\",\"Public may apply for Sycamore school advisory commission.\",\"Drinking Black Tea Might Help You Lose Weight\",\"50% off Bose SoundTrue around-ear headphones II - Deal Alert\",\"Puerto Rican News at Caribdaily.com\",\"South Africa: Public Service and Administration Rejects Misleading Reports On Minister's Private Office\",\"At GOP retreat, a memo and more muddled path forward on immigration\",\"Pantheon Update\",\"Five E-W students earn medals during sports medicine competition\",\"\\u201cArt in the Airport\\u201d Brings In New Works\",\"What Fayemi said after he resigned from Buhari govt\",\"Red Bluff girls are Anderson softball tourney champs\",\"PM names Margaret Thom as new commissioner of the NWT\",\"Motorcyclist kills fun seeker during argument over fare\",\"Switzerland's dismal record in knockout stages endures\",\"GM CEO, President at Opel HQ for talks with management\",\"S.E. Cupp SKEWERS Stormy Daniels\\u2019 lawyer Michael Avenatti over his \\u2018petty tiff\\u2019 with Martha MacCallum\",\"Bankrupt U.S. retailers begin to catch a break\",\"UPDATE: Two women found dead in Vail home, suspect in custody - Tucson News Now\",\"Chit fund scam case: CBI to interrogate former Left Front ministers\",\"23rd annual Germanfest in Roberts Cove this weekend\",\"Two more charges for St Michael woman\",\"After 16 years, backup spelling bee pronouncer gets his shot\",\"Covina-Valley Unified votes to close Lark Ellen Elementary School\",\"Watch as Freiburger and Dulcich Prepare to go Top Speed in the Crewcab Chevelle\",\"UK PM May says DUP talks continue but London fire a real focus | Reuters\",\"Novak Djokovic: Serena Williams is greatest female athlete of all time\",\"Travel Service acquires majority in national airline CSA\",\"BRIEF-Ion Geophysical Corp Q1 loss per share $1.98\",\"One Person's Junk Is This Home Improvement Show's Treasure\",\"Scientists want to pull peer review out of the 17th century\",\"Boris Johnson argues for immigration amnesty in wake of Windrush scandal\",\"Blue Jackets' Sergei Bobrovsky: Facing Sharks on Friday\",\"Chiefs' Tyreek Hill: Scores on 95-yard punt return\",\"Archer Mayor Launches Trace At Northshire Bookstore\",\"Jury finds Washington man guilty in Rancho Cucamonga homicide from 2000\",\"FTSE 100 leads the way in Europe, driven higher by softer pound\",\"Kerala Budget 2018: Thomas Isaac delivers. it\\u2019s a she!\",\"Police issue second warning over 'super strength' heroin after six more people die in Yorkshire in just 48 hours\",\"Google's iPhone-to-Android AR doodle experiment is now live for you to play with\",\"Rare World War II aircraft tour comes to San Bernardino International Airport\",\"The Nassau Guardian\",\"Glyceryl Ester Hydrolase Market Report\",\"Family comes home to blood splattered on floors, walls after dog attacks intruder\",\"Project Fi now works with LG's newest phones and Moto's affordable G6\",\"The Chase viewers in meltdown amid MAJOR answer blunder: \\u2018Get your facts right!\\u2019\",\"Who in the White House has denounced white supremacists?\",\"Cops nab man, seize drugs worth over RM77,000\",\"Sarah Sanders Accidentally Describes President Trump During Tirade Against 'Fake News' Media\",\"55 North Mining Inc. Closes First Tranche of Private Placement\",\"Camberley Alzheimer Cafe\",\"No. 13 Miami, Florida State look to get ground games going\",\"New deal for Barnsley boss Heckingbottom\",\"U.S. scraps rule requiring states to measure tailpipe gases\",\"The silent epidemic of elder abuse in our suburbs\",\"This Pastel Patterned Buzz Cut Is Spring's Best Short Hairstyle\",\"Deputies: Three active 'one pot meth labs' found in vehicle duri - | WBTV Charlotte\",\"UFC Stops Sending Fight Tapes For Study, Suggests Coaches Buy Fight Pass\",\"Our Lady of Guadalupe feast day brings visitors new and old to Des Plaines\",\"China's premier: 'We don't want to see a trade war'\",\"Three semis involved in I-57 accident\",\"Memory for a lifetime: Karthik on last-ball 6\",\"3 people arrested in Dakota Access pipeline stadium protest\",\"Applebee's restaurants in Greater Cleveland aren't closing, franchise owner says\",\"Jeremy McConnell could face jail after police investigate claims he contacted ex Stephanie Davis\",\"Rising Fuel Prices Are Out Of Government's Hands, Minister Claims\",\"Outfits To Avoid On A Night Out\",\"Joe Bologna dead; Ric Flair hospitalized; Shonda Rhimes Netflix deal; more: AM Buzz\",\"No. 5 Michigan St. beats Indiana 63-60 for 6th straight win\",\"Ready to go to hell 100 times to save people of J&K: Mehbooba Mufti\",\"GSA Brings Together Largest Online Gaming Companies to Collaborate on Its Third Party Interface Standard (TPI)\",\"Hoover reinstates industrial development board, will hire economic developer\",\"Alabama OC Kiffin leaving before national title game\",\"New training approach working wonders for Pirates catcher Francisco Cervelli\",\"Poet Imagines Life Inside A 1910 Institution That Eugenics Built\",\"The Worlds Most Popular Rugby League Website\",\"Cottage Health System, Sansum Clinic Announce Plan to Merge\",\"Election season casts shadow on India's stock market, if Modi's winning prospects diminish\",\"I live without regret, happy with whatever I have, says Shamita Shetty\",\"Vancouver tour bus driver in fatal accident had \\u2018spotless\\u2019 driving record\",\"Denny Foster sentenced to 18 months in prison in Keith Foster case\",\"\\u2018Sham\\u2019 A27 consultation must be halted, council leaders argue\",\"Coach turns to rugby to improve tackling safety\",\"Expressing empathy remains a challenge for Trump\",\"Is Entrepreneurship At Odds With Capitalism?\",\"Fast-track asylum appeal system planned by government\",\"Anthem fires back at Cigna\",\"SpaceX launches research to space station\",\"Global News News at Caribdaily.com\",\"Death penalty returns to culture wars\",\"Want to go to CicLAvia in San Dimas, La Verne, Pomona and Claremont? Here\\u2019s where to get the details\",\"Judge Slams Tenn.'s Driver's License Suspension Practices\",\"Federal govt failed to fulfill responsibilities on NAP: Chandio\",\"Massachusetts Turnpike construction delays opening of Commonwealth Avenue in Boston\",\"Family paying price of '50-year wait list' for bed\",\"Red Sox first baseman Moreland leaves game with back spasms\",\"Police hunt mail marauder after letterboxes raided at Gold Coast apartment complex\",\"Former Kotoko chief Dr KK Sarpong backs Ghana FA Kwesi Nyantakyi; rubbishes calls for his resignation\",\"UPS gunman who killed 3 had filed overtime grievances\",\"21 Questions with Artist Kevin Warth\",\"SC airman surprises family after five years away from home\",\"You can't control the weather, so enjoy the majesty of the white stuff\",\"Little Rock teen with huge pipes sings national anthem at MLB game in D.C.\",\"MS Dhoni\\u2019s daughter Ziva wins over with her cuteness as she plays on a piano, watch video\",\"The Doors: London Fog 1966 (Rhino)\",\"REIT Week In Review For April 16-20\",\"Centre\\u2019s MSP hike historic move, says Fadnavis\",\"A slow game ends nil all between Middlesbrough and Leicester\",\"Giant Marley is the biggest dog ever at this re-homing centre\",\"A mom says she found recordings of teachers allegedly bullying her son\",\"Eva Kilgore: Enjoy good food and drink for a good cause at Taste of Huntington Beach\",\"A New RNA Drug Could Help Slow Huntington\\u2019s\",\"Is Trump's Twitter future @realDonaldTrump or @POTUS? Probably both\",\"Indonesia, India upgrade ties with 15 agreements\",\"Bulldog's Bite: Who will Canterbury Bulldogs fans blame now that Des Hasler is gone?\",\"New hunting law falls prey to old habits in Lebanon\",\"Pauline R. McCoy\",\"BRIEF-Bellamy's Australia provides update on registration of Bellamy's products with CFDA\",\"Indiana Pacers' Glenn Robinson III could play in Game 2\",\"Spain\\u00b4s Palma to ban the renting of apartments to tourists\",\"Lancashire Police vow as nationwide alcohol breath tests see dramatic fall\",\"A127 closed after police break up pony and trap race\",\"YES Bank gets SEBI nod for mutual fund business\",\"Clive Lewis Investigation Dropped\",\"FISH Fundraiser \\\" Hometeam 1490 KLOG, ESPN Radio\",\"Florida campus opens days after 6 die in bridge collapse | News & Observer\",\"Galena Easter Egg Hunt Winners\",\"Hundreds turn out for The Bluffs open house, facility begins treating patients\",\"Hackers release more HBO episode shows: report\",\"Bad news: The cheapest seats you can find for Elton John's farewell show in Portland are $742\",\"10 Best Rolling Backpacks Available Right Now (2018)\",\"Exclusive: Migration \\u2018not just a security issue,\\u2019 says France's Macron\",\"Californians Are Among The Worst Tippers, Report Says\",\"Congress demands apology from PM Narendra Modi over 'insinuations' on Pakistan links\",\"See How Trump's Approval Rating Compares to Past Presidents\",\"\\u2018Hell On Earth\\u2019: London tower fire disaster dominates national newspaper front pages\",\"APNewsBreak: Illinois' late fees skyrocket over past 3 years\",\"Congressional Baseball Teams to Wear LSU Gear to Honor Scalise\",\"13 Tweets Responding to Hillary Clinton\\u2019s Claim That She Lost Because of Women Listening to Men\",\"Court blocks release of New York police body camera footage\",\"Nigeria to turn Boko Haram hide-out Sambisa forest to tourist centre\",\"Why does the Xbox One X cost $500? We asked Xbox chief Phil Spencer\",\"NGN3 October Movie Schedule\",\"De Pere fire starts when no one\\u2019s home\",\"Recognising Jerusalem as Israel's capital 'makes peace possible': Netanyahu\",\"Maldives president fires 2nd police chief in 3 days\",\"Beanie Babies\",\"How the Nazi Flags in Charlottesville Look to a German\",\"The MMQB with Peter King\",\"Show-Stopping Sedums\",\"Primark reveals how to pronounce shop name\",\"Samsung Galaxy Note 9 Colour Variants Leaked, 8GB RAM Variant Spotted on Geekbench\",\"Motor racing-Bahrain rights groups call for F1 race to be cancelled\",\"Preview: Angels at Mariners\",\"Judge declares mistrial for undocumented immigrant charged in DUI crash\",\"This is how to spot the Royal Mint 'mistake' which means new \\u00a31 coins are worth more than \\u00a3200\",\"'Benefit of hindsight': ASIC may have been wrong body to protect consumers\",\"Top 10 Large Dog Breeds That Prove Bigger is Better\",\"M25 crash sees two women killed and 10-year-old girl in life-threatening condition\",\"Global wine production plunges to a 60-year low\",\"Three Lions Reaches All Time Streaming High\",\"Syros Crushed as Lead Drug is Failing Its Phase II Trial Badly\",\"The Daily Vertical: Putin's Little Creature (Transcript)\",\"Tillerson, Mattis to visit Pakistan after Trump accuses Islamabad of providing safe haven to terror groups\",\"Constituents move to recall Enugu Rep\",\"This Picture Of Serena Williams And Her Boyfriend Is The Funniest Thing You Will See All Day\",\"Advance Auto Parts Inc (AAP) Shares Gap Down to $98.98\",\"2610 W Lake Sammamish Pkwy Se\",\"WWE RAW: Is John Cena's WrestleMania dream match against Undertaker cancelled?\",\"Rugby club remembers Passchendaele soldiers\",\"New high levels of \\u2018microplastic\\u2019 pollution found in Arctic ice\",\"Angelos Delivorrias, Former Benaki Museum Director, Dies Aged 81\",\"Beyonc\\u00e9 Is in Labor Twitter Reactions\",\"Auto Bowl Takes Shape, Wix.com Gets Last-Minute Opportunity\",\"New child adoption scandal engulfs Ireland\",\"B.C. government to make announcement about Trans Mountain pipeline expansion\",\"Matariki for kids\",\"Protest held in Rio after activist councilwoman shot dead\",\"On the Go with Joe at BG Food Cartel - KPTV - FOX 12\",\"Taylor Morrison Recognizes HomeAid America as 2017 Corporate Charity\",\"Contrasting decade of men\\u2019s and women's tennis: Oligarchy reigning supreme vs the era of anarchy\",\"The Latest: German, Polish leaders back UK after poisoning\",\"Taking the plunge: How to nail your first race\",\"Mickey, Doc McStuffins and more coming to Roanoke with 'Disney...\",\"Ingram ISD teacher accused of improper relationship with...\",\"Why The Government Can't Bring Terrorism Charges In Charlottesville\",\"Senator calls on budget watchdog to take CRA to court to reveal tax gap information\",\"\\u2018Stress test\\u2019 preceded Florida bridge collapse that killed 6\",\"City of Joburg launches a monthly clean-up volunteer campaign\",\"Love Island's Kim Hartnett, 22, defends her decision to leave young son at home\",\"Rupee in recovery mode ahead of GDP data, jumps 43 paise\",\"Metal thief targeted rural business near Preston\",\"Library releases 'All Things British' collection for new site an - FOX5 Vegas - KVVU\",\"Crews knock down massive building fire in Effingham\",\"Woman Shaves Legs In Hotel Pool, Video Goes Viral\",\"Bird brained? Scottish county's new flag slammed for looking more like a BUDGIE than an eagle\",\"Conservative candidate projected to win in Battlefords-Lloydminster byelection\",\"Couple doubts priest contrite about 1977 cross-burning\",\"Costa reveals he wanted to leave Chelsea\",\"Crystal ball Blues for Carlton\",\"Mexico: 300 migrants found in dangerously cramped trucks\",\"Title win won\\u2019t affect hunger to lift cup says Ayr coach\",\"Duke coach Mike Krzyzewski takes leave to have back surgery\",\"AMC Cinemas CEO Plays Contrarian Forecasting Great Box Office\",\"Band of Blue presents awards\",\"U.S. Vice-President Mike Pence warns North Korea \\u2019era of strategic patience is o\",\"33,000 Hungarians living abroad receive retirement benefits\",\"Canadian window cleaners hire first kilted Scotsman\",\"GABRIELLE UNION + WILL PACKER\",\"Africa Live: Kenya 'mourning' strike, Zambia treason trial\",\"NHL Daily: Brady Skjei, Auston Matthews, Kraft Hockeyville USA\",\"Fran Drescher's home invasion rape ordeal: 'They broke the door down'\",\"Tesla on 'Autopilot' crashes into parked police car\",\"Nikolai Potapov Returns with TKO over Alexander Saltykov\",\"Monday\\u2019s NFL: Eagles\\u2019 Wentz has torn left ACL\",\"Cavaliers reportedly shopping J.R. Smith; willing to trade Brooklyn pick for right player\",\"BRIEF-CIBC, Privatebancorp announce revised merger agreement\",\"Records: Man to plead guilty to aiding San Bernardino attack\",\"Tuttamore presented with BGSU Alumni Award\",\"Family of man who died in custody want 'graphic' CCTV to be released\",\"Nawaz asked to refrain from confrontation\",\"Country Showdown postponed to Oct. 28\",\"Blink-182 takes up residence at Palms Casino in Las Vegas\",\"Sterling rallies after UK election announcement\",\"MAP: Southern California wildfires now larger than New York City and Boston combined\",\"Ragnow Earns All-American Honors\",\"French 'falling out of love' with Macron after 100 days\",\"Sudan gunmen kill 8 people in Darfur\",\"Residents File Lawsuit Against The City Demanding CPD Suspervision \\\" CBS Chicago\",\"Angela Merkel: US auto tariffs could start a trade war\",\"At least 1 person injured in head-on crash in Shelbyville - wave3.com-Louisville News, Weather & Sports\",\"Annual Mills Health Symposium addresses diabetes, obesity in minority communities\",\"On this day in 1909: Joan of Arc, French heroine in the Hundred Years War and national icon, is beatified\",\"'I thought he was going to kill me,' says woman who slipped note to vet staff asking for help\",\"Council opens adult change facilities in Penrith CBD\",\"Glenwood City MS/HS Top 10 list - 6-14-2017\",\"Benni McCarthy welcomes more foreigners to Cape Town City\",\"2018 Golden Globes television nominations: who got snubbed & who got recognized?\",\"Wednesday's Pa. roundup: Faith Christian walks-off to win District 1 Class 1A final\",\"RPT-Wall St Week Ahead-After a long drought, bear market funds attract buyers\",\"Business Watch: A first for Verizon\",\"Philatelic Exhibition at Manipal University\",\"Norway birth rates continuing to fall: agency\",\"Bermudan News News at Caribdaily.com\",\"She was convicted of disposing of her stillborn fetus. Now, Va.\\u2019s attorney general says his office made wrong call.\",\"First picture of man charged with murder of elderly dog walker after 83-year-old grandad's body found in woods\",\"Fed proposes easing Volcker rule that limits risky bank trading\",\"An illustrator listened to children and teenagers describing feminism. This is what he drew\",\"Facebook could be investigated over harvesting of millions of users' data\",\"Drunk pilot removed from Sunwing flight\",\"Three Billboards Outside Bristol city centre as hundreds go to London to 'save the NHS'\",\"Evans scores OT winner for New England\",\"Warren Buffett on hand as Navy commissions newest warship\",\"OAS is playing a risky game to keep Nicaragua from becoming the next Venezuela\",\"Mobile Money Tax Lacks Basis\",\"North Van looks for ways to keep bridge traffic moving following accidents\",\"What can Trump do about Venezuela?\",\"On the Couch with Natisha Makka\",\"Suicide bomber martyrs 3 soldiers: army\",\"Fitch: P/C Insurer Financial Leverage Ticks Up as Fixed-Charge Coverage Falls\",\"Mile High Singles ordered to pay disgruntled customer\",\"Arsenal news LIVE updates: Wenger reveals Lemar secret, Aubameyang problem, Murphy rage\",\"Beautiful and perfect\",\"Dominican Newspaper Mistakes Alec Baldwin for Trump\",\"Tyler Duncan eagles 18th to take Safeway Open lead\",\"Jose Mourinho open to selling David de Gea on one condition\",\"Surveillance firms spied on campaign groups for big companies, leak shows\",\"Former NBA player's ex-wife won't face death if convicted\",\"Mortgage Foreclosure - NOTICE OF MORTGAGE FORECLOSURE SALE\",\"Where to buy England flags as World Cup 2018 campaign continues\",\"Lane Kiffin begins his second act as a head coach. Is he ready?\",\"A Replacement of Population is Taking Place in Europe\",\"Wynn Resorts tops Q1 estimates with broad profit gains\",\"Win tickets to see Post Malone!\",\"D\\u00e9j\\u00e0 vu Blue & Star Sapphire impressive\",\"Car bomb kills journalist in Somalia capital, says witness\",\"Trump says Kim Jong Un has been 'open' and 'honorable' so far\",\"Bank of China Q1 profit flat, bad loans rise\",\"BP signs 20-year LNG supply contract with Thailand's PTT\",\"Basketball: Family sues over death of G-League player Upshaw\",\"Three Held at Imphal Airport with Gold Worth Rs 51 Lakh\",\"DeAndre Yedlin insists Newcastle must 'keep shooting higher' as he targets strong end to the season\",\"Plans for 150 homes in Hatton Park withdrawn from meeting\",\"Bards & Brews Reader Is Now Live!\",\"South Asia's summer monsoon starts early\",\"Argyll and Bute celebrate young people with activities launch\",\"Blossom Cocktail Lounge in DC is selling a $1,000 cocktail\",\"California governor signs 'sanctuary state' bill\",\"One lane of M1 closed near Leeds as morning rush gets underway\",\"Fitch Affirms Singer Sri Lanka PLC at 'A-(lka)'; Outlook Stable\",\"4 Ways to Transform Your People Strategy for Industry 4.0\",\"Clouds And Scattered Showers Today\",\"Halsey Survives Apocalyptic New \\u2018Sorry\\u2019 Video\",\"Advocates say Canada needs national pain strategy to provide care, lower costs\",\"NYC passes new urban agriculture bill\",\"How to Retain More \\\"Job Hopping\\\" Millennials\",\"The three things you need to know today in Los Angeles: Sat, Feb 3\",\"The McGill Daily\",\"Arkansas Pushes To Carry Out Executions, Fighting Court Rulings And The Clock\",\"Bobby Cannavale reveals newborn son\\u2019s name\",\"Jessica Alba motivated by under representation\",\"The Latest: Ukraine faked death of Russian journalist\",\"Politics: Former US intelligence chief says the US military has backed down North Korea before, and can do it again\",\"AFLW Giants to tinker but not start again\",\"11 accused in Fareed Tanash murder case convicted\",\"Salisbury Mother-Daughter Team Arrested For Growing Marijuana\",\"The Latest: Guillermo del Toro wins top directing award\",\"San Diego City Council candidate Monica Montgomery on the issues\",\"Healthy Life Guidelines To Follow For Much Better Nutrition\",\"Ancient mug workshop found near site of Jesus wine miracle\",\"BRIEF-Trustmark Corp Q1 Earnings Per Share $0.54\",\"Biogen Inc. (BIIB) Downgraded by TheStreet to Hold\",\"Photographer of the Day: Mike Sperduto\",\"Mississippians prepare for Nate's arrival - WLOX.com - The News for South Mississippi\",\"Montclair municipal judge faces ethics complaint\",\"EU braces for Brexit talks collapse as May falters\",\"Did a Lakers fan predict the future by naming his horse LeBron J?\",\"Drive for Kids Campaign celebrating 10 years and $3.6-million raised\",\"Siro and Westnet bring gigabit connectivity to Westport innovation hub\",\"Trump wants to send man back to moon, on to Mars\",\"West Midlands Fire Service 'misleading public over five minute response time claims'\",\"Sluggish smartphone sales hit HKT H1 earnings - Mobile World Live\",\"Keep the Libraries Open\",\"Navalny, Khodorkovsky and Udaltsov about the future of Russia\",\"World in Progress: Stories that matter from around the world\",\"Cartwright leads Friars past Golden Eagles, 77-75\",\"Top Junior Dairy Show students to sell Thursday\",\"Madras High Court seeks SEC's pledge to hold civic polls by July end\",\"Dozens of pubs celebrate first day of spring by letting customers swap cucumbers for FREE gin and tonic\",\"Thunderstorms set to hit Surrey again as Met Office issues third yellow warning this week\",\"Brie Bella raising daughter as a vegetarian\",\"Uma Thurman accuses Harvey Weinstein of assault\",\"UFC Fighter Paige VanZant Says Cutting Weight Gave Her an Eating Disorder\",\"Lars: It would be cool to hear Phil Rudd play with Metallica\",\"NFL Power Rankings: Wild Card edition\",\"England vs Italy: Mako Vunipola must prove fitness for Six Nations during 40-minute Saracens cameo\",\"Red Sox's Eduardo Rodriguez: Confident following surgery\",\"Mike Comrie, Ex-NHLer and Hilary Duff's ex-husband, accused of rape: Report\",\"MLB notebook: Rangers, Colon nearing minors deal\",\"Storms Push Across South, Damaging Buildings, Cutting Power\",\"India lose 0-3 to USA in FIFA U-17 opener\",\"Trump administration to decide fate of nearly 9,000 Nepalis in US with humanitarian protection\",\"Ontario premier would welcome U.S. education secretary if visit rescheduled\",\"Stricken Liverpool fan Sean Cox returns home to Ireland\",\"Clyde want loan star Lamont back at Broadwood\",\"Larch inmates train shelter dogs for adoption\",\"UPDATE 2-Australia's Cochlear books record half-year profit but China slump a worry\",\"Five RI University Presidents Make More than $500,000\",\"Loyola, Porter Moser in talks about 'ripping up old contract' for richer deal\",\"Doug Jones Fires Back At Roy Moore After Campaign Attack On Joe Biden\",\"A Pakistani's eye view of India@70: Is India turning from the land of the free into another Pakistan?\",\"Tamar Braxton Denies Photoshopped Body\",\"Uganda: Lecturer Rooms Empty As Makerere Students Report\",\"Netflix lures Shonda Rhimes productions away from Disney's ABC\",\"Louis Van Gaal\\u2019s thoughts on Jose Mourinho\\u2019s football: \\u2018Manchester United play boring football\\u2019\",\"Twitter sure makes it easy to point out the questionable ethics of pol\",\"Kuwait contains oil spill, power and water output normal - agency\",\"RE/MAX Realty Affiliates agent starts own company\",\"My Heartless Sister\",\"Xi says Chinese are people with great spirit of struggle\",\"Brexit boost: May to discuss UK trade with Japan during state visit\",\"The Big Clean passes 160-tonne mark in two months\",\"College baseball team hits 'Major League' home run with video\",\"Keanu Reeves Likely To Appear In John Wick Prequel TV Series\",\"PHOTOS: Management says too early to say cause of London apartme - Spokane, North Idaho News & Weather KHQ.com\",\"Luxury industry could be dented by Euro\\u2019s strong run - analysts\",\"Gabriel Guerrier's 4 goals lead Westwood boys to 5th win of season\",\"WXOW Morning News Producer - WXOW News 19 La Crosse, WI - News, Weather and Sports |\",\"Father who lunged at Nassar said he wanted to pain him\",\"New Bill Arrives For Damage To Aral Sea\",\"Sandy Hook Mom Nicole Hockley on Las Vegas Shooting\",\"Ferries, Trains, and Automobiles: The Untold Story of Commuter Students\",\"How effective is Yoga at work\",\"Senate election: ECP announces polls schedule for Islamabad's two seats\",\"Notley calls out \\u2018cowardly\\u2019 conservative response to intolerance LGBTQ\",\"Class action motion filed over \\\"Pink Tax\\\"\",\"Crime rate has stabilized, but perception of Calgary as a safe city is 'eroding': report\",\"Varlamov stops 37 shots as Avalanche beat Rangers 4-2\",\"How Fed hike will affect US consumers and overseas economies\",\"Target 8: Required storm shutters missing and misfit\",\"NFL owners admit Trump swayed anthem discussion in Kaepernick depositions\",\"Golden Globe nominations 2018\",\"Family faced with deportation: \\u2018Returning to Guatemala is returning to death\\u2019\",\"BBC journalist ordered to leave Indonesia's Papua over tweets\",\"Chengannur Bypoll 2018, Kerala Chengannur bypoll By Election 2018\",\"Politics: Trump delivered the slowest State of the Union on record\",\"Golden Globes embrace big stars portraying real people\",\"Wymyn behaving badly\",\"New male contraceptive pill can stop sperm production without ANY side effects, claim scientists\",\"The surprise Wales player Austin Healey wishes qualified for England so Eddie Jones could steal him\",\"Kevin Lee Rips into Tony Ferguson Backstage at UFC 216 Weigh-ins (Video)\",\"Mobility as Service Market: Analysis and Opportunity Assessment 2018\",\"Python Developer\",\"Kisumu County automates revenue collection in bid to raise Sh1b\",\"Saint Mary's moves on in NIT, beats Washington 85-81\",\"Man suffers stab wounds in fight with two men on street\",\"Playing The Tech Rebound With These Leveraged ETFs\",\"Roger Federer Defeats Lukas Lacko with Ease at 2018 Wimbledon\",\"Cool Hand Lukes end 1Bar\\u2019s unbeaten run\",\"Proposed bill would force North Carolina, N.C. State to leave ACC due to boycott\",\"Welcome to Vegas: Billboards ask for tips on gunman's motive\",\"Mount Dora couple fined $100 per day for paint job on house\",\"Joel Embiid Drops $12k on Booze, Parties with 76ers Co-Owner for 24th Bday Bash\",\"Movie Review \\u201cThe Emoji Movie\\u201d\",\"Kansas man on mower attacks police with screwdriver, wrench\",\"Members of Orlando's LGBTQ Community Taking Gun Classes in Wake of Pulse Shooting\",\"Puerto Rico\\u2019s new governor promises immediate push for statehood\",\"When will Carson Wentz return? And three other burning questions\",\"Special Counsel Mueller examining possible obstruction by Trump: report\",\"Federal officials take to sky in a different kind of East Coast whale hunt\",\"Geisinger Health System accused of coercing patients into research study\",\"Moscow awaits Russian diplomats ordered to leave Britain\",\"Uncivil, podcast steeped in Charleston history, wins Peabody Award\",\"@CloudExpo #FinTech #ML #DigitalTransformation\",\"City of Bridgeport facing $10 million loss\",\"Wild Panda Cub Spotted in Wolong Nature Reserve in China\",\"Pressure mounts on govt to pass RTI Bill to improve transparency in extractive sector\",\"NHS waiting times and treatment access are a postcode lottery, report warns\",\"Dublin Airport Opens New Boarding Gate Area\",\"EU budget: Reinforcing Europe's cultural and creative sectors\",\"Three Shot, Including Two Police Officers, In Dallas\",\"Jabrill Peppers may get pushed to second round of NFL draft\",\"Sheikh Rasheed petitions SC seeking PM Abbasi\\u2019s disqualification\",\"Crown Castle International - Riding The Tsunami Of Data Growth\",\"Sacred Heart wins BAA senior boys hoops title\",\"1 killed, young boy flown to hospital after Bremen house fire - Tri-State News, Weather & Sports\",\"Westfall Technik: Major New Injection Molding Group Emerges\",\"Lottery Winner, Finally Able to Afford Healthcare, Learns He Has Cancer and Dies Within Weeks of Getting $1 Million\",\"BRIEF-NCC Group appoints Chris Stone as executive chairman\",\"Mass of support set for Ellicott City, hit hard again by massive flood\",\"Contracts signed for construction of new Cockhill Bridge with work to begin within weeks\",\"Here's Why 3M Is Poised To Outperform\",\"Wanda Sykes on Crafting with Her Twins\",\"Australia's CBA says CEO Narev to stand down amid money-laundering scandal\",\"Red Lobster Endless Shrimp Is Back, and Here\\u2019s the Secret Menu for It\",\"Viewing patterns: Information and media infrastructures - Editors' introduction\",\"Mobile World Congress 2018: The Tangled Fate of Graphene and 5G\",\"A Marjory Stoneman Douglas graduate is making a sculpture to honor the shooting victims\",\"'Grand Theft Auto 5' Doomsday Heist Launch: Next Major DLC Update Arrives Today\",\"Judge to determine if woman who stole ambulance should be held criminally responsible\",\"Moody's: 70% of wealth in higher ed is concentrated among 20 institutions\",\"Dothraki claims overdue victory on protest\",\"How much exercise your kid needs, based on the latest research\",\"Ozuna HR starts comeback as Marlins beat A's 11-6\",\"Pedophile Grandpa Reportedly Turned His Home Into \\u2018Rape House,\\u2019 Sold Children To Be Abused\",\"WINK Digital - Your go-to when severe weather information is critical\",\"Round Lake Park home invasion suspect extradited from California\",\"New quid on the block: UK revamps its coins to tackle counterfeiting\",\"Leatherback sea turtles showing up in South Carolina waters\",\"Asian shares track Wall Street rebound, as Italy fears fade - NBC12 - WWBT - Richmond, VA News On Your Side\",\"Love Island series 1 and 2 land on Netflix\",\"Dodgers put RHP Maeda on 10-day DL with left hip strain\",\"Over 3,000 Workers To Lose Salaries...\",\"\\u2018Infinite Challenge\\u2019 tops music charts\",\"Exhibit features Ernie Barnes, football player turned...\",\"Age and Unemployment\",\"Chances of 4 percent U.S. growth this year low: Economists via Reuters poll\",\"Mailing list error inundates inboxes\",\"Swedish airport explosive suspect released without charge - prosecutor\",\"Lactalis is facing a disaster with expansion on hold\",\"Wigan Athletic vs Huddersfield Town: give us your ratings for the Terriers\",\"Highway 17 mud clearing starts after major delays\",\"'Alvanon's Fit Movement fits right into our Master Tailor Story'\",\"71-year-old legally blind man missing from South Bay\",\"Pledge to ensure fair elections\",\"Police and Fire Brigade 'investigating' listed building blaze\",\"7 unsolicited burger-grilling tips to impress your friends on Independence Day\",\"Dortmund's injured Bartra out for four weeks after bus attack\",\"Common use items exempt from e-way bill provision under GST\",\"Improve your ball striking with this great pre-set drill\",\"Corus Entertainment's profit misses estimates as costs rise\",\"UPDATE 1-Argentina says Feb industrial output fell 6.0 pct vs Feb 2016\",\"N229 Million Fraud: Court Grants Ex-Minister, Bulama And Four Others Bail\",\"Mud, sweat, and tears in Lower Mainland high school\\u2019s Tough Eagle\",\"UCF professor on mission to communicate aphasia to the world\",\"Niall Toner Band play Clonmel Folk Club\",\"Telangana: Rats nibble on dead baby\\u2019s face, hospital denies negligence\",\"#SONA2018: Will February 8 be Zuma's political swansong?\",\"BGT: Marc Spelmann accused of playing the SYMPATHY card\",\"10 ways to save on UK train tickets\",\"Report: Relations in Russian minority in Czech Republic worsen\",\"Doping education made mandatory at European Athletics Under-18 Championships\",\"Graham: Moore win would be 'gift that keeps on giving' for Democrats\",\"Chandra Levy's memory surfaces in sexual harassment allegations | The Modesto Bee\",\"Football coaches blame surge in transfers on rise of 'AAU-type' culture (Part 1)\",\"PH Amateur Open set\",\"Bolshoi Ballet \\\"The Nutcracker\\\"\",\"27 thoughtful holiday gifts women will love\",\"Increasing Minimum Wage Puts More Jobs at Risk of Automation\",\"Shkimba: #MeToo movement a long time coming\",\"What are opioids and what are the risks?\",\"Liberty University plans to add new arena to Virginia campus\",\"Feed Behind Our Food Challenges Retailers\",\"One Australian job pays $50,000 a year for a weekly shift\",\"Trump accusers recount sexual harassment claims\",\"Laval Rocket's Adam Cracknell refuses to quit on himself\",\"I am satisfied with President Buhari\",\"Pennsylvania Department of Health Warning About Possible Rabid Ferret\",\"Languages still a major barrier to global science\",\"Assad's forces push into key ISIS stronghold in eastern Syria\",\"New Orleans Vampire Legends with local expert Jonathan Weiss\",\"5 date ideas to celebrate Valentine\\u2019s Day at Southern California casinos\",\"Rockies quiet Pirates 5-1 to end 3-game losing streak\",\"Yolo Rum Expands Portfolio\",\"Liverpool boss Jurgen Klopp questioned after Real Madrid loss: 'It cannot be coincidence'\",\"Harry Styles Nervous as he Debuts Solo on Saturday Night Live\",\"4/24/18 Game Preview: New York Mets at St. Louis Cardinals\",\"3 shot to death at Great Lakes Dragaway\",\"LeBron, Cavs edge Heat 91-89 in 1st game without Love\",\"Pittsburgh jazz performer Lee Robinson coming to Penn State New Kensington\",\"Cleveland rallies to stun Yankees, takes commanding 2-0 ALDS lead\",\"Merck CEO resigns from Trump council after Charlottesville\",\"U.S. wants North Korea to dismantle nuclear arms for sanctions relief: report\",\"Chairman of Chinese conglomerate HNA dies in accident\",\"RICHARD LITTLEJOHN: Britain has taken leave of its senses\",\"VMware to Present at the William Blair 38th Annual Growth Stock Conference\",\"January 21 & 22- The Last Temptation of Christ / COUNTER/Weight Theatre Lab\",\"Crews help rescue student, staff members from freezing water\",\"Kilbryde Hospice receive \\u00a316K cash boost following huge fundraising ball\",\"Ezekiel Elliott Turns Heads In Crop Top Dress Shirt\",\"Baldwinsville parent imposed her views of sex ed on everyone else (Your letters)\",\"White House Narrows List Of National Security Adviser Candidates To Replace Flynn\",\"Pendlebury to sit down for Collingwood's JLT opener\",\"Binatone Industries introduces music fan to market\",\"Stratford MP backs the Prime Minister amid calls for leadership contest\",\"WA Government to argue for abortion clinic exclusion zones in the High Court\",\"Handling online threats to journalists presents difficulties\",\"CBN Set To Blacklist Exporters Over Export Proceeds Remittance\",\"Trump's rise spurs students in Japan to broach touchy subjects\",\"Muslims opposing Ram temple should go to Pakistan, says UP Shia Waqf board chief Waseem Rizvi\",\"United Nations envoy warns Syria's Idlib is 'big new challenge'\",\"Meet Women Making It Work in a Male-Dominated World\",\"Brits abandoning traditional office clothes as suits and ties become a thing of the past\",\"The Latest: No verdict after morning session by Castile jury\",\"HHS Works to Restore Protections to Doctors Who Object to Performing Sex Changes\",\"Lidding Films Market Global Segmentation and Major key Players Analysis 2023\",\"Flight of the Conchords cancel show at Manchester Arena after Bret McKenzie breaks his hand\",\"Traffic still heavy in Mallow as fire brigade continue to battle large fire\",\"Become a Pikachu with Snapchat's new Pokemon filter\",\"UPDATE: Cards Lose Alex Reyes for 2017 to Tommy John Surgery\",\"5 Steps for a home remodel\",\"Realogy Earns CEO Cancer Gold Standard Accreditation for Seventh Consecutive Year\",\"Roger Federer: Andre Agassi makes Rafael Nadal and Novak Djokovic Wimbledon decision\",\"Waikato dairy conversion attracts large fine\",\"Why these Montclair residents oppose the 10 Freeway toll lanes\",\"China censures Emirates airline after two safety incidents\",\"The Latest: St. Louis judge agrees to dismiss case | The Olympian\",\"Cardiff Devils get ready for new season\",\"Kansas Supreme Court hears arguments on school funding - KCTV5 News\",\"Ghana to be based in Al Ain's UAE City training grounds for AFCON camping\",\"Dorna Sports partners with SHOTOVER to inject new tech into MotoGP\\u2122 Broadcasts\",\"Are grad trips worth it?\",\"Intradermal vaccination: The faster, calmer way of vaccinating your herd\",\"Mississippi governor signs nation's most restrictive abortion law\",\"Father Charged With Soliciting Hit Man to Kill Wife and 4-Year-Old Daughter: Authorities\",\"How the Green Bay Packers lost by winning the NFC North\",\"Active Stock Picking Kitov Pharamceut Ads (KTOV)\",\"Mets put Syndergaard on DL, Matz also injures finger\",\"Coleman Giveaway\",\"Ever wondered how many bitcoins will there eventually be? Here's an answer\",\"Bonneville county 4-H grounds getting major upgrade\",\"Santana, Yanni announce Bell Centre shows\",\"Art concerned with the interface of land and farming\",\"Crew for Spring Hero Flight Announced\",\"Kuwait- Dollar pares back early gains on CPI euro ends marginally higher - Safe haven buying lifts yen amid Korean tension\",\"Column: Comey leaves us spinning\",\"Family's tribute to 'kind-hearted, gentle soul' fatally injured in collision\",\"WWE News: Asuka & The Miz Talk Mixed Match Challenge Charity Visit, Fan Poll on Returning Female Stars at Royal Rumble\",\"Temple Rodef Shalom Presents Empowerment Forum\",\"Police Scotland to invest \\u00a3200m in outdated systems\",\"Current lava flows are hottest, fastest of latest eruption | Fort Worth Star-Telegram\",\"Intel's Gemini Lake chips to feature native HDMI 2.0, more cache, better performance\",\"Texas tries new anti-abortion strategy after high court loss\",\"76ers Get In On Philly\\u2019s Super Bowl Bash With Win Over Heat\",\"Phillies' Moniak puts up first pro four-hit game\",\"Midwife Organisation Rules to Finally Stop Pushing The Idea of 'Normal Births'\",\"PPP former MPA, others join PML-Q\",\"Supreme Court Invalidates Gender Inequality in Citizenship Law\",\"\\u054a\\u0578\\u057d\\u057f \\u0556\\u0561\\u056f\\u057f\\u0578\\u0582\\u0574. \\u054c\\u0578\\u0582\\u057d\\u0561\\u056f\\u0561\\u0576 \\u0563\\u0561\\u0580\\u0578\\u0582\\u0576\",\"FM's trip to Japan likely to come before task force unveils review outcome on controversial deal\",\"You Should Really Look At Your Facebook Third-Party App Settings Right Now\",\"B.C. guitarist aims to play for 116 hours, break Guinness record for charity\",\"Prepreg Market Analysis, Current and Future Trends 2024\",\"Buy Books Fitness Walking\",\"Man in critical condition after ATV crash Tuesday\",\"Boz Scaggs releasing new album, shuffling into town\",\"Online Drug Stores - Advantages of Online Pharmacies\",\"Trump wants death penalty for drug traffickers\",\"It's the perfect time to give 'Pok\\u00e9mon Go' another chance\",\"Americans split on whether recreational marijuana should be legal, new poll finds\",\"Trump: A lot of people should be ashamed over declassified Russia probe memo\",\"Budget 2018 is Inclusive, Comprehensive: PM\",\"Justin Bieber Sings in Spanish on \\u2018Despacito\\u2019 Remix\",\"QSaltLake Magazine\",\"\\u201cDon\\u2019t Kick the Turkeys\\u201d to be performed by the Waxahachie Community Theatre\",\"Office space to replace building in Westover Pointe - WALB.com, South Georgia News, Weather, Sports\",\"Gerald Carpenter: Bright Eyes, Kurt Vile to Share Bill at Santa Barbara Bowl\",\"Angie Stone Threatens To Sue Bruno Mars And Mark Ronson\",\"LKM Recycling Helps Save the Earth with Its Recycling Solutions for Paper and Cardboard\",\"Nicholson Clinic Can Help Combat Obesity\",\"Police: No suspects in shooting deaths of 4 men in house\",\"Liberia: Korkoya Bears 'U.S. Citizenship'\",\"Antoine Griezmann plays down Manchester United link\",\"White House rejects Trump accusers demand for Congress probe (VIDEO)\",\"Running for a healthier generation\",\"Racists Couldn\\u2019t Keep This Teacher From Throwing An Epic Party For Kids In Charlottesville\",\"Manatees taken off U.S. endangered list, conservationists cry foul\",\"Rutgers and Syracuse agree to series for 2020-21\",\"Hungry Venezuelans turn to Colombia for a plate of food\",\"Ottawa man beaten, arrested by police\",\"Surprise email lands offer for Gators senior\",\"\\u2018The Voice\\u2019 Results: Top 12 Eliminations\",\"Father died trying to save children in Springfield fire\",\"Trump's threat of Venezuela military action could bolster Maduro\",\"New Cafe Coming to Old Cloverdale\",\"DNA key in accused Google exec killer's arrest\",\"David Ballard Joins Docupace Board of Directors\",\"Tick threat for northeast Ohio has parents taking preventive measures\",\"Satyameva Jayate Song Dilbar, Featuring Nora Fatehi, Is Now Viral. Seen Yet?\",\"The Uncomfortable Truth Behind the Desire for Embryo Jewelry\",\"Peterson retires\",\"Russian man accidentally sets his rooster free in shop\",\"Kriti Sanon: Success and failure don't last for too long\",\"$4m NCA Case: SC Sets June 7 For Ruling\",\"\\u201cStraws suck\\u201d owner of popular Bedfordshire pub makes a statement with plastic ban\",\"Trump Administration Takes Key Step To Rolling Back Auto Fuel Standards\",\"White House locked down over after vehicle strikes barrier\",\"CAUGHT ON CAMERA: 17-year-old takes Georgia police on wild high-speed chase\",\"Dr. Who shed makes debut\",\"Rachel Newton: Why is live Scottish traditional music dominated by men?\",\"Freedom of navigation exercise in South China Sea part of strategy: Defense Secretary James Mattis\",\"Fact-finding major goal for Canada at between-round NAFTA talks this week\",\"New Yorker fires reporter Ryan Lizza after alleged sexual misconduct\",\"Islamic State says leader\\u2019s son killed in Syria\",\"3 associates of bandit Veerappan acquitted in tusk smuggling case\",\"Rising sea levels threaten Torres Is homes\",\"\\u2018Bows cornerback Farris confident on an \\u201cisland\\u201d after fearless freshman season\",\"Heath slip to third after Bexhill defeat\",\"Bike share program soon coming to Henderson - Tri-State News, Weather & Sports\",\"Google Lens: Everything you need to know\",\"Aubameyang: the new Thierry Henry?\",\"Study reveals the uni courses that\\u2019ll make you rich - and those that won\\u2019t\",\"6N: Italy hopes nosedive as English injuries clear up\",\"\\u2018Days Of Our Lives\\u2019 Spoilers: Nicole Gets Her Heart\\u2019s Desire, Will She Finally Get Custody Of Baby Holly?\",\"Brazil police arrest 22 in medical fraud probe; paper says Philips investigated\",\"Britain will not try to 'cherry pick' in Brexit talks, says May\",\"Norwalk checkpoint results announcedTroopers stopped vehicles Friday...\",\"CA Los Angeles/Oxnard CA Zone Forecast\",\"World Photo Day event in Larne\",\"Imperial Dreams: A Marketable Storyline in a Political Light\",\"Sheffield archaeologists discover medieval priest in elaborate grave 700 years after his death\",\"Here's a map of all the unreal holiday lights in Toronto\",\"Warning: Misspelling that web address can lead to trouble\",\"MabVax Therapeutics Grants Exclusive Sublicense to Y-mAbs Therapeutics for Patented Neuroblastoma Vaccine\",\"What Is Best for Your Business?\",\"We Have No Way of Knowing if This Scary Superbug Has Already Hit the United States\",\"The Assam Tribune Online\",\"Bitcoin Futures Soar Amid Frenzy Over Virtual Currency\",\"BRIEF-Sanderson Farms enters production agreement with House of Raeford Farms\",\"Celeb Birthdays\",\"Wisconsin Chamber Orchestra\",\"Muslim and Catholic interfaith marriage when neither spouse converts.\",\"Midday Meghan Upped To Full-Time At WILN/Panama City\",\"We can take reassurance from how poorly utilised data mining has so far been\",\"Detroit Marks 126th Anniversary of the ARF\",\"Anupam Kher Says Sunny Deol Is Genuine & Strong Willed\",\"RPT-On path to forecast landslide, Britain's May must win over pro-EU voters\",\"Mexico officials: 3 missing film students believed slain\",\"YouTube to start labeling videos from state-funded broadcasters\",\"Eastern Michigan, Akron look to establish themselves as contenders: MAC Football 2017 (video)\",\"Eyeing growth in mid-teens; focus on mkt share, rural penetration, stable margins: Dabur\",\"Sheriff: 3 shot dead at Wisconsin auto racing event\",\"Police seeking witnesses to assault\",\"Knicks 2017-18 Schedule: Top Games, Championship Odds and Record Predictions\",\"Oh, snap! Crocodile bites French tourist at Thai park\",\"UK couple were poisoned by same nerve agent as ex-Russian spy, police say\",\"Nokia Shows Worlds Fastest Routers\",\"Artist\\u2019s Plans to Build Home Near Edvard Munch\\u2019s Studio Spark Debate\",\"Katy Perry ends four day live stream with a concert and a wardrobe malfunction\",\"Counterfeit US$100 'supernote' found in South Korea could have been forged by the North\",\"Baby formula recalled worldwide over salmonella scare\",\"200-plant cannabis farm discovered at Heckmondwike properties\",\"G20 foreign ministers to tackle fight against poverty in Africa\",\"Choir presents double bill of Christmas concerts at city venue\",\"FOREX-Dollar hits 1-month high vs yen as US yields rise on Mnuchin comments\",\"Amstel Gold Race drops Cauberg hill from final lap\",\"Spending bill: Republicans rush to beat shutdown\",\"Special Election Results tonight after 8pm\",\"Full transcript: Donald Trump's lewd remarks about women on Days of Our Lives set in 2005 | The Independent\",\"Allister Coetzee done after two rocky years as Springboks coach\",\"Rampant Tipperary ladies football team present Laois with a 21-point defeat\",\"Getting kids to pedal\",\"ISIS claims responsibility for New Year\\u2019s attack on Istanbul nightclub\",\"High Immune Function Linked to Stunted Childhood Growth\",\"The nation in brief\",\"WME Invests in Influential, Plans to Use Startup\\u2019s Social-Data Platform for Branded-Content Deals\",\"DA responds to disturbing video of ex-Astros prospect hitting then-girlfriend\",\"Mobile Biometrics Market Growth Prospects, Key Opportunities, Trends And Forecast 2024\",\"Nigeria: Kachikwu Unveils 20-Point Plan On Ending Militancy in the N'Delta\",\"Barcelona agree \\u00a336.4m fee for former Tottenham midfielder Paulinho from Guangzhou Evergrande\",\"How to Own January and the New Year\",\"\\u2018Shrek: The Musical,\\u2019 revives beloved animated film on stage\",\"Phoenix reject Bosnich A-League claims\",\"Pursuit suspect considered armed and dangerous after injuring of - WOWK 13 Charleston, Huntington WV News, Weather, Sports\",\"'That's it?' Fired FBI chief Comey scoffs at GOP memo - CBS News 8 - San Diego, CA News Station - KFMB Channel 8\",\"Two UNBC alumni receive awards\",\"Thunder G Westbrook gets fine, tech for confronting Gobert\",\"BIG ONE WARNING: Huge earthquake predicted after mass beaching of whales in New Zealand\",\"German talks on coalition govt move ahead as deadline looms\",\"Volunteers needed for cleanup of Alabama Civil War sites\",\"Chinese tariffs on U.S. goods to take effect at start of July 6: source\",\"The Republicans\\u2019 Unholy Grail\",\"Skylight Music Theatre presents: Beauty and the Beast (Zemire et Azor)\",\"HSBC draws line under Mexican cartel case after 5-years on probation\",\"Convent Prep student tops Grade Six Assessment; Dublanc Primary top performing school\",\"New Interpretation Of Migratory Bird Treaty Act Under Trump Administration Means Those Who Kill Birds May Go Unpunished\",\"Northrop Grumman to Perform Technology Maturation Work on US Army\\u2019s LTAMDS Program\",\"Dutch police shoot man reportedly waving ax on balcony\",\"Which NHL player will make next Tony Romo in booth?\",\"White Nationalists Plan to Rally at Texas A&M on September 11: Your Texas Roundup\",\"Sears and Kmart remove some Trump products\",\"Cardinals prospect Alex Reyes to undergo Tommy John surgery\",\"How To Stop Feeling Like S#*+ With Andrea Owen\",\"Mom of murder victim describes killer as \\\"selfish, heartless, evil\\\"\",\"Looking back on Matthew: Recovery continues in Pooler - WTOC-TV: Savannah, Beaufort, SC, News, Weather & Sports\",\"The Economic News Roundup: Private Passenger Rail, City Zoning, And The New Millennial Commission\",\"Disruption starts to play into the trucking sector\",\"The Martha's Vineyard Times\",\"Celebrate Michigan\\u2019s history at Middleville Heritage Days\",\"Ex-employee sues celebrity chef, claiming sexual harassment\",\"Shahid Kapoor spends a beautiful day with his girls Mira and Misha. See pics\",\"Stocks bounce amid US-NK sabre-rattling\",\"A Definitive Timeline of Sarah Jessica Parker and Kim Cattrall\\u2019s Sex and the City Feud\",\"Report exposes abuse of power by U.S. police\",\"South Range Elementary students learn about fire safety\",\"Rao\\u2019s detention challenged\",\"Dutch retailer pulls infant milk in French health scare\",\"Fright Nights is returning to the South Florida Fairgrounds\",\"How to watch Kentucky-Missouri: TV, time, streaming online, prediction, line, picks\",\"Pit bull attacks family trying to dress it in sweater, 3 hurt\",\"Sacr\\u00e9 bleu! One of the great comedies is acted in French and English at the same time!\",\"Italy worries could be focus for G7 ministers\",\"Early Onset Dementia Support Group\",\"Twitter reverses change and admits 'misstep' over bid to tackle abuse\",\"Severe thunderstorm warnings issued for portions of Northeast Illinois.\",\"Automotive Grease Market Brief Analysis and Application Set to Attain Growth by 2024\",\"Trump Calls Out KKK, White Supremacists After Charlottesville: 'Racism Is Evil'\",\"Fox Renews 9-1-1 For a Second Season\",\"Cardi B Sends Her Blessings And 'Money Moves' To Fifth Harmony\",\"Jazz star Richie Cole heads to Gennaro's, How Art Thou this week\",\"Thunder vs. Celtics: Preview, time, TV channel, how to watch online\",\"Palliative care enhancements in the pipeline: Chee Hong Tat\",\"10 Things to Know for Today - WRCBtv.com | Chattanooga News, Weather & Sports\",\"Watch Local 4 News at Noon -- April 24, 2018\",\"Sodium Cumenesulfonate Market Assessment & Market Growth Evolution Forecast 2024\",\"\\u0540\\u0565\\u0584\\u056b\\u0574\\u0575\\u0561\\u0576\\u056b \\u0565\\u0580\\u0563\\u0565\\u0580\\u0568 \\u0570\\u0576\\u0579\\u0565\\u056c \\u0565\\u0576 \\u0576\\u0578\\u0580 \\u0563\\u0578\\u0580\\u056e\\u056b\\u0584\\u0561\\u057e\\u0578\\u0580\\u0574\\u0561\\u0574\\u0562\",\"Team effort earns Rams win over SCC\",\"5G launch at South Korea Winter Olympics could go horribly wrong. Will the U.S. exploit the situation?\",\"'We Weren't Good Enough': Switzerland Manager Slams His Side's 'Slow' Display in WC Defeat to Sweden\",\"Mysterious blast near forces camp in Pulwama\",\"Iraq forces have retaken 60% of east Mosul - commander\",\"Cameron Beaubier Doubles In Return To Sonoma Raceway\",\"4 snowmobilers go through Lake Superior ice near Pictured Rocks\",\"Birth control: Trump expands opt-out for workplace insurance\",\"Delano Fall Fair: longhorns, saloon girls, and Suzy Bogguss\",\"The Latest: Monfils wins to set up 3rd-round clash v Querrey - wave3.com-Louisville News, Weather & Sports\",\"The Miz Taunts Daniel Bryan Over Attack, Andrade 'Cien' Almas & Zelina Vega SmackDown Promo, WWE GRR\",\"Early Child Development Programs Can Make Children and Parents More Successful, Says Study\",\"Man arrested in hit-and-run crash that critically injured woman in Encinitas\",\"Jackie Gillies flaunts her svelte post-jungle figure in red bikini\",\"Two Thai nationals arrested at airport, gold worth Rs 26.61 lakh seized\",\"Kapstone Fire \\\" Hometeam 1490 KLOG, ESPN Radio\",\"BRIEF-Momenta Pharmaceuticals Q1 loss per share $0.46\",\"Scotland\\u2019s Baby Box available nationwide\",\"Cryptocurrency scams soar to $1.7M\",\"Letter to the Editor: Kids played a role in fighting caterpillar infestation\",\"The number of bike-sharing programs worldwide has doubled since 2014 - and the number of public bikes has increased almost 20-fold\",\"Ty Dolla $ign: 'I Was Never a Rapper'\",\"BRIEF-Advanced Health sees H1 headline loss per share of 10.52 cents\",\"Introspect on failures, Mayawati tells Adityanath\",\"Sentinel Progress\",\"People With Albinism Being \\\"Hunted\\\" in Malawi\",\"Hugh Jackman on Disney/Fox Deal & Wolverine in The Avengers\",\"Healthy Living: Research shows heart attacks peak on Christmas Day\",\"Matt Terry Dishes On His Relationship With Love Island's Montana Brown\",\"Jars full of joy: The creative ways you can gift your homemade canned goods this Christmas\",\"AFC Champions League 2017: Toyota Player of the Week - Al Hilal's Nicolas Milesi\",\"Clayton Murzello: AB and the art of saying goodbye\",\"Bedouin village destroyed along West Bank\",\"Uganda: Basena, Kajoba Take Control of Three-Star Cranes\",\"Developer proposes $100m floating wharf for Broome\",\"Until next time, happy reading!\",\"Hydrolysed Vegetable Protein Market: Powder & Granules Form Segment to Hold over 50% Value Share During the Forecast Period: Global Industry Analysis 2012 - 2016 and Opportunity Assessment 2017 - 2027\",\"Marquez to plead guilty to aiding San Bernardino shooter's plots\",\"Boise Democrat King wants government permission slip for medical lab workers\",\"2,000-year-old King Billy pines reveal Tasmania's climate and fire history\",\"Middleton and Priory fall short but Bognor and Stirlands shine again\",\"Chicago toddler shot and killed in latest spasm of violence\",\"How to Choose Business Phone Systems\",\"Mark is out for revenge on Australian Survivor\",\"Where to Find Parking at Chili Night - Beckley, Bluefield & Lewisburg News, Weather, Sports\",\"Suspected militants attack Burkina Faso restaurant, killing 18\",\"Chiefs beat Raiders, break slide | The Wichita Eagle\",\"Tragic former glamour model found hanged in her bedroom by 12-year-old son\",\"Grey\\u2019s Anatomy\\u2019 Spoilers: The One Clue That Amelia Won\\u2019t Die\",\"Disney to receive USD 50 million after Carrie Fisher\\u2019s death\",\"Trump taking tougher stance on Russia nuclear threat\",\"PM felicitates Pakistan cricket team, nation over victory against England\",\"Driving an off-road V-8 truck on a tarmac road course looks like fun\",\"Close to be handed Pompey chance to impress\",\"China's LeEco secures $2.2 billion for expansion from new investors\",\"Ola, Uber Drivers' Strike in Delhi-NCR Sees No Serious Impact\",\"Flying car costing more than $1 million goes on show in Monaco\",\"Guelph Transit ridership up 44%\",\"Local officer explains how Barry Larry Terry and his raccoon became a social media sensation\",\"White House optimistic North Korea summit will take place\",\"Man gets prison for selling drugs that led to fatal overdose\",\"Chris Smith isn't worried about Bengals depth at DE after breakout performance\",\"Falcons extend win streak to 11\",\"Superhero showdown - Avengers: Infinity War reviewed\",\"London, Ont. fire chief retires amid allegations of harassment\",\"Man Utd news: Jose Mourinho\\u2019s Luke Shaw attack is because of this - Chris Sutton\",\"Improving animal care on the dairy\",\"Teen used the 'Ladies, imagine this' meme to come out on Twitter\",\"Champions League Preview: Monaco seek first semifinal in 13 years against Dortmund boosted by Marco Reus return\",\"Stakeholders Call for Review of Tax Policies in Real Estate Sector\",\"Blac Chyna Says Kim Kardashian Bullied Her With That Petty Present\",\"Nokia 6 international variant gets certification ahead of MWC 2017\",\"Usain Bolt wins Laureus 'Sportsman of the Year' award\",\"Full Circle\",\"Text of the Fed's statement after its meeting Wednesday\",\"Prince heirs sue Illinois hospital over care during overdose\",\"Business Hands out Anti-Bullying Award to local students - WTRF 7 News Sports Weather - Wheeling Steubenville\",\"Oracle buys marketing tech company Grapeshot\",\"Lovett protects values, beliefs\",\"Lawmakers react to gun attack at ball field - KTEN.com - No One Gets You Closer\",\"Philippines to borrow more from foreign lenders\",\"Trouble for Nigerians abusing spy number plates, sirens as police take action\",\"Spartenburg students bring prom to cancer patient\",\"7 paid iPhone apps on sale for free today\",\"PM Deuba-Prachanda meet\",\"The Latest: Carter-Williams going to the Houston Rockets\",\"This tweet perfectly sums up the chaos in Donald Trump's White House\",\"'Baraka' At Cinestudio, An Annual Christmas Tradition\",\"Pyongyang's main economic lifeline falls as China begins banning key imports from N. Korea\",\"Cheating encouraged in new Monopoly version\",\"Met Office expects thunderstorms to return tomorrow\",\"Environmental groups slam NDP decision to continue with Site C\",\"Solar companies push back against NV Energy rate plan\",\"Scandal surrounds Larnaca land registry\",\"Update: 4 people shot outside of DIA during Noel Night festivities\",\"Michael Sheen, David Tennant to Star in Neil Gaiman\\u2019s \\u2018Good Omens\\u2019\",\"Family, friends mourn 3 dead in Virginia rally violence\",\"\\\"No magic wand\\\" for making England better at football warns Gareth Southgate after worrying loss to 10-man France\",\"Golf-Masters dog-fight is a lot of fun for Fowler\",\"Crusaders aim to cement 1st place ahead of Super Rugby...\",\"Bank of America Profit Boosted by Surge in Trading\",\"It's official: Jamie Foxx is \\u201cSpawn\\u201d\",\"Australia's foreign real estate investment boom looks to be over. Here are five things we learned\",\"Uttarakhand elections 2017: 68 per cent voting till 5 pm, officials say vote percentage to be more than in 2012\",\"Henrikh Mkhitaryan set to start against Everton - Arsene Wenger\",\"Regulator seeks to gain trust with consistency\",\"The EU may make it easier for Britain to sign a post-Brexit China trade deal\",\"Mackay man who stole stash of items walks free\",\"FG to release additional N750bn for capital projects\",\"EPA Administrator Scott Pruitt unveils controversial 'transparency' rule\",\"Police dog biting student results in lawsuit settlements\",\"Weather Halts Sacred Heart Homecoming Game With Knights Down 21-0 to Plainville\",\"Change In Guest For Xfinity Monday Live\",\"In \\u2018Jasoda\\u2019, Kiran Nagarkar succeeds in giving us an extraordinary heroine in the form of Everywoman\",\"'It's been a roller-coaster': Patient questions $750K price tag for life-changing drug\",\"Germany wants Greece in euro zone, IMF says no special deals\",\"Housing Draft creates dorm changes\",\"Mwanza District Council staff go two months without pay: Hold vigil\",\"Confusion with conservatism: Letter to the editor\",\"David Moyes' dig at Liverpool FC boss Jurgen Klopp\",\"Nigeria central bank says has suspended some lenders from FX sales\",\"Woodlands revamp: Scenic link to waterfront popular with residents\",\"Iran's Revolutionary Guards praises Rouhani's threat to...\",\"Supreme Court rejects attempts to restrict, ban death penalty\",\"Rutland Wins Hoops Crown to End Fifty-Year Drought - WCAX.COM Local Vermont News, Weather and Sports-\",\"Female elephant rescued by Forest Department in Kodagu dies\",\"EU news: UK plan for EU citizens rebuked as it doesn't work on iPhone\",\"LA comedian and Breckenridge native Monte Montepare returns to Summit County for two performances\",\"Armed militia, clergy, more unite against white nationalists\",\"US firms increase inventories, see sales jump in December\",\"In The Recruiting Huddle: Kamryn Giles - American Heritage\",\"Bloomberg Pledges $4.5 Million to Cover US in Paris Climate Agreement\",\"The best stockpots you can buy\",\"Like Modi, Yogi too faces dissent from ally in UP, minister criticises BJP for focusing on temples\",\"Severe weather passing through Houston area\",\"Qatar signs $12 bln deal to buy F-15 jets from U.S.\",\"India's growth likely topped 7% again in January-March quarter\",\"Afghan Anarchy: The Failed State Keeps Failing\",\"How Trump made hatred profitable for Milo Yiannopoulos\",\"Latin American Herald Tribune\",\"Hibernian 2 - 2 Celtic\",\"Arsenal fans are all saying the same thing about 'toxic' Alexis Sanchez after Mesut Ozil signs new deal\",\"Colombian Army Captures 12 ELN Rebel Group Fighters, Rescues 8 Child Soldiers\",\"Study: 10 private university chiefs topped $2M in 2015\",\"Willie Mullins to run four horses in Punchestown Gold Cup as favourite Road to Respect stands ground\",\"Heat wave death toll reaches 11 in Montreal\",\"Videos show an assured Assad driving himself to Syria battle\",\"Cincinnati commiserates again, this time over 'Black Sunday'\",\"FIFA drops Saudi referee from World Cup after fixing ban\",\"A couple of glasses of wine a day really do help clear your mind\",\"Facebook Messenger Hits 1.2 Billion User Milestone\",\"NMDC stock rated Buy by ICICI Securities, says global outlook for iron ore positive\",\"Publisher Tronc names CEO Dearborn chairman of board\",\"This Trump & Kim Kardashian Photo At The White House Will Leave You Speechless\",\"Police release video of fiery crash that killed 6 in Scottsdale - FOX5 Vegas - KVVU\",\"A store for Rawhide\",\"Oprah Winfrey Shares 7 Aha Moments With Vogue\",\"1 sentence that perfectly explains Donald Trump's view of the pr - Erie News Now | WICU & WSEE in Erie, PA\",\"Disclosed! Priyanka Chopra is getting paid this much for Bharat; read to know\",\"HPE Cloud Volumes Is An Intriguing Storage Service Offering\",\"Erdogan Says Monitors Questioning Turkey's Vote Should 'Know Their Place'\",\"Wakeman Great Futures Benefit\",\"Art & Sole Sister's Expo\",\"The Best of What\\u2019s Coming to Netflix in June 2018\",\"Alfie Evans supported in Brussels: Tajani says baby deserves NEW chance at treatment\",\"SA rand recovers\",\"3rd tranche of electoral bonds sale from May 1: FinMin\",\"Granite State could face Right to Work legislation in 2017\",\"Facebook puts out it's detailed guidelines\",\"Man wanted for questioning about theft from Florence Target\",\"Pressure Relief Devices Market is Expected to Reach Approximately US$2.80 billion by 2020-End\",\"Local Group is Calling for Removal of Statue on Capitol Grounds - WBOY - Clarksburg, Morgantown: News, Sports, Weather\",\"Bank executive, husband plead guilty to embezzling $2.7M\",\"Scientists use photonic chip to make virtual movies of molecular motion\",\"These 5 Cheese Plates Are Perfect, So Copy Them Exactly\",\"India\\u2019s telecom subscriber base hits in 1,198 mn in April, but Reliance Jio\\u2019s additions slow down\",\"President Trump plans to impose steel, aluminum tariffs on the European Union\",\"Triple trawler tragedy: The Hull fishermen who never came home\",\"East Kilbride Thistle gaffer's emotional end to season as Jags avoid relegation\",\"Marcos L. Rosa Discusses The Place and Importance of Sao Paulo's Architecture Biennial\",\"Sinclair to sell TV stations as part of Tribune acquisition\",\"Consumer Reports creates flap over Surface Laptop\",\"David Rouss\\u00e8ve/REALITY: \\\"Halfway to Dawn\\\"\",\"1 Suspect In Custody, 4 Injured After 'Low-Tech' Explosion At Manhattan Subway Stop\",\"htm 4th of july\",\"How Denel stand-off with Treasury started amid NeneGate\",\"Victims\\u2019 Families Urge California To End Gun Investments\",\"North Korea May Have Submarine Missile, Bioweapons Too\",\"Trump imposes new sanctions on Venezuela bitcoin\",\"Avid Customers Reign at The BAFTA Film Awards\",\"Son of Equatorial Guinea's president facing trial in France\",\"Paul Collingwood targets promotion back to Division One after penning new Durham contract\",\"Florida Gov. Scott backs reservoir plan for troubled Lake Okeechobee\",\"2447 Tomoka Farms Road\",\"FS: 1990 Yamaha Superjet 650\",\"2-yr-old girl falls into septic tank in Jalpaiguri, dies\",\"Fatality Reported Near Gladewater\",\"No better season for a cold one\",\"FIFA World Cup 2018 Round of 16 Recap: Heavyweights get outrun, England finally win on penalties\",\"El Nino aided in massive carbon dioxide release\",\"Bank of England could open new offices in Plymouth under Labour government\",\"Ken Williams: Corporate Greed a Driving Force Behind the New Poverty\",\"Meet the Harry Kane lookalike who has fans chanting and asking for selfies\",\"Oil prices fall two percent on strong dollar, weak China data\",\"Bhopal: Minister hikes compensation given to victim's family\",\"Pentagon salutes US-India ties with command name change\",\"8536 Highfield Rd, Park City, Ut\",\"Despite winning last home series, Auburn softball drops slightly in polls\",\"How to enjoy Art Fair PH 2018: Take your time, but skip the selfies\",\"Early Model TJ Fuel control\",\"Four from Valley face federal gun charges\",\"College hails model apprentices\",\"Side channel blower - Adjust the limitation valves professionally\",\"Soldier Spotlight [Image 3 of 28]\",\"Jason Goodwin: The foxes are unashamedly cocky - but the badgers are even worse\",\"Second annual Novena for nation begins Aug. 15\",\"Pink Battling The Flu Before Super Bowl National Anthem Performance\",\"Senate intelligence leaders aim to prevent election hacking | Island Packet\",\"'Cancer gave me strength to pursue my passion'\",\"Pedestrian run over by truck in Alberta town, driver facing impaired driving\",\"Joffrey\\u2019s \\u2018Romeo & Juliet\\u2019 is a misshapen chaos of well-seeming forms\",\"Most fatal accidents that occur during festive periods due to carelessness of drivers: IGP\",\"Resources For Educators To Use In The Wake Of Charlottesville\",\"Trump: FBI, DOJ 'Politicized Sacred Investigative Process in Favor of Democrats'\",\"APNewsBreak: Ex-VA exec says he wasn't told hospital cost\",\"Funniest Reactions to the Kim Kardashian-Donald Trump Photo\",\"The Two Hearts of Brady Street\",\"Parents learning how to talk to children about digital use,...\",\"Quick Crossword - 15th February 2017\",\"County\\u2019s Veterans Commission to host Veteran\\u2019s Expo at Annapolis High\",\"GNOME: Decorators, GTK+ and GNOME Mobile\",\"McKenna offering $2B in low-carbon project funding to most, not all, provinces\",\"Man accused of groping, attempting to lure children at Renton Walmart\",\"Jamaican News News at Caribdaily.com\",\"Expanded sports betting fuels fears about gambling addiction\",\"Shoreham pianist Victoria Wilson rediscovers lost jazz giant\",\"MMA gym owner Xu Xiaodong pummels 'Wing Chun Master'\",\"Amazon Owns Over 80 Percent Market Share Across Product\",\"Food: The feigned grain\",\"Gotham By Gaslight Movie: A Batman and Horror Story Combined\",\"Don't video it, experience it\",\"How sweet it is\",\"GTA 5 Online DLC UPDATE: Transform Races, Condemned and Dogfight Modes REVEALED\",\"Harvey Weinstein will NOT testify before grand jury in sexual assault cases against him in New York\",\"Fishing line strung across road cuts neck of motorcycle rider in Washington\",\"Seattle mayor to move quickly to house more homeless\",\"REVIEW: Billingshurst Choral Society offer Mendelssohn\\u2019s Elijah at Billingshurst Leisure Centre\",\"Facebook users should check their block lists after tech giant discloses huge BUG\",\"Three dead in addition to gunman in mass shooting at San Francisco UPS facility\",\"US VP Pence to seek market access, investment, in Japan talks\",\"Bat-Signal to light up Los Angeles in tribute to Adam West\",\"Talent, depth and energy carrying Princeton women's hoops\",\"Experts Explain The Dangers Of Lightning \\\" CBS Philly\",\"2 people rescued from B.C. avalanche after placing a call to Poland for help\",\"Three nights in Kenya for $1,420\",\"Josey Jewell NFL draft profile\",\"Car slams into Cape Coral garage, driver arrested for DUI\",\"Analysis: Is there a major shake-up coming on the Seahawks\\u2019 defensive line? Critical decisions loom\",\"Proposed pipeline regulations shouldn\\u2019t start a \\u2018trade war:\\u2019 B.C. premier\",\"How the DoLaB Stage Became Coachella's Festival-Within-a-Festival\",\"Chanelle Hayes in row with Robin Thicke's girlfriend over breastfeeding pic\",\"2nd attack in 27 minutes was death blow: Judge\",\"Sensex Jumps 191 Points, Ignores Weak IIP Data\",\"Police: 29 arrests at protest at Philadelphia ICE building\",\"AG: We are fair and generous, accept Najib innocent until proven guilty\",\"What Is \\u201cdbfseventsd,\\u201d And Why Is It Running on my Mac?\",\"IPOB: Anambra calm, workers turnout impressive - Police\",\"\\u2018Where We Live\\u2019 Faces The Las Vegas Tragedy In This Week\\u2019s Best Comics\",\"Demonetisation put India back by 30 years: Congress\",\"Mossad: Iran and its proxies filling void left by defeated ISIS\",\"It's the end of an era as Intel cancels its Intel Developer Forum, effective immediately\",\"Haas: Gap to leaders \\\"really depressing\\\"\",\"Nordson launches Corporate Responsibility and Sustainability Report\",\"Google Makes Big Land Grab In Reno, Very Close To Tesla's Gigafactory\",\"UK weather forecast: Will there be more thunderstorms today? Met Office weather warning\",\"Disabled Facilities Grant (DFG)\",\"US student found dead in Bermuda\",\"Factors To Choose A Glass Pool Fence\",\"Pharrell Williams doesn't think Daft Punk will return to Coachella\",\"AP PHOTOS: Curtains to carpets, red rules Chinese politics\",\"Albion attempts to sign Chelsea legend Terry and Sunderland\\u2019s Defoe blasted as \\u2018nonsense\\u2019\",\"European Session: Orders and Options Watch\",\"Cocktail of the week: red snapper\",\"Kettering bar could be banned from holding youth events after disorder\",\"Team Loyalty All Year\",\"BLACK HILLS OPRY with Aces & Eights featuring Jami Lynn & Ruthless West Band - Lead\",\"Foreign children in Israeli jails: 'Mom, why are we here?'\",\"Stabbing suspect identified - KFBB.com News, Sports and Weather\",\"Treatment delays lead to prolonged pain and suffering for this Pa. teen | Opinion\",\"Jobs Alert: FDC Group Financial Services is hiring\",\"Wedding Marketing Mastery Insider Guide\",\"Ty Nichols resigns as Sierra Canyon boys basketball coach\",\"Researchers uncover novel strategy to program immune system for fighting cancer\",\"Expert: Region poised to snatch companies eyeing Lehigh Valley\",\"Rajasthan Police arrest two for inflammatory Facebook posts\",\"California has collected so much of your tax money it can\\u2019t spend it all\",\"Thrilling finish on tap at Waste Management Phoenix Open\",\"Bournemouth captain Simon Francis signs one-year contract extension\",\"Douglas bowlers advance in playoffs\",\"Video shows man being tasered on flight after allegedly groping, screaming insults at passenger\",\"We drove the 2019 Jetta at Volkswagen's secret test facility\",\"Stacey Dash And Jon Voight Have A Roe v. Wade Movie That's Likely To Be Hilariously Terrible\",\"La Ronge restaurant owner\\u2019s death considered homicide after armed robbery\",\"U.S. factory orders rise; business spending on equipment slowing\",\"Original Content podcast: \\u2018Altered Carbon\\u2019 is a murder mystery in a body-swapping future\",\"Bank of America to lay off more workers\",\"IMD retains its average monsoon rains forecast\",\"Trump, in photo op, talks of 'calm before the storm'\",\"Franchot seeks new police powers against income tax fraud\",\"Brent crude oil jumps to mid-2015 high after North Sea pipeline outage\",\"Don\\u2019t Put Ads on Your Blog\",\"Connecticut paper claps back at Rhode Island paper's dis - wave3.com-Louisville News, Weather & Sports\",\"Tasmanian Premier refuses to disclose advice on controversial gun law changes\",\"Paola Paulin: 5 Things To Know About Justin Bieber\\u2019s Stunning New Girlfriend\",\"Labour bigwig demands Jeremy Corbyn DERAILS Brexit\",\"The RHS Garden Harlow Carr column with Liz Thwaite\",\"Pleasant day ahead, not as cold either\",\"World Bank procurement framework laudable\",\"Iris Poole, 88\",\"Teen girls hit by cement truck, rushed to hospital\",\"For The Second Year In A Row, Gastroenterologists Nationwide Endorse Non-Prescription FDgard\\u00ae For Functional Dyspepsia (Meal-Triggered Indigestion) [i]\",\"Jennifer Aniston on \\u2018Friends\\u2019 reunion: \\u2018Anything is a possibility\\u2019\",\"10 States With the Highest Mortgage Rates\",\"Chattanooga 8th grader, grandmother swept down creek in Grand Canyon\",\"Getting assistance from your local authority\",\"Trump doubles down on support for struggling Luther Strange\",\"Buy Indraprastha Gas, Tata Chemicals: Chandan Taparia\",\"Headteacher praises staff who minimised damage caused in school classroom blaze\",\"SpaceX launching recycled rocket, supply capsule for NASA\",\"Female Tech CEO: Join My Startup, Trump-Loving Women-Hating Male Developers\",\"New Lisbon Man Asleep in Car Near Boat Dock Arrested on Drug Charges\",\"After Amazon Enters the Home, Earnings Won't Save iRobot Corporation\",\"Woman was sexually assaulted, say Delhi police; condition critical: She wanted to fly, now she can\\u2019t even walk, says father a day later\",\"Germany lodges bid to host Euro 2024, Turkey also in fray\",\"AP FACT CHECK: Trump's shaky claim on Iran nuclear accord\",\"Rutgers professor accused of anti-Semitism removed from role\",\"Kevin Hart stars in J. Cole\\u2019s new KOD music video for \\u201cKevin\\u2019s Heart\\u201d\",\"Woman killed after SUV struck tree stump in Wake County\",\"Fear mounts in Austin as serial bomber uses tripwire\",\"Judge: More parking for proposed NJ mosque unconstitutional\",\"DMV Earns 2017 Communicator Award for Website\",\"2018 NFL Draft Rumors: 'Serious buzz' on Baker Mayfield No. 1 to Browns, 'definitely' in play\",\"Canberra man who broke man's jaw at Academy club 'thought girlfriend cheated'\",\"Montreal becomes hot spot for Chinese real estate shoppers, says Juwai report\",\"BRIEF-TransAlta Renewables reports $129 mln in Q1 revenue\",\"Petition urges \\u2018The Crown\\u2019 star Matt Smith to donate pay disparity to Time\\u2019s Up\",\"Rural patients vs city patient in quality care\",\"Over 460 HP Laptop Models Shipped with Keylogger\",\"BizHawk: Los Agaves Opens Second Restaurant on De la Vina\",\"Unemployment: NI jobless rate continues to fall\",\"96-Year-Old Runner Breaks American Record at Grand Blue Mile\",\"Journey\\u2019s End : An unsent letter from the front\",\"Iwobi, Giroud push Arsenal to 3rd on EPL table\",\"Community urges nightclub to beef up security following weekend - wave3.com-Louisville News, Weather & Sports\",\"Seattle, King County councils approve $1.3 million in legal aid for immigrants\",\"Saudi Arabia moves to indict some 'radical' Twitter users\",\"Texas lawmaker wants to make it harder for people to divorce\",\"Nurse opens up about depression battle during what should have been happiest time of her life\",\"Photo Essay: Okhla Sabzi Mandi, Life in Action\",\"Mike Parr's Empty Ocean for Dark Mofo review: performance art at its most haunting and obscure\",\"EU lawmaker seeks to soften euro clearing plan as Brexit looms\",\"States of emergency declared from Florida to Louisiana in preparation for Tropical Storm Nate\",\"Windsor/Essex County Humane Society Wants You To Watch For Strays On Streetcorners\",\"U.S. top court mulls time bars for SEC recovery of ill-gotten profits\",\"Freed US student 'brutalised' by North Korea captors, says father\",\"EJR Radio and Club NL cohosts Legendary Talent at Amsterdam Dance Event\",\"May \\u2018bowled over\\u2019 by Gove\\u2019s raw, sexual magnetism\",\"[VIDEO] \\u2018SNL\\u2019: Donald Trump on \\u2018Fox & Friends\\u2019 - Devin Nunes Memo\",\"Boeing proposes Embraer tie-up excluding defence unit - source\",\"Brazil indigenous attacked, hands severed in land dispute - advocates\",\"Coconino County voters to consider judge selection process\",\"CARSTAR Joins National Auto Body Council to Highlight Distracted Driving Awareness Month\",\"Government turns to sports for newest heroes\",\"Tom Hardy Read Bedtime Stories on TV for New Year's Eve!\",\"\\u2018I am not god of football\\u2019: Maradona after unveiling statue in Kolkata\",\"Christmas comes early for needy kids in Hamilton County\",\"Doctor denies genital mutilation; judge keeps her locked up\",\"'Voodoo' nurse Josephine Iyamu jailed for sex trafficking\",\"Living Well Eating Smart: Get ready for cookout season with lean beef\",\"Young boy allegedly abducted by mother three years ago back in Canada\",\"Nate aims at New Orleans: Will pumps to drain the city work? - CBS News 8 - San Diego, CA News Station - KFMB Channel 8\",\"Alabama Senate race: Obama, Biden record robo-calls for Jones\",\"Motorcycling-Motorcycling Grand Prix Austria moto3 qualification results\",\"Brother Of Suspected Florida Shooter Arrested For Trespassing At High School\",\"Man arrested after intense situation at Conn\\u2019s Southaven\",\"New endowment supports Oregon Hillel\\u2019s annual Welcome Shabbat\",\"Portage Biotech: An Apparent Large Discount To Liquidation Value\",\"Pakistan inflation eases to 3.70 pct in December\",\"Teen struck by vehicle near Beecher Terrace - wave3.com-Louisville News, Weather & Sports\",\"Belizean News News at Caribdaily.com\",\"Meb Keflezighi, 2014 Marathon Champion, Runs Boston For One Final Time\",\"On Exhibit: Opening and ongoing\",\"La La Land in Concert w/the Milwaukee Symphony Orchestra\",\"Ready Player One\\u2019s Screenwriter Is Hard At Work On A Matrix Reboot\",\"Laine scores twice, matches Ovechkin for NHL goal lead\",\"Sewer Line Repair to Begin Thursday at State-La Cumbre Intersection\",\"FSA election set for Comanche County\",\"Rays' Corey Dickerson: Stays hot despite move down order\",\"Cars Play a Giant Game of Soccer Using Heavy Duty Excavators as Goalies\",\"Tory Burch Wants You to Own Your Ambition\",\"No free power to gaushalas in Punjab: Gau Sewa chief questions cow cess collection, writes to power utility\",\"West Sussex woman jailed for threatening horses\"],\"title\":\"Articles\",\"value\":\"The National African-American Read-In at Kent County Public Library\"},\"id\":\"1002\",\"type\":\"Select\"},{\"attributes\":{\"client_comm_id\":\"b2f41317d5a5489b91dfff9db0a58121\",\"comm_id\":\"c0011758c9eb4efca34e0548111f360b\",\"plot_id\":\"1002\"},\"id\":\"1003\",\"type\":\"panel.models.comm_manager.CommManager\"},{\"attributes\":{\"reload\":false},\"id\":\"1004\",\"type\":\"panel.models.location.Location\"}],\"root_ids\":[\"1002\",\"1003\",\"1004\"]},\"title\":\"Bokeh Application\",\"version\":\"2.3.3\"}};\n",
       "    var render_items = [{\"docid\":\"bc8132a7-ec20-4f82-ae18-936f7c00db23\",\"root_ids\":[\"1002\"],\"roots\":{\"1002\":\"29771558-4f51-4f79-b3e7-923efb0df396\"}}];\n",
       "    root.Bokeh.embed.embed_items_notebook(docs_json, render_items);\n",
       "  }\n",
       "  if (root.Bokeh !== undefined && root.Bokeh.Panel !== undefined) {\n",
       "    embed_document(root);\n",
       "  } else {\n",
       "    var attempts = 0;\n",
       "    var timer = setInterval(function(root) {\n",
       "      if (root.Bokeh !== undefined && root.Bokeh.Panel !== undefined) {\n",
       "        clearInterval(timer);\n",
       "        embed_document(root);\n",
       "      } else if (document.readyState == \"complete\") {\n",
       "        attempts++;\n",
       "        if (attempts > 100) {\n",
       "          clearInterval(timer);\n",
       "          console.log(\"Bokeh: ERROR: Unable to run BokehJS code because BokehJS library is missing\");\n",
       "        }\n",
       "      }\n",
       "    }, 10, root)\n",
       "  }\n",
       "})(window);</script>"
      ],
      "text/plain": [
       "Select(name='Articles', options=['A star-studded dinner in...], value='The National A...)"
      ]
     },
     "execution_count": 56,
     "metadata": {
      "application/vnd.holoviews_exec.v0+json": {
       "id": "1002"
      }
     },
     "output_type": "execute_result"
    }
   ],
   "source": [
    "titles = df.title.unique().tolist()\n",
    "title_widget = pn.widgets.Select(value=choice(titles), options=titles, name='Articles')\n",
    "title_widget"
   ]
  },
  {
   "cell_type": "code",
   "execution_count": 57,
   "id": "aab6e615-8e72-4db1-bb2d-afe073892e8e",
   "metadata": {},
   "outputs": [],
   "source": [
    "@pn.depends(title_widget.param.value)\n",
    "def article_recommender(title_widget):\n",
    "    \n",
    "    article_idx = np.where(articles_list == title_widget)[0][0]\n",
    "    article_similarities = doc_sim_df.iloc[article_idx].values\n",
    "    similar_title_idxs = np.argsort(-article_similarities)[1:6]\n",
    "    similar_titles = articles_list[similar_title_idxs]\n",
    "    \n",
    "    return pn.Column(*similar_titles, width=600)"
   ]
  },
  {
   "cell_type": "code",
   "execution_count": 58,
   "id": "e2f0f5de-81aa-4bc0-9a3e-bdb5d5be2ecf",
   "metadata": {},
   "outputs": [],
   "source": [
    "text = pn.pane.Markdown(f\"# Small Recommendation Engine\", style={\"color\": \"#000000\"}, width=600, height=50,\n",
    "                        sizing_mode=\"stretch_width\", margin=(10,10,10,5))"
   ]
  },
  {
   "cell_type": "code",
   "execution_count": 59,
   "id": "3f7271ab-3737-4de0-adb9-1d4ef28f2e0e",
   "metadata": {},
   "outputs": [
    {
     "name": "stdout",
     "output_type": "stream",
     "text": [
      "Launching server at http://localhost:41901\n"
     ]
    },
    {
     "data": {
      "text/plain": [
       "<bokeh.server.server.Server at 0x7f2ad216b490>"
      ]
     },
     "execution_count": 59,
     "metadata": {},
     "output_type": "execute_result"
    },
    {
     "name": "stderr",
     "output_type": "stream",
     "text": [
      "\n",
      "(brave:220893): Gtk-WARNING **: 14:47:32.068: Theme parsing error: gtk.css:6375:0: Expected a valid selector\n",
      "\n",
      "(brave:220893): Gtk-WARNING **: 14:47:32.068: Theme parsing error: gtk.css:6379:0: Expected semicolon\n",
      "\n",
      "(brave:220893): Gtk-WARNING **: 14:47:32.068: Theme parsing error: gtk.css:6383:8: 'window' is not a valid property name\n",
      "\n",
      "(brave:220893): Gtk-WARNING **: 14:47:32.068: Theme parsing error: gtk.css:6391:6: 'window' is not a valid property name\n",
      "\n",
      "(brave:220893): Gtk-WARNING **: 14:47:32.068: Theme parsing error: gtk.css:6399:6: 'window' is not a valid property name\n",
      "\n",
      "(brave:220893): Gtk-WARNING **: 14:47:32.068: Theme parsing error: gtk.css:6405:0: Expected semicolon\n",
      "\n",
      "(brave:220893): Gtk-WARNING **: 14:47:32.068: Theme parsing error: gtk.css:6408:2: Expected semicolon\n",
      "\n",
      "(brave:220893): Gtk-WARNING **: 14:47:32.068: Theme parsing error: gtk.css:6411:0: expected '}' after declarations\n"
     ]
    },
    {
     "name": "stdout",
     "output_type": "stream",
     "text": [
      "Opening in existing browser session.\n"
     ]
    },
    {
     "name": "stderr",
     "output_type": "stream",
     "text": [
      "WARNING:tornado.access:404 GET /favicon.ico (::1) 0.35ms\n"
     ]
    }
   ],
   "source": [
    "pn.Column(text, title_widget, article_recommender, align='center', width=600, height=300).show()"
   ]
  },
  {
   "cell_type": "markdown",
   "id": "219da607-d0d5-418e-8949-7b3f9bc80434",
   "metadata": {},
   "source": [
    "## 6. Topic Modeling"
   ]
  },
  {
   "cell_type": "markdown",
   "id": "25a47c63-7b78-4b03-b121-3f5f4bcea625",
   "metadata": {},
   "source": [
    "What is topic modeling?\n",
    "\n",
    "> \"In machine learning and natural language processing, a topic model is a type of statistical model for discovering the abstract \"topics\" that occur in a collection of documents. Topic modeling is a frequently used text-mining tool for discovery of hidden semantic structures in a text body. Intuitively, given that a document is about a particular topic, one would expect particular words to appear in the document more or less frequently: \"dog\" and \"bone\" will appear more often in documents about dogs, \"cat\" and \"meow\" will appear in documents about cats, and \"the\" and \"is\" will appear approximately equally in both.\" ~ [Wikipedia](https://en.wikipedia.org/wiki/Topic_model)\n",
    "\n",
    "As with the recommendation engine, topic modeling requires a bag of words for the representation of the data and, in contrast, it requires a topic number as the key parameter for the model."
   ]
  },
  {
   "cell_type": "code",
   "execution_count": 60,
   "id": "69185490-a428-466f-891c-ce727177db8b",
   "metadata": {},
   "outputs": [],
   "source": [
    "vectorizer = CountVectorizer(strip_accents = 'unicode', min_df=0.035, max_df=0.80)"
   ]
  },
  {
   "cell_type": "code",
   "execution_count": 61,
   "id": "cd406e8f-c081-42c4-af50-b9b100b617d9",
   "metadata": {},
   "outputs": [
    {
     "data": {
      "text/plain": [
       "<4255x789 sparse matrix of type '<class 'numpy.int64'>'\n",
       "\twith 261772 stored elements in Compressed Sparse Row format>"
      ]
     },
     "execution_count": 61,
     "metadata": {},
     "output_type": "execute_result"
    }
   ],
   "source": [
    "bow = vectorizer.fit_transform(df['clean_text'].values)\n",
    "bow"
   ]
  },
  {
   "cell_type": "markdown",
   "id": "8920e926-33ec-4941-a379-2cab01961097",
   "metadata": {},
   "source": [
    "What is Latent Dirichlet Allocation?\n",
    "\n",
    "> \"In natural language processing, the Latent Dirichlet Allocation (LDA) is a generative statistical model that allows sets of observations to be explained by unobserved groups that explain why some parts of the data are similar. For example, if observations are words collected into documents, it posits that each document is a mixture of a small number of topics and that each word's presence is attributable to one of the document's topics. LDA is an example of a topic model and belongs to the machine learning field and in a wider sense to the artificial intelligence field.\" ~ [Wikipedia](https://en.wikipedia.org/wiki/Latent_Dirichlet_allocation)"
   ]
  },
  {
   "cell_type": "code",
   "execution_count": 62,
   "id": "cd0404aa-e658-4020-8e83-11b08b170786",
   "metadata": {},
   "outputs": [],
   "source": [
    "topics = 10"
   ]
  },
  {
   "cell_type": "code",
   "execution_count": 63,
   "id": "105d2085-aa22-4f49-830b-08000d7d944f",
   "metadata": {},
   "outputs": [],
   "source": [
    "lda_model = LatentDirichletAllocation(n_components=topics, # number of topics\n",
    "                                      max_iter=100, # these are the amount of times the algorithm will run\n",
    "                                      learning_method='online', \n",
    "                                      random_state=42, # setting a seed for reproducible results\n",
    "                                      n_jobs=2) # this parameter makes sure we use all of the cores in our machine"
   ]
  },
  {
   "cell_type": "code",
   "execution_count": 64,
   "id": "452e0251-5018-4fba-8126-d6b1cc94957d",
   "metadata": {},
   "outputs": [
    {
     "name": "stdout",
     "output_type": "stream",
     "text": [
      "CPU times: user 7.44 s, sys: 766 ms, total: 8.21 s\n",
      "Wall time: 1min 10s\n"
     ]
    },
    {
     "data": {
      "text/plain": [
       "LatentDirichletAllocation(learning_method='online', max_iter=100, n_jobs=2,\n",
       "                          random_state=42)"
      ]
     },
     "execution_count": 64,
     "metadata": {},
     "output_type": "execute_result"
    }
   ],
   "source": [
    "%%time\n",
    "\n",
    "lda_model.fit(bow)"
   ]
  },
  {
   "cell_type": "markdown",
   "id": "a80b1adc-ffb8-429d-811e-9d758bbc3c3a",
   "metadata": {},
   "source": [
    "We will create a function to explore the topics and their words to see if we can tease apart the main idea of a topic."
   ]
  },
  {
   "cell_type": "code",
   "execution_count": 65,
   "id": "4aff0381-0b2b-47eb-8487-828ec24f0922",
   "metadata": {},
   "outputs": [],
   "source": [
    "def show_topics(vectorizer, lda_model, n_words=15):\n",
    "    \"\"\"\n",
    "    This function takes our vectorizer, our model, and a\n",
    "    number of words to display the topics from our model.\n",
    "    \"\"\"\n",
    "    keywords = np.array(vectorizer.get_feature_names())\n",
    "    topic_keywords = []\n",
    "    for topic_weights in lda_model.components_:\n",
    "        top_keyword_locs = (-topic_weights).argsort()[:n_words]\n",
    "        topic_keywords.append(keywords.take(top_keyword_locs))\n",
    "    return topic_keywords"
   ]
  },
  {
   "cell_type": "markdown",
   "id": "21fd8953-2c41-4c31-a3c2-35f7279b74aa",
   "metadata": {},
   "source": [
    "Play around with the topic number and the words evaluated to see which amounts makes most sense to you./"
   ]
  },
  {
   "cell_type": "code",
   "execution_count": 66,
   "id": "30d14904-3a53-455d-a90d-8456d3bbf04f",
   "metadata": {
    "scrolled": true,
    "tags": []
   },
   "outputs": [
    {
     "data": {
      "text/plain": [
       "[array(['say', 'trump', 'president', 'government', 'minister', 'party',\n",
       "        'white', 'election', 'country', 'state'], dtype='<U14'),\n",
       " array(['say', 'police', 'fire', 'man', 'car', 'people', 'kill',\n",
       "        'hospital', 'report', 'attack'], dtype='<U14'),\n",
       " array(['market', 'company', 'million', 'percent', 'price', 'share',\n",
       "        'report', 'year', 'rate', 'bank'], dtype='<U14'),\n",
       " array(['game', 'win', 'team', 'play', 'season', 'player', 'second',\n",
       "        'point', 'league', 'goal'], dtype='<U14'),\n",
       " array(['school', 'student', 'child', 'health', 'family', 'university',\n",
       "        'help', 'care', 'study', 'people'], dtype='<U14'),\n",
       " array(['nt', 'say', 'like', 'go', 'time', 'know', 'year', 'think', 'come',\n",
       "        'good'], dtype='<U14'),\n",
       " array(['new', 'june', 'st', '10', 'pm', 'open', 'art', '2017', 'event',\n",
       "        'center'], dtype='<U14'),\n",
       " array(['low', 'high', 'night', 'chance', '2018', '10', '30', 'monday',\n",
       "        '50', '20'], dtype='<U14'),\n",
       " array(['say', 'state', 'court', 'law', 'county', 'year', 'report', 'case',\n",
       "        'drug', 'public'], dtype='<U14'),\n",
       " array(['work', 'new', 'say', 'city', 'service', 'project', 'area',\n",
       "        'system', 'business', 'company'], dtype='<U14')]"
      ]
     },
     "execution_count": 66,
     "metadata": {},
     "output_type": "execute_result"
    }
   ],
   "source": [
    "show_topics(vectorizer=vectorizer, lda_model=lda_model, n_words=10)"
   ]
  },
  {
   "cell_type": "code",
   "execution_count": 67,
   "id": "616a256d-97a1-4be8-a6a5-c637dd76eae9",
   "metadata": {},
   "outputs": [],
   "source": [
    "terms = sorted(vectorizer.vocabulary_.keys())"
   ]
  },
  {
   "cell_type": "code",
   "execution_count": 68,
   "id": "1c9855f3-4b17-4b31-9826-29101cbda2a4",
   "metadata": {},
   "outputs": [
    {
     "data": {
      "text/html": [
       "<div>\n",
       "<style scoped>\n",
       "    .dataframe tbody tr th:only-of-type {\n",
       "        vertical-align: middle;\n",
       "    }\n",
       "\n",
       "    .dataframe tbody tr th {\n",
       "        vertical-align: top;\n",
       "    }\n",
       "\n",
       "    .dataframe thead th {\n",
       "        text-align: right;\n",
       "    }\n",
       "</style>\n",
       "<table border=\"1\" class=\"dataframe\">\n",
       "  <thead>\n",
       "    <tr style=\"text-align: right;\">\n",
       "      <th></th>\n",
       "      <th>10</th>\n",
       "      <th>100</th>\n",
       "      <th>11</th>\n",
       "      <th>12</th>\n",
       "      <th>13</th>\n",
       "      <th>14</th>\n",
       "      <th>15</th>\n",
       "      <th>16</th>\n",
       "      <th>17</th>\n",
       "      <th>18</th>\n",
       "      <th>...</th>\n",
       "      <th>word</th>\n",
       "      <th>work</th>\n",
       "      <th>worker</th>\n",
       "      <th>world</th>\n",
       "      <th>worth</th>\n",
       "      <th>write</th>\n",
       "      <th>wrong</th>\n",
       "      <th>year</th>\n",
       "      <th>york</th>\n",
       "      <th>young</th>\n",
       "    </tr>\n",
       "  </thead>\n",
       "  <tbody>\n",
       "    <tr>\n",
       "      <th>0</th>\n",
       "      <td>1</td>\n",
       "      <td>0</td>\n",
       "      <td>0</td>\n",
       "      <td>0</td>\n",
       "      <td>0</td>\n",
       "      <td>0</td>\n",
       "      <td>0</td>\n",
       "      <td>0</td>\n",
       "      <td>0</td>\n",
       "      <td>0</td>\n",
       "      <td>...</td>\n",
       "      <td>0</td>\n",
       "      <td>0</td>\n",
       "      <td>0</td>\n",
       "      <td>0</td>\n",
       "      <td>0</td>\n",
       "      <td>0</td>\n",
       "      <td>0</td>\n",
       "      <td>2</td>\n",
       "      <td>0</td>\n",
       "      <td>0</td>\n",
       "    </tr>\n",
       "    <tr>\n",
       "      <th>1</th>\n",
       "      <td>0</td>\n",
       "      <td>0</td>\n",
       "      <td>0</td>\n",
       "      <td>0</td>\n",
       "      <td>0</td>\n",
       "      <td>0</td>\n",
       "      <td>0</td>\n",
       "      <td>0</td>\n",
       "      <td>0</td>\n",
       "      <td>0</td>\n",
       "      <td>...</td>\n",
       "      <td>0</td>\n",
       "      <td>0</td>\n",
       "      <td>0</td>\n",
       "      <td>0</td>\n",
       "      <td>0</td>\n",
       "      <td>0</td>\n",
       "      <td>0</td>\n",
       "      <td>1</td>\n",
       "      <td>0</td>\n",
       "      <td>0</td>\n",
       "    </tr>\n",
       "    <tr>\n",
       "      <th>2</th>\n",
       "      <td>0</td>\n",
       "      <td>0</td>\n",
       "      <td>0</td>\n",
       "      <td>0</td>\n",
       "      <td>1</td>\n",
       "      <td>0</td>\n",
       "      <td>0</td>\n",
       "      <td>0</td>\n",
       "      <td>0</td>\n",
       "      <td>0</td>\n",
       "      <td>...</td>\n",
       "      <td>0</td>\n",
       "      <td>0</td>\n",
       "      <td>0</td>\n",
       "      <td>0</td>\n",
       "      <td>0</td>\n",
       "      <td>0</td>\n",
       "      <td>0</td>\n",
       "      <td>0</td>\n",
       "      <td>0</td>\n",
       "      <td>0</td>\n",
       "    </tr>\n",
       "    <tr>\n",
       "      <th>3</th>\n",
       "      <td>0</td>\n",
       "      <td>0</td>\n",
       "      <td>1</td>\n",
       "      <td>0</td>\n",
       "      <td>1</td>\n",
       "      <td>0</td>\n",
       "      <td>0</td>\n",
       "      <td>0</td>\n",
       "      <td>0</td>\n",
       "      <td>0</td>\n",
       "      <td>...</td>\n",
       "      <td>0</td>\n",
       "      <td>1</td>\n",
       "      <td>0</td>\n",
       "      <td>1</td>\n",
       "      <td>0</td>\n",
       "      <td>0</td>\n",
       "      <td>0</td>\n",
       "      <td>5</td>\n",
       "      <td>0</td>\n",
       "      <td>0</td>\n",
       "    </tr>\n",
       "    <tr>\n",
       "      <th>4</th>\n",
       "      <td>0</td>\n",
       "      <td>0</td>\n",
       "      <td>0</td>\n",
       "      <td>0</td>\n",
       "      <td>1</td>\n",
       "      <td>0</td>\n",
       "      <td>0</td>\n",
       "      <td>1</td>\n",
       "      <td>0</td>\n",
       "      <td>0</td>\n",
       "      <td>...</td>\n",
       "      <td>0</td>\n",
       "      <td>0</td>\n",
       "      <td>0</td>\n",
       "      <td>1</td>\n",
       "      <td>0</td>\n",
       "      <td>0</td>\n",
       "      <td>0</td>\n",
       "      <td>2</td>\n",
       "      <td>0</td>\n",
       "      <td>1</td>\n",
       "    </tr>\n",
       "  </tbody>\n",
       "</table>\n",
       "<p>5 rows × 789 columns</p>\n",
       "</div>"
      ],
      "text/plain": [
       "   10  100  11  12  13  14  15  16  17  18  ...  word  work  worker  world  \\\n",
       "0   1    0   0   0   0   0   0   0   0   0  ...     0     0       0      0   \n",
       "1   0    0   0   0   0   0   0   0   0   0  ...     0     0       0      0   \n",
       "2   0    0   0   0   1   0   0   0   0   0  ...     0     0       0      0   \n",
       "3   0    0   1   0   1   0   0   0   0   0  ...     0     1       0      1   \n",
       "4   0    0   0   0   1   0   0   1   0   0  ...     0     0       0      1   \n",
       "\n",
       "   worth  write  wrong  year  york  young  \n",
       "0      0      0      0     2     0      0  \n",
       "1      0      0      0     1     0      0  \n",
       "2      0      0      0     0     0      0  \n",
       "3      0      0      0     5     0      0  \n",
       "4      0      0      0     2     0      1  \n",
       "\n",
       "[5 rows x 789 columns]"
      ]
     },
     "execution_count": 68,
     "metadata": {},
     "output_type": "execute_result"
    }
   ],
   "source": [
    "bow_docs = pd.DataFrame(bow.toarray(), columns=terms)\n",
    "bow_docs.head()"
   ]
  },
  {
   "cell_type": "markdown",
   "id": "dae6e6e9-934b-4425-a4f6-c93c90c8015f",
   "metadata": {
    "tags": []
   },
   "source": [
    "The components of our model can be found `lda_model.components_` and can help us create different sets of dataframes, namely, terms-to-topics and document-to-topics. The former has as its values the number of times a word is assigned in a topic, and the latter is the probabily of the words in a document being contained in a topic."
   ]
  },
  {
   "cell_type": "code",
   "execution_count": 69,
   "id": "c002d665-82ac-4b39-9ab0-521533882958",
   "metadata": {},
   "outputs": [
    {
     "data": {
      "text/html": [
       "<div>\n",
       "<style scoped>\n",
       "    .dataframe tbody tr th:only-of-type {\n",
       "        vertical-align: middle;\n",
       "    }\n",
       "\n",
       "    .dataframe tbody tr th {\n",
       "        vertical-align: top;\n",
       "    }\n",
       "\n",
       "    .dataframe thead th {\n",
       "        text-align: right;\n",
       "    }\n",
       "</style>\n",
       "<table border=\"1\" class=\"dataframe\">\n",
       "  <thead>\n",
       "    <tr style=\"text-align: right;\">\n",
       "      <th></th>\n",
       "      <th>topic_0</th>\n",
       "      <th>topic_1</th>\n",
       "      <th>topic_2</th>\n",
       "      <th>topic_3</th>\n",
       "      <th>topic_4</th>\n",
       "      <th>topic_5</th>\n",
       "      <th>topic_6</th>\n",
       "      <th>topic_7</th>\n",
       "      <th>topic_8</th>\n",
       "      <th>topic_9</th>\n",
       "    </tr>\n",
       "  </thead>\n",
       "  <tbody>\n",
       "    <tr>\n",
       "      <th>write</th>\n",
       "      <td>74.189873</td>\n",
       "      <td>0.100028</td>\n",
       "      <td>10.225397</td>\n",
       "      <td>6.065622</td>\n",
       "      <td>6.551513</td>\n",
       "      <td>413.710713</td>\n",
       "      <td>0.100046</td>\n",
       "      <td>0.100013</td>\n",
       "      <td>164.198170</td>\n",
       "      <td>4.254628</td>\n",
       "    </tr>\n",
       "    <tr>\n",
       "      <th>wrong</th>\n",
       "      <td>17.391785</td>\n",
       "      <td>11.178896</td>\n",
       "      <td>0.100012</td>\n",
       "      <td>1.601129</td>\n",
       "      <td>0.100019</td>\n",
       "      <td>144.933104</td>\n",
       "      <td>0.100016</td>\n",
       "      <td>0.100017</td>\n",
       "      <td>14.702245</td>\n",
       "      <td>0.100012</td>\n",
       "    </tr>\n",
       "    <tr>\n",
       "      <th>year</th>\n",
       "      <td>154.857333</td>\n",
       "      <td>59.236479</td>\n",
       "      <td>674.783770</td>\n",
       "      <td>438.706439</td>\n",
       "      <td>263.225941</td>\n",
       "      <td>1284.030180</td>\n",
       "      <td>390.252698</td>\n",
       "      <td>0.100012</td>\n",
       "      <td>480.880944</td>\n",
       "      <td>390.764092</td>\n",
       "    </tr>\n",
       "    <tr>\n",
       "      <th>york</th>\n",
       "      <td>58.687343</td>\n",
       "      <td>16.602567</td>\n",
       "      <td>47.021927</td>\n",
       "      <td>16.896222</td>\n",
       "      <td>0.100022</td>\n",
       "      <td>77.728866</td>\n",
       "      <td>263.455047</td>\n",
       "      <td>10.831248</td>\n",
       "      <td>101.901696</td>\n",
       "      <td>2.175126</td>\n",
       "    </tr>\n",
       "    <tr>\n",
       "      <th>young</th>\n",
       "      <td>0.100036</td>\n",
       "      <td>95.905954</td>\n",
       "      <td>0.100021</td>\n",
       "      <td>63.053213</td>\n",
       "      <td>157.854388</td>\n",
       "      <td>281.059554</td>\n",
       "      <td>32.529527</td>\n",
       "      <td>0.101015</td>\n",
       "      <td>0.100543</td>\n",
       "      <td>3.443631</td>\n",
       "    </tr>\n",
       "  </tbody>\n",
       "</table>\n",
       "</div>"
      ],
      "text/plain": [
       "          topic_0    topic_1     topic_2     topic_3     topic_4      topic_5  \\\n",
       "write   74.189873   0.100028   10.225397    6.065622    6.551513   413.710713   \n",
       "wrong   17.391785  11.178896    0.100012    1.601129    0.100019   144.933104   \n",
       "year   154.857333  59.236479  674.783770  438.706439  263.225941  1284.030180   \n",
       "york    58.687343  16.602567   47.021927   16.896222    0.100022    77.728866   \n",
       "young    0.100036  95.905954    0.100021   63.053213  157.854388   281.059554   \n",
       "\n",
       "          topic_6    topic_7     topic_8     topic_9  \n",
       "write    0.100046   0.100013  164.198170    4.254628  \n",
       "wrong    0.100016   0.100017   14.702245    0.100012  \n",
       "year   390.252698   0.100012  480.880944  390.764092  \n",
       "york   263.455047  10.831248  101.901696    2.175126  \n",
       "young   32.529527   0.101015    0.100543    3.443631  "
      ]
     },
     "execution_count": 69,
     "metadata": {},
     "output_type": "execute_result"
    }
   ],
   "source": [
    "topic_term = pd.DataFrame(lda_model.components_.T, index=terms, columns=['topic_' + str(i) for i in range(topics)])\n",
    "topic_term.tail()"
   ]
  },
  {
   "cell_type": "code",
   "execution_count": 70,
   "id": "b013f9c3-1159-4666-a8b6-e82c7833ea56",
   "metadata": {},
   "outputs": [
    {
     "data": {
      "text/html": [
       "<div>\n",
       "<style scoped>\n",
       "    .dataframe tbody tr th:only-of-type {\n",
       "        vertical-align: middle;\n",
       "    }\n",
       "\n",
       "    .dataframe tbody tr th {\n",
       "        vertical-align: top;\n",
       "    }\n",
       "\n",
       "    .dataframe thead th {\n",
       "        text-align: right;\n",
       "    }\n",
       "</style>\n",
       "<table border=\"1\" class=\"dataframe\">\n",
       "  <thead>\n",
       "    <tr style=\"text-align: right;\">\n",
       "      <th></th>\n",
       "      <th>topic_0</th>\n",
       "      <th>topic_1</th>\n",
       "      <th>topic_2</th>\n",
       "      <th>topic_3</th>\n",
       "      <th>topic_4</th>\n",
       "      <th>topic_5</th>\n",
       "      <th>topic_6</th>\n",
       "      <th>topic_7</th>\n",
       "      <th>topic_8</th>\n",
       "      <th>topic_9</th>\n",
       "    </tr>\n",
       "    <tr>\n",
       "      <th>title</th>\n",
       "      <th></th>\n",
       "      <th></th>\n",
       "      <th></th>\n",
       "      <th></th>\n",
       "      <th></th>\n",
       "      <th></th>\n",
       "      <th></th>\n",
       "      <th></th>\n",
       "      <th></th>\n",
       "      <th></th>\n",
       "    </tr>\n",
       "  </thead>\n",
       "  <tbody>\n",
       "    <tr>\n",
       "      <th>Tory Burch Wants You to Own Your Ambition</th>\n",
       "      <td>0.128757</td>\n",
       "      <td>0.001316</td>\n",
       "      <td>0.001316</td>\n",
       "      <td>0.001316</td>\n",
       "      <td>0.072724</td>\n",
       "      <td>0.743912</td>\n",
       "      <td>0.046710</td>\n",
       "      <td>0.001316</td>\n",
       "      <td>0.001316</td>\n",
       "      <td>0.001316</td>\n",
       "    </tr>\n",
       "    <tr>\n",
       "      <th>No free power to gaushalas in Punjab: Gau Sewa chief questions cow cess collection, writes to power utility</th>\n",
       "      <td>0.001205</td>\n",
       "      <td>0.001205</td>\n",
       "      <td>0.024036</td>\n",
       "      <td>0.001205</td>\n",
       "      <td>0.001205</td>\n",
       "      <td>0.001205</td>\n",
       "      <td>0.001205</td>\n",
       "      <td>0.039617</td>\n",
       "      <td>0.927911</td>\n",
       "      <td>0.001205</td>\n",
       "    </tr>\n",
       "    <tr>\n",
       "      <th>West Sussex woman jailed for threatening horses</th>\n",
       "      <td>0.001667</td>\n",
       "      <td>0.502998</td>\n",
       "      <td>0.001667</td>\n",
       "      <td>0.001667</td>\n",
       "      <td>0.094829</td>\n",
       "      <td>0.001667</td>\n",
       "      <td>0.001667</td>\n",
       "      <td>0.001667</td>\n",
       "      <td>0.390503</td>\n",
       "      <td>0.001667</td>\n",
       "    </tr>\n",
       "  </tbody>\n",
       "</table>\n",
       "</div>"
      ],
      "text/plain": [
       "                                                     topic_0   topic_1  \\\n",
       "title                                                                    \n",
       "Tory Burch Wants You to Own Your Ambition           0.128757  0.001316   \n",
       "No free power to gaushalas in Punjab: Gau Sewa ...  0.001205  0.001205   \n",
       "West Sussex woman jailed for threatening horses     0.001667  0.502998   \n",
       "\n",
       "                                                     topic_2   topic_3  \\\n",
       "title                                                                    \n",
       "Tory Burch Wants You to Own Your Ambition           0.001316  0.001316   \n",
       "No free power to gaushalas in Punjab: Gau Sewa ...  0.024036  0.001205   \n",
       "West Sussex woman jailed for threatening horses     0.001667  0.001667   \n",
       "\n",
       "                                                     topic_4   topic_5  \\\n",
       "title                                                                    \n",
       "Tory Burch Wants You to Own Your Ambition           0.072724  0.743912   \n",
       "No free power to gaushalas in Punjab: Gau Sewa ...  0.001205  0.001205   \n",
       "West Sussex woman jailed for threatening horses     0.094829  0.001667   \n",
       "\n",
       "                                                     topic_6   topic_7  \\\n",
       "title                                                                    \n",
       "Tory Burch Wants You to Own Your Ambition           0.046710  0.001316   \n",
       "No free power to gaushalas in Punjab: Gau Sewa ...  0.001205  0.039617   \n",
       "West Sussex woman jailed for threatening horses     0.001667  0.001667   \n",
       "\n",
       "                                                     topic_8   topic_9  \n",
       "title                                                                   \n",
       "Tory Burch Wants You to Own Your Ambition           0.001316  0.001316  \n",
       "No free power to gaushalas in Punjab: Gau Sewa ...  0.927911  0.001205  \n",
       "West Sussex woman jailed for threatening horses     0.390503  0.001667  "
      ]
     },
     "execution_count": 70,
     "metadata": {},
     "output_type": "execute_result"
    }
   ],
   "source": [
    "doc_topic = pd.DataFrame(lda_model.transform(bow), index=df.title, columns=['topic_' + str(i) for i in range(topics)])\n",
    "doc_topic.tail(3)"
   ]
  },
  {
   "cell_type": "markdown",
   "id": "3c6222b7-51e1-486a-b9ee-4c8e2ba2cdf0",
   "metadata": {},
   "source": [
    "Lastly, a good way to examine the output of an LDA model is by visulizing it with nice graphs and for this we have, `pyLDAvis`. Which is a python library for visualizing topic modeling. We first load it with it's sklearn backend while enabling the notebook setting. Next we use `pyLDAvis.sklearn.prepare` and pass in our model, the bag of words, and the fitted vectorizer to get a nice interactive visualization tool."
   ]
  },
  {
   "cell_type": "code",
   "execution_count": 71,
   "id": "9ee3e188-619e-40b6-8445-d22e4e139804",
   "metadata": {
    "scrolled": true,
    "tags": []
   },
   "outputs": [],
   "source": [
    "# !pip install pyLDAvis"
   ]
  },
  {
   "cell_type": "code",
   "execution_count": 72,
   "id": "41263f00-5618-4274-8f11-b2dac6da5c63",
   "metadata": {},
   "outputs": [],
   "source": [
    "import pyLDAvis\n",
    "import pyLDAvis.sklearn\n",
    "pyLDAvis.enable_notebook()"
   ]
  },
  {
   "cell_type": "code",
   "execution_count": 73,
   "id": "f7fc9b7e-af2a-4530-9dc3-af08ed9b1858",
   "metadata": {},
   "outputs": [
    {
     "name": "stderr",
     "output_type": "stream",
     "text": [
      "/home/ramonperez/anaconda/envs/vector/lib/python3.9/site-packages/pyLDAvis/_prepare.py:246: FutureWarning: In a future version of pandas all arguments of DataFrame.drop except for the argument 'labels' will be keyword-only\n",
      "  default_term_info = default_term_info.sort_values(\n",
      "/home/ramonperez/anaconda/envs/vector/lib/python3.9/site-packages/past/builtins/misc.py:45: DeprecationWarning: the imp module is deprecated in favour of importlib; see the module's documentation for alternative uses\n",
      "  from imp import reload\n",
      "/home/ramonperez/anaconda/envs/vector/lib/python3.9/site-packages/past/builtins/misc.py:45: DeprecationWarning: the imp module is deprecated in favour of importlib; see the module's documentation for alternative uses\n",
      "  from imp import reload\n",
      "/home/ramonperez/anaconda/envs/vector/lib/python3.9/site-packages/past/builtins/misc.py:45: DeprecationWarning: the imp module is deprecated in favour of importlib; see the module's documentation for alternative uses\n",
      "  from imp import reload\n",
      "/home/ramonperez/anaconda/envs/vector/lib/python3.9/site-packages/past/builtins/misc.py:45: DeprecationWarning: the imp module is deprecated in favour of importlib; see the module's documentation for alternative uses\n",
      "  from imp import reload\n",
      "/home/ramonperez/anaconda/envs/vector/lib/python3.9/site-packages/past/builtins/misc.py:45: DeprecationWarning: the imp module is deprecated in favour of importlib; see the module's documentation for alternative uses\n",
      "  from imp import reload\n",
      "/home/ramonperez/anaconda/envs/vector/lib/python3.9/site-packages/past/builtins/misc.py:45: DeprecationWarning: the imp module is deprecated in favour of importlib; see the module's documentation for alternative uses\n",
      "  from imp import reload\n"
     ]
    },
    {
     "data": {
      "text/html": [
       "\n",
       "<link rel=\"stylesheet\" type=\"text/css\" href=\"https://cdn.jsdelivr.net/gh/bmabey/pyLDAvis@3.3.1/pyLDAvis/js/ldavis.v1.0.0.css\">\n",
       "\n",
       "\n",
       "<div id=\"ldavis_el2196821398233756966087167909429\"></div>\n",
       "<script type=\"text/javascript\">\n",
       "\n",
       "var ldavis_el2196821398233756966087167909429_data = {\"mdsDat\": {\"x\": [0.13131480687766603, 0.11952997755953146, 0.015169219932504438, 0.09776710627896955, 0.08653795187851451, -0.007940768194956501, 0.03207388294889099, 0.105890498112045, -0.13091103235463614, -0.4494316430385295], \"y\": [-0.09064513887303505, 0.13410832503291137, -0.14772691141244032, -0.037572558150929344, -0.008236911510038717, 0.2197142741515894, -0.1877411396087406, 0.14008182213925086, -0.04535403273550276, 0.02337227096693503], \"topics\": [1, 2, 3, 4, 5, 6, 7, 8, 9, 10], \"cluster\": [1, 1, 1, 1, 1, 1, 1, 1, 1, 1], \"Freq\": [22.990900012604012, 11.553172513449827, 10.650214424379943, 10.063752408590032, 9.556775649865767, 9.422013532774567, 8.306085234272196, 8.085835218965551, 6.013631311140883, 3.3576196939572305]}, \"tinfo\": {\"Term\": [\"low\", \"high\", \"say\", \"market\", \"game\", \"police\", \"trump\", \"night\", \"school\", \"president\", \"chance\", \"percent\", \"company\", \"2018\", \"10\", \"win\", \"nt\", \"state\", \"monday\", \"new\", \"fire\", \"team\", \"play\", \"30\", \"man\", \"season\", \"sunday\", \"20\", \"june\", \"child\", \"film\", \"probably\", \"bit\", \"ll\", \"thing\", \"ve\", \"feel\", \"love\", \"remember\", \"maybe\", \"pretty\", \"tv\", \"sure\", \"think\", \"true\", \"actually\", \"let\", \"wear\", \"wo\", \"picture\", \"like\", \"happy\", \"lot\", \"nt\", \"mind\", \"little\", \"kind\", \"moment\", \"friend\", \"wrong\", \"book\", \"know\", \"want\", \"story\", \"look\", \"get\", \"go\", \"good\", \"way\", \"come\", \"big\", \"time\", \"watch\", \"tell\", \"day\", \"life\", \"say\", \"year\", \"people\", \"work\", \"great\", \"take\", \"new\", \"right\", \"find\", \"project\", \"council\", \"solution\", \"technology\", \"development\", \"system\", \"design\", \"location\", \"worker\", \"employee\", \"exist\", \"build\", \"management\", \"energy\", \"space\", \"ensure\", \"develop\", \"operation\", \"supply\", \"area\", \"water\", \"material\", \"air\", \"standard\", \"produce\", \"business\", \"customer\", \"operate\", \"expert\", \"launch\", \"service\", \"create\", \"city\", \"work\", \"plan\", \"local\", \"provide\", \"new\", \"north\", \"community\", \"company\", \"power\", \"need\", \"use\", \"say\", \"include\", \"road\", \"help\", \"year\", \"offer\", \"score\", \"round\", \"league\", \"cup\", \"invalid\", \"coach\", \"game\", \"champion\", \"football\", \"season\", \"inbox\", \"player\", \"subscribe\", \"match\", \"goal\", \"win\", \"ball\", \"finish\", \"final\", \"beat\", \"victory\", \"team\", \"straight\", \"minute\", \"play\", \"second\", \"title\", \"race\", \"injury\", \"club\", \"point\", \"hit\", \"run\", \"start\", \"lead\", \"time\", \"go\", \"get\", \"good\", \"come\", \"year\", \"end\", \"say\", \"try\", \"trump\", \"minister\", \"election\", \"donald\", \"president\", \"political\", \"secretary\", \"vote\", \"foreign\", \"prime\", \"union\", \"party\", \"leader\", \"european\", \"campaign\", \"administration\", \"meeting\", \"states\", \"government\", \"white\", \"nation\", \"united\", \"china\", \"policy\", \"washington\", \"reporter\", \"threat\", \"war\", \"country\", \"committee\", \"house\", \"official\", \"say\", \"national\", \"state\", \"security\", \"group\", \"people\", \"call\", \"tell\", \"north\", \"come\", \"hold\", \"new\", \"court\", \"file\", \"drug\", \"legal\", \"law\", \"judge\", \"bill\", \"justice\", \"december\", \"county\", \"request\", \"federal\", \"case\", \"california\", \"agency\", \"resident\", \"charge\", \"state\", \"district\", \"department\", \"investigation\", \"death\", \"deny\", \"grant\", \"committee\", \"rule\", \"claim\", \"accuse\", \"order\", \"august\", \"public\", \"statement\", \"office\", \"say\", \"pay\", \"report\", \"2017\", \"right\", \"release\", \"year\", \"official\", \"news\", \"time\", \"accord\", \"month\", \"nt\", \"tell\", \"member\", \"market\", \"stock\", \"price\", \"bank\", \"billion\", \"growth\", \"product\", \"rate\", \"cent\", \"quarter\", \"sale\", \"investment\", \"global\", \"average\", \"dollar\", \"sell\", \"company\", \"financial\", \"value\", \"economy\", \"million\", \"compare\", \"rise\", \"percent\", \"increase\", \"estimate\", \"share\", \"gain\", \"firm\", \"trade\", \"fund\", \"industry\", \"buy\", \"datum\", \"report\", \"research\", \"expect\", \"year\", \"high\", \"2017\", \"new\", \"police\", \"injure\", \"suspect\", \"incident\", \"kill\", \"fire\", \"hospital\", \"dead\", \"car\", \"arrest\", \"driver\", \"vehicle\", \"scene\", \"die\", \"officer\", \"attack\", \"block\", \"shoot\", \"man\", \"victim\", \"building\", \"london\", \"near\", \"inside\", \"arrive\", \"authority\", \"death\", \"father\", \"drive\", \"search\", \"injury\", \"road\", \"say\", \"people\", \"report\", \"home\", \"woman\", \"take\", \"find\", \"leave\", \"tell\", \"area\", \"student\", \"school\", \"education\", \"study\", \"university\", \"health\", \"care\", \"dr\", \"food\", \"child\", \"medical\", \"parent\", \"display\", \"college\", \"online\", \"email\", \"website\", \"treat\", \"available\", \"class\", \"program\", \"age\", \"activity\", \"store\", \"access\", \"community\", \"site\", \"family\", \"safe\", \"social\", \"phone\", \"visit\", \"help\", \"offer\", \"life\", \"member\", \"service\", \"information\", \"need\", \"include\", \"people\", \"find\", \"high\", \"use\", \"provide\", \"support\", \"year\", \"st\", \"art\", \"award\", \"june\", \"sport\", \"music\", \"26\", \"pm\", \"park\", \"11\", \"28\", \"27\", \"july\", \"celebrate\", \"13\", \"series\", \"blue\", \"12\", \"22\", \"center\", \"event\", \"schedule\", \"open\", \"perform\", \"14\", \"annual\", \"feature\", \"october\", \"17\", \"york\", \"free\", \"10\", \"2017\", \"street\", \"new\", \"saturday\", \"star\", \"club\", \"include\", \"day\", \"april\", \"national\", \"year\", \"30\", \"low\", \"60\", \"chance\", \"50\", \"thursday\", \"night\", \"san\", \"19\", \"2018\", \"40\", \"march\", \"30\", \"high\", \"20\", \"image\", \"sunday\", \"photo\", \"clear\", \"ap\", \"friday\", \"15\", \"monday\", \"east\", \"saturday\", \"percent\", \"10\", \"south\", \"tuesday\", \"wednesday\", \"morning\", \"pm\"], \"Freq\": [1669.0, 2090.0, 9527.0, 1685.0, 1788.0, 1423.0, 1447.0, 1284.0, 1305.0, 1364.0, 930.0, 1258.0, 1731.0, 1184.0, 1390.0, 1428.0, 3957.0, 1873.0, 1161.0, 3472.0, 991.0, 1583.0, 1666.0, 930.0, 1281.0, 1008.0, 933.0, 924.0, 810.0, 1022.0, 478.69321256837895, 243.6914630356604, 308.01083691166673, 231.37115083076398, 947.2809176622511, 679.9842990076719, 810.4688463095938, 617.6590628455309, 176.61384698832478, 173.1132413030956, 227.4150920079974, 229.9915582792506, 318.0170270002469, 1191.0489321340403, 172.86536723803044, 241.0514647480755, 346.7173720729847, 264.5082716132777, 189.01920928838987, 251.92473993425182, 1919.4541173487094, 195.45858382566234, 579.4539901532289, 3164.779375519378, 159.48577802416062, 570.1486934933243, 321.35154597942824, 241.34248549373902, 438.78459142208357, 146.26546962523025, 319.9215665519086, 1318.6319388328586, 1053.0470874918246, 498.882435615135, 1054.8708172324548, 933.9490553663496, 1364.2278429339367, 1163.4047208655613, 851.1418041811437, 1166.6382185846328, 630.5943518416965, 1354.336277704934, 360.58142920772553, 827.1233304481053, 922.2525499857227, 595.6235902956386, 2395.2180906899607, 1295.8342340311892, 1013.5468835752259, 893.3448379583313, 526.4768173944656, 639.0306685982274, 686.309196336462, 560.4766796761587, 540.9478172748492, 584.3749453728739, 370.6046400688946, 175.19589087974504, 325.9475838893788, 367.5226602138585, 542.1178594844813, 265.66191351394644, 193.21688581408287, 197.43182800332968, 191.96697942058162, 132.38161338127537, 319.95538958208533, 235.75311873985177, 168.65652917735406, 188.72921981709214, 184.60171271216728, 229.2490931209769, 171.51832863281206, 151.5996179012091, 559.9626523519486, 272.43939494986284, 170.40056882250855, 254.34402600764915, 135.07930118371127, 182.5588821339344, 508.1066345953885, 176.3436258435549, 128.72906791148137, 114.03333156363222, 192.5010406078407, 646.9717384971378, 312.9029191572008, 668.7489694964625, 994.194352271065, 450.925861815863, 352.7109123523675, 451.1052892202943, 955.3920132436288, 388.15026206670666, 329.63785666551263, 505.9498595187656, 276.77624639539187, 438.76010878067774, 331.3169664149042, 952.8950690099814, 473.38406735174794, 281.0693939432192, 347.4455026577622, 388.71669324725855, 266.72314961538353, 520.9454633025188, 373.8564373267726, 569.3285669447066, 358.07167615519455, 148.63620460691888, 491.1186266074605, 1731.5460533866055, 258.8498882779947, 255.27844716875927, 930.1639581891015, 150.58784303969637, 815.7695678531408, 313.07978765869615, 416.63384069202255, 563.9131657961008, 1246.9653676686391, 222.63250903584344, 310.769885124083, 495.9582910656975, 280.4742823487456, 210.16000163405394, 1196.9180358928672, 136.6695341670987, 340.2890329481509, 1060.3612726780689, 653.3140798164046, 169.63610531625218, 255.68247633947465, 237.84435291797544, 296.96371614973805, 601.8813039329222, 328.8612188055699, 406.7994408793716, 492.7497539335038, 429.4966268775823, 531.8659615314592, 464.53912458060273, 386.1199956688878, 412.35387403985345, 418.54896828928776, 439.77104476492207, 343.19994126203784, 460.84261216506195, 318.07163669844863, 1446.6278461182271, 642.3204687377773, 527.3410035223599, 387.4839937481638, 1296.7710156681628, 429.70149780396616, 244.20149415995968, 421.3007880592677, 318.99514734176495, 232.0801480442957, 250.61816709440802, 557.6676715098099, 442.26774937800724, 225.46284532580395, 309.14400474293785, 255.00001583601116, 327.7643014102814, 260.2121769528344, 800.2319081540281, 546.8496094298779, 194.52862846109974, 355.75488035097726, 219.25735517177077, 224.48981763992214, 201.72684038249878, 118.69543665882314, 132.06203354605316, 211.36211081014855, 493.14820516995206, 177.62367806630502, 472.9258309089605, 409.181370113355, 2029.9370047834495, 362.57232546543366, 487.9948668346078, 254.4696151032662, 327.0084178224664, 403.9340124019991, 294.99050282748055, 302.229249636043, 259.50542144327756, 266.67614703325216, 256.9080572746788, 255.04374686685867, 700.871381979244, 354.3114001990318, 388.6629129332032, 225.22643055092922, 587.8559052787093, 229.27269940570105, 330.0480291470485, 183.4532380462174, 285.38681398484147, 533.5466019890173, 154.52027312101487, 253.56913360663077, 422.010255899292, 170.45370418113947, 246.67964856921805, 225.1393609264084, 376.00995004265616, 1064.7171837241078, 215.29339660272169, 310.3052588718476, 200.95667839064615, 269.2222840529305, 115.60824006838465, 118.43730109468957, 176.4747447243048, 187.05577843477664, 266.53252152377996, 108.18005704747465, 252.43537491902995, 127.44359227197366, 385.6248119930312, 219.42902866220714, 272.0161329791239, 1652.433891746953, 255.6732908149823, 423.5870179354101, 323.90177034540346, 329.8353960101991, 246.52778959979085, 475.47329752224374, 272.16576307386276, 272.9003416343873, 331.93435033393735, 259.3679952962015, 265.85679774474573, 307.0204554243776, 277.6349536924761, 254.58387496396978, 1684.901337323733, 461.05887090057024, 750.8653923247816, 537.6133315159839, 472.6098904342992, 376.74320377135507, 460.72351776177294, 631.7795998611263, 383.9088119878358, 283.19353101728296, 370.0205346436045, 346.02176071885975, 371.53209788292344, 329.45517363200184, 182.62597363952298, 304.91337247414754, 1164.229202078595, 299.3698847813993, 329.3281447748318, 157.01581917086952, 775.9505304072845, 163.85394378290596, 347.87555263131327, 771.5371617269872, 521.2512503168359, 145.03607274734833, 742.2413106807879, 176.0759157603506, 176.4684535061203, 290.88306672967565, 244.2422751533369, 290.98482440060553, 228.2552216675306, 272.018909579977, 667.0129827817634, 294.2972639905697, 350.9219332118247, 660.8353040782496, 447.4065199345175, 323.15828789274286, 318.05700774533256, 1422.9883308140215, 343.9316513888727, 270.6409178422136, 289.43922310697104, 532.5483791574202, 883.9800992720305, 425.85189460645336, 212.11044235864517, 558.3471713010274, 294.5147809345906, 328.3803956152894, 332.10604255989574, 289.6814368682937, 294.4101548736598, 397.09806363406403, 405.9222062755827, 238.9190488765629, 225.79482050719045, 790.7041469313629, 198.21503905044904, 252.4553386996681, 193.3773055677591, 270.78741513546976, 146.73763927472746, 125.0428014342853, 204.17326170569518, 242.54129671968332, 118.6389003789178, 314.8983543071018, 97.18970320360127, 178.87415992083828, 312.70568466139804, 1694.7172052380567, 549.0286609326233, 410.97488037345425, 336.4778546526668, 287.4896274889683, 341.0399749388081, 297.1070158336365, 277.82811852077316, 296.00416578509174, 253.56261278082124, 700.428741495069, 1267.2392672617395, 257.8665032561001, 408.28792023546987, 502.9706894223206, 666.0130311844731, 414.73702438522577, 210.127993101119, 392.68241410960655, 694.0169381539682, 242.48397422430438, 212.9536532064893, 153.5660000755901, 203.2177626140679, 237.64111440529066, 221.22502891798104, 161.11451840648328, 153.58743720391314, 301.59110669349263, 190.95438103638423, 352.8700271985876, 262.59224210872935, 141.35865735130173, 151.9246545855244, 159.76078181675447, 378.85079197772546, 172.66746577647396, 513.0820194264464, 112.04907304079762, 220.96636460841623, 160.7698848033642, 268.79674847379994, 466.4767275786372, 299.327233123477, 337.45629913860074, 306.45836063059727, 336.3751651557824, 261.00017939313886, 361.1147948531917, 387.4361708851415, 404.2256527050671, 318.4980193724909, 347.1458138394717, 268.41115577999165, 265.82008813933163, 255.58017551776587, 256.52244963361863, 541.1558356052896, 487.6658181343231, 353.0800866855285, 653.061207310438, 271.5086873754463, 237.41275973335775, 119.32262175801799, 504.11157607866966, 318.36376137327665, 324.13888130685825, 142.33085850824992, 133.5851084466742, 302.5262102411249, 135.31690046145513, 244.88500287428647, 313.23156295168957, 145.62115311189945, 343.64570979874736, 147.5861650258753, 361.75137429752095, 378.1205413253586, 116.91840020776557, 491.93739106947095, 115.63070549881657, 229.99411376758027, 148.3923734761181, 249.28055513904704, 105.10170747456985, 141.5816052650835, 243.50879017547973, 299.0132678903641, 509.6033247512812, 408.39995643108205, 239.26315938104122, 779.2463731016802, 255.60727013083317, 219.48199519538932, 198.68185013296142, 315.95064737792967, 310.4674373417686, 195.4593010377106, 237.6408478482835, 360.7065556146251, 222.23959605547105, 1435.6669491315154, 367.8745823077308, 715.5299627206326, 445.51763887153817, 381.12474041969546, 805.9574886200779, 221.93046318332276, 221.01211904608914, 665.4466145345541, 273.099527713208, 406.89221482854344, 472.8270918377352, 1006.3406785592495, 440.75055755085594, 260.38058393993117, 414.41224521059684, 361.0337387675685, 239.00032086958083, 275.18404727157935, 323.2153311794937, 318.2157328447712, 458.8627315399235, 190.38510896479127, 264.0272696743359, 438.6167471653666, 479.88547522888905, 263.7356340223989, 274.1755647919408, 269.56150095158233, 150.81925480962082, 200.15305848560723], \"Total\": [1669.0, 2090.0, 9527.0, 1685.0, 1788.0, 1423.0, 1447.0, 1284.0, 1305.0, 1364.0, 930.0, 1258.0, 1731.0, 1184.0, 1390.0, 1428.0, 3957.0, 1873.0, 1161.0, 3472.0, 991.0, 1583.0, 1666.0, 930.0, 1281.0, 1008.0, 933.0, 924.0, 810.0, 1022.0, 479.5835615555889, 244.5818491899388, 320.633740729489, 248.476386183069, 1024.1202570000573, 752.3499353360966, 903.9367503663435, 691.9385233754945, 201.62193743532376, 200.27031665084354, 263.6119033309269, 266.7317320091841, 369.7422563892746, 1386.945328171392, 204.96092514143444, 286.7608975303362, 413.8633507298763, 318.2834238024196, 228.54680070834306, 309.13143936932937, 2363.3152661021973, 242.06819707160813, 722.6463424914283, 3957.1674517156457, 199.4891658195493, 718.7148901473497, 414.70070554373797, 312.8079707295909, 574.8492146059207, 191.80867154684861, 420.11780555683555, 1825.0671145427104, 1495.1040901928404, 690.9344507760056, 1613.922489179247, 1431.6175592557515, 2213.0293546898947, 1979.642794306757, 1416.9835810995653, 2312.7401932042626, 1027.3542782771933, 3146.126541902999, 498.41465675396887, 1717.8944625518034, 2060.531820525186, 1069.1664107155696, 9527.598403191418, 4095.0010287954965, 2741.216307094014, 2531.426816426398, 974.1967350332322, 1871.1569960142167, 3472.290482655522, 1414.56051957009, 1480.7802794724273, 665.8140695556555, 446.0177778578102, 214.53455653767224, 444.6879982085987, 503.0363030323037, 759.9175336139272, 383.14512823162556, 282.2486111422752, 290.270365892377, 291.4611699919728, 202.9311965250299, 493.4686857422651, 364.3051571262934, 262.3498787171793, 293.58037501453555, 289.6412867271328, 372.11922981297755, 286.71401342645174, 257.61085921296274, 953.6893382551398, 467.9672044956413, 292.945899311537, 439.6252562480794, 236.16401366665647, 324.9692544430178, 906.0624240823286, 318.81865610351275, 233.49599709848525, 208.56794028217394, 353.1651662792656, 1234.7964791736158, 609.3799630874112, 1543.4270599881388, 2531.426816426398, 1007.6712041633035, 757.9863998733814, 1045.3834302351784, 3472.290482655522, 968.9748974695019, 799.2203319104689, 1731.5248473583506, 629.1722193775162, 1557.4365879104773, 901.1002244521034, 9527.598403191418, 2087.85015236461, 770.9969088113593, 1452.1266665002595, 4095.0010287954965, 820.555796656983, 521.8365443516469, 374.74756025550295, 570.702410978325, 359.01517558599187, 149.52722572797973, 497.1065808499784, 1788.1430383482516, 267.66708100299513, 276.3876202477645, 1008.6927375052925, 165.65993067093922, 917.6576626144664, 356.33524162162803, 475.04547190862957, 643.8395747587083, 1428.3392107757265, 256.9941508840349, 380.50156013441443, 609.0592452341829, 347.6130167682461, 269.63364125833453, 1583.0063282099395, 210.34752792267668, 525.3579377514102, 1666.603923788405, 1038.0903845862758, 288.9228008539475, 438.4164892225834, 417.68565369010133, 531.5407180877919, 1140.7396772813024, 750.6306275467015, 1052.8429113031755, 1475.1391165499645, 1249.9363017938576, 3146.126541902999, 2213.0293546898947, 1431.6175592557515, 1979.642794306757, 2312.7401932042626, 4095.0010287954965, 1118.8423003816508, 9527.598403191418, 1180.6986374915812, 1447.517201795547, 643.2326548749096, 528.2304068192906, 388.3733784312056, 1364.5960783952737, 461.0752863133876, 266.604048413026, 475.8998805265312, 365.53894612336416, 267.44642601284056, 295.1348716907877, 703.4618112734877, 572.7968071920599, 292.8983680003749, 416.8605560485548, 346.80425976473646, 472.29516018960436, 389.31859745399714, 1231.657895065461, 857.37858278688, 311.647421162677, 613.1711083526781, 380.09781427158555, 394.5332014210611, 369.0670221971244, 221.08260522332532, 246.0920197293825, 400.8337455294757, 966.7586803126479, 372.1438780803495, 1045.052486565878, 931.2500546651296, 9527.598403191418, 1038.3674490663977, 1873.9041152503996, 597.5606799703208, 1268.1080600629102, 2741.216307094014, 1091.0166616465026, 1717.8944625518034, 968.9748974695019, 2312.7401932042626, 1012.2388065088603, 3472.290482655522, 721.0824539826153, 382.8666075013617, 423.09848721793423, 256.56828358399537, 690.0363890396404, 283.2811102331666, 423.0416564880982, 246.1965661387148, 410.7779495576396, 772.7154871943796, 225.42199394118146, 380.55362193055055, 651.2557840559888, 275.41209028497536, 403.5965501510866, 382.9487757754205, 656.2439741552821, 1873.9041152503996, 386.8536816059742, 564.6797302278795, 369.6602789689806, 512.5557559547755, 232.04358031789914, 246.0240661817207, 372.1438780803495, 398.8079971362713, 572.8113791669746, 247.67169418318736, 584.6198562563407, 297.86232519886744, 954.5599342276744, 535.6530058309764, 687.4628566602341, 9527.598403191418, 707.9991357667843, 1731.5533024338702, 1182.6286386196086, 1414.56051957009, 698.8620320411948, 4095.0010287954965, 931.2500546651296, 1137.9254421571245, 3146.126541902999, 939.6378143363722, 1141.6550855703047, 3957.1674517156457, 1717.8944625518034, 949.9912668348246, 1685.794598180855, 461.952160335828, 777.4367995105935, 559.6333649769401, 501.58991309076316, 404.03139914758805, 505.7147193988939, 700.3037849257917, 431.3161416441637, 326.7250366610221, 429.6749748101654, 413.81718056873046, 448.12921243476126, 409.63510439765093, 240.64988274580028, 443.78942367522546, 1731.5248473583506, 446.8687896223575, 492.45452492822017, 239.93973674914886, 1191.104279118818, 258.94268692435884, 549.7645723263735, 1258.9625277562811, 855.3101054306654, 238.4595588559343, 1238.7592295660017, 296.28654111013833, 296.96211843456183, 510.0536355196796, 435.93712060815176, 553.5565486198018, 411.14713897276096, 513.8039685171944, 1731.5533024338702, 602.3867111880836, 903.2238207106915, 4095.0010287954965, 2090.3270272920536, 1182.6286386196086, 3472.290482655522, 1423.8796960085176, 347.45541085462656, 285.37421726955347, 323.10125673916207, 596.4423816618249, 991.7111870658331, 486.9905859090761, 243.91829000911918, 657.4264707256074, 352.98258036676117, 419.07823349882375, 444.1541607645209, 403.6300015912193, 425.5812856184199, 592.9753606264389, 619.7129161926396, 372.8385950780639, 361.0297656067033, 1281.1212872637175, 334.4266706531901, 446.17060869261104, 351.3283627938254, 524.4359897443662, 297.1779231832039, 256.92611330795967, 427.2950133379076, 512.5557559547755, 250.79503968614077, 706.0596690913334, 219.61093169347936, 417.68565369010133, 770.9969088113593, 9527.598403191418, 2741.216307094014, 1731.5533024338702, 1431.1982468006715, 1004.5332726376653, 1871.1569960142167, 1480.7802794724273, 1141.595382031364, 1717.8944625518034, 953.6893382551398, 701.3224996268733, 1305.0395443730806, 289.6152958926353, 472.2002983912834, 582.462567133286, 774.988401279515, 547.4553673631383, 288.3465526221384, 553.9854002675502, 1022.003654202192, 361.7415014761514, 327.11267771642355, 236.48286282811645, 314.0835625303778, 378.92450691777935, 362.945759687933, 269.1710553127839, 267.0933878880109, 526.1144000301249, 342.58953704189923, 663.1396243435078, 511.85536911074666, 285.1324363936767, 306.6968073781203, 327.7389979980083, 799.2203319104689, 368.29171432878906, 1115.173617827533, 245.15650303217097, 487.45045113486486, 357.72748626477346, 619.0810318412993, 1452.1266665002595, 820.555796656983, 1069.1664107155696, 949.9912668348246, 1234.7964791736158, 759.1265920788354, 1557.4365879104773, 2087.85015236461, 2741.216307094014, 1480.7802794724273, 2090.3270272920536, 901.1002244521034, 1045.3834302351784, 966.9676101822317, 4095.0010287954965, 565.991781167617, 526.792543959262, 394.4547237638298, 810.1166080208342, 392.6127026662841, 354.17881099878286, 181.3878089821349, 798.7074832399867, 508.56493922874864, 519.6124332636226, 242.4703551457409, 229.97690426623595, 524.2132417144986, 235.11262584372486, 438.14663808907284, 563.936607431395, 263.0949202823245, 634.9452905735637, 273.8659593688752, 687.3782900255771, 732.3144014395483, 234.4194986989828, 1020.5890782607623, 241.21375152072648, 493.00727518653605, 319.1144241463925, 542.7388997805022, 230.33106677075767, 329.3983181402782, 575.3677878270807, 749.9693375066312, 1390.912513737108, 1182.6286386196086, 609.6801624789698, 3472.290482655522, 754.9355606775059, 603.4577400883494, 531.5407180877919, 2087.85015236461, 2060.531820525186, 589.6295848068518, 1038.3674490663977, 4095.0010287954965, 930.6868387347752, 1669.8702873990533, 435.4664953493225, 930.664786025188, 689.0245675964469, 602.2035648765426, 1284.0213488367788, 380.6928283678835, 392.42429847326855, 1184.230074475112, 489.49594323016385, 798.0256239213707, 930.6868387347752, 2090.3270272920536, 924.1354814895788, 567.7175659816385, 933.2087312780445, 834.7646784196966, 562.7270759442198, 667.3340447161168, 784.6089686234611, 775.0385389283919, 1161.2381789980755, 482.85743995148596, 754.9355606775059, 1258.9625277562811, 1390.912513737108, 788.3326532739712, 824.004162811607, 872.6399536059544, 517.0721332871733, 798.7074832399867], \"Category\": [\"Default\", \"Default\", \"Default\", \"Default\", \"Default\", \"Default\", \"Default\", \"Default\", \"Default\", \"Default\", \"Default\", \"Default\", \"Default\", \"Default\", \"Default\", \"Default\", \"Default\", \"Default\", \"Default\", \"Default\", \"Default\", \"Default\", \"Default\", \"Default\", \"Default\", \"Default\", \"Default\", \"Default\", \"Default\", \"Default\", \"Topic1\", \"Topic1\", \"Topic1\", \"Topic1\", \"Topic1\", \"Topic1\", \"Topic1\", \"Topic1\", \"Topic1\", \"Topic1\", \"Topic1\", \"Topic1\", \"Topic1\", \"Topic1\", \"Topic1\", \"Topic1\", \"Topic1\", \"Topic1\", \"Topic1\", \"Topic1\", \"Topic1\", \"Topic1\", \"Topic1\", \"Topic1\", \"Topic1\", \"Topic1\", \"Topic1\", \"Topic1\", \"Topic1\", \"Topic1\", \"Topic1\", \"Topic1\", \"Topic1\", \"Topic1\", \"Topic1\", \"Topic1\", \"Topic1\", \"Topic1\", \"Topic1\", \"Topic1\", \"Topic1\", \"Topic1\", \"Topic1\", \"Topic1\", \"Topic1\", \"Topic1\", \"Topic1\", \"Topic1\", \"Topic1\", \"Topic1\", \"Topic1\", \"Topic1\", \"Topic1\", \"Topic1\", \"Topic1\", \"Topic2\", \"Topic2\", \"Topic2\", \"Topic2\", \"Topic2\", \"Topic2\", \"Topic2\", \"Topic2\", \"Topic2\", \"Topic2\", \"Topic2\", \"Topic2\", \"Topic2\", \"Topic2\", \"Topic2\", \"Topic2\", \"Topic2\", \"Topic2\", \"Topic2\", \"Topic2\", \"Topic2\", \"Topic2\", \"Topic2\", \"Topic2\", \"Topic2\", \"Topic2\", \"Topic2\", \"Topic2\", \"Topic2\", \"Topic2\", \"Topic2\", \"Topic2\", \"Topic2\", \"Topic2\", \"Topic2\", \"Topic2\", \"Topic2\", \"Topic2\", \"Topic2\", \"Topic2\", \"Topic2\", \"Topic2\", \"Topic2\", \"Topic2\", \"Topic2\", \"Topic2\", \"Topic2\", \"Topic2\", \"Topic2\", \"Topic2\", \"Topic3\", \"Topic3\", \"Topic3\", \"Topic3\", \"Topic3\", \"Topic3\", \"Topic3\", \"Topic3\", \"Topic3\", \"Topic3\", \"Topic3\", \"Topic3\", \"Topic3\", \"Topic3\", \"Topic3\", \"Topic3\", \"Topic3\", \"Topic3\", \"Topic3\", \"Topic3\", \"Topic3\", \"Topic3\", \"Topic3\", \"Topic3\", \"Topic3\", \"Topic3\", \"Topic3\", \"Topic3\", \"Topic3\", \"Topic3\", \"Topic3\", \"Topic3\", \"Topic3\", \"Topic3\", \"Topic3\", \"Topic3\", \"Topic3\", \"Topic3\", \"Topic3\", \"Topic3\", \"Topic3\", \"Topic3\", \"Topic3\", \"Topic3\", \"Topic4\", \"Topic4\", \"Topic4\", \"Topic4\", \"Topic4\", \"Topic4\", \"Topic4\", \"Topic4\", \"Topic4\", \"Topic4\", \"Topic4\", \"Topic4\", \"Topic4\", \"Topic4\", \"Topic4\", \"Topic4\", \"Topic4\", \"Topic4\", \"Topic4\", \"Topic4\", \"Topic4\", \"Topic4\", \"Topic4\", \"Topic4\", \"Topic4\", \"Topic4\", \"Topic4\", \"Topic4\", \"Topic4\", \"Topic4\", \"Topic4\", \"Topic4\", \"Topic4\", \"Topic4\", \"Topic4\", \"Topic4\", \"Topic4\", \"Topic4\", \"Topic4\", \"Topic4\", \"Topic4\", \"Topic4\", \"Topic4\", \"Topic4\", \"Topic5\", \"Topic5\", \"Topic5\", \"Topic5\", \"Topic5\", \"Topic5\", \"Topic5\", \"Topic5\", \"Topic5\", \"Topic5\", \"Topic5\", \"Topic5\", \"Topic5\", \"Topic5\", \"Topic5\", \"Topic5\", \"Topic5\", \"Topic5\", \"Topic5\", \"Topic5\", \"Topic5\", \"Topic5\", \"Topic5\", \"Topic5\", \"Topic5\", \"Topic5\", \"Topic5\", \"Topic5\", \"Topic5\", \"Topic5\", \"Topic5\", \"Topic5\", \"Topic5\", \"Topic5\", \"Topic5\", \"Topic5\", \"Topic5\", \"Topic5\", \"Topic5\", \"Topic5\", \"Topic5\", \"Topic5\", \"Topic5\", \"Topic5\", \"Topic5\", \"Topic5\", \"Topic5\", \"Topic5\", \"Topic6\", \"Topic6\", \"Topic6\", \"Topic6\", \"Topic6\", \"Topic6\", \"Topic6\", \"Topic6\", \"Topic6\", \"Topic6\", \"Topic6\", \"Topic6\", \"Topic6\", \"Topic6\", \"Topic6\", \"Topic6\", \"Topic6\", \"Topic6\", \"Topic6\", \"Topic6\", \"Topic6\", \"Topic6\", \"Topic6\", \"Topic6\", \"Topic6\", \"Topic6\", \"Topic6\", \"Topic6\", \"Topic6\", \"Topic6\", \"Topic6\", \"Topic6\", \"Topic6\", \"Topic6\", \"Topic6\", \"Topic6\", \"Topic6\", \"Topic6\", \"Topic6\", \"Topic6\", \"Topic6\", \"Topic7\", \"Topic7\", \"Topic7\", \"Topic7\", \"Topic7\", \"Topic7\", \"Topic7\", \"Topic7\", \"Topic7\", \"Topic7\", \"Topic7\", \"Topic7\", \"Topic7\", \"Topic7\", \"Topic7\", \"Topic7\", \"Topic7\", \"Topic7\", \"Topic7\", \"Topic7\", \"Topic7\", \"Topic7\", \"Topic7\", \"Topic7\", \"Topic7\", \"Topic7\", \"Topic7\", \"Topic7\", \"Topic7\", \"Topic7\", \"Topic7\", \"Topic7\", \"Topic7\", \"Topic7\", \"Topic7\", \"Topic7\", \"Topic7\", \"Topic7\", \"Topic7\", \"Topic7\", \"Topic7\", \"Topic7\", \"Topic8\", \"Topic8\", \"Topic8\", \"Topic8\", \"Topic8\", \"Topic8\", \"Topic8\", \"Topic8\", \"Topic8\", \"Topic8\", \"Topic8\", \"Topic8\", \"Topic8\", \"Topic8\", \"Topic8\", \"Topic8\", \"Topic8\", \"Topic8\", \"Topic8\", \"Topic8\", \"Topic8\", \"Topic8\", \"Topic8\", \"Topic8\", \"Topic8\", \"Topic8\", \"Topic8\", \"Topic8\", \"Topic8\", \"Topic8\", \"Topic8\", \"Topic8\", \"Topic8\", \"Topic8\", \"Topic8\", \"Topic8\", \"Topic8\", \"Topic8\", \"Topic8\", \"Topic8\", \"Topic8\", \"Topic8\", \"Topic8\", \"Topic8\", \"Topic8\", \"Topic8\", \"Topic8\", \"Topic9\", \"Topic9\", \"Topic9\", \"Topic9\", \"Topic9\", \"Topic9\", \"Topic9\", \"Topic9\", \"Topic9\", \"Topic9\", \"Topic9\", \"Topic9\", \"Topic9\", \"Topic9\", \"Topic9\", \"Topic9\", \"Topic9\", \"Topic9\", \"Topic9\", \"Topic9\", \"Topic9\", \"Topic9\", \"Topic9\", \"Topic9\", \"Topic9\", \"Topic9\", \"Topic9\", \"Topic9\", \"Topic9\", \"Topic9\", \"Topic9\", \"Topic9\", \"Topic9\", \"Topic9\", \"Topic9\", \"Topic9\", \"Topic9\", \"Topic9\", \"Topic9\", \"Topic9\", \"Topic9\", \"Topic9\", \"Topic9\", \"Topic9\", \"Topic10\", \"Topic10\", \"Topic10\", \"Topic10\", \"Topic10\", \"Topic10\", \"Topic10\", \"Topic10\", \"Topic10\", \"Topic10\", \"Topic10\", \"Topic10\", \"Topic10\", \"Topic10\", \"Topic10\", \"Topic10\", \"Topic10\", \"Topic10\", \"Topic10\", \"Topic10\", \"Topic10\", \"Topic10\", \"Topic10\", \"Topic10\", \"Topic10\", \"Topic10\", \"Topic10\", \"Topic10\", \"Topic10\", \"Topic10\", \"Topic10\"], \"logprob\": [30.0, 29.0, 28.0, 27.0, 26.0, 25.0, 24.0, 23.0, 22.0, 21.0, 20.0, 19.0, 18.0, 17.0, 16.0, 15.0, 14.0, 13.0, 12.0, 11.0, 10.0, 9.0, 8.0, 7.0, 6.0, 5.0, 4.0, 3.0, 2.0, 1.0, -5.3448, -6.02, -5.7857, -6.0718, -4.6623, -4.9938, -4.8182, -5.0899, -6.3419, -6.3619, -6.0891, -6.0778, -5.7537, -4.4333, -6.3633, -6.0308, -5.6673, -5.938, -6.274, -5.9867, -3.9561, -6.2405, -5.1538, -3.456, -6.4439, -5.17, -5.7433, -6.0296, -5.4318, -6.5304, -5.7478, -4.3315, -4.5564, -5.3035, -4.5547, -4.6764, -4.2975, -4.4567, -4.7693, -4.454, -5.0692, -4.3048, -5.6281, -4.7979, -4.689, -5.1262, -3.7346, -4.3489, -4.5946, -4.7209, -5.2496, -5.0559, -4.9845, -5.1871, -5.2225, -4.4572, -4.9126, -5.6618, -5.041, -4.9209, -4.5322, -5.2455, -5.5639, -5.5423, -5.5704, -5.942, -5.0595, -5.3649, -5.6999, -5.5874, -5.6095, -5.3929, -5.683, -5.8065, -4.4998, -5.2203, -5.6896, -5.289, -5.9219, -5.6206, -4.597, -5.6553, -5.97, -6.0912, -5.5676, -4.3554, -5.0818, -4.3223, -3.9258, -4.7164, -4.9621, -4.716, -3.9656, -4.8663, -5.0297, -4.6013, -5.2045, -4.7438, -5.0246, -3.9682, -4.6678, -5.1891, -4.9771, -4.8649, -5.2415, -4.4907, -4.8225, -4.4019, -4.8656, -5.7448, -4.5496, -3.2896, -5.1901, -5.204, -3.911, -5.7318, -4.0422, -4.9999, -4.7141, -4.4114, -3.6179, -5.3408, -5.0073, -4.5398, -5.1099, -5.3985, -3.6588, -5.8288, -4.9165, -3.78, -4.2643, -5.6127, -5.2024, -5.2747, -5.0527, -4.3463, -4.9507, -4.738, -4.5463, -4.6837, -4.4699, -4.6053, -4.7902, -4.7245, -4.7095, -4.6601, -4.908, -4.6133, -4.9841, -3.4127, -4.2246, -4.4218, -4.73, -3.5221, -4.6266, -5.1917, -4.6463, -4.9245, -5.2426, -5.1658, -4.3659, -4.5978, -5.2715, -4.9559, -5.1484, -4.8974, -5.1282, -4.0048, -4.3855, -5.4191, -4.8155, -5.2994, -5.2759, -5.3828, -5.9131, -5.8064, -5.3361, -4.4889, -5.51, -4.5308, -4.6755, -3.0739, -4.7965, -4.4994, -5.1505, -4.8997, -4.6884, -5.0028, -4.9785, -5.1309, -5.1037, -5.141, -5.1483, -4.0857, -4.7678, -4.6753, -5.2209, -4.2615, -5.2031, -4.8388, -5.426, -4.9842, -4.3585, -5.5977, -5.1024, -4.593, -5.4995, -5.1299, -5.2213, -4.7084, -3.6675, -5.266, -4.9004, -5.3349, -5.0425, -5.8878, -5.8636, -5.4648, -5.4066, -5.0525, -5.9542, -5.1068, -5.7903, -4.6831, -5.247, -5.0321, -3.228, -5.0941, -4.5892, -4.8576, -4.8394, -5.1305, -4.4737, -5.0316, -5.0289, -4.8331, -5.0798, -5.055, -4.9111, -5.0117, -5.0984, -3.1943, -4.4903, -4.0026, -4.3367, -4.4655, -4.6922, -4.491, -4.1753, -4.6734, -4.9777, -4.7102, -4.7773, -4.7062, -4.8264, -5.4164, -4.9038, -3.564, -4.9221, -4.8267, -5.5675, -3.9697, -5.5248, -4.772, -3.9754, -4.3676, -5.6468, -4.0141, -5.4529, -5.4507, -4.9509, -5.1256, -4.9505, -5.1933, -5.0179, -4.121, -4.9392, -4.7632, -4.1303, -4.5203, -4.8457, -4.8616, -3.2372, -4.6573, -4.897, -4.8298, -4.2201, -3.7133, -4.4437, -5.1406, -4.1728, -4.8124, -4.7036, -4.6923, -4.829, -4.8128, -4.5136, -4.4916, -5.0216, -5.0781, -3.8248, -5.2084, -4.9665, -5.2331, -4.8964, -5.5091, -5.6691, -5.1788, -5.0066, -5.7217, -4.7455, -5.9211, -5.3111, -4.7525, -3.0625, -4.1896, -4.4792, -4.6792, -4.8366, -4.6657, -4.8037, -4.8707, -4.8074, -4.9621, -3.9192, -3.3263, -4.9184, -4.4589, -4.2503, -3.9696, -4.4432, -5.1232, -4.4979, -3.9284, -4.9799, -5.1098, -5.4367, -5.1566, -5.0001, -5.0717, -5.3888, -5.4366, -4.7618, -5.2188, -4.6048, -4.9003, -5.5196, -5.4475, -5.3972, -4.5337, -5.3195, -4.2304, -5.7519, -5.0729, -5.3909, -4.8769, -4.3257, -4.7693, -4.6494, -4.7458, -4.6526, -4.9063, -4.5817, -4.5113, -4.4689, -4.7073, -4.6211, -4.8783, -4.888, -4.9273, -4.9237, -3.8811, -3.9852, -4.3081, -3.6931, -4.5708, -4.705, -5.393, -3.952, -4.4116, -4.3936, -5.2166, -5.28, -4.4626, -5.2672, -4.674, -4.4278, -5.1938, -4.3352, -5.1804, -4.2838, -4.2396, -5.4133, -3.9764, -5.4244, -4.7367, -5.1749, -4.6562, -5.5199, -5.2219, -4.6796, -4.4743, -3.9412, -4.1625, -4.6972, -3.5165, -4.6311, -4.7835, -4.8831, -4.4192, -4.4367, -4.8994, -4.704, -4.2867, -4.771, -2.3226, -3.6842, -3.019, -3.4928, -3.6489, -2.9, -4.1896, -4.1938, -3.0915, -3.9822, -3.5834, -3.4333, -2.6779, -3.5035, -4.0298, -3.5651, -3.703, -4.1155, -3.9745, -3.8137, -3.8293, -3.4632, -4.3429, -4.0159, -3.5084, -3.4184, -4.017, -3.9782, -3.9952, -4.5759, -4.2929], \"loglift\": [30.0, 29.0, 28.0, 27.0, 26.0, 25.0, 24.0, 23.0, 22.0, 21.0, 20.0, 19.0, 18.0, 17.0, 16.0, 15.0, 14.0, 13.0, 12.0, 11.0, 10.0, 9.0, 8.0, 7.0, 6.0, 5.0, 4.0, 3.0, 2.0, 1.0, 1.4682, 1.4664, 1.4299, 1.3987, 1.3921, 1.3689, 1.3609, 1.3565, 1.3376, 1.3243, 1.3224, 1.3219, 1.3194, 1.3178, 1.2998, 1.2964, 1.293, 1.285, 1.2802, 1.2654, 1.262, 1.2562, 1.2492, 1.2466, 1.2463, 1.2385, 1.2151, 1.2107, 1.2, 1.199, 1.1976, 1.145, 1.1196, 1.1444, 1.0448, 1.0429, 0.9863, 0.9385, 0.9604, 0.7858, 0.982, 0.6272, 1.1464, 0.7392, 0.6662, 0.885, 0.0894, 0.3195, 0.4751, 0.4285, 0.8547, 0.3957, -0.1512, 0.5443, 0.4631, 2.0277, 1.973, 1.9556, 1.8476, 1.8443, 1.8205, 1.792, 1.7792, 1.7728, 1.7406, 1.731, 1.7249, 1.723, 1.7164, 1.7164, 1.7078, 1.6738, 1.6444, 1.628, 1.6257, 1.6172, 1.6164, 1.611, 1.5995, 1.5816, 1.5798, 1.566, 1.5628, 1.5544, 1.5514, 1.5119, 1.4917, 1.3219, 1.2236, 1.3541, 1.3932, 1.3178, 0.8678, 1.2434, 1.2726, 0.9279, 1.337, 0.8914, 1.1577, -0.1442, 0.6742, 1.1491, 0.728, -0.1965, 1.0344, 2.2379, 2.2372, 2.2372, 2.237, 2.2336, 2.2275, 2.2074, 2.2061, 2.1601, 2.1585, 2.1442, 2.1219, 2.1102, 2.1084, 2.107, 2.1038, 2.0961, 2.0372, 2.0342, 2.025, 1.9904, 1.96, 1.8084, 1.8053, 1.7874, 1.7765, 1.7071, 1.7004, 1.6765, 1.6574, 1.6002, 1.4143, 1.2887, 1.1431, 1.1714, 0.4621, 0.6785, 0.9292, 0.6708, 0.5302, 0.0083, 1.0579, -0.7893, 0.928, 2.2956, 2.2948, 2.2945, 2.2939, 2.2452, 2.2258, 2.2085, 2.1744, 2.16, 2.1544, 2.1327, 2.064, 2.0376, 2.0346, 1.9973, 1.9887, 1.9309, 1.8933, 1.865, 1.8465, 1.8249, 1.7518, 1.746, 1.7324, 1.6922, 1.6743, 1.6738, 1.6563, 1.6231, 1.5566, 1.5033, 1.4739, 0.75, 1.244, 0.9508, 1.4426, 0.9409, 0.3813, 0.9883, 0.5586, 0.9788, 0.1361, 0.925, -0.3149, 2.3195, 2.2704, 2.263, 2.2176, 2.1877, 2.1364, 2.0997, 2.0537, 1.9837, 1.9776, 1.9703, 1.9419, 1.914, 1.8681, 1.8556, 1.8167, 1.791, 1.7826, 1.7619, 1.7492, 1.7384, 1.704, 1.6512, 1.6169, 1.6018, 1.5908, 1.5829, 1.5196, 1.5081, 1.499, 1.4415, 1.4555, 1.4208, 0.596, 1.3294, 0.9399, 1.0529, 0.8919, 1.3059, 0.1947, 1.1178, 0.9201, 0.0989, 1.0607, 0.8906, -0.2084, 0.5254, 1.0311, 2.3616, 2.3602, 2.3273, 2.322, 2.3026, 2.2922, 2.2689, 2.2591, 2.2457, 2.2191, 2.2127, 2.1832, 2.1747, 2.1443, 2.0862, 1.9868, 1.9652, 1.9615, 1.9598, 1.9381, 1.9336, 1.9045, 1.9045, 1.8725, 1.8669, 1.8649, 1.8499, 1.8417, 1.8417, 1.8005, 1.7828, 1.719, 1.7736, 1.7262, 1.4082, 1.6458, 1.4167, 0.5381, 0.8205, 1.0648, -0.0282, 2.4876, 2.478, 2.4352, 2.3782, 2.3749, 2.3732, 2.354, 2.3485, 2.3248, 2.3071, 2.2443, 2.1975, 2.1565, 2.1197, 2.0872, 2.0651, 2.0432, 2.0188, 2.0056, 1.9651, 1.9187, 1.8911, 1.8272, 1.7825, 1.768, 1.7497, 1.7399, 1.7396, 1.6807, 1.673, 1.6401, 1.5858, 0.7615, 0.8802, 1.0499, 1.0404, 1.2371, 0.7859, 0.8819, 1.075, 0.7297, 1.1635, 2.5138, 2.4857, 2.3989, 2.3696, 2.3683, 2.3635, 2.2374, 2.1986, 2.1709, 2.128, 2.1151, 2.0858, 2.0833, 2.0797, 2.0485, 2.02, 2.0018, 1.9617, 1.9586, 1.9306, 1.8842, 1.8476, 1.8134, 1.8126, 1.7965, 1.7686, 1.7575, 1.7387, 1.7321, 1.7239, 1.7153, 1.6808, 1.3795, 1.5066, 1.3619, 1.3837, 1.2146, 1.4474, 1.0535, 0.8307, 0.6009, 0.9783, 0.7197, 1.304, 1.1457, 1.1844, -0.2552, 2.7663, 2.734, 2.7003, 2.5956, 2.4423, 2.4111, 2.3923, 2.3509, 2.3427, 2.3392, 2.2784, 2.2679, 2.2614, 2.2587, 2.2294, 2.2231, 2.2196, 2.1972, 2.1929, 2.1692, 2.1501, 2.1155, 2.0814, 2.0759, 2.0487, 2.0455, 2.0331, 2.0266, 1.9667, 1.9513, 1.8916, 1.8071, 1.7479, 1.8758, 1.3169, 1.7282, 1.7997, 1.8271, 0.9228, 0.9185, 1.707, 1.3365, 0.3817, 1.379, 3.2428, 3.2253, 3.1311, 2.9579, 2.9365, 2.9282, 2.8543, 2.8198, 2.8175, 2.8104, 2.7203, 2.7167, 2.6629, 2.6536, 2.6145, 2.5822, 2.5558, 2.5376, 2.5081, 2.5071, 2.5038, 2.4654, 2.4633, 2.3434, 2.3395, 2.3298, 2.299, 2.2935, 2.2192, 2.1618, 2.01]}, \"token.table\": {\"Topic\": [1, 2, 3, 4, 5, 6, 7, 8, 9, 10, 1, 2, 3, 4, 5, 6, 7, 8, 9, 1, 2, 3, 4, 5, 6, 7, 9, 10, 1, 3, 4, 5, 6, 7, 8, 9, 10, 1, 3, 4, 5, 6, 7, 9, 1, 2, 3, 5, 6, 7, 8, 9, 10, 1, 3, 5, 6, 7, 9, 10, 2, 3, 4, 5, 6, 7, 9, 10, 1, 2, 3, 5, 6, 7, 8, 9, 10, 1, 2, 3, 4, 5, 6, 7, 9, 1, 2, 3, 4, 5, 6, 7, 8, 9, 10, 2, 3, 5, 6, 7, 9, 2, 4, 5, 6, 7, 9, 2, 3, 5, 6, 7, 9, 3, 4, 5, 6, 7, 9, 3, 4, 6, 7, 8, 9, 10, 1, 2, 3, 5, 6, 8, 9, 10, 1, 3, 4, 5, 6, 7, 8, 9, 10, 3, 4, 6, 8, 10, 2, 5, 6, 8, 1, 2, 4, 5, 6, 7, 8, 9, 4, 5, 7, 2, 6, 7, 8, 1, 4, 5, 7, 8, 2, 4, 5, 1, 2, 7, 8, 9, 2, 4, 5, 6, 1, 2, 3, 5, 6, 7, 9, 2, 5, 6, 8, 9, 3, 4, 5, 7, 9, 10, 1, 2, 3, 4, 5, 6, 7, 9, 1, 2, 3, 7, 8, 9, 10, 5, 7, 1, 2, 3, 4, 5, 7, 1, 8, 9, 1, 3, 4, 5, 7, 1, 2, 3, 4, 5, 6, 8, 2, 5, 7, 8, 1, 2, 6, 8, 9, 1, 3, 6, 1, 2, 8, 9, 1, 3, 9, 2, 3, 6, 1, 3, 6, 7, 1, 2, 3, 4, 6, 9, 10, 1, 2, 3, 4, 5, 6, 4, 6, 1, 7, 9, 1, 2, 3, 4, 5, 7, 8, 1, 3, 9, 1, 3, 5, 6, 8, 9, 1, 2, 3, 8, 9, 2, 7, 8, 1, 2, 4, 5, 6, 8, 1, 2, 4, 5, 6, 8, 1, 5, 7, 9, 10, 1, 2, 3, 4, 5, 7, 8, 9, 1, 2, 3, 4, 5, 9, 4, 6, 7, 8, 9, 1, 5, 7, 8, 1, 2, 4, 5, 6, 7, 8, 1, 3, 9, 2, 6, 8, 2, 5, 7, 8, 9, 3, 9, 1, 3, 8, 10, 1, 2, 3, 4, 5, 7, 8, 9, 1, 7, 8, 2, 4, 6, 1, 2, 3, 5, 7, 9, 10, 1, 2, 3, 4, 5, 7, 1, 3, 5, 8, 9, 1, 2, 3, 4, 5, 6, 7, 8, 10, 1, 3, 5, 9, 3, 9, 1, 5, 8, 9, 1, 2, 3, 4, 5, 6, 7, 8, 9, 2, 4, 5, 2, 5, 8, 1, 2, 5, 6, 8, 1, 2, 6, 8, 9, 2, 5, 1, 2, 4, 5, 6, 7, 9, 5, 7, 9, 10, 3, 4, 5, 9, 1, 2, 3, 4, 5, 6, 8, 3, 2, 6, 7, 8, 2, 6, 8, 1, 2, 3, 4, 5, 6, 7, 8, 9, 10, 1, 7, 5, 7, 1, 2, 3, 4, 5, 6, 1, 3, 4, 5, 2, 4, 5, 7, 8, 1, 2, 6, 8, 1, 2, 6, 8, 9, 1, 2, 4, 6, 8, 1, 5, 7, 3, 4, 6, 7, 8, 2, 3, 5, 7, 8, 1, 4, 5, 6, 4, 2, 4, 5, 8, 9, 1, 2, 3, 6, 7, 8, 9, 2, 6, 7, 5, 6, 2, 3, 4, 6, 7, 10, 2, 4, 6, 2, 5, 8, 4, 1, 2, 3, 5, 6, 8, 9, 2, 5, 6, 7, 1, 2, 3, 4, 5, 6, 7, 9, 1, 2, 6, 9, 2, 3, 4, 5, 8, 2, 5, 6, 7, 2, 4, 9, 1, 2, 4, 8, 9, 1, 2, 4, 8, 1, 2, 3, 4, 5, 6, 7, 9, 2, 5, 6, 8, 1, 5, 7, 8, 1, 2, 5, 7, 1, 2, 8, 9, 4, 5, 6, 1, 2, 3, 5, 8, 4, 5, 6, 8, 1, 1, 2, 3, 4, 5, 6, 9, 2, 4, 5, 6, 8, 1, 2, 3, 4, 5, 6, 7, 8, 9, 1, 2, 3, 8, 9, 3, 5, 7, 2, 3, 4, 5, 6, 1, 2, 6, 7, 8, 1, 3, 9, 4, 6, 1, 4, 5, 6, 8, 9, 10, 1, 3, 4, 5, 6, 7, 9, 10, 1, 7, 8, 2, 4, 5, 6, 8, 1, 2, 4, 6, 8, 3, 9, 1, 2, 3, 4, 7, 8, 1, 2, 6, 1, 2, 3, 4, 5, 6, 7, 9, 2, 3, 8, 1, 2, 3, 4, 6, 8, 9, 2, 4, 5, 1, 2, 5, 8, 9, 1, 2, 3, 4, 6, 8, 9, 1, 2, 3, 4, 5, 6, 7, 8, 9, 2, 6, 1, 2, 3, 5, 8, 1, 2, 3, 4, 5, 6, 7, 8, 1, 2, 3, 5, 6, 8, 9, 10, 1, 2, 3, 4, 6, 7, 9, 1, 2, 3, 4, 5, 6, 7, 8, 9, 1, 2, 3, 5, 6, 7, 8, 9, 5, 7, 1, 2, 4, 5, 7, 8, 9, 1, 2, 5, 8, 10, 1, 3, 5, 7, 1, 2, 3, 4, 5, 6, 7, 8, 9, 10, 2, 3, 4, 6, 8, 10, 1, 2, 6, 2, 4, 5, 6, 7, 8, 9, 7, 9, 3, 7, 1, 3, 4, 7, 8, 3, 4, 5, 7, 2, 6, 1, 3, 5, 4, 5, 6, 9, 10, 4, 5, 6, 9, 4, 5, 4, 5, 7, 10, 1, 2, 4, 8, 9, 1, 2, 3, 4, 5, 6, 7, 8, 9, 1, 2, 3, 5, 6, 7, 8, 9, 2, 4, 5, 6, 1, 2, 3, 4, 5, 6, 7, 8, 9, 2, 3, 4, 3, 9, 1, 2, 3, 4, 5, 7, 8, 2, 4, 5, 6, 1, 3, 4, 5, 8, 9, 1, 5, 7, 8, 10, 1, 2, 3, 4, 5, 8, 9, 10, 1, 2, 3, 4, 6, 7, 8, 9, 10, 1, 3, 1, 2, 5, 6, 7, 8, 9, 1, 2, 5, 6, 8, 9, 1, 2, 3, 4, 6, 7, 10, 1, 2, 3, 4, 5, 6, 7, 8, 9, 1, 2, 3, 7, 8, 9, 1, 8, 9, 6, 10, 1, 3, 4, 5, 7, 2, 5, 6, 9, 2, 3, 4, 5, 6, 7, 9, 10, 6, 1, 3, 9, 1, 2, 3, 5, 6, 8, 9, 1, 3, 5, 7, 8, 9, 2, 3, 4, 5, 8, 1, 2, 4, 5, 7, 8, 1, 2, 4, 5, 6, 1, 3, 8, 4, 1, 3, 7, 8, 1, 3, 4, 7, 3, 4, 5, 6, 7, 9, 10, 1, 2, 3, 4, 5, 6, 7, 8, 9, 1, 4, 5, 7, 10, 1, 8, 9, 2, 3, 4, 5, 8, 9, 1, 2, 3, 4, 5, 6, 8, 9, 10, 2, 3, 6, 7, 9, 10, 1, 2, 3, 4, 5, 6, 8, 1, 2, 3, 4, 5, 6, 8, 9, 10, 1, 3, 4, 5, 6, 7, 9, 1, 3, 7, 9, 10, 2, 3, 4, 6, 7, 10, 1, 2, 3, 4, 5, 7, 8, 2, 5, 6, 7, 9, 1, 2, 3, 4, 6, 7, 8, 9, 1, 2, 4, 5, 7, 8, 9, 2, 5, 6, 7, 1, 2, 3, 4, 5, 7, 1, 2, 5, 6, 7, 8, 9, 1, 2, 3, 4, 5, 6, 7, 8, 9, 2, 5, 6, 8, 2, 5, 6, 7, 1, 2, 3, 4, 5, 6, 7, 8, 1, 8, 2, 3, 7, 9, 10, 1, 2, 4, 1, 2, 3, 5, 6, 8, 1, 2, 4, 5, 7, 8, 4, 6, 8, 10, 1, 2, 5, 8, 9, 1, 4, 7, 8, 1, 4, 5, 7, 8, 9, 10, 1, 2, 3, 4, 7, 1, 2, 3, 4, 5, 6, 8, 1, 2, 3, 4, 8, 9, 3, 6, 9, 7, 9, 10, 1, 2, 3, 4, 5, 6, 8, 9, 10, 7, 2, 4, 5, 6, 8, 1, 4, 5, 1, 2, 3, 4, 5, 6, 2, 4, 6, 1, 3, 6, 8, 2, 4, 8, 1, 1, 2, 3, 5, 6, 8, 10, 6, 8, 10, 2, 4, 5, 8, 9, 1, 2, 5, 6, 8, 1, 2, 3, 4, 5, 6, 7, 8, 1, 2, 4, 5, 7, 8, 6, 9, 1, 3, 4, 7, 9, 3, 6, 8, 1, 2, 4, 5, 6, 7, 8, 9, 1, 5, 8, 2, 3, 4, 5, 6, 7, 1, 4, 5, 7, 9, 2, 4, 5, 6, 7, 8, 2, 6, 8, 1, 2, 5, 1, 2, 3, 4, 5, 7, 8, 9, 1, 2, 3, 4, 6, 7, 2, 3, 7, 9, 3, 1, 2, 3, 4, 5, 1, 2, 3, 4, 5, 7, 8, 9, 1, 2, 3, 5, 7, 8, 6, 8, 9, 5, 9, 10, 3, 4, 7, 9, 10, 1, 2, 3, 4, 5, 6, 7, 8, 9, 1, 7, 9, 2, 4, 5, 7, 8, 9, 5, 7, 8, 9, 3, 1, 5, 6, 7, 8, 1, 3, 9, 1, 3, 4, 5, 6, 7, 8, 9, 4, 5, 2, 4, 5, 6, 7, 1, 2, 5, 6, 1, 6, 9, 2, 5, 6, 7, 8, 10, 1, 4, 6, 7, 8, 9, 1, 3, 4, 7, 9, 2, 4, 7, 8, 1, 2, 4, 5, 7, 8, 2, 4, 6, 8, 1, 2, 3, 4, 5, 6, 10, 1, 2, 3, 8, 1, 5, 8, 9, 7, 8, 9, 1, 2, 4, 5, 6, 8, 1, 9, 10, 1, 2, 3, 4, 5, 6, 7, 8, 9, 1, 2, 4, 5, 8, 9, 1, 4, 5, 6, 7, 2, 3, 4, 5, 6, 6, 1, 6, 7, 8, 1, 4, 5, 6, 7, 9, 1, 3, 1, 2, 4, 5, 6, 7, 9, 8, 2, 6, 8, 3, 7, 3, 4, 7, 9, 10, 2, 3, 5, 6, 8, 1, 2, 3, 4, 5, 6, 8, 9, 1, 5, 7, 8, 9, 5, 7, 2, 5, 6, 8, 1, 2, 3, 4, 5, 6, 7, 8, 9, 1, 2, 3, 5, 7, 8, 9, 2, 6, 8, 1, 3, 4, 5, 7, 1, 2, 3, 4, 8, 1, 2, 3, 4, 5, 7, 2, 4, 5, 6, 9, 4, 5, 6, 9, 10, 1, 2, 3, 4, 5, 6, 7, 8, 9, 10, 1, 2, 3, 5, 6, 9, 3, 4, 6, 1, 4, 5, 7, 8, 1, 5, 6, 4, 1, 2, 3, 4, 5, 7, 8, 3, 4, 5, 6, 7, 9, 10, 1, 4, 5, 9, 1, 2, 4, 5, 2, 3, 4, 6, 2, 5, 8, 9, 1, 2, 4, 5, 6, 7, 8, 1, 2, 4, 6, 8, 1, 3, 4, 6, 7, 5, 7, 9, 3, 4, 1, 2, 3, 4, 7, 8, 10, 4, 5, 1, 2, 3, 4, 5, 7, 8, 1, 2, 4, 1, 4, 5, 9, 1, 3, 4, 5, 7, 9, 10, 1, 2, 5, 7, 8, 1, 2, 3, 4, 6, 7, 8, 1, 7, 8, 1, 5, 6, 8, 3, 4, 5, 6, 7, 9, 10, 1, 3, 4, 7, 8, 1, 3, 4, 9, 1, 3, 4, 5, 7, 1, 4, 5, 7, 8, 1, 2, 3, 4, 5, 7, 8, 9, 1, 2, 5, 1, 3, 4, 5, 7, 1, 2, 3, 4, 5, 6, 7, 8, 9, 1, 2, 3, 4, 5, 6, 7, 9, 10], \"Freq\": [0.012941144624285209, 0.07764686774571125, 0.05535934089277561, 0.007908477270396517, 0.015816954540793033, 0.065424675600553, 0.017254859499046944, 0.0359476239563478, 0.36666576435474757, 0.34509718998093886, 0.003849022602169549, 0.0019245113010847746, 0.15780992668895152, 0.015396090408678197, 0.05773533903254324, 0.05773533903254324, 0.0750559407423062, 0.005773533903254324, 0.623541661551467, 0.06299755363783688, 0.0031498776818918435, 0.11497053538905229, 0.028348899137026592, 0.05512285943310726, 0.12442016843472782, 0.06929730900162055, 0.5417789612853972, 0.0015749388409459217, 0.013694045505332013, 0.11183470496021145, 0.05705852293888339, 0.14606981872354147, 0.0707525684442154, 0.018258727340442683, 0.01597638642288735, 0.5591735248010572, 0.009129363670221342, 0.02434041160033518, 0.12778716090175968, 0.010141838166806324, 0.08316307296781186, 0.19472329280268144, 0.09127654350125693, 0.4665245556730909, 0.028385685220786997, 0.003870775257380045, 0.08773757250061436, 0.07354472989022086, 0.10709144878751457, 0.020644134706026905, 0.03999801099292713, 0.22966599860454934, 0.41030217728228474, 0.009107514625264159, 0.11839769012843407, 0.11536185192001268, 0.14572023400422654, 0.10625433729474852, 0.43108902559583684, 0.07589595521053466, 0.015289573105801736, 0.06625481679180752, 0.061158292423206945, 0.0025482621843002894, 0.06370655460750724, 0.08154438989760926, 0.1477992066894168, 0.5631659427303639, 0.024888125670629133, 0.031380680193401955, 0.1493287540237748, 0.010820924204621362, 0.0984704102620544, 0.040037419557099045, 0.03462695745478836, 0.1341794601373049, 0.4772027574238021, 0.01860262747034344, 0.02705836722959046, 0.006764591807397615, 0.011838035662945827, 0.27396596819960345, 0.27312039422367873, 0.0431242727721598, 0.3449941821772784, 0.02279962363898523, 0.01519974909265682, 0.05404355232944647, 0.018577471113247222, 0.08866520304049812, 0.10302052162800733, 0.005066583030885606, 0.02279962363898523, 0.10724267415374533, 0.5615462859231547, 0.10589121797696424, 0.21178243595392848, 0.05842274095280786, 0.06572558357190884, 0.018257106547752457, 0.5404103538134727, 0.08269574501270571, 0.016539149002541144, 0.154365390690384, 0.02756524833756857, 0.06064354634265086, 0.656052910434132, 0.047830889954348185, 0.05217915267747075, 0.08261699173932868, 0.13479614441679943, 0.10001004263181894, 0.5826672048984234, 0.05773901717422347, 0.008248431024889069, 0.06598744819911255, 0.18558969806000403, 0.09485695678622429, 0.5856386027671239, 0.06984089308533087, 0.0021489505564717187, 0.07306431892003844, 0.05694718974650055, 0.05050033807708539, 0.2385335117683608, 0.5082268066055615, 0.05107294625370338, 0.12870382455933252, 0.11644631745844371, 0.010214589250740676, 0.04903002840355525, 0.055158781953999654, 0.03064376775222203, 0.557716573090441, 0.053699101222281, 0.037734503561602864, 0.01015928942043154, 0.005805308240246595, 0.11175218362474695, 0.026123887081109676, 0.08417696948357563, 0.02322123296098638, 0.6472918687874953, 0.020667491290645403, 0.006889163763548468, 0.05281692218720492, 0.07348441347785033, 0.8450707549952787, 0.39055468156639045, 0.0854338365926479, 0.033563292947111675, 0.488193351957988, 0.06598287026559065, 0.05746895152164347, 0.11919486241526052, 0.27563811933529, 0.20114133032575213, 0.18411349283785777, 0.05853319136463686, 0.03724839450476891, 0.30685783553362994, 0.4360611347056847, 0.25436899524498274, 0.31213565571725926, 0.1718499677544461, 0.017535710995351644, 0.4945070500689164, 0.8404214175487605, 0.01394890319583005, 0.045333935386447664, 0.0034872257989575126, 0.09415509657185284, 0.011533883703485945, 0.735285086097229, 0.25086197055081927, 0.24030225611131048, 0.003907353757907487, 0.0312588300632599, 0.5138170191648346, 0.21099710292700433, 0.13875242486348402, 0.23042813414828595, 0.611997302522867, 0.019821774980497715, 0.20471981243319023, 0.5777648039781146, 0.025021310408501026, 0.011373322912955012, 0.04549329165182005, 0.06823993747773008, 0.06596527289513908, 0.06580711622852352, 0.021935705409507837, 0.32903558114261755, 0.11907954365161398, 0.46378348580102285, 0.16483498911972022, 0.04945049673591607, 0.2277719849654316, 0.13036949139468781, 0.014984999010883657, 0.4120874727993006, 0.0474874407958551, 0.00508794008527019, 0.027135680454774345, 0.12380654207490795, 0.21708544363819476, 0.21369348358134796, 0.033919600568467934, 0.3307161055425623, 0.019922630187690055, 0.5871933107950753, 0.016776951737002152, 0.26633410882490915, 0.0817876397178855, 0.0031456784506879035, 0.025165427605503228, 0.16431405748050226, 0.8357352923577269, 0.24520668292088407, 0.031137356561382105, 0.09730423925431908, 0.10119640882449184, 0.031137356561382105, 0.4865211962715954, 0.0398638899521402, 0.032270768056494446, 0.9263608712687817, 0.043568561013511246, 0.07100061794794425, 0.21945645547546408, 0.011295552855354768, 0.6551420656105765, 0.177934554041417, 0.053716091786088146, 0.12086120651869833, 0.0738596262058712, 0.4263714785520747, 0.08393139341576274, 0.06043060325934917, 0.17786306328807708, 0.29955884343255085, 0.47742190672062795, 0.04212546235770247, 0.09313563741496964, 0.13305091059281376, 0.0817312736498713, 0.5740196428432822, 0.11784509223934933, 0.014647182176495143, 0.18064858017677343, 0.803153822677817, 0.030421742413166558, 0.060843484826333116, 0.012675726005486066, 0.8949062559873162, 0.1206253134297532, 0.867724028865644, 0.011673417428685794, 0.019655725852680814, 0.017868841684255284, 0.9613436826129343, 0.04027467132893304, 0.8054934265786607, 0.05178172028005676, 0.10068667832233259, 0.6141990288473282, 0.05061545087172911, 0.18883456671375862, 0.009733740552255598, 0.08663029091507483, 0.047695328706052434, 0.0009733740552255599, 0.1229193371444331, 0.018910667252989708, 0.04491283472585056, 0.004727666813247427, 0.7800650241858255, 0.026002167472860847, 0.055822494171515316, 0.9430014193973837, 0.9605975943119855, 0.03118823358155797, 0.006237646716311595, 0.06437101822834342, 0.1206956591781439, 0.07509952126640064, 0.0026821257595143087, 0.07509952126640064, 0.6410280565239198, 0.01877488031660016, 0.35348458989707077, 0.09122182965085697, 0.5549327970427133, 0.7616911156047369, 0.004760569472529606, 0.004760569472529606, 0.06426768787914967, 0.10473252839565132, 0.057126833670355266, 0.26344123498830885, 0.6484707322789142, 0.022291181422087674, 0.028370594537202493, 0.03647647869068892, 0.3899853477795468, 0.5648063657496885, 0.042584606941444766, 0.06401324948305094, 0.5606677713343082, 0.04304339189377563, 0.022073534304500323, 0.2836449158128292, 0.02648824116540039, 0.2918663140884708, 0.01702553498849413, 0.0048644385681411795, 0.0243221928407059, 0.5545459967680945, 0.10458542921503537, 0.06898753057768907, 0.617256852537218, 0.15249875180331268, 0.14160598381736178, 0.01452369064793454, 0.29880386932681546, 0.07424267918856457, 0.0183315257255715, 0.27039000445217964, 0.10173996777692183, 0.16315057895758636, 0.06874322147089312, 0.0036663051451143003, 0.05037655804871587, 0.08635981379779864, 0.08396093008119312, 0.741255068431105, 0.028786604599266213, 0.007196651149816553, 0.006084330610517044, 0.05019572753676561, 0.8487641201671275, 0.001521082652629261, 0.09126495915775565, 0.15709043170811485, 0.07489195000038033, 0.009133164634192724, 0.758052664637996, 0.22878875496818682, 0.007677474998932443, 0.038387374994662216, 0.6479788899098982, 0.0015354949997864887, 0.019961434997224352, 0.05527781999231359, 0.19565091340766774, 0.22117059776518963, 0.5741928980442423, 0.06723606468668876, 0.8902982358513271, 0.04173272980553095, 0.06692093810278522, 0.08146896812512984, 0.07710455911842645, 0.2487713133820929, 0.526638686808875, 0.967619921842768, 0.029887874033753453, 0.06447004431773583, 0.1590261093170817, 0.007521505170402513, 0.7693425288583141, 0.0015238235159221096, 0.025904999770675865, 0.0320002938343643, 0.027428823286597973, 0.5729576419867132, 0.2864788209933566, 0.022857352738831643, 0.03047647031844219, 0.16046909355527061, 0.15949062347261653, 0.6790582373619379, 0.010523606950136105, 0.5761674805199517, 0.4104206710553081, 0.05312852296410442, 0.4334509983290958, 0.11597567817774013, 0.0719178786465316, 0.16262511297549034, 0.10042586657849006, 0.06284715521363571, 0.13966202996236216, 0.005237326123588582, 0.08903454410100588, 0.254883204681311, 0.4661220249993837, 0.04713593511229723, 0.10508201829759076, 0.16346091735180784, 0.049622064196084524, 0.5575184859677732, 0.12259568801385588, 0.12261716727282483, 0.1030695029249832, 0.11017774450601651, 0.1261712880633415, 0.04442650988145827, 0.01777060395258331, 0.04087238909094161, 0.010662362371549985, 0.4247174344667411, 0.009406617084740769, 0.5587530548336017, 0.056439702508444614, 0.37438335997268263, 0.9877157513394068, 0.01005820520712227, 0.11461917876239743, 0.0668611876113985, 0.6463248135768521, 0.16874490206686288, 0.504596237583929, 0.07739736634749211, 0.18117037150614076, 0.11544746823899661, 0.009080137951381757, 0.02594325128966216, 0.03632055180552703, 0.028105188897134006, 0.022484151117707206, 0.045681256635718544, 0.47830962830340595, 0.47293536281685083, 0.4129024085400365, 0.11260974778364632, 0.4742121601111328, 0.010395461565256291, 0.2922279751122046, 0.024256076985598014, 0.6722398478865735, 0.0005775256425142384, 0.13130318683196457, 0.01544743374493701, 0.6333447835424174, 0.1776454880667756, 0.03861858436234252, 0.8318054087034044, 0.16815473221766933, 0.09102581832680413, 0.18205163665360827, 0.5099514594899368, 0.0010343842991682288, 0.07654443813844893, 0.06930374804427132, 0.06930374804427132, 0.6910693636268095, 0.13459028804716888, 0.13976683758744463, 0.034941709396861156, 0.012481235606679984, 0.011094431650382208, 0.9721495733647411, 0.004160411868893328, 0.21661362039412108, 0.5136368422981811, 0.045948343719965076, 0.07056352785566065, 0.006564049102852154, 0.047589355995678116, 0.09846073654278231, 0.9971723323830675, 0.5520379583522773, 0.2634726619408596, 0.11291685511751128, 0.06900474479403466, 0.1771103486464307, 0.5293847783717488, 0.29194013513147915, 0.44745729758495145, 0.014559348077601458, 0.06551706634920657, 0.07522329840094087, 0.06503175474661985, 0.030574630962963062, 0.05581083429747226, 0.05629614590005897, 0.15044659680188174, 0.03833961660435051, 0.1270917404301294, 0.8691435151995947, 0.5248209524033416, 0.474094763695212, 0.07546656297735412, 0.012172026286670018, 0.0657289419480181, 0.029212863088008044, 0.693805498340191, 0.12172026286670018, 0.03878581767989454, 0.10773838244415149, 0.3490723591190508, 0.4999060945408629, 0.08677485196825781, 0.054898375735020245, 0.5489837573502024, 0.23021899501782683, 0.07792027523680294, 0.06524942680436893, 0.6942539011984854, 0.005219954144349515, 0.23489793649572815, 0.005374621464752507, 0.615394157714162, 0.17198788687208022, 0.19886099419584274, 0.005374621464752507, 0.011927568574737032, 0.7315575392505379, 0.061625770969474664, 0.17294974433368696, 0.023855137149474064, 0.19737710007134848, 0.11043718694468307, 0.6908198502497197, 0.16491681271782677, 0.09302999691774844, 0.07611545202361236, 0.01268590867060206, 0.6512099784242391, 0.08013365640287412, 0.015509739948943377, 0.5557656815038043, 0.11115313630076087, 0.2352310558923079, 0.07479746008857811, 0.004155414449365451, 0.16206116352525257, 0.7604408442338775, 0.9964637678392035, 0.017340245459956, 0.04508463819588561, 0.16993440550756883, 0.7282903093181521, 0.034680490919912, 0.050987192125462086, 0.15862681994588204, 0.06373399015682761, 0.12463535852890732, 0.44613793109779326, 0.10905593871279391, 0.046738259448340244, 0.15032992640544007, 0.06442711131661717, 0.7826700930314975, 0.9194076834399779, 0.08035954045490809, 0.34171576607906884, 0.06005913464419998, 0.06420114393000687, 0.0020710046429034475, 0.138757311074531, 0.393490882151655, 0.10419282916083587, 0.2375596504867058, 0.6543309671300492, 0.0966799764967525, 0.013811425213821785, 0.8908369262915051, 0.9976707005060549, 0.03857325681952433, 0.03857325681952433, 0.03030755892962626, 0.18184535357775755, 0.06612558311918457, 0.6089064112224912, 0.035818024189558303, 0.6587498430932941, 0.27791009005498346, 0.01029296629833272, 0.0514648314916636, 0.3181860391572289, 0.08133407180704447, 0.3065668860419368, 0.06971491869175239, 0.05988332759419757, 0.1438987424278479, 0.019663182195109652, 0.0008937810088686205, 0.12578622167222325, 0.6441779231092645, 0.16009155485555684, 0.06861066636666723, 0.6387210956367765, 0.02762037170321196, 0.08286111510963587, 0.06905092925802989, 0.18298496253377922, 0.2432278256248926, 0.07548449760772528, 0.6080695640622316, 0.07129091440729611, 0.1570510628449153, 0.7681845465240421, 0.07169722434224393, 0.13245676967341088, 0.1201669663016511, 0.09012522472623832, 0.1392844382132774, 0.5161717416139104, 0.12319446407500217, 0.6504667703160114, 0.11333890694900199, 0.1084111283860019, 0.13507172552646549, 0.20925046003690145, 0.07971446096643865, 0.10296451208164993, 0.029892922862414496, 0.38860799721138845, 0.04760724752162308, 0.006642871747203221, 0.5465844839133382, 0.09109741398555637, 0.14383802208245744, 0.21575703312368616, 0.3515147719900819, 0.051113117355700684, 0.13719836763898605, 0.46001805620130615, 0.5024022809928123, 0.00797463938083829, 0.01594927876167658, 0.4744910431598783, 0.23952585682097857, 0.11976292841048929, 0.18056564591119922, 0.4587841411417205, 0.2417530531789016, 0.6674486468200109, 0.08934351965307233, 0.8960803946423539, 0.006637632552906325, 0.05641987669970376, 0.007743904645057379, 0.03208189067238057, 0.026118757301038412, 0.9246040084567598, 0.026118757301038412, 0.018283130110726888, 0.9987831910799944, 0.04925629195311701, 0.008209381992186168, 0.8143706936248679, 0.042688786359368076, 0.036121280765619136, 0.03447940436718191, 0.013135011187497868, 0.08951173348625092, 0.04475586674312546, 0.14545656691515776, 0.6691002078097257, 0.04923145341743801, 0.3653479233210396, 0.06618132437238795, 0.05132429237042331, 0.0013506392729058765, 0.09657070801277018, 0.00405191781871763, 0.20056993202652268, 0.21475164439203437, 0.0006753196364529383, 0.07095897317861742, 0.06570275294316429, 0.8173422466129637, 0.023652991059539143, 0.02102488094181257, 0.042351039846858056, 0.0655432759534708, 0.8913885529672029, 0.12122758347015535, 0.013469731496683927, 0.11112528484764239, 0.15826934508603613, 0.5926681858540928, 0.10650100159951081, 0.04693264477266578, 0.1046958998774852, 0.03249183099646093, 0.7094049767560635, 0.028944856476670305, 0.922617300193866, 0.04341728471500546, 0.872684028290496, 0.12584158401681134, 0.09733731280627794, 0.06800278017972843, 0.09733731280627794, 0.06800278017972843, 0.2680109571789297, 0.3986829661517412, 0.0013333878466613418, 0.03313752587561559, 0.09558901694889112, 0.13000106305049192, 0.08284381468903897, 0.015294242711822578, 0.038235606779556446, 0.19245255412376744, 0.4116700329932244, 0.7636785244648023, 0.13742734267134257, 0.09741685050120485, 0.03211472328960969, 0.02064517925760623, 0.23168478944646992, 0.5597137487617689, 0.15369189002884637, 0.2295075562501586, 0.027000888970606894, 0.09112800027579826, 0.5940195573533517, 0.05737688906253965, 0.9686026021720767, 0.03131740515106022, 0.6524088741168795, 0.03422701802112109, 0.26962508073781105, 0.002095531715578842, 0.03771957088041916, 0.0034925528592980705, 0.022314992467615136, 0.1472789502862599, 0.830117719795283, 0.6163497095550878, 0.011296732213253075, 0.2101192191665072, 0.04744627529566292, 0.04112010525624119, 0.009489255059132583, 0.06145422324009673, 0.0027112157311807382, 0.06368045955448695, 0.8759946143592839, 0.05902091373342693, 0.5874797227786067, 0.04546274724855942, 0.20811835407118312, 0.04596788888465453, 0.04091647252370348, 0.05910157142312725, 0.012123399266282512, 0.20541418279672002, 0.6495310127959526, 0.14452065034709946, 0.1463271482286994, 0.15852107724775769, 0.4796278747496258, 0.17477964927316875, 0.03658178705717485, 0.5399320086841154, 0.1262578651485669, 0.16629084678103934, 0.04311244175804724, 0.013344327210824144, 0.07082758288822046, 0.04003298163247243, 0.022080137238943923, 0.11828644949434244, 0.07097186969660546, 0.25786445989766654, 0.06702898804679405, 0.12144075481419157, 0.0969948885853608, 0.14036658673328636, 0.10488065188498363, 0.0643514342074748, 0.9330957960083845, 0.8055581127921381, 0.11153881561737296, 0.07849027765666985, 0.13935692433808136, 0.859367700084835, 0.24584632197437592, 0.23895987037845504, 0.08057148367227446, 0.016527483830210146, 0.003443225797960447, 0.0392527740967491, 0.05302567728859089, 0.3209086443699137, 0.06027764955191181, 0.01961415580657448, 0.039706705657211745, 0.013873427277820972, 0.21384213769606808, 0.16600273328978887, 0.004783940440627922, 0.4812644083271689, 0.17851656338345057, 0.015986557914935872, 0.43829812950115843, 0.031973115829871744, 0.09725156064919321, 0.1705232844259826, 0.06794287113847745, 0.10570628127668351, 0.009879091708101263, 0.10768209961830376, 0.25389265689820245, 0.11064582713073413, 0.16102919484205058, 0.0869360070312911, 0.05334709522374682, 0.11064582713073413, 0.1788710966997531, 0.08803811790690973, 0.21520428821689044, 0.06428180037647377, 0.03842933718158758, 0.2347683144184259, 0.16349936182711805, 0.016769165315601853, 0.12320566708285884, 0.8747602362882978, 0.18659349889763416, 0.02870669213809756, 0.45260884604400486, 0.02870669213809756, 0.17511082204239511, 0.009568897379365855, 0.1176974377662, 0.30120611065525954, 0.06341181276952833, 0.1761439243598009, 0.001761439243598009, 0.45797420333548233, 0.0845104784439943, 0.9115058746459386, 0.10213516447768176, 0.8944564404257584, 0.06130708176304351, 0.22654882557749673, 0.014368847288213324, 0.11064012411924258, 0.11447181672943281, 0.08573412215300616, 0.0052685773390115515, 0.18535813001795187, 0.15135185810251367, 0.044064465017187526, 0.14731499043444193, 0.007014999544497235, 0.03039833135948802, 0.6091357937805099, 0.12042415884720253, 0.08534916112471636, 0.04154950394380945, 0.4299470408098543, 0.525691549897763, 0.11855730116572373, 0.014490336809144012, 0.27004718598859295, 0.10406696435657972, 0.1290957279360103, 0.34381617338059883, 0.01975955019428729, 0.9900550955700261, 0.008634201414854879, 0.5698064989720291, 0.4285519467058538, 0.3129438385053504, 0.1413294754540292, 0.04374483764053286, 0.49465316408910226, 0.006729975021620439, 0.9964740486194879, 0.11632301993584837, 0.5437424885373378, 0.33814831376700105, 0.16190724587103517, 0.8361180159907189, 0.18003318314455305, 0.010590187243797237, 0.8083842929431891, 0.11445723843938628, 0.17931634022170517, 0.1011038939547912, 0.5780090541189007, 0.02670668896919013, 0.03579731573563073, 0.08887609424018664, 0.06789146087792035, 0.8060567991505816, 0.25183129469428617, 0.7433084988557156, 0.0251491182739338, 0.0754473548218014, 0.8936320026671144, 0.0050298236547867605, 0.7740522157518841, 0.04581617476413021, 0.10127786000491941, 0.03375928666830647, 0.04340479714496546, 0.7227131481849582, 0.018081526831011083, 0.02027322705295182, 0.03999852905041846, 0.02356077738586293, 0.008218875832277766, 0.08109290821180729, 0.08218875832277765, 0.003835475388396291, 0.1274191350015993, 0.5464865123401925, 0.002831536333368873, 0.014157681666844365, 0.09060916266780393, 0.11042991700138605, 0.07078840833422183, 0.03964150866716422, 0.008695193609065332, 0.12608030733144732, 0.8521289736884025, 0.011593591478753775, 0.1048053407297589, 0.17440888762662168, 0.34321748987073714, 0.09840501457832324, 0.062403179976497664, 0.07520383227936898, 0.04880248690469689, 0.0712036284347217, 0.020801059992165888, 0.15014050169306203, 0.07681607063365965, 0.7716523459108537, 0.9970169900361789, 0.001752226696021404, 0.32498379534423105, 0.011387572343598391, 0.23563515080215133, 0.10686798660915414, 0.07445720378506641, 0.24351885473233484, 0.00350386841341489, 0.019487989435619774, 0.062361566193983274, 0.8769595246028898, 0.035078380984115594, 0.8384409960148483, 0.036243847089979034, 0.041076360035309574, 0.050741385925970654, 0.03382759061731377, 0.002416256472665269, 0.5574436252642003, 0.05144194528444801, 0.06266564243741848, 0.31519882837925417, 0.012159005249051348, 0.8119949240479439, 0.09732091325222882, 0.03512015565189127, 0.0110014945415563, 0.010155225730667355, 0.028350005164779698, 0.0016925376217778924, 0.003808209649000258, 0.7930822191302306, 0.02921881859953481, 0.08626508348434087, 0.0069568615713178125, 0.012522350828372062, 0.008348233885581374, 0.015305095456899186, 0.016696467771162748, 0.032001563228061934, 0.9296658066726994, 0.06439243682581468, 0.011873563960386907, 0.46570756422406423, 0.09498851168309526, 0.010554279075899472, 0.09366922679860781, 0.15039847683156748, 0.1741456047523413, 0.014171903216146172, 0.6837943301790528, 0.028343806432292343, 0.007085951608073086, 0.17006283859375407, 0.09566034670898665, 0.1451633440421347, 0.07685118213995368, 0.07115850198143858, 0.09677556269475647, 0.042695101188863153, 0.5493436352967058, 0.01707804047554526, 0.6536869069446548, 0.07559222999739136, 0.11524717032389174, 0.022305903933656467, 0.018588253278047057, 0.03593728967089097, 0.03283924745788313, 0.043992199424711366, 0.0012392168852031372, 0.8012217954412021, 0.08302816533069451, 0.0899471791082524, 0.015221830310627328, 0.006919013777557876, 0.0013838027555115751, 0.8931429297868848, 0.024568656644623044, 0.0809320454175818, 0.13953179582763567, 0.8599470335128104, 0.280223272822802, 0.06790926110190466, 0.012489059512993962, 0.02107528792817731, 0.617427879673639, 0.6478085620901217, 0.021959612274241414, 0.3184143779765005, 0.010979806137120707, 0.0313273148763745, 0.05513607418241913, 0.10525977798461833, 0.10525977798461833, 0.10150050019945339, 0.042605148231869325, 0.04887061120714423, 0.5100086861873769, 0.9995286506542894, 0.11998851345953551, 0.8778107037302861, 0.002105061639640974, 0.034135995839168154, 0.5803119292658586, 0.010240798751750445, 0.17067997919584077, 0.1536119812762567, 0.013654398335667261, 0.030722396255251336, 0.863832458514622, 0.12982453133745764, 0.1962727519797195, 0.12716262804319853, 0.6689859997055227, 0.005528809914921676, 0.15032972171786987, 0.027525160314539554, 0.6944809679360749, 0.11856992135493963, 0.008469280096781402, 0.09684299552197471, 0.07052696413013375, 0.2231599462028113, 0.26842352019677773, 0.017894901346451848, 0.3221082242361333, 0.038619624500073925, 0.11585887350022178, 0.0041977852717471655, 0.18890033722862246, 0.6514962741751601, 0.7970357655604499, 0.03007682134190377, 0.17043532093745467, 0.9980836562547507, 0.27790576578112836, 0.6471778107231756, 0.057103924475574316, 0.017131177342672294, 0.7704407257842357, 0.17262987216742212, 0.03196849484581891, 0.019181096907491348, 0.06889198223660246, 0.18428605248291158, 0.13089476624954466, 0.043918638675834065, 0.17309110536946368, 0.003444599111830123, 0.3952677480825066, 0.21284887447298612, 0.052555277647650896, 0.04467198600050326, 0.07182554611845622, 0.23299506423791896, 0.1944545272963083, 0.06832186094194616, 0.059562648000671015, 0.062190411883053555, 0.20113247901959574, 0.06768881505467164, 0.046415187466060555, 0.39259512731709556, 0.2920288878072977, 0.3134010182229152, 0.0141171629830142, 0.669153525394873, 0.10909764590111054, 0.15722896026924754, 0.625707086785781, 0.028878788620882202, 0.07059259440660094, 0.009626262873627401, 0.0009630502197455302, 0.18875784307012392, 0.03852200878982121, 0.34958722976762746, 0.11845517702870022, 0.005778301318473181, 0.057783013184731814, 0.2292059522994362, 0.011556602636946363, 0.1811469881125193, 0.03622939762250386, 0.08199284725092978, 0.5167456187209761, 0.009534052005922068, 0.17351974650778165, 0.2915046452126218, 0.2818734344677114, 0.09567002673277676, 0.05457686088782567, 0.017978260057166105, 0.026325309369421793, 0.23179113859417727, 0.19756411608609548, 0.2750345930936169, 0.020735592358890487, 0.07343855627107047, 0.07171059024116294, 0.09158219958509965, 0.038015252657965896, 0.22434758954966236, 0.007199858457948086, 0.1863039458878072, 0.00703033758067197, 0.19245549127089517, 0.23991026994043096, 0.07381854459705568, 0.14500071260135938, 0.15554621897236734, 0.12850253630866565, 0.07164989903271055, 0.08722596403982152, 0.08488955428875489, 0.6277154197865727, 0.4004231699017901, 0.014448258707796549, 0.2683248045733645, 0.08978560768416427, 0.082561478330266, 0.1444825870779655, 0.7998145235496167, 0.0020216480848015586, 0.07404286110585709, 0.01718400872081325, 0.07758074525425981, 0.019711068826815198, 0.009602828402807405, 0.06946522770167331, 0.3343014083143028, 0.10419784155250995, 0.030391037119482073, 0.45586555679223106, 0.13893022322728826, 0.325389207032333, 0.024373723373208464, 0.035341898891152274, 0.08896409031221089, 0.01096817551794381, 0.36438716442946656, 0.012186861686604232, 0.05527571363579982, 0.27783319222204644, 0.12218841961597855, 0.3956577397088829, 0.0843681944967471, 0.032001728947042, 0.033456352990089366, 0.05227873206611918, 0.2647664817542165, 0.011804874982672074, 0.6695050525886876, 0.02469798512738947, 0.0515436211354215, 0.03221476320963844, 0.439194605091404, 0.29208051976738847, 0.1599999906078709, 0.11611811639711998, 0.08708858729783998, 0.00527809619986909, 0.06597620249836363, 0.05542001009862545, 0.6280934477844218, 0.03958572149901818, 0.11855897988463902, 0.13129672152513744, 0.07740627612302878, 0.08426506008329715, 0.005878957680230034, 0.03037461468118851, 0.04801148772187861, 0.022536004440881798, 0.4820745297788628, 0.5524719978201154, 0.15417823194979963, 0.2569637199163327, 0.034261829322177695, 0.5999009184952924, 0.0627803286797399, 0.1395118415105331, 0.1988043741525097, 0.06328898959561931, 0.13170951888818072, 0.032499751413966674, 0.1163148997973544, 0.43104933454313693, 0.13342003212049475, 0.05473642343404913, 0.035920777878594747, 0.34544671514676223, 0.6511517727987642, 0.14550747464467928, 0.017696855024352885, 0.20449699139252223, 0.6252888775271352, 0.005898951674784295, 0.18337882445454903, 0.022744660397463447, 0.7932200313615376, 0.29802296265726463, 0.008474586615846387, 0.007062155513205323, 0.36158236227611257, 0.24152571855162205, 0.08192100395318175, 0.3699087873422691, 0.060921861426192256, 0.14737983243222558, 0.07405471778153909, 0.2002760594190392, 0.14737983243222558, 0.0031772192673032032, 0.6132033185895182, 0.03494941194033523, 0.34869981458652655, 0.2238678336519301, 0.06633120997094226, 0.12851671931870062, 0.09949681495641338, 0.4809012722893314, 0.22083849587539892, 0.0670901759621465, 0.2599744318533177, 0.45006326374606614, 0.2335987674624146, 0.017969135958647277, 0.21083786191479473, 0.034740329520051405, 0.0023958847944863036, 0.0670847742456165, 0.4324572054047778, 0.8151872242891718, 0.01940921962593266, 0.006469739875310887, 0.0032348699376554433, 0.1552737570074613, 0.14786569208725053, 0.44756662504261735, 0.012901033537813805, 0.16374388721071367, 0.11213975305945846, 0.03572593902779207, 0.07939097561731571, 0.2448092160209029, 0.01260047435401706, 0.6360239435837183, 0.007800293647724847, 0.02160081317831496, 0.07680289130067541, 0.8892204939205356, 0.10570390675280876, 0.004358923989806547, 0.11769014560710699, 0.6310195041061907, 0.2504045651215042, 0.25509764041304617, 0.04295458549910399, 0.5277277647032776, 0.04733770646840032, 0.004383120969296325, 0.11396114520170447, 0.006136369357014856, 0.0008766241938592651, 0.0008766241938592651, 0.9993821837540182, 0.07096994599984835, 0.5677595679987868, 0.12926668735686664, 0.16982094221392285, 0.05829674135701829, 0.052052236830771, 0.9326025765513138, 0.015181902408974875, 0.1176148560297423, 0.4402610151383597, 0.12397241581513377, 0.20821008297157081, 0.10807851635165508, 0.0015893899463478689, 0.04690032531477167, 0.9504644052071696, 0.0021984527491299218, 0.8611143773543264, 0.13277093923965386, 0.9659949213527894, 0.0334432329629461, 0.08599853190371566, 0.8674634522461754, 0.041129732649603144, 0.9976210450944504, 0.21540499306611866, 0.5631301961585673, 0.08616199722644746, 0.012308856746635352, 0.033849356053247216, 0.07385314047981212, 0.01846328511995303, 0.9115811391607446, 0.07711857793333847, 0.00988699717094083, 0.24580042274108724, 0.05730316603779948, 0.09651059543208333, 0.5323162529300847, 0.0678590124131836, 0.02553265360004377, 0.8771217472015036, 0.010513445600018023, 0.05406914880009269, 0.03154033680005407, 0.01913173618554546, 0.43142065098405014, 0.010522454902050003, 0.005739520855663638, 0.1348787401080955, 0.12148652477821367, 0.02295808342265455, 0.25445209126775464, 0.01466644418857499, 0.16342609238697847, 0.14247402926044275, 0.404374818342139, 0.051332554660012464, 0.224187075453932, 0.8661717598753017, 0.13160913665949814, 0.15054178303611182, 0.5839196432915852, 0.08667557205109468, 0.027371233279293056, 0.15054178303611182, 0.019991324195803857, 0.902465492267717, 0.07710939332667202, 0.17600040402931735, 0.05866680134310578, 0.0114471807498743, 0.353431705652369, 0.10016283156140011, 0.12019539787368014, 0.008585385562405724, 0.1717077112481145, 0.8778806624491347, 0.04463799978554922, 0.07935644406319861, 0.03291842065726815, 0.019635549163984512, 0.07969722895970184, 0.2448668483979245, 0.3852032733052256, 0.23735913842345985, 0.12212629742048726, 0.5382603478902958, 0.23068300623869817, 0.08141753161365818, 0.022615981003793938, 0.06654186549300906, 0.15082822845082053, 0.6875992767610937, 0.02218062183100302, 0.03992511929580544, 0.035488994929604833, 0.15604593901914665, 0.488058575230097, 0.35525352074571687, 0.10967524289627398, 0.30030126031122634, 0.587545944087182, 0.3958826732773469, 0.04170906736314905, 0.13785200230193329, 0.1343173355762427, 0.2332880038955794, 0.045243734088839645, 0.009190133486795553, 0.0021208000354143585, 0.21463733012237113, 0.010913762548595142, 0.03092232722101957, 0.04729297104391228, 0.6329982278185182, 0.063663614866805, 0.36446319925356874, 0.09468261048224383, 0.40596790521838794, 0.13489029438566244, 0.9980051631156898, 0.13038855883883338, 0.007522416856086541, 0.04764197342188142, 0.34352370309461866, 0.4688973173627277, 0.19091167147737984, 0.08643264728577893, 0.38657238950892336, 0.06173760520412781, 0.05223951209580045, 0.06363722382579329, 0.016146758284156505, 0.1415215873140776, 0.09789664848029983, 0.2325045401407121, 0.04079027020012493, 0.024474162120074958, 0.14276594570043724, 0.45685102624139917, 0.8611160102202127, 0.04654681136325474, 0.09076628215834674, 0.19700922741713314, 0.21802354500829402, 0.5831473131547141, 0.1549801149849135, 0.06623081836962115, 0.09007391298268476, 0.3391017900524603, 0.34969872099159965, 0.25137499489879395, 0.1000252067384345, 0.048385750583859716, 0.21306523575972933, 0.1733910194458487, 0.01899744220320739, 0.17790422394716315, 0.01647844434200862, 0.00031487473264984626, 0.2254540040166817, 0.7184797930201945, 0.054505363608428545, 0.04692442420980116, 0.11517813215133012, 0.29860997224418917, 0.01706342698538224, 0.0213292837317278, 0.4991052393224305, 0.0015325206110599252, 0.012260164888479402, 0.9708518071064627, 0.014558945805069291, 0.9983969226365963, 0.2777639506813822, 0.1684797733641171, 0.00455350738821938, 0.4416902166572799, 0.10473066992904576, 0.05849154832414012, 0.9219854227364459, 0.01883626132472309, 0.11656017799280914, 0.6290396382587138, 0.043348826526251334, 0.014449608842083777, 0.0934408038454751, 0.047202055550807004, 0.00674315079297243, 0.04912867006308484, 0.9152149093474846, 0.08251937707231419, 0.09706127251023393, 0.4250614347861969, 0.18073478329491835, 0.1907756045890805, 0.10542862358870238, 0.24561198213630372, 0.047319739677636495, 0.018026567496242474, 0.6872628857942443, 0.4415389898771411, 0.0017732489553298838, 0.5550269230182536, 0.5239729873808865, 0.08260470589312274, 0.04211220300433709, 0.06964710496871133, 0.2721096194126396, 0.008908350635532846, 0.3237110089104967, 0.012916149981466202, 0.5989864553904951, 0.009687112486099651, 0.043592006187448434, 0.010494371859941289, 0.1745008473030742, 0.17727070202217063, 0.013849273595482079, 0.62598716651579, 0.008309564157289248, 0.35569629970836364, 0.029867628219786262, 0.14390766324078835, 0.4697363347293657, 0.2584878108260055, 0.059493226301223494, 0.11693496204033584, 0.061544716863334646, 0.047184282928556566, 0.45337941422656525, 0.8157194012204277, 0.0699188058188938, 0.02796752232755752, 0.07924131326141298, 0.04947150145060176, 0.26004250762495795, 0.12558150368229676, 0.19154350561643244, 0.017759000520728836, 0.021564500632313587, 0.33488400981945804, 0.2350293339484416, 0.6437760016848618, 0.01362488892454734, 0.10899911139637872, 0.2648920916050918, 0.033111511450636476, 0.007641118027069955, 0.6927947011210093, 0.0053004303239370856, 0.0371030122675596, 0.9558442684166544, 0.1566707790299719, 0.571636626190438, 0.10585863447971074, 0.05081214455026116, 0.033874763033507435, 0.08045256220458016, 0.5998763060806898, 0.36290859401014103, 0.03479945422015051, 0.3335278649180445, 0.11592127012395448, 0.33420576708251204, 0.015591749782754112, 0.0006779021644675701, 0.0338951082233785, 0.060333292637613736, 0.06982392294015971, 0.03660671688124878, 0.020278518890451482, 0.08271501126368368, 0.2604188741721138, 0.5683321741666008, 0.01120654991314424, 0.05656639479968045, 0.044805125218644104, 0.3845773247933619, 0.40884676762012745, 0.05227264608841812, 0.10641217239427975, 0.007705771107825095, 0.05907757849332573, 0.6678334960115083, 0.04880321701622561, 0.21576159101910267, 0.9979388334602963, 0.12064031678811526, 0.24780173178099352, 0.13368251319764124, 0.49560346356198703, 0.7222103333240377, 0.008683891783455364, 0.09841744021249413, 0.04631408951176194, 0.024604360053123532, 0.09841744021249413, 0.3470447250838843, 0.6513031141985226, 0.04756592355258126, 0.10825348118863322, 0.041005106510845914, 0.00984122556260302, 0.09513184710516252, 0.3050779924406936, 0.39200881824368694, 0.9981142774863534, 0.05717912523982938, 0.07623883365310584, 0.8640401147351996, 0.8783863155818777, 0.1178665343592296, 0.16073574429010384, 0.06643744097324292, 0.18538189174791977, 0.14251902660389207, 0.4436306542406866, 0.590037238586841, 0.023290943628427933, 0.11257289420406835, 0.2678458517269212, 0.0038818239380713224, 0.14685083399353896, 0.2585402006928503, 0.0010341608027714011, 0.24406194945405066, 0.03826394970254184, 0.033093145688684836, 0.2647451655094787, 0.013444090436028214, 0.8600585800103979, 0.05138714786225648, 0.027045867295924463, 0.043273387673479144, 0.016227520377554677, 0.04905839123783261, 0.9496302875323311, 0.7132352867585771, 0.06184881637943381, 0.08685152938388577, 0.1368569553927897, 0.3414999390009201, 0.05290844125366369, 0.15979418116005498, 0.10367916770919955, 0.08818073542277281, 0.03794443766676891, 0.18224018654039714, 0.02404929147893804, 0.010154145291107171, 0.0037902564841827188, 0.13013213929027334, 0.7561561685944523, 0.02400495773315722, 0.021478120077035406, 0.04358794956810126, 0.020846410663004952, 0.7330982651055868, 0.25186198064977217, 0.013492606106237794, 0.48140326313850124, 0.008149511105125778, 0.1757965966962846, 0.16182600623035473, 0.17230394907980215, 0.92469609259955, 0.04198725658054979, 0.02929343482363939, 0.0009764478274546463, 0.0019528956549092927, 0.8587216639391729, 0.007210089537692468, 0.04902860885630878, 0.07570594014577091, 0.006489080583923221, 0.00216302686130774, 0.14222322218529512, 0.5363847236702559, 0.19911251105941316, 0.08939745394504264, 0.0325081650709246, 0.08967067475110432, 0.08634953864921156, 0.018266248560410137, 0.17103850924747677, 0.6326764274105694, 0.43037048318501686, 0.05562395462140174, 0.1690968220490613, 0.05625965695993204, 0.10552658819603072, 0.04132065200446986, 0.04481701486638654, 0.04386346135859109, 0.04449916369712139, 0.008899832739424279, 0.19728453355543202, 0.03461132167639158, 0.5883924684986569, 0.01730566083819579, 0.0415335860116699, 0.12113962586737052, 0.10587121871012818, 0.3215348123789078, 0.5705282341601352, 0.16473638807729932, 0.026208061739570344, 0.018720044099693103, 0.2134085027365014, 0.5765773582705476, 0.8440633251465877, 0.053668766338800376, 0.09757957516145523, 0.9996426973061837, 0.4336415608031484, 0.006775649387549194, 0.26933206315508046, 0.08300170499747762, 0.03726607163152057, 0.15329906739330051, 0.016092167295429335, 0.1043684047742636, 0.1796107430998955, 0.22451342887486936, 0.03398041085673698, 0.10679557697831624, 0.019417377632421132, 0.33252259195521194, 0.8622896056179796, 0.05248719338544224, 0.014996340967269211, 0.06748353435271146, 0.0474359397782983, 0.006776562825471185, 0.8504586345966337, 0.0948718795565966, 0.030986456702183293, 0.22505952762638393, 0.5805883466303817, 0.16145574807979715, 0.0360538190520225, 0.05493915284117714, 0.8635748087222531, 0.04635491020974321, 0.23415819270081137, 0.3673287288339742, 0.0388414063721725, 0.04328042424327793, 0.013317053613316287, 0.004439017871105429, 0.2974141973640637, 0.042643531406399295, 0.16245154821485444, 0.07513384104937018, 0.6680819920335889, 0.052796753169827695, 0.9038347291094326, 0.08506679803382895, 0.009304181034950041, 0.2499132278957741, 0.7474882131657388, 0.40068574596121787, 0.59205804253971, 0.0029901921340389393, 0.7788345661170675, 0.21881542571860468, 0.11145552270399406, 0.09691784582956005, 0.043613030623302025, 0.2955994297801582, 0.011307082013448672, 0.4345150088025276, 0.006461189721970671, 0.884639852260962, 0.11346924470805687, 0.7042987888984925, 0.04013098512242123, 0.06153417718771254, 0.0969832140458513, 0.04280638413058264, 0.02140319206529132, 0.03277363784997733, 0.45904318698753216, 0.009979199717120264, 0.5264027850780939, 0.03251441954515951, 0.5473260623435184, 0.18153884246047391, 0.23572954170240645, 0.7242965171832808, 0.08025446173775964, 0.006019084630331973, 0.0441399539557678, 0.08426718482464762, 0.014044530804107938, 0.048152677042655787, 0.1688152486778287, 0.5812373119034102, 0.10257129033589592, 0.05342254704994579, 0.09402368280790459, 0.6005715319154457, 0.15808228337139815, 0.10585867190048982, 0.03952057084284954, 0.009880142710712385, 0.025406081256117558, 0.0599865807436109, 0.8325912698630002, 0.12253230009304532, 0.04398595387955473, 0.17089504644749703, 0.15974971733135593, 0.07058708440222704, 0.5981326625662396, 0.12720022678462267, 0.14095160265323053, 0.11001100694886284, 0.0355243876605703, 0.20627063802911785, 0.07219472331019125, 0.30940595704367674, 0.2495980239025802, 0.009330767248694586, 0.6379912106294924, 0.07814517570781716, 0.023326918121736467, 0.03150512123486454, 0.8730419151083574, 0.06020978724885223, 0.0350056902609606, 0.8269641028193163, 0.03500377154790757, 0.02187735721744223, 0.10063584320023426, 0.013126414330465339, 0.4370188742950151, 0.03484205148137934, 0.13538625718478828, 0.2857048221473106, 0.10651712881450255, 0.35276548158743276, 0.392663929112999, 0.015406331222743423, 0.03555307205248482, 0.031207696579403345, 0.042268652329065286, 0.08572240705988007, 0.04384878886473128, 0.010335192126061894, 0.6786776162780644, 0.3066106997398362, 0.7611751795295657, 0.010427057253829667, 0.09384351528446701, 0.0782029294037225, 0.05734881489606317, 0.31648343697271436, 0.09499387112838417, 0.10744808045369932, 0.038583628890192026, 0.11599508685342541, 0.1614163208633983, 0.014407810788109682, 0.06275944699227437, 0.08815626600860331, 0.1355654620405025, 0.0034760374882180124, 0.029546318649853104, 0.10428112464654037, 0.17553989315500962, 0.07994886222901429, 0.029546318649853104, 0.4240765735625975, 0.019118206185199067], \"Term\": [\"10\", \"10\", \"10\", \"10\", \"10\", \"10\", \"10\", \"10\", \"10\", \"10\", \"11\", \"11\", \"11\", \"11\", \"11\", \"11\", \"11\", \"11\", \"11\", \"12\", \"12\", \"12\", \"12\", \"12\", \"12\", \"12\", \"12\", \"12\", \"13\", \"13\", \"13\", \"13\", \"13\", \"13\", \"13\", \"13\", \"13\", \"14\", \"14\", \"14\", \"14\", \"14\", \"14\", \"14\", \"15\", \"15\", \"15\", \"15\", \"15\", \"15\", \"15\", \"15\", \"15\", \"17\", \"17\", \"17\", \"17\", \"17\", \"17\", \"17\", \"19\", \"19\", \"19\", \"19\", \"19\", \"19\", \"19\", \"19\", \"20\", \"20\", \"20\", \"20\", \"20\", \"20\", \"20\", \"20\", \"20\", \"2017\", \"2017\", \"2017\", \"2017\", \"2017\", \"2017\", \"2017\", \"2017\", \"2018\", \"2018\", \"2018\", \"2018\", \"2018\", \"2018\", \"2018\", \"2018\", \"2018\", \"2018\", \"22\", \"22\", \"22\", \"22\", \"22\", \"22\", \"26\", \"26\", \"26\", \"26\", \"26\", \"26\", \"27\", \"27\", \"27\", \"27\", \"27\", \"27\", \"28\", \"28\", \"28\", \"28\", \"28\", \"28\", \"30\", \"30\", \"30\", \"30\", \"30\", \"30\", \"30\", \"40\", \"40\", \"40\", \"40\", \"40\", \"40\", \"40\", \"40\", \"50\", \"50\", \"50\", \"50\", \"50\", \"50\", \"50\", \"50\", \"50\", \"60\", \"60\", \"60\", \"60\", \"60\", \"access\", \"access\", \"access\", \"access\", \"accord\", \"accord\", \"accord\", \"accord\", \"accord\", \"accord\", \"accord\", \"accord\", \"accuse\", \"accuse\", \"accuse\", \"activity\", \"activity\", \"activity\", \"activity\", \"actually\", \"actually\", \"actually\", \"actually\", \"actually\", \"administration\", \"administration\", \"administration\", \"age\", \"age\", \"age\", \"age\", \"age\", \"agency\", \"agency\", \"agency\", \"agency\", \"air\", \"air\", \"air\", \"air\", \"air\", \"air\", \"air\", \"annual\", \"annual\", \"annual\", \"annual\", \"annual\", \"ap\", \"ap\", \"ap\", \"ap\", \"ap\", \"ap\", \"april\", \"april\", \"april\", \"april\", \"april\", \"april\", \"april\", \"april\", \"area\", \"area\", \"area\", \"area\", \"area\", \"area\", \"area\", \"arrest\", \"arrest\", \"arrive\", \"arrive\", \"arrive\", \"arrive\", \"arrive\", \"arrive\", \"art\", \"art\", \"art\", \"attack\", \"attack\", \"attack\", \"attack\", \"attack\", \"august\", \"august\", \"august\", \"august\", \"august\", \"august\", \"august\", \"authority\", \"authority\", \"authority\", \"authority\", \"available\", \"available\", \"available\", \"available\", \"available\", \"average\", \"average\", \"average\", \"award\", \"award\", \"award\", \"award\", \"ball\", \"ball\", \"ball\", \"bank\", \"bank\", \"bank\", \"beat\", \"beat\", \"beat\", \"beat\", \"big\", \"big\", \"big\", \"big\", \"big\", \"big\", \"big\", \"bill\", \"bill\", \"bill\", \"bill\", \"bill\", \"bill\", \"billion\", \"billion\", \"bit\", \"bit\", \"bit\", \"block\", \"block\", \"block\", \"block\", \"block\", \"block\", \"block\", \"blue\", \"blue\", \"blue\", \"book\", \"book\", \"book\", \"book\", \"book\", \"book\", \"build\", \"build\", \"build\", \"build\", \"build\", \"building\", \"building\", \"building\", \"business\", \"business\", \"business\", \"business\", \"business\", \"business\", \"buy\", \"buy\", \"buy\", \"buy\", \"buy\", \"buy\", \"california\", \"california\", \"california\", \"california\", \"california\", \"call\", \"call\", \"call\", \"call\", \"call\", \"call\", \"call\", \"call\", \"campaign\", \"campaign\", \"campaign\", \"campaign\", \"campaign\", \"campaign\", \"car\", \"car\", \"car\", \"car\", \"car\", \"care\", \"care\", \"care\", \"care\", \"case\", \"case\", \"case\", \"case\", \"case\", \"case\", \"case\", \"celebrate\", \"celebrate\", \"celebrate\", \"cent\", \"cent\", \"cent\", \"center\", \"center\", \"center\", \"center\", \"center\", \"champion\", \"champion\", \"chance\", \"chance\", \"chance\", \"chance\", \"charge\", \"charge\", \"charge\", \"charge\", \"charge\", \"charge\", \"charge\", \"charge\", \"child\", \"child\", \"child\", \"china\", \"china\", \"china\", \"city\", \"city\", \"city\", \"city\", \"city\", \"city\", \"city\", \"claim\", \"claim\", \"claim\", \"claim\", \"claim\", \"claim\", \"class\", \"class\", \"class\", \"class\", \"class\", \"clear\", \"clear\", \"clear\", \"clear\", \"clear\", \"clear\", \"clear\", \"clear\", \"clear\", \"club\", \"club\", \"club\", \"club\", \"coach\", \"coach\", \"college\", \"college\", \"college\", \"college\", \"come\", \"come\", \"come\", \"come\", \"come\", \"come\", \"come\", \"come\", \"come\", \"committee\", \"committee\", \"committee\", \"community\", \"community\", \"community\", \"company\", \"company\", \"company\", \"company\", \"company\", \"compare\", \"compare\", \"compare\", \"compare\", \"compare\", \"council\", \"council\", \"country\", \"country\", \"country\", \"country\", \"country\", \"country\", \"country\", \"county\", \"county\", \"county\", \"county\", \"court\", \"court\", \"court\", \"court\", \"create\", \"create\", \"create\", \"create\", \"create\", \"create\", \"create\", \"cup\", \"customer\", \"customer\", \"customer\", \"customer\", \"datum\", \"datum\", \"datum\", \"day\", \"day\", \"day\", \"day\", \"day\", \"day\", \"day\", \"day\", \"day\", \"day\", \"dead\", \"dead\", \"death\", \"death\", \"december\", \"december\", \"december\", \"december\", \"december\", \"december\", \"deny\", \"deny\", \"deny\", \"deny\", \"department\", \"department\", \"department\", \"department\", \"department\", \"design\", \"design\", \"design\", \"design\", \"develop\", \"develop\", \"develop\", \"develop\", \"develop\", \"development\", \"development\", \"development\", \"development\", \"development\", \"die\", \"die\", \"die\", \"display\", \"display\", \"display\", \"display\", \"display\", \"district\", \"district\", \"district\", \"district\", \"district\", \"dollar\", \"dollar\", \"dollar\", \"dollar\", \"donald\", \"dr\", \"dr\", \"dr\", \"dr\", \"dr\", \"drive\", \"drive\", \"drive\", \"drive\", \"drive\", \"drive\", \"drive\", \"driver\", \"driver\", \"driver\", \"drug\", \"drug\", \"east\", \"east\", \"east\", \"east\", \"east\", \"east\", \"economy\", \"economy\", \"economy\", \"education\", \"education\", \"education\", \"election\", \"email\", \"email\", \"email\", \"email\", \"email\", \"email\", \"email\", \"employee\", \"employee\", \"employee\", \"employee\", \"end\", \"end\", \"end\", \"end\", \"end\", \"end\", \"end\", \"end\", \"energy\", \"energy\", \"energy\", \"energy\", \"ensure\", \"ensure\", \"ensure\", \"ensure\", \"ensure\", \"estimate\", \"estimate\", \"estimate\", \"estimate\", \"european\", \"european\", \"european\", \"event\", \"event\", \"event\", \"event\", \"event\", \"exist\", \"exist\", \"exist\", \"exist\", \"expect\", \"expect\", \"expect\", \"expect\", \"expect\", \"expect\", \"expect\", \"expect\", \"expert\", \"expert\", \"expert\", \"expert\", \"family\", \"family\", \"family\", \"family\", \"father\", \"father\", \"father\", \"father\", \"feature\", \"feature\", \"feature\", \"feature\", \"federal\", \"federal\", \"federal\", \"feel\", \"feel\", \"feel\", \"feel\", \"feel\", \"file\", \"file\", \"file\", \"file\", \"film\", \"final\", \"final\", \"final\", \"final\", \"final\", \"final\", \"final\", \"financial\", \"financial\", \"financial\", \"financial\", \"financial\", \"find\", \"find\", \"find\", \"find\", \"find\", \"find\", \"find\", \"find\", \"find\", \"finish\", \"finish\", \"finish\", \"finish\", \"finish\", \"fire\", \"fire\", \"fire\", \"firm\", \"firm\", \"firm\", \"firm\", \"firm\", \"food\", \"food\", \"food\", \"food\", \"food\", \"football\", \"football\", \"football\", \"foreign\", \"foreign\", \"free\", \"free\", \"free\", \"free\", \"free\", \"free\", \"free\", \"friday\", \"friday\", \"friday\", \"friday\", \"friday\", \"friday\", \"friday\", \"friday\", \"friend\", \"friend\", \"friend\", \"fund\", \"fund\", \"fund\", \"fund\", \"fund\", \"gain\", \"gain\", \"gain\", \"gain\", \"gain\", \"game\", \"game\", \"get\", \"get\", \"get\", \"get\", \"get\", \"get\", \"global\", \"global\", \"global\", \"go\", \"go\", \"go\", \"go\", \"go\", \"go\", \"go\", \"go\", \"goal\", \"goal\", \"goal\", \"good\", \"good\", \"good\", \"good\", \"good\", \"good\", \"good\", \"government\", \"government\", \"government\", \"grant\", \"grant\", \"grant\", \"grant\", \"grant\", \"great\", \"great\", \"great\", \"great\", \"great\", \"great\", \"great\", \"group\", \"group\", \"group\", \"group\", \"group\", \"group\", \"group\", \"group\", \"group\", \"growth\", \"growth\", \"happy\", \"happy\", \"happy\", \"health\", \"health\", \"help\", \"help\", \"help\", \"help\", \"help\", \"help\", \"help\", \"help\", \"high\", \"high\", \"high\", \"high\", \"high\", \"high\", \"high\", \"high\", \"hit\", \"hit\", \"hit\", \"hit\", \"hit\", \"hit\", \"hit\", \"hold\", \"hold\", \"hold\", \"hold\", \"hold\", \"hold\", \"hold\", \"hold\", \"hold\", \"home\", \"home\", \"home\", \"home\", \"home\", \"home\", \"home\", \"home\", \"hospital\", \"hospital\", \"house\", \"house\", \"house\", \"house\", \"house\", \"house\", \"house\", \"image\", \"image\", \"image\", \"image\", \"image\", \"inbox\", \"inbox\", \"incident\", \"incident\", \"include\", \"include\", \"include\", \"include\", \"include\", \"include\", \"include\", \"include\", \"include\", \"include\", \"increase\", \"increase\", \"increase\", \"increase\", \"increase\", \"increase\", \"industry\", \"industry\", \"industry\", \"information\", \"information\", \"information\", \"information\", \"information\", \"information\", \"information\", \"injure\", \"injure\", \"injury\", \"injury\", \"inside\", \"inside\", \"inside\", \"inside\", \"inside\", \"invalid\", \"investigation\", \"investigation\", \"investigation\", \"investment\", \"investment\", \"judge\", \"judge\", \"judge\", \"july\", \"july\", \"july\", \"july\", \"july\", \"june\", \"june\", \"june\", \"june\", \"justice\", \"justice\", \"kill\", \"kill\", \"kill\", \"kill\", \"kind\", \"kind\", \"kind\", \"kind\", \"kind\", \"know\", \"know\", \"know\", \"know\", \"know\", \"know\", \"know\", \"know\", \"know\", \"launch\", \"launch\", \"launch\", \"launch\", \"launch\", \"launch\", \"launch\", \"launch\", \"law\", \"law\", \"law\", \"law\", \"lead\", \"lead\", \"lead\", \"lead\", \"lead\", \"lead\", \"lead\", \"lead\", \"lead\", \"leader\", \"leader\", \"leader\", \"league\", \"league\", \"leave\", \"leave\", \"leave\", \"leave\", \"leave\", \"leave\", \"leave\", \"legal\", \"legal\", \"legal\", \"legal\", \"let\", \"let\", \"let\", \"let\", \"let\", \"let\", \"life\", \"life\", \"life\", \"life\", \"life\", \"like\", \"like\", \"like\", \"like\", \"like\", \"like\", \"like\", \"like\", \"little\", \"little\", \"little\", \"little\", \"little\", \"little\", \"little\", \"little\", \"little\", \"ll\", \"ll\", \"local\", \"local\", \"local\", \"local\", \"local\", \"local\", \"local\", \"location\", \"location\", \"location\", \"location\", \"location\", \"location\", \"london\", \"london\", \"london\", \"london\", \"london\", \"london\", \"london\", \"look\", \"look\", \"look\", \"look\", \"look\", \"look\", \"look\", \"look\", \"look\", \"lot\", \"lot\", \"lot\", \"lot\", \"lot\", \"lot\", \"love\", \"love\", \"love\", \"low\", \"low\", \"man\", \"man\", \"man\", \"man\", \"man\", \"management\", \"management\", \"management\", \"management\", \"march\", \"march\", \"march\", \"march\", \"march\", \"march\", \"march\", \"march\", \"market\", \"match\", \"match\", \"match\", \"material\", \"material\", \"material\", \"material\", \"material\", \"material\", \"material\", \"maybe\", \"maybe\", \"medical\", \"medical\", \"medical\", \"medical\", \"meeting\", \"meeting\", \"meeting\", \"meeting\", \"meeting\", \"member\", \"member\", \"member\", \"member\", \"member\", \"member\", \"million\", \"million\", \"million\", \"million\", \"million\", \"mind\", \"mind\", \"mind\", \"minister\", \"minute\", \"minute\", \"minute\", \"minute\", \"moment\", \"moment\", \"moment\", \"moment\", \"monday\", \"monday\", \"monday\", \"monday\", \"monday\", \"monday\", \"monday\", \"month\", \"month\", \"month\", \"month\", \"month\", \"month\", \"month\", \"month\", \"month\", \"morning\", \"morning\", \"morning\", \"morning\", \"morning\", \"music\", \"music\", \"music\", \"nation\", \"nation\", \"nation\", \"nation\", \"nation\", \"nation\", \"national\", \"national\", \"national\", \"national\", \"national\", \"national\", \"national\", \"national\", \"national\", \"near\", \"near\", \"near\", \"near\", \"near\", \"near\", \"need\", \"need\", \"need\", \"need\", \"need\", \"need\", \"need\", \"new\", \"new\", \"new\", \"new\", \"new\", \"new\", \"new\", \"new\", \"new\", \"news\", \"news\", \"news\", \"news\", \"news\", \"news\", \"news\", \"night\", \"night\", \"night\", \"night\", \"night\", \"north\", \"north\", \"north\", \"north\", \"north\", \"north\", \"nt\", \"nt\", \"nt\", \"nt\", \"nt\", \"nt\", \"nt\", \"october\", \"october\", \"october\", \"october\", \"october\", \"offer\", \"offer\", \"offer\", \"offer\", \"offer\", \"offer\", \"offer\", \"offer\", \"office\", \"office\", \"office\", \"office\", \"office\", \"office\", \"office\", \"officer\", \"officer\", \"officer\", \"officer\", \"official\", \"official\", \"official\", \"official\", \"official\", \"official\", \"online\", \"online\", \"online\", \"online\", \"online\", \"online\", \"online\", \"open\", \"open\", \"open\", \"open\", \"open\", \"open\", \"open\", \"open\", \"open\", \"operate\", \"operate\", \"operate\", \"operate\", \"operation\", \"operation\", \"operation\", \"operation\", \"order\", \"order\", \"order\", \"order\", \"order\", \"order\", \"order\", \"order\", \"parent\", \"parent\", \"park\", \"park\", \"park\", \"park\", \"park\", \"party\", \"party\", \"party\", \"pay\", \"pay\", \"pay\", \"pay\", \"pay\", \"pay\", \"people\", \"people\", \"people\", \"people\", \"people\", \"people\", \"percent\", \"percent\", \"percent\", \"percent\", \"perform\", \"perform\", \"perform\", \"perform\", \"perform\", \"phone\", \"phone\", \"phone\", \"phone\", \"photo\", \"photo\", \"photo\", \"photo\", \"photo\", \"photo\", \"photo\", \"picture\", \"picture\", \"picture\", \"picture\", \"picture\", \"plan\", \"plan\", \"plan\", \"plan\", \"plan\", \"plan\", \"plan\", \"play\", \"play\", \"play\", \"play\", \"play\", \"play\", \"player\", \"player\", \"player\", \"pm\", \"pm\", \"pm\", \"point\", \"point\", \"point\", \"point\", \"point\", \"point\", \"point\", \"point\", \"point\", \"police\", \"policy\", \"policy\", \"policy\", \"policy\", \"policy\", \"political\", \"political\", \"political\", \"power\", \"power\", \"power\", \"power\", \"power\", \"power\", \"president\", \"president\", \"president\", \"pretty\", \"pretty\", \"price\", \"price\", \"prime\", \"prime\", \"prime\", \"probably\", \"produce\", \"produce\", \"produce\", \"produce\", \"produce\", \"produce\", \"produce\", \"product\", \"product\", \"product\", \"program\", \"program\", \"program\", \"program\", \"program\", \"project\", \"project\", \"project\", \"project\", \"project\", \"provide\", \"provide\", \"provide\", \"provide\", \"provide\", \"provide\", \"provide\", \"provide\", \"public\", \"public\", \"public\", \"public\", \"public\", \"public\", \"quarter\", \"quarter\", \"race\", \"race\", \"race\", \"race\", \"race\", \"rate\", \"rate\", \"rate\", \"release\", \"release\", \"release\", \"release\", \"release\", \"release\", \"release\", \"release\", \"remember\", \"remember\", \"remember\", \"report\", \"report\", \"report\", \"report\", \"report\", \"report\", \"reporter\", \"reporter\", \"reporter\", \"reporter\", \"reporter\", \"request\", \"request\", \"request\", \"request\", \"request\", \"request\", \"research\", \"research\", \"research\", \"resident\", \"resident\", \"resident\", \"right\", \"right\", \"right\", \"right\", \"right\", \"right\", \"right\", \"right\", \"rise\", \"rise\", \"rise\", \"rise\", \"rise\", \"rise\", \"road\", \"road\", \"road\", \"road\", \"round\", \"rule\", \"rule\", \"rule\", \"rule\", \"rule\", \"run\", \"run\", \"run\", \"run\", \"run\", \"run\", \"run\", \"run\", \"safe\", \"safe\", \"safe\", \"safe\", \"safe\", \"safe\", \"sale\", \"sale\", \"sale\", \"san\", \"san\", \"san\", \"saturday\", \"saturday\", \"saturday\", \"saturday\", \"saturday\", \"say\", \"say\", \"say\", \"say\", \"say\", \"say\", \"say\", \"say\", \"say\", \"scene\", \"scene\", \"scene\", \"schedule\", \"schedule\", \"schedule\", \"schedule\", \"schedule\", \"schedule\", \"school\", \"school\", \"school\", \"school\", \"score\", \"search\", \"search\", \"search\", \"search\", \"search\", \"season\", \"season\", \"season\", \"second\", \"second\", \"second\", \"second\", \"second\", \"second\", \"second\", \"second\", \"secretary\", \"secretary\", \"security\", \"security\", \"security\", \"security\", \"security\", \"sell\", \"sell\", \"sell\", \"sell\", \"series\", \"series\", \"series\", \"service\", \"service\", \"service\", \"service\", \"service\", \"service\", \"share\", \"share\", \"share\", \"share\", \"share\", \"share\", \"shoot\", \"shoot\", \"shoot\", \"shoot\", \"shoot\", \"site\", \"site\", \"site\", \"site\", \"social\", \"social\", \"social\", \"social\", \"social\", \"social\", \"solution\", \"solution\", \"solution\", \"solution\", \"south\", \"south\", \"south\", \"south\", \"south\", \"south\", \"south\", \"space\", \"space\", \"space\", \"space\", \"sport\", \"sport\", \"sport\", \"sport\", \"st\", \"st\", \"st\", \"standard\", \"standard\", \"standard\", \"standard\", \"standard\", \"standard\", \"star\", \"star\", \"star\", \"start\", \"start\", \"start\", \"start\", \"start\", \"start\", \"start\", \"start\", \"start\", \"state\", \"state\", \"state\", \"state\", \"state\", \"state\", \"statement\", \"statement\", \"statement\", \"statement\", \"statement\", \"states\", \"states\", \"states\", \"states\", \"states\", \"stock\", \"store\", \"store\", \"store\", \"store\", \"story\", \"story\", \"story\", \"story\", \"story\", \"story\", \"straight\", \"straight\", \"street\", \"street\", \"street\", \"street\", \"street\", \"street\", \"street\", \"student\", \"study\", \"study\", \"study\", \"subscribe\", \"subscribe\", \"sunday\", \"sunday\", \"sunday\", \"sunday\", \"sunday\", \"supply\", \"supply\", \"supply\", \"supply\", \"supply\", \"support\", \"support\", \"support\", \"support\", \"support\", \"support\", \"support\", \"support\", \"sure\", \"sure\", \"sure\", \"sure\", \"sure\", \"suspect\", \"suspect\", \"system\", \"system\", \"system\", \"system\", \"take\", \"take\", \"take\", \"take\", \"take\", \"take\", \"take\", \"take\", \"take\", \"team\", \"team\", \"team\", \"team\", \"team\", \"team\", \"team\", \"technology\", \"technology\", \"technology\", \"tell\", \"tell\", \"tell\", \"tell\", \"tell\", \"thing\", \"thing\", \"thing\", \"thing\", \"thing\", \"think\", \"think\", \"think\", \"think\", \"think\", \"think\", \"threat\", \"threat\", \"threat\", \"threat\", \"threat\", \"thursday\", \"thursday\", \"thursday\", \"thursday\", \"thursday\", \"time\", \"time\", \"time\", \"time\", \"time\", \"time\", \"time\", \"time\", \"time\", \"time\", \"title\", \"title\", \"title\", \"title\", \"title\", \"title\", \"trade\", \"trade\", \"trade\", \"treat\", \"treat\", \"treat\", \"treat\", \"treat\", \"true\", \"true\", \"true\", \"trump\", \"try\", \"try\", \"try\", \"try\", \"try\", \"try\", \"try\", \"tuesday\", \"tuesday\", \"tuesday\", \"tuesday\", \"tuesday\", \"tuesday\", \"tuesday\", \"tv\", \"tv\", \"tv\", \"tv\", \"union\", \"union\", \"union\", \"union\", \"united\", \"united\", \"united\", \"united\", \"university\", \"university\", \"university\", \"university\", \"use\", \"use\", \"use\", \"use\", \"use\", \"use\", \"use\", \"value\", \"value\", \"value\", \"value\", \"value\", \"ve\", \"ve\", \"ve\", \"vehicle\", \"vehicle\", \"victim\", \"victim\", \"victim\", \"victory\", \"victory\", \"visit\", \"visit\", \"visit\", \"visit\", \"visit\", \"visit\", \"visit\", \"vote\", \"vote\", \"want\", \"want\", \"want\", \"want\", \"want\", \"want\", \"want\", \"war\", \"war\", \"war\", \"washington\", \"washington\", \"washington\", \"washington\", \"watch\", \"watch\", \"watch\", \"watch\", \"watch\", \"watch\", \"watch\", \"water\", \"water\", \"water\", \"water\", \"water\", \"way\", \"way\", \"way\", \"way\", \"way\", \"way\", \"way\", \"wear\", \"wear\", \"wear\", \"website\", \"website\", \"website\", \"website\", \"wednesday\", \"wednesday\", \"wednesday\", \"wednesday\", \"wednesday\", \"wednesday\", \"wednesday\", \"white\", \"white\", \"white\", \"white\", \"white\", \"win\", \"win\", \"win\", \"win\", \"wo\", \"wo\", \"wo\", \"wo\", \"wo\", \"woman\", \"woman\", \"woman\", \"woman\", \"woman\", \"work\", \"work\", \"work\", \"work\", \"work\", \"work\", \"work\", \"work\", \"worker\", \"worker\", \"worker\", \"wrong\", \"wrong\", \"wrong\", \"wrong\", \"wrong\", \"year\", \"year\", \"year\", \"year\", \"year\", \"year\", \"year\", \"year\", \"year\", \"york\", \"york\", \"york\", \"york\", \"york\", \"york\", \"york\", \"york\", \"york\"]}, \"R\": 30, \"lambda.step\": 0.01, \"plot.opts\": {\"xlab\": \"PC1\", \"ylab\": \"PC2\"}, \"topic.order\": [6, 10, 4, 1, 9, 3, 2, 5, 7, 8]};\n",
       "\n",
       "function LDAvis_load_lib(url, callback){\n",
       "  var s = document.createElement('script');\n",
       "  s.src = url;\n",
       "  s.async = true;\n",
       "  s.onreadystatechange = s.onload = callback;\n",
       "  s.onerror = function(){console.warn(\"failed to load library \" + url);};\n",
       "  document.getElementsByTagName(\"head\")[0].appendChild(s);\n",
       "}\n",
       "\n",
       "if(typeof(LDAvis) !== \"undefined\"){\n",
       "   // already loaded: just create the visualization\n",
       "   !function(LDAvis){\n",
       "       new LDAvis(\"#\" + \"ldavis_el2196821398233756966087167909429\", ldavis_el2196821398233756966087167909429_data);\n",
       "   }(LDAvis);\n",
       "}else if(typeof define === \"function\" && define.amd){\n",
       "   // require.js is available: use it to load d3/LDAvis\n",
       "   require.config({paths: {d3: \"https://d3js.org/d3.v5\"}});\n",
       "   require([\"d3\"], function(d3){\n",
       "      window.d3 = d3;\n",
       "      LDAvis_load_lib(\"https://cdn.jsdelivr.net/gh/bmabey/pyLDAvis@3.3.1/pyLDAvis/js/ldavis.v3.0.0.js\", function(){\n",
       "        new LDAvis(\"#\" + \"ldavis_el2196821398233756966087167909429\", ldavis_el2196821398233756966087167909429_data);\n",
       "      });\n",
       "    });\n",
       "}else{\n",
       "    // require.js not available: dynamically load d3 & LDAvis\n",
       "    LDAvis_load_lib(\"https://d3js.org/d3.v5.js\", function(){\n",
       "         LDAvis_load_lib(\"https://cdn.jsdelivr.net/gh/bmabey/pyLDAvis@3.3.1/pyLDAvis/js/ldavis.v3.0.0.js\", function(){\n",
       "                 new LDAvis(\"#\" + \"ldavis_el2196821398233756966087167909429\", ldavis_el2196821398233756966087167909429_data);\n",
       "            })\n",
       "         });\n",
       "}\n",
       "</script>"
      ],
      "text/plain": [
       "PreparedData(topic_coordinates=              x         y  topics  cluster       Freq\n",
       "topic                                                \n",
       "5      0.131315 -0.090645       1        1  22.990900\n",
       "9      0.119530  0.134108       2        1  11.553173\n",
       "3      0.015169 -0.147727       3        1  10.650214\n",
       "0      0.097767 -0.037573       4        1  10.063752\n",
       "8      0.086538 -0.008237       5        1   9.556776\n",
       "2     -0.007941  0.219714       6        1   9.422014\n",
       "1      0.032074 -0.187741       7        1   8.306085\n",
       "4      0.105890  0.140082       8        1   8.085835\n",
       "6     -0.130911 -0.045354       9        1   6.013631\n",
       "7     -0.449432  0.023372      10        1   3.357620, topic_info=          Term         Freq        Total Category  logprob  loglift\n",
       "422        low  1669.000000  1669.000000  Default  30.0000  30.0000\n",
       "333       high  2090.000000  2090.000000  Default  29.0000  29.0000\n",
       "624        say  9527.000000  9527.000000  Default  28.0000  28.0000\n",
       "433     market  1685.000000  1685.000000  Default  27.0000  27.0000\n",
       "305       game  1788.000000  1788.000000  Default  26.0000  26.0000\n",
       "..         ...          ...          ...      ...      ...      ...\n",
       "663      south   263.735634   788.332653  Topic10  -4.0170   2.2990\n",
       "737    tuesday   274.175565   824.004163  Topic10  -3.9782   2.2935\n",
       "768  wednesday   269.561501   872.639954  Topic10  -3.9952   2.2192\n",
       "459    morning   150.819255   517.072133  Topic10  -4.5759   2.1618\n",
       "523         pm   200.153058   798.707483  Topic10  -4.2929   2.0100\n",
       "\n",
       "[476 rows x 6 columns], token_table=      Topic      Freq  Term\n",
       "term                       \n",
       "0         1  0.012941    10\n",
       "0         2  0.077647    10\n",
       "0         3  0.055359    10\n",
       "0         4  0.007908    10\n",
       "0         5  0.015817    10\n",
       "...     ...       ...   ...\n",
       "787       5  0.175540  york\n",
       "787       6  0.079949  york\n",
       "787       7  0.029546  york\n",
       "787       9  0.424077  york\n",
       "787      10  0.019118  york\n",
       "\n",
       "[1885 rows x 3 columns], R=30, lambda_step=0.01, plot_opts={'xlab': 'PC1', 'ylab': 'PC2'}, topic_order=[6, 10, 4, 1, 9, 3, 2, 5, 7, 8])"
      ]
     },
     "execution_count": 73,
     "metadata": {},
     "output_type": "execute_result"
    }
   ],
   "source": [
    "pyLDAvis.sklearn.prepare(lda_model, bow, vectorizer)"
   ]
  },
  {
   "cell_type": "markdown",
   "id": "e13ebe2b-7cf9-4f9d-a085-2ed6d94c3f28",
   "metadata": {},
   "source": [
    "## 7. Summary"
   ]
  },
  {
   "cell_type": "markdown",
   "id": "a6c11d17-90cc-4032-a00d-7e45b2c8bd23",
   "metadata": {},
   "source": [
    "Blind Spots\n",
    "\n",
    "With additional time we could have,\n",
    "1. Further tweak the parameters of the vectorizers and models;\n",
    "2. Create visualizations of both, the best topics and the document similarity to find more interesting patters;\n",
    "3. Take the title of an article out of the body of the article to create a better, less bias representation of the words within a document;\n",
    "4. Using Pytorch's nn.CosineSimilarity would help a lot with increasing the efficiency of our recommendation system;\n",
    "5. There should have been a lemmatization step in the preprocessing stage.\n",
    "\n",
    "Takeaways,\n",
    "1. Recommendation systems and topic modeling are both unsupervised methods;\n",
    "2. Recommendation systems can be created with or without users behavioural data;\n",
    "3. Topic modeling compresses the data into the most important and meaninful words set by you;\n",
    "4. Creating bags of words requires careful attention to the parameters;\n",
    "5. Where possible, showcase a model or system in a mini-dashboard or data visualization."
   ]
  }
 ],
 "metadata": {
  "kernelspec": {
   "display_name": "Python 3 (ipykernel)",
   "language": "python",
   "name": "python3"
  },
  "language_info": {
   "codemirror_mode": {
    "name": "ipython",
    "version": 3
   },
   "file_extension": ".py",
   "mimetype": "text/x-python",
   "name": "python",
   "nbconvert_exporter": "python",
   "pygments_lexer": "ipython3",
   "version": "3.9.7"
  }
 },
 "nbformat": 4,
 "nbformat_minor": 5
}
